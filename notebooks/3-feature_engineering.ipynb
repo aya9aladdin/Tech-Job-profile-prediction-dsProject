{
 "cells": [
  {
   "cell_type": "code",
   "execution_count": 281,
   "metadata": {},
   "outputs": [],
   "source": [
    "import pandas as pd\n",
    "import numpy as np\n",
    "import plotly.express as px\n",
    "# Load packages\n",
    "import logging\n",
    "import pickle\n",
    "import os\n",
    "import sklearn\n",
    "import plotly.graph_objects as go\n",
    "from plotly.subplots import make_subplots\n",
    "import plotly.express as px\n",
    "import plotly.figure_factory as ff\n",
    "\n",
    "from sklearn.manifold import TSNE\n",
    "from sklearn.preprocessing import MultiLabelBinarizer\n",
    "from sklearn.preprocessing import StandardScaler\n",
    "from sklearn.preprocessing import RobustScaler\n",
    "from sklearn.preprocessing import MinMaxScaler\n",
    "from sklearn.pipeline import make_pipeline\n",
    "from sklearn.cluster import AgglomerativeClustering\n",
    "\n",
    "from matplotlib import pyplot as plt\n",
    "from scipy.cluster.hierarchy import dendrogram\n",
    "from sklearn.metrics import silhouette_score\n",
    "from sklearn.cluster import KMeans, DBSCAN\n",
    "from sklearn.metrics import calinski_harabasz_score\n",
    "from sklearn.metrics import davies_bouldin_score\n"
   ]
  },
  {
   "cell_type": "code",
   "execution_count": 282,
   "metadata": {},
   "outputs": [],
   "source": [
    "PATH = '../data/processed/encoded_df.pkl'\n"
   ]
  },
  {
   "cell_type": "code",
   "execution_count": 283,
   "metadata": {},
   "outputs": [],
   "source": [
    "encoded_df = pd.read_pickle(PATH)\n"
   ]
  },
  {
   "cell_type": "code",
   "execution_count": 284,
   "metadata": {},
   "outputs": [
    {
     "data": {
      "text/html": [
       "<div>\n",
       "<style scoped>\n",
       "    .dataframe tbody tr th:only-of-type {\n",
       "        vertical-align: middle;\n",
       "    }\n",
       "\n",
       "    .dataframe tbody tr th {\n",
       "        vertical-align: top;\n",
       "    }\n",
       "\n",
       "    .dataframe thead tr th {\n",
       "        text-align: left;\n",
       "    }\n",
       "</style>\n",
       "<table border=\"1\" class=\"dataframe\">\n",
       "  <thead>\n",
       "    <tr>\n",
       "      <th></th>\n",
       "      <th colspan=\"10\" halign=\"left\">DevType</th>\n",
       "      <th>...</th>\n",
       "      <th colspan=\"10\" halign=\"left\">Developer Tools</th>\n",
       "    </tr>\n",
       "    <tr>\n",
       "      <th></th>\n",
       "      <th>Academic researcher</th>\n",
       "      <th>Blockchain</th>\n",
       "      <th>Cloud infrastructure engineer</th>\n",
       "      <th>Data or business analyst</th>\n",
       "      <th>Data scientist or machine learning specialist</th>\n",
       "      <th>Database administrator</th>\n",
       "      <th>DevOps specialist</th>\n",
       "      <th>Developer, QA or test</th>\n",
       "      <th>Developer, back-end</th>\n",
       "      <th>Developer, desktop or enterprise applications</th>\n",
       "      <th>...</th>\n",
       "      <th>bandit</th>\n",
       "      <th>build2</th>\n",
       "      <th>cppunit</th>\n",
       "      <th>doctest</th>\n",
       "      <th>lest</th>\n",
       "      <th>liblittletest</th>\n",
       "      <th>npm</th>\n",
       "      <th>pnpm</th>\n",
       "      <th>snitch</th>\n",
       "      <th>tunit</th>\n",
       "    </tr>\n",
       "  </thead>\n",
       "  <tbody>\n",
       "    <tr>\n",
       "      <th>0</th>\n",
       "      <td>0</td>\n",
       "      <td>0</td>\n",
       "      <td>0</td>\n",
       "      <td>0</td>\n",
       "      <td>0</td>\n",
       "      <td>0</td>\n",
       "      <td>0</td>\n",
       "      <td>0</td>\n",
       "      <td>1</td>\n",
       "      <td>0</td>\n",
       "      <td>...</td>\n",
       "      <td>0</td>\n",
       "      <td>0</td>\n",
       "      <td>0</td>\n",
       "      <td>0</td>\n",
       "      <td>0</td>\n",
       "      <td>0</td>\n",
       "      <td>0</td>\n",
       "      <td>0</td>\n",
       "      <td>0</td>\n",
       "      <td>0</td>\n",
       "    </tr>\n",
       "    <tr>\n",
       "      <th>1</th>\n",
       "      <td>0</td>\n",
       "      <td>0</td>\n",
       "      <td>0</td>\n",
       "      <td>0</td>\n",
       "      <td>0</td>\n",
       "      <td>0</td>\n",
       "      <td>0</td>\n",
       "      <td>0</td>\n",
       "      <td>0</td>\n",
       "      <td>0</td>\n",
       "      <td>...</td>\n",
       "      <td>0</td>\n",
       "      <td>0</td>\n",
       "      <td>0</td>\n",
       "      <td>0</td>\n",
       "      <td>0</td>\n",
       "      <td>0</td>\n",
       "      <td>1</td>\n",
       "      <td>0</td>\n",
       "      <td>0</td>\n",
       "      <td>0</td>\n",
       "    </tr>\n",
       "    <tr>\n",
       "      <th>2</th>\n",
       "      <td>0</td>\n",
       "      <td>0</td>\n",
       "      <td>0</td>\n",
       "      <td>0</td>\n",
       "      <td>0</td>\n",
       "      <td>0</td>\n",
       "      <td>0</td>\n",
       "      <td>0</td>\n",
       "      <td>0</td>\n",
       "      <td>0</td>\n",
       "      <td>...</td>\n",
       "      <td>0</td>\n",
       "      <td>0</td>\n",
       "      <td>0</td>\n",
       "      <td>0</td>\n",
       "      <td>0</td>\n",
       "      <td>0</td>\n",
       "      <td>1</td>\n",
       "      <td>0</td>\n",
       "      <td>0</td>\n",
       "      <td>0</td>\n",
       "    </tr>\n",
       "    <tr>\n",
       "      <th>3</th>\n",
       "      <td>0</td>\n",
       "      <td>0</td>\n",
       "      <td>0</td>\n",
       "      <td>0</td>\n",
       "      <td>0</td>\n",
       "      <td>0</td>\n",
       "      <td>0</td>\n",
       "      <td>0</td>\n",
       "      <td>1</td>\n",
       "      <td>0</td>\n",
       "      <td>...</td>\n",
       "      <td>0</td>\n",
       "      <td>0</td>\n",
       "      <td>0</td>\n",
       "      <td>0</td>\n",
       "      <td>0</td>\n",
       "      <td>0</td>\n",
       "      <td>1</td>\n",
       "      <td>1</td>\n",
       "      <td>0</td>\n",
       "      <td>0</td>\n",
       "    </tr>\n",
       "    <tr>\n",
       "      <th>8</th>\n",
       "      <td>0</td>\n",
       "      <td>0</td>\n",
       "      <td>0</td>\n",
       "      <td>0</td>\n",
       "      <td>0</td>\n",
       "      <td>0</td>\n",
       "      <td>0</td>\n",
       "      <td>0</td>\n",
       "      <td>0</td>\n",
       "      <td>1</td>\n",
       "      <td>...</td>\n",
       "      <td>0</td>\n",
       "      <td>0</td>\n",
       "      <td>0</td>\n",
       "      <td>0</td>\n",
       "      <td>0</td>\n",
       "      <td>0</td>\n",
       "      <td>0</td>\n",
       "      <td>0</td>\n",
       "      <td>0</td>\n",
       "      <td>0</td>\n",
       "    </tr>\n",
       "    <tr>\n",
       "      <th>...</th>\n",
       "      <td>...</td>\n",
       "      <td>...</td>\n",
       "      <td>...</td>\n",
       "      <td>...</td>\n",
       "      <td>...</td>\n",
       "      <td>...</td>\n",
       "      <td>...</td>\n",
       "      <td>...</td>\n",
       "      <td>...</td>\n",
       "      <td>...</td>\n",
       "      <td>...</td>\n",
       "      <td>...</td>\n",
       "      <td>...</td>\n",
       "      <td>...</td>\n",
       "      <td>...</td>\n",
       "      <td>...</td>\n",
       "      <td>...</td>\n",
       "      <td>...</td>\n",
       "      <td>...</td>\n",
       "      <td>...</td>\n",
       "      <td>...</td>\n",
       "    </tr>\n",
       "    <tr>\n",
       "      <th>64329</th>\n",
       "      <td>0</td>\n",
       "      <td>0</td>\n",
       "      <td>0</td>\n",
       "      <td>0</td>\n",
       "      <td>0</td>\n",
       "      <td>0</td>\n",
       "      <td>0</td>\n",
       "      <td>0</td>\n",
       "      <td>0</td>\n",
       "      <td>0</td>\n",
       "      <td>...</td>\n",
       "      <td>0</td>\n",
       "      <td>0</td>\n",
       "      <td>0</td>\n",
       "      <td>0</td>\n",
       "      <td>0</td>\n",
       "      <td>0</td>\n",
       "      <td>1</td>\n",
       "      <td>0</td>\n",
       "      <td>0</td>\n",
       "      <td>0</td>\n",
       "    </tr>\n",
       "    <tr>\n",
       "      <th>64331</th>\n",
       "      <td>0</td>\n",
       "      <td>0</td>\n",
       "      <td>0</td>\n",
       "      <td>0</td>\n",
       "      <td>0</td>\n",
       "      <td>0</td>\n",
       "      <td>0</td>\n",
       "      <td>0</td>\n",
       "      <td>0</td>\n",
       "      <td>0</td>\n",
       "      <td>...</td>\n",
       "      <td>0</td>\n",
       "      <td>0</td>\n",
       "      <td>0</td>\n",
       "      <td>0</td>\n",
       "      <td>0</td>\n",
       "      <td>0</td>\n",
       "      <td>0</td>\n",
       "      <td>0</td>\n",
       "      <td>0</td>\n",
       "      <td>0</td>\n",
       "    </tr>\n",
       "    <tr>\n",
       "      <th>64333</th>\n",
       "      <td>0</td>\n",
       "      <td>0</td>\n",
       "      <td>0</td>\n",
       "      <td>0</td>\n",
       "      <td>0</td>\n",
       "      <td>0</td>\n",
       "      <td>0</td>\n",
       "      <td>0</td>\n",
       "      <td>0</td>\n",
       "      <td>0</td>\n",
       "      <td>...</td>\n",
       "      <td>0</td>\n",
       "      <td>0</td>\n",
       "      <td>0</td>\n",
       "      <td>0</td>\n",
       "      <td>0</td>\n",
       "      <td>0</td>\n",
       "      <td>0</td>\n",
       "      <td>0</td>\n",
       "      <td>0</td>\n",
       "      <td>0</td>\n",
       "    </tr>\n",
       "    <tr>\n",
       "      <th>64335</th>\n",
       "      <td>0</td>\n",
       "      <td>0</td>\n",
       "      <td>0</td>\n",
       "      <td>0</td>\n",
       "      <td>0</td>\n",
       "      <td>0</td>\n",
       "      <td>0</td>\n",
       "      <td>0</td>\n",
       "      <td>1</td>\n",
       "      <td>0</td>\n",
       "      <td>...</td>\n",
       "      <td>0</td>\n",
       "      <td>0</td>\n",
       "      <td>0</td>\n",
       "      <td>0</td>\n",
       "      <td>0</td>\n",
       "      <td>0</td>\n",
       "      <td>0</td>\n",
       "      <td>0</td>\n",
       "      <td>0</td>\n",
       "      <td>0</td>\n",
       "    </tr>\n",
       "    <tr>\n",
       "      <th>64337</th>\n",
       "      <td>0</td>\n",
       "      <td>0</td>\n",
       "      <td>0</td>\n",
       "      <td>0</td>\n",
       "      <td>0</td>\n",
       "      <td>0</td>\n",
       "      <td>0</td>\n",
       "      <td>0</td>\n",
       "      <td>0</td>\n",
       "      <td>0</td>\n",
       "      <td>...</td>\n",
       "      <td>0</td>\n",
       "      <td>0</td>\n",
       "      <td>0</td>\n",
       "      <td>0</td>\n",
       "      <td>0</td>\n",
       "      <td>0</td>\n",
       "      <td>1</td>\n",
       "      <td>1</td>\n",
       "      <td>0</td>\n",
       "      <td>0</td>\n",
       "    </tr>\n",
       "  </tbody>\n",
       "</table>\n",
       "<p>48998 rows × 253 columns</p>\n",
       "</div>"
      ],
      "text/plain": [
       "                  DevType                                           \\\n",
       "      Academic researcher Blockchain Cloud infrastructure engineer   \n",
       "0                       0          0                             0   \n",
       "1                       0          0                             0   \n",
       "2                       0          0                             0   \n",
       "3                       0          0                             0   \n",
       "8                       0          0                             0   \n",
       "...                   ...        ...                           ...   \n",
       "64329                   0          0                             0   \n",
       "64331                   0          0                             0   \n",
       "64333                   0          0                             0   \n",
       "64335                   0          0                             0   \n",
       "64337                   0          0                             0   \n",
       "\n",
       "                                                                              \\\n",
       "      Data or business analyst Data scientist or machine learning specialist   \n",
       "0                            0                                             0   \n",
       "1                            0                                             0   \n",
       "2                            0                                             0   \n",
       "3                            0                                             0   \n",
       "8                            0                                             0   \n",
       "...                        ...                                           ...   \n",
       "64329                        0                                             0   \n",
       "64331                        0                                             0   \n",
       "64333                        0                                             0   \n",
       "64335                        0                                             0   \n",
       "64337                        0                                             0   \n",
       "\n",
       "                                                                      \\\n",
       "      Database administrator DevOps specialist Developer, QA or test   \n",
       "0                          0                 0                     0   \n",
       "1                          0                 0                     0   \n",
       "2                          0                 0                     0   \n",
       "3                          0                 0                     0   \n",
       "8                          0                 0                     0   \n",
       "...                      ...               ...                   ...   \n",
       "64329                      0                 0                     0   \n",
       "64331                      0                 0                     0   \n",
       "64333                      0                 0                     0   \n",
       "64335                      0                 0                     0   \n",
       "64337                      0                 0                     0   \n",
       "\n",
       "                                                                         ...  \\\n",
       "      Developer, back-end Developer, desktop or enterprise applications  ...   \n",
       "0                       1                                             0  ...   \n",
       "1                       0                                             0  ...   \n",
       "2                       0                                             0  ...   \n",
       "3                       1                                             0  ...   \n",
       "8                       0                                             1  ...   \n",
       "...                   ...                                           ...  ...   \n",
       "64329                   0                                             0  ...   \n",
       "64331                   0                                             0  ...   \n",
       "64333                   0                                             0  ...   \n",
       "64335                   1                                             0  ...   \n",
       "64337                   0                                             0  ...   \n",
       "\n",
       "      Developer Tools                                                     \\\n",
       "               bandit build2 cppunit doctest lest liblittletest npm pnpm   \n",
       "0                   0      0       0       0    0             0   0    0   \n",
       "1                   0      0       0       0    0             0   1    0   \n",
       "2                   0      0       0       0    0             0   1    0   \n",
       "3                   0      0       0       0    0             0   1    1   \n",
       "8                   0      0       0       0    0             0   0    0   \n",
       "...               ...    ...     ...     ...  ...           ...  ..  ...   \n",
       "64329               0      0       0       0    0             0   1    0   \n",
       "64331               0      0       0       0    0             0   0    0   \n",
       "64333               0      0       0       0    0             0   0    0   \n",
       "64335               0      0       0       0    0             0   0    0   \n",
       "64337               0      0       0       0    0             0   1    1   \n",
       "\n",
       "                    \n",
       "      snitch tunit  \n",
       "0          0     0  \n",
       "1          0     0  \n",
       "2          0     0  \n",
       "3          0     0  \n",
       "8          0     0  \n",
       "...      ...   ...  \n",
       "64329      0     0  \n",
       "64331      0     0  \n",
       "64333      0     0  \n",
       "64335      0     0  \n",
       "64337      0     0  \n",
       "\n",
       "[48998 rows x 253 columns]"
      ]
     },
     "execution_count": 284,
     "metadata": {},
     "output_type": "execute_result"
    }
   ],
   "source": [
    "encoded_df"
   ]
  },
  {
   "cell_type": "markdown",
   "metadata": {},
   "source": [
    "## Clustering Back-end and Full-Stack Developers into subgroups\n",
    "- Back-end and Full-Stack Developers are the most common types of developers in the survey. We will try to cluster them into subgroups (C#, python, Java developer etc.) based on their skills."
   ]
  },
  {
   "cell_type": "code",
   "execution_count": 285,
   "metadata": {},
   "outputs": [
    {
     "data": {
      "application/vnd.plotly.v1+json": {
       "config": {
        "plotlyServerURL": "https://plot.ly"
       },
       "data": [
        {
         "hovertemplate": "x=%{x}<br>y=%{y}<br>text=%{text}<extra></extra>",
         "legendgroup": "",
         "marker": {
          "color": "#636efa",
          "symbol": "circle"
         },
         "mode": "markers+text",
         "name": "",
         "orientation": "v",
         "showlegend": false,
         "text": [
          "APL",
          "Ada",
          "Apex",
          "Assembly",
          "Bash/Shell (all shells)",
          "C",
          "C#",
          "C++",
          "Clojure",
          "Cobol",
          "Crystal",
          "Dart",
          "Delphi",
          "Elixir",
          "Erlang",
          "F#",
          "Flow",
          "Fortran",
          "GDScript",
          "Go",
          "Groovy",
          "HTML/CSS",
          "Haskell",
          "Java",
          "JavaScript",
          "Julia",
          "Kotlin",
          "Lisp",
          "Lua",
          "MATLAB",
          "Nim",
          "OCaml",
          "Objective-C",
          "PHP",
          "Perl",
          "PowerShell",
          "Prolog",
          "Python",
          "R",
          "Raku",
          "Ruby",
          "Rust",
          "SAS",
          "SQL",
          "Scala",
          "Solidity",
          "Swift",
          "TypeScript",
          "VBA",
          "Visual Basic (.Net)",
          "Zig",
          "Amazon Web Services (AWS)",
          "Cloudflare",
          "Colocation",
          "Digital Ocean",
          "Firebase",
          "Fly.io",
          "Google Cloud",
          "Heroku",
          "Hetzner",
          "IBM Cloud Or Watson",
          "Linode, now Akamai",
          "Managed Hosting",
          "Microsoft Azure",
          "Netlify",
          "OVH",
          "OpenShift",
          "OpenStack",
          "Oracle Cloud Infrastructure (OCI)",
          "Render",
          "Scaleway",
          "VMware",
          "Vercel",
          "Vultr",
          "ASP.NET",
          "ASP.NET CORE",
          "Angular",
          "AngularJS",
          "Blazor",
          "CodeIgniter",
          "Deno",
          "Django",
          "Drupal",
          "Elm",
          "Express",
          "FastAPI",
          "Fastify",
          "Flask",
          "Gatsby",
          "Laravel",
          "Lit",
          "NestJS",
          "Next.js",
          "Node.js",
          "Nuxt.js",
          "Phoenix",
          "Play Framework",
          "Qwik",
          "React",
          "Remix",
          "Ruby on Rails",
          "Solid.js",
          "Spring Boot",
          "Svelte",
          "Symfony",
          "Vue.js",
          "WordPress",
          "jQuery",
          ".NET (5+) ",
          ".NET Framework (1.0 - 4.8)",
          ".NET MAUI",
          "Apache Kafka",
          "Apache Spark",
          "CUDA",
          "Capacitor",
          "Cordova",
          "Electron",
          "Flutter",
          "GTK",
          "Hadoop",
          "Hugging Face Transformers",
          "Ionic",
          "JAX",
          "Keras",
          "Ktor",
          "MFC",
          "Micronaut",
          "NumPy",
          "OpenGL",
          "Opencv",
          "Pandas",
          "Qt",
          "Quarkus",
          "RabbitMQ",
          "React Native",
          "Scikit-Learn",
          "Spring Framework",
          "SwiftUI",
          "Tauri",
          "TensorFlow",
          "Tidyverse",
          "Torch/PyTorch",
          "Uno Platform",
          "Xamarin",
          "BigQuery",
          "Cassandra",
          "Clickhouse",
          "Cloud Firestore",
          "Cockroachdb",
          "Cosmos DB",
          "Couch DB",
          "Couchbase",
          "Datomic",
          "DuckDB",
          "Dynamodb",
          "Elasticsearch",
          "Firebase Realtime Database",
          "Firebird",
          "H2",
          "IBM DB2",
          "InfluxDB",
          "MariaDB",
          "Microsoft Access",
          "Microsoft SQL Server",
          "MongoDB",
          "MySQL",
          "Neo4J",
          "Oracle",
          "PostgreSQL",
          "RavenDB",
          "Redis",
          "SQLite",
          "Snowflake",
          "Solr",
          "Supabase",
          "TiDB"
         ],
         "textposition": "top center",
         "type": "scatter",
         "x": [
          -20.587284088134766,
          19.50360107421875,
          -38.92525100708008,
          16.232688903808594,
          0.5446971654891968,
          17.455812454223633,
          47.4681510925293,
          17.89944839477539,
          3.6657164096832275,
          -28.241592407226562,
          -19.012821197509766,
          -46.026161193847656,
          39.56004333496094,
          -22.259119033813477,
          -23.195453643798828,
          45.82560348510742,
          17.069124221801758,
          11.628381729125977,
          6.504846096038818,
          -9.366744995117188,
          -40.26370620727539,
          6.232519626617432,
          8.193161964416504,
          -38.402122497558594,
          5.431042671203613,
          12.421713829040527,
          -45.253658294677734,
          5.555010795593262,
          -0.44492989778518677,
          13.087315559387207,
          11.554692268371582,
          17.809534072875977,
          -9.830123901367188,
          9.325335502624512,
          15.997838020324707,
          45.85112380981445,
          7.067214488983154,
          -1.2601916790008545,
          -19.38361358642578,
          16.61013412475586,
          -17.468351364135742,
          -0.15160949528217316,
          -27.975675582885742,
          7.93605899810791,
          -28.154550552368164,
          -7.642180442810059,
          -11.25938892364502,
          -1.2908155918121338,
          47.787635803222656,
          47.92025375366211,
          12.123623847961426,
          -19.622848510742188,
          -1.7283360958099365,
          3.2934021949768066,
          -2.1754133701324463,
          -40.78404998779297,
          -20.063274383544922,
          -11.29235553741455,
          -14.809442520141602,
          -0.8696820735931396,
          -29.919946670532227,
          -3.843780994415283,
          4.9110565185546875,
          48.0277099609375,
          -9.912075996398926,
          6.945040702819824,
          -36.224609375,
          28.80219078063965,
          -39.128604888916016,
          -13.237809181213379,
          6.855518341064453,
          29.433595657348633,
          -9.856954574584961,
          -4.361807346343994,
          48.09550857543945,
          48.587921142578125,
          9.6724214553833,
          10.49116325378418,
          50.53145217895508,
          10.709716796875,
          12.409929275512695,
          -2.1080472469329834,
          17.372188568115234,
          8.655688285827637,
          -2.599271059036255,
          -0.41928213834762573,
          -4.543605804443359,
          -2.120192766189575,
          -8.134439468383789,
          9.853318214416504,
          12.634010314941406,
          -2.9614498615264893,
          -9.027437210083008,
          -1.8587764501571655,
          17.825862884521484,
          -21.619056701660156,
          -27.57343292236328,
          12.270984649658203,
          -1.7665222883224487,
          -13.913643836975098,
          -16.80974006652832,
          0.5343034863471985,
          -37.18548583984375,
          0.2247946560382843,
          8.390528678894043,
          17.3843936920166,
          7.681063175201416,
          7.8815178871154785,
          47.10795974731445,
          47.66453170776367,
          57.015037536621094,
          -33.29258346557617,
          -29.879383087158203,
          5.448027610778809,
          20.884193420410156,
          21.15244483947754,
          0.12017954140901566,
          -46.18324279785156,
          17.619667053222656,
          -30.414140701293945,
          4.928164005279541,
          20.70874786376953,
          -37.609439849853516,
          1.2147624492645264,
          -45.719154357910156,
          20.151477813720703,
          -44.40159225463867,
          0.9295656085014343,
          20.022537231445312,
          2.7547667026519775,
          0.028717318549752235,
          18.437463760375977,
          -39.385581970214844,
          -13.869551658630371,
          -1.5744056701660156,
          0.9151368737220764,
          -37.09534454345703,
          -12.000144004821777,
          0.0491250678896904,
          2.108642339706421,
          -18.9986515045166,
          4.218010902404785,
          55.563716888427734,
          56.63337326049805,
          -11.984786987304688,
          -31.753353118896484,
          -30.036291122436523,
          -39.90414047241211,
          -9.2560453414917,
          48.19202423095703,
          -20.79288101196289,
          -33.310829162597656,
          2.9395675659179688,
          -1.7120394706726074,
          -20.114896774291992,
          -11.72242259979248,
          -41.324615478515625,
          39.12889099121094,
          -35.48159408569336,
          -28.820993423461914,
          -10.362915992736816,
          10.306241035461426,
          47.57514572143555,
          48.955997467041016,
          -5.423174858093262,
          11.646261215209961,
          -7.703039646148682,
          -37.91862869262695,
          -17.432945251464844,
          43.71352005004883,
          -12.6226224899292,
          -3.2912991046905518,
          -20.391685485839844,
          18.069896697998047,
          -12.251482009887695,
          -6.871874809265137
         ],
         "xaxis": "x",
         "y": [
          -31.345354080200195,
          -12.996476173400879,
          -25.313310623168945,
          -15.56786823272705,
          -28.155670166015625,
          -16.612197875976562,
          2.2925214767456055,
          -17.5816707611084,
          -16.33122444152832,
          -30.407764434814453,
          32.00554275512695,
          12.00308895111084,
          -14.961183547973633,
          21.285499572753906,
          20.042993545532227,
          4.7993083000183105,
          -11.335443496704102,
          -17.1682186126709,
          -14.349364280700684,
          -6.308549404144287,
          -16.381153106689453,
          27.3814697265625,
          -6.674707412719727,
          -17.438785552978516,
          27.22702407836914,
          -20.61357879638672,
          -14.258585929870605,
          -15.527203559875488,
          -3.152114152908325,
          -19.137998580932617,
          -2.150404930114746,
          -12.91840934753418,
          -19.913902282714844,
          36.839351654052734,
          -30.734769821166992,
          1.0318684577941895,
          -8.209041595458984,
          -29.705059051513672,
          -33.274147033691406,
          -30.599056243896484,
          31.371339797973633,
          -1.3933990001678467,
          -32.309783935546875,
          26.55329132080078,
          -5.065672874450684,
          21.9017333984375,
          -19.72534942626953,
          20.330842971801758,
          -8.656250953674316,
          -7.611613750457764,
          -0.040090180933475494,
          5.062514305114746,
          48.040382385253906,
          37.611515045166016,
          48.857421875,
          14.049240112304688,
          21.891023635864258,
          -7.274359703063965,
          30.576786041259766,
          46.49779510498047,
          -28.364912033081055,
          51.552005767822266,
          37.49766540527344,
          6.652927875518799,
          27.308969497680664,
          45.73107147216797,
          -22.366252899169922,
          -1.9198461771011353,
          -23.82526969909668,
          30.07792854309082,
          46.43670654296875,
          -1.9465384483337402,
          24.02464485168457,
          50.88752746582031,
          -3.195955514907837,
          3.447435140609741,
          18.463199615478516,
          18.532115936279297,
          3.9818618297576904,
          34.20990753173828,
          3.1291592121124268,
          -29.404909133911133,
          35.72691345214844,
          -6.002084732055664,
          17.46384048461914,
          -31.469480514526367,
          17.741294860839844,
          -31.469295501708984,
          28.14202117919922,
          36.253196716308594,
          4.753893852233887,
          15.992278099060059,
          23.428577423095703,
          18.161367416381836,
          45.35884094238281,
          21.250263214111328,
          -5.550866603851318,
          0.8518943786621094,
          22.235363006591797,
          22.648271560668945,
          31.178926467895508,
          2.7499961853027344,
          -16.889362335205078,
          1.1318198442459106,
          38.117488861083984,
          44.808074951171875,
          35.232608795166016,
          31.55275535583496,
          3.34903883934021,
          -2.286332368850708,
          3.613981246948242,
          -12.656044960021973,
          -2.847590684890747,
          -42.618141174316406,
          18.60096549987793,
          19.986190795898438,
          17.43059730529785,
          11.41403579711914,
          -21.36724853515625,
          -2.2965049743652344,
          -45.251556396484375,
          17.901569366455078,
          -14.115598678588867,
          -43.83384323120117,
          -13.574769973754883,
          -17.349153518676758,
          -15.933618545532227,
          -38.897403717041016,
          -20.64048194885254,
          -38.393009185791016,
          -38.621429443359375,
          -20.12628173828125,
          -19.037540435791016,
          9.239765167236328,
          23.701032638549805,
          -40.909854888916016,
          -15.953705787658691,
          -19.618106842041016,
          -0.16410057246685028,
          -43.49757385253906,
          -33.903507232666016,
          -43.65104675292969,
          1.3661081790924072,
          2.9500772953033447,
          -7.635134696960449,
          -11.754891395568848,
          -12.143043518066406,
          13.128900527954102,
          -4.738887786865234,
          8.205474853515625,
          -29.380474090576172,
          -10.555680274963379,
          -16.624183654785156,
          -38.02189636230469,
          5.701268672943115,
          7.9103522300720215,
          14.671951293945312,
          -15.404093742370605,
          -17.78297996520996,
          -29.719247817993164,
          6.801456451416016,
          39.1652946472168,
          -9.779349327087402,
          1.1172531843185425,
          13.729620933532715,
          37.45494842529297,
          11.375679969787598,
          -22.710010528564453,
          5.423573970794678,
          3.1051111221313477,
          8.214446067810059,
          -27.92447280883789,
          3.2255666255950928,
          35.49573516845703,
          23.15979766845703,
          -7.487629413604736
         ],
         "yaxis": "y"
        }
       ],
       "layout": {
        "height": 1000,
        "legend": {
         "tracegroupgap": 0
        },
        "margin": {
         "t": 60
        },
        "template": {
         "data": {
          "bar": [
           {
            "error_x": {
             "color": "#2a3f5f"
            },
            "error_y": {
             "color": "#2a3f5f"
            },
            "marker": {
             "line": {
              "color": "#E5ECF6",
              "width": 0.5
             },
             "pattern": {
              "fillmode": "overlay",
              "size": 10,
              "solidity": 0.2
             }
            },
            "type": "bar"
           }
          ],
          "barpolar": [
           {
            "marker": {
             "line": {
              "color": "#E5ECF6",
              "width": 0.5
             },
             "pattern": {
              "fillmode": "overlay",
              "size": 10,
              "solidity": 0.2
             }
            },
            "type": "barpolar"
           }
          ],
          "carpet": [
           {
            "aaxis": {
             "endlinecolor": "#2a3f5f",
             "gridcolor": "white",
             "linecolor": "white",
             "minorgridcolor": "white",
             "startlinecolor": "#2a3f5f"
            },
            "baxis": {
             "endlinecolor": "#2a3f5f",
             "gridcolor": "white",
             "linecolor": "white",
             "minorgridcolor": "white",
             "startlinecolor": "#2a3f5f"
            },
            "type": "carpet"
           }
          ],
          "choropleth": [
           {
            "colorbar": {
             "outlinewidth": 0,
             "ticks": ""
            },
            "type": "choropleth"
           }
          ],
          "contour": [
           {
            "colorbar": {
             "outlinewidth": 0,
             "ticks": ""
            },
            "colorscale": [
             [
              0,
              "#0d0887"
             ],
             [
              0.1111111111111111,
              "#46039f"
             ],
             [
              0.2222222222222222,
              "#7201a8"
             ],
             [
              0.3333333333333333,
              "#9c179e"
             ],
             [
              0.4444444444444444,
              "#bd3786"
             ],
             [
              0.5555555555555556,
              "#d8576b"
             ],
             [
              0.6666666666666666,
              "#ed7953"
             ],
             [
              0.7777777777777778,
              "#fb9f3a"
             ],
             [
              0.8888888888888888,
              "#fdca26"
             ],
             [
              1,
              "#f0f921"
             ]
            ],
            "type": "contour"
           }
          ],
          "contourcarpet": [
           {
            "colorbar": {
             "outlinewidth": 0,
             "ticks": ""
            },
            "type": "contourcarpet"
           }
          ],
          "heatmap": [
           {
            "colorbar": {
             "outlinewidth": 0,
             "ticks": ""
            },
            "colorscale": [
             [
              0,
              "#0d0887"
             ],
             [
              0.1111111111111111,
              "#46039f"
             ],
             [
              0.2222222222222222,
              "#7201a8"
             ],
             [
              0.3333333333333333,
              "#9c179e"
             ],
             [
              0.4444444444444444,
              "#bd3786"
             ],
             [
              0.5555555555555556,
              "#d8576b"
             ],
             [
              0.6666666666666666,
              "#ed7953"
             ],
             [
              0.7777777777777778,
              "#fb9f3a"
             ],
             [
              0.8888888888888888,
              "#fdca26"
             ],
             [
              1,
              "#f0f921"
             ]
            ],
            "type": "heatmap"
           }
          ],
          "heatmapgl": [
           {
            "colorbar": {
             "outlinewidth": 0,
             "ticks": ""
            },
            "colorscale": [
             [
              0,
              "#0d0887"
             ],
             [
              0.1111111111111111,
              "#46039f"
             ],
             [
              0.2222222222222222,
              "#7201a8"
             ],
             [
              0.3333333333333333,
              "#9c179e"
             ],
             [
              0.4444444444444444,
              "#bd3786"
             ],
             [
              0.5555555555555556,
              "#d8576b"
             ],
             [
              0.6666666666666666,
              "#ed7953"
             ],
             [
              0.7777777777777778,
              "#fb9f3a"
             ],
             [
              0.8888888888888888,
              "#fdca26"
             ],
             [
              1,
              "#f0f921"
             ]
            ],
            "type": "heatmapgl"
           }
          ],
          "histogram": [
           {
            "marker": {
             "pattern": {
              "fillmode": "overlay",
              "size": 10,
              "solidity": 0.2
             }
            },
            "type": "histogram"
           }
          ],
          "histogram2d": [
           {
            "colorbar": {
             "outlinewidth": 0,
             "ticks": ""
            },
            "colorscale": [
             [
              0,
              "#0d0887"
             ],
             [
              0.1111111111111111,
              "#46039f"
             ],
             [
              0.2222222222222222,
              "#7201a8"
             ],
             [
              0.3333333333333333,
              "#9c179e"
             ],
             [
              0.4444444444444444,
              "#bd3786"
             ],
             [
              0.5555555555555556,
              "#d8576b"
             ],
             [
              0.6666666666666666,
              "#ed7953"
             ],
             [
              0.7777777777777778,
              "#fb9f3a"
             ],
             [
              0.8888888888888888,
              "#fdca26"
             ],
             [
              1,
              "#f0f921"
             ]
            ],
            "type": "histogram2d"
           }
          ],
          "histogram2dcontour": [
           {
            "colorbar": {
             "outlinewidth": 0,
             "ticks": ""
            },
            "colorscale": [
             [
              0,
              "#0d0887"
             ],
             [
              0.1111111111111111,
              "#46039f"
             ],
             [
              0.2222222222222222,
              "#7201a8"
             ],
             [
              0.3333333333333333,
              "#9c179e"
             ],
             [
              0.4444444444444444,
              "#bd3786"
             ],
             [
              0.5555555555555556,
              "#d8576b"
             ],
             [
              0.6666666666666666,
              "#ed7953"
             ],
             [
              0.7777777777777778,
              "#fb9f3a"
             ],
             [
              0.8888888888888888,
              "#fdca26"
             ],
             [
              1,
              "#f0f921"
             ]
            ],
            "type": "histogram2dcontour"
           }
          ],
          "mesh3d": [
           {
            "colorbar": {
             "outlinewidth": 0,
             "ticks": ""
            },
            "type": "mesh3d"
           }
          ],
          "parcoords": [
           {
            "line": {
             "colorbar": {
              "outlinewidth": 0,
              "ticks": ""
             }
            },
            "type": "parcoords"
           }
          ],
          "pie": [
           {
            "automargin": true,
            "type": "pie"
           }
          ],
          "scatter": [
           {
            "fillpattern": {
             "fillmode": "overlay",
             "size": 10,
             "solidity": 0.2
            },
            "type": "scatter"
           }
          ],
          "scatter3d": [
           {
            "line": {
             "colorbar": {
              "outlinewidth": 0,
              "ticks": ""
             }
            },
            "marker": {
             "colorbar": {
              "outlinewidth": 0,
              "ticks": ""
             }
            },
            "type": "scatter3d"
           }
          ],
          "scattercarpet": [
           {
            "marker": {
             "colorbar": {
              "outlinewidth": 0,
              "ticks": ""
             }
            },
            "type": "scattercarpet"
           }
          ],
          "scattergeo": [
           {
            "marker": {
             "colorbar": {
              "outlinewidth": 0,
              "ticks": ""
             }
            },
            "type": "scattergeo"
           }
          ],
          "scattergl": [
           {
            "marker": {
             "colorbar": {
              "outlinewidth": 0,
              "ticks": ""
             }
            },
            "type": "scattergl"
           }
          ],
          "scattermapbox": [
           {
            "marker": {
             "colorbar": {
              "outlinewidth": 0,
              "ticks": ""
             }
            },
            "type": "scattermapbox"
           }
          ],
          "scatterpolar": [
           {
            "marker": {
             "colorbar": {
              "outlinewidth": 0,
              "ticks": ""
             }
            },
            "type": "scatterpolar"
           }
          ],
          "scatterpolargl": [
           {
            "marker": {
             "colorbar": {
              "outlinewidth": 0,
              "ticks": ""
             }
            },
            "type": "scatterpolargl"
           }
          ],
          "scatterternary": [
           {
            "marker": {
             "colorbar": {
              "outlinewidth": 0,
              "ticks": ""
             }
            },
            "type": "scatterternary"
           }
          ],
          "surface": [
           {
            "colorbar": {
             "outlinewidth": 0,
             "ticks": ""
            },
            "colorscale": [
             [
              0,
              "#0d0887"
             ],
             [
              0.1111111111111111,
              "#46039f"
             ],
             [
              0.2222222222222222,
              "#7201a8"
             ],
             [
              0.3333333333333333,
              "#9c179e"
             ],
             [
              0.4444444444444444,
              "#bd3786"
             ],
             [
              0.5555555555555556,
              "#d8576b"
             ],
             [
              0.6666666666666666,
              "#ed7953"
             ],
             [
              0.7777777777777778,
              "#fb9f3a"
             ],
             [
              0.8888888888888888,
              "#fdca26"
             ],
             [
              1,
              "#f0f921"
             ]
            ],
            "type": "surface"
           }
          ],
          "table": [
           {
            "cells": {
             "fill": {
              "color": "#EBF0F8"
             },
             "line": {
              "color": "white"
             }
            },
            "header": {
             "fill": {
              "color": "#C8D4E3"
             },
             "line": {
              "color": "white"
             }
            },
            "type": "table"
           }
          ]
         },
         "layout": {
          "annotationdefaults": {
           "arrowcolor": "#2a3f5f",
           "arrowhead": 0,
           "arrowwidth": 1
          },
          "autotypenumbers": "strict",
          "coloraxis": {
           "colorbar": {
            "outlinewidth": 0,
            "ticks": ""
           }
          },
          "colorscale": {
           "diverging": [
            [
             0,
             "#8e0152"
            ],
            [
             0.1,
             "#c51b7d"
            ],
            [
             0.2,
             "#de77ae"
            ],
            [
             0.3,
             "#f1b6da"
            ],
            [
             0.4,
             "#fde0ef"
            ],
            [
             0.5,
             "#f7f7f7"
            ],
            [
             0.6,
             "#e6f5d0"
            ],
            [
             0.7,
             "#b8e186"
            ],
            [
             0.8,
             "#7fbc41"
            ],
            [
             0.9,
             "#4d9221"
            ],
            [
             1,
             "#276419"
            ]
           ],
           "sequential": [
            [
             0,
             "#0d0887"
            ],
            [
             0.1111111111111111,
             "#46039f"
            ],
            [
             0.2222222222222222,
             "#7201a8"
            ],
            [
             0.3333333333333333,
             "#9c179e"
            ],
            [
             0.4444444444444444,
             "#bd3786"
            ],
            [
             0.5555555555555556,
             "#d8576b"
            ],
            [
             0.6666666666666666,
             "#ed7953"
            ],
            [
             0.7777777777777778,
             "#fb9f3a"
            ],
            [
             0.8888888888888888,
             "#fdca26"
            ],
            [
             1,
             "#f0f921"
            ]
           ],
           "sequentialminus": [
            [
             0,
             "#0d0887"
            ],
            [
             0.1111111111111111,
             "#46039f"
            ],
            [
             0.2222222222222222,
             "#7201a8"
            ],
            [
             0.3333333333333333,
             "#9c179e"
            ],
            [
             0.4444444444444444,
             "#bd3786"
            ],
            [
             0.5555555555555556,
             "#d8576b"
            ],
            [
             0.6666666666666666,
             "#ed7953"
            ],
            [
             0.7777777777777778,
             "#fb9f3a"
            ],
            [
             0.8888888888888888,
             "#fdca26"
            ],
            [
             1,
             "#f0f921"
            ]
           ]
          },
          "colorway": [
           "#636efa",
           "#EF553B",
           "#00cc96",
           "#ab63fa",
           "#FFA15A",
           "#19d3f3",
           "#FF6692",
           "#B6E880",
           "#FF97FF",
           "#FECB52"
          ],
          "font": {
           "color": "#2a3f5f"
          },
          "geo": {
           "bgcolor": "white",
           "lakecolor": "white",
           "landcolor": "#E5ECF6",
           "showlakes": true,
           "showland": true,
           "subunitcolor": "white"
          },
          "hoverlabel": {
           "align": "left"
          },
          "hovermode": "closest",
          "mapbox": {
           "style": "light"
          },
          "paper_bgcolor": "white",
          "plot_bgcolor": "#E5ECF6",
          "polar": {
           "angularaxis": {
            "gridcolor": "white",
            "linecolor": "white",
            "ticks": ""
           },
           "bgcolor": "#E5ECF6",
           "radialaxis": {
            "gridcolor": "white",
            "linecolor": "white",
            "ticks": ""
           }
          },
          "scene": {
           "xaxis": {
            "backgroundcolor": "#E5ECF6",
            "gridcolor": "white",
            "gridwidth": 2,
            "linecolor": "white",
            "showbackground": true,
            "ticks": "",
            "zerolinecolor": "white"
           },
           "yaxis": {
            "backgroundcolor": "#E5ECF6",
            "gridcolor": "white",
            "gridwidth": 2,
            "linecolor": "white",
            "showbackground": true,
            "ticks": "",
            "zerolinecolor": "white"
           },
           "zaxis": {
            "backgroundcolor": "#E5ECF6",
            "gridcolor": "white",
            "gridwidth": 2,
            "linecolor": "white",
            "showbackground": true,
            "ticks": "",
            "zerolinecolor": "white"
           }
          },
          "shapedefaults": {
           "line": {
            "color": "#2a3f5f"
           }
          },
          "ternary": {
           "aaxis": {
            "gridcolor": "white",
            "linecolor": "white",
            "ticks": ""
           },
           "baxis": {
            "gridcolor": "white",
            "linecolor": "white",
            "ticks": ""
           },
           "bgcolor": "#E5ECF6",
           "caxis": {
            "gridcolor": "white",
            "linecolor": "white",
            "ticks": ""
           }
          },
          "title": {
           "x": 0.05
          },
          "xaxis": {
           "automargin": true,
           "gridcolor": "white",
           "linecolor": "white",
           "ticks": "",
           "title": {
            "standoff": 15
           },
           "zerolinecolor": "white",
           "zerolinewidth": 2
          },
          "yaxis": {
           "automargin": true,
           "gridcolor": "white",
           "linecolor": "white",
           "ticks": "",
           "title": {
            "standoff": 15
           },
           "zerolinecolor": "white",
           "zerolinewidth": 2
          }
         }
        },
        "title": {
         "text": "TSNE"
        },
        "width": 1000,
        "xaxis": {
         "anchor": "y",
         "domain": [
          0,
          1
         ],
         "title": {
          "text": "x"
         }
        },
        "yaxis": {
         "anchor": "x",
         "domain": [
          0,
          1
         ],
         "title": {
          "text": "y"
         }
        }
       }
      }
     },
     "metadata": {},
     "output_type": "display_data"
    },
    {
     "data": {
      "application/vnd.plotly.v1+json": {
       "config": {
        "plotlyServerURL": "https://plot.ly"
       },
       "data": [
        {
         "hovertemplate": "x=%{x}<br>y=%{y}<br>text=%{text}<extra></extra>",
         "legendgroup": "",
         "marker": {
          "color": "#636efa",
          "symbol": "circle"
         },
         "mode": "markers+text",
         "name": "",
         "orientation": "v",
         "showlegend": false,
         "text": [
          "APL",
          "Ada",
          "Apex",
          "Assembly",
          "Bash/Shell (all shells)",
          "C",
          "C#",
          "C++",
          "Clojure",
          "Cobol",
          "Crystal",
          "Dart",
          "Delphi",
          "Elixir",
          "Erlang",
          "F#",
          "Flow",
          "Fortran",
          "GDScript",
          "Go",
          "Groovy",
          "HTML/CSS",
          "Haskell",
          "Java",
          "JavaScript",
          "Julia",
          "Kotlin",
          "Lisp",
          "Lua",
          "MATLAB",
          "Nim",
          "OCaml",
          "Objective-C",
          "PHP",
          "Perl",
          "PowerShell",
          "Prolog",
          "Python",
          "R",
          "Raku",
          "Ruby",
          "Rust",
          "SAS",
          "SQL",
          "Scala",
          "Solidity",
          "Swift",
          "TypeScript",
          "VBA",
          "Visual Basic (.Net)",
          "Zig",
          "Amazon Web Services (AWS)",
          "Cloudflare",
          "Colocation",
          "Digital Ocean",
          "Firebase",
          "Fly.io",
          "Google Cloud",
          "Heroku",
          "Hetzner",
          "IBM Cloud Or Watson",
          "Linode, now Akamai",
          "Managed Hosting",
          "Microsoft Azure",
          "Netlify",
          "OVH",
          "OpenShift",
          "OpenStack",
          "Oracle Cloud Infrastructure (OCI)",
          "Render",
          "Scaleway",
          "VMware",
          "Vercel",
          "Vultr",
          "ASP.NET",
          "ASP.NET CORE",
          "Angular",
          "AngularJS",
          "Blazor",
          "CodeIgniter",
          "Deno",
          "Django",
          "Drupal",
          "Elm",
          "Express",
          "FastAPI",
          "Fastify",
          "Flask",
          "Gatsby",
          "Laravel",
          "Lit",
          "NestJS",
          "Next.js",
          "Node.js",
          "Nuxt.js",
          "Phoenix",
          "Play Framework",
          "Qwik",
          "React",
          "Remix",
          "Ruby on Rails",
          "Solid.js",
          "Spring Boot",
          "Svelte",
          "Symfony",
          "Vue.js",
          "WordPress",
          "jQuery",
          ".NET (5+) ",
          ".NET Framework (1.0 - 4.8)",
          ".NET MAUI",
          "Apache Kafka",
          "Apache Spark",
          "CUDA",
          "Capacitor",
          "Cordova",
          "Electron",
          "Flutter",
          "GTK",
          "Hadoop",
          "Hugging Face Transformers",
          "Ionic",
          "JAX",
          "Keras",
          "Ktor",
          "MFC",
          "Micronaut",
          "NumPy",
          "OpenGL",
          "Opencv",
          "Pandas",
          "Qt",
          "Quarkus",
          "RabbitMQ",
          "React Native",
          "Scikit-Learn",
          "Spring Framework",
          "SwiftUI",
          "Tauri",
          "TensorFlow",
          "Tidyverse",
          "Torch/PyTorch",
          "Uno Platform",
          "Xamarin",
          "BigQuery",
          "Cassandra",
          "Clickhouse",
          "Cloud Firestore",
          "Cockroachdb",
          "Cosmos DB",
          "Couch DB",
          "Couchbase",
          "Datomic",
          "DuckDB",
          "Dynamodb",
          "Elasticsearch",
          "Firebase Realtime Database",
          "Firebird",
          "H2",
          "IBM DB2",
          "InfluxDB",
          "MariaDB",
          "Microsoft Access",
          "Microsoft SQL Server",
          "MongoDB",
          "MySQL",
          "Neo4J",
          "Oracle",
          "PostgreSQL",
          "RavenDB",
          "Redis",
          "SQLite",
          "Snowflake",
          "Solr",
          "Supabase",
          "TiDB"
         ],
         "textposition": "top center",
         "type": "scatter",
         "x": [
          -20.587284088134766,
          19.50360107421875,
          -38.92525100708008,
          16.232688903808594,
          0.5446971654891968,
          17.455812454223633,
          47.4681510925293,
          17.89944839477539,
          3.6657164096832275,
          -28.241592407226562,
          -19.012821197509766,
          -46.026161193847656,
          39.56004333496094,
          -22.259119033813477,
          -23.195453643798828,
          45.82560348510742,
          17.069124221801758,
          11.628381729125977,
          6.504846096038818,
          -9.366744995117188,
          -40.26370620727539,
          6.232519626617432,
          8.193161964416504,
          -38.402122497558594,
          5.431042671203613,
          12.421713829040527,
          -45.253658294677734,
          5.555010795593262,
          -0.44492989778518677,
          13.087315559387207,
          11.554692268371582,
          17.809534072875977,
          -9.830123901367188,
          9.325335502624512,
          15.997838020324707,
          45.85112380981445,
          7.067214488983154,
          -1.2601916790008545,
          -19.38361358642578,
          16.61013412475586,
          -17.468351364135742,
          -0.15160949528217316,
          -27.975675582885742,
          7.93605899810791,
          -28.154550552368164,
          -7.642180442810059,
          -11.25938892364502,
          -1.2908155918121338,
          47.787635803222656,
          47.92025375366211,
          12.123623847961426,
          -19.622848510742188,
          -1.7283360958099365,
          3.2934021949768066,
          -2.1754133701324463,
          -40.78404998779297,
          -20.063274383544922,
          -11.29235553741455,
          -14.809442520141602,
          -0.8696820735931396,
          -29.919946670532227,
          -3.843780994415283,
          4.9110565185546875,
          48.0277099609375,
          -9.912075996398926,
          6.945040702819824,
          -36.224609375,
          28.80219078063965,
          -39.128604888916016,
          -13.237809181213379,
          6.855518341064453,
          29.433595657348633,
          -9.856954574584961,
          -4.361807346343994,
          48.09550857543945,
          48.587921142578125,
          9.6724214553833,
          10.49116325378418,
          50.53145217895508,
          10.709716796875,
          12.409929275512695,
          -2.1080472469329834,
          17.372188568115234,
          8.655688285827637,
          -2.599271059036255,
          -0.41928213834762573,
          -4.543605804443359,
          -2.120192766189575,
          -8.134439468383789,
          9.853318214416504,
          12.634010314941406,
          -2.9614498615264893,
          -9.027437210083008,
          -1.8587764501571655,
          17.825862884521484,
          -21.619056701660156,
          -27.57343292236328,
          12.270984649658203,
          -1.7665222883224487,
          -13.913643836975098,
          -16.80974006652832,
          0.5343034863471985,
          -37.18548583984375,
          0.2247946560382843,
          8.390528678894043,
          17.3843936920166,
          7.681063175201416,
          7.8815178871154785,
          47.10795974731445,
          47.66453170776367,
          57.015037536621094,
          -33.29258346557617,
          -29.879383087158203,
          5.448027610778809,
          20.884193420410156,
          21.15244483947754,
          0.12017954140901566,
          -46.18324279785156,
          17.619667053222656,
          -30.414140701293945,
          4.928164005279541,
          20.70874786376953,
          -37.609439849853516,
          1.2147624492645264,
          -45.719154357910156,
          20.151477813720703,
          -44.40159225463867,
          0.9295656085014343,
          20.022537231445312,
          2.7547667026519775,
          0.028717318549752235,
          18.437463760375977,
          -39.385581970214844,
          -13.869551658630371,
          -1.5744056701660156,
          0.9151368737220764,
          -37.09534454345703,
          -12.000144004821777,
          0.0491250678896904,
          2.108642339706421,
          -18.9986515045166,
          4.218010902404785,
          55.563716888427734,
          56.63337326049805,
          -11.984786987304688,
          -31.753353118896484,
          -30.036291122436523,
          -39.90414047241211,
          -9.2560453414917,
          48.19202423095703,
          -20.79288101196289,
          -33.310829162597656,
          2.9395675659179688,
          -1.7120394706726074,
          -20.114896774291992,
          -11.72242259979248,
          -41.324615478515625,
          39.12889099121094,
          -35.48159408569336,
          -28.820993423461914,
          -10.362915992736816,
          10.306241035461426,
          47.57514572143555,
          48.955997467041016,
          -5.423174858093262,
          11.646261215209961,
          -7.703039646148682,
          -37.91862869262695,
          -17.432945251464844,
          43.71352005004883,
          -12.6226224899292,
          -3.2912991046905518,
          -20.391685485839844,
          18.069896697998047,
          -12.251482009887695,
          -6.871874809265137
         ],
         "xaxis": "x",
         "y": [
          -31.345354080200195,
          -12.996476173400879,
          -25.313310623168945,
          -15.56786823272705,
          -28.155670166015625,
          -16.612197875976562,
          2.2925214767456055,
          -17.5816707611084,
          -16.33122444152832,
          -30.407764434814453,
          32.00554275512695,
          12.00308895111084,
          -14.961183547973633,
          21.285499572753906,
          20.042993545532227,
          4.7993083000183105,
          -11.335443496704102,
          -17.1682186126709,
          -14.349364280700684,
          -6.308549404144287,
          -16.381153106689453,
          27.3814697265625,
          -6.674707412719727,
          -17.438785552978516,
          27.22702407836914,
          -20.61357879638672,
          -14.258585929870605,
          -15.527203559875488,
          -3.152114152908325,
          -19.137998580932617,
          -2.150404930114746,
          -12.91840934753418,
          -19.913902282714844,
          36.839351654052734,
          -30.734769821166992,
          1.0318684577941895,
          -8.209041595458984,
          -29.705059051513672,
          -33.274147033691406,
          -30.599056243896484,
          31.371339797973633,
          -1.3933990001678467,
          -32.309783935546875,
          26.55329132080078,
          -5.065672874450684,
          21.9017333984375,
          -19.72534942626953,
          20.330842971801758,
          -8.656250953674316,
          -7.611613750457764,
          -0.040090180933475494,
          5.062514305114746,
          48.040382385253906,
          37.611515045166016,
          48.857421875,
          14.049240112304688,
          21.891023635864258,
          -7.274359703063965,
          30.576786041259766,
          46.49779510498047,
          -28.364912033081055,
          51.552005767822266,
          37.49766540527344,
          6.652927875518799,
          27.308969497680664,
          45.73107147216797,
          -22.366252899169922,
          -1.9198461771011353,
          -23.82526969909668,
          30.07792854309082,
          46.43670654296875,
          -1.9465384483337402,
          24.02464485168457,
          50.88752746582031,
          -3.195955514907837,
          3.447435140609741,
          18.463199615478516,
          18.532115936279297,
          3.9818618297576904,
          34.20990753173828,
          3.1291592121124268,
          -29.404909133911133,
          35.72691345214844,
          -6.002084732055664,
          17.46384048461914,
          -31.469480514526367,
          17.741294860839844,
          -31.469295501708984,
          28.14202117919922,
          36.253196716308594,
          4.753893852233887,
          15.992278099060059,
          23.428577423095703,
          18.161367416381836,
          45.35884094238281,
          21.250263214111328,
          -5.550866603851318,
          0.8518943786621094,
          22.235363006591797,
          22.648271560668945,
          31.178926467895508,
          2.7499961853027344,
          -16.889362335205078,
          1.1318198442459106,
          38.117488861083984,
          44.808074951171875,
          35.232608795166016,
          31.55275535583496,
          3.34903883934021,
          -2.286332368850708,
          3.613981246948242,
          -12.656044960021973,
          -2.847590684890747,
          -42.618141174316406,
          18.60096549987793,
          19.986190795898438,
          17.43059730529785,
          11.41403579711914,
          -21.36724853515625,
          -2.2965049743652344,
          -45.251556396484375,
          17.901569366455078,
          -14.115598678588867,
          -43.83384323120117,
          -13.574769973754883,
          -17.349153518676758,
          -15.933618545532227,
          -38.897403717041016,
          -20.64048194885254,
          -38.393009185791016,
          -38.621429443359375,
          -20.12628173828125,
          -19.037540435791016,
          9.239765167236328,
          23.701032638549805,
          -40.909854888916016,
          -15.953705787658691,
          -19.618106842041016,
          -0.16410057246685028,
          -43.49757385253906,
          -33.903507232666016,
          -43.65104675292969,
          1.3661081790924072,
          2.9500772953033447,
          -7.635134696960449,
          -11.754891395568848,
          -12.143043518066406,
          13.128900527954102,
          -4.738887786865234,
          8.205474853515625,
          -29.380474090576172,
          -10.555680274963379,
          -16.624183654785156,
          -38.02189636230469,
          5.701268672943115,
          7.9103522300720215,
          14.671951293945312,
          -15.404093742370605,
          -17.78297996520996,
          -29.719247817993164,
          6.801456451416016,
          39.1652946472168,
          -9.779349327087402,
          1.1172531843185425,
          13.729620933532715,
          37.45494842529297,
          11.375679969787598,
          -22.710010528564453,
          5.423573970794678,
          3.1051111221313477,
          8.214446067810059,
          -27.92447280883789,
          3.2255666255950928,
          35.49573516845703,
          23.15979766845703,
          -7.487629413604736
         ],
         "yaxis": "y"
        }
       ],
       "layout": {
        "height": 1000,
        "legend": {
         "tracegroupgap": 0
        },
        "margin": {
         "t": 60
        },
        "template": {
         "data": {
          "bar": [
           {
            "error_x": {
             "color": "#2a3f5f"
            },
            "error_y": {
             "color": "#2a3f5f"
            },
            "marker": {
             "line": {
              "color": "#E5ECF6",
              "width": 0.5
             },
             "pattern": {
              "fillmode": "overlay",
              "size": 10,
              "solidity": 0.2
             }
            },
            "type": "bar"
           }
          ],
          "barpolar": [
           {
            "marker": {
             "line": {
              "color": "#E5ECF6",
              "width": 0.5
             },
             "pattern": {
              "fillmode": "overlay",
              "size": 10,
              "solidity": 0.2
             }
            },
            "type": "barpolar"
           }
          ],
          "carpet": [
           {
            "aaxis": {
             "endlinecolor": "#2a3f5f",
             "gridcolor": "white",
             "linecolor": "white",
             "minorgridcolor": "white",
             "startlinecolor": "#2a3f5f"
            },
            "baxis": {
             "endlinecolor": "#2a3f5f",
             "gridcolor": "white",
             "linecolor": "white",
             "minorgridcolor": "white",
             "startlinecolor": "#2a3f5f"
            },
            "type": "carpet"
           }
          ],
          "choropleth": [
           {
            "colorbar": {
             "outlinewidth": 0,
             "ticks": ""
            },
            "type": "choropleth"
           }
          ],
          "contour": [
           {
            "colorbar": {
             "outlinewidth": 0,
             "ticks": ""
            },
            "colorscale": [
             [
              0,
              "#0d0887"
             ],
             [
              0.1111111111111111,
              "#46039f"
             ],
             [
              0.2222222222222222,
              "#7201a8"
             ],
             [
              0.3333333333333333,
              "#9c179e"
             ],
             [
              0.4444444444444444,
              "#bd3786"
             ],
             [
              0.5555555555555556,
              "#d8576b"
             ],
             [
              0.6666666666666666,
              "#ed7953"
             ],
             [
              0.7777777777777778,
              "#fb9f3a"
             ],
             [
              0.8888888888888888,
              "#fdca26"
             ],
             [
              1,
              "#f0f921"
             ]
            ],
            "type": "contour"
           }
          ],
          "contourcarpet": [
           {
            "colorbar": {
             "outlinewidth": 0,
             "ticks": ""
            },
            "type": "contourcarpet"
           }
          ],
          "heatmap": [
           {
            "colorbar": {
             "outlinewidth": 0,
             "ticks": ""
            },
            "colorscale": [
             [
              0,
              "#0d0887"
             ],
             [
              0.1111111111111111,
              "#46039f"
             ],
             [
              0.2222222222222222,
              "#7201a8"
             ],
             [
              0.3333333333333333,
              "#9c179e"
             ],
             [
              0.4444444444444444,
              "#bd3786"
             ],
             [
              0.5555555555555556,
              "#d8576b"
             ],
             [
              0.6666666666666666,
              "#ed7953"
             ],
             [
              0.7777777777777778,
              "#fb9f3a"
             ],
             [
              0.8888888888888888,
              "#fdca26"
             ],
             [
              1,
              "#f0f921"
             ]
            ],
            "type": "heatmap"
           }
          ],
          "heatmapgl": [
           {
            "colorbar": {
             "outlinewidth": 0,
             "ticks": ""
            },
            "colorscale": [
             [
              0,
              "#0d0887"
             ],
             [
              0.1111111111111111,
              "#46039f"
             ],
             [
              0.2222222222222222,
              "#7201a8"
             ],
             [
              0.3333333333333333,
              "#9c179e"
             ],
             [
              0.4444444444444444,
              "#bd3786"
             ],
             [
              0.5555555555555556,
              "#d8576b"
             ],
             [
              0.6666666666666666,
              "#ed7953"
             ],
             [
              0.7777777777777778,
              "#fb9f3a"
             ],
             [
              0.8888888888888888,
              "#fdca26"
             ],
             [
              1,
              "#f0f921"
             ]
            ],
            "type": "heatmapgl"
           }
          ],
          "histogram": [
           {
            "marker": {
             "pattern": {
              "fillmode": "overlay",
              "size": 10,
              "solidity": 0.2
             }
            },
            "type": "histogram"
           }
          ],
          "histogram2d": [
           {
            "colorbar": {
             "outlinewidth": 0,
             "ticks": ""
            },
            "colorscale": [
             [
              0,
              "#0d0887"
             ],
             [
              0.1111111111111111,
              "#46039f"
             ],
             [
              0.2222222222222222,
              "#7201a8"
             ],
             [
              0.3333333333333333,
              "#9c179e"
             ],
             [
              0.4444444444444444,
              "#bd3786"
             ],
             [
              0.5555555555555556,
              "#d8576b"
             ],
             [
              0.6666666666666666,
              "#ed7953"
             ],
             [
              0.7777777777777778,
              "#fb9f3a"
             ],
             [
              0.8888888888888888,
              "#fdca26"
             ],
             [
              1,
              "#f0f921"
             ]
            ],
            "type": "histogram2d"
           }
          ],
          "histogram2dcontour": [
           {
            "colorbar": {
             "outlinewidth": 0,
             "ticks": ""
            },
            "colorscale": [
             [
              0,
              "#0d0887"
             ],
             [
              0.1111111111111111,
              "#46039f"
             ],
             [
              0.2222222222222222,
              "#7201a8"
             ],
             [
              0.3333333333333333,
              "#9c179e"
             ],
             [
              0.4444444444444444,
              "#bd3786"
             ],
             [
              0.5555555555555556,
              "#d8576b"
             ],
             [
              0.6666666666666666,
              "#ed7953"
             ],
             [
              0.7777777777777778,
              "#fb9f3a"
             ],
             [
              0.8888888888888888,
              "#fdca26"
             ],
             [
              1,
              "#f0f921"
             ]
            ],
            "type": "histogram2dcontour"
           }
          ],
          "mesh3d": [
           {
            "colorbar": {
             "outlinewidth": 0,
             "ticks": ""
            },
            "type": "mesh3d"
           }
          ],
          "parcoords": [
           {
            "line": {
             "colorbar": {
              "outlinewidth": 0,
              "ticks": ""
             }
            },
            "type": "parcoords"
           }
          ],
          "pie": [
           {
            "automargin": true,
            "type": "pie"
           }
          ],
          "scatter": [
           {
            "fillpattern": {
             "fillmode": "overlay",
             "size": 10,
             "solidity": 0.2
            },
            "type": "scatter"
           }
          ],
          "scatter3d": [
           {
            "line": {
             "colorbar": {
              "outlinewidth": 0,
              "ticks": ""
             }
            },
            "marker": {
             "colorbar": {
              "outlinewidth": 0,
              "ticks": ""
             }
            },
            "type": "scatter3d"
           }
          ],
          "scattercarpet": [
           {
            "marker": {
             "colorbar": {
              "outlinewidth": 0,
              "ticks": ""
             }
            },
            "type": "scattercarpet"
           }
          ],
          "scattergeo": [
           {
            "marker": {
             "colorbar": {
              "outlinewidth": 0,
              "ticks": ""
             }
            },
            "type": "scattergeo"
           }
          ],
          "scattergl": [
           {
            "marker": {
             "colorbar": {
              "outlinewidth": 0,
              "ticks": ""
             }
            },
            "type": "scattergl"
           }
          ],
          "scattermapbox": [
           {
            "marker": {
             "colorbar": {
              "outlinewidth": 0,
              "ticks": ""
             }
            },
            "type": "scattermapbox"
           }
          ],
          "scatterpolar": [
           {
            "marker": {
             "colorbar": {
              "outlinewidth": 0,
              "ticks": ""
             }
            },
            "type": "scatterpolar"
           }
          ],
          "scatterpolargl": [
           {
            "marker": {
             "colorbar": {
              "outlinewidth": 0,
              "ticks": ""
             }
            },
            "type": "scatterpolargl"
           }
          ],
          "scatterternary": [
           {
            "marker": {
             "colorbar": {
              "outlinewidth": 0,
              "ticks": ""
             }
            },
            "type": "scatterternary"
           }
          ],
          "surface": [
           {
            "colorbar": {
             "outlinewidth": 0,
             "ticks": ""
            },
            "colorscale": [
             [
              0,
              "#0d0887"
             ],
             [
              0.1111111111111111,
              "#46039f"
             ],
             [
              0.2222222222222222,
              "#7201a8"
             ],
             [
              0.3333333333333333,
              "#9c179e"
             ],
             [
              0.4444444444444444,
              "#bd3786"
             ],
             [
              0.5555555555555556,
              "#d8576b"
             ],
             [
              0.6666666666666666,
              "#ed7953"
             ],
             [
              0.7777777777777778,
              "#fb9f3a"
             ],
             [
              0.8888888888888888,
              "#fdca26"
             ],
             [
              1,
              "#f0f921"
             ]
            ],
            "type": "surface"
           }
          ],
          "table": [
           {
            "cells": {
             "fill": {
              "color": "#EBF0F8"
             },
             "line": {
              "color": "white"
             }
            },
            "header": {
             "fill": {
              "color": "#C8D4E3"
             },
             "line": {
              "color": "white"
             }
            },
            "type": "table"
           }
          ]
         },
         "layout": {
          "annotationdefaults": {
           "arrowcolor": "#2a3f5f",
           "arrowhead": 0,
           "arrowwidth": 1
          },
          "autotypenumbers": "strict",
          "coloraxis": {
           "colorbar": {
            "outlinewidth": 0,
            "ticks": ""
           }
          },
          "colorscale": {
           "diverging": [
            [
             0,
             "#8e0152"
            ],
            [
             0.1,
             "#c51b7d"
            ],
            [
             0.2,
             "#de77ae"
            ],
            [
             0.3,
             "#f1b6da"
            ],
            [
             0.4,
             "#fde0ef"
            ],
            [
             0.5,
             "#f7f7f7"
            ],
            [
             0.6,
             "#e6f5d0"
            ],
            [
             0.7,
             "#b8e186"
            ],
            [
             0.8,
             "#7fbc41"
            ],
            [
             0.9,
             "#4d9221"
            ],
            [
             1,
             "#276419"
            ]
           ],
           "sequential": [
            [
             0,
             "#0d0887"
            ],
            [
             0.1111111111111111,
             "#46039f"
            ],
            [
             0.2222222222222222,
             "#7201a8"
            ],
            [
             0.3333333333333333,
             "#9c179e"
            ],
            [
             0.4444444444444444,
             "#bd3786"
            ],
            [
             0.5555555555555556,
             "#d8576b"
            ],
            [
             0.6666666666666666,
             "#ed7953"
            ],
            [
             0.7777777777777778,
             "#fb9f3a"
            ],
            [
             0.8888888888888888,
             "#fdca26"
            ],
            [
             1,
             "#f0f921"
            ]
           ],
           "sequentialminus": [
            [
             0,
             "#0d0887"
            ],
            [
             0.1111111111111111,
             "#46039f"
            ],
            [
             0.2222222222222222,
             "#7201a8"
            ],
            [
             0.3333333333333333,
             "#9c179e"
            ],
            [
             0.4444444444444444,
             "#bd3786"
            ],
            [
             0.5555555555555556,
             "#d8576b"
            ],
            [
             0.6666666666666666,
             "#ed7953"
            ],
            [
             0.7777777777777778,
             "#fb9f3a"
            ],
            [
             0.8888888888888888,
             "#fdca26"
            ],
            [
             1,
             "#f0f921"
            ]
           ]
          },
          "colorway": [
           "#636efa",
           "#EF553B",
           "#00cc96",
           "#ab63fa",
           "#FFA15A",
           "#19d3f3",
           "#FF6692",
           "#B6E880",
           "#FF97FF",
           "#FECB52"
          ],
          "font": {
           "color": "#2a3f5f"
          },
          "geo": {
           "bgcolor": "white",
           "lakecolor": "white",
           "landcolor": "#E5ECF6",
           "showlakes": true,
           "showland": true,
           "subunitcolor": "white"
          },
          "hoverlabel": {
           "align": "left"
          },
          "hovermode": "closest",
          "mapbox": {
           "style": "light"
          },
          "paper_bgcolor": "white",
          "plot_bgcolor": "#E5ECF6",
          "polar": {
           "angularaxis": {
            "gridcolor": "white",
            "linecolor": "white",
            "ticks": ""
           },
           "bgcolor": "#E5ECF6",
           "radialaxis": {
            "gridcolor": "white",
            "linecolor": "white",
            "ticks": ""
           }
          },
          "scene": {
           "xaxis": {
            "backgroundcolor": "#E5ECF6",
            "gridcolor": "white",
            "gridwidth": 2,
            "linecolor": "white",
            "showbackground": true,
            "ticks": "",
            "zerolinecolor": "white"
           },
           "yaxis": {
            "backgroundcolor": "#E5ECF6",
            "gridcolor": "white",
            "gridwidth": 2,
            "linecolor": "white",
            "showbackground": true,
            "ticks": "",
            "zerolinecolor": "white"
           },
           "zaxis": {
            "backgroundcolor": "#E5ECF6",
            "gridcolor": "white",
            "gridwidth": 2,
            "linecolor": "white",
            "showbackground": true,
            "ticks": "",
            "zerolinecolor": "white"
           }
          },
          "shapedefaults": {
           "line": {
            "color": "#2a3f5f"
           }
          },
          "ternary": {
           "aaxis": {
            "gridcolor": "white",
            "linecolor": "white",
            "ticks": ""
           },
           "baxis": {
            "gridcolor": "white",
            "linecolor": "white",
            "ticks": ""
           },
           "bgcolor": "#E5ECF6",
           "caxis": {
            "gridcolor": "white",
            "linecolor": "white",
            "ticks": ""
           }
          },
          "title": {
           "x": 0.05
          },
          "xaxis": {
           "automargin": true,
           "gridcolor": "white",
           "linecolor": "white",
           "ticks": "",
           "title": {
            "standoff": 15
           },
           "zerolinecolor": "white",
           "zerolinewidth": 2
          },
          "yaxis": {
           "automargin": true,
           "gridcolor": "white",
           "linecolor": "white",
           "ticks": "",
           "title": {
            "standoff": 15
           },
           "zerolinecolor": "white",
           "zerolinewidth": 2
          }
         }
        },
        "title": {
         "text": "TSNE"
        },
        "width": 1000,
        "xaxis": {
         "anchor": "y",
         "domain": [
          0,
          1
         ],
         "title": {
          "text": "x"
         }
        },
        "yaxis": {
         "anchor": "x",
         "domain": [
          0,
          1
         ],
         "title": {
          "text": "y"
         }
        }
       }
      }
     },
     "metadata": {},
     "output_type": "display_data"
    }
   ],
   "source": [
    "grouping_skills = ['Language', 'Platform', 'Web Framework','Miscellaneous Tech', 'Database']\n",
    "\n",
    "jobs_to_cluster = ['Developer, back-end', 'Developer, full-stack']\n",
    "tsne_projections = {}\n",
    "for job in jobs_to_cluster:\n",
    "    job_df = encoded_df[encoded_df[('DevType', 'Developer, back-end')]==1][grouping_skills]\n",
    "    std_skills = StandardScaler().fit_transform(job_df.copy())\n",
    "    tsne_projection = TSNE(n_components=2, \n",
    "                        perplexity=3,\n",
    "                        learning_rate=0.01,\n",
    "                        init='pca', \n",
    "                        method='barnes_hut', \n",
    "                        n_jobs=2, \n",
    "                        n_iter=10**10,\n",
    "                        random_state=0).fit_transform(std_skills.T)\n",
    "\n",
    "    tsne_projection = pd.DataFrame(tsne_projection, index=job_df.copy().columns)\n",
    "    tsne_projections[job] = tsne_projection\n",
    "\n",
    "    fig = px.scatter(x=tsne_projection[0], y=tsne_projection[1], text=tsne_projection.droplevel(0).index)\n",
    "    fig.update_traces(textposition='top center')\n",
    "    fig.update_layout(height=1000, width=1000, title_text='TSNE')\n",
    "    fig.show()"
   ]
  },
  {
   "cell_type": "markdown",
   "metadata": {},
   "source": [
    "`Since both clusters have similar overall shape, I will use the backend cluster to extract significat subgroups which can be used to cluster the full-stack developers.`"
   ]
  },
  {
   "cell_type": "markdown",
   "metadata": {},
   "source": [
    "## Calculating the number of clusters\n",
    "- We will use the elbow method to calculate the number of clusters. The silhouette score is used to calculate the quality of the clusters. I testes two different clustering algorithms: DBscan and Agglomerative Clustering. The results are similar, but the DBscan Clustering algorithm is better in clustering when dealing with clusters of arbitrary shapes and densities. Therefore, I will use the DBscan Clustering algorithm to calculate the number of clusters."
   ]
  },
  {
   "cell_type": "code",
   "execution_count": 286,
   "metadata": {},
   "outputs": [],
   "source": [
    "range_n_cluster = list(range(10,50))\n",
    "silhoutte_score_db = []\n",
    "silhoutte_score_agg= []\n",
    "\n",
    "best_cluster_db = None \n",
    "best_cluster_ag = None\n",
    "eps = [2, 3, 4, 5, 6, 7, 8, 9, 10]\n",
    "\n",
    "for n_clusters in range_n_cluster:\n",
    "    agg_model  = AgglomerativeClustering(n_clusters=n_clusters, linkage='complete')\n",
    "    agg_labels = agg_model.fit_predict(tsne_projections['Developer, back-end'])\n",
    "   \n",
    "    silhouette_avg = silhouette_score(tsne_projections['Developer, back-end'], agg_labels)\n",
    "    silhoutte_score_agg += [silhouette_avg]\n",
    "    \n",
    "    if silhouette_avg >= np.max(silhoutte_score_agg):\n",
    "        best_cluster_agg = agg_model\n",
    "\n",
    "for e in eps:\n",
    "    db_model  = DBSCAN(eps=e, min_samples=2)\n",
    "    db_labels = db_model.fit_predict(tsne_projections['Developer, back-end'])\n",
    "    \n",
    "    silhouette_avg = silhouette_score(tsne_projections['Developer, back-end'], db_labels)\n",
    "    silhoutte_score_db += [silhouette_avg]\n",
    "    \n",
    "    if silhouette_avg >= np.max(silhoutte_score_db):\n",
    "        best_cluster_db = db_model"
   ]
  },
  {
   "cell_type": "code",
   "execution_count": 287,
   "metadata": {},
   "outputs": [
    {
     "data": {
      "text/plain": [
       "<matplotlib.lines.Line2D at 0x339130b90>"
      ]
     },
     "execution_count": 287,
     "metadata": {},
     "output_type": "execute_result"
    },
    {
     "data": {
      "image/png": "[encoded data removed]",
      "text/plain": [
       "<Figure size 640x480 with 1 Axes>"
      ]
     },
     "metadata": {},
     "output_type": "display_data"
    }
   ],
   "source": [
    "plt.plot(range_n_cluster, silhoutte_score_agg)\n",
    "plt.axvline(best_cluster_agg.n_clusters, color='red')"
   ]
  },
  {
   "cell_type": "code",
   "execution_count": 288,
   "metadata": {},
   "outputs": [
    {
     "data": {
      "text/plain": [
       "<matplotlib.lines.Line2D at 0x339130290>"
      ]
     },
     "execution_count": 288,
     "metadata": {},
     "output_type": "execute_result"
    },
    {
     "data": {
      "image/png": "[encoded data removed]",
      "text/plain": [
       "<Figure size 640x480 with 1 Axes>"
      ]
     },
     "metadata": {},
     "output_type": "display_data"
    }
   ],
   "source": [
    "plt.plot(eps, silhoutte_score_db)\n",
    "plt.axvline(best_cluster_db.get_params()['eps'], color='red')\n"
   ]
  },
  {
   "cell_type": "code",
   "execution_count": 289,
   "metadata": {},
   "outputs": [
    {
     "data": {
      "application/vnd.plotly.v1+json": {
       "config": {
        "plotlyServerURL": "https://plot.ly"
       },
       "data": [
        {
         "hovertemplate": "x=%{x}<br>y=%{y}<br>text=%{text}<br>color=%{marker.color}<extra></extra>",
         "legendgroup": "",
         "marker": {
          "color": [
           0,
           1,
           2,
           3,
           4,
           3,
           5,
           3,
           6,
           7,
           8,
           9,
           10,
           11,
           11,
           5,
           1,
           12,
           6,
           13,
           14,
           15,
           16,
           14,
           15,
           12,
           17,
           6,
           18,
           12,
           19,
           1,
           20,
           21,
           22,
           5,
           16,
           4,
           0,
           22,
           8,
           18,
           7,
           15,
           23,
           24,
           20,
           25,
           26,
           26,
           19,
           27,
           28,
           29,
           28,
           30,
           11,
           13,
           8,
           28,
           7,
           28,
           29,
           5,
           31,
           32,
           2,
           33,
           2,
           8,
           32,
           33,
           24,
           28,
           34,
           5,
           35,
           35,
           5,
           21,
           19,
           4,
           36,
           16,
           25,
           4,
           25,
           4,
           31,
           21,
           19,
           25,
           24,
           25,
           37,
           11,
           23,
           19,
           25,
           24,
           8,
           18,
           14,
           18,
           21,
           37,
           21,
           -1,
           5,
           34,
           38,
           39,
           23,
           40,
           41,
           41,
           25,
           9,
           3,
           23,
           40,
           41,
           14,
           40,
           17,
           3,
           17,
           40,
           3,
           40,
           40,
           3,
           14,
           42,
           25,
           40,
           14,
           20,
           18,
           40,
           0,
           40,
           38,
           38,
           13,
           39,
           39,
           30,
           13,
           5,
           0,
           39,
           6,
           40,
           27,
           42,
           30,
           10,
           14,
           7,
           42,
           21,
           26,
           5,
           -1,
           21,
           -1,
           2,
           27,
           5,
           42,
           4,
           27,
           36,
           24,
           13
          ],
          "coloraxis": "coloraxis",
          "symbol": "circle"
         },
         "mode": "markers+text",
         "name": "",
         "orientation": "v",
         "showlegend": false,
         "text": [
          "APL",
          "Ada",
          "Apex",
          "Assembly",
          "Bash/Shell (all shells)",
          "C",
          "C#",
          "C++",
          "Clojure",
          "Cobol",
          "Crystal",
          "Dart",
          "Delphi",
          "Elixir",
          "Erlang",
          "F#",
          "Flow",
          "Fortran",
          "GDScript",
          "Go",
          "Groovy",
          "HTML/CSS",
          "Haskell",
          "Java",
          "JavaScript",
          "Julia",
          "Kotlin",
          "Lisp",
          "Lua",
          "MATLAB",
          "Nim",
          "OCaml",
          "Objective-C",
          "PHP",
          "Perl",
          "PowerShell",
          "Prolog",
          "Python",
          "R",
          "Raku",
          "Ruby",
          "Rust",
          "SAS",
          "SQL",
          "Scala",
          "Solidity",
          "Swift",
          "TypeScript",
          "VBA",
          "Visual Basic (.Net)",
          "Zig",
          "Amazon Web Services (AWS)",
          "Cloudflare",
          "Colocation",
          "Digital Ocean",
          "Firebase",
          "Fly.io",
          "Google Cloud",
          "Heroku",
          "Hetzner",
          "IBM Cloud Or Watson",
          "Linode, now Akamai",
          "Managed Hosting",
          "Microsoft Azure",
          "Netlify",
          "OVH",
          "OpenShift",
          "OpenStack",
          "Oracle Cloud Infrastructure (OCI)",
          "Render",
          "Scaleway",
          "VMware",
          "Vercel",
          "Vultr",
          "ASP.NET",
          "ASP.NET CORE",
          "Angular",
          "AngularJS",
          "Blazor",
          "CodeIgniter",
          "Deno",
          "Django",
          "Drupal",
          "Elm",
          "Express",
          "FastAPI",
          "Fastify",
          "Flask",
          "Gatsby",
          "Laravel",
          "Lit",
          "NestJS",
          "Next.js",
          "Node.js",
          "Nuxt.js",
          "Phoenix",
          "Play Framework",
          "Qwik",
          "React",
          "Remix",
          "Ruby on Rails",
          "Solid.js",
          "Spring Boot",
          "Svelte",
          "Symfony",
          "Vue.js",
          "WordPress",
          "jQuery",
          ".NET (5+) ",
          ".NET Framework (1.0 - 4.8)",
          ".NET MAUI",
          "Apache Kafka",
          "Apache Spark",
          "CUDA",
          "Capacitor",
          "Cordova",
          "Electron",
          "Flutter",
          "GTK",
          "Hadoop",
          "Hugging Face Transformers",
          "Ionic",
          "JAX",
          "Keras",
          "Ktor",
          "MFC",
          "Micronaut",
          "NumPy",
          "OpenGL",
          "Opencv",
          "Pandas",
          "Qt",
          "Quarkus",
          "RabbitMQ",
          "React Native",
          "Scikit-Learn",
          "Spring Framework",
          "SwiftUI",
          "Tauri",
          "TensorFlow",
          "Tidyverse",
          "Torch/PyTorch",
          "Uno Platform",
          "Xamarin",
          "BigQuery",
          "Cassandra",
          "Clickhouse",
          "Cloud Firestore",
          "Cockroachdb",
          "Cosmos DB",
          "Couch DB",
          "Couchbase",
          "Datomic",
          "DuckDB",
          "Dynamodb",
          "Elasticsearch",
          "Firebase Realtime Database",
          "Firebird",
          "H2",
          "IBM DB2",
          "InfluxDB",
          "MariaDB",
          "Microsoft Access",
          "Microsoft SQL Server",
          "MongoDB",
          "MySQL",
          "Neo4J",
          "Oracle",
          "PostgreSQL",
          "RavenDB",
          "Redis",
          "SQLite",
          "Snowflake",
          "Solr",
          "Supabase",
          "TiDB"
         ],
         "textposition": "top center",
         "type": "scatter",
         "x": [
          -20.587284088134766,
          19.50360107421875,
          -38.92525100708008,
          16.232688903808594,
          0.5446971654891968,
          17.455812454223633,
          47.4681510925293,
          17.89944839477539,
          3.6657164096832275,
          -28.241592407226562,
          -19.012821197509766,
          -46.026161193847656,
          39.56004333496094,
          -22.259119033813477,
          -23.195453643798828,
          45.82560348510742,
          17.069124221801758,
          11.628381729125977,
          6.504846096038818,
          -9.366744995117188,
          -40.26370620727539,
          6.232519626617432,
          8.193161964416504,
          -38.402122497558594,
          5.431042671203613,
          12.421713829040527,
          -45.253658294677734,
          5.555010795593262,
          -0.44492989778518677,
          13.087315559387207,
          11.554692268371582,
          17.809534072875977,
          -9.830123901367188,
          9.325335502624512,
          15.997838020324707,
          45.85112380981445,
          7.067214488983154,
          -1.2601916790008545,
          -19.38361358642578,
          16.61013412475586,
          -17.468351364135742,
          -0.15160949528217316,
          -27.975675582885742,
          7.93605899810791,
          -28.154550552368164,
          -7.642180442810059,
          -11.25938892364502,
          -1.2908155918121338,
          47.787635803222656,
          47.92025375366211,
          12.123623847961426,
          -19.622848510742188,
          -1.7283360958099365,
          3.2934021949768066,
          -2.1754133701324463,
          -40.78404998779297,
          -20.063274383544922,
          -11.29235553741455,
          -14.809442520141602,
          -0.8696820735931396,
          -29.919946670532227,
          -3.843780994415283,
          4.9110565185546875,
          48.0277099609375,
          -9.912075996398926,
          6.945040702819824,
          -36.224609375,
          28.80219078063965,
          -39.128604888916016,
          -13.237809181213379,
          6.855518341064453,
          29.433595657348633,
          -9.856954574584961,
          -4.361807346343994,
          48.09550857543945,
          48.587921142578125,
          9.6724214553833,
          10.49116325378418,
          50.53145217895508,
          10.709716796875,
          12.409929275512695,
          -2.1080472469329834,
          17.372188568115234,
          8.655688285827637,
          -2.599271059036255,
          -0.41928213834762573,
          -4.543605804443359,
          -2.120192766189575,
          -8.134439468383789,
          9.853318214416504,
          12.634010314941406,
          -2.9614498615264893,
          -9.027437210083008,
          -1.8587764501571655,
          17.825862884521484,
          -21.619056701660156,
          -27.57343292236328,
          12.270984649658203,
          -1.7665222883224487,
          -13.913643836975098,
          -16.80974006652832,
          0.5343034863471985,
          -37.18548583984375,
          0.2247946560382843,
          8.390528678894043,
          17.3843936920166,
          7.681063175201416,
          7.8815178871154785,
          47.10795974731445,
          47.66453170776367,
          57.015037536621094,
          -33.29258346557617,
          -29.879383087158203,
          5.448027610778809,
          20.884193420410156,
          21.15244483947754,
          0.12017954140901566,
          -46.18324279785156,
          17.619667053222656,
          -30.414140701293945,
          4.928164005279541,
          20.70874786376953,
          -37.609439849853516,
          1.2147624492645264,
          -45.719154357910156,
          20.151477813720703,
          -44.40159225463867,
          0.9295656085014343,
          20.022537231445312,
          2.7547667026519775,
          0.028717318549752235,
          18.437463760375977,
          -39.385581970214844,
          -13.869551658630371,
          -1.5744056701660156,
          0.9151368737220764,
          -37.09534454345703,
          -12.000144004821777,
          0.0491250678896904,
          2.108642339706421,
          -18.9986515045166,
          4.218010902404785,
          55.563716888427734,
          56.63337326049805,
          -11.984786987304688,
          -31.753353118896484,
          -30.036291122436523,
          -39.90414047241211,
          -9.2560453414917,
          48.19202423095703,
          -20.79288101196289,
          -33.310829162597656,
          2.9395675659179688,
          -1.7120394706726074,
          -20.114896774291992,
          -11.72242259979248,
          -41.324615478515625,
          39.12889099121094,
          -35.48159408569336,
          -28.820993423461914,
          -10.362915992736816,
          10.306241035461426,
          47.57514572143555,
          48.955997467041016,
          -5.423174858093262,
          11.646261215209961,
          -7.703039646148682,
          -37.91862869262695,
          -17.432945251464844,
          43.71352005004883,
          -12.6226224899292,
          -3.2912991046905518,
          -20.391685485839844,
          18.069896697998047,
          -12.251482009887695,
          -6.871874809265137
         ],
         "xaxis": "x",
         "y": [
          -31.345354080200195,
          -12.996476173400879,
          -25.313310623168945,
          -15.56786823272705,
          -28.155670166015625,
          -16.612197875976562,
          2.2925214767456055,
          -17.5816707611084,
          -16.33122444152832,
          -30.407764434814453,
          32.00554275512695,
          12.00308895111084,
          -14.961183547973633,
          21.285499572753906,
          20.042993545532227,
          4.7993083000183105,
          -11.335443496704102,
          -17.1682186126709,
          -14.349364280700684,
          -6.308549404144287,
          -16.381153106689453,
          27.3814697265625,
          -6.674707412719727,
          -17.438785552978516,
          27.22702407836914,
          -20.61357879638672,
          -14.258585929870605,
          -15.527203559875488,
          -3.152114152908325,
          -19.137998580932617,
          -2.150404930114746,
          -12.91840934753418,
          -19.913902282714844,
          36.839351654052734,
          -30.734769821166992,
          1.0318684577941895,
          -8.209041595458984,
          -29.705059051513672,
          -33.274147033691406,
          -30.599056243896484,
          31.371339797973633,
          -1.3933990001678467,
          -32.309783935546875,
          26.55329132080078,
          -5.065672874450684,
          21.9017333984375,
          -19.72534942626953,
          20.330842971801758,
          -8.656250953674316,
          -7.611613750457764,
          -0.040090180933475494,
          5.062514305114746,
          48.040382385253906,
          37.611515045166016,
          48.857421875,
          14.049240112304688,
          21.891023635864258,
          -7.274359703063965,
          30.576786041259766,
          46.49779510498047,
          -28.364912033081055,
          51.552005767822266,
          37.49766540527344,
          6.652927875518799,
          27.308969497680664,
          45.73107147216797,
          -22.366252899169922,
          -1.9198461771011353,
          -23.82526969909668,
          30.07792854309082,
          46.43670654296875,
          -1.9465384483337402,
          24.02464485168457,
          50.88752746582031,
          -3.195955514907837,
          3.447435140609741,
          18.463199615478516,
          18.532115936279297,
          3.9818618297576904,
          34.20990753173828,
          3.1291592121124268,
          -29.404909133911133,
          35.72691345214844,
          -6.002084732055664,
          17.46384048461914,
          -31.469480514526367,
          17.741294860839844,
          -31.469295501708984,
          28.14202117919922,
          36.253196716308594,
          4.753893852233887,
          15.992278099060059,
          23.428577423095703,
          18.161367416381836,
          45.35884094238281,
          21.250263214111328,
          -5.550866603851318,
          0.8518943786621094,
          22.235363006591797,
          22.648271560668945,
          31.178926467895508,
          2.7499961853027344,
          -16.889362335205078,
          1.1318198442459106,
          38.117488861083984,
          44.808074951171875,
          35.232608795166016,
          31.55275535583496,
          3.34903883934021,
          -2.286332368850708,
          3.613981246948242,
          -12.656044960021973,
          -2.847590684890747,
          -42.618141174316406,
          18.60096549987793,
          19.986190795898438,
          17.43059730529785,
          11.41403579711914,
          -21.36724853515625,
          -2.2965049743652344,
          -45.251556396484375,
          17.901569366455078,
          -14.115598678588867,
          -43.83384323120117,
          -13.574769973754883,
          -17.349153518676758,
          -15.933618545532227,
          -38.897403717041016,
          -20.64048194885254,
          -38.393009185791016,
          -38.621429443359375,
          -20.12628173828125,
          -19.037540435791016,
          9.239765167236328,
          23.701032638549805,
          -40.909854888916016,
          -15.953705787658691,
          -19.618106842041016,
          -0.16410057246685028,
          -43.49757385253906,
          -33.903507232666016,
          -43.65104675292969,
          1.3661081790924072,
          2.9500772953033447,
          -7.635134696960449,
          -11.754891395568848,
          -12.143043518066406,
          13.128900527954102,
          -4.738887786865234,
          8.205474853515625,
          -29.380474090576172,
          -10.555680274963379,
          -16.624183654785156,
          -38.02189636230469,
          5.701268672943115,
          7.9103522300720215,
          14.671951293945312,
          -15.404093742370605,
          -17.78297996520996,
          -29.719247817993164,
          6.801456451416016,
          39.1652946472168,
          -9.779349327087402,
          1.1172531843185425,
          13.729620933532715,
          37.45494842529297,
          11.375679969787598,
          -22.710010528564453,
          5.423573970794678,
          3.1051111221313477,
          8.214446067810059,
          -27.92447280883789,
          3.2255666255950928,
          35.49573516845703,
          23.15979766845703,
          -7.487629413604736
         ],
         "yaxis": "y"
        }
       ],
       "layout": {
        "coloraxis": {
         "colorbar": {
          "title": {
           "text": "color"
          }
         },
         "colorscale": [
          [
           0,
           "#0d0887"
          ],
          [
           0.1111111111111111,
           "#46039f"
          ],
          [
           0.2222222222222222,
           "#7201a8"
          ],
          [
           0.3333333333333333,
           "#9c179e"
          ],
          [
           0.4444444444444444,
           "#bd3786"
          ],
          [
           0.5555555555555556,
           "#d8576b"
          ],
          [
           0.6666666666666666,
           "#ed7953"
          ],
          [
           0.7777777777777778,
           "#fb9f3a"
          ],
          [
           0.8888888888888888,
           "#fdca26"
          ],
          [
           1,
           "#f0f921"
          ]
         ]
        },
        "height": 1000,
        "legend": {
         "tracegroupgap": 0
        },
        "margin": {
         "t": 60
        },
        "template": {
         "data": {
          "bar": [
           {
            "error_x": {
             "color": "#2a3f5f"
            },
            "error_y": {
             "color": "#2a3f5f"
            },
            "marker": {
             "line": {
              "color": "#E5ECF6",
              "width": 0.5
             },
             "pattern": {
              "fillmode": "overlay",
              "size": 10,
              "solidity": 0.2
             }
            },
            "type": "bar"
           }
          ],
          "barpolar": [
           {
            "marker": {
             "line": {
              "color": "#E5ECF6",
              "width": 0.5
             },
             "pattern": {
              "fillmode": "overlay",
              "size": 10,
              "solidity": 0.2
             }
            },
            "type": "barpolar"
           }
          ],
          "carpet": [
           {
            "aaxis": {
             "endlinecolor": "#2a3f5f",
             "gridcolor": "white",
             "linecolor": "white",
             "minorgridcolor": "white",
             "startlinecolor": "#2a3f5f"
            },
            "baxis": {
             "endlinecolor": "#2a3f5f",
             "gridcolor": "white",
             "linecolor": "white",
             "minorgridcolor": "white",
             "startlinecolor": "#2a3f5f"
            },
            "type": "carpet"
           }
          ],
          "choropleth": [
           {
            "colorbar": {
             "outlinewidth": 0,
             "ticks": ""
            },
            "type": "choropleth"
           }
          ],
          "contour": [
           {
            "colorbar": {
             "outlinewidth": 0,
             "ticks": ""
            },
            "colorscale": [
             [
              0,
              "#0d0887"
             ],
             [
              0.1111111111111111,
              "#46039f"
             ],
             [
              0.2222222222222222,
              "#7201a8"
             ],
             [
              0.3333333333333333,
              "#9c179e"
             ],
             [
              0.4444444444444444,
              "#bd3786"
             ],
             [
              0.5555555555555556,
              "#d8576b"
             ],
             [
              0.6666666666666666,
              "#ed7953"
             ],
             [
              0.7777777777777778,
              "#fb9f3a"
             ],
             [
              0.8888888888888888,
              "#fdca26"
             ],
             [
              1,
              "#f0f921"
             ]
            ],
            "type": "contour"
           }
          ],
          "contourcarpet": [
           {
            "colorbar": {
             "outlinewidth": 0,
             "ticks": ""
            },
            "type": "contourcarpet"
           }
          ],
          "heatmap": [
           {
            "colorbar": {
             "outlinewidth": 0,
             "ticks": ""
            },
            "colorscale": [
             [
              0,
              "#0d0887"
             ],
             [
              0.1111111111111111,
              "#46039f"
             ],
             [
              0.2222222222222222,
              "#7201a8"
             ],
             [
              0.3333333333333333,
              "#9c179e"
             ],
             [
              0.4444444444444444,
              "#bd3786"
             ],
             [
              0.5555555555555556,
              "#d8576b"
             ],
             [
              0.6666666666666666,
              "#ed7953"
             ],
             [
              0.7777777777777778,
              "#fb9f3a"
             ],
             [
              0.8888888888888888,
              "#fdca26"
             ],
             [
              1,
              "#f0f921"
             ]
            ],
            "type": "heatmap"
           }
          ],
          "heatmapgl": [
           {
            "colorbar": {
             "outlinewidth": 0,
             "ticks": ""
            },
            "colorscale": [
             [
              0,
              "#0d0887"
             ],
             [
              0.1111111111111111,
              "#46039f"
             ],
             [
              0.2222222222222222,
              "#7201a8"
             ],
             [
              0.3333333333333333,
              "#9c179e"
             ],
             [
              0.4444444444444444,
              "#bd3786"
             ],
             [
              0.5555555555555556,
              "#d8576b"
             ],
             [
              0.6666666666666666,
              "#ed7953"
             ],
             [
              0.7777777777777778,
              "#fb9f3a"
             ],
             [
              0.8888888888888888,
              "#fdca26"
             ],
             [
              1,
              "#f0f921"
             ]
            ],
            "type": "heatmapgl"
           }
          ],
          "histogram": [
           {
            "marker": {
             "pattern": {
              "fillmode": "overlay",
              "size": 10,
              "solidity": 0.2
             }
            },
            "type": "histogram"
           }
          ],
          "histogram2d": [
           {
            "colorbar": {
             "outlinewidth": 0,
             "ticks": ""
            },
            "colorscale": [
             [
              0,
              "#0d0887"
             ],
             [
              0.1111111111111111,
              "#46039f"
             ],
             [
              0.2222222222222222,
              "#7201a8"
             ],
             [
              0.3333333333333333,
              "#9c179e"
             ],
             [
              0.4444444444444444,
              "#bd3786"
             ],
             [
              0.5555555555555556,
              "#d8576b"
             ],
             [
              0.6666666666666666,
              "#ed7953"
             ],
             [
              0.7777777777777778,
              "#fb9f3a"
             ],
             [
              0.8888888888888888,
              "#fdca26"
             ],
             [
              1,
              "#f0f921"
             ]
            ],
            "type": "histogram2d"
           }
          ],
          "histogram2dcontour": [
           {
            "colorbar": {
             "outlinewidth": 0,
             "ticks": ""
            },
            "colorscale": [
             [
              0,
              "#0d0887"
             ],
             [
              0.1111111111111111,
              "#46039f"
             ],
             [
              0.2222222222222222,
              "#7201a8"
             ],
             [
              0.3333333333333333,
              "#9c179e"
             ],
             [
              0.4444444444444444,
              "#bd3786"
             ],
             [
              0.5555555555555556,
              "#d8576b"
             ],
             [
              0.6666666666666666,
              "#ed7953"
             ],
             [
              0.7777777777777778,
              "#fb9f3a"
             ],
             [
              0.8888888888888888,
              "#fdca26"
             ],
             [
              1,
              "#f0f921"
             ]
            ],
            "type": "histogram2dcontour"
           }
          ],
          "mesh3d": [
           {
            "colorbar": {
             "outlinewidth": 0,
             "ticks": ""
            },
            "type": "mesh3d"
           }
          ],
          "parcoords": [
           {
            "line": {
             "colorbar": {
              "outlinewidth": 0,
              "ticks": ""
             }
            },
            "type": "parcoords"
           }
          ],
          "pie": [
           {
            "automargin": true,
            "type": "pie"
           }
          ],
          "scatter": [
           {
            "fillpattern": {
             "fillmode": "overlay",
             "size": 10,
             "solidity": 0.2
            },
            "type": "scatter"
           }
          ],
          "scatter3d": [
           {
            "line": {
             "colorbar": {
              "outlinewidth": 0,
              "ticks": ""
             }
            },
            "marker": {
             "colorbar": {
              "outlinewidth": 0,
              "ticks": ""
             }
            },
            "type": "scatter3d"
           }
          ],
          "scattercarpet": [
           {
            "marker": {
             "colorbar": {
              "outlinewidth": 0,
              "ticks": ""
             }
            },
            "type": "scattercarpet"
           }
          ],
          "scattergeo": [
           {
            "marker": {
             "colorbar": {
              "outlinewidth": 0,
              "ticks": ""
             }
            },
            "type": "scattergeo"
           }
          ],
          "scattergl": [
           {
            "marker": {
             "colorbar": {
              "outlinewidth": 0,
              "ticks": ""
             }
            },
            "type": "scattergl"
           }
          ],
          "scattermapbox": [
           {
            "marker": {
             "colorbar": {
              "outlinewidth": 0,
              "ticks": ""
             }
            },
            "type": "scattermapbox"
           }
          ],
          "scatterpolar": [
           {
            "marker": {
             "colorbar": {
              "outlinewidth": 0,
              "ticks": ""
             }
            },
            "type": "scatterpolar"
           }
          ],
          "scatterpolargl": [
           {
            "marker": {
             "colorbar": {
              "outlinewidth": 0,
              "ticks": ""
             }
            },
            "type": "scatterpolargl"
           }
          ],
          "scatterternary": [
           {
            "marker": {
             "colorbar": {
              "outlinewidth": 0,
              "ticks": ""
             }
            },
            "type": "scatterternary"
           }
          ],
          "surface": [
           {
            "colorbar": {
             "outlinewidth": 0,
             "ticks": ""
            },
            "colorscale": [
             [
              0,
              "#0d0887"
             ],
             [
              0.1111111111111111,
              "#46039f"
             ],
             [
              0.2222222222222222,
              "#7201a8"
             ],
             [
              0.3333333333333333,
              "#9c179e"
             ],
             [
              0.4444444444444444,
              "#bd3786"
             ],
             [
              0.5555555555555556,
              "#d8576b"
             ],
             [
              0.6666666666666666,
              "#ed7953"
             ],
             [
              0.7777777777777778,
              "#fb9f3a"
             ],
             [
              0.8888888888888888,
              "#fdca26"
             ],
             [
              1,
              "#f0f921"
             ]
            ],
            "type": "surface"
           }
          ],
          "table": [
           {
            "cells": {
             "fill": {
              "color": "#EBF0F8"
             },
             "line": {
              "color": "white"
             }
            },
            "header": {
             "fill": {
              "color": "#C8D4E3"
             },
             "line": {
              "color": "white"
             }
            },
            "type": "table"
           }
          ]
         },
         "layout": {
          "annotationdefaults": {
           "arrowcolor": "#2a3f5f",
           "arrowhead": 0,
           "arrowwidth": 1
          },
          "autotypenumbers": "strict",
          "coloraxis": {
           "colorbar": {
            "outlinewidth": 0,
            "ticks": ""
           }
          },
          "colorscale": {
           "diverging": [
            [
             0,
             "#8e0152"
            ],
            [
             0.1,
             "#c51b7d"
            ],
            [
             0.2,
             "#de77ae"
            ],
            [
             0.3,
             "#f1b6da"
            ],
            [
             0.4,
             "#fde0ef"
            ],
            [
             0.5,
             "#f7f7f7"
            ],
            [
             0.6,
             "#e6f5d0"
            ],
            [
             0.7,
             "#b8e186"
            ],
            [
             0.8,
             "#7fbc41"
            ],
            [
             0.9,
             "#4d9221"
            ],
            [
             1,
             "#276419"
            ]
           ],
           "sequential": [
            [
             0,
             "#0d0887"
            ],
            [
             0.1111111111111111,
             "#46039f"
            ],
            [
             0.2222222222222222,
             "#7201a8"
            ],
            [
             0.3333333333333333,
             "#9c179e"
            ],
            [
             0.4444444444444444,
             "#bd3786"
            ],
            [
             0.5555555555555556,
             "#d8576b"
            ],
            [
             0.6666666666666666,
             "#ed7953"
            ],
            [
             0.7777777777777778,
             "#fb9f3a"
            ],
            [
             0.8888888888888888,
             "#fdca26"
            ],
            [
             1,
             "#f0f921"
            ]
           ],
           "sequentialminus": [
            [
             0,
             "#0d0887"
            ],
            [
             0.1111111111111111,
             "#46039f"
            ],
            [
             0.2222222222222222,
             "#7201a8"
            ],
            [
             0.3333333333333333,
             "#9c179e"
            ],
            [
             0.4444444444444444,
             "#bd3786"
            ],
            [
             0.5555555555555556,
             "#d8576b"
            ],
            [
             0.6666666666666666,
             "#ed7953"
            ],
            [
             0.7777777777777778,
             "#fb9f3a"
            ],
            [
             0.8888888888888888,
             "#fdca26"
            ],
            [
             1,
             "#f0f921"
            ]
           ]
          },
          "colorway": [
           "#636efa",
           "#EF553B",
           "#00cc96",
           "#ab63fa",
           "#FFA15A",
           "#19d3f3",
           "#FF6692",
           "#B6E880",
           "#FF97FF",
           "#FECB52"
          ],
          "font": {
           "color": "#2a3f5f"
          },
          "geo": {
           "bgcolor": "white",
           "lakecolor": "white",
           "landcolor": "#E5ECF6",
           "showlakes": true,
           "showland": true,
           "subunitcolor": "white"
          },
          "hoverlabel": {
           "align": "left"
          },
          "hovermode": "closest",
          "mapbox": {
           "style": "light"
          },
          "paper_bgcolor": "white",
          "plot_bgcolor": "#E5ECF6",
          "polar": {
           "angularaxis": {
            "gridcolor": "white",
            "linecolor": "white",
            "ticks": ""
           },
           "bgcolor": "#E5ECF6",
           "radialaxis": {
            "gridcolor": "white",
            "linecolor": "white",
            "ticks": ""
           }
          },
          "scene": {
           "xaxis": {
            "backgroundcolor": "#E5ECF6",
            "gridcolor": "white",
            "gridwidth": 2,
            "linecolor": "white",
            "showbackground": true,
            "ticks": "",
            "zerolinecolor": "white"
           },
           "yaxis": {
            "backgroundcolor": "#E5ECF6",
            "gridcolor": "white",
            "gridwidth": 2,
            "linecolor": "white",
            "showbackground": true,
            "ticks": "",
            "zerolinecolor": "white"
           },
           "zaxis": {
            "backgroundcolor": "#E5ECF6",
            "gridcolor": "white",
            "gridwidth": 2,
            "linecolor": "white",
            "showbackground": true,
            "ticks": "",
            "zerolinecolor": "white"
           }
          },
          "shapedefaults": {
           "line": {
            "color": "#2a3f5f"
           }
          },
          "ternary": {
           "aaxis": {
            "gridcolor": "white",
            "linecolor": "white",
            "ticks": ""
           },
           "baxis": {
            "gridcolor": "white",
            "linecolor": "white",
            "ticks": ""
           },
           "bgcolor": "#E5ECF6",
           "caxis": {
            "gridcolor": "white",
            "linecolor": "white",
            "ticks": ""
           }
          },
          "title": {
           "x": 0.05
          },
          "xaxis": {
           "automargin": true,
           "gridcolor": "white",
           "linecolor": "white",
           "ticks": "",
           "title": {
            "standoff": 15
           },
           "zerolinecolor": "white",
           "zerolinewidth": 2
          },
          "yaxis": {
           "automargin": true,
           "gridcolor": "white",
           "linecolor": "white",
           "ticks": "",
           "title": {
            "standoff": 15
           },
           "zerolinecolor": "white",
           "zerolinewidth": 2
          }
         }
        },
        "title": {
         "text": "TSNE"
        },
        "width": 1000,
        "xaxis": {
         "anchor": "y",
         "domain": [
          0,
          1
         ],
         "title": {
          "text": "x"
         }
        },
        "yaxis": {
         "anchor": "x",
         "domain": [
          0,
          1
         ],
         "title": {
          "text": "y"
         }
        }
       }
      }
     },
     "metadata": {},
     "output_type": "display_data"
    }
   ],
   "source": [
    "fig = px.scatter(x=tsne_projections['Developer, back-end'][0], y=tsne_projections['Developer, back-end'][1], \n",
    "                 text=tsne_projections['Developer, back-end'].droplevel(0).index, color=best_cluster_db.labels_)\n",
    "fig.update_traces(textposition='top center')\n",
    "fig.update_layout(height=1000, width=1000, title_text='TSNE')\n",
    "fig.show()"
   ]
  },
  {
   "cell_type": "markdown",
   "metadata": {},
   "source": [
    "## Buiilding the clusters"
   ]
  },
  {
   "cell_type": "code",
   "execution_count": 290,
   "metadata": {},
   "outputs": [],
   "source": [
    "backedn_skills_clusters = tsne_projections['Developer, back-end'].index.droplevel(0).to_series().groupby(best_cluster_db.labels_).apply(list)\n",
    "backedn_skills_clusters.reset_index(drop=True, inplace=True)\n"
   ]
  },
  {
   "cell_type": "markdown",
   "metadata": {},
   "source": [
    "- since the number of optimun clusters in 40, I will manuallly investigate the clusters to find the subgroups with a meaningful group of skills and assign apporpiate labels to them. "
   ]
  },
  {
   "cell_type": "code",
   "execution_count": 291,
   "metadata": {},
   "outputs": [
    {
     "name": "stdout",
     "output_type": "stream",
     "text": [
      "33\n"
     ]
    }
   ],
   "source": [
    "major_clusters = []\n",
    "for cluster in backedn_skills_clusters:\n",
    "        major_clusters.append(cluster) if len(cluster) >= 3 else None\n",
    "\n",
    "print(len(major_clusters))"
   ]
  },
  {
   "cell_type": "code",
   "execution_count": 292,
   "metadata": {},
   "outputs": [
    {
     "name": "stdout",
     "output_type": "stream",
     "text": [
      "['jQuery', 'MongoDB', 'Neo4J']\n",
      "---------------------\n",
      "['APL', 'R', 'Tidyverse', 'Couch DB']\n",
      "---------------------\n",
      "['Ada', 'Flow', 'OCaml']\n",
      "---------------------\n",
      "['Apex', 'OpenShift', 'Oracle Cloud Infrastructure (OCI)', 'Oracle']\n",
      "---------------------\n",
      "['Assembly', 'C', 'C++', 'GTK', 'MFC', 'OpenGL', 'Qt']\n",
      "---------------------\n",
      "['Bash/Shell (all shells)', 'Python', 'Django', 'FastAPI', 'Flask', 'SQLite']\n",
      "---------------------\n",
      "['C#', 'F#', 'PowerShell', 'Microsoft Azure', 'ASP.NET CORE', 'Blazor', '.NET (5+) ', 'Cosmos DB', 'Microsoft SQL Server', 'RavenDB']\n",
      "---------------------\n",
      "['Clojure', 'GDScript', 'Lisp', 'Datomic']\n",
      "---------------------\n",
      "['Cobol', 'SAS', 'IBM Cloud Or Watson', 'IBM DB2']\n",
      "---------------------\n",
      "['Crystal', 'Ruby', 'Heroku', 'Render', 'Ruby on Rails']\n",
      "---------------------\n",
      "['Elixir', 'Erlang', 'Fly.io', 'Phoenix']\n",
      "---------------------\n",
      "['Fortran', 'Julia', 'MATLAB']\n",
      "---------------------\n",
      "['Go', 'Google Cloud', 'BigQuery', 'Cockroachdb', 'TiDB']\n",
      "---------------------\n",
      "['Groovy', 'Java', 'Spring Boot', 'JAX', 'Quarkus', 'Spring Framework', 'H2']\n",
      "---------------------\n",
      "['HTML/CSS', 'JavaScript', 'SQL']\n",
      "---------------------\n",
      "['Haskell', 'Prolog', 'Elm']\n",
      "---------------------\n",
      "['Kotlin', 'Ktor', 'Micronaut']\n",
      "---------------------\n",
      "['Lua', 'Rust', 'Solid.js', 'Svelte', 'Tauri']\n",
      "---------------------\n",
      "['Nim', 'Zig', 'Deno', 'Lit', 'Qwik']\n",
      "---------------------\n",
      "['Objective-C', 'Swift', 'SwiftUI']\n",
      "---------------------\n",
      "['PHP', 'CodeIgniter', 'Laravel', 'Symfony', 'WordPress', 'MariaDB', 'MySQL']\n",
      "---------------------\n",
      "['Scala', 'Play Framework', 'Apache Spark', 'Hadoop']\n",
      "---------------------\n",
      "['Solidity', 'Vercel', 'Next.js', 'Remix', 'Supabase']\n",
      "---------------------\n",
      "['TypeScript', 'Express', 'Fastify', 'NestJS', 'Node.js', 'React', 'Electron', 'React Native']\n",
      "---------------------\n",
      "['VBA', 'Visual Basic (.Net)', 'Microsoft Access']\n",
      "---------------------\n",
      "['Amazon Web Services (AWS)', 'Dynamodb', 'PostgreSQL', 'Snowflake']\n",
      "---------------------\n",
      "['Cloudflare', 'Digital Ocean', 'Hetzner', 'Linode, now Akamai', 'Vultr']\n",
      "---------------------\n",
      "['Firebase', 'Cloud Firestore', 'Firebase Realtime Database']\n",
      "---------------------\n",
      "['.NET MAUI', 'Uno Platform', 'Xamarin']\n",
      "---------------------\n",
      "['Apache Kafka', 'Cassandra', 'Clickhouse', 'Couchbase']\n",
      "---------------------\n",
      "['CUDA', 'Hugging Face Transformers', 'Keras', 'NumPy', 'Opencv', 'Pandas', 'Scikit-Learn', 'TensorFlow', 'Torch/PyTorch', 'DuckDB']\n",
      "---------------------\n",
      "['Capacitor', 'Cordova', 'Ionic']\n",
      "---------------------\n",
      "['RabbitMQ', 'Elasticsearch', 'InfluxDB', 'Redis']\n",
      "---------------------\n"
     ]
    }
   ],
   "source": [
    "for cluster in major_clusters:\n",
    "    print(cluster)\n",
    "    print('---------------------')"
   ]
  },
  {
   "cell_type": "markdown",
   "metadata": {},
   "source": [
    "## Extracting the subgroups"
   ]
  },
  {
   "cell_type": "code",
   "execution_count": 293,
   "metadata": {},
   "outputs": [],
   "source": [
    "keys =['drop', 'drop0', 'drop00', 'Oracle', 'C/C++',  'Python', '.NET', 'drop1','drop2', 'Ruby', 'Elixir',\n",
    "       'drop2', 'drop22', 'Java', 'drop3', 'drop4', 'drop5', 'Rust', 'drop33', 'Swift', 'PHP', \n",
    "       'Scala/Big data', 'drop6', 'React[NAtive]', 'drop7', 'drop8', 'drop91', 'drop71', 'drop81', 'drop9', 'AI', 'drop10'\n",
    "       ]"
   ]
  },
  {
   "cell_type": "code",
   "execution_count": 294,
   "metadata": {},
   "outputs": [
    {
     "data": {
      "text/plain": [
       "{'drop': ['jQuery', 'MongoDB', 'Neo4J'],\n",
       " 'drop0': ['APL', 'R', 'Tidyverse', 'Couch DB'],\n",
       " 'drop00': ['Ada', 'Flow', 'OCaml'],\n",
       " 'Oracle': ['Apex',\n",
       "  'OpenShift',\n",
       "  'Oracle Cloud Infrastructure (OCI)',\n",
       "  'Oracle'],\n",
       " 'C/C++': ['Assembly', 'C', 'C++', 'GTK', 'MFC', 'OpenGL', 'Qt'],\n",
       " 'Python': ['Bash/Shell (all shells)',\n",
       "  'Python',\n",
       "  'Django',\n",
       "  'FastAPI',\n",
       "  'Flask',\n",
       "  'SQLite'],\n",
       " '.NET': ['C#',\n",
       "  'F#',\n",
       "  'PowerShell',\n",
       "  'Microsoft Azure',\n",
       "  'ASP.NET CORE',\n",
       "  'Blazor',\n",
       "  '.NET (5+) ',\n",
       "  'Cosmos DB',\n",
       "  'Microsoft SQL Server',\n",
       "  'RavenDB'],\n",
       " 'drop1': ['Clojure', 'GDScript', 'Lisp', 'Datomic'],\n",
       " 'drop2': ['Fortran', 'Julia', 'MATLAB'],\n",
       " 'Ruby': ['Crystal', 'Ruby', 'Heroku', 'Render', 'Ruby on Rails'],\n",
       " 'Elixir': ['Elixir', 'Erlang', 'Fly.io', 'Phoenix'],\n",
       " 'drop22': ['Go', 'Google Cloud', 'BigQuery', 'Cockroachdb', 'TiDB'],\n",
       " 'Java': ['Groovy',\n",
       "  'Java',\n",
       "  'Spring Boot',\n",
       "  'JAX',\n",
       "  'Quarkus',\n",
       "  'Spring Framework',\n",
       "  'H2'],\n",
       " 'drop3': ['HTML/CSS', 'JavaScript', 'SQL'],\n",
       " 'drop4': ['Haskell', 'Prolog', 'Elm'],\n",
       " 'drop5': ['Kotlin', 'Ktor', 'Micronaut'],\n",
       " 'Rust': ['Lua', 'Rust', 'Solid.js', 'Svelte', 'Tauri'],\n",
       " 'drop33': ['Nim', 'Zig', 'Deno', 'Lit', 'Qwik'],\n",
       " 'Swift': ['Objective-C', 'Swift', 'SwiftUI'],\n",
       " 'PHP': ['PHP',\n",
       "  'CodeIgniter',\n",
       "  'Laravel',\n",
       "  'Symfony',\n",
       "  'WordPress',\n",
       "  'MariaDB',\n",
       "  'MySQL'],\n",
       " 'Scala/Big data': ['Scala', 'Play Framework', 'Apache Spark', 'Hadoop'],\n",
       " 'drop6': ['Solidity', 'Vercel', 'Next.js', 'Remix', 'Supabase'],\n",
       " 'React[NAtive]': ['TypeScript',\n",
       "  'Express',\n",
       "  'Fastify',\n",
       "  'NestJS',\n",
       "  'Node.js',\n",
       "  'React',\n",
       "  'Electron',\n",
       "  'React Native'],\n",
       " 'drop7': ['VBA', 'Visual Basic (.Net)', 'Microsoft Access'],\n",
       " 'drop8': ['Amazon Web Services (AWS)', 'Dynamodb', 'PostgreSQL', 'Snowflake'],\n",
       " 'drop91': ['Cloudflare',\n",
       "  'Digital Ocean',\n",
       "  'Hetzner',\n",
       "  'Linode, now Akamai',\n",
       "  'Vultr'],\n",
       " 'drop71': ['Firebase', 'Cloud Firestore', 'Firebase Realtime Database'],\n",
       " 'drop81': ['.NET MAUI', 'Uno Platform', 'Xamarin'],\n",
       " 'drop9': ['Apache Kafka', 'Cassandra', 'Clickhouse', 'Couchbase'],\n",
       " 'AI': ['CUDA',\n",
       "  'Hugging Face Transformers',\n",
       "  'Keras',\n",
       "  'NumPy',\n",
       "  'Opencv',\n",
       "  'Pandas',\n",
       "  'Scikit-Learn',\n",
       "  'TensorFlow',\n",
       "  'Torch/PyTorch',\n",
       "  'DuckDB'],\n",
       " 'drop10': ['Capacitor', 'Cordova', 'Ionic']}"
      ]
     },
     "execution_count": 294,
     "metadata": {},
     "output_type": "execute_result"
    }
   ],
   "source": [
    "backend_groups = dict(zip(keys, major_clusters))\n",
    "backend_groups"
   ]
  },
  {
   "cell_type": "code",
   "execution_count": 295,
   "metadata": {},
   "outputs": [
    {
     "name": "stdout",
     "output_type": "stream",
     "text": [
      "13\n"
     ]
    }
   ],
   "source": [
    "backend_groups = {key: value for key, value in backend_groups.items() if 'drop' not in key}\n",
    "print(len(backend_groups))\n"
   ]
  },
  {
   "cell_type": "code",
   "execution_count": 296,
   "metadata": {},
   "outputs": [
    {
     "data": {
      "text/plain": [
       "{'Oracle': ['Apex',\n",
       "  'OpenShift',\n",
       "  'Oracle Cloud Infrastructure (OCI)',\n",
       "  'Oracle'],\n",
       " 'C/C++': ['Assembly', 'C', 'C++', 'GTK', 'MFC', 'OpenGL', 'Qt'],\n",
       " 'Python': ['Bash/Shell (all shells)',\n",
       "  'Python',\n",
       "  'Django',\n",
       "  'FastAPI',\n",
       "  'Flask',\n",
       "  'SQLite'],\n",
       " '.NET': ['C#',\n",
       "  'F#',\n",
       "  'PowerShell',\n",
       "  'Microsoft Azure',\n",
       "  'ASP.NET CORE',\n",
       "  'Blazor',\n",
       "  '.NET (5+) ',\n",
       "  'Cosmos DB',\n",
       "  'Microsoft SQL Server',\n",
       "  'RavenDB'],\n",
       " 'Ruby': ['Crystal', 'Ruby', 'Heroku', 'Render', 'Ruby on Rails'],\n",
       " 'Elixir': ['Elixir', 'Erlang', 'Fly.io', 'Phoenix'],\n",
       " 'Java': ['Groovy',\n",
       "  'Java',\n",
       "  'Spring Boot',\n",
       "  'JAX',\n",
       "  'Quarkus',\n",
       "  'Spring Framework',\n",
       "  'H2'],\n",
       " 'Rust': ['Lua', 'Rust', 'Solid.js', 'Svelte', 'Tauri'],\n",
       " 'Swift': ['Objective-C', 'Swift', 'SwiftUI'],\n",
       " 'PHP': ['PHP',\n",
       "  'CodeIgniter',\n",
       "  'Laravel',\n",
       "  'Symfony',\n",
       "  'WordPress',\n",
       "  'MariaDB',\n",
       "  'MySQL'],\n",
       " 'Scala/Big data': ['Scala', 'Play Framework', 'Apache Spark', 'Hadoop'],\n",
       " 'React[NAtive]': ['TypeScript',\n",
       "  'Express',\n",
       "  'Fastify',\n",
       "  'NestJS',\n",
       "  'Node.js',\n",
       "  'React',\n",
       "  'Electron',\n",
       "  'React Native'],\n",
       " 'AI': ['CUDA',\n",
       "  'Hugging Face Transformers',\n",
       "  'Keras',\n",
       "  'NumPy',\n",
       "  'Opencv',\n",
       "  'Pandas',\n",
       "  'Scikit-Learn',\n",
       "  'TensorFlow',\n",
       "  'Torch/PyTorch',\n",
       "  'DuckDB']}"
      ]
     },
     "execution_count": 296,
     "metadata": {},
     "output_type": "execute_result"
    }
   ],
   "source": [
    "backend_groups"
   ]
  },
  {
   "cell_type": "code",
   "execution_count": 297,
   "metadata": {},
   "outputs": [
    {
     "data": {
      "text/plain": [
       "Index(['Academic researcher', 'Blockchain', 'Cloud infrastructure engineer',\n",
       "       'Data or business analyst',\n",
       "       'Data scientist or machine learning specialist',\n",
       "       'Database administrator', 'DevOps specialist', 'Developer, QA or test',\n",
       "       'Developer, back-end', 'Developer, desktop or enterprise applications',\n",
       "       'Developer, embedded applications or devices', 'Developer, front-end',\n",
       "       'Developer, full-stack', 'Developer, game or graphics',\n",
       "       'Developer, mobile', 'Engineer, data', 'Engineer, site reliability',\n",
       "       'Hardware Engineer', 'Research & Development role', 'Scientist',\n",
       "       'Security professional', 'System administrator', 'Oracle back-end',\n",
       "       'Oracle full-stack', 'C/C++ back-end', 'C/C++ full-stack',\n",
       "       'Python back-end', 'Python full-stack', '.NET back-end',\n",
       "       '.NET full-stack', 'Ruby back-end', 'Ruby full-stack',\n",
       "       'Elixir back-end', 'Elixir full-stack', 'Java back-end',\n",
       "       'Java full-stack', 'Rust back-end', 'Rust full-stack', 'Swift back-end',\n",
       "       'Swift full-stack', 'PHP back-end', 'PHP full-stack',\n",
       "       'Scala/Big data back-end', 'Scala/Big data full-stack',\n",
       "       'React[NAtive] back-end', 'React[NAtive] full-stack', 'AI back-end',\n",
       "       'AI full-stack'],\n",
       "      dtype='object')"
      ]
     },
     "execution_count": 297,
     "metadata": {},
     "output_type": "execute_result"
    }
   ],
   "source": [
    "# Add new columns to the DevType column\n",
    "for key in backend_groups.keys():\n",
    "    encoded_df[('DevType', f\"{key} back-end\")] = 0\n",
    "    encoded_df[('DevType', f\"{key} full-stack\")] = 0\n",
    "encoded_df['DevType'].columns"
   ]
  },
  {
   "cell_type": "code",
   "execution_count": 298,
   "metadata": {},
   "outputs": [],
   "source": [
    "#assing each developer to a group\n",
    "def update_developer_groups(row, job_class):\n",
    "    skills_score = []\n",
    "    job = None\n",
    "    for subgroup, skills in backend_groups.items():\n",
    "        \n",
    "        sum = row.copy().sort_index().drop('DevType').droplevel(0)[skills].sum() / len(skills) * 100\n",
    "        skills_score.append(sum)\n",
    "        if sum >= max(skills_score) and sum > 0.5:\n",
    "            job = subgroup\n",
    "    if job:\n",
    "        row[('DevType', f\"{job} {job_class}\")] = 1\n",
    "        row[('DevType', f\"Developer, {job_class}\")] = 0\n",
    "    return row\n"
   ]
  },
  {
   "cell_type": "code",
   "execution_count": 299,
   "metadata": {},
   "outputs": [],
   "source": [
    "mask = encoded_df[('DevType', 'Developer, back-end')] == 1\n",
    "\n",
    "encoded_df.loc[mask] = encoded_df.loc[mask].apply(update_developer_groups, job_class='back-end', axis=1)\n"
   ]
  },
  {
   "cell_type": "code",
   "execution_count": 300,
   "metadata": {},
   "outputs": [],
   "source": [
    "mask = encoded_df[('DevType', 'Developer, full-stack')] == 1\n",
    "\n",
    "encoded_df.loc[mask] = encoded_df.loc[mask].apply(update_developer_groups, job_class='full-stack', axis=1)\n"
   ]
  },
  {
   "cell_type": "code",
   "execution_count": 301,
   "metadata": {},
   "outputs": [
    {
     "data": {
      "text/plain": [
       ".NET full-stack                                  4149\n",
       "React[NAtive] full-stack                         4099\n",
       "Developer, front-end                             4084\n",
       "Developer, desktop or enterprise applications    3192\n",
       "PHP full-stack                                   2849\n",
       "Python back-end                                  2556\n",
       "Python full-stack                                2235\n",
       "Developer, mobile                                2145\n",
       "Java back-end                                    2006\n",
       ".NET back-end                                    1821\n",
       "Developer, embedded applications or devices      1558\n",
       "Java full-stack                                  1490\n",
       "Data scientist or machine learning specialist    1221\n",
       "PHP back-end                                     1220\n",
       "Academic researcher                              1038\n",
       "Research & Development role                      1016\n",
       "Engineer, data                                    945\n",
       "React[NAtive] back-end                            918\n",
       "DevOps specialist                                 916\n",
       "Ruby full-stack                                   828\n",
       "Cloud infrastructure engineer                     713\n",
       "Data or business analyst                          628\n",
       "Developer, game or graphics                       624\n",
       "Ruby back-end                                     502\n",
       "System administrator                              476\n",
       "Developer, QA or test                             468\n",
       "Scala/Big data back-end                           395\n",
       "Rust full-stack                                   351\n",
       "Elixir full-stack                                 350\n",
       "Elixir back-end                                   343\n",
       "Rust back-end                                     337\n",
       "Security professional                             295\n",
       "Oracle full-stack                                 293\n",
       "Swift full-stack                                  288\n",
       "C/C++ back-end                                    285\n",
       "Engineer, site reliability                        270\n",
       "C/C++ full-stack                                  262\n",
       "Scientist                                         262\n",
       "Blockchain                                        214\n",
       "Hardware Engineer                                 214\n",
       "Database administrator                            211\n",
       "Oracle back-end                                   204\n",
       "AI back-end                                       184\n",
       "AI full-stack                                     174\n",
       "Scala/Big data full-stack                         115\n",
       "Swift back-end                                    100\n",
       "Developer, back-end                                96\n",
       "Developer, full-stack                              58\n",
       "dtype: int64"
      ]
     },
     "execution_count": 301,
     "metadata": {},
     "output_type": "execute_result"
    }
   ],
   "source": [
    "encoded_df['DevType'].sum().sort_values(ascending=False)"
   ]
  },
  {
   "cell_type": "markdown",
   "metadata": {},
   "source": [
    "## Merger Academic researcher with scientist"
   ]
  },
  {
   "cell_type": "code",
   "execution_count": 302,
   "metadata": {},
   "outputs": [],
   "source": [
    "encoded_df[('DevType', 'Scientest/Researcher')] = encoded_df[('DevType', 'Developer, embedded applications or devices')] | encoded_df[('DevType','Hardware Engineer')]\n",
    "encoded_df.drop([('DevType', 'Academic researcher'), ('DevType','Scientist')], axis=1, inplace=True)\n"
   ]
  },
  {
   "cell_type": "markdown",
   "metadata": {},
   "source": [
    "## Save the encoded_df"
   ]
  },
  {
   "cell_type": "code",
   "execution_count": 304,
   "metadata": {},
   "outputs": [],
   "source": [
    "encoded_df.fillna(0, inplace=True)\n"
   ]
  },
  {
   "cell_type": "code",
   "execution_count": 305,
   "metadata": {},
   "outputs": [],
   "source": [
    "encoded_df.to_pickle('../data/processed/data_engineered_df.pkl')"
   ]
  }
 ],
 "metadata": {
  "kernelspec": {
   "display_name": "de",
   "language": "python",
   "name": "python3"
  },
  "language_info": {
   "codemirror_mode": {
    "name": "ipython",
    "version": 3
   },
   "file_extension": ".py",
   "mimetype": "text/x-python",
   "name": "python",
   "nbconvert_exporter": "python",
   "pygments_lexer": "ipython3",
   "version": "3.11.5"
  }
 },
 "nbformat": 4,
 "nbformat_minor": 2
}
