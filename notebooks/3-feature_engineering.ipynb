{
 "cells": [
  {
   "cell_type": "code",
   "execution_count": 740,
   "metadata": {},
   "outputs": [],
   "source": [
    "import pandas as pd\n",
    "import numpy as np\n",
    "import plotly.express as px\n",
    "# Load packages\n",
    "import logging\n",
    "import pickle\n",
    "import os\n",
    "import sklearn\n",
    "import plotly.graph_objects as go\n",
    "from plotly.subplots import make_subplots\n",
    "import plotly.express as px\n",
    "import plotly.figure_factory as ff\n",
    "\n",
    "from sklearn.manifold import TSNE\n",
    "from sklearn.preprocessing import MultiLabelBinarizer\n",
    "from sklearn.preprocessing import StandardScaler\n",
    "from sklearn.preprocessing import RobustScaler\n",
    "from sklearn.preprocessing import MinMaxScaler\n",
    "from sklearn.pipeline import make_pipeline\n",
    "from sklearn.cluster import AgglomerativeClustering\n",
    "\n",
    "from matplotlib import pyplot as plt\n",
    "from scipy.cluster.hierarchy import dendrogram\n",
    "from sklearn.metrics import silhouette_score\n",
    "from sklearn.cluster import KMeans, DBSCAN\n",
    "from sklearn.metrics import calinski_harabasz_score\n",
    "from sklearn.metrics import davies_bouldin_score\n"
   ]
  },
  {
   "cell_type": "code",
   "execution_count": 741,
   "metadata": {},
   "outputs": [],
   "source": [
    "PATH = '../data/processed/encoded_df.pkl'\n"
   ]
  },
  {
   "cell_type": "code",
   "execution_count": 742,
   "metadata": {},
   "outputs": [],
   "source": [
    "encoded_df = pd.read_pickle(PATH)\n"
   ]
  },
  {
   "cell_type": "code",
   "execution_count": 743,
   "metadata": {},
   "outputs": [
    {
     "data": {
      "text/html": [
       "<div>\n",
       "<style scoped>\n",
       "    .dataframe tbody tr th:only-of-type {\n",
       "        vertical-align: middle;\n",
       "    }\n",
       "\n",
       "    .dataframe tbody tr th {\n",
       "        vertical-align: top;\n",
       "    }\n",
       "\n",
       "    .dataframe thead tr th {\n",
       "        text-align: left;\n",
       "    }\n",
       "</style>\n",
       "<table border=\"1\" class=\"dataframe\">\n",
       "  <thead>\n",
       "    <tr>\n",
       "      <th></th>\n",
       "      <th colspan=\"10\" halign=\"left\">DevType</th>\n",
       "      <th>...</th>\n",
       "      <th colspan=\"10\" halign=\"left\">DeveloperTools</th>\n",
       "    </tr>\n",
       "    <tr>\n",
       "      <th></th>\n",
       "      <th>Academic researcher</th>\n",
       "      <th>Blockchain</th>\n",
       "      <th>Cloud infrastructure engineer</th>\n",
       "      <th>Data or business analyst</th>\n",
       "      <th>Data scientist or machine learning specialist</th>\n",
       "      <th>Database administrator</th>\n",
       "      <th>DevOps specialist</th>\n",
       "      <th>Developer, QA or test</th>\n",
       "      <th>Developer, back-end</th>\n",
       "      <th>Developer, desktop or enterprise applications</th>\n",
       "      <th>...</th>\n",
       "      <th>bandit</th>\n",
       "      <th>build2</th>\n",
       "      <th>cppunit</th>\n",
       "      <th>doctest</th>\n",
       "      <th>lest</th>\n",
       "      <th>liblittletest</th>\n",
       "      <th>npm</th>\n",
       "      <th>pnpm</th>\n",
       "      <th>snitch</th>\n",
       "      <th>tunit</th>\n",
       "    </tr>\n",
       "  </thead>\n",
       "  <tbody>\n",
       "    <tr>\n",
       "      <th>0</th>\n",
       "      <td>0</td>\n",
       "      <td>0</td>\n",
       "      <td>0</td>\n",
       "      <td>0</td>\n",
       "      <td>0</td>\n",
       "      <td>0</td>\n",
       "      <td>0</td>\n",
       "      <td>0</td>\n",
       "      <td>1</td>\n",
       "      <td>0</td>\n",
       "      <td>...</td>\n",
       "      <td>0</td>\n",
       "      <td>0</td>\n",
       "      <td>0</td>\n",
       "      <td>0</td>\n",
       "      <td>0</td>\n",
       "      <td>0</td>\n",
       "      <td>0</td>\n",
       "      <td>0</td>\n",
       "      <td>0</td>\n",
       "      <td>0</td>\n",
       "    </tr>\n",
       "    <tr>\n",
       "      <th>1</th>\n",
       "      <td>0</td>\n",
       "      <td>0</td>\n",
       "      <td>0</td>\n",
       "      <td>0</td>\n",
       "      <td>0</td>\n",
       "      <td>0</td>\n",
       "      <td>0</td>\n",
       "      <td>0</td>\n",
       "      <td>0</td>\n",
       "      <td>0</td>\n",
       "      <td>...</td>\n",
       "      <td>0</td>\n",
       "      <td>0</td>\n",
       "      <td>0</td>\n",
       "      <td>0</td>\n",
       "      <td>0</td>\n",
       "      <td>0</td>\n",
       "      <td>1</td>\n",
       "      <td>0</td>\n",
       "      <td>0</td>\n",
       "      <td>0</td>\n",
       "    </tr>\n",
       "    <tr>\n",
       "      <th>2</th>\n",
       "      <td>0</td>\n",
       "      <td>0</td>\n",
       "      <td>0</td>\n",
       "      <td>0</td>\n",
       "      <td>0</td>\n",
       "      <td>0</td>\n",
       "      <td>0</td>\n",
       "      <td>0</td>\n",
       "      <td>0</td>\n",
       "      <td>0</td>\n",
       "      <td>...</td>\n",
       "      <td>0</td>\n",
       "      <td>0</td>\n",
       "      <td>0</td>\n",
       "      <td>0</td>\n",
       "      <td>0</td>\n",
       "      <td>0</td>\n",
       "      <td>1</td>\n",
       "      <td>0</td>\n",
       "      <td>0</td>\n",
       "      <td>0</td>\n",
       "    </tr>\n",
       "    <tr>\n",
       "      <th>3</th>\n",
       "      <td>0</td>\n",
       "      <td>0</td>\n",
       "      <td>0</td>\n",
       "      <td>0</td>\n",
       "      <td>0</td>\n",
       "      <td>0</td>\n",
       "      <td>0</td>\n",
       "      <td>0</td>\n",
       "      <td>1</td>\n",
       "      <td>0</td>\n",
       "      <td>...</td>\n",
       "      <td>0</td>\n",
       "      <td>0</td>\n",
       "      <td>0</td>\n",
       "      <td>0</td>\n",
       "      <td>0</td>\n",
       "      <td>0</td>\n",
       "      <td>1</td>\n",
       "      <td>1</td>\n",
       "      <td>0</td>\n",
       "      <td>0</td>\n",
       "    </tr>\n",
       "    <tr>\n",
       "      <th>8</th>\n",
       "      <td>0</td>\n",
       "      <td>0</td>\n",
       "      <td>0</td>\n",
       "      <td>0</td>\n",
       "      <td>0</td>\n",
       "      <td>0</td>\n",
       "      <td>0</td>\n",
       "      <td>0</td>\n",
       "      <td>0</td>\n",
       "      <td>1</td>\n",
       "      <td>...</td>\n",
       "      <td>0</td>\n",
       "      <td>0</td>\n",
       "      <td>0</td>\n",
       "      <td>0</td>\n",
       "      <td>0</td>\n",
       "      <td>0</td>\n",
       "      <td>0</td>\n",
       "      <td>0</td>\n",
       "      <td>0</td>\n",
       "      <td>0</td>\n",
       "    </tr>\n",
       "    <tr>\n",
       "      <th>...</th>\n",
       "      <td>...</td>\n",
       "      <td>...</td>\n",
       "      <td>...</td>\n",
       "      <td>...</td>\n",
       "      <td>...</td>\n",
       "      <td>...</td>\n",
       "      <td>...</td>\n",
       "      <td>...</td>\n",
       "      <td>...</td>\n",
       "      <td>...</td>\n",
       "      <td>...</td>\n",
       "      <td>...</td>\n",
       "      <td>...</td>\n",
       "      <td>...</td>\n",
       "      <td>...</td>\n",
       "      <td>...</td>\n",
       "      <td>...</td>\n",
       "      <td>...</td>\n",
       "      <td>...</td>\n",
       "      <td>...</td>\n",
       "      <td>...</td>\n",
       "    </tr>\n",
       "    <tr>\n",
       "      <th>64329</th>\n",
       "      <td>0</td>\n",
       "      <td>0</td>\n",
       "      <td>0</td>\n",
       "      <td>0</td>\n",
       "      <td>0</td>\n",
       "      <td>0</td>\n",
       "      <td>0</td>\n",
       "      <td>0</td>\n",
       "      <td>0</td>\n",
       "      <td>0</td>\n",
       "      <td>...</td>\n",
       "      <td>0</td>\n",
       "      <td>0</td>\n",
       "      <td>0</td>\n",
       "      <td>0</td>\n",
       "      <td>0</td>\n",
       "      <td>0</td>\n",
       "      <td>1</td>\n",
       "      <td>0</td>\n",
       "      <td>0</td>\n",
       "      <td>0</td>\n",
       "    </tr>\n",
       "    <tr>\n",
       "      <th>64331</th>\n",
       "      <td>0</td>\n",
       "      <td>0</td>\n",
       "      <td>0</td>\n",
       "      <td>0</td>\n",
       "      <td>0</td>\n",
       "      <td>0</td>\n",
       "      <td>0</td>\n",
       "      <td>0</td>\n",
       "      <td>0</td>\n",
       "      <td>0</td>\n",
       "      <td>...</td>\n",
       "      <td>0</td>\n",
       "      <td>0</td>\n",
       "      <td>0</td>\n",
       "      <td>0</td>\n",
       "      <td>0</td>\n",
       "      <td>0</td>\n",
       "      <td>0</td>\n",
       "      <td>0</td>\n",
       "      <td>0</td>\n",
       "      <td>0</td>\n",
       "    </tr>\n",
       "    <tr>\n",
       "      <th>64333</th>\n",
       "      <td>0</td>\n",
       "      <td>0</td>\n",
       "      <td>0</td>\n",
       "      <td>0</td>\n",
       "      <td>0</td>\n",
       "      <td>0</td>\n",
       "      <td>0</td>\n",
       "      <td>0</td>\n",
       "      <td>0</td>\n",
       "      <td>0</td>\n",
       "      <td>...</td>\n",
       "      <td>0</td>\n",
       "      <td>0</td>\n",
       "      <td>0</td>\n",
       "      <td>0</td>\n",
       "      <td>0</td>\n",
       "      <td>0</td>\n",
       "      <td>0</td>\n",
       "      <td>0</td>\n",
       "      <td>0</td>\n",
       "      <td>0</td>\n",
       "    </tr>\n",
       "    <tr>\n",
       "      <th>64335</th>\n",
       "      <td>0</td>\n",
       "      <td>0</td>\n",
       "      <td>0</td>\n",
       "      <td>0</td>\n",
       "      <td>0</td>\n",
       "      <td>0</td>\n",
       "      <td>0</td>\n",
       "      <td>0</td>\n",
       "      <td>1</td>\n",
       "      <td>0</td>\n",
       "      <td>...</td>\n",
       "      <td>0</td>\n",
       "      <td>0</td>\n",
       "      <td>0</td>\n",
       "      <td>0</td>\n",
       "      <td>0</td>\n",
       "      <td>0</td>\n",
       "      <td>0</td>\n",
       "      <td>0</td>\n",
       "      <td>0</td>\n",
       "      <td>0</td>\n",
       "    </tr>\n",
       "    <tr>\n",
       "      <th>64337</th>\n",
       "      <td>0</td>\n",
       "      <td>0</td>\n",
       "      <td>0</td>\n",
       "      <td>0</td>\n",
       "      <td>0</td>\n",
       "      <td>0</td>\n",
       "      <td>0</td>\n",
       "      <td>0</td>\n",
       "      <td>0</td>\n",
       "      <td>0</td>\n",
       "      <td>...</td>\n",
       "      <td>0</td>\n",
       "      <td>0</td>\n",
       "      <td>0</td>\n",
       "      <td>0</td>\n",
       "      <td>0</td>\n",
       "      <td>0</td>\n",
       "      <td>1</td>\n",
       "      <td>1</td>\n",
       "      <td>0</td>\n",
       "      <td>0</td>\n",
       "    </tr>\n",
       "  </tbody>\n",
       "</table>\n",
       "<p>48998 rows × 253 columns</p>\n",
       "</div>"
      ],
      "text/plain": [
       "                  DevType                                           \\\n",
       "      Academic researcher Blockchain Cloud infrastructure engineer   \n",
       "0                       0          0                             0   \n",
       "1                       0          0                             0   \n",
       "2                       0          0                             0   \n",
       "3                       0          0                             0   \n",
       "8                       0          0                             0   \n",
       "...                   ...        ...                           ...   \n",
       "64329                   0          0                             0   \n",
       "64331                   0          0                             0   \n",
       "64333                   0          0                             0   \n",
       "64335                   0          0                             0   \n",
       "64337                   0          0                             0   \n",
       "\n",
       "                                                                              \\\n",
       "      Data or business analyst Data scientist or machine learning specialist   \n",
       "0                            0                                             0   \n",
       "1                            0                                             0   \n",
       "2                            0                                             0   \n",
       "3                            0                                             0   \n",
       "8                            0                                             0   \n",
       "...                        ...                                           ...   \n",
       "64329                        0                                             0   \n",
       "64331                        0                                             0   \n",
       "64333                        0                                             0   \n",
       "64335                        0                                             0   \n",
       "64337                        0                                             0   \n",
       "\n",
       "                                                                      \\\n",
       "      Database administrator DevOps specialist Developer, QA or test   \n",
       "0                          0                 0                     0   \n",
       "1                          0                 0                     0   \n",
       "2                          0                 0                     0   \n",
       "3                          0                 0                     0   \n",
       "8                          0                 0                     0   \n",
       "...                      ...               ...                   ...   \n",
       "64329                      0                 0                     0   \n",
       "64331                      0                 0                     0   \n",
       "64333                      0                 0                     0   \n",
       "64335                      0                 0                     0   \n",
       "64337                      0                 0                     0   \n",
       "\n",
       "                                                                         ...  \\\n",
       "      Developer, back-end Developer, desktop or enterprise applications  ...   \n",
       "0                       1                                             0  ...   \n",
       "1                       0                                             0  ...   \n",
       "2                       0                                             0  ...   \n",
       "3                       1                                             0  ...   \n",
       "8                       0                                             1  ...   \n",
       "...                   ...                                           ...  ...   \n",
       "64329                   0                                             0  ...   \n",
       "64331                   0                                             0  ...   \n",
       "64333                   0                                             0  ...   \n",
       "64335                   1                                             0  ...   \n",
       "64337                   0                                             0  ...   \n",
       "\n",
       "      DeveloperTools                                                     \\\n",
       "              bandit build2 cppunit doctest lest liblittletest npm pnpm   \n",
       "0                  0      0       0       0    0             0   0    0   \n",
       "1                  0      0       0       0    0             0   1    0   \n",
       "2                  0      0       0       0    0             0   1    0   \n",
       "3                  0      0       0       0    0             0   1    1   \n",
       "8                  0      0       0       0    0             0   0    0   \n",
       "...              ...    ...     ...     ...  ...           ...  ..  ...   \n",
       "64329              0      0       0       0    0             0   1    0   \n",
       "64331              0      0       0       0    0             0   0    0   \n",
       "64333              0      0       0       0    0             0   0    0   \n",
       "64335              0      0       0       0    0             0   0    0   \n",
       "64337              0      0       0       0    0             0   1    1   \n",
       "\n",
       "                    \n",
       "      snitch tunit  \n",
       "0          0     0  \n",
       "1          0     0  \n",
       "2          0     0  \n",
       "3          0     0  \n",
       "8          0     0  \n",
       "...      ...   ...  \n",
       "64329      0     0  \n",
       "64331      0     0  \n",
       "64333      0     0  \n",
       "64335      0     0  \n",
       "64337      0     0  \n",
       "\n",
       "[48998 rows x 253 columns]"
      ]
     },
     "execution_count": 743,
     "metadata": {},
     "output_type": "execute_result"
    }
   ],
   "source": [
    "encoded_df"
   ]
  },
  {
   "cell_type": "code",
   "execution_count": 744,
   "metadata": {},
   "outputs": [],
   "source": [
    "std_skills = StandardScaler().fit_transform(encoded_df.copy().drop('DevType', axis=1))\n"
   ]
  },
  {
   "cell_type": "code",
   "execution_count": 745,
   "metadata": {},
   "outputs": [],
   "source": [
    "tsne_projection = TSNE(n_components=2, \n",
    "                       perplexity=3,\n",
    "                       learning_rate=0.01,\n",
    "                       init='pca', \n",
    "                       method='barnes_hut', \n",
    "                       n_jobs=2, \n",
    "                       n_iter=10**10,\n",
    "                       random_state=0).fit_transform(std_skills.T)\n",
    "\n",
    "tsne_projection = pd.DataFrame(tsne_projection, index=encoded_df.copy().drop('DevType', axis=1).columns)"
   ]
  },
  {
   "cell_type": "code",
   "execution_count": 746,
   "metadata": {},
   "outputs": [
    {
     "data": {
      "application/vnd.plotly.v1+json": {
       "config": {
        "plotlyServerURL": "https://plot.ly"
       },
       "data": [
        {
         "hovertemplate": "x=%{x}<br>y=%{y}<br>text=%{text}<extra></extra>",
         "legendgroup": "",
         "marker": {
          "color": "#636efa",
          "symbol": "circle"
         },
         "mode": "markers+text",
         "name": "",
         "orientation": "v",
         "showlegend": false,
         "text": [
          "APL",
          "Ada",
          "Apex",
          "Assembly",
          "Bash/Shell (all shells)",
          "C",
          "C#",
          "C++",
          "Clojure",
          "Cobol",
          "Crystal",
          "Dart",
          "Delphi",
          "Elixir",
          "Erlang",
          "F#",
          "Flow",
          "Fortran",
          "GDScript",
          "Go",
          "Groovy",
          "HTML/CSS",
          "Haskell",
          "Java",
          "JavaScript",
          "Julia",
          "Kotlin",
          "Lisp",
          "Lua",
          "MATLAB",
          "Nim",
          "OCaml",
          "Objective-C",
          "PHP",
          "Perl",
          "PowerShell",
          "Prolog",
          "Python",
          "R",
          "Raku",
          "Ruby",
          "Rust",
          "SAS",
          "SQL",
          "Scala",
          "Solidity",
          "Swift",
          "TypeScript",
          "VBA",
          "Visual Basic (.Net)",
          "Zig",
          "BigQuery",
          "Cassandra",
          "Clickhouse",
          "Cloud Firestore",
          "Cockroachdb",
          "Cosmos DB",
          "Couch DB",
          "Couchbase",
          "Datomic",
          "DuckDB",
          "Dynamodb",
          "Elasticsearch",
          "Firebase Realtime Database",
          "Firebird",
          "H2",
          "IBM DB2",
          "InfluxDB",
          "MariaDB",
          "Microsoft Access",
          "Microsoft SQL Server",
          "MongoDB",
          "MySQL",
          "Neo4J",
          "Oracle",
          "PostgreSQL",
          "RavenDB",
          "Redis",
          "SQLite",
          "Snowflake",
          "Solr",
          "Supabase",
          "TiDB",
          "Amazon Web Services (AWS)",
          "Cloudflare",
          "Colocation",
          "Digital Ocean",
          "Firebase",
          "Fly.io",
          "Google Cloud",
          "Heroku",
          "Hetzner",
          "IBM Cloud Or Watson",
          "Linode, now Akamai",
          "Managed Hosting",
          "Microsoft Azure",
          "Netlify",
          "OVH",
          "OpenShift",
          "OpenStack",
          "Oracle Cloud Infrastructure (OCI)",
          "Render",
          "Scaleway",
          "VMware",
          "Vercel",
          "Vultr",
          "ASP.NET",
          "ASP.NET CORE",
          "Angular",
          "AngularJS",
          "Blazor",
          "CodeIgniter",
          "Deno",
          "Django",
          "Drupal",
          "Elm",
          "Express",
          "FastAPI",
          "Fastify",
          "Flask",
          "Gatsby",
          "Laravel",
          "Lit",
          "NestJS",
          "Next.js",
          "Node.js",
          "Nuxt.js",
          "Phoenix",
          "Play Framework",
          "Qwik",
          "React",
          "Remix",
          "Ruby on Rails",
          "Solid.js",
          "Spring Boot",
          "Svelte",
          "Symfony",
          "Vue.js",
          "WordPress",
          "jQuery",
          ".NET (5+) ",
          ".NET Framework (1.0 - 4.8)",
          ".NET MAUI",
          "Apache Kafka",
          "Apache Spark",
          "CUDA",
          "Capacitor",
          "Cordova",
          "Electron",
          "Flutter",
          "GTK",
          "Hadoop",
          "Hugging Face Transformers",
          "Ionic",
          "JAX",
          "Keras",
          "Ktor",
          "MFC",
          "Micronaut",
          "NumPy",
          "OpenGL",
          "Opencv",
          "Pandas",
          "Qt",
          "Quarkus",
          "RabbitMQ",
          "React Native",
          "Scikit-Learn",
          "Spring Framework",
          "SwiftUI",
          "Tauri",
          "TensorFlow",
          "Tidyverse",
          "Torch/PyTorch",
          "Uno Platform",
          "Xamarin",
          "APT",
          "Ansible",
          "Ant",
          "Boost.Test",
          "Bun",
          "CMake",
          "CUTE",
          "Cargo",
          "Catch2",
          "Chef",
          "Chocolatey",
          "Composer",
          "Dagger",
          "Docker",
          "ELFspy",
          "GNU GCC",
          "Godot",
          "Google Test",
          "Gradle",
          "Homebrew",
          "Kubernetes",
          "LLVM's Clang",
          "MSBuild",
          "MSVC",
          "Make",
          "Maven (build tool)",
          "Meson",
          "Ninja",
          "Nix",
          "NuGet",
          "Pacman",
          "Pip",
          "Podman",
          "Pulumi",
          "Puppet",
          "QMake",
          "SCons",
          "Terraform",
          "Unity 3D",
          "Unreal Engine",
          "Visual Studio Solution",
          "Vite",
          "Wasmer",
          "Webpack",
          "Yarn",
          "bandit",
          "build2",
          "cppunit",
          "doctest",
          "lest",
          "liblittletest",
          "npm",
          "pnpm",
          "snitch",
          "tunit"
         ],
         "textposition": "top center",
         "type": "scatter",
         "x": [
          9.977753639221191,
          -8.084548950195312,
          -17.92567253112793,
          -4.192628383636475,
          -8.613306999206543,
          -2.725271701812744,
          44.3369140625,
          -0.858428418636322,
          13.42813777923584,
          1.178867220878601,
          38.20538330078125,
          -43.70856475830078,
          28.11677360534668,
          0.09003675729036331,
          -0.2826695144176483,
          47.21349334716797,
          6.132194519042969,
          -18.858678817749023,
          15.49596118927002,
          -17.39215850830078,
          -30.497835159301758,
          15.248659133911133,
          7.370781421661377,
          -23.757410049438477,
          15.05118179321289,
          -23.729080200195312,
          -32.295711517333984,
          12.248210906982422,
          8.734350204467773,
          -20.86901092529297,
          0.5291075706481934,
          9.228033065795898,
          -54.36894226074219,
          26.16445541381836,
          -5.624769687652588,
          42.27471160888672,
          11.156182289123535,
          -14.909151077270508,
          -30.77330207824707,
          -5.587422847747803,
          -4.132534503936768,
          9.180288314819336,
          -31.741113662719727,
          47.73529052734375,
          -29.611373901367188,
          1.2592387199401855,
          -53.569278717041016,
          14.087367057800293,
          37.519065856933594,
          39.518531799316406,
          0.032477956265211105,
          -43.286441802978516,
          -24.05327033996582,
          -21.93927574157715,
          -47.289833068847656,
          -18.717788696289062,
          51.236942291259766,
          -2.3647916316986084,
          -3.31632924079895,
          13.926042556762695,
          -29.07259178161621,
          -21.720670700073242,
          -16.272872924804688,
          -48.39611053466797,
          28.329465866088867,
          -24.735933303833008,
          0.6906419992446899,
          -8.637017250061035,
          25.863121032714844,
          37.11627960205078,
          47.97727966308594,
          9.784510612487793,
          25.130651473999023,
          -16.725751876831055,
          -20.67613410949707,
          -16.828449249267578,
          47.6790885925293,
          -15.84622859954834,
          -17.186674118041992,
          -26.14933967590332,
          31.70820426940918,
          -0.9532310366630554,
          -16.378211975097656,
          -21.706899642944336,
          15.14426040649414,
          26.179977416992188,
          15.034745216369629,
          -47.813812255859375,
          0.41690152883529663,
          -43.3687629699707,
          -3.1541876792907715,
          15.293497085571289,
          -0.4334210157394409,
          13.811966896057129,
          22.662630081176758,
          49.959354400634766,
          0.8071781396865845,
          23.58307456970215,
          -14.01059627532959,
          -10.284701347351074,
          -18.707597732543945,
          -2.4821629524230957,
          23.407087326049805,
          27.457748413085938,
          0.6661463379859924,
          15.938997268676758,
          42.52416229248047,
          45.890235900878906,
          16.971519470214844,
          18.130502700805664,
          45.633018493652344,
          27.047672271728516,
          0.4486636817455292,
          -15.848960876464844,
          30.532577514648438,
          6.54418420791626,
          11.288370132446289,
          -15.611709594726562,
          12.33006477355957,
          -16.504365921020508,
          1.468247652053833,
          26.85665512084961,
          14.55727767944336,
          13.63569164276123,
          1.3786826133728027,
          11.473889350891113,
          -0.45229944586753845,
          0.12798592448234558,
          -29.802181243896484,
          -5.512477874755859,
          5.893899440765381,
          1.4590481519699097,
          -3.8677337169647217,
          -4.464515209197998,
          -24.203712463378906,
          -0.4886868894100189,
          28.27937126159668,
          -0.7231099009513855,
          24.318256378173828,
          23.916540145874023,
          45.30189895629883,
          41.32587432861328,
          39.3988037109375,
          -22.648900985717773,
          -29.117385864257812,
          -29.241209030151367,
          27.159940719604492,
          28.05109405517578,
          10.827837944030762,
          -43.613765716552734,
          -6.646495819091797,
          -29.499217987060547,
          -26.85247230529785,
          27.415998458862305,
          -28.230192184448242,
          -30.556570053100586,
          -33.583534240722656,
          5.010857105255127,
          -29.436450958251953,
          -25.0899600982666,
          0.9504355788230896,
          -26.527935028076172,
          -25.199737548828125,
          -2.631361246109009,
          -25.98251724243164,
          -14.375870704650879,
          5.971466541290283,
          -26.37215232849121,
          -23.70155906677246,
          -53.20915222167969,
          10.813591957092285,
          -30.1527042388916,
          -30.38674545288086,
          -27.89331817626953,
          31.88737678527832,
          39.10070037841797,
          -11.930060386657715,
          -10.48141098022461,
          -23.427852630615234,
          0.696806013584137,
          -3.5255651473999023,
          -0.7698990702629089,
          15.07843017578125,
          8.697190284729004,
          0.07883583754301071,
          -4.977646350860596,
          41.96217346191406,
          27.276153564453125,
          -32.891998291015625,
          -16.684707641601562,
          26.1707820892334,
          -2.5093393325805664,
          15.635599136352539,
          -1.402404546737671,
          -31.3405818939209,
          -18.639108657836914,
          -15.99950122833252,
          -1.4401001930236816,
          45.16917037963867,
          3.741684913635254,
          -6.761143207550049,
          -24.35894203186035,
          -5.10905647277832,
          -3.688159942626953,
          6.875040054321289,
          44.67209243774414,
          7.127427577972412,
          -14.056731224060059,
          -10.746363639831543,
          -16.175230026245117,
          -13.417668342590332,
          -2.5518462657928467,
          -3.6435229778289795,
          -15.20306396484375,
          19.903667449951172,
          19.49890899658203,
          42.74854278564453,
          -1.447211742401123,
          9.281282424926758,
          10.060126304626465,
          9.282708168029785,
          -12.953956604003906,
          1.3440450429916382,
          -0.3722952902317047,
          26.5781307220459,
          33.261314392089844,
          30.171770095825195,
          13.4185152053833,
          -3.05948805809021,
          27.90237808227539,
          29.155136108398438
         ],
         "xaxis": "x",
         "y": [
          -14.699956893920898,
          -37.601531982421875,
          26.237430572509766,
          -33.214515686035156,
          -25.671062469482422,
          -33.02954864501953,
          -9.692862510681152,
          -34.05888366699219,
          -7.769259452819824,
          3.7876856327056885,
          -4.924107074737549,
          29.40966033935547,
          -7.410921573638916,
          14.647077560424805,
          13.321125984191895,
          -11.275063514709473,
          33.201351165771484,
          -32.20615005493164,
          -34.94879150390625,
          -5.816453456878662,
          25.200403213500977,
          33.292049407958984,
          -11.97111701965332,
          24.68337631225586,
          33.714942932128906,
          -30.832630157470703,
          27.269332885742188,
          -9.122034072875977,
          -22.87873077392578,
          -31.495426177978516,
          -25.607919692993164,
          -12.888540267944336,
          22.741104125976562,
          20.98374366760254,
          -16.045942306518555,
          -11.78811264038086,
          -10.333306312561035,
          -22.93148422241211,
          -37.673030853271484,
          -15.741618156433105,
          25.437150955200195,
          -20.878108978271484,
          -38.75474166870117,
          -3.4350550174713135,
          4.256105899810791,
          38.72065734863281,
          23.517881393432617,
          37.852447509765625,
          -1.3569579124450684,
          -4.918640613555908,
          -26.72473907470703,
          12.542411804199219,
          6.099588394165039,
          7.421893119812012,
          31.649545669555664,
          -5.680290222167969,
          -5.934929370880127,
          7.193544387817383,
          7.553408145904541,
          -7.2397871017456055,
          -36.043418884277344,
          -0.5602550506591797,
          8.03463363647461,
          30.546817779541016,
          -7.904577732086182,
          20.615285873413086,
          4.207433223724365,
          -1.1090449094772339,
          18.29853057861328,
          -1.2811434268951416,
          -4.808038234710693,
          44.83642578125,
          19.923112869262695,
          9.609582901000977,
          25.22997283935547,
          3.914538860321045,
          -8.856351852416992,
          7.235017776489258,
          -20.05560874938965,
          -0.43870118260383606,
          21.32291030883789,
          35.110652923583984,
          -6.7335381507873535,
          -0.1518881469964981,
          11.896547317504883,
          -19.18647003173828,
          12.652050018310547,
          31.10701560974121,
          16.37635040283203,
          12.839938163757324,
          27.85748291015625,
          9.94906234741211,
          5.184688568115234,
          13.604423522949219,
          20.922822952270508,
          -5.679647445678711,
          32.94676971435547,
          9.391778945922852,
          2.152357816696167,
          -2.931422710418701,
          25.93804168701172,
          30.06746482849121,
          9.09998607635498,
          -6.042314052581787,
          34.895835876464844,
          13.829683303833008,
          -5.803915500640869,
          -8.543062210083008,
          37.58294677734375,
          37.48167037963867,
          -7.152838706970215,
          23.664884567260742,
          48.86030578613281,
          -20.953155517578125,
          21.243173599243164,
          -10.534393310546875,
          44.1808967590332,
          -24.565141677856445,
          45.617645263671875,
          -22.918439865112305,
          31.846773147583008,
          21.859838485717773,
          39.09271240234375,
          42.849937438964844,
          35.63113021850586,
          43.430702209472656,
          53.351661682128906,
          15.001723289489746,
          4.785834312438965,
          51.870445251464844,
          35.61382293701172,
          37.41896057128906,
          26.019023895263672,
          51.267242431640625,
          22.115535736083984,
          49.93630599975586,
          19.517248153686523,
          52.73432922363281,
          21.937744140625,
          24.928741455078125,
          -9.79313850402832,
          -6.151737213134766,
          -21.046127319335938,
          6.350522994995117,
          1.1991119384765625,
          -26.105628967285156,
          46.070960998535156,
          44.85910415649414,
          41.72706985473633,
          29.150922775268555,
          -38.10276794433594,
          0.9191339015960693,
          -25.11383819580078,
          45.656192779541016,
          -23.794584274291992,
          -29.214365005493164,
          26.536775588989258,
          -33.94111633300781,
          27.652315139770508,
          -29.62688446044922,
          -33.76191329956055,
          -30.866239547729492,
          -28.971921920776367,
          -45.01889419555664,
          24.674741744995117,
          6.6630072593688965,
          36.795738220214844,
          -28.042787551879883,
          22.139339447021484,
          23.885316848754883,
          -21.07015609741211,
          -28.932483673095703,
          -37.28956604003906,
          -25.97012710571289,
          -26.178327560424805,
          -21.227632522583008,
          -24.446212768554688,
          -1.3562047481536865,
          26.188720703125,
          -36.48841857910156,
          48.349143981933594,
          -34.824275970458984,
          -6.037675380706787,
          -20.96500587463379,
          -39.033267974853516,
          23.82394790649414,
          -13.299297332763672,
          20.60521125793457,
          28.673126220703125,
          2.058573007583618,
          -18.760522842407227,
          -30.828706741333008,
          -35.18865966796875,
          -36.03824234008789,
          26.957849502563477,
          1.6723071336746216,
          1.3821138143539429,
          -29.16804313659668,
          -13.157231330871582,
          -33.99919891357422,
          -27.064985275268555,
          24.087499618530273,
          -37.9328498840332,
          -37.41363525390625,
          -12.402278900146484,
          -11.726181983947754,
          -21.202232360839844,
          -22.984086990356445,
          -0.010471436195075512,
          -1.6611270904541016,
          -1.7739555835723877,
          -45.371917724609375,
          -29.847387313842773,
          -0.5963723659515381,
          -39.43607711791992,
          -39.675018310546875,
          -9.109916687011719,
          50.91666793823242,
          -18.770164489746094,
          35.95643615722656,
          35.81303024291992,
          -21.72359275817871,
          -39.56403732299805,
          -31.310773849487305,
          -26.76725959777832,
          -26.623172760009766,
          -26.161518096923828,
          37.190826416015625,
          49.82241439819336,
          -26.301406860351562,
          -26.19916534423828
         ],
         "yaxis": "y"
        }
       ],
       "layout": {
        "height": 1000,
        "legend": {
         "tracegroupgap": 0
        },
        "margin": {
         "t": 60
        },
        "template": {
         "data": {
          "bar": [
           {
            "error_x": {
             "color": "#2a3f5f"
            },
            "error_y": {
             "color": "#2a3f5f"
            },
            "marker": {
             "line": {
              "color": "#E5ECF6",
              "width": 0.5
             },
             "pattern": {
              "fillmode": "overlay",
              "size": 10,
              "solidity": 0.2
             }
            },
            "type": "bar"
           }
          ],
          "barpolar": [
           {
            "marker": {
             "line": {
              "color": "#E5ECF6",
              "width": 0.5
             },
             "pattern": {
              "fillmode": "overlay",
              "size": 10,
              "solidity": 0.2
             }
            },
            "type": "barpolar"
           }
          ],
          "carpet": [
           {
            "aaxis": {
             "endlinecolor": "#2a3f5f",
             "gridcolor": "white",
             "linecolor": "white",
             "minorgridcolor": "white",
             "startlinecolor": "#2a3f5f"
            },
            "baxis": {
             "endlinecolor": "#2a3f5f",
             "gridcolor": "white",
             "linecolor": "white",
             "minorgridcolor": "white",
             "startlinecolor": "#2a3f5f"
            },
            "type": "carpet"
           }
          ],
          "choropleth": [
           {
            "colorbar": {
             "outlinewidth": 0,
             "ticks": ""
            },
            "type": "choropleth"
           }
          ],
          "contour": [
           {
            "colorbar": {
             "outlinewidth": 0,
             "ticks": ""
            },
            "colorscale": [
             [
              0,
              "#0d0887"
             ],
             [
              0.1111111111111111,
              "#46039f"
             ],
             [
              0.2222222222222222,
              "#7201a8"
             ],
             [
              0.3333333333333333,
              "#9c179e"
             ],
             [
              0.4444444444444444,
              "#bd3786"
             ],
             [
              0.5555555555555556,
              "#d8576b"
             ],
             [
              0.6666666666666666,
              "#ed7953"
             ],
             [
              0.7777777777777778,
              "#fb9f3a"
             ],
             [
              0.8888888888888888,
              "#fdca26"
             ],
             [
              1,
              "#f0f921"
             ]
            ],
            "type": "contour"
           }
          ],
          "contourcarpet": [
           {
            "colorbar": {
             "outlinewidth": 0,
             "ticks": ""
            },
            "type": "contourcarpet"
           }
          ],
          "heatmap": [
           {
            "colorbar": {
             "outlinewidth": 0,
             "ticks": ""
            },
            "colorscale": [
             [
              0,
              "#0d0887"
             ],
             [
              0.1111111111111111,
              "#46039f"
             ],
             [
              0.2222222222222222,
              "#7201a8"
             ],
             [
              0.3333333333333333,
              "#9c179e"
             ],
             [
              0.4444444444444444,
              "#bd3786"
             ],
             [
              0.5555555555555556,
              "#d8576b"
             ],
             [
              0.6666666666666666,
              "#ed7953"
             ],
             [
              0.7777777777777778,
              "#fb9f3a"
             ],
             [
              0.8888888888888888,
              "#fdca26"
             ],
             [
              1,
              "#f0f921"
             ]
            ],
            "type": "heatmap"
           }
          ],
          "heatmapgl": [
           {
            "colorbar": {
             "outlinewidth": 0,
             "ticks": ""
            },
            "colorscale": [
             [
              0,
              "#0d0887"
             ],
             [
              0.1111111111111111,
              "#46039f"
             ],
             [
              0.2222222222222222,
              "#7201a8"
             ],
             [
              0.3333333333333333,
              "#9c179e"
             ],
             [
              0.4444444444444444,
              "#bd3786"
             ],
             [
              0.5555555555555556,
              "#d8576b"
             ],
             [
              0.6666666666666666,
              "#ed7953"
             ],
             [
              0.7777777777777778,
              "#fb9f3a"
             ],
             [
              0.8888888888888888,
              "#fdca26"
             ],
             [
              1,
              "#f0f921"
             ]
            ],
            "type": "heatmapgl"
           }
          ],
          "histogram": [
           {
            "marker": {
             "pattern": {
              "fillmode": "overlay",
              "size": 10,
              "solidity": 0.2
             }
            },
            "type": "histogram"
           }
          ],
          "histogram2d": [
           {
            "colorbar": {
             "outlinewidth": 0,
             "ticks": ""
            },
            "colorscale": [
             [
              0,
              "#0d0887"
             ],
             [
              0.1111111111111111,
              "#46039f"
             ],
             [
              0.2222222222222222,
              "#7201a8"
             ],
             [
              0.3333333333333333,
              "#9c179e"
             ],
             [
              0.4444444444444444,
              "#bd3786"
             ],
             [
              0.5555555555555556,
              "#d8576b"
             ],
             [
              0.6666666666666666,
              "#ed7953"
             ],
             [
              0.7777777777777778,
              "#fb9f3a"
             ],
             [
              0.8888888888888888,
              "#fdca26"
             ],
             [
              1,
              "#f0f921"
             ]
            ],
            "type": "histogram2d"
           }
          ],
          "histogram2dcontour": [
           {
            "colorbar": {
             "outlinewidth": 0,
             "ticks": ""
            },
            "colorscale": [
             [
              0,
              "#0d0887"
             ],
             [
              0.1111111111111111,
              "#46039f"
             ],
             [
              0.2222222222222222,
              "#7201a8"
             ],
             [
              0.3333333333333333,
              "#9c179e"
             ],
             [
              0.4444444444444444,
              "#bd3786"
             ],
             [
              0.5555555555555556,
              "#d8576b"
             ],
             [
              0.6666666666666666,
              "#ed7953"
             ],
             [
              0.7777777777777778,
              "#fb9f3a"
             ],
             [
              0.8888888888888888,
              "#fdca26"
             ],
             [
              1,
              "#f0f921"
             ]
            ],
            "type": "histogram2dcontour"
           }
          ],
          "mesh3d": [
           {
            "colorbar": {
             "outlinewidth": 0,
             "ticks": ""
            },
            "type": "mesh3d"
           }
          ],
          "parcoords": [
           {
            "line": {
             "colorbar": {
              "outlinewidth": 0,
              "ticks": ""
             }
            },
            "type": "parcoords"
           }
          ],
          "pie": [
           {
            "automargin": true,
            "type": "pie"
           }
          ],
          "scatter": [
           {
            "fillpattern": {
             "fillmode": "overlay",
             "size": 10,
             "solidity": 0.2
            },
            "type": "scatter"
           }
          ],
          "scatter3d": [
           {
            "line": {
             "colorbar": {
              "outlinewidth": 0,
              "ticks": ""
             }
            },
            "marker": {
             "colorbar": {
              "outlinewidth": 0,
              "ticks": ""
             }
            },
            "type": "scatter3d"
           }
          ],
          "scattercarpet": [
           {
            "marker": {
             "colorbar": {
              "outlinewidth": 0,
              "ticks": ""
             }
            },
            "type": "scattercarpet"
           }
          ],
          "scattergeo": [
           {
            "marker": {
             "colorbar": {
              "outlinewidth": 0,
              "ticks": ""
             }
            },
            "type": "scattergeo"
           }
          ],
          "scattergl": [
           {
            "marker": {
             "colorbar": {
              "outlinewidth": 0,
              "ticks": ""
             }
            },
            "type": "scattergl"
           }
          ],
          "scattermapbox": [
           {
            "marker": {
             "colorbar": {
              "outlinewidth": 0,
              "ticks": ""
             }
            },
            "type": "scattermapbox"
           }
          ],
          "scatterpolar": [
           {
            "marker": {
             "colorbar": {
              "outlinewidth": 0,
              "ticks": ""
             }
            },
            "type": "scatterpolar"
           }
          ],
          "scatterpolargl": [
           {
            "marker": {
             "colorbar": {
              "outlinewidth": 0,
              "ticks": ""
             }
            },
            "type": "scatterpolargl"
           }
          ],
          "scatterternary": [
           {
            "marker": {
             "colorbar": {
              "outlinewidth": 0,
              "ticks": ""
             }
            },
            "type": "scatterternary"
           }
          ],
          "surface": [
           {
            "colorbar": {
             "outlinewidth": 0,
             "ticks": ""
            },
            "colorscale": [
             [
              0,
              "#0d0887"
             ],
             [
              0.1111111111111111,
              "#46039f"
             ],
             [
              0.2222222222222222,
              "#7201a8"
             ],
             [
              0.3333333333333333,
              "#9c179e"
             ],
             [
              0.4444444444444444,
              "#bd3786"
             ],
             [
              0.5555555555555556,
              "#d8576b"
             ],
             [
              0.6666666666666666,
              "#ed7953"
             ],
             [
              0.7777777777777778,
              "#fb9f3a"
             ],
             [
              0.8888888888888888,
              "#fdca26"
             ],
             [
              1,
              "#f0f921"
             ]
            ],
            "type": "surface"
           }
          ],
          "table": [
           {
            "cells": {
             "fill": {
              "color": "#EBF0F8"
             },
             "line": {
              "color": "white"
             }
            },
            "header": {
             "fill": {
              "color": "#C8D4E3"
             },
             "line": {
              "color": "white"
             }
            },
            "type": "table"
           }
          ]
         },
         "layout": {
          "annotationdefaults": {
           "arrowcolor": "#2a3f5f",
           "arrowhead": 0,
           "arrowwidth": 1
          },
          "autotypenumbers": "strict",
          "coloraxis": {
           "colorbar": {
            "outlinewidth": 0,
            "ticks": ""
           }
          },
          "colorscale": {
           "diverging": [
            [
             0,
             "#8e0152"
            ],
            [
             0.1,
             "#c51b7d"
            ],
            [
             0.2,
             "#de77ae"
            ],
            [
             0.3,
             "#f1b6da"
            ],
            [
             0.4,
             "#fde0ef"
            ],
            [
             0.5,
             "#f7f7f7"
            ],
            [
             0.6,
             "#e6f5d0"
            ],
            [
             0.7,
             "#b8e186"
            ],
            [
             0.8,
             "#7fbc41"
            ],
            [
             0.9,
             "#4d9221"
            ],
            [
             1,
             "#276419"
            ]
           ],
           "sequential": [
            [
             0,
             "#0d0887"
            ],
            [
             0.1111111111111111,
             "#46039f"
            ],
            [
             0.2222222222222222,
             "#7201a8"
            ],
            [
             0.3333333333333333,
             "#9c179e"
            ],
            [
             0.4444444444444444,
             "#bd3786"
            ],
            [
             0.5555555555555556,
             "#d8576b"
            ],
            [
             0.6666666666666666,
             "#ed7953"
            ],
            [
             0.7777777777777778,
             "#fb9f3a"
            ],
            [
             0.8888888888888888,
             "#fdca26"
            ],
            [
             1,
             "#f0f921"
            ]
           ],
           "sequentialminus": [
            [
             0,
             "#0d0887"
            ],
            [
             0.1111111111111111,
             "#46039f"
            ],
            [
             0.2222222222222222,
             "#7201a8"
            ],
            [
             0.3333333333333333,
             "#9c179e"
            ],
            [
             0.4444444444444444,
             "#bd3786"
            ],
            [
             0.5555555555555556,
             "#d8576b"
            ],
            [
             0.6666666666666666,
             "#ed7953"
            ],
            [
             0.7777777777777778,
             "#fb9f3a"
            ],
            [
             0.8888888888888888,
             "#fdca26"
            ],
            [
             1,
             "#f0f921"
            ]
           ]
          },
          "colorway": [
           "#636efa",
           "#EF553B",
           "#00cc96",
           "#ab63fa",
           "#FFA15A",
           "#19d3f3",
           "#FF6692",
           "#B6E880",
           "#FF97FF",
           "#FECB52"
          ],
          "font": {
           "color": "#2a3f5f"
          },
          "geo": {
           "bgcolor": "white",
           "lakecolor": "white",
           "landcolor": "#E5ECF6",
           "showlakes": true,
           "showland": true,
           "subunitcolor": "white"
          },
          "hoverlabel": {
           "align": "left"
          },
          "hovermode": "closest",
          "mapbox": {
           "style": "light"
          },
          "paper_bgcolor": "white",
          "plot_bgcolor": "#E5ECF6",
          "polar": {
           "angularaxis": {
            "gridcolor": "white",
            "linecolor": "white",
            "ticks": ""
           },
           "bgcolor": "#E5ECF6",
           "radialaxis": {
            "gridcolor": "white",
            "linecolor": "white",
            "ticks": ""
           }
          },
          "scene": {
           "xaxis": {
            "backgroundcolor": "#E5ECF6",
            "gridcolor": "white",
            "gridwidth": 2,
            "linecolor": "white",
            "showbackground": true,
            "ticks": "",
            "zerolinecolor": "white"
           },
           "yaxis": {
            "backgroundcolor": "#E5ECF6",
            "gridcolor": "white",
            "gridwidth": 2,
            "linecolor": "white",
            "showbackground": true,
            "ticks": "",
            "zerolinecolor": "white"
           },
           "zaxis": {
            "backgroundcolor": "#E5ECF6",
            "gridcolor": "white",
            "gridwidth": 2,
            "linecolor": "white",
            "showbackground": true,
            "ticks": "",
            "zerolinecolor": "white"
           }
          },
          "shapedefaults": {
           "line": {
            "color": "#2a3f5f"
           }
          },
          "ternary": {
           "aaxis": {
            "gridcolor": "white",
            "linecolor": "white",
            "ticks": ""
           },
           "baxis": {
            "gridcolor": "white",
            "linecolor": "white",
            "ticks": ""
           },
           "bgcolor": "#E5ECF6",
           "caxis": {
            "gridcolor": "white",
            "linecolor": "white",
            "ticks": ""
           }
          },
          "title": {
           "x": 0.05
          },
          "xaxis": {
           "automargin": true,
           "gridcolor": "white",
           "linecolor": "white",
           "ticks": "",
           "title": {
            "standoff": 15
           },
           "zerolinecolor": "white",
           "zerolinewidth": 2
          },
          "yaxis": {
           "automargin": true,
           "gridcolor": "white",
           "linecolor": "white",
           "ticks": "",
           "title": {
            "standoff": 15
           },
           "zerolinecolor": "white",
           "zerolinewidth": 2
          }
         }
        },
        "title": {
         "text": "TSNE"
        },
        "width": 1000,
        "xaxis": {
         "anchor": "y",
         "domain": [
          0,
          1
         ],
         "title": {
          "text": "x"
         }
        },
        "yaxis": {
         "anchor": "x",
         "domain": [
          0,
          1
         ],
         "title": {
          "text": "y"
         }
        }
       }
      }
     },
     "metadata": {},
     "output_type": "display_data"
    }
   ],
   "source": [
    "fig = px.scatter(x=tsne_projection[0], y=tsne_projection[1], text=tsne_projection.droplevel(0).index)\n",
    "fig.update_traces(textposition='top center')\n",
    "fig.update_layout(height=1000, width=1000, title_text='TSNE')\n",
    "fig.show()"
   ]
  },
  {
   "cell_type": "code",
   "execution_count": 747,
   "metadata": {},
   "outputs": [],
   "source": [
    "range_n_cluster = list(range(10,30))\n",
    "silhoutte_score = []\n",
    "best_cluster_model = None \n",
    "\n",
    "for n_clusters in range_n_cluster:\n",
    "    cluster_model  = AgglomerativeClustering(n_clusters=n_clusters, linkage='ward')\n",
    "    cluster_labels = cluster_model.fit_predict(tsne_projection)\n",
    "    \n",
    "    silhouette_avg = silhouette_score(tsne_projection, cluster_labels)\n",
    "    silhoutte_score += [silhouette_avg]\n",
    "    \n",
    "    if silhouette_avg >= np.max(silhoutte_score):\n",
    "        best_cluster_model = cluster_model"
   ]
  },
  {
   "cell_type": "code",
   "execution_count": 748,
   "metadata": {},
   "outputs": [
    {
     "data": {
      "text/plain": [
       "<matplotlib.lines.Line2D at 0x368588650>"
      ]
     },
     "execution_count": 748,
     "metadata": {},
     "output_type": "execute_result"
    },
    {
     "data": {
      "image/png": "[encoded data removed]",
      "text/plain": [
       "<Figure size 640x480 with 1 Axes>"
      ]
     },
     "metadata": {},
     "output_type": "display_data"
    }
   ],
   "source": [
    "plt.plot(range_n_cluster, silhoutte_score)\n",
    "plt.axvline(best_cluster_model.n_clusters, color='red')"
   ]
  },
  {
   "cell_type": "code",
   "execution_count": 749,
   "metadata": {},
   "outputs": [
    {
     "data": {
      "application/vnd.plotly.v1+json": {
       "config": {
        "plotlyServerURL": "https://plot.ly"
       },
       "data": [
        {
         "hovertemplate": "x=%{x}<br>y=%{y}<br>text=%{text}<br>color=%{marker.color}<extra></extra>",
         "legendgroup": "",
         "marker": {
          "color": [
           3,
           7,
           4,
           7,
           7,
           7,
           0,
           7,
           3,
           10,
           0,
           8,
           0,
           10,
           10,
           0,
           5,
           9,
           14,
           1,
           4,
           2,
           3,
           4,
           2,
           9,
           4,
           3,
           3,
           9,
           7,
           3,
           8,
           15,
           6,
           0,
           3,
           6,
           9,
           6,
           5,
           3,
           9,
           0,
           1,
           5,
           8,
           2,
           0,
           0,
           7,
           8,
           1,
           1,
           8,
           1,
           0,
           10,
           10,
           3,
           9,
           1,
           1,
           8,
           0,
           4,
           10,
           1,
           15,
           0,
           0,
           2,
           15,
           1,
           4,
           1,
           0,
           1,
           6,
           1,
           15,
           5,
           1,
           1,
           11,
           13,
           11,
           8,
           10,
           8,
           5,
           11,
           10,
           11,
           15,
           0,
           5,
           11,
           1,
           1,
           4,
           5,
           11,
           0,
           5,
           11,
           0,
           0,
           2,
           2,
           0,
           15,
           12,
           6,
           15,
           3,
           2,
           6,
           2,
           6,
           5,
           15,
           2,
           2,
           5,
           2,
           12,
           10,
           1,
           12,
           5,
           5,
           5,
           12,
           4,
           12,
           15,
           12,
           15,
           15,
           0,
           0,
           13,
           1,
           1,
           9,
           2,
           2,
           2,
           8,
           7,
           1,
           9,
           2,
           9,
           9,
           4,
           7,
           4,
           9,
           7,
           9,
           9,
           7,
           4,
           1,
           5,
           9,
           4,
           8,
           3,
           9,
           9,
           9,
           13,
           13,
           6,
           1,
           4,
           7,
           12,
           7,
           3,
           3,
           7,
           5,
           0,
           15,
           4,
           1,
           13,
           7,
           14,
           7,
           4,
           1,
           1,
           7,
           0,
           7,
           7,
           4,
           7,
           7,
           3,
           0,
           3,
           6,
           1,
           1,
           1,
           7,
           7,
           1,
           14,
           14,
           0,
           12,
           3,
           5,
           5,
           6,
           7,
           7,
           13,
           13,
           13,
           2,
           12,
           13,
           13
          ],
          "coloraxis": "coloraxis",
          "symbol": "circle"
         },
         "mode": "markers+text",
         "name": "",
         "orientation": "v",
         "showlegend": false,
         "text": [
          "APL",
          "Ada",
          "Apex",
          "Assembly",
          "Bash/Shell (all shells)",
          "C",
          "C#",
          "C++",
          "Clojure",
          "Cobol",
          "Crystal",
          "Dart",
          "Delphi",
          "Elixir",
          "Erlang",
          "F#",
          "Flow",
          "Fortran",
          "GDScript",
          "Go",
          "Groovy",
          "HTML/CSS",
          "Haskell",
          "Java",
          "JavaScript",
          "Julia",
          "Kotlin",
          "Lisp",
          "Lua",
          "MATLAB",
          "Nim",
          "OCaml",
          "Objective-C",
          "PHP",
          "Perl",
          "PowerShell",
          "Prolog",
          "Python",
          "R",
          "Raku",
          "Ruby",
          "Rust",
          "SAS",
          "SQL",
          "Scala",
          "Solidity",
          "Swift",
          "TypeScript",
          "VBA",
          "Visual Basic (.Net)",
          "Zig",
          "BigQuery",
          "Cassandra",
          "Clickhouse",
          "Cloud Firestore",
          "Cockroachdb",
          "Cosmos DB",
          "Couch DB",
          "Couchbase",
          "Datomic",
          "DuckDB",
          "Dynamodb",
          "Elasticsearch",
          "Firebase Realtime Database",
          "Firebird",
          "H2",
          "IBM DB2",
          "InfluxDB",
          "MariaDB",
          "Microsoft Access",
          "Microsoft SQL Server",
          "MongoDB",
          "MySQL",
          "Neo4J",
          "Oracle",
          "PostgreSQL",
          "RavenDB",
          "Redis",
          "SQLite",
          "Snowflake",
          "Solr",
          "Supabase",
          "TiDB",
          "Amazon Web Services (AWS)",
          "Cloudflare",
          "Colocation",
          "Digital Ocean",
          "Firebase",
          "Fly.io",
          "Google Cloud",
          "Heroku",
          "Hetzner",
          "IBM Cloud Or Watson",
          "Linode, now Akamai",
          "Managed Hosting",
          "Microsoft Azure",
          "Netlify",
          "OVH",
          "OpenShift",
          "OpenStack",
          "Oracle Cloud Infrastructure (OCI)",
          "Render",
          "Scaleway",
          "VMware",
          "Vercel",
          "Vultr",
          "ASP.NET",
          "ASP.NET CORE",
          "Angular",
          "AngularJS",
          "Blazor",
          "CodeIgniter",
          "Deno",
          "Django",
          "Drupal",
          "Elm",
          "Express",
          "FastAPI",
          "Fastify",
          "Flask",
          "Gatsby",
          "Laravel",
          "Lit",
          "NestJS",
          "Next.js",
          "Node.js",
          "Nuxt.js",
          "Phoenix",
          "Play Framework",
          "Qwik",
          "React",
          "Remix",
          "Ruby on Rails",
          "Solid.js",
          "Spring Boot",
          "Svelte",
          "Symfony",
          "Vue.js",
          "WordPress",
          "jQuery",
          ".NET (5+) ",
          ".NET Framework (1.0 - 4.8)",
          ".NET MAUI",
          "Apache Kafka",
          "Apache Spark",
          "CUDA",
          "Capacitor",
          "Cordova",
          "Electron",
          "Flutter",
          "GTK",
          "Hadoop",
          "Hugging Face Transformers",
          "Ionic",
          "JAX",
          "Keras",
          "Ktor",
          "MFC",
          "Micronaut",
          "NumPy",
          "OpenGL",
          "Opencv",
          "Pandas",
          "Qt",
          "Quarkus",
          "RabbitMQ",
          "React Native",
          "Scikit-Learn",
          "Spring Framework",
          "SwiftUI",
          "Tauri",
          "TensorFlow",
          "Tidyverse",
          "Torch/PyTorch",
          "Uno Platform",
          "Xamarin",
          "APT",
          "Ansible",
          "Ant",
          "Boost.Test",
          "Bun",
          "CMake",
          "CUTE",
          "Cargo",
          "Catch2",
          "Chef",
          "Chocolatey",
          "Composer",
          "Dagger",
          "Docker",
          "ELFspy",
          "GNU GCC",
          "Godot",
          "Google Test",
          "Gradle",
          "Homebrew",
          "Kubernetes",
          "LLVM's Clang",
          "MSBuild",
          "MSVC",
          "Make",
          "Maven (build tool)",
          "Meson",
          "Ninja",
          "Nix",
          "NuGet",
          "Pacman",
          "Pip",
          "Podman",
          "Pulumi",
          "Puppet",
          "QMake",
          "SCons",
          "Terraform",
          "Unity 3D",
          "Unreal Engine",
          "Visual Studio Solution",
          "Vite",
          "Wasmer",
          "Webpack",
          "Yarn",
          "bandit",
          "build2",
          "cppunit",
          "doctest",
          "lest",
          "liblittletest",
          "npm",
          "pnpm",
          "snitch",
          "tunit"
         ],
         "textposition": "top center",
         "type": "scatter",
         "x": [
          9.977753639221191,
          -8.084548950195312,
          -17.92567253112793,
          -4.192628383636475,
          -8.613306999206543,
          -2.725271701812744,
          44.3369140625,
          -0.858428418636322,
          13.42813777923584,
          1.178867220878601,
          38.20538330078125,
          -43.70856475830078,
          28.11677360534668,
          0.09003675729036331,
          -0.2826695144176483,
          47.21349334716797,
          6.132194519042969,
          -18.858678817749023,
          15.49596118927002,
          -17.39215850830078,
          -30.497835159301758,
          15.248659133911133,
          7.370781421661377,
          -23.757410049438477,
          15.05118179321289,
          -23.729080200195312,
          -32.295711517333984,
          12.248210906982422,
          8.734350204467773,
          -20.86901092529297,
          0.5291075706481934,
          9.228033065795898,
          -54.36894226074219,
          26.16445541381836,
          -5.624769687652588,
          42.27471160888672,
          11.156182289123535,
          -14.909151077270508,
          -30.77330207824707,
          -5.587422847747803,
          -4.132534503936768,
          9.180288314819336,
          -31.741113662719727,
          47.73529052734375,
          -29.611373901367188,
          1.2592387199401855,
          -53.569278717041016,
          14.087367057800293,
          37.519065856933594,
          39.518531799316406,
          0.032477956265211105,
          -43.286441802978516,
          -24.05327033996582,
          -21.93927574157715,
          -47.289833068847656,
          -18.717788696289062,
          51.236942291259766,
          -2.3647916316986084,
          -3.31632924079895,
          13.926042556762695,
          -29.07259178161621,
          -21.720670700073242,
          -16.272872924804688,
          -48.39611053466797,
          28.329465866088867,
          -24.735933303833008,
          0.6906419992446899,
          -8.637017250061035,
          25.863121032714844,
          37.11627960205078,
          47.97727966308594,
          9.784510612487793,
          25.130651473999023,
          -16.725751876831055,
          -20.67613410949707,
          -16.828449249267578,
          47.6790885925293,
          -15.84622859954834,
          -17.186674118041992,
          -26.14933967590332,
          31.70820426940918,
          -0.9532310366630554,
          -16.378211975097656,
          -21.706899642944336,
          15.14426040649414,
          26.179977416992188,
          15.034745216369629,
          -47.813812255859375,
          0.41690152883529663,
          -43.3687629699707,
          -3.1541876792907715,
          15.293497085571289,
          -0.4334210157394409,
          13.811966896057129,
          22.662630081176758,
          49.959354400634766,
          0.8071781396865845,
          23.58307456970215,
          -14.01059627532959,
          -10.284701347351074,
          -18.707597732543945,
          -2.4821629524230957,
          23.407087326049805,
          27.457748413085938,
          0.6661463379859924,
          15.938997268676758,
          42.52416229248047,
          45.890235900878906,
          16.971519470214844,
          18.130502700805664,
          45.633018493652344,
          27.047672271728516,
          0.4486636817455292,
          -15.848960876464844,
          30.532577514648438,
          6.54418420791626,
          11.288370132446289,
          -15.611709594726562,
          12.33006477355957,
          -16.504365921020508,
          1.468247652053833,
          26.85665512084961,
          14.55727767944336,
          13.63569164276123,
          1.3786826133728027,
          11.473889350891113,
          -0.45229944586753845,
          0.12798592448234558,
          -29.802181243896484,
          -5.512477874755859,
          5.893899440765381,
          1.4590481519699097,
          -3.8677337169647217,
          -4.464515209197998,
          -24.203712463378906,
          -0.4886868894100189,
          28.27937126159668,
          -0.7231099009513855,
          24.318256378173828,
          23.916540145874023,
          45.30189895629883,
          41.32587432861328,
          39.3988037109375,
          -22.648900985717773,
          -29.117385864257812,
          -29.241209030151367,
          27.159940719604492,
          28.05109405517578,
          10.827837944030762,
          -43.613765716552734,
          -6.646495819091797,
          -29.499217987060547,
          -26.85247230529785,
          27.415998458862305,
          -28.230192184448242,
          -30.556570053100586,
          -33.583534240722656,
          5.010857105255127,
          -29.436450958251953,
          -25.0899600982666,
          0.9504355788230896,
          -26.527935028076172,
          -25.199737548828125,
          -2.631361246109009,
          -25.98251724243164,
          -14.375870704650879,
          5.971466541290283,
          -26.37215232849121,
          -23.70155906677246,
          -53.20915222167969,
          10.813591957092285,
          -30.1527042388916,
          -30.38674545288086,
          -27.89331817626953,
          31.88737678527832,
          39.10070037841797,
          -11.930060386657715,
          -10.48141098022461,
          -23.427852630615234,
          0.696806013584137,
          -3.5255651473999023,
          -0.7698990702629089,
          15.07843017578125,
          8.697190284729004,
          0.07883583754301071,
          -4.977646350860596,
          41.96217346191406,
          27.276153564453125,
          -32.891998291015625,
          -16.684707641601562,
          26.1707820892334,
          -2.5093393325805664,
          15.635599136352539,
          -1.402404546737671,
          -31.3405818939209,
          -18.639108657836914,
          -15.99950122833252,
          -1.4401001930236816,
          45.16917037963867,
          3.741684913635254,
          -6.761143207550049,
          -24.35894203186035,
          -5.10905647277832,
          -3.688159942626953,
          6.875040054321289,
          44.67209243774414,
          7.127427577972412,
          -14.056731224060059,
          -10.746363639831543,
          -16.175230026245117,
          -13.417668342590332,
          -2.5518462657928467,
          -3.6435229778289795,
          -15.20306396484375,
          19.903667449951172,
          19.49890899658203,
          42.74854278564453,
          -1.447211742401123,
          9.281282424926758,
          10.060126304626465,
          9.282708168029785,
          -12.953956604003906,
          1.3440450429916382,
          -0.3722952902317047,
          26.5781307220459,
          33.261314392089844,
          30.171770095825195,
          13.4185152053833,
          -3.05948805809021,
          27.90237808227539,
          29.155136108398438
         ],
         "xaxis": "x",
         "y": [
          -14.699956893920898,
          -37.601531982421875,
          26.237430572509766,
          -33.214515686035156,
          -25.671062469482422,
          -33.02954864501953,
          -9.692862510681152,
          -34.05888366699219,
          -7.769259452819824,
          3.7876856327056885,
          -4.924107074737549,
          29.40966033935547,
          -7.410921573638916,
          14.647077560424805,
          13.321125984191895,
          -11.275063514709473,
          33.201351165771484,
          -32.20615005493164,
          -34.94879150390625,
          -5.816453456878662,
          25.200403213500977,
          33.292049407958984,
          -11.97111701965332,
          24.68337631225586,
          33.714942932128906,
          -30.832630157470703,
          27.269332885742188,
          -9.122034072875977,
          -22.87873077392578,
          -31.495426177978516,
          -25.607919692993164,
          -12.888540267944336,
          22.741104125976562,
          20.98374366760254,
          -16.045942306518555,
          -11.78811264038086,
          -10.333306312561035,
          -22.93148422241211,
          -37.673030853271484,
          -15.741618156433105,
          25.437150955200195,
          -20.878108978271484,
          -38.75474166870117,
          -3.4350550174713135,
          4.256105899810791,
          38.72065734863281,
          23.517881393432617,
          37.852447509765625,
          -1.3569579124450684,
          -4.918640613555908,
          -26.72473907470703,
          12.542411804199219,
          6.099588394165039,
          7.421893119812012,
          31.649545669555664,
          -5.680290222167969,
          -5.934929370880127,
          7.193544387817383,
          7.553408145904541,
          -7.2397871017456055,
          -36.043418884277344,
          -0.5602550506591797,
          8.03463363647461,
          30.546817779541016,
          -7.904577732086182,
          20.615285873413086,
          4.207433223724365,
          -1.1090449094772339,
          18.29853057861328,
          -1.2811434268951416,
          -4.808038234710693,
          44.83642578125,
          19.923112869262695,
          9.609582901000977,
          25.22997283935547,
          3.914538860321045,
          -8.856351852416992,
          7.235017776489258,
          -20.05560874938965,
          -0.43870118260383606,
          21.32291030883789,
          35.110652923583984,
          -6.7335381507873535,
          -0.1518881469964981,
          11.896547317504883,
          -19.18647003173828,
          12.652050018310547,
          31.10701560974121,
          16.37635040283203,
          12.839938163757324,
          27.85748291015625,
          9.94906234741211,
          5.184688568115234,
          13.604423522949219,
          20.922822952270508,
          -5.679647445678711,
          32.94676971435547,
          9.391778945922852,
          2.152357816696167,
          -2.931422710418701,
          25.93804168701172,
          30.06746482849121,
          9.09998607635498,
          -6.042314052581787,
          34.895835876464844,
          13.829683303833008,
          -5.803915500640869,
          -8.543062210083008,
          37.58294677734375,
          37.48167037963867,
          -7.152838706970215,
          23.664884567260742,
          48.86030578613281,
          -20.953155517578125,
          21.243173599243164,
          -10.534393310546875,
          44.1808967590332,
          -24.565141677856445,
          45.617645263671875,
          -22.918439865112305,
          31.846773147583008,
          21.859838485717773,
          39.09271240234375,
          42.849937438964844,
          35.63113021850586,
          43.430702209472656,
          53.351661682128906,
          15.001723289489746,
          4.785834312438965,
          51.870445251464844,
          35.61382293701172,
          37.41896057128906,
          26.019023895263672,
          51.267242431640625,
          22.115535736083984,
          49.93630599975586,
          19.517248153686523,
          52.73432922363281,
          21.937744140625,
          24.928741455078125,
          -9.79313850402832,
          -6.151737213134766,
          -21.046127319335938,
          6.350522994995117,
          1.1991119384765625,
          -26.105628967285156,
          46.070960998535156,
          44.85910415649414,
          41.72706985473633,
          29.150922775268555,
          -38.10276794433594,
          0.9191339015960693,
          -25.11383819580078,
          45.656192779541016,
          -23.794584274291992,
          -29.214365005493164,
          26.536775588989258,
          -33.94111633300781,
          27.652315139770508,
          -29.62688446044922,
          -33.76191329956055,
          -30.866239547729492,
          -28.971921920776367,
          -45.01889419555664,
          24.674741744995117,
          6.6630072593688965,
          36.795738220214844,
          -28.042787551879883,
          22.139339447021484,
          23.885316848754883,
          -21.07015609741211,
          -28.932483673095703,
          -37.28956604003906,
          -25.97012710571289,
          -26.178327560424805,
          -21.227632522583008,
          -24.446212768554688,
          -1.3562047481536865,
          26.188720703125,
          -36.48841857910156,
          48.349143981933594,
          -34.824275970458984,
          -6.037675380706787,
          -20.96500587463379,
          -39.033267974853516,
          23.82394790649414,
          -13.299297332763672,
          20.60521125793457,
          28.673126220703125,
          2.058573007583618,
          -18.760522842407227,
          -30.828706741333008,
          -35.18865966796875,
          -36.03824234008789,
          26.957849502563477,
          1.6723071336746216,
          1.3821138143539429,
          -29.16804313659668,
          -13.157231330871582,
          -33.99919891357422,
          -27.064985275268555,
          24.087499618530273,
          -37.9328498840332,
          -37.41363525390625,
          -12.402278900146484,
          -11.726181983947754,
          -21.202232360839844,
          -22.984086990356445,
          -0.010471436195075512,
          -1.6611270904541016,
          -1.7739555835723877,
          -45.371917724609375,
          -29.847387313842773,
          -0.5963723659515381,
          -39.43607711791992,
          -39.675018310546875,
          -9.109916687011719,
          50.91666793823242,
          -18.770164489746094,
          35.95643615722656,
          35.81303024291992,
          -21.72359275817871,
          -39.56403732299805,
          -31.310773849487305,
          -26.76725959777832,
          -26.623172760009766,
          -26.161518096923828,
          37.190826416015625,
          49.82241439819336,
          -26.301406860351562,
          -26.19916534423828
         ],
         "yaxis": "y"
        }
       ],
       "layout": {
        "coloraxis": {
         "colorbar": {
          "title": {
           "text": "color"
          }
         },
         "colorscale": [
          [
           0,
           "#0d0887"
          ],
          [
           0.1111111111111111,
           "#46039f"
          ],
          [
           0.2222222222222222,
           "#7201a8"
          ],
          [
           0.3333333333333333,
           "#9c179e"
          ],
          [
           0.4444444444444444,
           "#bd3786"
          ],
          [
           0.5555555555555556,
           "#d8576b"
          ],
          [
           0.6666666666666666,
           "#ed7953"
          ],
          [
           0.7777777777777778,
           "#fb9f3a"
          ],
          [
           0.8888888888888888,
           "#fdca26"
          ],
          [
           1,
           "#f0f921"
          ]
         ]
        },
        "height": 900,
        "legend": {
         "tracegroupgap": 0
        },
        "margin": {
         "t": 60
        },
        "template": {
         "data": {
          "bar": [
           {
            "error_x": {
             "color": "#2a3f5f"
            },
            "error_y": {
             "color": "#2a3f5f"
            },
            "marker": {
             "line": {
              "color": "#E5ECF6",
              "width": 0.5
             },
             "pattern": {
              "fillmode": "overlay",
              "size": 10,
              "solidity": 0.2
             }
            },
            "type": "bar"
           }
          ],
          "barpolar": [
           {
            "marker": {
             "line": {
              "color": "#E5ECF6",
              "width": 0.5
             },
             "pattern": {
              "fillmode": "overlay",
              "size": 10,
              "solidity": 0.2
             }
            },
            "type": "barpolar"
           }
          ],
          "carpet": [
           {
            "aaxis": {
             "endlinecolor": "#2a3f5f",
             "gridcolor": "white",
             "linecolor": "white",
             "minorgridcolor": "white",
             "startlinecolor": "#2a3f5f"
            },
            "baxis": {
             "endlinecolor": "#2a3f5f",
             "gridcolor": "white",
             "linecolor": "white",
             "minorgridcolor": "white",
             "startlinecolor": "#2a3f5f"
            },
            "type": "carpet"
           }
          ],
          "choropleth": [
           {
            "colorbar": {
             "outlinewidth": 0,
             "ticks": ""
            },
            "type": "choropleth"
           }
          ],
          "contour": [
           {
            "colorbar": {
             "outlinewidth": 0,
             "ticks": ""
            },
            "colorscale": [
             [
              0,
              "#0d0887"
             ],
             [
              0.1111111111111111,
              "#46039f"
             ],
             [
              0.2222222222222222,
              "#7201a8"
             ],
             [
              0.3333333333333333,
              "#9c179e"
             ],
             [
              0.4444444444444444,
              "#bd3786"
             ],
             [
              0.5555555555555556,
              "#d8576b"
             ],
             [
              0.6666666666666666,
              "#ed7953"
             ],
             [
              0.7777777777777778,
              "#fb9f3a"
             ],
             [
              0.8888888888888888,
              "#fdca26"
             ],
             [
              1,
              "#f0f921"
             ]
            ],
            "type": "contour"
           }
          ],
          "contourcarpet": [
           {
            "colorbar": {
             "outlinewidth": 0,
             "ticks": ""
            },
            "type": "contourcarpet"
           }
          ],
          "heatmap": [
           {
            "colorbar": {
             "outlinewidth": 0,
             "ticks": ""
            },
            "colorscale": [
             [
              0,
              "#0d0887"
             ],
             [
              0.1111111111111111,
              "#46039f"
             ],
             [
              0.2222222222222222,
              "#7201a8"
             ],
             [
              0.3333333333333333,
              "#9c179e"
             ],
             [
              0.4444444444444444,
              "#bd3786"
             ],
             [
              0.5555555555555556,
              "#d8576b"
             ],
             [
              0.6666666666666666,
              "#ed7953"
             ],
             [
              0.7777777777777778,
              "#fb9f3a"
             ],
             [
              0.8888888888888888,
              "#fdca26"
             ],
             [
              1,
              "#f0f921"
             ]
            ],
            "type": "heatmap"
           }
          ],
          "heatmapgl": [
           {
            "colorbar": {
             "outlinewidth": 0,
             "ticks": ""
            },
            "colorscale": [
             [
              0,
              "#0d0887"
             ],
             [
              0.1111111111111111,
              "#46039f"
             ],
             [
              0.2222222222222222,
              "#7201a8"
             ],
             [
              0.3333333333333333,
              "#9c179e"
             ],
             [
              0.4444444444444444,
              "#bd3786"
             ],
             [
              0.5555555555555556,
              "#d8576b"
             ],
             [
              0.6666666666666666,
              "#ed7953"
             ],
             [
              0.7777777777777778,
              "#fb9f3a"
             ],
             [
              0.8888888888888888,
              "#fdca26"
             ],
             [
              1,
              "#f0f921"
             ]
            ],
            "type": "heatmapgl"
           }
          ],
          "histogram": [
           {
            "marker": {
             "pattern": {
              "fillmode": "overlay",
              "size": 10,
              "solidity": 0.2
             }
            },
            "type": "histogram"
           }
          ],
          "histogram2d": [
           {
            "colorbar": {
             "outlinewidth": 0,
             "ticks": ""
            },
            "colorscale": [
             [
              0,
              "#0d0887"
             ],
             [
              0.1111111111111111,
              "#46039f"
             ],
             [
              0.2222222222222222,
              "#7201a8"
             ],
             [
              0.3333333333333333,
              "#9c179e"
             ],
             [
              0.4444444444444444,
              "#bd3786"
             ],
             [
              0.5555555555555556,
              "#d8576b"
             ],
             [
              0.6666666666666666,
              "#ed7953"
             ],
             [
              0.7777777777777778,
              "#fb9f3a"
             ],
             [
              0.8888888888888888,
              "#fdca26"
             ],
             [
              1,
              "#f0f921"
             ]
            ],
            "type": "histogram2d"
           }
          ],
          "histogram2dcontour": [
           {
            "colorbar": {
             "outlinewidth": 0,
             "ticks": ""
            },
            "colorscale": [
             [
              0,
              "#0d0887"
             ],
             [
              0.1111111111111111,
              "#46039f"
             ],
             [
              0.2222222222222222,
              "#7201a8"
             ],
             [
              0.3333333333333333,
              "#9c179e"
             ],
             [
              0.4444444444444444,
              "#bd3786"
             ],
             [
              0.5555555555555556,
              "#d8576b"
             ],
             [
              0.6666666666666666,
              "#ed7953"
             ],
             [
              0.7777777777777778,
              "#fb9f3a"
             ],
             [
              0.8888888888888888,
              "#fdca26"
             ],
             [
              1,
              "#f0f921"
             ]
            ],
            "type": "histogram2dcontour"
           }
          ],
          "mesh3d": [
           {
            "colorbar": {
             "outlinewidth": 0,
             "ticks": ""
            },
            "type": "mesh3d"
           }
          ],
          "parcoords": [
           {
            "line": {
             "colorbar": {
              "outlinewidth": 0,
              "ticks": ""
             }
            },
            "type": "parcoords"
           }
          ],
          "pie": [
           {
            "automargin": true,
            "type": "pie"
           }
          ],
          "scatter": [
           {
            "fillpattern": {
             "fillmode": "overlay",
             "size": 10,
             "solidity": 0.2
            },
            "type": "scatter"
           }
          ],
          "scatter3d": [
           {
            "line": {
             "colorbar": {
              "outlinewidth": 0,
              "ticks": ""
             }
            },
            "marker": {
             "colorbar": {
              "outlinewidth": 0,
              "ticks": ""
             }
            },
            "type": "scatter3d"
           }
          ],
          "scattercarpet": [
           {
            "marker": {
             "colorbar": {
              "outlinewidth": 0,
              "ticks": ""
             }
            },
            "type": "scattercarpet"
           }
          ],
          "scattergeo": [
           {
            "marker": {
             "colorbar": {
              "outlinewidth": 0,
              "ticks": ""
             }
            },
            "type": "scattergeo"
           }
          ],
          "scattergl": [
           {
            "marker": {
             "colorbar": {
              "outlinewidth": 0,
              "ticks": ""
             }
            },
            "type": "scattergl"
           }
          ],
          "scattermapbox": [
           {
            "marker": {
             "colorbar": {
              "outlinewidth": 0,
              "ticks": ""
             }
            },
            "type": "scattermapbox"
           }
          ],
          "scatterpolar": [
           {
            "marker": {
             "colorbar": {
              "outlinewidth": 0,
              "ticks": ""
             }
            },
            "type": "scatterpolar"
           }
          ],
          "scatterpolargl": [
           {
            "marker": {
             "colorbar": {
              "outlinewidth": 0,
              "ticks": ""
             }
            },
            "type": "scatterpolargl"
           }
          ],
          "scatterternary": [
           {
            "marker": {
             "colorbar": {
              "outlinewidth": 0,
              "ticks": ""
             }
            },
            "type": "scatterternary"
           }
          ],
          "surface": [
           {
            "colorbar": {
             "outlinewidth": 0,
             "ticks": ""
            },
            "colorscale": [
             [
              0,
              "#0d0887"
             ],
             [
              0.1111111111111111,
              "#46039f"
             ],
             [
              0.2222222222222222,
              "#7201a8"
             ],
             [
              0.3333333333333333,
              "#9c179e"
             ],
             [
              0.4444444444444444,
              "#bd3786"
             ],
             [
              0.5555555555555556,
              "#d8576b"
             ],
             [
              0.6666666666666666,
              "#ed7953"
             ],
             [
              0.7777777777777778,
              "#fb9f3a"
             ],
             [
              0.8888888888888888,
              "#fdca26"
             ],
             [
              1,
              "#f0f921"
             ]
            ],
            "type": "surface"
           }
          ],
          "table": [
           {
            "cells": {
             "fill": {
              "color": "#EBF0F8"
             },
             "line": {
              "color": "white"
             }
            },
            "header": {
             "fill": {
              "color": "#C8D4E3"
             },
             "line": {
              "color": "white"
             }
            },
            "type": "table"
           }
          ]
         },
         "layout": {
          "annotationdefaults": {
           "arrowcolor": "#2a3f5f",
           "arrowhead": 0,
           "arrowwidth": 1
          },
          "autotypenumbers": "strict",
          "coloraxis": {
           "colorbar": {
            "outlinewidth": 0,
            "ticks": ""
           }
          },
          "colorscale": {
           "diverging": [
            [
             0,
             "#8e0152"
            ],
            [
             0.1,
             "#c51b7d"
            ],
            [
             0.2,
             "#de77ae"
            ],
            [
             0.3,
             "#f1b6da"
            ],
            [
             0.4,
             "#fde0ef"
            ],
            [
             0.5,
             "#f7f7f7"
            ],
            [
             0.6,
             "#e6f5d0"
            ],
            [
             0.7,
             "#b8e186"
            ],
            [
             0.8,
             "#7fbc41"
            ],
            [
             0.9,
             "#4d9221"
            ],
            [
             1,
             "#276419"
            ]
           ],
           "sequential": [
            [
             0,
             "#0d0887"
            ],
            [
             0.1111111111111111,
             "#46039f"
            ],
            [
             0.2222222222222222,
             "#7201a8"
            ],
            [
             0.3333333333333333,
             "#9c179e"
            ],
            [
             0.4444444444444444,
             "#bd3786"
            ],
            [
             0.5555555555555556,
             "#d8576b"
            ],
            [
             0.6666666666666666,
             "#ed7953"
            ],
            [
             0.7777777777777778,
             "#fb9f3a"
            ],
            [
             0.8888888888888888,
             "#fdca26"
            ],
            [
             1,
             "#f0f921"
            ]
           ],
           "sequentialminus": [
            [
             0,
             "#0d0887"
            ],
            [
             0.1111111111111111,
             "#46039f"
            ],
            [
             0.2222222222222222,
             "#7201a8"
            ],
            [
             0.3333333333333333,
             "#9c179e"
            ],
            [
             0.4444444444444444,
             "#bd3786"
            ],
            [
             0.5555555555555556,
             "#d8576b"
            ],
            [
             0.6666666666666666,
             "#ed7953"
            ],
            [
             0.7777777777777778,
             "#fb9f3a"
            ],
            [
             0.8888888888888888,
             "#fdca26"
            ],
            [
             1,
             "#f0f921"
            ]
           ]
          },
          "colorway": [
           "#636efa",
           "#EF553B",
           "#00cc96",
           "#ab63fa",
           "#FFA15A",
           "#19d3f3",
           "#FF6692",
           "#B6E880",
           "#FF97FF",
           "#FECB52"
          ],
          "font": {
           "color": "#2a3f5f"
          },
          "geo": {
           "bgcolor": "white",
           "lakecolor": "white",
           "landcolor": "#E5ECF6",
           "showlakes": true,
           "showland": true,
           "subunitcolor": "white"
          },
          "hoverlabel": {
           "align": "left"
          },
          "hovermode": "closest",
          "mapbox": {
           "style": "light"
          },
          "paper_bgcolor": "white",
          "plot_bgcolor": "#E5ECF6",
          "polar": {
           "angularaxis": {
            "gridcolor": "white",
            "linecolor": "white",
            "ticks": ""
           },
           "bgcolor": "#E5ECF6",
           "radialaxis": {
            "gridcolor": "white",
            "linecolor": "white",
            "ticks": ""
           }
          },
          "scene": {
           "xaxis": {
            "backgroundcolor": "#E5ECF6",
            "gridcolor": "white",
            "gridwidth": 2,
            "linecolor": "white",
            "showbackground": true,
            "ticks": "",
            "zerolinecolor": "white"
           },
           "yaxis": {
            "backgroundcolor": "#E5ECF6",
            "gridcolor": "white",
            "gridwidth": 2,
            "linecolor": "white",
            "showbackground": true,
            "ticks": "",
            "zerolinecolor": "white"
           },
           "zaxis": {
            "backgroundcolor": "#E5ECF6",
            "gridcolor": "white",
            "gridwidth": 2,
            "linecolor": "white",
            "showbackground": true,
            "ticks": "",
            "zerolinecolor": "white"
           }
          },
          "shapedefaults": {
           "line": {
            "color": "#2a3f5f"
           }
          },
          "ternary": {
           "aaxis": {
            "gridcolor": "white",
            "linecolor": "white",
            "ticks": ""
           },
           "baxis": {
            "gridcolor": "white",
            "linecolor": "white",
            "ticks": ""
           },
           "bgcolor": "#E5ECF6",
           "caxis": {
            "gridcolor": "white",
            "linecolor": "white",
            "ticks": ""
           }
          },
          "title": {
           "x": 0.05
          },
          "xaxis": {
           "automargin": true,
           "gridcolor": "white",
           "linecolor": "white",
           "ticks": "",
           "title": {
            "standoff": 15
           },
           "zerolinecolor": "white",
           "zerolinewidth": 2
          },
          "yaxis": {
           "automargin": true,
           "gridcolor": "white",
           "linecolor": "white",
           "ticks": "",
           "title": {
            "standoff": 15
           },
           "zerolinecolor": "white",
           "zerolinewidth": 2
          }
         }
        },
        "title": {
         "text": "Cluster"
        },
        "width": 900,
        "xaxis": {
         "anchor": "y",
         "domain": [
          0,
          1
         ],
         "title": {
          "text": "x"
         }
        },
        "yaxis": {
         "anchor": "x",
         "domain": [
          0,
          1
         ],
         "title": {
          "text": "y"
         }
        }
       }
      }
     },
     "metadata": {},
     "output_type": "display_data"
    }
   ],
   "source": [
    "fig = px.scatter(x=tsne_projection[0], \n",
    "                 y=tsne_projection[1], \n",
    "                 text=tsne_projection.droplevel(0).index, \n",
    "                 color=best_cluster_model.labels_)\n",
    "fig.update_traces(textposition='top center')\n",
    "fig.update_layout(height=900, width=900, title_text='Cluster')\n",
    "fig.show()"
   ]
  },
  {
   "cell_type": "markdown",
   "metadata": {},
   "source": [
    "sklearn.metrics.get_scorer_names() "
   ]
  },
  {
   "cell_type": "code",
   "execution_count": 750,
   "metadata": {},
   "outputs": [],
   "source": [
    "skills_clusters = tsne_projection.index.droplevel(0).to_series().groupby(best_cluster_model.labels_).apply(list)"
   ]
  },
  {
   "cell_type": "code",
   "execution_count": 751,
   "metadata": {},
   "outputs": [
    {
     "data": {
      "text/plain": [
       "(16,)"
      ]
     },
     "execution_count": 751,
     "metadata": {},
     "output_type": "execute_result"
    }
   ],
   "source": [
    "skills_clusters.shape"
   ]
  },
  {
   "cell_type": "code",
   "execution_count": 752,
   "metadata": {},
   "outputs": [],
   "source": [
    "skills_df = encoded_df.copy().drop('DevType', axis=1).droplevel(0, axis=1)"
   ]
  },
  {
   "cell_type": "code",
   "execution_count": 753,
   "metadata": {},
   "outputs": [],
   "source": [
    "new_features = []\n",
    "\n",
    "for cluster, skills in skills_clusters.items():\n",
    "    cluster_sum = skills_df[skills].sum(axis=1)\n",
    "    cluster_sum.name = cluster\n",
    "    new_features.append(cluster_sum)\n",
    "\n",
    "fe_clustered_skills = pd.concat(new_features, axis=1)\n",
    "combined_features_df = pd.concat([fe_clustered_skills, \n",
    "                                  skills_df], \n",
    "                                 axis=1)\n"
   ]
  },
  {
   "cell_type": "code",
   "execution_count": 754,
   "metadata": {},
   "outputs": [],
   "source": [
    "new_skills_group = []\n",
    "for cluster in skills_clusters:\n",
    "    new_skills_group.append(skills_df[cluster].sum(axis=1))"
   ]
  },
  {
   "cell_type": "code",
   "execution_count": 755,
   "metadata": {},
   "outputs": [],
   "source": [
    "new_skill_df = pd.concat(new_skills_group, axis=1)\n",
    "new_skill_df.columns = [f\"skill_cluster_{i}\" for i in range(0, len(skills_clusters))]"
   ]
  },
  {
   "cell_type": "markdown",
   "metadata": {},
   "source": [
    "## Clustering Back-end"
   ]
  },
  {
   "cell_type": "code",
   "execution_count": 756,
   "metadata": {},
   "outputs": [
    {
     "data": {
      "application/vnd.plotly.v1+json": {
       "config": {
        "plotlyServerURL": "https://plot.ly"
       },
       "data": [
        {
         "hovertemplate": "x=%{x}<br>y=%{y}<br>text=%{text}<extra></extra>",
         "legendgroup": "",
         "marker": {
          "color": "#636efa",
          "symbol": "circle"
         },
         "mode": "markers+text",
         "name": "",
         "orientation": "v",
         "showlegend": false,
         "text": [
          "APL",
          "Ada",
          "Apex",
          "Assembly",
          "Bash/Shell (all shells)",
          "C",
          "C#",
          "C++",
          "Clojure",
          "Cobol",
          "Crystal",
          "Dart",
          "Delphi",
          "Elixir",
          "Erlang",
          "F#",
          "Flow",
          "Fortran",
          "GDScript",
          "Go",
          "Groovy",
          "HTML/CSS",
          "Haskell",
          "Java",
          "JavaScript",
          "Julia",
          "Kotlin",
          "Lisp",
          "Lua",
          "MATLAB",
          "Nim",
          "OCaml",
          "Objective-C",
          "PHP",
          "Perl",
          "PowerShell",
          "Prolog",
          "Python",
          "R",
          "Raku",
          "Ruby",
          "Rust",
          "SAS",
          "SQL",
          "Scala",
          "Solidity",
          "Swift",
          "TypeScript",
          "VBA",
          "Visual Basic (.Net)",
          "Zig",
          "Amazon Web Services (AWS)",
          "Cloudflare",
          "Colocation",
          "Digital Ocean",
          "Firebase",
          "Fly.io",
          "Google Cloud",
          "Heroku",
          "Hetzner",
          "IBM Cloud Or Watson",
          "Linode, now Akamai",
          "Managed Hosting",
          "Microsoft Azure",
          "Netlify",
          "OVH",
          "OpenShift",
          "OpenStack",
          "Oracle Cloud Infrastructure (OCI)",
          "Render",
          "Scaleway",
          "VMware",
          "Vercel",
          "Vultr",
          "ASP.NET",
          "ASP.NET CORE",
          "Angular",
          "AngularJS",
          "Blazor",
          "CodeIgniter",
          "Deno",
          "Django",
          "Drupal",
          "Elm",
          "Express",
          "FastAPI",
          "Fastify",
          "Flask",
          "Gatsby",
          "Laravel",
          "Lit",
          "NestJS",
          "Next.js",
          "Node.js",
          "Nuxt.js",
          "Phoenix",
          "Play Framework",
          "Qwik",
          "React",
          "Remix",
          "Ruby on Rails",
          "Solid.js",
          "Spring Boot",
          "Svelte",
          "Symfony",
          "Vue.js",
          "WordPress",
          "jQuery",
          ".NET (5+) ",
          ".NET Framework (1.0 - 4.8)",
          ".NET MAUI",
          "Apache Kafka",
          "Apache Spark",
          "CUDA",
          "Capacitor",
          "Cordova",
          "Electron",
          "Flutter",
          "GTK",
          "Hadoop",
          "Hugging Face Transformers",
          "Ionic",
          "JAX",
          "Keras",
          "Ktor",
          "MFC",
          "Micronaut",
          "NumPy",
          "OpenGL",
          "Opencv",
          "Pandas",
          "Qt",
          "Quarkus",
          "RabbitMQ",
          "React Native",
          "Scikit-Learn",
          "Spring Framework",
          "SwiftUI",
          "Tauri",
          "TensorFlow",
          "Tidyverse",
          "Torch/PyTorch",
          "Uno Platform",
          "Xamarin",
          "BigQuery",
          "Cassandra",
          "Clickhouse",
          "Cloud Firestore",
          "Cockroachdb",
          "Cosmos DB",
          "Couch DB",
          "Couchbase",
          "Datomic",
          "DuckDB",
          "Dynamodb",
          "Elasticsearch",
          "Firebase Realtime Database",
          "Firebird",
          "H2",
          "IBM DB2",
          "InfluxDB",
          "MariaDB",
          "Microsoft Access",
          "Microsoft SQL Server",
          "MongoDB",
          "MySQL",
          "Neo4J",
          "Oracle",
          "PostgreSQL",
          "RavenDB",
          "Redis",
          "SQLite",
          "Snowflake",
          "Solr",
          "Supabase",
          "TiDB"
         ],
         "textposition": "top center",
         "type": "scatter",
         "x": [
          -20.587284088134766,
          19.50360107421875,
          -38.92525100708008,
          16.232688903808594,
          0.5446971654891968,
          17.455812454223633,
          47.4681510925293,
          17.89944839477539,
          3.6657164096832275,
          -28.241592407226562,
          -19.012821197509766,
          -46.026161193847656,
          39.56004333496094,
          -22.259119033813477,
          -23.195453643798828,
          45.82560348510742,
          17.069124221801758,
          11.628381729125977,
          6.504846096038818,
          -9.366744995117188,
          -40.26370620727539,
          6.232519626617432,
          8.193161964416504,
          -38.402122497558594,
          5.431042671203613,
          12.421713829040527,
          -45.253658294677734,
          5.555010795593262,
          -0.44492989778518677,
          13.087315559387207,
          11.554692268371582,
          17.809534072875977,
          -9.830123901367188,
          9.325335502624512,
          15.997838020324707,
          45.85112380981445,
          7.067214488983154,
          -1.2601916790008545,
          -19.38361358642578,
          16.61013412475586,
          -17.468351364135742,
          -0.15160949528217316,
          -27.975675582885742,
          7.93605899810791,
          -28.154550552368164,
          -7.642180442810059,
          -11.25938892364502,
          -1.2908155918121338,
          47.787635803222656,
          47.92025375366211,
          12.123623847961426,
          -19.622848510742188,
          -1.7283360958099365,
          3.2934021949768066,
          -2.1754133701324463,
          -40.78404998779297,
          -20.063274383544922,
          -11.29235553741455,
          -14.809442520141602,
          -0.8696820735931396,
          -29.919946670532227,
          -3.843780994415283,
          4.9110565185546875,
          48.0277099609375,
          -9.912075996398926,
          6.945040702819824,
          -36.224609375,
          28.80219078063965,
          -39.128604888916016,
          -13.237809181213379,
          6.855518341064453,
          29.433595657348633,
          -9.856954574584961,
          -4.361807346343994,
          48.09550857543945,
          48.587921142578125,
          9.6724214553833,
          10.49116325378418,
          50.53145217895508,
          10.709716796875,
          12.409929275512695,
          -2.1080472469329834,
          17.372188568115234,
          8.655688285827637,
          -2.599271059036255,
          -0.41928213834762573,
          -4.543605804443359,
          -2.120192766189575,
          -8.134439468383789,
          9.853318214416504,
          12.634010314941406,
          -2.9614498615264893,
          -9.027437210083008,
          -1.8587764501571655,
          17.825862884521484,
          -21.619056701660156,
          -27.57343292236328,
          12.270984649658203,
          -1.7665222883224487,
          -13.913643836975098,
          -16.80974006652832,
          0.5343034863471985,
          -37.18548583984375,
          0.2247946560382843,
          8.390528678894043,
          17.3843936920166,
          7.681063175201416,
          7.8815178871154785,
          47.10795974731445,
          47.66453170776367,
          57.015037536621094,
          -33.29258346557617,
          -29.879383087158203,
          5.448027610778809,
          20.884193420410156,
          21.15244483947754,
          0.12017954140901566,
          -46.18324279785156,
          17.619667053222656,
          -30.414140701293945,
          4.928164005279541,
          20.70874786376953,
          -37.609439849853516,
          1.2147624492645264,
          -45.719154357910156,
          20.151477813720703,
          -44.40159225463867,
          0.9295656085014343,
          20.022537231445312,
          2.7547667026519775,
          0.028717318549752235,
          18.437463760375977,
          -39.385581970214844,
          -13.869551658630371,
          -1.5744056701660156,
          0.9151368737220764,
          -37.09534454345703,
          -12.000144004821777,
          0.0491250678896904,
          2.108642339706421,
          -18.9986515045166,
          4.218010902404785,
          55.563716888427734,
          56.63337326049805,
          -11.984786987304688,
          -31.753353118896484,
          -30.036291122436523,
          -39.90414047241211,
          -9.2560453414917,
          48.19202423095703,
          -20.79288101196289,
          -33.310829162597656,
          2.9395675659179688,
          -1.7120394706726074,
          -20.114896774291992,
          -11.72242259979248,
          -41.324615478515625,
          39.12889099121094,
          -35.48159408569336,
          -28.820993423461914,
          -10.362915992736816,
          10.306241035461426,
          47.57514572143555,
          48.955997467041016,
          -5.423174858093262,
          11.646261215209961,
          -7.703039646148682,
          -37.91862869262695,
          -17.432945251464844,
          43.71352005004883,
          -12.6226224899292,
          -3.2912991046905518,
          -20.391685485839844,
          18.069896697998047,
          -12.251482009887695,
          -6.871874809265137
         ],
         "xaxis": "x",
         "y": [
          -31.345354080200195,
          -12.996476173400879,
          -25.313310623168945,
          -15.56786823272705,
          -28.155670166015625,
          -16.612197875976562,
          2.2925214767456055,
          -17.5816707611084,
          -16.33122444152832,
          -30.407764434814453,
          32.00554275512695,
          12.00308895111084,
          -14.961183547973633,
          21.285499572753906,
          20.042993545532227,
          4.7993083000183105,
          -11.335443496704102,
          -17.1682186126709,
          -14.349364280700684,
          -6.308549404144287,
          -16.381153106689453,
          27.3814697265625,
          -6.674707412719727,
          -17.438785552978516,
          27.22702407836914,
          -20.61357879638672,
          -14.258585929870605,
          -15.527203559875488,
          -3.152114152908325,
          -19.137998580932617,
          -2.150404930114746,
          -12.91840934753418,
          -19.913902282714844,
          36.839351654052734,
          -30.734769821166992,
          1.0318684577941895,
          -8.209041595458984,
          -29.705059051513672,
          -33.274147033691406,
          -30.599056243896484,
          31.371339797973633,
          -1.3933990001678467,
          -32.309783935546875,
          26.55329132080078,
          -5.065672874450684,
          21.9017333984375,
          -19.72534942626953,
          20.330842971801758,
          -8.656250953674316,
          -7.611613750457764,
          -0.040090180933475494,
          5.062514305114746,
          48.040382385253906,
          37.611515045166016,
          48.857421875,
          14.049240112304688,
          21.891023635864258,
          -7.274359703063965,
          30.576786041259766,
          46.49779510498047,
          -28.364912033081055,
          51.552005767822266,
          37.49766540527344,
          6.652927875518799,
          27.308969497680664,
          45.73107147216797,
          -22.366252899169922,
          -1.9198461771011353,
          -23.82526969909668,
          30.07792854309082,
          46.43670654296875,
          -1.9465384483337402,
          24.02464485168457,
          50.88752746582031,
          -3.195955514907837,
          3.447435140609741,
          18.463199615478516,
          18.532115936279297,
          3.9818618297576904,
          34.20990753173828,
          3.1291592121124268,
          -29.404909133911133,
          35.72691345214844,
          -6.002084732055664,
          17.46384048461914,
          -31.469480514526367,
          17.741294860839844,
          -31.469295501708984,
          28.14202117919922,
          36.253196716308594,
          4.753893852233887,
          15.992278099060059,
          23.428577423095703,
          18.161367416381836,
          45.35884094238281,
          21.250263214111328,
          -5.550866603851318,
          0.8518943786621094,
          22.235363006591797,
          22.648271560668945,
          31.178926467895508,
          2.7499961853027344,
          -16.889362335205078,
          1.1318198442459106,
          38.117488861083984,
          44.808074951171875,
          35.232608795166016,
          31.55275535583496,
          3.34903883934021,
          -2.286332368850708,
          3.613981246948242,
          -12.656044960021973,
          -2.847590684890747,
          -42.618141174316406,
          18.60096549987793,
          19.986190795898438,
          17.43059730529785,
          11.41403579711914,
          -21.36724853515625,
          -2.2965049743652344,
          -45.251556396484375,
          17.901569366455078,
          -14.115598678588867,
          -43.83384323120117,
          -13.574769973754883,
          -17.349153518676758,
          -15.933618545532227,
          -38.897403717041016,
          -20.64048194885254,
          -38.393009185791016,
          -38.621429443359375,
          -20.12628173828125,
          -19.037540435791016,
          9.239765167236328,
          23.701032638549805,
          -40.909854888916016,
          -15.953705787658691,
          -19.618106842041016,
          -0.16410057246685028,
          -43.49757385253906,
          -33.903507232666016,
          -43.65104675292969,
          1.3661081790924072,
          2.9500772953033447,
          -7.635134696960449,
          -11.754891395568848,
          -12.143043518066406,
          13.128900527954102,
          -4.738887786865234,
          8.205474853515625,
          -29.380474090576172,
          -10.555680274963379,
          -16.624183654785156,
          -38.02189636230469,
          5.701268672943115,
          7.9103522300720215,
          14.671951293945312,
          -15.404093742370605,
          -17.78297996520996,
          -29.719247817993164,
          6.801456451416016,
          39.1652946472168,
          -9.779349327087402,
          1.1172531843185425,
          13.729620933532715,
          37.45494842529297,
          11.375679969787598,
          -22.710010528564453,
          5.423573970794678,
          3.1051111221313477,
          8.214446067810059,
          -27.92447280883789,
          3.2255666255950928,
          35.49573516845703,
          23.15979766845703,
          -7.487629413604736
         ],
         "yaxis": "y"
        }
       ],
       "layout": {
        "height": 1000,
        "legend": {
         "tracegroupgap": 0
        },
        "margin": {
         "t": 60
        },
        "template": {
         "data": {
          "bar": [
           {
            "error_x": {
             "color": "#2a3f5f"
            },
            "error_y": {
             "color": "#2a3f5f"
            },
            "marker": {
             "line": {
              "color": "#E5ECF6",
              "width": 0.5
             },
             "pattern": {
              "fillmode": "overlay",
              "size": 10,
              "solidity": 0.2
             }
            },
            "type": "bar"
           }
          ],
          "barpolar": [
           {
            "marker": {
             "line": {
              "color": "#E5ECF6",
              "width": 0.5
             },
             "pattern": {
              "fillmode": "overlay",
              "size": 10,
              "solidity": 0.2
             }
            },
            "type": "barpolar"
           }
          ],
          "carpet": [
           {
            "aaxis": {
             "endlinecolor": "#2a3f5f",
             "gridcolor": "white",
             "linecolor": "white",
             "minorgridcolor": "white",
             "startlinecolor": "#2a3f5f"
            },
            "baxis": {
             "endlinecolor": "#2a3f5f",
             "gridcolor": "white",
             "linecolor": "white",
             "minorgridcolor": "white",
             "startlinecolor": "#2a3f5f"
            },
            "type": "carpet"
           }
          ],
          "choropleth": [
           {
            "colorbar": {
             "outlinewidth": 0,
             "ticks": ""
            },
            "type": "choropleth"
           }
          ],
          "contour": [
           {
            "colorbar": {
             "outlinewidth": 0,
             "ticks": ""
            },
            "colorscale": [
             [
              0,
              "#0d0887"
             ],
             [
              0.1111111111111111,
              "#46039f"
             ],
             [
              0.2222222222222222,
              "#7201a8"
             ],
             [
              0.3333333333333333,
              "#9c179e"
             ],
             [
              0.4444444444444444,
              "#bd3786"
             ],
             [
              0.5555555555555556,
              "#d8576b"
             ],
             [
              0.6666666666666666,
              "#ed7953"
             ],
             [
              0.7777777777777778,
              "#fb9f3a"
             ],
             [
              0.8888888888888888,
              "#fdca26"
             ],
             [
              1,
              "#f0f921"
             ]
            ],
            "type": "contour"
           }
          ],
          "contourcarpet": [
           {
            "colorbar": {
             "outlinewidth": 0,
             "ticks": ""
            },
            "type": "contourcarpet"
           }
          ],
          "heatmap": [
           {
            "colorbar": {
             "outlinewidth": 0,
             "ticks": ""
            },
            "colorscale": [
             [
              0,
              "#0d0887"
             ],
             [
              0.1111111111111111,
              "#46039f"
             ],
             [
              0.2222222222222222,
              "#7201a8"
             ],
             [
              0.3333333333333333,
              "#9c179e"
             ],
             [
              0.4444444444444444,
              "#bd3786"
             ],
             [
              0.5555555555555556,
              "#d8576b"
             ],
             [
              0.6666666666666666,
              "#ed7953"
             ],
             [
              0.7777777777777778,
              "#fb9f3a"
             ],
             [
              0.8888888888888888,
              "#fdca26"
             ],
             [
              1,
              "#f0f921"
             ]
            ],
            "type": "heatmap"
           }
          ],
          "heatmapgl": [
           {
            "colorbar": {
             "outlinewidth": 0,
             "ticks": ""
            },
            "colorscale": [
             [
              0,
              "#0d0887"
             ],
             [
              0.1111111111111111,
              "#46039f"
             ],
             [
              0.2222222222222222,
              "#7201a8"
             ],
             [
              0.3333333333333333,
              "#9c179e"
             ],
             [
              0.4444444444444444,
              "#bd3786"
             ],
             [
              0.5555555555555556,
              "#d8576b"
             ],
             [
              0.6666666666666666,
              "#ed7953"
             ],
             [
              0.7777777777777778,
              "#fb9f3a"
             ],
             [
              0.8888888888888888,
              "#fdca26"
             ],
             [
              1,
              "#f0f921"
             ]
            ],
            "type": "heatmapgl"
           }
          ],
          "histogram": [
           {
            "marker": {
             "pattern": {
              "fillmode": "overlay",
              "size": 10,
              "solidity": 0.2
             }
            },
            "type": "histogram"
           }
          ],
          "histogram2d": [
           {
            "colorbar": {
             "outlinewidth": 0,
             "ticks": ""
            },
            "colorscale": [
             [
              0,
              "#0d0887"
             ],
             [
              0.1111111111111111,
              "#46039f"
             ],
             [
              0.2222222222222222,
              "#7201a8"
             ],
             [
              0.3333333333333333,
              "#9c179e"
             ],
             [
              0.4444444444444444,
              "#bd3786"
             ],
             [
              0.5555555555555556,
              "#d8576b"
             ],
             [
              0.6666666666666666,
              "#ed7953"
             ],
             [
              0.7777777777777778,
              "#fb9f3a"
             ],
             [
              0.8888888888888888,
              "#fdca26"
             ],
             [
              1,
              "#f0f921"
             ]
            ],
            "type": "histogram2d"
           }
          ],
          "histogram2dcontour": [
           {
            "colorbar": {
             "outlinewidth": 0,
             "ticks": ""
            },
            "colorscale": [
             [
              0,
              "#0d0887"
             ],
             [
              0.1111111111111111,
              "#46039f"
             ],
             [
              0.2222222222222222,
              "#7201a8"
             ],
             [
              0.3333333333333333,
              "#9c179e"
             ],
             [
              0.4444444444444444,
              "#bd3786"
             ],
             [
              0.5555555555555556,
              "#d8576b"
             ],
             [
              0.6666666666666666,
              "#ed7953"
             ],
             [
              0.7777777777777778,
              "#fb9f3a"
             ],
             [
              0.8888888888888888,
              "#fdca26"
             ],
             [
              1,
              "#f0f921"
             ]
            ],
            "type": "histogram2dcontour"
           }
          ],
          "mesh3d": [
           {
            "colorbar": {
             "outlinewidth": 0,
             "ticks": ""
            },
            "type": "mesh3d"
           }
          ],
          "parcoords": [
           {
            "line": {
             "colorbar": {
              "outlinewidth": 0,
              "ticks": ""
             }
            },
            "type": "parcoords"
           }
          ],
          "pie": [
           {
            "automargin": true,
            "type": "pie"
           }
          ],
          "scatter": [
           {
            "fillpattern": {
             "fillmode": "overlay",
             "size": 10,
             "solidity": 0.2
            },
            "type": "scatter"
           }
          ],
          "scatter3d": [
           {
            "line": {
             "colorbar": {
              "outlinewidth": 0,
              "ticks": ""
             }
            },
            "marker": {
             "colorbar": {
              "outlinewidth": 0,
              "ticks": ""
             }
            },
            "type": "scatter3d"
           }
          ],
          "scattercarpet": [
           {
            "marker": {
             "colorbar": {
              "outlinewidth": 0,
              "ticks": ""
             }
            },
            "type": "scattercarpet"
           }
          ],
          "scattergeo": [
           {
            "marker": {
             "colorbar": {
              "outlinewidth": 0,
              "ticks": ""
             }
            },
            "type": "scattergeo"
           }
          ],
          "scattergl": [
           {
            "marker": {
             "colorbar": {
              "outlinewidth": 0,
              "ticks": ""
             }
            },
            "type": "scattergl"
           }
          ],
          "scattermapbox": [
           {
            "marker": {
             "colorbar": {
              "outlinewidth": 0,
              "ticks": ""
             }
            },
            "type": "scattermapbox"
           }
          ],
          "scatterpolar": [
           {
            "marker": {
             "colorbar": {
              "outlinewidth": 0,
              "ticks": ""
             }
            },
            "type": "scatterpolar"
           }
          ],
          "scatterpolargl": [
           {
            "marker": {
             "colorbar": {
              "outlinewidth": 0,
              "ticks": ""
             }
            },
            "type": "scatterpolargl"
           }
          ],
          "scatterternary": [
           {
            "marker": {
             "colorbar": {
              "outlinewidth": 0,
              "ticks": ""
             }
            },
            "type": "scatterternary"
           }
          ],
          "surface": [
           {
            "colorbar": {
             "outlinewidth": 0,
             "ticks": ""
            },
            "colorscale": [
             [
              0,
              "#0d0887"
             ],
             [
              0.1111111111111111,
              "#46039f"
             ],
             [
              0.2222222222222222,
              "#7201a8"
             ],
             [
              0.3333333333333333,
              "#9c179e"
             ],
             [
              0.4444444444444444,
              "#bd3786"
             ],
             [
              0.5555555555555556,
              "#d8576b"
             ],
             [
              0.6666666666666666,
              "#ed7953"
             ],
             [
              0.7777777777777778,
              "#fb9f3a"
             ],
             [
              0.8888888888888888,
              "#fdca26"
             ],
             [
              1,
              "#f0f921"
             ]
            ],
            "type": "surface"
           }
          ],
          "table": [
           {
            "cells": {
             "fill": {
              "color": "#EBF0F8"
             },
             "line": {
              "color": "white"
             }
            },
            "header": {
             "fill": {
              "color": "#C8D4E3"
             },
             "line": {
              "color": "white"
             }
            },
            "type": "table"
           }
          ]
         },
         "layout": {
          "annotationdefaults": {
           "arrowcolor": "#2a3f5f",
           "arrowhead": 0,
           "arrowwidth": 1
          },
          "autotypenumbers": "strict",
          "coloraxis": {
           "colorbar": {
            "outlinewidth": 0,
            "ticks": ""
           }
          },
          "colorscale": {
           "diverging": [
            [
             0,
             "#8e0152"
            ],
            [
             0.1,
             "#c51b7d"
            ],
            [
             0.2,
             "#de77ae"
            ],
            [
             0.3,
             "#f1b6da"
            ],
            [
             0.4,
             "#fde0ef"
            ],
            [
             0.5,
             "#f7f7f7"
            ],
            [
             0.6,
             "#e6f5d0"
            ],
            [
             0.7,
             "#b8e186"
            ],
            [
             0.8,
             "#7fbc41"
            ],
            [
             0.9,
             "#4d9221"
            ],
            [
             1,
             "#276419"
            ]
           ],
           "sequential": [
            [
             0,
             "#0d0887"
            ],
            [
             0.1111111111111111,
             "#46039f"
            ],
            [
             0.2222222222222222,
             "#7201a8"
            ],
            [
             0.3333333333333333,
             "#9c179e"
            ],
            [
             0.4444444444444444,
             "#bd3786"
            ],
            [
             0.5555555555555556,
             "#d8576b"
            ],
            [
             0.6666666666666666,
             "#ed7953"
            ],
            [
             0.7777777777777778,
             "#fb9f3a"
            ],
            [
             0.8888888888888888,
             "#fdca26"
            ],
            [
             1,
             "#f0f921"
            ]
           ],
           "sequentialminus": [
            [
             0,
             "#0d0887"
            ],
            [
             0.1111111111111111,
             "#46039f"
            ],
            [
             0.2222222222222222,
             "#7201a8"
            ],
            [
             0.3333333333333333,
             "#9c179e"
            ],
            [
             0.4444444444444444,
             "#bd3786"
            ],
            [
             0.5555555555555556,
             "#d8576b"
            ],
            [
             0.6666666666666666,
             "#ed7953"
            ],
            [
             0.7777777777777778,
             "#fb9f3a"
            ],
            [
             0.8888888888888888,
             "#fdca26"
            ],
            [
             1,
             "#f0f921"
            ]
           ]
          },
          "colorway": [
           "#636efa",
           "#EF553B",
           "#00cc96",
           "#ab63fa",
           "#FFA15A",
           "#19d3f3",
           "#FF6692",
           "#B6E880",
           "#FF97FF",
           "#FECB52"
          ],
          "font": {
           "color": "#2a3f5f"
          },
          "geo": {
           "bgcolor": "white",
           "lakecolor": "white",
           "landcolor": "#E5ECF6",
           "showlakes": true,
           "showland": true,
           "subunitcolor": "white"
          },
          "hoverlabel": {
           "align": "left"
          },
          "hovermode": "closest",
          "mapbox": {
           "style": "light"
          },
          "paper_bgcolor": "white",
          "plot_bgcolor": "#E5ECF6",
          "polar": {
           "angularaxis": {
            "gridcolor": "white",
            "linecolor": "white",
            "ticks": ""
           },
           "bgcolor": "#E5ECF6",
           "radialaxis": {
            "gridcolor": "white",
            "linecolor": "white",
            "ticks": ""
           }
          },
          "scene": {
           "xaxis": {
            "backgroundcolor": "#E5ECF6",
            "gridcolor": "white",
            "gridwidth": 2,
            "linecolor": "white",
            "showbackground": true,
            "ticks": "",
            "zerolinecolor": "white"
           },
           "yaxis": {
            "backgroundcolor": "#E5ECF6",
            "gridcolor": "white",
            "gridwidth": 2,
            "linecolor": "white",
            "showbackground": true,
            "ticks": "",
            "zerolinecolor": "white"
           },
           "zaxis": {
            "backgroundcolor": "#E5ECF6",
            "gridcolor": "white",
            "gridwidth": 2,
            "linecolor": "white",
            "showbackground": true,
            "ticks": "",
            "zerolinecolor": "white"
           }
          },
          "shapedefaults": {
           "line": {
            "color": "#2a3f5f"
           }
          },
          "ternary": {
           "aaxis": {
            "gridcolor": "white",
            "linecolor": "white",
            "ticks": ""
           },
           "baxis": {
            "gridcolor": "white",
            "linecolor": "white",
            "ticks": ""
           },
           "bgcolor": "#E5ECF6",
           "caxis": {
            "gridcolor": "white",
            "linecolor": "white",
            "ticks": ""
           }
          },
          "title": {
           "x": 0.05
          },
          "xaxis": {
           "automargin": true,
           "gridcolor": "white",
           "linecolor": "white",
           "ticks": "",
           "title": {
            "standoff": 15
           },
           "zerolinecolor": "white",
           "zerolinewidth": 2
          },
          "yaxis": {
           "automargin": true,
           "gridcolor": "white",
           "linecolor": "white",
           "ticks": "",
           "title": {
            "standoff": 15
           },
           "zerolinecolor": "white",
           "zerolinewidth": 2
          }
         }
        },
        "title": {
         "text": "TSNE"
        },
        "width": 1000,
        "xaxis": {
         "anchor": "y",
         "domain": [
          0,
          1
         ],
         "title": {
          "text": "x"
         }
        },
        "yaxis": {
         "anchor": "x",
         "domain": [
          0,
          1
         ],
         "title": {
          "text": "y"
         }
        }
       }
      }
     },
     "metadata": {},
     "output_type": "display_data"
    }
   ],
   "source": [
    "grouping_skills = ['Language', 'Platform', 'Webframe','MiscTech', 'Database']\n",
    "\n",
    "jobs_to_cluster = ['Developer, back-end', 'Developer, full-stack']\n",
    "\n",
    "back_end_df = encoded_df[encoded_df[('DevType', 'Developer, back-end')]==1][grouping_skills]\n",
    "std__backend_skills = StandardScaler().fit_transform(back_end_df.copy())\n",
    "tsne_back_end_projection = TSNE(n_components=2, \n",
    "                       perplexity=3,\n",
    "                       learning_rate=0.01,\n",
    "                       init='pca', \n",
    "                       method='barnes_hut', \n",
    "                       n_jobs=2, \n",
    "                       n_iter=10**10,\n",
    "                       random_state=0).fit_transform(std__backend_skills.T)\n",
    "\n",
    "tsne_back_end_projection = pd.DataFrame(tsne_back_end_projection, index=back_end_df.copy().columns)\n",
    "fig = px.scatter(x=tsne_back_end_projection[0], y=tsne_back_end_projection[1], text=tsne_back_end_projection.droplevel(0).index)\n",
    "fig.update_traces(textposition='top center')\n",
    "fig.update_layout(height=1000, width=1000, title_text='TSNE')\n",
    "fig.show()"
   ]
  },
  {
   "cell_type": "code",
   "execution_count": 757,
   "metadata": {},
   "outputs": [],
   "source": [
    "range_n_cluster = list(range(10,50))\n",
    "silhoutte_score_db = []\n",
    "silhoutte_score_agg= []\n",
    "\n",
    "best_cluster_db = None \n",
    "best_cluster_ag = None\n",
    "eps = [2, 3, 4, 5, 6, 7, 8, 9, 10]\n",
    "\n",
    "for n_clusters in range_n_cluster:\n",
    "    agg_model  = AgglomerativeClustering(n_clusters=n_clusters, linkage='complete')\n",
    "    agg_labels = agg_model.fit_predict(tsne_back_end_projection)\n",
    "   \n",
    "    silhouette_avg = silhouette_score(tsne_back_end_projection, agg_labels)\n",
    "    silhoutte_score_agg += [silhouette_avg]\n",
    "    \n",
    "    if silhouette_avg >= np.max(silhoutte_score_agg):\n",
    "        best_cluster_agg = agg_model\n",
    "\n",
    "for e in eps:\n",
    "    db_model  = DBSCAN(eps=e, min_samples=2)\n",
    "    db_labels = db_model.fit_predict(tsne_back_end_projection)\n",
    "    \n",
    "    silhouette_avg = silhouette_score(tsne_back_end_projection, db_labels)\n",
    "    silhoutte_score_db += [silhouette_avg]\n",
    "    \n",
    "    if silhouette_avg >= np.max(silhoutte_score_db):\n",
    "        best_cluster_db = db_model"
   ]
  },
  {
   "cell_type": "code",
   "execution_count": 758,
   "metadata": {},
   "outputs": [
    {
     "data": {
      "text/plain": [
       "<matplotlib.lines.Line2D at 0x29f813790>"
      ]
     },
     "execution_count": 758,
     "metadata": {},
     "output_type": "execute_result"
    },
    {
     "data": {
      "image/png": "[encoded data removed]",
      "text/plain": [
       "<Figure size 640x480 with 1 Axes>"
      ]
     },
     "metadata": {},
     "output_type": "display_data"
    }
   ],
   "source": [
    "plt.plot(range_n_cluster, silhoutte_score_agg)\n",
    "plt.axvline(best_cluster_agg.n_clusters, color='red')"
   ]
  },
  {
   "cell_type": "code",
   "execution_count": 759,
   "metadata": {},
   "outputs": [
    {
     "data": {
      "text/plain": [
       "<matplotlib.lines.Line2D at 0x3ad2e1190>"
      ]
     },
     "execution_count": 759,
     "metadata": {},
     "output_type": "execute_result"
    },
    {
     "data": {
      "image/png": "[encoded data removed]",
      "text/plain": [
       "<Figure size 640x480 with 1 Axes>"
      ]
     },
     "metadata": {},
     "output_type": "display_data"
    }
   ],
   "source": [
    "plt.plot(eps, silhoutte_score_db)\n",
    "plt.axvline(best_cluster_db.get_params()['eps'], color='red')\n"
   ]
  },
  {
   "cell_type": "code",
   "execution_count": 760,
   "metadata": {},
   "outputs": [
    {
     "data": {
      "application/vnd.plotly.v1+json": {
       "config": {
        "plotlyServerURL": "https://plot.ly"
       },
       "data": [
        {
         "hovertemplate": "x=%{x}<br>y=%{y}<br>text=%{text}<br>color=%{marker.color}<extra></extra>",
         "legendgroup": "",
         "marker": {
          "color": [
           0,
           1,
           2,
           3,
           4,
           3,
           5,
           3,
           6,
           7,
           8,
           9,
           10,
           11,
           11,
           5,
           1,
           12,
           6,
           13,
           14,
           15,
           16,
           14,
           15,
           12,
           17,
           6,
           18,
           12,
           19,
           1,
           20,
           21,
           22,
           5,
           16,
           4,
           0,
           22,
           8,
           18,
           7,
           15,
           23,
           24,
           20,
           25,
           26,
           26,
           19,
           27,
           28,
           29,
           28,
           30,
           11,
           13,
           8,
           28,
           7,
           28,
           29,
           5,
           31,
           32,
           2,
           33,
           2,
           8,
           32,
           33,
           24,
           28,
           34,
           5,
           35,
           35,
           5,
           21,
           19,
           4,
           36,
           16,
           25,
           4,
           25,
           4,
           31,
           21,
           19,
           25,
           24,
           25,
           37,
           11,
           23,
           19,
           25,
           24,
           8,
           18,
           14,
           18,
           21,
           37,
           21,
           -1,
           5,
           34,
           38,
           39,
           23,
           40,
           41,
           41,
           25,
           9,
           3,
           23,
           40,
           41,
           14,
           40,
           17,
           3,
           17,
           40,
           3,
           40,
           40,
           3,
           14,
           42,
           25,
           40,
           14,
           20,
           18,
           40,
           0,
           40,
           38,
           38,
           13,
           39,
           39,
           30,
           13,
           5,
           0,
           39,
           6,
           40,
           27,
           42,
           30,
           10,
           14,
           7,
           42,
           21,
           26,
           5,
           -1,
           21,
           -1,
           2,
           27,
           5,
           42,
           4,
           27,
           36,
           24,
           13
          ],
          "coloraxis": "coloraxis",
          "symbol": "circle"
         },
         "mode": "markers+text",
         "name": "",
         "orientation": "v",
         "showlegend": false,
         "text": [
          "APL",
          "Ada",
          "Apex",
          "Assembly",
          "Bash/Shell (all shells)",
          "C",
          "C#",
          "C++",
          "Clojure",
          "Cobol",
          "Crystal",
          "Dart",
          "Delphi",
          "Elixir",
          "Erlang",
          "F#",
          "Flow",
          "Fortran",
          "GDScript",
          "Go",
          "Groovy",
          "HTML/CSS",
          "Haskell",
          "Java",
          "JavaScript",
          "Julia",
          "Kotlin",
          "Lisp",
          "Lua",
          "MATLAB",
          "Nim",
          "OCaml",
          "Objective-C",
          "PHP",
          "Perl",
          "PowerShell",
          "Prolog",
          "Python",
          "R",
          "Raku",
          "Ruby",
          "Rust",
          "SAS",
          "SQL",
          "Scala",
          "Solidity",
          "Swift",
          "TypeScript",
          "VBA",
          "Visual Basic (.Net)",
          "Zig",
          "Amazon Web Services (AWS)",
          "Cloudflare",
          "Colocation",
          "Digital Ocean",
          "Firebase",
          "Fly.io",
          "Google Cloud",
          "Heroku",
          "Hetzner",
          "IBM Cloud Or Watson",
          "Linode, now Akamai",
          "Managed Hosting",
          "Microsoft Azure",
          "Netlify",
          "OVH",
          "OpenShift",
          "OpenStack",
          "Oracle Cloud Infrastructure (OCI)",
          "Render",
          "Scaleway",
          "VMware",
          "Vercel",
          "Vultr",
          "ASP.NET",
          "ASP.NET CORE",
          "Angular",
          "AngularJS",
          "Blazor",
          "CodeIgniter",
          "Deno",
          "Django",
          "Drupal",
          "Elm",
          "Express",
          "FastAPI",
          "Fastify",
          "Flask",
          "Gatsby",
          "Laravel",
          "Lit",
          "NestJS",
          "Next.js",
          "Node.js",
          "Nuxt.js",
          "Phoenix",
          "Play Framework",
          "Qwik",
          "React",
          "Remix",
          "Ruby on Rails",
          "Solid.js",
          "Spring Boot",
          "Svelte",
          "Symfony",
          "Vue.js",
          "WordPress",
          "jQuery",
          ".NET (5+) ",
          ".NET Framework (1.0 - 4.8)",
          ".NET MAUI",
          "Apache Kafka",
          "Apache Spark",
          "CUDA",
          "Capacitor",
          "Cordova",
          "Electron",
          "Flutter",
          "GTK",
          "Hadoop",
          "Hugging Face Transformers",
          "Ionic",
          "JAX",
          "Keras",
          "Ktor",
          "MFC",
          "Micronaut",
          "NumPy",
          "OpenGL",
          "Opencv",
          "Pandas",
          "Qt",
          "Quarkus",
          "RabbitMQ",
          "React Native",
          "Scikit-Learn",
          "Spring Framework",
          "SwiftUI",
          "Tauri",
          "TensorFlow",
          "Tidyverse",
          "Torch/PyTorch",
          "Uno Platform",
          "Xamarin",
          "BigQuery",
          "Cassandra",
          "Clickhouse",
          "Cloud Firestore",
          "Cockroachdb",
          "Cosmos DB",
          "Couch DB",
          "Couchbase",
          "Datomic",
          "DuckDB",
          "Dynamodb",
          "Elasticsearch",
          "Firebase Realtime Database",
          "Firebird",
          "H2",
          "IBM DB2",
          "InfluxDB",
          "MariaDB",
          "Microsoft Access",
          "Microsoft SQL Server",
          "MongoDB",
          "MySQL",
          "Neo4J",
          "Oracle",
          "PostgreSQL",
          "RavenDB",
          "Redis",
          "SQLite",
          "Snowflake",
          "Solr",
          "Supabase",
          "TiDB"
         ],
         "textposition": "top center",
         "type": "scatter",
         "x": [
          -20.587284088134766,
          19.50360107421875,
          -38.92525100708008,
          16.232688903808594,
          0.5446971654891968,
          17.455812454223633,
          47.4681510925293,
          17.89944839477539,
          3.6657164096832275,
          -28.241592407226562,
          -19.012821197509766,
          -46.026161193847656,
          39.56004333496094,
          -22.259119033813477,
          -23.195453643798828,
          45.82560348510742,
          17.069124221801758,
          11.628381729125977,
          6.504846096038818,
          -9.366744995117188,
          -40.26370620727539,
          6.232519626617432,
          8.193161964416504,
          -38.402122497558594,
          5.431042671203613,
          12.421713829040527,
          -45.253658294677734,
          5.555010795593262,
          -0.44492989778518677,
          13.087315559387207,
          11.554692268371582,
          17.809534072875977,
          -9.830123901367188,
          9.325335502624512,
          15.997838020324707,
          45.85112380981445,
          7.067214488983154,
          -1.2601916790008545,
          -19.38361358642578,
          16.61013412475586,
          -17.468351364135742,
          -0.15160949528217316,
          -27.975675582885742,
          7.93605899810791,
          -28.154550552368164,
          -7.642180442810059,
          -11.25938892364502,
          -1.2908155918121338,
          47.787635803222656,
          47.92025375366211,
          12.123623847961426,
          -19.622848510742188,
          -1.7283360958099365,
          3.2934021949768066,
          -2.1754133701324463,
          -40.78404998779297,
          -20.063274383544922,
          -11.29235553741455,
          -14.809442520141602,
          -0.8696820735931396,
          -29.919946670532227,
          -3.843780994415283,
          4.9110565185546875,
          48.0277099609375,
          -9.912075996398926,
          6.945040702819824,
          -36.224609375,
          28.80219078063965,
          -39.128604888916016,
          -13.237809181213379,
          6.855518341064453,
          29.433595657348633,
          -9.856954574584961,
          -4.361807346343994,
          48.09550857543945,
          48.587921142578125,
          9.6724214553833,
          10.49116325378418,
          50.53145217895508,
          10.709716796875,
          12.409929275512695,
          -2.1080472469329834,
          17.372188568115234,
          8.655688285827637,
          -2.599271059036255,
          -0.41928213834762573,
          -4.543605804443359,
          -2.120192766189575,
          -8.134439468383789,
          9.853318214416504,
          12.634010314941406,
          -2.9614498615264893,
          -9.027437210083008,
          -1.8587764501571655,
          17.825862884521484,
          -21.619056701660156,
          -27.57343292236328,
          12.270984649658203,
          -1.7665222883224487,
          -13.913643836975098,
          -16.80974006652832,
          0.5343034863471985,
          -37.18548583984375,
          0.2247946560382843,
          8.390528678894043,
          17.3843936920166,
          7.681063175201416,
          7.8815178871154785,
          47.10795974731445,
          47.66453170776367,
          57.015037536621094,
          -33.29258346557617,
          -29.879383087158203,
          5.448027610778809,
          20.884193420410156,
          21.15244483947754,
          0.12017954140901566,
          -46.18324279785156,
          17.619667053222656,
          -30.414140701293945,
          4.928164005279541,
          20.70874786376953,
          -37.609439849853516,
          1.2147624492645264,
          -45.719154357910156,
          20.151477813720703,
          -44.40159225463867,
          0.9295656085014343,
          20.022537231445312,
          2.7547667026519775,
          0.028717318549752235,
          18.437463760375977,
          -39.385581970214844,
          -13.869551658630371,
          -1.5744056701660156,
          0.9151368737220764,
          -37.09534454345703,
          -12.000144004821777,
          0.0491250678896904,
          2.108642339706421,
          -18.9986515045166,
          4.218010902404785,
          55.563716888427734,
          56.63337326049805,
          -11.984786987304688,
          -31.753353118896484,
          -30.036291122436523,
          -39.90414047241211,
          -9.2560453414917,
          48.19202423095703,
          -20.79288101196289,
          -33.310829162597656,
          2.9395675659179688,
          -1.7120394706726074,
          -20.114896774291992,
          -11.72242259979248,
          -41.324615478515625,
          39.12889099121094,
          -35.48159408569336,
          -28.820993423461914,
          -10.362915992736816,
          10.306241035461426,
          47.57514572143555,
          48.955997467041016,
          -5.423174858093262,
          11.646261215209961,
          -7.703039646148682,
          -37.91862869262695,
          -17.432945251464844,
          43.71352005004883,
          -12.6226224899292,
          -3.2912991046905518,
          -20.391685485839844,
          18.069896697998047,
          -12.251482009887695,
          -6.871874809265137
         ],
         "xaxis": "x",
         "y": [
          -31.345354080200195,
          -12.996476173400879,
          -25.313310623168945,
          -15.56786823272705,
          -28.155670166015625,
          -16.612197875976562,
          2.2925214767456055,
          -17.5816707611084,
          -16.33122444152832,
          -30.407764434814453,
          32.00554275512695,
          12.00308895111084,
          -14.961183547973633,
          21.285499572753906,
          20.042993545532227,
          4.7993083000183105,
          -11.335443496704102,
          -17.1682186126709,
          -14.349364280700684,
          -6.308549404144287,
          -16.381153106689453,
          27.3814697265625,
          -6.674707412719727,
          -17.438785552978516,
          27.22702407836914,
          -20.61357879638672,
          -14.258585929870605,
          -15.527203559875488,
          -3.152114152908325,
          -19.137998580932617,
          -2.150404930114746,
          -12.91840934753418,
          -19.913902282714844,
          36.839351654052734,
          -30.734769821166992,
          1.0318684577941895,
          -8.209041595458984,
          -29.705059051513672,
          -33.274147033691406,
          -30.599056243896484,
          31.371339797973633,
          -1.3933990001678467,
          -32.309783935546875,
          26.55329132080078,
          -5.065672874450684,
          21.9017333984375,
          -19.72534942626953,
          20.330842971801758,
          -8.656250953674316,
          -7.611613750457764,
          -0.040090180933475494,
          5.062514305114746,
          48.040382385253906,
          37.611515045166016,
          48.857421875,
          14.049240112304688,
          21.891023635864258,
          -7.274359703063965,
          30.576786041259766,
          46.49779510498047,
          -28.364912033081055,
          51.552005767822266,
          37.49766540527344,
          6.652927875518799,
          27.308969497680664,
          45.73107147216797,
          -22.366252899169922,
          -1.9198461771011353,
          -23.82526969909668,
          30.07792854309082,
          46.43670654296875,
          -1.9465384483337402,
          24.02464485168457,
          50.88752746582031,
          -3.195955514907837,
          3.447435140609741,
          18.463199615478516,
          18.532115936279297,
          3.9818618297576904,
          34.20990753173828,
          3.1291592121124268,
          -29.404909133911133,
          35.72691345214844,
          -6.002084732055664,
          17.46384048461914,
          -31.469480514526367,
          17.741294860839844,
          -31.469295501708984,
          28.14202117919922,
          36.253196716308594,
          4.753893852233887,
          15.992278099060059,
          23.428577423095703,
          18.161367416381836,
          45.35884094238281,
          21.250263214111328,
          -5.550866603851318,
          0.8518943786621094,
          22.235363006591797,
          22.648271560668945,
          31.178926467895508,
          2.7499961853027344,
          -16.889362335205078,
          1.1318198442459106,
          38.117488861083984,
          44.808074951171875,
          35.232608795166016,
          31.55275535583496,
          3.34903883934021,
          -2.286332368850708,
          3.613981246948242,
          -12.656044960021973,
          -2.847590684890747,
          -42.618141174316406,
          18.60096549987793,
          19.986190795898438,
          17.43059730529785,
          11.41403579711914,
          -21.36724853515625,
          -2.2965049743652344,
          -45.251556396484375,
          17.901569366455078,
          -14.115598678588867,
          -43.83384323120117,
          -13.574769973754883,
          -17.349153518676758,
          -15.933618545532227,
          -38.897403717041016,
          -20.64048194885254,
          -38.393009185791016,
          -38.621429443359375,
          -20.12628173828125,
          -19.037540435791016,
          9.239765167236328,
          23.701032638549805,
          -40.909854888916016,
          -15.953705787658691,
          -19.618106842041016,
          -0.16410057246685028,
          -43.49757385253906,
          -33.903507232666016,
          -43.65104675292969,
          1.3661081790924072,
          2.9500772953033447,
          -7.635134696960449,
          -11.754891395568848,
          -12.143043518066406,
          13.128900527954102,
          -4.738887786865234,
          8.205474853515625,
          -29.380474090576172,
          -10.555680274963379,
          -16.624183654785156,
          -38.02189636230469,
          5.701268672943115,
          7.9103522300720215,
          14.671951293945312,
          -15.404093742370605,
          -17.78297996520996,
          -29.719247817993164,
          6.801456451416016,
          39.1652946472168,
          -9.779349327087402,
          1.1172531843185425,
          13.729620933532715,
          37.45494842529297,
          11.375679969787598,
          -22.710010528564453,
          5.423573970794678,
          3.1051111221313477,
          8.214446067810059,
          -27.92447280883789,
          3.2255666255950928,
          35.49573516845703,
          23.15979766845703,
          -7.487629413604736
         ],
         "yaxis": "y"
        }
       ],
       "layout": {
        "coloraxis": {
         "colorbar": {
          "title": {
           "text": "color"
          }
         },
         "colorscale": [
          [
           0,
           "#0d0887"
          ],
          [
           0.1111111111111111,
           "#46039f"
          ],
          [
           0.2222222222222222,
           "#7201a8"
          ],
          [
           0.3333333333333333,
           "#9c179e"
          ],
          [
           0.4444444444444444,
           "#bd3786"
          ],
          [
           0.5555555555555556,
           "#d8576b"
          ],
          [
           0.6666666666666666,
           "#ed7953"
          ],
          [
           0.7777777777777778,
           "#fb9f3a"
          ],
          [
           0.8888888888888888,
           "#fdca26"
          ],
          [
           1,
           "#f0f921"
          ]
         ]
        },
        "height": 1000,
        "legend": {
         "tracegroupgap": 0
        },
        "margin": {
         "t": 60
        },
        "template": {
         "data": {
          "bar": [
           {
            "error_x": {
             "color": "#2a3f5f"
            },
            "error_y": {
             "color": "#2a3f5f"
            },
            "marker": {
             "line": {
              "color": "#E5ECF6",
              "width": 0.5
             },
             "pattern": {
              "fillmode": "overlay",
              "size": 10,
              "solidity": 0.2
             }
            },
            "type": "bar"
           }
          ],
          "barpolar": [
           {
            "marker": {
             "line": {
              "color": "#E5ECF6",
              "width": 0.5
             },
             "pattern": {
              "fillmode": "overlay",
              "size": 10,
              "solidity": 0.2
             }
            },
            "type": "barpolar"
           }
          ],
          "carpet": [
           {
            "aaxis": {
             "endlinecolor": "#2a3f5f",
             "gridcolor": "white",
             "linecolor": "white",
             "minorgridcolor": "white",
             "startlinecolor": "#2a3f5f"
            },
            "baxis": {
             "endlinecolor": "#2a3f5f",
             "gridcolor": "white",
             "linecolor": "white",
             "minorgridcolor": "white",
             "startlinecolor": "#2a3f5f"
            },
            "type": "carpet"
           }
          ],
          "choropleth": [
           {
            "colorbar": {
             "outlinewidth": 0,
             "ticks": ""
            },
            "type": "choropleth"
           }
          ],
          "contour": [
           {
            "colorbar": {
             "outlinewidth": 0,
             "ticks": ""
            },
            "colorscale": [
             [
              0,
              "#0d0887"
             ],
             [
              0.1111111111111111,
              "#46039f"
             ],
             [
              0.2222222222222222,
              "#7201a8"
             ],
             [
              0.3333333333333333,
              "#9c179e"
             ],
             [
              0.4444444444444444,
              "#bd3786"
             ],
             [
              0.5555555555555556,
              "#d8576b"
             ],
             [
              0.6666666666666666,
              "#ed7953"
             ],
             [
              0.7777777777777778,
              "#fb9f3a"
             ],
             [
              0.8888888888888888,
              "#fdca26"
             ],
             [
              1,
              "#f0f921"
             ]
            ],
            "type": "contour"
           }
          ],
          "contourcarpet": [
           {
            "colorbar": {
             "outlinewidth": 0,
             "ticks": ""
            },
            "type": "contourcarpet"
           }
          ],
          "heatmap": [
           {
            "colorbar": {
             "outlinewidth": 0,
             "ticks": ""
            },
            "colorscale": [
             [
              0,
              "#0d0887"
             ],
             [
              0.1111111111111111,
              "#46039f"
             ],
             [
              0.2222222222222222,
              "#7201a8"
             ],
             [
              0.3333333333333333,
              "#9c179e"
             ],
             [
              0.4444444444444444,
              "#bd3786"
             ],
             [
              0.5555555555555556,
              "#d8576b"
             ],
             [
              0.6666666666666666,
              "#ed7953"
             ],
             [
              0.7777777777777778,
              "#fb9f3a"
             ],
             [
              0.8888888888888888,
              "#fdca26"
             ],
             [
              1,
              "#f0f921"
             ]
            ],
            "type": "heatmap"
           }
          ],
          "heatmapgl": [
           {
            "colorbar": {
             "outlinewidth": 0,
             "ticks": ""
            },
            "colorscale": [
             [
              0,
              "#0d0887"
             ],
             [
              0.1111111111111111,
              "#46039f"
             ],
             [
              0.2222222222222222,
              "#7201a8"
             ],
             [
              0.3333333333333333,
              "#9c179e"
             ],
             [
              0.4444444444444444,
              "#bd3786"
             ],
             [
              0.5555555555555556,
              "#d8576b"
             ],
             [
              0.6666666666666666,
              "#ed7953"
             ],
             [
              0.7777777777777778,
              "#fb9f3a"
             ],
             [
              0.8888888888888888,
              "#fdca26"
             ],
             [
              1,
              "#f0f921"
             ]
            ],
            "type": "heatmapgl"
           }
          ],
          "histogram": [
           {
            "marker": {
             "pattern": {
              "fillmode": "overlay",
              "size": 10,
              "solidity": 0.2
             }
            },
            "type": "histogram"
           }
          ],
          "histogram2d": [
           {
            "colorbar": {
             "outlinewidth": 0,
             "ticks": ""
            },
            "colorscale": [
             [
              0,
              "#0d0887"
             ],
             [
              0.1111111111111111,
              "#46039f"
             ],
             [
              0.2222222222222222,
              "#7201a8"
             ],
             [
              0.3333333333333333,
              "#9c179e"
             ],
             [
              0.4444444444444444,
              "#bd3786"
             ],
             [
              0.5555555555555556,
              "#d8576b"
             ],
             [
              0.6666666666666666,
              "#ed7953"
             ],
             [
              0.7777777777777778,
              "#fb9f3a"
             ],
             [
              0.8888888888888888,
              "#fdca26"
             ],
             [
              1,
              "#f0f921"
             ]
            ],
            "type": "histogram2d"
           }
          ],
          "histogram2dcontour": [
           {
            "colorbar": {
             "outlinewidth": 0,
             "ticks": ""
            },
            "colorscale": [
             [
              0,
              "#0d0887"
             ],
             [
              0.1111111111111111,
              "#46039f"
             ],
             [
              0.2222222222222222,
              "#7201a8"
             ],
             [
              0.3333333333333333,
              "#9c179e"
             ],
             [
              0.4444444444444444,
              "#bd3786"
             ],
             [
              0.5555555555555556,
              "#d8576b"
             ],
             [
              0.6666666666666666,
              "#ed7953"
             ],
             [
              0.7777777777777778,
              "#fb9f3a"
             ],
             [
              0.8888888888888888,
              "#fdca26"
             ],
             [
              1,
              "#f0f921"
             ]
            ],
            "type": "histogram2dcontour"
           }
          ],
          "mesh3d": [
           {
            "colorbar": {
             "outlinewidth": 0,
             "ticks": ""
            },
            "type": "mesh3d"
           }
          ],
          "parcoords": [
           {
            "line": {
             "colorbar": {
              "outlinewidth": 0,
              "ticks": ""
             }
            },
            "type": "parcoords"
           }
          ],
          "pie": [
           {
            "automargin": true,
            "type": "pie"
           }
          ],
          "scatter": [
           {
            "fillpattern": {
             "fillmode": "overlay",
             "size": 10,
             "solidity": 0.2
            },
            "type": "scatter"
           }
          ],
          "scatter3d": [
           {
            "line": {
             "colorbar": {
              "outlinewidth": 0,
              "ticks": ""
             }
            },
            "marker": {
             "colorbar": {
              "outlinewidth": 0,
              "ticks": ""
             }
            },
            "type": "scatter3d"
           }
          ],
          "scattercarpet": [
           {
            "marker": {
             "colorbar": {
              "outlinewidth": 0,
              "ticks": ""
             }
            },
            "type": "scattercarpet"
           }
          ],
          "scattergeo": [
           {
            "marker": {
             "colorbar": {
              "outlinewidth": 0,
              "ticks": ""
             }
            },
            "type": "scattergeo"
           }
          ],
          "scattergl": [
           {
            "marker": {
             "colorbar": {
              "outlinewidth": 0,
              "ticks": ""
             }
            },
            "type": "scattergl"
           }
          ],
          "scattermapbox": [
           {
            "marker": {
             "colorbar": {
              "outlinewidth": 0,
              "ticks": ""
             }
            },
            "type": "scattermapbox"
           }
          ],
          "scatterpolar": [
           {
            "marker": {
             "colorbar": {
              "outlinewidth": 0,
              "ticks": ""
             }
            },
            "type": "scatterpolar"
           }
          ],
          "scatterpolargl": [
           {
            "marker": {
             "colorbar": {
              "outlinewidth": 0,
              "ticks": ""
             }
            },
            "type": "scatterpolargl"
           }
          ],
          "scatterternary": [
           {
            "marker": {
             "colorbar": {
              "outlinewidth": 0,
              "ticks": ""
             }
            },
            "type": "scatterternary"
           }
          ],
          "surface": [
           {
            "colorbar": {
             "outlinewidth": 0,
             "ticks": ""
            },
            "colorscale": [
             [
              0,
              "#0d0887"
             ],
             [
              0.1111111111111111,
              "#46039f"
             ],
             [
              0.2222222222222222,
              "#7201a8"
             ],
             [
              0.3333333333333333,
              "#9c179e"
             ],
             [
              0.4444444444444444,
              "#bd3786"
             ],
             [
              0.5555555555555556,
              "#d8576b"
             ],
             [
              0.6666666666666666,
              "#ed7953"
             ],
             [
              0.7777777777777778,
              "#fb9f3a"
             ],
             [
              0.8888888888888888,
              "#fdca26"
             ],
             [
              1,
              "#f0f921"
             ]
            ],
            "type": "surface"
           }
          ],
          "table": [
           {
            "cells": {
             "fill": {
              "color": "#EBF0F8"
             },
             "line": {
              "color": "white"
             }
            },
            "header": {
             "fill": {
              "color": "#C8D4E3"
             },
             "line": {
              "color": "white"
             }
            },
            "type": "table"
           }
          ]
         },
         "layout": {
          "annotationdefaults": {
           "arrowcolor": "#2a3f5f",
           "arrowhead": 0,
           "arrowwidth": 1
          },
          "autotypenumbers": "strict",
          "coloraxis": {
           "colorbar": {
            "outlinewidth": 0,
            "ticks": ""
           }
          },
          "colorscale": {
           "diverging": [
            [
             0,
             "#8e0152"
            ],
            [
             0.1,
             "#c51b7d"
            ],
            [
             0.2,
             "#de77ae"
            ],
            [
             0.3,
             "#f1b6da"
            ],
            [
             0.4,
             "#fde0ef"
            ],
            [
             0.5,
             "#f7f7f7"
            ],
            [
             0.6,
             "#e6f5d0"
            ],
            [
             0.7,
             "#b8e186"
            ],
            [
             0.8,
             "#7fbc41"
            ],
            [
             0.9,
             "#4d9221"
            ],
            [
             1,
             "#276419"
            ]
           ],
           "sequential": [
            [
             0,
             "#0d0887"
            ],
            [
             0.1111111111111111,
             "#46039f"
            ],
            [
             0.2222222222222222,
             "#7201a8"
            ],
            [
             0.3333333333333333,
             "#9c179e"
            ],
            [
             0.4444444444444444,
             "#bd3786"
            ],
            [
             0.5555555555555556,
             "#d8576b"
            ],
            [
             0.6666666666666666,
             "#ed7953"
            ],
            [
             0.7777777777777778,
             "#fb9f3a"
            ],
            [
             0.8888888888888888,
             "#fdca26"
            ],
            [
             1,
             "#f0f921"
            ]
           ],
           "sequentialminus": [
            [
             0,
             "#0d0887"
            ],
            [
             0.1111111111111111,
             "#46039f"
            ],
            [
             0.2222222222222222,
             "#7201a8"
            ],
            [
             0.3333333333333333,
             "#9c179e"
            ],
            [
             0.4444444444444444,
             "#bd3786"
            ],
            [
             0.5555555555555556,
             "#d8576b"
            ],
            [
             0.6666666666666666,
             "#ed7953"
            ],
            [
             0.7777777777777778,
             "#fb9f3a"
            ],
            [
             0.8888888888888888,
             "#fdca26"
            ],
            [
             1,
             "#f0f921"
            ]
           ]
          },
          "colorway": [
           "#636efa",
           "#EF553B",
           "#00cc96",
           "#ab63fa",
           "#FFA15A",
           "#19d3f3",
           "#FF6692",
           "#B6E880",
           "#FF97FF",
           "#FECB52"
          ],
          "font": {
           "color": "#2a3f5f"
          },
          "geo": {
           "bgcolor": "white",
           "lakecolor": "white",
           "landcolor": "#E5ECF6",
           "showlakes": true,
           "showland": true,
           "subunitcolor": "white"
          },
          "hoverlabel": {
           "align": "left"
          },
          "hovermode": "closest",
          "mapbox": {
           "style": "light"
          },
          "paper_bgcolor": "white",
          "plot_bgcolor": "#E5ECF6",
          "polar": {
           "angularaxis": {
            "gridcolor": "white",
            "linecolor": "white",
            "ticks": ""
           },
           "bgcolor": "#E5ECF6",
           "radialaxis": {
            "gridcolor": "white",
            "linecolor": "white",
            "ticks": ""
           }
          },
          "scene": {
           "xaxis": {
            "backgroundcolor": "#E5ECF6",
            "gridcolor": "white",
            "gridwidth": 2,
            "linecolor": "white",
            "showbackground": true,
            "ticks": "",
            "zerolinecolor": "white"
           },
           "yaxis": {
            "backgroundcolor": "#E5ECF6",
            "gridcolor": "white",
            "gridwidth": 2,
            "linecolor": "white",
            "showbackground": true,
            "ticks": "",
            "zerolinecolor": "white"
           },
           "zaxis": {
            "backgroundcolor": "#E5ECF6",
            "gridcolor": "white",
            "gridwidth": 2,
            "linecolor": "white",
            "showbackground": true,
            "ticks": "",
            "zerolinecolor": "white"
           }
          },
          "shapedefaults": {
           "line": {
            "color": "#2a3f5f"
           }
          },
          "ternary": {
           "aaxis": {
            "gridcolor": "white",
            "linecolor": "white",
            "ticks": ""
           },
           "baxis": {
            "gridcolor": "white",
            "linecolor": "white",
            "ticks": ""
           },
           "bgcolor": "#E5ECF6",
           "caxis": {
            "gridcolor": "white",
            "linecolor": "white",
            "ticks": ""
           }
          },
          "title": {
           "x": 0.05
          },
          "xaxis": {
           "automargin": true,
           "gridcolor": "white",
           "linecolor": "white",
           "ticks": "",
           "title": {
            "standoff": 15
           },
           "zerolinecolor": "white",
           "zerolinewidth": 2
          },
          "yaxis": {
           "automargin": true,
           "gridcolor": "white",
           "linecolor": "white",
           "ticks": "",
           "title": {
            "standoff": 15
           },
           "zerolinecolor": "white",
           "zerolinewidth": 2
          }
         }
        },
        "title": {
         "text": "TSNE"
        },
        "width": 1000,
        "xaxis": {
         "anchor": "y",
         "domain": [
          0,
          1
         ],
         "title": {
          "text": "x"
         }
        },
        "yaxis": {
         "anchor": "x",
         "domain": [
          0,
          1
         ],
         "title": {
          "text": "y"
         }
        }
       }
      }
     },
     "metadata": {},
     "output_type": "display_data"
    }
   ],
   "source": [
    "fig = px.scatter(x=tsne_back_end_projection[0], y=tsne_back_end_projection[1], \n",
    "                 text=tsne_back_end_projection.droplevel(0).index, color=best_cluster_db.labels_)\n",
    "fig.update_traces(textposition='top center')\n",
    "fig.update_layout(height=1000, width=1000, title_text='TSNE')\n",
    "fig.show()"
   ]
  },
  {
   "cell_type": "code",
   "execution_count": 761,
   "metadata": {},
   "outputs": [],
   "source": [
    "backedn_skills_clusters = tsne_back_end_projection.index.droplevel(0).to_series().groupby(best_cluster_db.labels_).apply(list)\n",
    "backedn_skills_clusters.reset_index(drop=True, inplace=True)\n",
    "\n"
   ]
  },
  {
   "cell_type": "code",
   "execution_count": 762,
   "metadata": {},
   "outputs": [
    {
     "name": "stdout",
     "output_type": "stream",
     "text": [
      "33\n"
     ]
    }
   ],
   "source": [
    "major_clusters = []\n",
    "for cluster in backedn_skills_clusters:\n",
    "        major_clusters.append(cluster) if len(cluster) >= 3 else None\n",
    "\n",
    "print(len(major_clusters))"
   ]
  },
  {
   "cell_type": "code",
   "execution_count": 763,
   "metadata": {},
   "outputs": [
    {
     "name": "stdout",
     "output_type": "stream",
     "text": [
      "['jQuery', 'MongoDB', 'Neo4J']\n",
      "---------------------\n",
      "['APL', 'R', 'Tidyverse', 'Couch DB']\n",
      "---------------------\n",
      "['Ada', 'Flow', 'OCaml']\n",
      "---------------------\n",
      "['Apex', 'OpenShift', 'Oracle Cloud Infrastructure (OCI)', 'Oracle']\n",
      "---------------------\n",
      "['Assembly', 'C', 'C++', 'GTK', 'MFC', 'OpenGL', 'Qt']\n",
      "---------------------\n",
      "['Bash/Shell (all shells)', 'Python', 'Django', 'FastAPI', 'Flask', 'SQLite']\n",
      "---------------------\n",
      "['C#', 'F#', 'PowerShell', 'Microsoft Azure', 'ASP.NET CORE', 'Blazor', '.NET (5+) ', 'Cosmos DB', 'Microsoft SQL Server', 'RavenDB']\n",
      "---------------------\n",
      "['Clojure', 'GDScript', 'Lisp', 'Datomic']\n",
      "---------------------\n",
      "['Cobol', 'SAS', 'IBM Cloud Or Watson', 'IBM DB2']\n",
      "---------------------\n",
      "['Crystal', 'Ruby', 'Heroku', 'Render', 'Ruby on Rails']\n",
      "---------------------\n",
      "['Elixir', 'Erlang', 'Fly.io', 'Phoenix']\n",
      "---------------------\n",
      "['Fortran', 'Julia', 'MATLAB']\n",
      "---------------------\n",
      "['Go', 'Google Cloud', 'BigQuery', 'Cockroachdb', 'TiDB']\n",
      "---------------------\n",
      "['Groovy', 'Java', 'Spring Boot', 'JAX', 'Quarkus', 'Spring Framework', 'H2']\n",
      "---------------------\n",
      "['HTML/CSS', 'JavaScript', 'SQL']\n",
      "---------------------\n",
      "['Haskell', 'Prolog', 'Elm']\n",
      "---------------------\n",
      "['Kotlin', 'Ktor', 'Micronaut']\n",
      "---------------------\n",
      "['Lua', 'Rust', 'Solid.js', 'Svelte', 'Tauri']\n",
      "---------------------\n",
      "['Nim', 'Zig', 'Deno', 'Lit', 'Qwik']\n",
      "---------------------\n",
      "['Objective-C', 'Swift', 'SwiftUI']\n",
      "---------------------\n",
      "['PHP', 'CodeIgniter', 'Laravel', 'Symfony', 'WordPress', 'MariaDB', 'MySQL']\n",
      "---------------------\n",
      "['Scala', 'Play Framework', 'Apache Spark', 'Hadoop']\n",
      "---------------------\n",
      "['Solidity', 'Vercel', 'Next.js', 'Remix', 'Supabase']\n",
      "---------------------\n",
      "['TypeScript', 'Express', 'Fastify', 'NestJS', 'Node.js', 'React', 'Electron', 'React Native']\n",
      "---------------------\n",
      "['VBA', 'Visual Basic (.Net)', 'Microsoft Access']\n",
      "---------------------\n",
      "['Amazon Web Services (AWS)', 'Dynamodb', 'PostgreSQL', 'Snowflake']\n",
      "---------------------\n",
      "['Cloudflare', 'Digital Ocean', 'Hetzner', 'Linode, now Akamai', 'Vultr']\n",
      "---------------------\n",
      "['Firebase', 'Cloud Firestore', 'Firebase Realtime Database']\n",
      "---------------------\n",
      "['.NET MAUI', 'Uno Platform', 'Xamarin']\n",
      "---------------------\n",
      "['Apache Kafka', 'Cassandra', 'Clickhouse', 'Couchbase']\n",
      "---------------------\n",
      "['CUDA', 'Hugging Face Transformers', 'Keras', 'NumPy', 'Opencv', 'Pandas', 'Scikit-Learn', 'TensorFlow', 'Torch/PyTorch', 'DuckDB']\n",
      "---------------------\n",
      "['Capacitor', 'Cordova', 'Ionic']\n",
      "---------------------\n",
      "['RabbitMQ', 'Elasticsearch', 'InfluxDB', 'Redis']\n",
      "---------------------\n"
     ]
    }
   ],
   "source": [
    "for cluster in major_clusters:\n",
    "    print(cluster)\n",
    "    print('---------------------')"
   ]
  },
  {
   "cell_type": "code",
   "execution_count": 764,
   "metadata": {},
   "outputs": [],
   "source": [
    "keys =['drop', 'drop0', 'drop00', 'Oracle', 'C/C++',  'Python', '.NET', 'drop1','drop2', 'Ruby', 'Elixir',\n",
    "       'drop2', 'drop22', 'Java', 'drop3', 'drop4', 'drop5', 'Rust', 'drop33', 'Swift', 'PHP', \n",
    "       'Scala/Big data', 'drop6', 'React[NAtive]', 'drop7', 'drop8', 'drop91', 'drop71', 'drop81', 'drop9', 'AI', 'drop10'\n",
    "       ]"
   ]
  },
  {
   "cell_type": "code",
   "execution_count": 765,
   "metadata": {},
   "outputs": [
    {
     "data": {
      "text/plain": [
       "{'drop': ['jQuery', 'MongoDB', 'Neo4J'],\n",
       " 'drop0': ['APL', 'R', 'Tidyverse', 'Couch DB'],\n",
       " 'drop00': ['Ada', 'Flow', 'OCaml'],\n",
       " 'Oracle': ['Apex',\n",
       "  'OpenShift',\n",
       "  'Oracle Cloud Infrastructure (OCI)',\n",
       "  'Oracle'],\n",
       " 'C/C++': ['Assembly', 'C', 'C++', 'GTK', 'MFC', 'OpenGL', 'Qt'],\n",
       " 'Python': ['Bash/Shell (all shells)',\n",
       "  'Python',\n",
       "  'Django',\n",
       "  'FastAPI',\n",
       "  'Flask',\n",
       "  'SQLite'],\n",
       " '.NET': ['C#',\n",
       "  'F#',\n",
       "  'PowerShell',\n",
       "  'Microsoft Azure',\n",
       "  'ASP.NET CORE',\n",
       "  'Blazor',\n",
       "  '.NET (5+) ',\n",
       "  'Cosmos DB',\n",
       "  'Microsoft SQL Server',\n",
       "  'RavenDB'],\n",
       " 'drop1': ['Clojure', 'GDScript', 'Lisp', 'Datomic'],\n",
       " 'drop2': ['Fortran', 'Julia', 'MATLAB'],\n",
       " 'Ruby': ['Crystal', 'Ruby', 'Heroku', 'Render', 'Ruby on Rails'],\n",
       " 'Elixir': ['Elixir', 'Erlang', 'Fly.io', 'Phoenix'],\n",
       " 'drop22': ['Go', 'Google Cloud', 'BigQuery', 'Cockroachdb', 'TiDB'],\n",
       " 'Java': ['Groovy',\n",
       "  'Java',\n",
       "  'Spring Boot',\n",
       "  'JAX',\n",
       "  'Quarkus',\n",
       "  'Spring Framework',\n",
       "  'H2'],\n",
       " 'drop3': ['HTML/CSS', 'JavaScript', 'SQL'],\n",
       " 'drop4': ['Haskell', 'Prolog', 'Elm'],\n",
       " 'drop5': ['Kotlin', 'Ktor', 'Micronaut'],\n",
       " 'Rust': ['Lua', 'Rust', 'Solid.js', 'Svelte', 'Tauri'],\n",
       " 'drop33': ['Nim', 'Zig', 'Deno', 'Lit', 'Qwik'],\n",
       " 'Swift': ['Objective-C', 'Swift', 'SwiftUI'],\n",
       " 'PHP': ['PHP',\n",
       "  'CodeIgniter',\n",
       "  'Laravel',\n",
       "  'Symfony',\n",
       "  'WordPress',\n",
       "  'MariaDB',\n",
       "  'MySQL'],\n",
       " 'Scala/Big data': ['Scala', 'Play Framework', 'Apache Spark', 'Hadoop'],\n",
       " 'drop6': ['Solidity', 'Vercel', 'Next.js', 'Remix', 'Supabase'],\n",
       " 'React[NAtive]': ['TypeScript',\n",
       "  'Express',\n",
       "  'Fastify',\n",
       "  'NestJS',\n",
       "  'Node.js',\n",
       "  'React',\n",
       "  'Electron',\n",
       "  'React Native'],\n",
       " 'drop7': ['VBA', 'Visual Basic (.Net)', 'Microsoft Access'],\n",
       " 'drop8': ['Amazon Web Services (AWS)', 'Dynamodb', 'PostgreSQL', 'Snowflake'],\n",
       " 'drop91': ['Cloudflare',\n",
       "  'Digital Ocean',\n",
       "  'Hetzner',\n",
       "  'Linode, now Akamai',\n",
       "  'Vultr'],\n",
       " 'drop71': ['Firebase', 'Cloud Firestore', 'Firebase Realtime Database'],\n",
       " 'drop81': ['.NET MAUI', 'Uno Platform', 'Xamarin'],\n",
       " 'drop9': ['Apache Kafka', 'Cassandra', 'Clickhouse', 'Couchbase'],\n",
       " 'AI': ['CUDA',\n",
       "  'Hugging Face Transformers',\n",
       "  'Keras',\n",
       "  'NumPy',\n",
       "  'Opencv',\n",
       "  'Pandas',\n",
       "  'Scikit-Learn',\n",
       "  'TensorFlow',\n",
       "  'Torch/PyTorch',\n",
       "  'DuckDB'],\n",
       " 'drop10': ['Capacitor', 'Cordova', 'Ionic']}"
      ]
     },
     "execution_count": 765,
     "metadata": {},
     "output_type": "execute_result"
    }
   ],
   "source": [
    "backend_groups = dict(zip(keys, major_clusters))\n",
    "backend_groups"
   ]
  },
  {
   "cell_type": "code",
   "execution_count": 766,
   "metadata": {},
   "outputs": [
    {
     "name": "stdout",
     "output_type": "stream",
     "text": [
      "13\n"
     ]
    }
   ],
   "source": [
    "backend_groups = {key: value for key, value in backend_groups.items() if 'drop' not in key}\n",
    "print(len(backend_groups))\n"
   ]
  },
  {
   "cell_type": "code",
   "execution_count": 767,
   "metadata": {},
   "outputs": [
    {
     "data": {
      "text/plain": [
       "{'Oracle': ['Apex',\n",
       "  'OpenShift',\n",
       "  'Oracle Cloud Infrastructure (OCI)',\n",
       "  'Oracle'],\n",
       " 'C/C++': ['Assembly', 'C', 'C++', 'GTK', 'MFC', 'OpenGL', 'Qt'],\n",
       " 'Python': ['Bash/Shell (all shells)',\n",
       "  'Python',\n",
       "  'Django',\n",
       "  'FastAPI',\n",
       "  'Flask',\n",
       "  'SQLite'],\n",
       " '.NET': ['C#',\n",
       "  'F#',\n",
       "  'PowerShell',\n",
       "  'Microsoft Azure',\n",
       "  'ASP.NET CORE',\n",
       "  'Blazor',\n",
       "  '.NET (5+) ',\n",
       "  'Cosmos DB',\n",
       "  'Microsoft SQL Server',\n",
       "  'RavenDB'],\n",
       " 'Ruby': ['Crystal', 'Ruby', 'Heroku', 'Render', 'Ruby on Rails'],\n",
       " 'Elixir': ['Elixir', 'Erlang', 'Fly.io', 'Phoenix'],\n",
       " 'Java': ['Groovy',\n",
       "  'Java',\n",
       "  'Spring Boot',\n",
       "  'JAX',\n",
       "  'Quarkus',\n",
       "  'Spring Framework',\n",
       "  'H2'],\n",
       " 'Rust': ['Lua', 'Rust', 'Solid.js', 'Svelte', 'Tauri'],\n",
       " 'Swift': ['Objective-C', 'Swift', 'SwiftUI'],\n",
       " 'PHP': ['PHP',\n",
       "  'CodeIgniter',\n",
       "  'Laravel',\n",
       "  'Symfony',\n",
       "  'WordPress',\n",
       "  'MariaDB',\n",
       "  'MySQL'],\n",
       " 'Scala/Big data': ['Scala', 'Play Framework', 'Apache Spark', 'Hadoop'],\n",
       " 'React[NAtive]': ['TypeScript',\n",
       "  'Express',\n",
       "  'Fastify',\n",
       "  'NestJS',\n",
       "  'Node.js',\n",
       "  'React',\n",
       "  'Electron',\n",
       "  'React Native'],\n",
       " 'AI': ['CUDA',\n",
       "  'Hugging Face Transformers',\n",
       "  'Keras',\n",
       "  'NumPy',\n",
       "  'Opencv',\n",
       "  'Pandas',\n",
       "  'Scikit-Learn',\n",
       "  'TensorFlow',\n",
       "  'Torch/PyTorch',\n",
       "  'DuckDB']}"
      ]
     },
     "execution_count": 767,
     "metadata": {},
     "output_type": "execute_result"
    }
   ],
   "source": [
    "backend_groups"
   ]
  },
  {
   "cell_type": "code",
   "execution_count": 768,
   "metadata": {},
   "outputs": [
    {
     "data": {
      "text/html": [
       "<div>\n",
       "<style scoped>\n",
       "    .dataframe tbody tr th:only-of-type {\n",
       "        vertical-align: middle;\n",
       "    }\n",
       "\n",
       "    .dataframe tbody tr th {\n",
       "        vertical-align: top;\n",
       "    }\n",
       "\n",
       "    .dataframe thead tr th {\n",
       "        text-align: left;\n",
       "    }\n",
       "</style>\n",
       "<table border=\"1\" class=\"dataframe\">\n",
       "  <thead>\n",
       "    <tr>\n",
       "      <th></th>\n",
       "      <th colspan=\"21\" halign=\"left\">DevType</th>\n",
       "    </tr>\n",
       "    <tr>\n",
       "      <th></th>\n",
       "      <th>Academic researcher</th>\n",
       "      <th>Blockchain</th>\n",
       "      <th>Cloud infrastructure engineer</th>\n",
       "      <th>Data or business analyst</th>\n",
       "      <th>Data scientist or machine learning specialist</th>\n",
       "      <th>Database administrator</th>\n",
       "      <th>DevOps specialist</th>\n",
       "      <th>Developer, QA or test</th>\n",
       "      <th>Developer, back-end</th>\n",
       "      <th>Developer, desktop or enterprise applications</th>\n",
       "      <th>...</th>\n",
       "      <th>Swift-back-end</th>\n",
       "      <th>Swift-full-stack</th>\n",
       "      <th>PHP-back-end</th>\n",
       "      <th>PHP-full-stack</th>\n",
       "      <th>Scala/Big data-back-end</th>\n",
       "      <th>Scala/Big data-full-stack</th>\n",
       "      <th>React[NAtive]-back-end</th>\n",
       "      <th>React[NAtive]-full-stack</th>\n",
       "      <th>AI-back-end</th>\n",
       "      <th>AI-full-stack</th>\n",
       "    </tr>\n",
       "  </thead>\n",
       "  <tbody>\n",
       "    <tr>\n",
       "      <th>0</th>\n",
       "      <td>0</td>\n",
       "      <td>0</td>\n",
       "      <td>0</td>\n",
       "      <td>0</td>\n",
       "      <td>0</td>\n",
       "      <td>0</td>\n",
       "      <td>0</td>\n",
       "      <td>0</td>\n",
       "      <td>1</td>\n",
       "      <td>0</td>\n",
       "      <td>...</td>\n",
       "      <td>0</td>\n",
       "      <td>0</td>\n",
       "      <td>0</td>\n",
       "      <td>0</td>\n",
       "      <td>0</td>\n",
       "      <td>0</td>\n",
       "      <td>0</td>\n",
       "      <td>0</td>\n",
       "      <td>0</td>\n",
       "      <td>0</td>\n",
       "    </tr>\n",
       "    <tr>\n",
       "      <th>1</th>\n",
       "      <td>0</td>\n",
       "      <td>0</td>\n",
       "      <td>0</td>\n",
       "      <td>0</td>\n",
       "      <td>0</td>\n",
       "      <td>0</td>\n",
       "      <td>0</td>\n",
       "      <td>0</td>\n",
       "      <td>0</td>\n",
       "      <td>0</td>\n",
       "      <td>...</td>\n",
       "      <td>0</td>\n",
       "      <td>0</td>\n",
       "      <td>0</td>\n",
       "      <td>0</td>\n",
       "      <td>0</td>\n",
       "      <td>0</td>\n",
       "      <td>0</td>\n",
       "      <td>0</td>\n",
       "      <td>0</td>\n",
       "      <td>0</td>\n",
       "    </tr>\n",
       "    <tr>\n",
       "      <th>2</th>\n",
       "      <td>0</td>\n",
       "      <td>0</td>\n",
       "      <td>0</td>\n",
       "      <td>0</td>\n",
       "      <td>0</td>\n",
       "      <td>0</td>\n",
       "      <td>0</td>\n",
       "      <td>0</td>\n",
       "      <td>0</td>\n",
       "      <td>0</td>\n",
       "      <td>...</td>\n",
       "      <td>0</td>\n",
       "      <td>0</td>\n",
       "      <td>0</td>\n",
       "      <td>0</td>\n",
       "      <td>0</td>\n",
       "      <td>0</td>\n",
       "      <td>0</td>\n",
       "      <td>0</td>\n",
       "      <td>0</td>\n",
       "      <td>0</td>\n",
       "    </tr>\n",
       "    <tr>\n",
       "      <th>3</th>\n",
       "      <td>0</td>\n",
       "      <td>0</td>\n",
       "      <td>0</td>\n",
       "      <td>0</td>\n",
       "      <td>0</td>\n",
       "      <td>0</td>\n",
       "      <td>0</td>\n",
       "      <td>0</td>\n",
       "      <td>1</td>\n",
       "      <td>0</td>\n",
       "      <td>...</td>\n",
       "      <td>0</td>\n",
       "      <td>0</td>\n",
       "      <td>0</td>\n",
       "      <td>0</td>\n",
       "      <td>0</td>\n",
       "      <td>0</td>\n",
       "      <td>0</td>\n",
       "      <td>0</td>\n",
       "      <td>0</td>\n",
       "      <td>0</td>\n",
       "    </tr>\n",
       "    <tr>\n",
       "      <th>8</th>\n",
       "      <td>0</td>\n",
       "      <td>0</td>\n",
       "      <td>0</td>\n",
       "      <td>0</td>\n",
       "      <td>0</td>\n",
       "      <td>0</td>\n",
       "      <td>0</td>\n",
       "      <td>0</td>\n",
       "      <td>0</td>\n",
       "      <td>1</td>\n",
       "      <td>...</td>\n",
       "      <td>0</td>\n",
       "      <td>0</td>\n",
       "      <td>0</td>\n",
       "      <td>0</td>\n",
       "      <td>0</td>\n",
       "      <td>0</td>\n",
       "      <td>0</td>\n",
       "      <td>0</td>\n",
       "      <td>0</td>\n",
       "      <td>0</td>\n",
       "    </tr>\n",
       "    <tr>\n",
       "      <th>...</th>\n",
       "      <td>...</td>\n",
       "      <td>...</td>\n",
       "      <td>...</td>\n",
       "      <td>...</td>\n",
       "      <td>...</td>\n",
       "      <td>...</td>\n",
       "      <td>...</td>\n",
       "      <td>...</td>\n",
       "      <td>...</td>\n",
       "      <td>...</td>\n",
       "      <td>...</td>\n",
       "      <td>...</td>\n",
       "      <td>...</td>\n",
       "      <td>...</td>\n",
       "      <td>...</td>\n",
       "      <td>...</td>\n",
       "      <td>...</td>\n",
       "      <td>...</td>\n",
       "      <td>...</td>\n",
       "      <td>...</td>\n",
       "      <td>...</td>\n",
       "    </tr>\n",
       "    <tr>\n",
       "      <th>64329</th>\n",
       "      <td>0</td>\n",
       "      <td>0</td>\n",
       "      <td>0</td>\n",
       "      <td>0</td>\n",
       "      <td>0</td>\n",
       "      <td>0</td>\n",
       "      <td>0</td>\n",
       "      <td>0</td>\n",
       "      <td>0</td>\n",
       "      <td>0</td>\n",
       "      <td>...</td>\n",
       "      <td>0</td>\n",
       "      <td>0</td>\n",
       "      <td>0</td>\n",
       "      <td>0</td>\n",
       "      <td>0</td>\n",
       "      <td>0</td>\n",
       "      <td>0</td>\n",
       "      <td>0</td>\n",
       "      <td>0</td>\n",
       "      <td>0</td>\n",
       "    </tr>\n",
       "    <tr>\n",
       "      <th>64331</th>\n",
       "      <td>0</td>\n",
       "      <td>0</td>\n",
       "      <td>0</td>\n",
       "      <td>0</td>\n",
       "      <td>0</td>\n",
       "      <td>0</td>\n",
       "      <td>0</td>\n",
       "      <td>0</td>\n",
       "      <td>0</td>\n",
       "      <td>0</td>\n",
       "      <td>...</td>\n",
       "      <td>0</td>\n",
       "      <td>0</td>\n",
       "      <td>0</td>\n",
       "      <td>0</td>\n",
       "      <td>0</td>\n",
       "      <td>0</td>\n",
       "      <td>0</td>\n",
       "      <td>0</td>\n",
       "      <td>0</td>\n",
       "      <td>0</td>\n",
       "    </tr>\n",
       "    <tr>\n",
       "      <th>64333</th>\n",
       "      <td>0</td>\n",
       "      <td>0</td>\n",
       "      <td>0</td>\n",
       "      <td>0</td>\n",
       "      <td>0</td>\n",
       "      <td>0</td>\n",
       "      <td>0</td>\n",
       "      <td>0</td>\n",
       "      <td>0</td>\n",
       "      <td>0</td>\n",
       "      <td>...</td>\n",
       "      <td>0</td>\n",
       "      <td>0</td>\n",
       "      <td>0</td>\n",
       "      <td>0</td>\n",
       "      <td>0</td>\n",
       "      <td>0</td>\n",
       "      <td>0</td>\n",
       "      <td>0</td>\n",
       "      <td>0</td>\n",
       "      <td>0</td>\n",
       "    </tr>\n",
       "    <tr>\n",
       "      <th>64335</th>\n",
       "      <td>0</td>\n",
       "      <td>0</td>\n",
       "      <td>0</td>\n",
       "      <td>0</td>\n",
       "      <td>0</td>\n",
       "      <td>0</td>\n",
       "      <td>0</td>\n",
       "      <td>0</td>\n",
       "      <td>1</td>\n",
       "      <td>0</td>\n",
       "      <td>...</td>\n",
       "      <td>0</td>\n",
       "      <td>0</td>\n",
       "      <td>0</td>\n",
       "      <td>0</td>\n",
       "      <td>0</td>\n",
       "      <td>0</td>\n",
       "      <td>0</td>\n",
       "      <td>0</td>\n",
       "      <td>0</td>\n",
       "      <td>0</td>\n",
       "    </tr>\n",
       "    <tr>\n",
       "      <th>64337</th>\n",
       "      <td>0</td>\n",
       "      <td>0</td>\n",
       "      <td>0</td>\n",
       "      <td>0</td>\n",
       "      <td>0</td>\n",
       "      <td>0</td>\n",
       "      <td>0</td>\n",
       "      <td>0</td>\n",
       "      <td>0</td>\n",
       "      <td>0</td>\n",
       "      <td>...</td>\n",
       "      <td>0</td>\n",
       "      <td>0</td>\n",
       "      <td>0</td>\n",
       "      <td>0</td>\n",
       "      <td>0</td>\n",
       "      <td>0</td>\n",
       "      <td>0</td>\n",
       "      <td>0</td>\n",
       "      <td>0</td>\n",
       "      <td>0</td>\n",
       "    </tr>\n",
       "  </tbody>\n",
       "</table>\n",
       "<p>48998 rows × 279 columns</p>\n",
       "</div>"
      ],
      "text/plain": [
       "                  DevType                                           \\\n",
       "      Academic researcher Blockchain Cloud infrastructure engineer   \n",
       "0                       0          0                             0   \n",
       "1                       0          0                             0   \n",
       "2                       0          0                             0   \n",
       "3                       0          0                             0   \n",
       "8                       0          0                             0   \n",
       "...                   ...        ...                           ...   \n",
       "64329                   0          0                             0   \n",
       "64331                   0          0                             0   \n",
       "64333                   0          0                             0   \n",
       "64335                   0          0                             0   \n",
       "64337                   0          0                             0   \n",
       "\n",
       "                                                                              \\\n",
       "      Data or business analyst Data scientist or machine learning specialist   \n",
       "0                            0                                             0   \n",
       "1                            0                                             0   \n",
       "2                            0                                             0   \n",
       "3                            0                                             0   \n",
       "8                            0                                             0   \n",
       "...                        ...                                           ...   \n",
       "64329                        0                                             0   \n",
       "64331                        0                                             0   \n",
       "64333                        0                                             0   \n",
       "64335                        0                                             0   \n",
       "64337                        0                                             0   \n",
       "\n",
       "                                                                      \\\n",
       "      Database administrator DevOps specialist Developer, QA or test   \n",
       "0                          0                 0                     0   \n",
       "1                          0                 0                     0   \n",
       "2                          0                 0                     0   \n",
       "3                          0                 0                     0   \n",
       "8                          0                 0                     0   \n",
       "...                      ...               ...                   ...   \n",
       "64329                      0                 0                     0   \n",
       "64331                      0                 0                     0   \n",
       "64333                      0                 0                     0   \n",
       "64335                      0                 0                     0   \n",
       "64337                      0                 0                     0   \n",
       "\n",
       "                                                                         ...  \\\n",
       "      Developer, back-end Developer, desktop or enterprise applications  ...   \n",
       "0                       1                                             0  ...   \n",
       "1                       0                                             0  ...   \n",
       "2                       0                                             0  ...   \n",
       "3                       1                                             0  ...   \n",
       "8                       0                                             1  ...   \n",
       "...                   ...                                           ...  ...   \n",
       "64329                   0                                             0  ...   \n",
       "64331                   0                                             0  ...   \n",
       "64333                   0                                             0  ...   \n",
       "64335                   1                                             0  ...   \n",
       "64337                   0                                             0  ...   \n",
       "\n",
       "                                                                   \\\n",
       "      Swift-back-end Swift-full-stack PHP-back-end PHP-full-stack   \n",
       "0                  0                0            0              0   \n",
       "1                  0                0            0              0   \n",
       "2                  0                0            0              0   \n",
       "3                  0                0            0              0   \n",
       "8                  0                0            0              0   \n",
       "...              ...              ...          ...            ...   \n",
       "64329              0                0            0              0   \n",
       "64331              0                0            0              0   \n",
       "64333              0                0            0              0   \n",
       "64335              0                0            0              0   \n",
       "64337              0                0            0              0   \n",
       "\n",
       "                                                         \\\n",
       "      Scala/Big data-back-end Scala/Big data-full-stack   \n",
       "0                           0                         0   \n",
       "1                           0                         0   \n",
       "2                           0                         0   \n",
       "3                           0                         0   \n",
       "8                           0                         0   \n",
       "...                       ...                       ...   \n",
       "64329                       0                         0   \n",
       "64331                       0                         0   \n",
       "64333                       0                         0   \n",
       "64335                       0                         0   \n",
       "64337                       0                         0   \n",
       "\n",
       "                                                                   \\\n",
       "      React[NAtive]-back-end React[NAtive]-full-stack AI-back-end   \n",
       "0                          0                        0           0   \n",
       "1                          0                        0           0   \n",
       "2                          0                        0           0   \n",
       "3                          0                        0           0   \n",
       "8                          0                        0           0   \n",
       "...                      ...                      ...         ...   \n",
       "64329                      0                        0           0   \n",
       "64331                      0                        0           0   \n",
       "64333                      0                        0           0   \n",
       "64335                      0                        0           0   \n",
       "64337                      0                        0           0   \n",
       "\n",
       "                     \n",
       "      AI-full-stack  \n",
       "0                 0  \n",
       "1                 0  \n",
       "2                 0  \n",
       "3                 0  \n",
       "8                 0  \n",
       "...             ...  \n",
       "64329             0  \n",
       "64331             0  \n",
       "64333             0  \n",
       "64335             0  \n",
       "64337             0  \n",
       "\n",
       "[48998 rows x 279 columns]"
      ]
     },
     "execution_count": 768,
     "metadata": {},
     "output_type": "execute_result"
    }
   ],
   "source": [
    "# Add new columns to the DevType column\n",
    "for key in backend_groups.keys():\n",
    "    encoded_df[('DevType', f\"{key}-back-end\")] = 0\n",
    "    encoded_df[('DevType', f\"{key}-full-stack\")] = 0\n",
    "encoded_df"
   ]
  },
  {
   "cell_type": "code",
   "execution_count": 769,
   "metadata": {},
   "outputs": [],
   "source": [
    "def update_backend_groups(row, job_class):\n",
    "    skills_score = []\n",
    "    job = None\n",
    "    for subgroup, skills in backend_groups.items():\n",
    "        \n",
    "        sum = row.copy().sort_index().drop('DevType').droplevel(0)[skills].sum() / len(skills) * 100\n",
    "        skills_score.append(sum)\n",
    "        if sum >= max(skills_score) and sum > 0.5:\n",
    "            job = subgroup\n",
    "    if job:\n",
    "        row[('DevType', f\"{job}-{job_class}\")] = 1\n",
    "        row[('DevType', f\"Developer, {job_class}\")] = 0\n",
    "    return row\n"
   ]
  },
  {
   "cell_type": "code",
   "execution_count": 770,
   "metadata": {},
   "outputs": [],
   "source": [
    "mask = encoded_df[('DevType', 'Developer, back-end')] == 1\n",
    "\n",
    "encoded_df.loc[mask] = encoded_df.loc[mask].apply(update_backend_groups, job_class='back-end', axis=1)\n"
   ]
  },
  {
   "cell_type": "code",
   "execution_count": 771,
   "metadata": {},
   "outputs": [],
   "source": [
    "mask = encoded_df[('DevType', 'Developer, full-stack')] == 1\n",
    "\n",
    "encoded_df.loc[mask] = encoded_df.loc[mask].apply(update_backend_groups, job_class='full-stack', axis=1)\n"
   ]
  },
  {
   "cell_type": "code",
   "execution_count": 772,
   "metadata": {},
   "outputs": [
    {
     "data": {
      "text/plain": [
       ".NET-full-stack                                  4149\n",
       "React[NAtive]-full-stack                         4099\n",
       "Developer, front-end                             4084\n",
       "Developer, desktop or enterprise applications    3192\n",
       "PHP-full-stack                                   2849\n",
       "Python-back-end                                  2556\n",
       "Python-full-stack                                2235\n",
       "Developer, mobile                                2145\n",
       "Java-back-end                                    2006\n",
       ".NET-back-end                                    1821\n",
       "Developer, embedded applications or devices      1558\n",
       "Java-full-stack                                  1490\n",
       "Data scientist or machine learning specialist    1221\n",
       "PHP-back-end                                     1220\n",
       "Academic researcher                              1038\n",
       "Research & Development role                      1016\n",
       "Engineer, data                                    945\n",
       "React[NAtive]-back-end                            918\n",
       "DevOps specialist                                 916\n",
       "Ruby-full-stack                                   828\n",
       "Cloud infrastructure engineer                     713\n",
       "Data or business analyst                          628\n",
       "Developer, game or graphics                       624\n",
       "Ruby-back-end                                     502\n",
       "System administrator                              476\n",
       "Developer, QA or test                             468\n",
       "Scala/Big data-back-end                           395\n",
       "Rust-full-stack                                   351\n",
       "Elixir-full-stack                                 350\n",
       "Elixir-back-end                                   343\n",
       "Rust-back-end                                     337\n",
       "Security professional                             295\n",
       "Oracle-full-stack                                 293\n",
       "Swift-full-stack                                  288\n",
       "C/C++-back-end                                    285\n",
       "Engineer, site reliability                        270\n",
       "C/C++-full-stack                                  262\n",
       "Scientist                                         262\n",
       "Blockchain                                        214\n",
       "Hardware Engineer                                 214\n",
       "Database administrator                            211\n",
       "Oracle-back-end                                   204\n",
       "AI-back-end                                       184\n",
       "AI-full-stack                                     174\n",
       "Scala/Big data-full-stack                         115\n",
       "Swift-back-end                                    100\n",
       "Developer, back-end                                96\n",
       "Developer, full-stack                              58\n",
       "dtype: int64"
      ]
     },
     "execution_count": 772,
     "metadata": {},
     "output_type": "execute_result"
    }
   ],
   "source": [
    "encoded_df['DevType'].sum().sort_values(ascending=False)"
   ]
  },
  {
   "cell_type": "markdown",
   "metadata": {},
   "source": [
    "## Merger Academic researcher with scientist"
   ]
  },
  {
   "cell_type": "code",
   "execution_count": 773,
   "metadata": {},
   "outputs": [],
   "source": [
    "encoded_df[('DevType', 'Scientest/Researcher')] = encoded_df[('DevType', 'Academic researcher')] | encoded_df[('DevType','Scientist')]\n",
    "encoded_df.drop([('DevType', 'Academic researcher'), ('DevType','Scientist')], axis=1, inplace=True)\n"
   ]
  },
  {
   "cell_type": "code",
   "execution_count": 774,
   "metadata": {},
   "outputs": [],
   "source": [
    "\n",
    "new_skill_df.columns = pd.MultiIndex.from_product([['skills_clusters'],  new_skill_df.columns])\n"
   ]
  },
  {
   "cell_type": "code",
   "execution_count": 775,
   "metadata": {},
   "outputs": [],
   "source": [
    "df = pd.concat([encoded_df, new_skill_df], axis=1).reset_index(drop=True)\n",
    "df.to_pickle('../data/processed/data_engineered_df.pkl')"
   ]
  },
  {
   "cell_type": "code",
   "execution_count": 776,
   "metadata": {},
   "outputs": [],
   "source": [
    "import json\n",
    "skill_group_dict = dict(zip(new_skill_df['skills_clusters'].columns, skills_clusters))\n",
    "\n",
    "\n",
    "# Define the file path\n",
    "json_file_path = '../data/processed/skill_group_dict.json'\n",
    "\n",
    "# Convert the dictionary to JSON format\n",
    "json_data = json.dumps(skill_group_dict)\n",
    "\n",
    "# Write the JSON data to the file\n",
    "with open(json_file_path, 'w') as json_file:\n",
    "    json_file.write(json_data)\n"
   ]
  }
 ],
 "metadata": {
  "kernelspec": {
   "display_name": "de",
   "language": "python",
   "name": "python3"
  },
  "language_info": {
   "codemirror_mode": {
    "name": "ipython",
    "version": 3
   },
   "file_extension": ".py",
   "mimetype": "text/x-python",
   "name": "python",
   "nbconvert_exporter": "python",
   "pygments_lexer": "ipython3",
   "version": "3.11.5"
  }
 },
 "nbformat": 4,
 "nbformat_minor": 2
}
