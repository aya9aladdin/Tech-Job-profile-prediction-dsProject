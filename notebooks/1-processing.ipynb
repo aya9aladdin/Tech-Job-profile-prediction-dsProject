{
 "cells": [
  {
   "cell_type": "code",
   "execution_count": 1,
   "metadata": {},
   "outputs": [],
   "source": [
    "import pandas as pd\n",
    "import numpy as np\n"
   ]
  },
  {
   "cell_type": "code",
   "execution_count": 2,
   "metadata": {},
   "outputs": [],
   "source": [
    "PATH = '../data/raw/stack-overflow-developer-survey-2023/survey_results_public.csv'\n",
    "EXPORT_PATH = '../data/processed/processed_data.pkl'"
   ]
  },
  {
   "cell_type": "code",
   "execution_count": 3,
   "metadata": {},
   "outputs": [
    {
     "data": {
      "text/plain": [
       "(89184, 84)"
      ]
     },
     "execution_count": 3,
     "metadata": {},
     "output_type": "execute_result"
    }
   ],
   "source": [
    "df = pd.read_csv(PATH)\n",
    "df.shape"
   ]
  },
  {
   "cell_type": "code",
   "execution_count": 4,
   "metadata": {},
   "outputs": [
    {
     "data": {
      "text/plain": [
       "Index(['ResponseId', 'Q120', 'MainBranch', 'Age', 'Employment', 'RemoteWork',\n",
       "       'CodingActivities', 'EdLevel', 'LearnCode', 'LearnCodeOnline',\n",
       "       'LearnCodeCoursesCert', 'YearsCode', 'YearsCodePro', 'DevType',\n",
       "       'OrgSize', 'PurchaseInfluence', 'TechList', 'BuyNewTool', 'Country',\n",
       "       'Currency', 'CompTotal', 'LanguageHaveWorkedWith',\n",
       "       'LanguageWantToWorkWith', 'DatabaseHaveWorkedWith',\n",
       "       'DatabaseWantToWorkWith', 'PlatformHaveWorkedWith',\n",
       "       'PlatformWantToWorkWith', 'WebframeHaveWorkedWith',\n",
       "       'WebframeWantToWorkWith', 'MiscTechHaveWorkedWith',\n",
       "       'MiscTechWantToWorkWith', 'ToolsTechHaveWorkedWith',\n",
       "       'ToolsTechWantToWorkWith', 'NEWCollabToolsHaveWorkedWith',\n",
       "       'NEWCollabToolsWantToWorkWith', 'OpSysPersonal use',\n",
       "       'OpSysProfessional use', 'OfficeStackAsyncHaveWorkedWith',\n",
       "       'OfficeStackAsyncWantToWorkWith', 'OfficeStackSyncHaveWorkedWith',\n",
       "       'OfficeStackSyncWantToWorkWith', 'AISearchHaveWorkedWith',\n",
       "       'AISearchWantToWorkWith', 'AIDevHaveWorkedWith', 'AIDevWantToWorkWith',\n",
       "       'NEWSOSites', 'SOVisitFreq', 'SOAccount', 'SOPartFreq', 'SOComm',\n",
       "       'SOAI', 'AISelect', 'AISent', 'AIAcc', 'AIBen',\n",
       "       'AIToolInterested in Using', 'AIToolCurrently Using',\n",
       "       'AIToolNot interested in Using', 'AINextVery different',\n",
       "       'AINextNeither different nor similar', 'AINextSomewhat similar',\n",
       "       'AINextVery similar', 'AINextSomewhat different', 'TBranch', 'ICorPM',\n",
       "       'WorkExp', 'Knowledge_1', 'Knowledge_2', 'Knowledge_3', 'Knowledge_4',\n",
       "       'Knowledge_5', 'Knowledge_6', 'Knowledge_7', 'Knowledge_8',\n",
       "       'Frequency_1', 'Frequency_2', 'Frequency_3', 'TimeSearching',\n",
       "       'TimeAnswering', 'ProfessionalTech', 'Industry', 'SurveyLength',\n",
       "       'SurveyEase', 'ConvertedCompYearly'],\n",
       "      dtype='object')"
      ]
     },
     "execution_count": 4,
     "metadata": {},
     "output_type": "execute_result"
    }
   ],
   "source": [
    "df.columns\n"
   ]
  },
  {
   "cell_type": "markdown",
   "metadata": {},
   "source": [
    "### Removing non professional coders and vague roles"
   ]
  },
  {
   "cell_type": "code",
   "execution_count": 5,
   "metadata": {},
   "outputs": [
    {
     "data": {
      "text/plain": [
       "(78052, 84)"
      ]
     },
     "execution_count": 5,
     "metadata": {},
     "output_type": "execute_result"
    }
   ],
   "source": [
    "df = df[~df['MainBranch'].isin(['I am learning to code', 'I code primarily as a hobby', 'None of these'])]\n",
    "df.shape"
   ]
  },
  {
   "cell_type": "code",
   "execution_count": 6,
   "metadata": {},
   "outputs": [
    {
     "data": {
      "text/plain": [
       "array(['Senior Executive (C-Suite, VP, etc.)', 'Developer, back-end',\n",
       "       'Developer, front-end', 'Developer, full-stack',\n",
       "       'System administrator',\n",
       "       'Developer, desktop or enterprise applications',\n",
       "       'Developer, QA or test', 'Designer',\n",
       "       'Data scientist or machine learning specialist',\n",
       "       'Data or business analyst', 'Security professional',\n",
       "       'Research & Development role', 'Other (please specify):',\n",
       "       'Developer, mobile', nan, 'Database administrator',\n",
       "       'Developer, embedded applications or devices', 'Student',\n",
       "       'Engineer, data', 'Hardware Engineer', 'Product manager',\n",
       "       'Academic researcher', 'Developer, game or graphics',\n",
       "       'Cloud infrastructure engineer', 'Engineering manager',\n",
       "       'Developer Experience', 'Project manager', 'DevOps specialist',\n",
       "       'Engineer, site reliability', 'Blockchain', 'Developer Advocate',\n",
       "       'Educator', 'Scientist', 'Marketing or sales professional'],\n",
       "      dtype=object)"
      ]
     },
     "execution_count": 6,
     "metadata": {},
     "output_type": "execute_result"
    }
   ],
   "source": [
    "df['DevType'].unique()\n"
   ]
  },
  {
   "cell_type": "code",
   "execution_count": 7,
   "metadata": {},
   "outputs": [
    {
     "data": {
      "text/plain": [
       "(64338, 84)"
      ]
     },
     "execution_count": 7,
     "metadata": {},
     "output_type": "execute_result"
    }
   ],
   "source": [
    "df = df[~df['DevType'].isin([np.nan, 'Senior Executive (C-Suite, VP, etc.)', 'Student', 'Other (please specify):', 'Marketing or sales professional', 'Educator', 'Designer', 'Product manager', 'Engineering manager', 'Developer Experience', 'Project manager', 'Developer Advocate'])]\n",
    "df['DevType'].unique()\n",
    "df.shape\n"
   ]
  },
  {
   "cell_type": "code",
   "execution_count": 8,
   "metadata": {},
   "outputs": [
    {
     "data": {
      "text/plain": [
       "EdLevel\n",
       "Bachelor’s degree (B.A., B.S., B.Eng., etc.)                                          29810\n",
       "Master’s degree (M.A., M.S., M.Eng., MBA, etc.)                                       16742\n",
       "Some college/university study without earning a degree                                 7889\n",
       "Secondary school (e.g. American high school, German Realschule or Gymnasium, etc.)     3496\n",
       "Professional degree (JD, MD, Ph.D, Ed.D, etc.)                                         3020\n",
       "Associate degree (A.A., A.S., etc.)                                                    2162\n",
       "Something else                                                                          791\n",
       "Primary/elementary school                                                               428\n",
       "Name: EdLevel, dtype: int64"
      ]
     },
     "execution_count": 8,
     "metadata": {},
     "output_type": "execute_result"
    }
   ],
   "source": [
    "df.groupby(['EdLevel'])['EdLevel'].count().sort_values(ascending=False) # use it in correlation with devtype"
   ]
  },
  {
   "cell_type": "markdown",
   "metadata": {},
   "source": [
    "### Filtering relevant columns"
   ]
  },
  {
   "cell_type": "code",
   "execution_count": 9,
   "metadata": {},
   "outputs": [],
   "source": [
    "columns = ['MainBranch', 'EdLevel', 'YearsCode',\n",
    "           'YearsCodePro', 'DevType', 'Country', 'LanguageHaveWorkedWith',\n",
    "           'DatabaseHaveWorkedWith', 'PlatformHaveWorkedWith',\n",
    "           'WebframeHaveWorkedWith', 'MiscTechHaveWorkedWith',\n",
    "           'ToolsTechHaveWorkedWith',  'NEWCollabToolsHaveWorkedWith',\n",
    "       ]\n"
   ]
  },
  {
   "cell_type": "code",
   "execution_count": 10,
   "metadata": {},
   "outputs": [],
   "source": [
    "df = df[columns]"
   ]
  },
  {
   "cell_type": "code",
   "execution_count": 11,
   "metadata": {},
   "outputs": [],
   "source": [
    "df.columns = ['MainBranch', 'EdLevel', 'YearsCode',\n",
    "           'YearsCodePro', 'DevType', 'Country', 'Language',\n",
    "           'Database', 'Platform',\n",
    "           'Web Framework', 'Miscellaneous Tech',\n",
    "           'Developer Tools',  'NEWCollabTools',\n",
    "       ]"
   ]
  },
  {
   "cell_type": "code",
   "execution_count": 12,
   "metadata": {},
   "outputs": [
    {
     "data": {
      "text/html": [
       "<div>\n",
       "<style scoped>\n",
       "    .dataframe tbody tr th:only-of-type {\n",
       "        vertical-align: middle;\n",
       "    }\n",
       "\n",
       "    .dataframe tbody tr th {\n",
       "        vertical-align: top;\n",
       "    }\n",
       "\n",
       "    .dataframe thead th {\n",
       "        text-align: right;\n",
       "    }\n",
       "</style>\n",
       "<table border=\"1\" class=\"dataframe\">\n",
       "  <thead>\n",
       "    <tr style=\"text-align: right;\">\n",
       "      <th></th>\n",
       "      <th>MainBranch</th>\n",
       "      <th>EdLevel</th>\n",
       "      <th>YearsCode</th>\n",
       "      <th>YearsCodePro</th>\n",
       "      <th>DevType</th>\n",
       "      <th>Country</th>\n",
       "      <th>Language</th>\n",
       "      <th>Database</th>\n",
       "      <th>Platform</th>\n",
       "      <th>Web Framework</th>\n",
       "      <th>Miscellaneous Tech</th>\n",
       "      <th>Developer Tools</th>\n",
       "      <th>NEWCollabTools</th>\n",
       "    </tr>\n",
       "  </thead>\n",
       "  <tbody>\n",
       "    <tr>\n",
       "      <th>2</th>\n",
       "      <td>I am a developer by profession</td>\n",
       "      <td>Bachelor’s degree (B.A., B.S., B.Eng., etc.)</td>\n",
       "      <td>27</td>\n",
       "      <td>23</td>\n",
       "      <td>Developer, back-end</td>\n",
       "      <td>United States of America</td>\n",
       "      <td>Bash/Shell (all shells);Go</td>\n",
       "      <td>NaN</td>\n",
       "      <td>Amazon Web Services (AWS);Google Cloud;OpenSta...</td>\n",
       "      <td>NaN</td>\n",
       "      <td>NaN</td>\n",
       "      <td>Cargo;Docker;Kubernetes;Make;Nix</td>\n",
       "      <td>Emacs;Helix</td>\n",
       "    </tr>\n",
       "    <tr>\n",
       "      <th>3</th>\n",
       "      <td>I am a developer by profession</td>\n",
       "      <td>Bachelor’s degree (B.A., B.S., B.Eng., etc.)</td>\n",
       "      <td>12</td>\n",
       "      <td>7</td>\n",
       "      <td>Developer, front-end</td>\n",
       "      <td>United States of America</td>\n",
       "      <td>Bash/Shell (all shells);HTML/CSS;JavaScript;PH...</td>\n",
       "      <td>PostgreSQL;Redis</td>\n",
       "      <td>Cloudflare;Heroku</td>\n",
       "      <td>Node.js;React;Ruby on Rails;Vue.js;WordPress</td>\n",
       "      <td>NaN</td>\n",
       "      <td>Homebrew;npm;Vite;Webpack;Yarn</td>\n",
       "      <td>IntelliJ IDEA;Vim;Visual Studio Code;WebStorm</td>\n",
       "    </tr>\n",
       "    <tr>\n",
       "      <th>4</th>\n",
       "      <td>I am a developer by profession</td>\n",
       "      <td>Bachelor’s degree (B.A., B.S., B.Eng., etc.)</td>\n",
       "      <td>6</td>\n",
       "      <td>4</td>\n",
       "      <td>Developer, full-stack</td>\n",
       "      <td>Philippines</td>\n",
       "      <td>HTML/CSS;JavaScript;TypeScript</td>\n",
       "      <td>BigQuery;Elasticsearch;MongoDB;PostgreSQL</td>\n",
       "      <td>Amazon Web Services (AWS);Firebase;Heroku;Netl...</td>\n",
       "      <td>Express;Gatsby;NestJS;Next.js;Node.js;React</td>\n",
       "      <td>NaN</td>\n",
       "      <td>Docker;npm;Webpack;Yarn</td>\n",
       "      <td>Vim;Visual Studio Code</td>\n",
       "    </tr>\n",
       "    <tr>\n",
       "      <th>5</th>\n",
       "      <td>I am a developer by profession</td>\n",
       "      <td>Some college/university study without earning ...</td>\n",
       "      <td>21</td>\n",
       "      <td>21</td>\n",
       "      <td>Developer, back-end</td>\n",
       "      <td>United Kingdom of Great Britain and Northern I...</td>\n",
       "      <td>Bash/Shell (all shells);HTML/CSS;JavaScript;Ru...</td>\n",
       "      <td>BigQuery;Cloud Firestore;PostgreSQL;Redis</td>\n",
       "      <td>Amazon Web Services (AWS);Cloudflare;Google Cloud</td>\n",
       "      <td>Angular;Express;NestJS;Node.js</td>\n",
       "      <td>NaN</td>\n",
       "      <td>Docker;Homebrew;Kubernetes;npm;pnpm;Terraform</td>\n",
       "      <td>Helix;Neovim</td>\n",
       "    </tr>\n",
       "    <tr>\n",
       "      <th>6</th>\n",
       "      <td>I am a developer by profession</td>\n",
       "      <td>Some college/university study without earning ...</td>\n",
       "      <td>4</td>\n",
       "      <td>3</td>\n",
       "      <td>Developer, full-stack</td>\n",
       "      <td>United States of America</td>\n",
       "      <td>Ada;Clojure;Elixir;Go;HTML/CSS;Java;JavaScript...</td>\n",
       "      <td>MariaDB;Microsoft SQL Server;MySQL;PostgreSQL;...</td>\n",
       "      <td>Amazon Web Services (AWS);Digital Ocean</td>\n",
       "      <td>AngularJS;jQuery;Node.js;Phoenix;Ruby on Rails...</td>\n",
       "      <td>RabbitMQ;Spring Framework</td>\n",
       "      <td>Bun;Cargo;Chocolatey;Docker;Homebrew;Kubernete...</td>\n",
       "      <td>Emacs;IntelliJ IDEA;RubyMine;Visual Studio Cod...</td>\n",
       "    </tr>\n",
       "    <tr>\n",
       "      <th>...</th>\n",
       "      <td>...</td>\n",
       "      <td>...</td>\n",
       "      <td>...</td>\n",
       "      <td>...</td>\n",
       "      <td>...</td>\n",
       "      <td>...</td>\n",
       "      <td>...</td>\n",
       "      <td>...</td>\n",
       "      <td>...</td>\n",
       "      <td>...</td>\n",
       "      <td>...</td>\n",
       "      <td>...</td>\n",
       "      <td>...</td>\n",
       "    </tr>\n",
       "    <tr>\n",
       "      <th>89178</th>\n",
       "      <td>I am a developer by profession</td>\n",
       "      <td>Bachelor’s degree (B.A., B.S., B.Eng., etc.)</td>\n",
       "      <td>25</td>\n",
       "      <td>22</td>\n",
       "      <td>Developer, full-stack</td>\n",
       "      <td>United States of America</td>\n",
       "      <td>JavaScript;TypeScript</td>\n",
       "      <td>Dynamodb</td>\n",
       "      <td>Amazon Web Services (AWS)</td>\n",
       "      <td>Express;Node.js;Spring Boot</td>\n",
       "      <td>Apache Kafka</td>\n",
       "      <td>Docker;Homebrew;Yarn</td>\n",
       "      <td>IntelliJ IDEA;Nano;Visual Studio Code</td>\n",
       "    </tr>\n",
       "    <tr>\n",
       "      <th>89179</th>\n",
       "      <td>I am a developer by profession</td>\n",
       "      <td>Associate degree (A.A., A.S., etc.)</td>\n",
       "      <td>20</td>\n",
       "      <td>5</td>\n",
       "      <td>Developer, front-end</td>\n",
       "      <td>Brazil</td>\n",
       "      <td>HTML/CSS;Java;JavaScript;SQL;TypeScript</td>\n",
       "      <td>MongoDB;MySQL;PostgreSQL;SQLite</td>\n",
       "      <td>Digital Ocean;Firebase;Google Cloud;Heroku;Vercel</td>\n",
       "      <td>Angular;AngularJS;Express;jQuery;Node.js;Nuxt....</td>\n",
       "      <td>Flutter</td>\n",
       "      <td>Chocolatey;CMake;Docker;Maven (build tool);npm...</td>\n",
       "      <td>Android Studio;Atom;Eclipse;IntelliJ IDEA;Netb...</td>\n",
       "    </tr>\n",
       "    <tr>\n",
       "      <th>89180</th>\n",
       "      <td>I am a developer by profession</td>\n",
       "      <td>Bachelor’s degree (B.A., B.S., B.Eng., etc.)</td>\n",
       "      <td>5</td>\n",
       "      <td>NaN</td>\n",
       "      <td>Developer, back-end</td>\n",
       "      <td>Romania</td>\n",
       "      <td>Dart;Java;Python;SQL</td>\n",
       "      <td>PostgreSQL</td>\n",
       "      <td>NaN</td>\n",
       "      <td>Spring Boot</td>\n",
       "      <td>Flutter;Opencv;RabbitMQ;Spring Framework;Torch...</td>\n",
       "      <td>Maven (build tool);Pip</td>\n",
       "      <td>Android Studio;IntelliJ IDEA;PyCharm</td>\n",
       "    </tr>\n",
       "    <tr>\n",
       "      <th>89182</th>\n",
       "      <td>I am a developer by profession</td>\n",
       "      <td>Secondary school (e.g. American high school, G...</td>\n",
       "      <td>3</td>\n",
       "      <td>NaN</td>\n",
       "      <td>System administrator</td>\n",
       "      <td>Switzerland</td>\n",
       "      <td>Bash/Shell (all shells);C#;HTML/CSS;Java;JavaS...</td>\n",
       "      <td>MariaDB;Microsoft SQL Server;MongoDB;MySQL;Red...</td>\n",
       "      <td>Amazon Web Services (AWS);Cloudflare;Google Cl...</td>\n",
       "      <td>Express;Next.js;Node.js;React;WordPress</td>\n",
       "      <td>CUDA;NumPy;Torch/PyTorch</td>\n",
       "      <td>Docker;Kubernetes;npm;Podman;Vite</td>\n",
       "      <td>Eclipse;IntelliJ IDEA;Nano;Notepad++;PyCharm;V...</td>\n",
       "    </tr>\n",
       "    <tr>\n",
       "      <th>89183</th>\n",
       "      <td>I am a developer by profession</td>\n",
       "      <td>Bachelor’s degree (B.A., B.S., B.Eng., etc.)</td>\n",
       "      <td>17</td>\n",
       "      <td>12</td>\n",
       "      <td>Developer, full-stack</td>\n",
       "      <td>Iran, Islamic Republic of...</td>\n",
       "      <td>C#;Go;JavaScript;SQL;TypeScript</td>\n",
       "      <td>Microsoft SQL Server;Redis;SQLite</td>\n",
       "      <td>Hetzner</td>\n",
       "      <td>Angular;ASP.NET;ASP.NET CORE;Blazor;Node.js</td>\n",
       "      <td>.NET (5+) ;.NET Framework (1.0 - 4.8)</td>\n",
       "      <td>Docker;npm;NuGet;pnpm;Vite;Webpack;Yarn</td>\n",
       "      <td>Visual Studio;Visual Studio Code</td>\n",
       "    </tr>\n",
       "  </tbody>\n",
       "</table>\n",
       "<p>64338 rows × 13 columns</p>\n",
       "</div>"
      ],
      "text/plain": [
       "                           MainBranch  \\\n",
       "2      I am a developer by profession   \n",
       "3      I am a developer by profession   \n",
       "4      I am a developer by profession   \n",
       "5      I am a developer by profession   \n",
       "6      I am a developer by profession   \n",
       "...                               ...   \n",
       "89178  I am a developer by profession   \n",
       "89179  I am a developer by profession   \n",
       "89180  I am a developer by profession   \n",
       "89182  I am a developer by profession   \n",
       "89183  I am a developer by profession   \n",
       "\n",
       "                                                 EdLevel YearsCode  \\\n",
       "2           Bachelor’s degree (B.A., B.S., B.Eng., etc.)        27   \n",
       "3           Bachelor’s degree (B.A., B.S., B.Eng., etc.)        12   \n",
       "4           Bachelor’s degree (B.A., B.S., B.Eng., etc.)         6   \n",
       "5      Some college/university study without earning ...        21   \n",
       "6      Some college/university study without earning ...         4   \n",
       "...                                                  ...       ...   \n",
       "89178       Bachelor’s degree (B.A., B.S., B.Eng., etc.)        25   \n",
       "89179                Associate degree (A.A., A.S., etc.)        20   \n",
       "89180       Bachelor’s degree (B.A., B.S., B.Eng., etc.)         5   \n",
       "89182  Secondary school (e.g. American high school, G...         3   \n",
       "89183       Bachelor’s degree (B.A., B.S., B.Eng., etc.)        17   \n",
       "\n",
       "      YearsCodePro                DevType  \\\n",
       "2               23    Developer, back-end   \n",
       "3                7   Developer, front-end   \n",
       "4                4  Developer, full-stack   \n",
       "5               21    Developer, back-end   \n",
       "6                3  Developer, full-stack   \n",
       "...            ...                    ...   \n",
       "89178           22  Developer, full-stack   \n",
       "89179            5   Developer, front-end   \n",
       "89180          NaN    Developer, back-end   \n",
       "89182          NaN   System administrator   \n",
       "89183           12  Developer, full-stack   \n",
       "\n",
       "                                                 Country  \\\n",
       "2                               United States of America   \n",
       "3                               United States of America   \n",
       "4                                            Philippines   \n",
       "5      United Kingdom of Great Britain and Northern I...   \n",
       "6                               United States of America   \n",
       "...                                                  ...   \n",
       "89178                           United States of America   \n",
       "89179                                             Brazil   \n",
       "89180                                            Romania   \n",
       "89182                                        Switzerland   \n",
       "89183                       Iran, Islamic Republic of...   \n",
       "\n",
       "                                                Language  \\\n",
       "2                             Bash/Shell (all shells);Go   \n",
       "3      Bash/Shell (all shells);HTML/CSS;JavaScript;PH...   \n",
       "4                         HTML/CSS;JavaScript;TypeScript   \n",
       "5      Bash/Shell (all shells);HTML/CSS;JavaScript;Ru...   \n",
       "6      Ada;Clojure;Elixir;Go;HTML/CSS;Java;JavaScript...   \n",
       "...                                                  ...   \n",
       "89178                              JavaScript;TypeScript   \n",
       "89179            HTML/CSS;Java;JavaScript;SQL;TypeScript   \n",
       "89180                               Dart;Java;Python;SQL   \n",
       "89182  Bash/Shell (all shells);C#;HTML/CSS;Java;JavaS...   \n",
       "89183                    C#;Go;JavaScript;SQL;TypeScript   \n",
       "\n",
       "                                                Database  \\\n",
       "2                                                    NaN   \n",
       "3                                       PostgreSQL;Redis   \n",
       "4              BigQuery;Elasticsearch;MongoDB;PostgreSQL   \n",
       "5              BigQuery;Cloud Firestore;PostgreSQL;Redis   \n",
       "6      MariaDB;Microsoft SQL Server;MySQL;PostgreSQL;...   \n",
       "...                                                  ...   \n",
       "89178                                           Dynamodb   \n",
       "89179                    MongoDB;MySQL;PostgreSQL;SQLite   \n",
       "89180                                         PostgreSQL   \n",
       "89182  MariaDB;Microsoft SQL Server;MongoDB;MySQL;Red...   \n",
       "89183                  Microsoft SQL Server;Redis;SQLite   \n",
       "\n",
       "                                                Platform  \\\n",
       "2      Amazon Web Services (AWS);Google Cloud;OpenSta...   \n",
       "3                                      Cloudflare;Heroku   \n",
       "4      Amazon Web Services (AWS);Firebase;Heroku;Netl...   \n",
       "5      Amazon Web Services (AWS);Cloudflare;Google Cloud   \n",
       "6                Amazon Web Services (AWS);Digital Ocean   \n",
       "...                                                  ...   \n",
       "89178                          Amazon Web Services (AWS)   \n",
       "89179  Digital Ocean;Firebase;Google Cloud;Heroku;Vercel   \n",
       "89180                                                NaN   \n",
       "89182  Amazon Web Services (AWS);Cloudflare;Google Cl...   \n",
       "89183                                            Hetzner   \n",
       "\n",
       "                                           Web Framework  \\\n",
       "2                                                    NaN   \n",
       "3           Node.js;React;Ruby on Rails;Vue.js;WordPress   \n",
       "4            Express;Gatsby;NestJS;Next.js;Node.js;React   \n",
       "5                         Angular;Express;NestJS;Node.js   \n",
       "6      AngularJS;jQuery;Node.js;Phoenix;Ruby on Rails...   \n",
       "...                                                  ...   \n",
       "89178                        Express;Node.js;Spring Boot   \n",
       "89179  Angular;AngularJS;Express;jQuery;Node.js;Nuxt....   \n",
       "89180                                        Spring Boot   \n",
       "89182            Express;Next.js;Node.js;React;WordPress   \n",
       "89183        Angular;ASP.NET;ASP.NET CORE;Blazor;Node.js   \n",
       "\n",
       "                                      Miscellaneous Tech  \\\n",
       "2                                                    NaN   \n",
       "3                                                    NaN   \n",
       "4                                                    NaN   \n",
       "5                                                    NaN   \n",
       "6                              RabbitMQ;Spring Framework   \n",
       "...                                                  ...   \n",
       "89178                                       Apache Kafka   \n",
       "89179                                            Flutter   \n",
       "89180  Flutter;Opencv;RabbitMQ;Spring Framework;Torch...   \n",
       "89182                           CUDA;NumPy;Torch/PyTorch   \n",
       "89183              .NET (5+) ;.NET Framework (1.0 - 4.8)   \n",
       "\n",
       "                                         Developer Tools  \\\n",
       "2                       Cargo;Docker;Kubernetes;Make;Nix   \n",
       "3                         Homebrew;npm;Vite;Webpack;Yarn   \n",
       "4                                Docker;npm;Webpack;Yarn   \n",
       "5          Docker;Homebrew;Kubernetes;npm;pnpm;Terraform   \n",
       "6      Bun;Cargo;Chocolatey;Docker;Homebrew;Kubernete...   \n",
       "...                                                  ...   \n",
       "89178                               Docker;Homebrew;Yarn   \n",
       "89179  Chocolatey;CMake;Docker;Maven (build tool);npm...   \n",
       "89180                             Maven (build tool);Pip   \n",
       "89182                  Docker;Kubernetes;npm;Podman;Vite   \n",
       "89183            Docker;npm;NuGet;pnpm;Vite;Webpack;Yarn   \n",
       "\n",
       "                                          NEWCollabTools  \n",
       "2                                            Emacs;Helix  \n",
       "3          IntelliJ IDEA;Vim;Visual Studio Code;WebStorm  \n",
       "4                                 Vim;Visual Studio Code  \n",
       "5                                           Helix;Neovim  \n",
       "6      Emacs;IntelliJ IDEA;RubyMine;Visual Studio Cod...  \n",
       "...                                                  ...  \n",
       "89178              IntelliJ IDEA;Nano;Visual Studio Code  \n",
       "89179  Android Studio;Atom;Eclipse;IntelliJ IDEA;Netb...  \n",
       "89180               Android Studio;IntelliJ IDEA;PyCharm  \n",
       "89182  Eclipse;IntelliJ IDEA;Nano;Notepad++;PyCharm;V...  \n",
       "89183                   Visual Studio;Visual Studio Code  \n",
       "\n",
       "[64338 rows x 13 columns]"
      ]
     },
     "execution_count": 12,
     "metadata": {},
     "output_type": "execute_result"
    }
   ],
   "source": [
    "df"
   ]
  },
  {
   "cell_type": "markdown",
   "metadata": {},
   "source": [
    "### cleaning years code pro column and filling missing values"
   ]
  },
  {
   "cell_type": "code",
   "execution_count": 13,
   "metadata": {},
   "outputs": [
    {
     "data": {
      "text/html": [
       "<div>\n",
       "<style scoped>\n",
       "    .dataframe tbody tr th:only-of-type {\n",
       "        vertical-align: middle;\n",
       "    }\n",
       "\n",
       "    .dataframe tbody tr th {\n",
       "        vertical-align: top;\n",
       "    }\n",
       "\n",
       "    .dataframe thead th {\n",
       "        text-align: right;\n",
       "    }\n",
       "</style>\n",
       "<table border=\"1\" class=\"dataframe\">\n",
       "  <thead>\n",
       "    <tr style=\"text-align: right;\">\n",
       "      <th></th>\n",
       "      <th>YearsCodePro</th>\n",
       "      <th>YearsCode</th>\n",
       "    </tr>\n",
       "  </thead>\n",
       "  <tbody>\n",
       "    <tr>\n",
       "      <th>9</th>\n",
       "      <td>NaN</td>\n",
       "      <td>6</td>\n",
       "    </tr>\n",
       "    <tr>\n",
       "      <th>49</th>\n",
       "      <td>NaN</td>\n",
       "      <td>15</td>\n",
       "    </tr>\n",
       "    <tr>\n",
       "      <th>67</th>\n",
       "      <td>NaN</td>\n",
       "      <td>10</td>\n",
       "    </tr>\n",
       "    <tr>\n",
       "      <th>69</th>\n",
       "      <td>NaN</td>\n",
       "      <td>8</td>\n",
       "    </tr>\n",
       "    <tr>\n",
       "      <th>90</th>\n",
       "      <td>NaN</td>\n",
       "      <td>6</td>\n",
       "    </tr>\n",
       "    <tr>\n",
       "      <th>...</th>\n",
       "      <td>...</td>\n",
       "      <td>...</td>\n",
       "    </tr>\n",
       "    <tr>\n",
       "      <th>89121</th>\n",
       "      <td>NaN</td>\n",
       "      <td>4</td>\n",
       "    </tr>\n",
       "    <tr>\n",
       "      <th>89129</th>\n",
       "      <td>NaN</td>\n",
       "      <td>20</td>\n",
       "    </tr>\n",
       "    <tr>\n",
       "      <th>89173</th>\n",
       "      <td>NaN</td>\n",
       "      <td>20</td>\n",
       "    </tr>\n",
       "    <tr>\n",
       "      <th>89180</th>\n",
       "      <td>NaN</td>\n",
       "      <td>5</td>\n",
       "    </tr>\n",
       "    <tr>\n",
       "      <th>89182</th>\n",
       "      <td>NaN</td>\n",
       "      <td>3</td>\n",
       "    </tr>\n",
       "  </tbody>\n",
       "</table>\n",
       "<p>6316 rows × 2 columns</p>\n",
       "</div>"
      ],
      "text/plain": [
       "      YearsCodePro YearsCode\n",
       "9              NaN         6\n",
       "49             NaN        15\n",
       "67             NaN        10\n",
       "69             NaN         8\n",
       "90             NaN         6\n",
       "...            ...       ...\n",
       "89121          NaN         4\n",
       "89129          NaN        20\n",
       "89173          NaN        20\n",
       "89180          NaN         5\n",
       "89182          NaN         3\n",
       "\n",
       "[6316 rows x 2 columns]"
      ]
     },
     "execution_count": 13,
     "metadata": {},
     "output_type": "execute_result"
    }
   ],
   "source": [
    "df['YearsCodePro'] = df['YearsCodePro'].replace({'Less than 1 year': 0, 'More than 50 years': 51})\n",
    "df['YearsCodePro'].unique()\n",
    "filtered_df = df[df['YearsCodePro'].isna()][['YearsCodePro', 'YearsCode']]\n",
    "filtered_df"
   ]
  },
  {
   "cell_type": "code",
   "execution_count": 14,
   "metadata": {},
   "outputs": [],
   "source": [
    "df['YearsCodePro'] = df['YearsCodePro'].fillna(df['YearsCode'])\n",
    "df[df['YearsCodePro'].isna()][['YearsCodePro', 'YearsCode']].shape\n",
    "df['YearsCodePro'] = pd.to_numeric(df['YearsCodePro'], errors='coerce')\n",
    "df['YearsCodePro'] = df['YearsCodePro'].fillna(df['YearsCodePro'].mean())\n"
   ]
  },
  {
   "cell_type": "markdown",
   "metadata": {},
   "source": [
    "### Split columns with multiple answers"
   ]
  },
  {
   "cell_type": "code",
   "execution_count": 15,
   "metadata": {},
   "outputs": [],
   "source": [
    "# select columns that have semicolon-separated strings\n",
    "cols_to_split = ['DevType', 'Language', 'Database', 'Platform', 'Web Framework', 'Miscellaneous Tech', 'Developer Tools', 'NEWCollabTools']\n",
    "\n",
    "\n"
   ]
  },
  {
   "cell_type": "code",
   "execution_count": 16,
   "metadata": {},
   "outputs": [],
   "source": [
    "for col in cols_to_split:\n",
    "    df[col] = df[col].fillna(\"\")\n",
    "    df[col] = [item.split(';') if item else [] for item in df[col]]\n",
    "\n",
    "\n"
   ]
  },
  {
   "cell_type": "code",
   "execution_count": 17,
   "metadata": {},
   "outputs": [],
   "source": [
    "df.reset_index(inplace=True, drop=True)\n"
   ]
  },
  {
   "cell_type": "code",
   "execution_count": 18,
   "metadata": {},
   "outputs": [],
   "source": [
    "df.to_pickle(EXPORT_PATH)"
   ]
  }
 ],
 "metadata": {
  "kernelspec": {
   "display_name": "de",
   "language": "python",
   "name": "python3"
  },
  "language_info": {
   "codemirror_mode": {
    "name": "ipython",
    "version": 3
   },
   "file_extension": ".py",
   "mimetype": "text/x-python",
   "name": "python",
   "nbconvert_exporter": "python",
   "pygments_lexer": "ipython3",
   "version": "3.11.5"
  }
 },
 "nbformat": 4,
 "nbformat_minor": 2
}
