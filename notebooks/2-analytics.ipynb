{
 "cells": [
  {
   "cell_type": "code",
   "execution_count": 2,
   "metadata": {},
   "outputs": [],
   "source": [
    "import pandas as pd\n",
    "import numpy as np\n",
    "import plotly.express as px\n",
    "# Load packages\n",
    "import logging\n",
    "import pickle\n",
    "import os\n",
    "\n",
    "import plotly.graph_objects as go\n",
    "from plotly.subplots import make_subplots\n",
    "import plotly.express as px\n",
    "import plotly.figure_factory as ff\n",
    "\n",
    "from sklearn.preprocessing import MultiLabelBinarizer\n",
    "from sklearn.preprocessing import StandardScaler\n",
    "from sklearn.pipeline import make_pipeline\n",
    "\n",
    "from matplotlib import pyplot as plt\n",
    "from scipy.cluster.hierarchy import dendrogram\n",
    "import plotly.io as pio\n"
   ]
  },
  {
   "cell_type": "code",
   "execution_count": 3,
   "metadata": {},
   "outputs": [],
   "source": [
    "PATH = '../data/processed/processed_data.pkl'\n",
    "REPORT_PATH = '../reports/figures/'\n",
    "\n",
    "ROLE_COLS      = ['DevType']\n",
    "SkILLS_COLS      = ['Language',\n",
    "                  'Database',\n",
    "                  'Platform',\n",
    "                  'Web Framework',\n",
    "                  'Miscellaneous Tech',\n",
    "                  'Developer Tools',\n",
    "                  ]\n"
   ]
  },
  {
   "cell_type": "code",
   "execution_count": 4,
   "metadata": {},
   "outputs": [],
   "source": [
    "df = pd.read_pickle(PATH)\n"
   ]
  },
  {
   "cell_type": "code",
   "execution_count": 22,
   "metadata": {},
   "outputs": [
    {
     "data": {
      "application/vnd.plotly.v1+json": {
       "config": {
        "plotlyServerURL": "https://plot.ly"
       },
       "data": [
        {
         "geo": "geo",
         "hovertemplate": "<b>%{hovertext}</b><br><br>size=%{marker.size}<br>index=%{location}<br>color=%{marker.color}<extra></extra>",
         "hovertext": [
          "United States of America",
          "Germany",
          "United Kingdom of Great Britain and Northern Ireland",
          "India",
          "Canada",
          "France",
          "Poland",
          "Netherlands",
          "Brazil",
          "Australia",
          "Spain",
          "Italy",
          "Sweden",
          "Switzerland",
          "Czech Republic",
          "Austria",
          "Russian Federation",
          "Ukraine",
          "Israel",
          "Romania",
          "Denmark",
          "Turkey",
          "Belgium",
          "Norway",
          "Portugal",
          "Finland",
          "New Zealand",
          "Hungary",
          "Greece",
          "Mexico",
          "Iran, Islamic Republic of...",
          "South Africa",
          "Pakistan",
          "Argentina",
          "China",
          "Bulgaria",
          "Colombia",
          "Ireland",
          "Serbia",
          "Bangladesh",
          "Indonesia",
          "Japan",
          "Slovakia",
          "Lithuania",
          "Viet Nam",
          "Nigeria",
          "Croatia",
          "Philippines",
          "Slovenia",
          "Estonia",
          "Chile",
          "Singapore",
          "Malaysia",
          "Egypt",
          "Taiwan",
          "Kenya",
          "Sri Lanka",
          "Thailand",
          "Latvia",
          "South Korea",
          "Georgia",
          "Hong Kong (S.A.R.)",
          "Nepal",
          "United Arab Emirates",
          "Uruguay",
          "Peru",
          "Armenia",
          "Belarus",
          "Venezuela, Bolivarian Republic of...",
          "Morocco",
          "Costa Rica",
          "Kazakhstan",
          "Ecuador",
          "Bosnia and Herzegovina",
          "Tunisia",
          "Cyprus",
          "Saudi Arabia",
          "Republic of Korea",
          "Luxembourg",
          "Ethiopia",
          "Dominican Republic",
          "Algeria",
          "Uzbekistan",
          "Lebanon",
          "Guatemala",
          "Jordan",
          "Iceland",
          "Republic of Moldova",
          "Ghana",
          "Uganda",
          "Albania",
          "Azerbaijan",
          "Nomadic",
          "The former Yugoslav Republic of Macedonia",
          "Afghanistan",
          "Malta",
          "Paraguay",
          "Bolivia",
          "Montenegro",
          "Iraq",
          "Nicaragua",
          "El Salvador",
          "Myanmar",
          "Cuba",
          "United Republic of Tanzania",
          "Syrian Arab Republic",
          "Kosovo",
          "Kyrgyzstan",
          "Mauritius",
          "Palestine",
          "Honduras",
          "Cambodia",
          "Panama",
          "Mongolia",
          "Rwanda",
          "Zimbabwe",
          "Jamaica",
          "Madagascar",
          "Somalia",
          "Zambia",
          "Qatar",
          "Malawi",
          "Benin",
          "Trinidad and Tobago",
          "Isle of Man",
          "Cameroon",
          "Côte d'Ivoire",
          "Yemen",
          "Andorra",
          "Angola",
          "Senegal",
          "Kuwait",
          "Swaziland",
          "Libyan Arab Jamahiriya",
          "Bahrain",
          "Mozambique",
          "Maldives",
          "Turkmenistan",
          "Oman",
          "Togo",
          "Burkina Faso",
          "Suriname",
          "Fiji",
          "Lesotho",
          "Botswana",
          "Tajikistan",
          "Mali",
          "Mauritania",
          "Sierra Leone",
          "Guyana",
          "Democratic Republic of the Congo",
          "Belize",
          "Barbados",
          "Brunei Darussalam",
          "Bhutan",
          "Antigua and Barbuda",
          "Burundi",
          "Niger",
          "Congo, Republic of the...",
          "Sudan",
          "Djibouti",
          "Namibia",
          "Palau",
          "Liberia",
          "Lao People's Democratic Republic",
          "Saint Lucia",
          "Cape Verde",
          "Saint Kitts and Nevis",
          "Monaco",
          "Liechtenstein",
          "Bahamas",
          "San Marino",
          "Saint Vincent and the Grenadines",
          "Central African Republic",
          "Haiti",
          "Guinea",
          "Gabon",
          "Democratic People's Republic of Korea",
          "Dominica"
         ],
         "legendgroup": "",
         "locationmode": "country names",
         "locations": [
          "United States of America",
          "Germany",
          "United Kingdom of Great Britain and Northern Ireland",
          "India",
          "Canada",
          "France",
          "Poland",
          "Netherlands",
          "Brazil",
          "Australia",
          "Spain",
          "Italy",
          "Sweden",
          "Switzerland",
          "Czech Republic",
          "Austria",
          "Russian Federation",
          "Ukraine",
          "Israel",
          "Romania",
          "Denmark",
          "Turkey",
          "Belgium",
          "Norway",
          "Portugal",
          "Finland",
          "New Zealand",
          "Hungary",
          "Greece",
          "Mexico",
          "Iran, Islamic Republic of...",
          "South Africa",
          "Pakistan",
          "Argentina",
          "China",
          "Bulgaria",
          "Colombia",
          "Ireland",
          "Serbia",
          "Bangladesh",
          "Indonesia",
          "Japan",
          "Slovakia",
          "Lithuania",
          "Viet Nam",
          "Nigeria",
          "Croatia",
          "Philippines",
          "Slovenia",
          "Estonia",
          "Chile",
          "Singapore",
          "Malaysia",
          "Egypt",
          "Taiwan",
          "Kenya",
          "Sri Lanka",
          "Thailand",
          "Latvia",
          "South Korea",
          "Georgia",
          "Hong Kong (S.A.R.)",
          "Nepal",
          "United Arab Emirates",
          "Uruguay",
          "Peru",
          "Armenia",
          "Belarus",
          "Venezuela, Bolivarian Republic of...",
          "Morocco",
          "Costa Rica",
          "Kazakhstan",
          "Ecuador",
          "Bosnia and Herzegovina",
          "Tunisia",
          "Cyprus",
          "Saudi Arabia",
          "Republic of Korea",
          "Luxembourg",
          "Ethiopia",
          "Dominican Republic",
          "Algeria",
          "Uzbekistan",
          "Lebanon",
          "Guatemala",
          "Jordan",
          "Iceland",
          "Republic of Moldova",
          "Ghana",
          "Uganda",
          "Albania",
          "Azerbaijan",
          "Nomadic",
          "The former Yugoslav Republic of Macedonia",
          "Afghanistan",
          "Malta",
          "Paraguay",
          "Bolivia",
          "Montenegro",
          "Iraq",
          "Nicaragua",
          "El Salvador",
          "Myanmar",
          "Cuba",
          "United Republic of Tanzania",
          "Syrian Arab Republic",
          "Kosovo",
          "Kyrgyzstan",
          "Mauritius",
          "Palestine",
          "Honduras",
          "Cambodia",
          "Panama",
          "Mongolia",
          "Rwanda",
          "Zimbabwe",
          "Jamaica",
          "Madagascar",
          "Somalia",
          "Zambia",
          "Qatar",
          "Malawi",
          "Benin",
          "Trinidad and Tobago",
          "Isle of Man",
          "Cameroon",
          "Côte d'Ivoire",
          "Yemen",
          "Andorra",
          "Angola",
          "Senegal",
          "Kuwait",
          "Swaziland",
          "Libyan Arab Jamahiriya",
          "Bahrain",
          "Mozambique",
          "Maldives",
          "Turkmenistan",
          "Oman",
          "Togo",
          "Burkina Faso",
          "Suriname",
          "Fiji",
          "Lesotho",
          "Botswana",
          "Tajikistan",
          "Mali",
          "Mauritania",
          "Sierra Leone",
          "Guyana",
          "Democratic Republic of the Congo",
          "Belize",
          "Barbados",
          "Brunei Darussalam",
          "Bhutan",
          "Antigua and Barbuda",
          "Burundi",
          "Niger",
          "Congo, Republic of the...",
          "Sudan",
          "Djibouti",
          "Namibia",
          "Palau",
          "Liberia",
          "Lao People's Democratic Republic",
          "Saint Lucia",
          "Cape Verde",
          "Saint Kitts and Nevis",
          "Monaco",
          "Liechtenstein",
          "Bahamas",
          "San Marino",
          "Saint Vincent and the Grenadines",
          "Central African Republic",
          "Haiti",
          "Guinea",
          "Gabon",
          "Democratic People's Republic of Korea",
          "Dominica"
         ],
         "marker": {
          "color": [
           13683,
           5313,
           4116,
           3715,
           2570,
           2234,
           1857,
           1813,
           1634,
           1463,
           1426,
           1352,
           1293,
           886,
           771,
           769,
           753,
           707,
           679,
           657,
           656,
           641,
           627,
           582,
           582,
           574,
           498,
           470,
           469,
           449,
           441,
           427,
           426,
           423,
           410,
           387,
           353,
           344,
           340,
           316,
           308,
           269,
           269,
           247,
           238,
           237,
           223,
           220,
           208,
           188,
           185,
           184,
           178,
           169,
           169,
           157,
           153,
           152,
           147,
           144,
           140,
           131,
           126,
           122,
           102,
           96,
           96,
           90,
           85,
           79,
           74,
           70,
           65,
           64,
           64,
           61,
           61,
           60,
           58,
           57,
           55,
           47,
           46,
           45,
           45,
           45,
           45,
           44,
           43,
           40,
           38,
           38,
           38,
           37,
           36,
           34,
           32,
           32,
           31,
           30,
           28,
           27,
           27,
           27,
           26,
           25,
           24,
           21,
           20,
           20,
           19,
           19,
           19,
           19,
           17,
           17,
           16,
           16,
           14,
           14,
           13,
           11,
           11,
           11,
           11,
           11,
           11,
           11,
           10,
           9,
           9,
           9,
           9,
           8,
           8,
           7,
           7,
           7,
           6,
           5,
           4,
           4,
           4,
           4,
           4,
           4,
           4,
           4,
           3,
           3,
           3,
           3,
           3,
           2,
           2,
           2,
           2,
           2,
           2,
           2,
           2,
           2,
           2,
           2,
           2,
           2,
           1,
           1,
           1,
           1,
           1,
           1,
           1,
           1,
           1,
           1,
           1,
           1,
           1
          ],
          "coloraxis": "coloraxis",
          "size": [
           13683,
           5313,
           4116,
           3715,
           2570,
           2234,
           1857,
           1813,
           1634,
           1463,
           1426,
           1352,
           1293,
           886,
           771,
           769,
           753,
           707,
           679,
           657,
           656,
           641,
           627,
           582,
           582,
           574,
           498,
           470,
           469,
           449,
           441,
           427,
           426,
           423,
           410,
           387,
           353,
           344,
           340,
           316,
           308,
           269,
           269,
           247,
           238,
           237,
           223,
           220,
           208,
           188,
           185,
           184,
           178,
           169,
           169,
           157,
           153,
           152,
           147,
           144,
           140,
           131,
           126,
           122,
           102,
           96,
           96,
           90,
           85,
           79,
           74,
           70,
           65,
           64,
           64,
           61,
           61,
           60,
           58,
           57,
           55,
           47,
           46,
           45,
           45,
           45,
           45,
           44,
           43,
           40,
           38,
           38,
           38,
           37,
           36,
           34,
           32,
           32,
           31,
           30,
           28,
           27,
           27,
           27,
           26,
           25,
           24,
           21,
           20,
           20,
           19,
           19,
           19,
           19,
           17,
           17,
           16,
           16,
           14,
           14,
           13,
           11,
           11,
           11,
           11,
           11,
           11,
           11,
           10,
           9,
           9,
           9,
           9,
           8,
           8,
           7,
           7,
           7,
           6,
           5,
           4,
           4,
           4,
           4,
           4,
           4,
           4,
           4,
           3,
           3,
           3,
           3,
           3,
           2,
           2,
           2,
           2,
           2,
           2,
           2,
           2,
           2,
           2,
           2,
           2,
           2,
           1,
           1,
           1,
           1,
           1,
           1,
           1,
           1,
           1,
           1,
           1,
           1,
           1
          ],
          "sizemode": "area",
          "sizeref": 34.2075,
          "symbol": "circle"
         },
         "mode": "markers",
         "name": "",
         "showlegend": false,
         "type": "scattergeo"
        }
       ],
       "layout": {
        "coloraxis": {
         "colorbar": {
          "title": {
           "text": "color"
          }
         },
         "colorscale": [
          [
           0,
           "#0d0887"
          ],
          [
           0.1111111111111111,
           "#46039f"
          ],
          [
           0.2222222222222222,
           "#7201a8"
          ],
          [
           0.3333333333333333,
           "#9c179e"
          ],
          [
           0.4444444444444444,
           "#bd3786"
          ],
          [
           0.5555555555555556,
           "#d8576b"
          ],
          [
           0.6666666666666666,
           "#ed7953"
          ],
          [
           0.7777777777777778,
           "#fb9f3a"
          ],
          [
           0.8888888888888888,
           "#fdca26"
          ],
          [
           1,
           "#f0f921"
          ]
         ]
        },
        "geo": {
         "center": {},
         "domain": {
          "x": [
           0,
           1
          ],
          "y": [
           0,
           1
          ]
         },
         "projection": {
          "type": "natural earth"
         }
        },
        "legend": {
         "itemsizing": "constant",
         "tracegroupgap": 0
        },
        "template": {
         "data": {
          "bar": [
           {
            "error_x": {
             "color": "#2a3f5f"
            },
            "error_y": {
             "color": "#2a3f5f"
            },
            "marker": {
             "line": {
              "color": "#E5ECF6",
              "width": 0.5
             },
             "pattern": {
              "fillmode": "overlay",
              "size": 10,
              "solidity": 0.2
             }
            },
            "type": "bar"
           }
          ],
          "barpolar": [
           {
            "marker": {
             "line": {
              "color": "#E5ECF6",
              "width": 0.5
             },
             "pattern": {
              "fillmode": "overlay",
              "size": 10,
              "solidity": 0.2
             }
            },
            "type": "barpolar"
           }
          ],
          "carpet": [
           {
            "aaxis": {
             "endlinecolor": "#2a3f5f",
             "gridcolor": "white",
             "linecolor": "white",
             "minorgridcolor": "white",
             "startlinecolor": "#2a3f5f"
            },
            "baxis": {
             "endlinecolor": "#2a3f5f",
             "gridcolor": "white",
             "linecolor": "white",
             "minorgridcolor": "white",
             "startlinecolor": "#2a3f5f"
            },
            "type": "carpet"
           }
          ],
          "choropleth": [
           {
            "colorbar": {
             "outlinewidth": 0,
             "ticks": ""
            },
            "type": "choropleth"
           }
          ],
          "contour": [
           {
            "colorbar": {
             "outlinewidth": 0,
             "ticks": ""
            },
            "colorscale": [
             [
              0,
              "#0d0887"
             ],
             [
              0.1111111111111111,
              "#46039f"
             ],
             [
              0.2222222222222222,
              "#7201a8"
             ],
             [
              0.3333333333333333,
              "#9c179e"
             ],
             [
              0.4444444444444444,
              "#bd3786"
             ],
             [
              0.5555555555555556,
              "#d8576b"
             ],
             [
              0.6666666666666666,
              "#ed7953"
             ],
             [
              0.7777777777777778,
              "#fb9f3a"
             ],
             [
              0.8888888888888888,
              "#fdca26"
             ],
             [
              1,
              "#f0f921"
             ]
            ],
            "type": "contour"
           }
          ],
          "contourcarpet": [
           {
            "colorbar": {
             "outlinewidth": 0,
             "ticks": ""
            },
            "type": "contourcarpet"
           }
          ],
          "heatmap": [
           {
            "colorbar": {
             "outlinewidth": 0,
             "ticks": ""
            },
            "colorscale": [
             [
              0,
              "#0d0887"
             ],
             [
              0.1111111111111111,
              "#46039f"
             ],
             [
              0.2222222222222222,
              "#7201a8"
             ],
             [
              0.3333333333333333,
              "#9c179e"
             ],
             [
              0.4444444444444444,
              "#bd3786"
             ],
             [
              0.5555555555555556,
              "#d8576b"
             ],
             [
              0.6666666666666666,
              "#ed7953"
             ],
             [
              0.7777777777777778,
              "#fb9f3a"
             ],
             [
              0.8888888888888888,
              "#fdca26"
             ],
             [
              1,
              "#f0f921"
             ]
            ],
            "type": "heatmap"
           }
          ],
          "heatmapgl": [
           {
            "colorbar": {
             "outlinewidth": 0,
             "ticks": ""
            },
            "colorscale": [
             [
              0,
              "#0d0887"
             ],
             [
              0.1111111111111111,
              "#46039f"
             ],
             [
              0.2222222222222222,
              "#7201a8"
             ],
             [
              0.3333333333333333,
              "#9c179e"
             ],
             [
              0.4444444444444444,
              "#bd3786"
             ],
             [
              0.5555555555555556,
              "#d8576b"
             ],
             [
              0.6666666666666666,
              "#ed7953"
             ],
             [
              0.7777777777777778,
              "#fb9f3a"
             ],
             [
              0.8888888888888888,
              "#fdca26"
             ],
             [
              1,
              "#f0f921"
             ]
            ],
            "type": "heatmapgl"
           }
          ],
          "histogram": [
           {
            "marker": {
             "pattern": {
              "fillmode": "overlay",
              "size": 10,
              "solidity": 0.2
             }
            },
            "type": "histogram"
           }
          ],
          "histogram2d": [
           {
            "colorbar": {
             "outlinewidth": 0,
             "ticks": ""
            },
            "colorscale": [
             [
              0,
              "#0d0887"
             ],
             [
              0.1111111111111111,
              "#46039f"
             ],
             [
              0.2222222222222222,
              "#7201a8"
             ],
             [
              0.3333333333333333,
              "#9c179e"
             ],
             [
              0.4444444444444444,
              "#bd3786"
             ],
             [
              0.5555555555555556,
              "#d8576b"
             ],
             [
              0.6666666666666666,
              "#ed7953"
             ],
             [
              0.7777777777777778,
              "#fb9f3a"
             ],
             [
              0.8888888888888888,
              "#fdca26"
             ],
             [
              1,
              "#f0f921"
             ]
            ],
            "type": "histogram2d"
           }
          ],
          "histogram2dcontour": [
           {
            "colorbar": {
             "outlinewidth": 0,
             "ticks": ""
            },
            "colorscale": [
             [
              0,
              "#0d0887"
             ],
             [
              0.1111111111111111,
              "#46039f"
             ],
             [
              0.2222222222222222,
              "#7201a8"
             ],
             [
              0.3333333333333333,
              "#9c179e"
             ],
             [
              0.4444444444444444,
              "#bd3786"
             ],
             [
              0.5555555555555556,
              "#d8576b"
             ],
             [
              0.6666666666666666,
              "#ed7953"
             ],
             [
              0.7777777777777778,
              "#fb9f3a"
             ],
             [
              0.8888888888888888,
              "#fdca26"
             ],
             [
              1,
              "#f0f921"
             ]
            ],
            "type": "histogram2dcontour"
           }
          ],
          "mesh3d": [
           {
            "colorbar": {
             "outlinewidth": 0,
             "ticks": ""
            },
            "type": "mesh3d"
           }
          ],
          "parcoords": [
           {
            "line": {
             "colorbar": {
              "outlinewidth": 0,
              "ticks": ""
             }
            },
            "type": "parcoords"
           }
          ],
          "pie": [
           {
            "automargin": true,
            "type": "pie"
           }
          ],
          "scatter": [
           {
            "fillpattern": {
             "fillmode": "overlay",
             "size": 10,
             "solidity": 0.2
            },
            "type": "scatter"
           }
          ],
          "scatter3d": [
           {
            "line": {
             "colorbar": {
              "outlinewidth": 0,
              "ticks": ""
             }
            },
            "marker": {
             "colorbar": {
              "outlinewidth": 0,
              "ticks": ""
             }
            },
            "type": "scatter3d"
           }
          ],
          "scattercarpet": [
           {
            "marker": {
             "colorbar": {
              "outlinewidth": 0,
              "ticks": ""
             }
            },
            "type": "scattercarpet"
           }
          ],
          "scattergeo": [
           {
            "marker": {
             "colorbar": {
              "outlinewidth": 0,
              "ticks": ""
             }
            },
            "type": "scattergeo"
           }
          ],
          "scattergl": [
           {
            "marker": {
             "colorbar": {
              "outlinewidth": 0,
              "ticks": ""
             }
            },
            "type": "scattergl"
           }
          ],
          "scattermapbox": [
           {
            "marker": {
             "colorbar": {
              "outlinewidth": 0,
              "ticks": ""
             }
            },
            "type": "scattermapbox"
           }
          ],
          "scatterpolar": [
           {
            "marker": {
             "colorbar": {
              "outlinewidth": 0,
              "ticks": ""
             }
            },
            "type": "scatterpolar"
           }
          ],
          "scatterpolargl": [
           {
            "marker": {
             "colorbar": {
              "outlinewidth": 0,
              "ticks": ""
             }
            },
            "type": "scatterpolargl"
           }
          ],
          "scatterternary": [
           {
            "marker": {
             "colorbar": {
              "outlinewidth": 0,
              "ticks": ""
             }
            },
            "type": "scatterternary"
           }
          ],
          "surface": [
           {
            "colorbar": {
             "outlinewidth": 0,
             "ticks": ""
            },
            "colorscale": [
             [
              0,
              "#0d0887"
             ],
             [
              0.1111111111111111,
              "#46039f"
             ],
             [
              0.2222222222222222,
              "#7201a8"
             ],
             [
              0.3333333333333333,
              "#9c179e"
             ],
             [
              0.4444444444444444,
              "#bd3786"
             ],
             [
              0.5555555555555556,
              "#d8576b"
             ],
             [
              0.6666666666666666,
              "#ed7953"
             ],
             [
              0.7777777777777778,
              "#fb9f3a"
             ],
             [
              0.8888888888888888,
              "#fdca26"
             ],
             [
              1,
              "#f0f921"
             ]
            ],
            "type": "surface"
           }
          ],
          "table": [
           {
            "cells": {
             "fill": {
              "color": "#EBF0F8"
             },
             "line": {
              "color": "white"
             }
            },
            "header": {
             "fill": {
              "color": "#C8D4E3"
             },
             "line": {
              "color": "white"
             }
            },
            "type": "table"
           }
          ]
         },
         "layout": {
          "annotationdefaults": {
           "arrowcolor": "#2a3f5f",
           "arrowhead": 0,
           "arrowwidth": 1
          },
          "autotypenumbers": "strict",
          "coloraxis": {
           "colorbar": {
            "outlinewidth": 0,
            "ticks": ""
           }
          },
          "colorscale": {
           "diverging": [
            [
             0,
             "#8e0152"
            ],
            [
             0.1,
             "#c51b7d"
            ],
            [
             0.2,
             "#de77ae"
            ],
            [
             0.3,
             "#f1b6da"
            ],
            [
             0.4,
             "#fde0ef"
            ],
            [
             0.5,
             "#f7f7f7"
            ],
            [
             0.6,
             "#e6f5d0"
            ],
            [
             0.7,
             "#b8e186"
            ],
            [
             0.8,
             "#7fbc41"
            ],
            [
             0.9,
             "#4d9221"
            ],
            [
             1,
             "#276419"
            ]
           ],
           "sequential": [
            [
             0,
             "#0d0887"
            ],
            [
             0.1111111111111111,
             "#46039f"
            ],
            [
             0.2222222222222222,
             "#7201a8"
            ],
            [
             0.3333333333333333,
             "#9c179e"
            ],
            [
             0.4444444444444444,
             "#bd3786"
            ],
            [
             0.5555555555555556,
             "#d8576b"
            ],
            [
             0.6666666666666666,
             "#ed7953"
            ],
            [
             0.7777777777777778,
             "#fb9f3a"
            ],
            [
             0.8888888888888888,
             "#fdca26"
            ],
            [
             1,
             "#f0f921"
            ]
           ],
           "sequentialminus": [
            [
             0,
             "#0d0887"
            ],
            [
             0.1111111111111111,
             "#46039f"
            ],
            [
             0.2222222222222222,
             "#7201a8"
            ],
            [
             0.3333333333333333,
             "#9c179e"
            ],
            [
             0.4444444444444444,
             "#bd3786"
            ],
            [
             0.5555555555555556,
             "#d8576b"
            ],
            [
             0.6666666666666666,
             "#ed7953"
            ],
            [
             0.7777777777777778,
             "#fb9f3a"
            ],
            [
             0.8888888888888888,
             "#fdca26"
            ],
            [
             1,
             "#f0f921"
            ]
           ]
          },
          "colorway": [
           "#636efa",
           "#EF553B",
           "#00cc96",
           "#ab63fa",
           "#FFA15A",
           "#19d3f3",
           "#FF6692",
           "#B6E880",
           "#FF97FF",
           "#FECB52"
          ],
          "font": {
           "color": "#2a3f5f"
          },
          "geo": {
           "bgcolor": "white",
           "lakecolor": "white",
           "landcolor": "#E5ECF6",
           "showlakes": true,
           "showland": true,
           "subunitcolor": "white"
          },
          "hoverlabel": {
           "align": "left"
          },
          "hovermode": "closest",
          "mapbox": {
           "style": "light"
          },
          "paper_bgcolor": "white",
          "plot_bgcolor": "#E5ECF6",
          "polar": {
           "angularaxis": {
            "gridcolor": "white",
            "linecolor": "white",
            "ticks": ""
           },
           "bgcolor": "#E5ECF6",
           "radialaxis": {
            "gridcolor": "white",
            "linecolor": "white",
            "ticks": ""
           }
          },
          "scene": {
           "xaxis": {
            "backgroundcolor": "#E5ECF6",
            "gridcolor": "white",
            "gridwidth": 2,
            "linecolor": "white",
            "showbackground": true,
            "ticks": "",
            "zerolinecolor": "white"
           },
           "yaxis": {
            "backgroundcolor": "#E5ECF6",
            "gridcolor": "white",
            "gridwidth": 2,
            "linecolor": "white",
            "showbackground": true,
            "ticks": "",
            "zerolinecolor": "white"
           },
           "zaxis": {
            "backgroundcolor": "#E5ECF6",
            "gridcolor": "white",
            "gridwidth": 2,
            "linecolor": "white",
            "showbackground": true,
            "ticks": "",
            "zerolinecolor": "white"
           }
          },
          "shapedefaults": {
           "line": {
            "color": "#2a3f5f"
           }
          },
          "ternary": {
           "aaxis": {
            "gridcolor": "white",
            "linecolor": "white",
            "ticks": ""
           },
           "baxis": {
            "gridcolor": "white",
            "linecolor": "white",
            "ticks": ""
           },
           "bgcolor": "#E5ECF6",
           "caxis": {
            "gridcolor": "white",
            "linecolor": "white",
            "ticks": ""
           }
          },
          "title": {
           "x": 0.05
          },
          "xaxis": {
           "automargin": true,
           "gridcolor": "white",
           "linecolor": "white",
           "ticks": "",
           "title": {
            "standoff": 15
           },
           "zerolinecolor": "white",
           "zerolinewidth": 2
          },
          "yaxis": {
           "automargin": true,
           "gridcolor": "white",
           "linecolor": "white",
           "ticks": "",
           "title": {
            "standoff": 15
           },
           "zerolinecolor": "white",
           "zerolinewidth": 2
          }
         }
        },
        "title": {
         "text": "Distribution of respondents by country"
        }
       }
      }
     },
     "metadata": {},
     "output_type": "display_data"
    }
   ],
   "source": [
    "countries = df.groupby(['Country'])['Country'].count().sort_values(ascending=False)\n",
    "#countries.iloc[:50].plot(kind='bar', figsize=(10,5))\n",
    "fig = px.scatter_geo(\n",
    "    countries,\n",
    "    locations=countries.index,  # DataFrame column with locations\n",
    "    locationmode='country names',\n",
    "    size=countries.values,  # Size of bubbles\n",
    "    color=countries.values,  # Color of bubbles\n",
    "    hover_name=countries.index,  # Text to display on hover\n",
    "    projection='natural earth',  # Choose a map projection\n",
    "    title='Distribution of respondents by country',  # Title of plot\n",
    ")\n",
    "\n",
    "# Show the plot\n",
    "fig.show()\n",
    "# Save the figure as a PNG file\n",
    "pio.write_image(fig, REPORT_PATH+'maps.png')"
   ]
  },
  {
   "cell_type": "markdown",
   "metadata": {},
   "source": [
    "The above map shows the distribution of the number of survey take in each country. USA has the most number of survey taken, followed by Europe and India. Australia and Brazil have a comparable number of survey taken. The rest of the countries have a very small number of survey taken."
   ]
  },
  {
   "cell_type": "code",
   "execution_count": 6,
   "metadata": {},
   "outputs": [
    {
     "data": {
      "text/plain": [
       "<Axes: xlabel='EdLevel'>"
      ]
     },
     "execution_count": 6,
     "metadata": {},
     "output_type": "execute_result"
    },
    {
     "data": {
      "image/png": "[encoded data removed]",
      "text/plain": [
       "<Figure size 1000x500 with 1 Axes>"
      ]
     },
     "metadata": {},
     "output_type": "display_data"
    }
   ],
   "source": [
    "df.groupby(['EdLevel'])['EdLevel'].count().sort_values(ascending=False).plot(kind='bar', figsize=(10,5))"
   ]
  },
  {
   "cell_type": "code",
   "execution_count": 7,
   "metadata": {},
   "outputs": [],
   "source": [
    "df['EdLevel'] = df['EdLevel'].fillna(\"\")\n",
    "df['EdLevel'] = [item.split(';') if item else [] for item in df['EdLevel']]\n",
    "\n",
    "\n",
    "\n",
    "encoded_dfs = {}\n",
    "for col in ROLE_COLS + SkILLS_COLS:\n",
    "    binarizer = MultiLabelBinarizer()\n",
    "    encoded_df = pd.DataFrame(binarizer.fit_transform(df[col]),\n",
    "                               columns=binarizer.classes_,\n",
    "                               index=df[col].index)\n",
    "                               \n",
    "    encoded_dfs[col] = encoded_df"
   ]
  },
  {
   "cell_type": "code",
   "execution_count": 8,
   "metadata": {},
   "outputs": [
    {
     "data": {
      "text/html": [
       "<div>\n",
       "<style scoped>\n",
       "    .dataframe tbody tr th:only-of-type {\n",
       "        vertical-align: middle;\n",
       "    }\n",
       "\n",
       "    .dataframe tbody tr th {\n",
       "        vertical-align: top;\n",
       "    }\n",
       "\n",
       "    .dataframe thead tr th {\n",
       "        text-align: left;\n",
       "    }\n",
       "</style>\n",
       "<table border=\"1\" class=\"dataframe\">\n",
       "  <thead>\n",
       "    <tr>\n",
       "      <th></th>\n",
       "      <th colspan=\"10\" halign=\"left\">DevType</th>\n",
       "      <th>...</th>\n",
       "      <th colspan=\"9\" halign=\"left\">Developer Tools</th>\n",
       "      <th>Country</th>\n",
       "    </tr>\n",
       "    <tr>\n",
       "      <th></th>\n",
       "      <th>Academic researcher</th>\n",
       "      <th>Blockchain</th>\n",
       "      <th>Cloud infrastructure engineer</th>\n",
       "      <th>Data or business analyst</th>\n",
       "      <th>Data scientist or machine learning specialist</th>\n",
       "      <th>Database administrator</th>\n",
       "      <th>DevOps specialist</th>\n",
       "      <th>Developer, QA or test</th>\n",
       "      <th>Developer, back-end</th>\n",
       "      <th>Developer, desktop or enterprise applications</th>\n",
       "      <th>...</th>\n",
       "      <th>build2</th>\n",
       "      <th>cppunit</th>\n",
       "      <th>doctest</th>\n",
       "      <th>lest</th>\n",
       "      <th>liblittletest</th>\n",
       "      <th>npm</th>\n",
       "      <th>pnpm</th>\n",
       "      <th>snitch</th>\n",
       "      <th>tunit</th>\n",
       "      <th></th>\n",
       "    </tr>\n",
       "  </thead>\n",
       "  <tbody>\n",
       "    <tr>\n",
       "      <th>0</th>\n",
       "      <td>0</td>\n",
       "      <td>0</td>\n",
       "      <td>0</td>\n",
       "      <td>0</td>\n",
       "      <td>0</td>\n",
       "      <td>0</td>\n",
       "      <td>0</td>\n",
       "      <td>0</td>\n",
       "      <td>1</td>\n",
       "      <td>0</td>\n",
       "      <td>...</td>\n",
       "      <td>0</td>\n",
       "      <td>0</td>\n",
       "      <td>0</td>\n",
       "      <td>0</td>\n",
       "      <td>0</td>\n",
       "      <td>0</td>\n",
       "      <td>0</td>\n",
       "      <td>0</td>\n",
       "      <td>0</td>\n",
       "      <td>United States of America</td>\n",
       "    </tr>\n",
       "    <tr>\n",
       "      <th>1</th>\n",
       "      <td>0</td>\n",
       "      <td>0</td>\n",
       "      <td>0</td>\n",
       "      <td>0</td>\n",
       "      <td>0</td>\n",
       "      <td>0</td>\n",
       "      <td>0</td>\n",
       "      <td>0</td>\n",
       "      <td>0</td>\n",
       "      <td>0</td>\n",
       "      <td>...</td>\n",
       "      <td>0</td>\n",
       "      <td>0</td>\n",
       "      <td>0</td>\n",
       "      <td>0</td>\n",
       "      <td>0</td>\n",
       "      <td>1</td>\n",
       "      <td>0</td>\n",
       "      <td>0</td>\n",
       "      <td>0</td>\n",
       "      <td>United States of America</td>\n",
       "    </tr>\n",
       "    <tr>\n",
       "      <th>2</th>\n",
       "      <td>0</td>\n",
       "      <td>0</td>\n",
       "      <td>0</td>\n",
       "      <td>0</td>\n",
       "      <td>0</td>\n",
       "      <td>0</td>\n",
       "      <td>0</td>\n",
       "      <td>0</td>\n",
       "      <td>0</td>\n",
       "      <td>0</td>\n",
       "      <td>...</td>\n",
       "      <td>0</td>\n",
       "      <td>0</td>\n",
       "      <td>0</td>\n",
       "      <td>0</td>\n",
       "      <td>0</td>\n",
       "      <td>1</td>\n",
       "      <td>0</td>\n",
       "      <td>0</td>\n",
       "      <td>0</td>\n",
       "      <td>Philippines</td>\n",
       "    </tr>\n",
       "    <tr>\n",
       "      <th>3</th>\n",
       "      <td>0</td>\n",
       "      <td>0</td>\n",
       "      <td>0</td>\n",
       "      <td>0</td>\n",
       "      <td>0</td>\n",
       "      <td>0</td>\n",
       "      <td>0</td>\n",
       "      <td>0</td>\n",
       "      <td>1</td>\n",
       "      <td>0</td>\n",
       "      <td>...</td>\n",
       "      <td>0</td>\n",
       "      <td>0</td>\n",
       "      <td>0</td>\n",
       "      <td>0</td>\n",
       "      <td>0</td>\n",
       "      <td>1</td>\n",
       "      <td>1</td>\n",
       "      <td>0</td>\n",
       "      <td>0</td>\n",
       "      <td>United Kingdom of Great Britain and Northern I...</td>\n",
       "    </tr>\n",
       "    <tr>\n",
       "      <th>4</th>\n",
       "      <td>0</td>\n",
       "      <td>0</td>\n",
       "      <td>0</td>\n",
       "      <td>0</td>\n",
       "      <td>0</td>\n",
       "      <td>0</td>\n",
       "      <td>0</td>\n",
       "      <td>0</td>\n",
       "      <td>0</td>\n",
       "      <td>0</td>\n",
       "      <td>...</td>\n",
       "      <td>0</td>\n",
       "      <td>0</td>\n",
       "      <td>0</td>\n",
       "      <td>0</td>\n",
       "      <td>0</td>\n",
       "      <td>1</td>\n",
       "      <td>1</td>\n",
       "      <td>0</td>\n",
       "      <td>0</td>\n",
       "      <td>United States of America</td>\n",
       "    </tr>\n",
       "    <tr>\n",
       "      <th>...</th>\n",
       "      <td>...</td>\n",
       "      <td>...</td>\n",
       "      <td>...</td>\n",
       "      <td>...</td>\n",
       "      <td>...</td>\n",
       "      <td>...</td>\n",
       "      <td>...</td>\n",
       "      <td>...</td>\n",
       "      <td>...</td>\n",
       "      <td>...</td>\n",
       "      <td>...</td>\n",
       "      <td>...</td>\n",
       "      <td>...</td>\n",
       "      <td>...</td>\n",
       "      <td>...</td>\n",
       "      <td>...</td>\n",
       "      <td>...</td>\n",
       "      <td>...</td>\n",
       "      <td>...</td>\n",
       "      <td>...</td>\n",
       "      <td>...</td>\n",
       "    </tr>\n",
       "    <tr>\n",
       "      <th>64333</th>\n",
       "      <td>0</td>\n",
       "      <td>0</td>\n",
       "      <td>0</td>\n",
       "      <td>0</td>\n",
       "      <td>0</td>\n",
       "      <td>0</td>\n",
       "      <td>0</td>\n",
       "      <td>0</td>\n",
       "      <td>0</td>\n",
       "      <td>0</td>\n",
       "      <td>...</td>\n",
       "      <td>0</td>\n",
       "      <td>0</td>\n",
       "      <td>0</td>\n",
       "      <td>0</td>\n",
       "      <td>0</td>\n",
       "      <td>0</td>\n",
       "      <td>0</td>\n",
       "      <td>0</td>\n",
       "      <td>0</td>\n",
       "      <td>United States of America</td>\n",
       "    </tr>\n",
       "    <tr>\n",
       "      <th>64334</th>\n",
       "      <td>0</td>\n",
       "      <td>0</td>\n",
       "      <td>0</td>\n",
       "      <td>0</td>\n",
       "      <td>0</td>\n",
       "      <td>0</td>\n",
       "      <td>0</td>\n",
       "      <td>0</td>\n",
       "      <td>0</td>\n",
       "      <td>0</td>\n",
       "      <td>...</td>\n",
       "      <td>0</td>\n",
       "      <td>0</td>\n",
       "      <td>0</td>\n",
       "      <td>0</td>\n",
       "      <td>0</td>\n",
       "      <td>1</td>\n",
       "      <td>0</td>\n",
       "      <td>0</td>\n",
       "      <td>0</td>\n",
       "      <td>Brazil</td>\n",
       "    </tr>\n",
       "    <tr>\n",
       "      <th>64335</th>\n",
       "      <td>0</td>\n",
       "      <td>0</td>\n",
       "      <td>0</td>\n",
       "      <td>0</td>\n",
       "      <td>0</td>\n",
       "      <td>0</td>\n",
       "      <td>0</td>\n",
       "      <td>0</td>\n",
       "      <td>1</td>\n",
       "      <td>0</td>\n",
       "      <td>...</td>\n",
       "      <td>0</td>\n",
       "      <td>0</td>\n",
       "      <td>0</td>\n",
       "      <td>0</td>\n",
       "      <td>0</td>\n",
       "      <td>0</td>\n",
       "      <td>0</td>\n",
       "      <td>0</td>\n",
       "      <td>0</td>\n",
       "      <td>Romania</td>\n",
       "    </tr>\n",
       "    <tr>\n",
       "      <th>64336</th>\n",
       "      <td>0</td>\n",
       "      <td>0</td>\n",
       "      <td>0</td>\n",
       "      <td>0</td>\n",
       "      <td>0</td>\n",
       "      <td>0</td>\n",
       "      <td>0</td>\n",
       "      <td>0</td>\n",
       "      <td>0</td>\n",
       "      <td>0</td>\n",
       "      <td>...</td>\n",
       "      <td>0</td>\n",
       "      <td>0</td>\n",
       "      <td>0</td>\n",
       "      <td>0</td>\n",
       "      <td>0</td>\n",
       "      <td>1</td>\n",
       "      <td>0</td>\n",
       "      <td>0</td>\n",
       "      <td>0</td>\n",
       "      <td>Switzerland</td>\n",
       "    </tr>\n",
       "    <tr>\n",
       "      <th>64337</th>\n",
       "      <td>0</td>\n",
       "      <td>0</td>\n",
       "      <td>0</td>\n",
       "      <td>0</td>\n",
       "      <td>0</td>\n",
       "      <td>0</td>\n",
       "      <td>0</td>\n",
       "      <td>0</td>\n",
       "      <td>0</td>\n",
       "      <td>0</td>\n",
       "      <td>...</td>\n",
       "      <td>0</td>\n",
       "      <td>0</td>\n",
       "      <td>0</td>\n",
       "      <td>0</td>\n",
       "      <td>0</td>\n",
       "      <td>1</td>\n",
       "      <td>1</td>\n",
       "      <td>0</td>\n",
       "      <td>0</td>\n",
       "      <td>Iran, Islamic Republic of...</td>\n",
       "    </tr>\n",
       "  </tbody>\n",
       "</table>\n",
       "<p>64338 rows × 254 columns</p>\n",
       "</div>"
      ],
      "text/plain": [
       "                  DevType                                           \\\n",
       "      Academic researcher Blockchain Cloud infrastructure engineer   \n",
       "0                       0          0                             0   \n",
       "1                       0          0                             0   \n",
       "2                       0          0                             0   \n",
       "3                       0          0                             0   \n",
       "4                       0          0                             0   \n",
       "...                   ...        ...                           ...   \n",
       "64333                   0          0                             0   \n",
       "64334                   0          0                             0   \n",
       "64335                   0          0                             0   \n",
       "64336                   0          0                             0   \n",
       "64337                   0          0                             0   \n",
       "\n",
       "                                                                              \\\n",
       "      Data or business analyst Data scientist or machine learning specialist   \n",
       "0                            0                                             0   \n",
       "1                            0                                             0   \n",
       "2                            0                                             0   \n",
       "3                            0                                             0   \n",
       "4                            0                                             0   \n",
       "...                        ...                                           ...   \n",
       "64333                        0                                             0   \n",
       "64334                        0                                             0   \n",
       "64335                        0                                             0   \n",
       "64336                        0                                             0   \n",
       "64337                        0                                             0   \n",
       "\n",
       "                                                                      \\\n",
       "      Database administrator DevOps specialist Developer, QA or test   \n",
       "0                          0                 0                     0   \n",
       "1                          0                 0                     0   \n",
       "2                          0                 0                     0   \n",
       "3                          0                 0                     0   \n",
       "4                          0                 0                     0   \n",
       "...                      ...               ...                   ...   \n",
       "64333                      0                 0                     0   \n",
       "64334                      0                 0                     0   \n",
       "64335                      0                 0                     0   \n",
       "64336                      0                 0                     0   \n",
       "64337                      0                 0                     0   \n",
       "\n",
       "                                                                         ...  \\\n",
       "      Developer, back-end Developer, desktop or enterprise applications  ...   \n",
       "0                       1                                             0  ...   \n",
       "1                       0                                             0  ...   \n",
       "2                       0                                             0  ...   \n",
       "3                       1                                             0  ...   \n",
       "4                       0                                             0  ...   \n",
       "...                   ...                                           ...  ...   \n",
       "64333                   0                                             0  ...   \n",
       "64334                   0                                             0  ...   \n",
       "64335                   1                                             0  ...   \n",
       "64336                   0                                             0  ...   \n",
       "64337                   0                                             0  ...   \n",
       "\n",
       "      Developer Tools                                                     \\\n",
       "               build2 cppunit doctest lest liblittletest npm pnpm snitch   \n",
       "0                   0       0       0    0             0   0    0      0   \n",
       "1                   0       0       0    0             0   1    0      0   \n",
       "2                   0       0       0    0             0   1    0      0   \n",
       "3                   0       0       0    0             0   1    1      0   \n",
       "4                   0       0       0    0             0   1    1      0   \n",
       "...               ...     ...     ...  ...           ...  ..  ...    ...   \n",
       "64333               0       0       0    0             0   0    0      0   \n",
       "64334               0       0       0    0             0   1    0      0   \n",
       "64335               0       0       0    0             0   0    0      0   \n",
       "64336               0       0       0    0             0   1    0      0   \n",
       "64337               0       0       0    0             0   1    1      0   \n",
       "\n",
       "                                                       Country  \n",
       "      tunit                                                     \n",
       "0         0                           United States of America  \n",
       "1         0                           United States of America  \n",
       "2         0                                        Philippines  \n",
       "3         0  United Kingdom of Great Britain and Northern I...  \n",
       "4         0                           United States of America  \n",
       "...     ...                                                ...  \n",
       "64333     0                           United States of America  \n",
       "64334     0                                             Brazil  \n",
       "64335     0                                            Romania  \n",
       "64336     0                                        Switzerland  \n",
       "64337     0                       Iran, Islamic Republic of...  \n",
       "\n",
       "[64338 rows x 254 columns]"
      ]
     },
     "execution_count": 8,
     "metadata": {},
     "output_type": "execute_result"
    }
   ],
   "source": [
    "encoded_df = pd.concat(encoded_dfs, axis=1)\n",
    "encoded_df['Country'] = df['Country']   \n",
    "encoded_df"
   ]
  },
  {
   "cell_type": "code",
   "execution_count": 23,
   "metadata": {},
   "outputs": [
    {
     "data": {
      "application/vnd.plotly.v1+json": {
       "config": {
        "plotlyServerURL": "https://plot.ly"
       },
       "data": [
        {
         "alignmentgroup": "True",
         "hovertemplate": "job=Developer, full-stack<br>nation=%{x}<br>count=%{y}<extra></extra>",
         "legendgroup": "Developer, full-stack",
         "marker": {
          "color": "#636efa",
          "pattern": {
           "shape": ""
          }
         },
         "name": "Developer, full-stack",
         "offsetgroup": "Developer, full-stack",
         "orientation": "v",
         "showlegend": true,
         "textposition": "auto",
         "type": "bar",
         "x": [
          "United States of America",
          "Germany",
          "United Kingdom of Great Britain and Northern Ireland",
          "India",
          "Canada",
          "France",
          "Poland",
          "Netherlands",
          "Brazil"
         ],
         "xaxis": "x",
         "y": [
          38.21894171779141,
          34.3110672911018,
          37.484700122399026,
          35.1813110181311,
          39.55874807593638,
          37.05275924802911,
          26.954732510288064,
          33.821376281112734,
          37.021630615640596
         ],
         "yaxis": "y"
        },
        {
         "alignmentgroup": "True",
         "hovertemplate": "job=Developer, back-end<br>nation=%{x}<br>count=%{y}<extra></extra>",
         "legendgroup": "Developer, back-end",
         "marker": {
          "color": "#EF553B",
          "pattern": {
           "shape": ""
          }
         },
         "name": "Developer, back-end",
         "offsetgroup": "Developer, back-end",
         "orientation": "v",
         "showlegend": true,
         "textposition": "auto",
         "type": "bar",
         "x": [
          "United States of America",
          "Germany",
          "United Kingdom of Great Britain and Northern Ireland",
          "India",
          "Canada",
          "France",
          "Poland",
          "Netherlands",
          "Brazil"
         ],
         "xaxis": "x",
         "y": [
          19.382668711656443,
          19.152082819817597,
          22.827417380660954,
          24.267782426778243,
          20.72857875833761,
          17.95027289266222,
          31.275720164609055,
          26.866764275256223,
          25.291181364392678
         ],
         "yaxis": "y"
        },
        {
         "alignmentgroup": "True",
         "hovertemplate": "job=Developer, front-end<br>nation=%{x}<br>count=%{y}<extra></extra>",
         "legendgroup": "Developer, front-end",
         "marker": {
          "color": "#00cc96",
          "pattern": {
           "shape": ""
          }
         },
         "name": "Developer, front-end",
         "offsetgroup": "Developer, front-end",
         "orientation": "v",
         "showlegend": true,
         "textposition": "auto",
         "type": "bar",
         "x": [
          "United States of America",
          "Germany",
          "United Kingdom of Great Britain and Northern Ireland",
          "India",
          "Canada",
          "France",
          "Poland",
          "Netherlands",
          "Brazil"
         ],
         "xaxis": "x",
         "y": [
          6.7676380368098155,
          6.852353956125215,
          6.5177478580171355,
          13.423988842398884,
          6.926629040533607,
          6.428138265615524,
          8.50480109739369,
          6.954612005856515,
          8.402662229617304
         ],
         "yaxis": "y"
        },
        {
         "alignmentgroup": "True",
         "hovertemplate": "job=Developer, desktop or enterprise applications<br>nation=%{x}<br>count=%{y}<extra></extra>",
         "legendgroup": "Developer, desktop or enterprise applications",
         "marker": {
          "color": "#ab63fa",
          "pattern": {
           "shape": ""
          }
         },
         "name": "Developer, desktop or enterprise applications",
         "offsetgroup": "Developer, desktop or enterprise applications",
         "orientation": "v",
         "showlegend": true,
         "textposition": "auto",
         "type": "bar",
         "x": [
          "United States of America",
          "Germany",
          "United Kingdom of Great Britain and Northern Ireland",
          "India",
          "Canada",
          "France",
          "Poland",
          "Netherlands",
          "Brazil"
         ],
         "xaxis": "x",
         "y": [
          6.499233128834356,
          9.169336948484101,
          6.7013463892288865,
          3.5913528591352857,
          7.388404309902515,
          6.973923590054579,
          5.829903978052126,
          6.515373352855051,
          6.4891846921797
         ],
         "yaxis": "y"
        },
        {
         "alignmentgroup": "True",
         "hovertemplate": "job=Developer, embedded applications or devices<br>nation=%{x}<br>count=%{y}<extra></extra>",
         "legendgroup": "Developer, embedded applications or devices",
         "marker": {
          "color": "#FFA15A",
          "pattern": {
           "shape": ""
          }
         },
         "name": "Developer, embedded applications or devices",
         "offsetgroup": "Developer, embedded applications or devices",
         "orientation": "v",
         "showlegend": true,
         "textposition": "auto",
         "type": "bar",
         "x": [
          "United States of America",
          "Germany",
          "United Kingdom of Great Britain and Northern Ireland",
          "India",
          "Canada",
          "France",
          "Poland",
          "Netherlands",
          "Brazil"
         ],
         "xaxis": "x",
         "y": [
          3.8918711656441713,
          4.387478432339167,
          3.243574051407589,
          1.6039051603905161,
          2.5141097998973834,
          3.4566403881140086,
          3.7037037037037033,
          3.513909224011713,
          1.4143094841930115
         ],
         "yaxis": "y"
        },
        {
         "alignmentgroup": "True",
         "hovertemplate": "job=Developer, mobile<br>nation=%{x}<br>count=%{y}<extra></extra>",
         "legendgroup": "Developer, mobile",
         "marker": {
          "color": "#19d3f3",
          "pattern": {
           "shape": ""
          }
         },
         "name": "Developer, mobile",
         "offsetgroup": "Developer, mobile",
         "orientation": "v",
         "showlegend": true,
         "textposition": "auto",
         "type": "bar",
         "x": [
          "United States of America",
          "Germany",
          "United Kingdom of Great Britain and Northern Ireland",
          "India",
          "Canada",
          "France",
          "Poland",
          "Netherlands",
          "Brazil"
         ],
         "xaxis": "x",
         "y": [
          3.0866564417177913,
          3.5987182647276317,
          3.2129742962056307,
          8.507670850767084,
          3.1811185223191383,
          4.487568223165555,
          6.104252400548696,
          3.294289897510981,
          4.575707154742097
         ],
         "yaxis": "y"
        },
        {
         "alignmentgroup": "True",
         "hovertemplate": "job=Data scientist or machine learning specialist<br>nation=%{x}<br>count=%{y}<extra></extra>",
         "legendgroup": "Data scientist or machine learning specialist",
         "marker": {
          "color": "#FF6692",
          "pattern": {
           "shape": ""
          }
         },
         "name": "Data scientist or machine learning specialist",
         "offsetgroup": "Data scientist or machine learning specialist",
         "orientation": "v",
         "showlegend": true,
         "textposition": "auto",
         "type": "bar",
         "x": [
          "United States of America",
          "Germany",
          "United Kingdom of Great Britain and Northern Ireland",
          "India",
          "Canada",
          "France",
          "Poland",
          "Netherlands",
          "Brazil"
         ],
         "xaxis": "x",
         "y": [
          2.5786042944785277,
          2.3416317475967463,
          2.6621787025703796,
          2.789400278940028,
          2.1549512570549,
          2.9108550636749544,
          2.05761316872428,
          2.2693997071742316,
          2.579034941763727
         ],
         "yaxis": "y"
        },
        {
         "alignmentgroup": "True",
         "hovertemplate": "job=Research & Development role<br>nation=%{x}<br>count=%{y}<extra></extra>",
         "legendgroup": "Research & Development role",
         "marker": {
          "color": "#B6E880",
          "pattern": {
           "shape": ""
          }
         },
         "name": "Research & Development role",
         "offsetgroup": "Research & Development role",
         "orientation": "v",
         "showlegend": true,
         "textposition": "auto",
         "type": "bar",
         "x": [
          "United States of America",
          "Germany",
          "United Kingdom of Great Britain and Northern Ireland",
          "India",
          "Canada",
          "France",
          "Poland",
          "Netherlands",
          "Brazil"
         ],
         "xaxis": "x",
         "y": [
          2.338957055214724,
          2.119792950456002,
          2.203182374541004,
          1.4993026499302649,
          2.0010261672652643,
          3.6385688295936935,
          1.3031550068587106,
          2.4890190336749636,
          1.497504159733777
         ],
         "yaxis": "y"
        },
        {
         "alignmentgroup": "True",
         "hovertemplate": "job=Engineer, data<br>nation=%{x}<br>count=%{y}<extra></extra>",
         "legendgroup": "Engineer, data",
         "marker": {
          "color": "#FF97FF",
          "pattern": {
           "shape": ""
          }
         },
         "name": "Engineer, data",
         "offsetgroup": "Engineer, data",
         "orientation": "v",
         "showlegend": true,
         "textposition": "auto",
         "type": "bar",
         "x": [
          "United States of America",
          "Germany",
          "United Kingdom of Great Britain and Northern Ireland",
          "India",
          "Canada",
          "France",
          "Poland",
          "Netherlands",
          "Brazil"
         ],
         "xaxis": "x",
         "y": [
          2.310199386503067,
          1.9965491742666996,
          2.386780905752754,
          1.882845188284519,
          1.2314007183170856,
          2.668283808368708,
          2.263374485596708,
          2.049780380673499,
          1.497504159733777
         ],
         "yaxis": "y"
        },
        {
         "alignmentgroup": "True",
         "hovertemplate": "job=Cloud infrastructure engineer<br>nation=%{x}<br>count=%{y}<extra></extra>",
         "legendgroup": "Cloud infrastructure engineer",
         "marker": {
          "color": "#FECB52",
          "pattern": {
           "shape": ""
          }
         },
         "name": "Cloud infrastructure engineer",
         "offsetgroup": "Cloud infrastructure engineer",
         "orientation": "v",
         "showlegend": true,
         "textposition": "auto",
         "type": "bar",
         "x": [
          "United States of America",
          "Germany",
          "United Kingdom of Great Britain and Northern Ireland",
          "India",
          "Canada",
          "France",
          "Poland",
          "Netherlands",
          "Brazil"
         ],
         "xaxis": "x",
         "y": [
          2.1855828220858893,
          1.676115356174513,
          1.2545899632802937,
          0.7322175732217573,
          1.7957927142124166,
          1.0915706488781078,
          1.3717421124828533,
          1.7569546120058566,
          0.9151414309484194
         ],
         "yaxis": "y"
        },
        {
         "alignmentgroup": "True",
         "hovertemplate": "job=Academic researcher<br>nation=%{x}<br>count=%{y}<extra></extra>",
         "legendgroup": "Academic researcher",
         "marker": {
          "color": "#636efa",
          "pattern": {
           "shape": ""
          }
         },
         "name": "Academic researcher",
         "offsetgroup": "Academic researcher",
         "orientation": "v",
         "showlegend": true,
         "textposition": "auto",
         "type": "bar",
         "x": [
          "United States of America",
          "Germany",
          "United Kingdom of Great Britain and Northern Ireland",
          "India",
          "Canada",
          "France",
          "Poland",
          "Netherlands",
          "Brazil"
         ],
         "xaxis": "x",
         "y": [
          1.763803680981595,
          5.447374907567168,
          1.591187270501836,
          0.4532775453277545,
          1.1287839917906617,
          3.820497271073378,
          0.6858710562414266,
          2.342606149341142,
          1.9966722129783694
         ],
         "yaxis": "y"
        },
        {
         "alignmentgroup": "True",
         "hovertemplate": "job=DevOps specialist<br>nation=%{x}<br>count=%{y}<extra></extra>",
         "legendgroup": "DevOps specialist",
         "marker": {
          "color": "#EF553B",
          "pattern": {
           "shape": ""
          }
         },
         "name": "DevOps specialist",
         "offsetgroup": "DevOps specialist",
         "orientation": "v",
         "showlegend": true,
         "textposition": "auto",
         "type": "bar",
         "x": [
          "United States of America",
          "Germany",
          "United Kingdom of Great Britain and Northern Ireland",
          "India",
          "Canada",
          "France",
          "Poland",
          "Netherlands",
          "Brazil"
         ],
         "xaxis": "x",
         "y": [
          1.7542177914110428,
          2.2676854818831647,
          1.8971848225214198,
          1.3598326359832638,
          2.5141097998973834,
          2.0012128562765312,
          2.7434842249657065,
          2.049780380673499,
          1.497504159733777
         ],
         "yaxis": "y"
        },
        {
         "alignmentgroup": "True",
         "hovertemplate": "job=Data or business analyst<br>nation=%{x}<br>count=%{y}<extra></extra>",
         "legendgroup": "Data or business analyst",
         "marker": {
          "color": "#00cc96",
          "pattern": {
           "shape": ""
          }
         },
         "name": "Data or business analyst",
         "offsetgroup": "Data or business analyst",
         "orientation": "v",
         "showlegend": true,
         "textposition": "auto",
         "type": "bar",
         "x": [
          "United States of America",
          "Germany",
          "United Kingdom of Great Britain and Northern Ireland",
          "India",
          "Canada",
          "France",
          "Poland",
          "Netherlands",
          "Brazil"
         ],
         "xaxis": "x",
         "y": [
          1.687116564417178,
          0.862706433325117,
          1.5299877600979193,
          0.906555090655509,
          1.1800923550538738,
          0.667070952092177,
          1.1659807956104253,
          1.0248901903367496,
          2.0798668885191347
         ],
         "yaxis": "y"
        },
        {
         "alignmentgroup": "True",
         "hovertemplate": "job=Developer, game or graphics<br>nation=%{x}<br>count=%{y}<extra></extra>",
         "legendgroup": "Developer, game or graphics",
         "marker": {
          "color": "#ab63fa",
          "pattern": {
           "shape": ""
          }
         },
         "name": "Developer, game or graphics",
         "offsetgroup": "Developer, game or graphics",
         "orientation": "v",
         "showlegend": true,
         "textposition": "auto",
         "type": "bar",
         "x": [
          "United States of America",
          "Germany",
          "United Kingdom of Great Britain and Northern Ireland",
          "India",
          "Canada",
          "France",
          "Poland",
          "Netherlands",
          "Brazil"
         ],
         "xaxis": "x",
         "y": [
          1.236579754601227,
          1.0845452304658614,
          1.7135862913096693,
          0.5578800557880056,
          2.9758850692662904,
          1.879927228623408,
          1.440329218106996,
          1.2445095168374818,
          0.49916805324459235
         ],
         "yaxis": "y"
        },
        {
         "alignmentgroup": "True",
         "hovertemplate": "job=System administrator<br>nation=%{x}<br>count=%{y}<extra></extra>",
         "legendgroup": "System administrator",
         "marker": {
          "color": "#FFA15A",
          "pattern": {
           "shape": ""
          }
         },
         "name": "System administrator",
         "offsetgroup": "System administrator",
         "orientation": "v",
         "showlegend": true,
         "textposition": "auto",
         "type": "bar",
         "x": [
          "United States of America",
          "Germany",
          "United Kingdom of Great Britain and Northern Ireland",
          "India",
          "Canada",
          "France",
          "Poland",
          "Netherlands",
          "Brazil"
         ],
         "xaxis": "x",
         "y": [
          1.169478527607362,
          1.257086517130885,
          1.0709914320685434,
          0.17433751743375175,
          0.8722421754746024,
          0.4851425106124924,
          1.1659807956104253,
          0.36603221083455345,
          0.4159733777038269
         ],
         "yaxis": "y"
        },
        {
         "alignmentgroup": "True",
         "hovertemplate": "job=Developer, QA or test<br>nation=%{x}<br>count=%{y}<extra></extra>",
         "legendgroup": "Developer, QA or test",
         "marker": {
          "color": "#19d3f3",
          "pattern": {
           "shape": ""
          }
         },
         "name": "Developer, QA or test",
         "offsetgroup": "Developer, QA or test",
         "orientation": "v",
         "showlegend": true,
         "textposition": "auto",
         "type": "bar",
         "x": [
          "United States of America",
          "Germany",
          "United Kingdom of Great Britain and Northern Ireland",
          "India",
          "Canada",
          "France",
          "Poland",
          "Netherlands",
          "Brazil"
         ],
         "xaxis": "x",
         "y": [
          0.9394171779141104,
          0.8873551885629777,
          0.7343941248470013,
          1.2203626220362622,
          0.513083632632119,
          0.667070952092177,
          1.7832647462277091,
          0.8052708638360175,
          1.0815307820299502
         ],
         "yaxis": "y"
        },
        {
         "alignmentgroup": "True",
         "hovertemplate": "job=Scientist<br>nation=%{x}<br>count=%{y}<extra></extra>",
         "legendgroup": "Scientist",
         "marker": {
          "color": "#FF6692",
          "pattern": {
           "shape": ""
          }
         },
         "name": "Scientist",
         "offsetgroup": "Scientist",
         "orientation": "v",
         "showlegend": true,
         "textposition": "auto",
         "type": "bar",
         "x": [
          "United States of America",
          "Germany",
          "United Kingdom of Great Britain and Northern Ireland",
          "India",
          "Canada",
          "France",
          "Poland",
          "Netherlands",
          "Brazil"
         ],
         "xaxis": "x",
         "y": [
          0.9202453987730062,
          0.6901651466600937,
          0.5813953488372093,
          0.0697350069735007,
          0.513083632632119,
          0.6064281382656156,
          0.1371742112482853,
          0.6588579795021963,
          0.33277870216306155
         ],
         "yaxis": "y"
        },
        {
         "alignmentgroup": "True",
         "hovertemplate": "job=Engineer, site reliability<br>nation=%{x}<br>count=%{y}<extra></extra>",
         "legendgroup": "Engineer, site reliability",
         "marker": {
          "color": "#B6E880",
          "pattern": {
           "shape": ""
          }
         },
         "name": "Engineer, site reliability",
         "offsetgroup": "Engineer, site reliability",
         "orientation": "v",
         "showlegend": true,
         "textposition": "auto",
         "type": "bar",
         "x": [
          "United States of America",
          "Germany",
          "United Kingdom of Great Britain and Northern Ireland",
          "India",
          "Canada",
          "France",
          "Poland",
          "Netherlands",
          "Brazil"
         ],
         "xaxis": "x",
         "y": [
          0.8723159509202454,
          0.2957850628543258,
          0.6119951040391677,
          0.20920502092050208,
          0.7696254489481785,
          0.667070952092177,
          0.205761316872428,
          0.5124450951683748,
          0.6655574043261231
         ],
         "yaxis": "y"
        },
        {
         "alignmentgroup": "True",
         "hovertemplate": "job=Security professional<br>nation=%{x}<br>count=%{y}<extra></extra>",
         "legendgroup": "Security professional",
         "marker": {
          "color": "#FF97FF",
          "pattern": {
           "shape": ""
          }
         },
         "name": "Security professional",
         "offsetgroup": "Security professional",
         "orientation": "v",
         "showlegend": true,
         "textposition": "auto",
         "type": "bar",
         "x": [
          "United States of America",
          "Germany",
          "United Kingdom of Great Britain and Northern Ireland",
          "India",
          "Canada",
          "France",
          "Poland",
          "Netherlands",
          "Brazil"
         ],
         "xaxis": "x",
         "y": [
          0.8723159509202454,
          0.6901651466600937,
          0.642594859241126,
          0.41841004184100417,
          0.6157003591585428,
          0.9702850212249848,
          0.3429355281207133,
          0.5856515373352855,
          0.6655574043261231
         ],
         "yaxis": "y"
        },
        {
         "alignmentgroup": "True",
         "hovertemplate": "job=Hardware Engineer<br>nation=%{x}<br>count=%{y}<extra></extra>",
         "legendgroup": "Hardware Engineer",
         "marker": {
          "color": "#FECB52",
          "pattern": {
           "shape": ""
          }
         },
         "name": "Hardware Engineer",
         "offsetgroup": "Hardware Engineer",
         "orientation": "v",
         "showlegend": true,
         "textposition": "auto",
         "type": "bar",
         "x": [
          "United States of America",
          "Germany",
          "United Kingdom of Great Britain and Northern Ireland",
          "India",
          "Canada",
          "France",
          "Poland",
          "Netherlands",
          "Brazil"
         ],
         "xaxis": "x",
         "y": [
          0.651840490797546,
          0.32043381809218635,
          0.642594859241126,
          0.20920502092050208,
          0.513083632632119,
          0.6064281382656156,
          0.1371742112482853,
          0.36603221083455345,
          0.08319467554076539
         ],
         "yaxis": "y"
        },
        {
         "alignmentgroup": "True",
         "hovertemplate": "job=Database administrator<br>nation=%{x}<br>count=%{y}<extra></extra>",
         "legendgroup": "Database administrator",
         "marker": {
          "color": "#636efa",
          "pattern": {
           "shape": ""
          }
         },
         "name": "Database administrator",
         "offsetgroup": "Database administrator",
         "orientation": "v",
         "showlegend": true,
         "textposition": "auto",
         "type": "bar",
         "x": [
          "United States of America",
          "Germany",
          "United Kingdom of Great Britain and Northern Ireland",
          "India",
          "Canada",
          "France",
          "Poland",
          "Netherlands",
          "Brazil"
         ],
         "xaxis": "x",
         "y": [
          0.5655674846625767,
          0.3697313285679073,
          0.36719706242350064,
          0.3138075313807531,
          0.5643919958953308,
          0.3032140691328078,
          0.2743484224965706,
          0.36603221083455345,
          0.5823627287853578
         ],
         "yaxis": "y"
        },
        {
         "alignmentgroup": "True",
         "hovertemplate": "job=Blockchain<br>nation=%{x}<br>count=%{y}<extra></extra>",
         "legendgroup": "Blockchain",
         "marker": {
          "color": "#EF553B",
          "pattern": {
           "shape": ""
          }
         },
         "name": "Blockchain",
         "offsetgroup": "Blockchain",
         "orientation": "v",
         "showlegend": true,
         "textposition": "auto",
         "type": "bar",
         "x": [
          "United States of America",
          "Germany",
          "United Kingdom of Great Britain and Northern Ireland",
          "India",
          "Canada",
          "France",
          "Poland",
          "Netherlands",
          "Brazil"
         ],
         "xaxis": "x",
         "y": [
          0.3067484662576687,
          0.22183879714074442,
          0.12239902080783352,
          0.6276150627615062,
          0.35915854284248333,
          0.667070952092177,
          0.5486968449931412,
          0.14641288433382138,
          0.4159733777038269
         ],
         "yaxis": "y"
        }
       ],
       "layout": {
        "barmode": "stack",
        "height": 800,
        "legend": {
         "title": {
          "text": "job"
         },
         "tracegroupgap": 0
        },
        "template": {
         "data": {
          "bar": [
           {
            "error_x": {
             "color": "#2a3f5f"
            },
            "error_y": {
             "color": "#2a3f5f"
            },
            "marker": {
             "line": {
              "color": "#E5ECF6",
              "width": 0.5
             },
             "pattern": {
              "fillmode": "overlay",
              "size": 10,
              "solidity": 0.2
             }
            },
            "type": "bar"
           }
          ],
          "barpolar": [
           {
            "marker": {
             "line": {
              "color": "#E5ECF6",
              "width": 0.5
             },
             "pattern": {
              "fillmode": "overlay",
              "size": 10,
              "solidity": 0.2
             }
            },
            "type": "barpolar"
           }
          ],
          "carpet": [
           {
            "aaxis": {
             "endlinecolor": "#2a3f5f",
             "gridcolor": "white",
             "linecolor": "white",
             "minorgridcolor": "white",
             "startlinecolor": "#2a3f5f"
            },
            "baxis": {
             "endlinecolor": "#2a3f5f",
             "gridcolor": "white",
             "linecolor": "white",
             "minorgridcolor": "white",
             "startlinecolor": "#2a3f5f"
            },
            "type": "carpet"
           }
          ],
          "choropleth": [
           {
            "colorbar": {
             "outlinewidth": 0,
             "ticks": ""
            },
            "type": "choropleth"
           }
          ],
          "contour": [
           {
            "colorbar": {
             "outlinewidth": 0,
             "ticks": ""
            },
            "colorscale": [
             [
              0,
              "#0d0887"
             ],
             [
              0.1111111111111111,
              "#46039f"
             ],
             [
              0.2222222222222222,
              "#7201a8"
             ],
             [
              0.3333333333333333,
              "#9c179e"
             ],
             [
              0.4444444444444444,
              "#bd3786"
             ],
             [
              0.5555555555555556,
              "#d8576b"
             ],
             [
              0.6666666666666666,
              "#ed7953"
             ],
             [
              0.7777777777777778,
              "#fb9f3a"
             ],
             [
              0.8888888888888888,
              "#fdca26"
             ],
             [
              1,
              "#f0f921"
             ]
            ],
            "type": "contour"
           }
          ],
          "contourcarpet": [
           {
            "colorbar": {
             "outlinewidth": 0,
             "ticks": ""
            },
            "type": "contourcarpet"
           }
          ],
          "heatmap": [
           {
            "colorbar": {
             "outlinewidth": 0,
             "ticks": ""
            },
            "colorscale": [
             [
              0,
              "#0d0887"
             ],
             [
              0.1111111111111111,
              "#46039f"
             ],
             [
              0.2222222222222222,
              "#7201a8"
             ],
             [
              0.3333333333333333,
              "#9c179e"
             ],
             [
              0.4444444444444444,
              "#bd3786"
             ],
             [
              0.5555555555555556,
              "#d8576b"
             ],
             [
              0.6666666666666666,
              "#ed7953"
             ],
             [
              0.7777777777777778,
              "#fb9f3a"
             ],
             [
              0.8888888888888888,
              "#fdca26"
             ],
             [
              1,
              "#f0f921"
             ]
            ],
            "type": "heatmap"
           }
          ],
          "heatmapgl": [
           {
            "colorbar": {
             "outlinewidth": 0,
             "ticks": ""
            },
            "colorscale": [
             [
              0,
              "#0d0887"
             ],
             [
              0.1111111111111111,
              "#46039f"
             ],
             [
              0.2222222222222222,
              "#7201a8"
             ],
             [
              0.3333333333333333,
              "#9c179e"
             ],
             [
              0.4444444444444444,
              "#bd3786"
             ],
             [
              0.5555555555555556,
              "#d8576b"
             ],
             [
              0.6666666666666666,
              "#ed7953"
             ],
             [
              0.7777777777777778,
              "#fb9f3a"
             ],
             [
              0.8888888888888888,
              "#fdca26"
             ],
             [
              1,
              "#f0f921"
             ]
            ],
            "type": "heatmapgl"
           }
          ],
          "histogram": [
           {
            "marker": {
             "pattern": {
              "fillmode": "overlay",
              "size": 10,
              "solidity": 0.2
             }
            },
            "type": "histogram"
           }
          ],
          "histogram2d": [
           {
            "colorbar": {
             "outlinewidth": 0,
             "ticks": ""
            },
            "colorscale": [
             [
              0,
              "#0d0887"
             ],
             [
              0.1111111111111111,
              "#46039f"
             ],
             [
              0.2222222222222222,
              "#7201a8"
             ],
             [
              0.3333333333333333,
              "#9c179e"
             ],
             [
              0.4444444444444444,
              "#bd3786"
             ],
             [
              0.5555555555555556,
              "#d8576b"
             ],
             [
              0.6666666666666666,
              "#ed7953"
             ],
             [
              0.7777777777777778,
              "#fb9f3a"
             ],
             [
              0.8888888888888888,
              "#fdca26"
             ],
             [
              1,
              "#f0f921"
             ]
            ],
            "type": "histogram2d"
           }
          ],
          "histogram2dcontour": [
           {
            "colorbar": {
             "outlinewidth": 0,
             "ticks": ""
            },
            "colorscale": [
             [
              0,
              "#0d0887"
             ],
             [
              0.1111111111111111,
              "#46039f"
             ],
             [
              0.2222222222222222,
              "#7201a8"
             ],
             [
              0.3333333333333333,
              "#9c179e"
             ],
             [
              0.4444444444444444,
              "#bd3786"
             ],
             [
              0.5555555555555556,
              "#d8576b"
             ],
             [
              0.6666666666666666,
              "#ed7953"
             ],
             [
              0.7777777777777778,
              "#fb9f3a"
             ],
             [
              0.8888888888888888,
              "#fdca26"
             ],
             [
              1,
              "#f0f921"
             ]
            ],
            "type": "histogram2dcontour"
           }
          ],
          "mesh3d": [
           {
            "colorbar": {
             "outlinewidth": 0,
             "ticks": ""
            },
            "type": "mesh3d"
           }
          ],
          "parcoords": [
           {
            "line": {
             "colorbar": {
              "outlinewidth": 0,
              "ticks": ""
             }
            },
            "type": "parcoords"
           }
          ],
          "pie": [
           {
            "automargin": true,
            "type": "pie"
           }
          ],
          "scatter": [
           {
            "fillpattern": {
             "fillmode": "overlay",
             "size": 10,
             "solidity": 0.2
            },
            "type": "scatter"
           }
          ],
          "scatter3d": [
           {
            "line": {
             "colorbar": {
              "outlinewidth": 0,
              "ticks": ""
             }
            },
            "marker": {
             "colorbar": {
              "outlinewidth": 0,
              "ticks": ""
             }
            },
            "type": "scatter3d"
           }
          ],
          "scattercarpet": [
           {
            "marker": {
             "colorbar": {
              "outlinewidth": 0,
              "ticks": ""
             }
            },
            "type": "scattercarpet"
           }
          ],
          "scattergeo": [
           {
            "marker": {
             "colorbar": {
              "outlinewidth": 0,
              "ticks": ""
             }
            },
            "type": "scattergeo"
           }
          ],
          "scattergl": [
           {
            "marker": {
             "colorbar": {
              "outlinewidth": 0,
              "ticks": ""
             }
            },
            "type": "scattergl"
           }
          ],
          "scattermapbox": [
           {
            "marker": {
             "colorbar": {
              "outlinewidth": 0,
              "ticks": ""
             }
            },
            "type": "scattermapbox"
           }
          ],
          "scatterpolar": [
           {
            "marker": {
             "colorbar": {
              "outlinewidth": 0,
              "ticks": ""
             }
            },
            "type": "scatterpolar"
           }
          ],
          "scatterpolargl": [
           {
            "marker": {
             "colorbar": {
              "outlinewidth": 0,
              "ticks": ""
             }
            },
            "type": "scatterpolargl"
           }
          ],
          "scatterternary": [
           {
            "marker": {
             "colorbar": {
              "outlinewidth": 0,
              "ticks": ""
             }
            },
            "type": "scatterternary"
           }
          ],
          "surface": [
           {
            "colorbar": {
             "outlinewidth": 0,
             "ticks": ""
            },
            "colorscale": [
             [
              0,
              "#0d0887"
             ],
             [
              0.1111111111111111,
              "#46039f"
             ],
             [
              0.2222222222222222,
              "#7201a8"
             ],
             [
              0.3333333333333333,
              "#9c179e"
             ],
             [
              0.4444444444444444,
              "#bd3786"
             ],
             [
              0.5555555555555556,
              "#d8576b"
             ],
             [
              0.6666666666666666,
              "#ed7953"
             ],
             [
              0.7777777777777778,
              "#fb9f3a"
             ],
             [
              0.8888888888888888,
              "#fdca26"
             ],
             [
              1,
              "#f0f921"
             ]
            ],
            "type": "surface"
           }
          ],
          "table": [
           {
            "cells": {
             "fill": {
              "color": "#EBF0F8"
             },
             "line": {
              "color": "white"
             }
            },
            "header": {
             "fill": {
              "color": "#C8D4E3"
             },
             "line": {
              "color": "white"
             }
            },
            "type": "table"
           }
          ]
         },
         "layout": {
          "annotationdefaults": {
           "arrowcolor": "#2a3f5f",
           "arrowhead": 0,
           "arrowwidth": 1
          },
          "autotypenumbers": "strict",
          "coloraxis": {
           "colorbar": {
            "outlinewidth": 0,
            "ticks": ""
           }
          },
          "colorscale": {
           "diverging": [
            [
             0,
             "#8e0152"
            ],
            [
             0.1,
             "#c51b7d"
            ],
            [
             0.2,
             "#de77ae"
            ],
            [
             0.3,
             "#f1b6da"
            ],
            [
             0.4,
             "#fde0ef"
            ],
            [
             0.5,
             "#f7f7f7"
            ],
            [
             0.6,
             "#e6f5d0"
            ],
            [
             0.7,
             "#b8e186"
            ],
            [
             0.8,
             "#7fbc41"
            ],
            [
             0.9,
             "#4d9221"
            ],
            [
             1,
             "#276419"
            ]
           ],
           "sequential": [
            [
             0,
             "#0d0887"
            ],
            [
             0.1111111111111111,
             "#46039f"
            ],
            [
             0.2222222222222222,
             "#7201a8"
            ],
            [
             0.3333333333333333,
             "#9c179e"
            ],
            [
             0.4444444444444444,
             "#bd3786"
            ],
            [
             0.5555555555555556,
             "#d8576b"
            ],
            [
             0.6666666666666666,
             "#ed7953"
            ],
            [
             0.7777777777777778,
             "#fb9f3a"
            ],
            [
             0.8888888888888888,
             "#fdca26"
            ],
            [
             1,
             "#f0f921"
            ]
           ],
           "sequentialminus": [
            [
             0,
             "#0d0887"
            ],
            [
             0.1111111111111111,
             "#46039f"
            ],
            [
             0.2222222222222222,
             "#7201a8"
            ],
            [
             0.3333333333333333,
             "#9c179e"
            ],
            [
             0.4444444444444444,
             "#bd3786"
            ],
            [
             0.5555555555555556,
             "#d8576b"
            ],
            [
             0.6666666666666666,
             "#ed7953"
            ],
            [
             0.7777777777777778,
             "#fb9f3a"
            ],
            [
             0.8888888888888888,
             "#fdca26"
            ],
            [
             1,
             "#f0f921"
            ]
           ]
          },
          "colorway": [
           "#636efa",
           "#EF553B",
           "#00cc96",
           "#ab63fa",
           "#FFA15A",
           "#19d3f3",
           "#FF6692",
           "#B6E880",
           "#FF97FF",
           "#FECB52"
          ],
          "font": {
           "color": "#2a3f5f"
          },
          "geo": {
           "bgcolor": "white",
           "lakecolor": "white",
           "landcolor": "#E5ECF6",
           "showlakes": true,
           "showland": true,
           "subunitcolor": "white"
          },
          "hoverlabel": {
           "align": "left"
          },
          "hovermode": "closest",
          "mapbox": {
           "style": "light"
          },
          "paper_bgcolor": "white",
          "plot_bgcolor": "#E5ECF6",
          "polar": {
           "angularaxis": {
            "gridcolor": "white",
            "linecolor": "white",
            "ticks": ""
           },
           "bgcolor": "#E5ECF6",
           "radialaxis": {
            "gridcolor": "white",
            "linecolor": "white",
            "ticks": ""
           }
          },
          "scene": {
           "xaxis": {
            "backgroundcolor": "#E5ECF6",
            "gridcolor": "white",
            "gridwidth": 2,
            "linecolor": "white",
            "showbackground": true,
            "ticks": "",
            "zerolinecolor": "white"
           },
           "yaxis": {
            "backgroundcolor": "#E5ECF6",
            "gridcolor": "white",
            "gridwidth": 2,
            "linecolor": "white",
            "showbackground": true,
            "ticks": "",
            "zerolinecolor": "white"
           },
           "zaxis": {
            "backgroundcolor": "#E5ECF6",
            "gridcolor": "white",
            "gridwidth": 2,
            "linecolor": "white",
            "showbackground": true,
            "ticks": "",
            "zerolinecolor": "white"
           }
          },
          "shapedefaults": {
           "line": {
            "color": "#2a3f5f"
           }
          },
          "ternary": {
           "aaxis": {
            "gridcolor": "white",
            "linecolor": "white",
            "ticks": ""
           },
           "baxis": {
            "gridcolor": "white",
            "linecolor": "white",
            "ticks": ""
           },
           "bgcolor": "#E5ECF6",
           "caxis": {
            "gridcolor": "white",
            "linecolor": "white",
            "ticks": ""
           }
          },
          "title": {
           "x": 0.05
          },
          "xaxis": {
           "automargin": true,
           "gridcolor": "white",
           "linecolor": "white",
           "ticks": "",
           "title": {
            "standoff": 15
           },
           "zerolinecolor": "white",
           "zerolinewidth": 2
          },
          "yaxis": {
           "automargin": true,
           "gridcolor": "white",
           "linecolor": "white",
           "ticks": "",
           "title": {
            "standoff": 15
           },
           "zerolinecolor": "white",
           "zerolinewidth": 2
          }
         }
        },
        "title": {
         "text": "Long-Form Input"
        },
        "xaxis": {
         "anchor": "y",
         "domain": [
          0,
          1
         ],
         "title": {
          "text": "nation"
         }
        },
        "yaxis": {
         "anchor": "x",
         "domain": [
          0,
          1
         ],
         "title": {
          "text": "count"
         }
        }
       }
      }
     },
     "metadata": {},
     "output_type": "display_data"
    }
   ],
   "source": [
    "import plotly.express as px\n",
    "\n",
    "countries_df ={}\n",
    "for country in df.Country.value_counts()[:9].index:\n",
    "    jobs_freq = encoded_df[encoded_df['Country'] == country]['DevType'].sum().rename('count').sort_values(ascending=False).reset_index()\n",
    "    jobs_freq['count'] = jobs_freq['count']/jobs_freq['count'].sum() * 100\n",
    "    countries_df[country] = jobs_freq\n",
    "\n",
    "jobs_freq_df = pd.concat(countries_df, axis=0).reset_index().drop('level_1', axis=1)\n",
    "\n",
    "jobs_freq_df.columns = ['nation', 'job', 'count']\n",
    "fig = px.bar(jobs_freq_df, x=\"nation\", y=\"count\", color=\"job\", title=\"Long-Form Input\", barmode='stack', height=800)\n",
    "fig.show()\n",
    "pio.write_image(fig, REPORT_PATH+'job_distribution.png', width=1000, height=800)"
   ]
  },
  {
   "cell_type": "code",
   "execution_count": 26,
   "metadata": {},
   "outputs": [
    {
     "data": {
      "application/vnd.plotly.v1+json": {
       "config": {
        "plotlyServerURL": "https://plot.ly"
       },
       "data": [
        {
         "branchvalues": "total",
         "customdata": [
          [
           2102
          ],
          [
           1534
          ],
          [
           135
          ],
          [
           6
          ],
          [
           380
          ],
          [
           1122
          ],
          [
           1468
          ],
          [
           48
          ],
          [
           4818
          ],
          [
           1072
          ],
          [
           405
          ],
          [
           650
          ],
          [
           188
          ],
          [
           566
          ],
          [
           287
          ],
          [
           63
          ],
          [
           299
          ],
          [
           3677
          ],
          [
           369
          ],
          [
           398
          ],
          [
           29
          ],
          [
           18
          ],
          [
           1335
          ],
          [
           2819
          ],
          [
           1772
          ],
          [
           1030
          ],
          [
           236
          ],
          [
           1
          ],
          [
           59
          ],
          [
           902
          ],
          [
           150
          ],
          [
           90
          ],
          [
           98
          ],
          [
           455
          ],
          [
           41
          ],
          [
           173
          ],
          [
           238
          ],
          [
           747
          ],
          [
           54
          ],
          [
           65
          ],
          [
           25
          ],
          [
           45
          ],
          [
           342
          ],
          [
           54
          ],
          [
           290
          ],
          [
           42
          ],
          [
           50
          ],
          [
           41
          ],
          [
           90
          ],
          [
           219
          ],
          [
           34
          ],
          [
           217
          ],
          [
           81
          ],
          [
           768
          ],
          [
           579
          ],
          [
           4520
          ],
          [
           96
          ],
          [
           67
          ],
          [
           918
          ],
          [
           2
          ],
          [
           818
          ],
          [
           244
          ],
          [
           252
          ],
          [
           34
          ],
          [
           82
          ],
          [
           833
          ],
          [
           103
          ],
          [
           352
          ],
          [
           70
          ],
          [
           480
          ],
          [
           191
          ],
          [
           40
          ],
          [
           660
          ],
          [
           20
          ],
          [
           211
          ],
          [
           164
          ],
          [
           85
          ],
          [
           83
          ],
          [
           892
          ],
          [
           90
          ],
          [
           119
          ],
          [
           1249
          ],
          [
           149
          ],
          [
           1461
          ],
          [
           288
          ],
          [
           990
          ],
          [
           341
          ],
          [
           112
          ],
          [
           4848
          ],
          [
           112
          ],
          [
           81
          ],
          [
           556
          ],
          [
           39
          ],
          [
           2453
          ],
          [
           156
          ],
          [
           54
          ],
          [
           175
          ],
          [
           121
          ],
          [
           87
          ],
          [
           50
          ],
          [
           2242
          ],
          [
           6164
          ],
          [
           105
          ],
          [
           150
          ],
          [
           576
          ],
          [
           53
          ],
          [
           1673
          ],
          [
           626
          ],
          [
           223
          ],
          [
           289
          ],
          [
           127
          ],
          [
           55
          ],
          [
           434
          ],
          [
           257
          ],
          [
           67
          ],
          [
           1089
          ],
          [
           350
          ],
          [
           1802
          ],
          [
           139
          ],
          [
           686
          ],
          [
           956
          ],
          [
           67
          ],
          [
           31
          ],
          [
           254
          ],
          [
           2106
          ],
          [
           2554
          ],
          [
           1164
          ],
          [
           2390
          ],
          [
           87
          ],
          [
           180
          ],
          [
           384
          ],
          [
           799
          ],
          [
           13
          ],
          [
           257
          ],
          [
           158
          ],
          [
           2704
          ],
          [
           1544
          ],
          [
           1187
          ],
          [
           103
          ],
          [
           47
          ],
          [
           28
          ],
          [
           197
          ],
          [
           255
          ],
          [
           118
          ],
          [
           54
          ],
          [
           267
          ],
          [
           654
          ],
          [
           137
          ],
          [
           960
          ],
          [
           317
          ],
          [
           1226
          ],
          [
           300
          ],
          [
           192
          ],
          [
           2226
          ],
          [
           41
          ],
          [
           282
          ],
          [
           3513
          ],
          [
           1462
          ],
          [
           17
          ],
          [
           77
          ],
          [
           83
          ],
          [
           4781
          ],
          [
           57
          ],
          [
           304
          ],
          [
           28
          ],
          [
           18
          ],
          [
           387
          ],
          [
           428
          ],
          [
           11
          ],
          [
           10
          ],
          [
           3096
          ],
          [
           340
          ],
          [
           1368
          ],
          [
           78
          ],
          [
           73
          ],
          [
           811
          ],
          [
           608
          ],
          [
           1083
          ],
          [
           52
          ],
          [
           41
          ],
          [
           5125
          ],
          [
           1836
          ],
          [
           269
          ],
          [
           8
          ],
          [
           527
          ],
          [
           375
          ],
          [
           49
          ],
          [
           49
          ],
          [
           91
          ],
          [
           648
          ],
          [
           594
          ],
          [
           115
          ],
          [
           327
          ],
          [
           440
          ],
          [
           272
          ],
          [
           61
          ],
          [
           64
          ],
          [
           364
          ],
          [
           1193
          ],
          [
           7
          ],
          [
           162
          ],
          [
           426
          ],
          [
           3683
          ],
          [
           313
          ],
          [
           21
          ],
          [
           163
          ],
          [
           285
          ],
          [
           403
          ],
          [
           418
          ],
          [
           400
          ],
          [
           1484
          ],
          [
           815
          ],
          [
           833
          ],
          [
           100
          ],
          [
           20
          ],
          [
           1694
          ],
          [
           649
          ],
          [
           156
          ],
          [
           1534
          ],
          [
           53
          ],
          [
           22
          ],
          [
           7
          ],
          [
           41
          ],
          [
           25
          ],
          [
           1452
          ],
          [
           4
          ],
          [
           1
          ],
          [
           3959
          ],
          [
           310
          ],
          [
           4
          ],
          [
           3
          ],
          [
           1818.2755378486056
          ],
          [
           1981.8026330105538
          ],
          [
           3400.7277008942465
          ],
          [
           930.9808485792137
          ],
          [
           2400.6889984315485
          ],
          [
           1457.1660319094185
          ]
         ],
         "domain": {
          "x": [
           0,
           1
          ],
          "y": [
           0,
           1
          ]
         },
         "hovertemplate": "labels=%{label}<br>freq_sum=%{value}<br>parent=%{parent}<br>id=%{id}<br>freq=%{color}<extra></extra>",
         "ids": [
          "Miscellaneous Tech/.NET (5+) ",
          "Miscellaneous Tech/.NET Framework (1.0 - 4.8)",
          "Miscellaneous Tech/.NET MAUI",
          "Language/APL",
          "Developer Tools/APT",
          "Web Framework/ASP.NET",
          "Web Framework/ASP.NET CORE",
          "Language/Ada",
          "Platform/Amazon Web Services (AWS)",
          "Web Framework/Angular",
          "Web Framework/AngularJS",
          "Developer Tools/Ansible",
          "Developer Tools/Ant",
          "Miscellaneous Tech/Apache Kafka",
          "Miscellaneous Tech/Apache Spark",
          "Language/Apex",
          "Language/Assembly",
          "Language/Bash/Shell (all shells)",
          "Database/BigQuery",
          "Web Framework/Blazor",
          "Developer Tools/Boost.Test",
          "Developer Tools/Bun",
          "Language/C",
          "Language/C#",
          "Language/C++",
          "Developer Tools/CMake",
          "Miscellaneous Tech/CUDA",
          "Developer Tools/CUTE",
          "Miscellaneous Tech/Capacitor",
          "Developer Tools/Cargo",
          "Database/Cassandra",
          "Developer Tools/Catch2",
          "Developer Tools/Chef",
          "Developer Tools/Chocolatey",
          "Database/Clickhouse",
          "Language/Clojure",
          "Database/Cloud Firestore",
          "Platform/Cloudflare",
          "Language/Cobol",
          "Database/Cockroachdb",
          "Web Framework/CodeIgniter",
          "Platform/Colocation",
          "Developer Tools/Composer",
          "Miscellaneous Tech/Cordova",
          "Database/Cosmos DB",
          "Database/Couch DB",
          "Database/Couchbase",
          "Language/Crystal",
          "Developer Tools/Dagger",
          "Language/Dart",
          "Database/Datomic",
          "Language/Delphi",
          "Web Framework/Deno",
          "Platform/Digital Ocean",
          "Web Framework/Django",
          "Developer Tools/Docker",
          "Web Framework/Drupal",
          "Database/DuckDB",
          "Database/Dynamodb",
          "Developer Tools/ELFspy",
          "Database/Elasticsearch",
          "Miscellaneous Tech/Electron",
          "Language/Elixir",
          "Web Framework/Elm",
          "Language/Erlang",
          "Web Framework/Express",
          "Language/F#",
          "Web Framework/FastAPI",
          "Web Framework/Fastify",
          "Platform/Firebase",
          "Database/Firebase Realtime Database",
          "Database/Firebird",
          "Web Framework/Flask",
          "Language/Flow",
          "Miscellaneous Tech/Flutter",
          "Platform/Fly.io",
          "Language/Fortran",
          "Language/GDScript",
          "Developer Tools/GNU GCC",
          "Miscellaneous Tech/GTK",
          "Web Framework/Gatsby",
          "Language/Go",
          "Developer Tools/Godot",
          "Platform/Google Cloud",
          "Developer Tools/Google Test",
          "Developer Tools/Gradle",
          "Language/Groovy",
          "Database/H2",
          "Language/HTML/CSS",
          "Miscellaneous Tech/Hadoop",
          "Language/Haskell",
          "Platform/Heroku",
          "Platform/Hetzner",
          "Developer Tools/Homebrew",
          "Miscellaneous Tech/Hugging Face Transformers",
          "Platform/IBM Cloud Or Watson",
          "Database/IBM DB2",
          "Database/InfluxDB",
          "Miscellaneous Tech/Ionic",
          "Miscellaneous Tech/JAX",
          "Language/Java",
          "Language/JavaScript",
          "Language/Julia",
          "Miscellaneous Tech/Keras",
          "Language/Kotlin",
          "Miscellaneous Tech/Ktor",
          "Developer Tools/Kubernetes",
          "Developer Tools/LLVM's Clang",
          "Web Framework/Laravel",
          "Platform/Linode, now Akamai",
          "Language/Lisp",
          "Web Framework/Lit",
          "Language/Lua",
          "Language/MATLAB",
          "Miscellaneous Tech/MFC",
          "Developer Tools/MSBuild",
          "Developer Tools/MSVC",
          "Developer Tools/Make",
          "Platform/Managed Hosting",
          "Database/MariaDB",
          "Developer Tools/Maven (build tool)",
          "Developer Tools/Meson",
          "Miscellaneous Tech/Micronaut",
          "Database/Microsoft Access",
          "Platform/Microsoft Azure",
          "Database/Microsoft SQL Server",
          "Database/MongoDB",
          "Database/MySQL",
          "Database/Neo4J",
          "Web Framework/NestJS",
          "Platform/Netlify",
          "Web Framework/Next.js",
          "Language/Nim",
          "Developer Tools/Ninja",
          "Developer Tools/Nix",
          "Web Framework/Node.js",
          "Developer Tools/NuGet",
          "Miscellaneous Tech/NumPy",
          "Web Framework/Nuxt.js",
          "Language/OCaml",
          "Platform/OVH",
          "Language/Objective-C",
          "Miscellaneous Tech/OpenGL",
          "Platform/OpenShift",
          "Platform/OpenStack",
          "Miscellaneous Tech/Opencv",
          "Database/Oracle",
          "Platform/Oracle Cloud Infrastructure (OCI)",
          "Language/PHP",
          "Developer Tools/Pacman",
          "Miscellaneous Tech/Pandas",
          "Language/Perl",
          "Web Framework/Phoenix",
          "Developer Tools/Pip",
          "Web Framework/Play Framework",
          "Developer Tools/Podman",
          "Database/PostgreSQL",
          "Language/PowerShell",
          "Language/Prolog",
          "Developer Tools/Pulumi",
          "Developer Tools/Puppet",
          "Language/Python",
          "Developer Tools/QMake",
          "Miscellaneous Tech/Qt",
          "Miscellaneous Tech/Quarkus",
          "Web Framework/Qwik",
          "Language/R",
          "Miscellaneous Tech/RabbitMQ",
          "Language/Raku",
          "Database/RavenDB",
          "Web Framework/React",
          "Miscellaneous Tech/React Native",
          "Database/Redis",
          "Web Framework/Remix",
          "Platform/Render",
          "Language/Ruby",
          "Web Framework/Ruby on Rails",
          "Language/Rust",
          "Language/SAS",
          "Developer Tools/SCons",
          "Language/SQL",
          "Database/SQLite",
          "Language/Scala",
          "Platform/Scaleway",
          "Miscellaneous Tech/Scikit-Learn",
          "Database/Snowflake",
          "Web Framework/Solid.js",
          "Language/Solidity",
          "Database/Solr",
          "Web Framework/Spring Boot",
          "Miscellaneous Tech/Spring Framework",
          "Database/Supabase",
          "Web Framework/Svelte",
          "Language/Swift",
          "Miscellaneous Tech/SwiftUI",
          "Web Framework/Symfony",
          "Miscellaneous Tech/Tauri",
          "Miscellaneous Tech/TensorFlow",
          "Developer Tools/Terraform",
          "Database/TiDB",
          "Miscellaneous Tech/Tidyverse",
          "Miscellaneous Tech/Torch/PyTorch",
          "Language/TypeScript",
          "Developer Tools/Unity 3D",
          "Miscellaneous Tech/Uno Platform",
          "Developer Tools/Unreal Engine",
          "Language/VBA",
          "Platform/VMware",
          "Platform/Vercel",
          "Language/Visual Basic (.Net)",
          "Developer Tools/Visual Studio Solution",
          "Developer Tools/Vite",
          "Web Framework/Vue.js",
          "Platform/Vultr",
          "Developer Tools/Wasmer",
          "Developer Tools/Webpack",
          "Web Framework/WordPress",
          "Miscellaneous Tech/Xamarin",
          "Developer Tools/Yarn",
          "Language/Zig",
          "Developer Tools/bandit",
          "Developer Tools/build2",
          "Developer Tools/cppunit",
          "Developer Tools/doctest",
          "Web Framework/jQuery",
          "Developer Tools/lest",
          "Developer Tools/liblittletest",
          "Developer Tools/npm",
          "Developer Tools/pnpm",
          "Developer Tools/snitch",
          "Developer Tools/tunit",
          "Database",
          "Developer Tools",
          "Language",
          "Miscellaneous Tech",
          "Platform",
          "Web Framework"
         ],
         "labels": [
          ".NET (5+) ",
          ".NET Framework (1.0 - 4.8)",
          ".NET MAUI",
          "APL",
          "APT",
          "ASP.NET",
          "ASP.NET CORE",
          "Ada",
          "Amazon Web Services (AWS)",
          "Angular",
          "AngularJS",
          "Ansible",
          "Ant",
          "Apache Kafka",
          "Apache Spark",
          "Apex",
          "Assembly",
          "Bash/Shell (all shells)",
          "BigQuery",
          "Blazor",
          "Boost.Test",
          "Bun",
          "C",
          "C#",
          "C++",
          "CMake",
          "CUDA",
          "CUTE",
          "Capacitor",
          "Cargo",
          "Cassandra",
          "Catch2",
          "Chef",
          "Chocolatey",
          "Clickhouse",
          "Clojure",
          "Cloud Firestore",
          "Cloudflare",
          "Cobol",
          "Cockroachdb",
          "CodeIgniter",
          "Colocation",
          "Composer",
          "Cordova",
          "Cosmos DB",
          "Couch DB",
          "Couchbase",
          "Crystal",
          "Dagger",
          "Dart",
          "Datomic",
          "Delphi",
          "Deno",
          "Digital Ocean",
          "Django",
          "Docker",
          "Drupal",
          "DuckDB",
          "Dynamodb",
          "ELFspy",
          "Elasticsearch",
          "Electron",
          "Elixir",
          "Elm",
          "Erlang",
          "Express",
          "F#",
          "FastAPI",
          "Fastify",
          "Firebase",
          "Firebase Realtime Database",
          "Firebird",
          "Flask",
          "Flow",
          "Flutter",
          "Fly.io",
          "Fortran",
          "GDScript",
          "GNU GCC",
          "GTK",
          "Gatsby",
          "Go",
          "Godot",
          "Google Cloud",
          "Google Test",
          "Gradle",
          "Groovy",
          "H2",
          "HTML/CSS",
          "Hadoop",
          "Haskell",
          "Heroku",
          "Hetzner",
          "Homebrew",
          "Hugging Face Transformers",
          "IBM Cloud Or Watson",
          "IBM DB2",
          "InfluxDB",
          "Ionic",
          "JAX",
          "Java",
          "JavaScript",
          "Julia",
          "Keras",
          "Kotlin",
          "Ktor",
          "Kubernetes",
          "LLVM's Clang",
          "Laravel",
          "Linode, now Akamai",
          "Lisp",
          "Lit",
          "Lua",
          "MATLAB",
          "MFC",
          "MSBuild",
          "MSVC",
          "Make",
          "Managed Hosting",
          "MariaDB",
          "Maven (build tool)",
          "Meson",
          "Micronaut",
          "Microsoft Access",
          "Microsoft Azure",
          "Microsoft SQL Server",
          "MongoDB",
          "MySQL",
          "Neo4J",
          "NestJS",
          "Netlify",
          "Next.js",
          "Nim",
          "Ninja",
          "Nix",
          "Node.js",
          "NuGet",
          "NumPy",
          "Nuxt.js",
          "OCaml",
          "OVH",
          "Objective-C",
          "OpenGL",
          "OpenShift",
          "OpenStack",
          "Opencv",
          "Oracle",
          "Oracle Cloud Infrastructure (OCI)",
          "PHP",
          "Pacman",
          "Pandas",
          "Perl",
          "Phoenix",
          "Pip",
          "Play Framework",
          "Podman",
          "PostgreSQL",
          "PowerShell",
          "Prolog",
          "Pulumi",
          "Puppet",
          "Python",
          "QMake",
          "Qt",
          "Quarkus",
          "Qwik",
          "R",
          "RabbitMQ",
          "Raku",
          "RavenDB",
          "React",
          "React Native",
          "Redis",
          "Remix",
          "Render",
          "Ruby",
          "Ruby on Rails",
          "Rust",
          "SAS",
          "SCons",
          "SQL",
          "SQLite",
          "Scala",
          "Scaleway",
          "Scikit-Learn",
          "Snowflake",
          "Solid.js",
          "Solidity",
          "Solr",
          "Spring Boot",
          "Spring Framework",
          "Supabase",
          "Svelte",
          "Swift",
          "SwiftUI",
          "Symfony",
          "Tauri",
          "TensorFlow",
          "Terraform",
          "TiDB",
          "Tidyverse",
          "Torch/PyTorch",
          "TypeScript",
          "Unity 3D",
          "Uno Platform",
          "Unreal Engine",
          "VBA",
          "VMware",
          "Vercel",
          "Visual Basic (.Net)",
          "Visual Studio Solution",
          "Vite",
          "Vue.js",
          "Vultr",
          "Wasmer",
          "Webpack",
          "WordPress",
          "Xamarin",
          "Yarn",
          "Zig",
          "bandit",
          "build2",
          "cppunit",
          "doctest",
          "jQuery",
          "lest",
          "liblittletest",
          "npm",
          "pnpm",
          "snitch",
          "tunit",
          "Database",
          "Developer Tools",
          "Language",
          "Miscellaneous Tech",
          "Platform",
          "Web Framework"
         ],
         "marker": {
          "coloraxis": "coloraxis",
          "colors": [
           2102,
           1534,
           135,
           6,
           380,
           1122,
           1468,
           48,
           4818,
           1072,
           405,
           650,
           188,
           566,
           287,
           63,
           299,
           3677,
           369,
           398,
           29,
           18,
           1335,
           2819,
           1772,
           1030,
           236,
           1,
           59,
           902,
           150,
           90,
           98,
           455,
           41,
           173,
           238,
           747,
           54,
           65,
           25,
           45,
           342,
           54,
           290,
           42,
           50,
           41,
           90,
           219,
           34,
           217,
           81,
           768,
           579,
           4520,
           96,
           67,
           918,
           2,
           818,
           244,
           252,
           34,
           82,
           833,
           103,
           352,
           70,
           480,
           191,
           40,
           660,
           20,
           211,
           164,
           85,
           83,
           892,
           90,
           119,
           1249,
           149,
           1461,
           288,
           990,
           341,
           112,
           4848,
           112,
           81,
           556,
           39,
           2453,
           156,
           54,
           175,
           121,
           87,
           50,
           2242,
           6164,
           105,
           150,
           576,
           53,
           1673,
           626,
           223,
           289,
           127,
           55,
           434,
           257,
           67,
           1089,
           350,
           1802,
           139,
           686,
           956,
           67,
           31,
           254,
           2106,
           2554,
           1164,
           2390,
           87,
           180,
           384,
           799,
           13,
           257,
           158,
           2704,
           1544,
           1187,
           103,
           47,
           28,
           197,
           255,
           118,
           54,
           267,
           654,
           137,
           960,
           317,
           1226,
           300,
           192,
           2226,
           41,
           282,
           3513,
           1462,
           17,
           77,
           83,
           4781,
           57,
           304,
           28,
           18,
           387,
           428,
           11,
           10,
           3096,
           340,
           1368,
           78,
           73,
           811,
           608,
           1083,
           52,
           41,
           5125,
           1836,
           269,
           8,
           527,
           375,
           49,
           49,
           91,
           648,
           594,
           115,
           327,
           440,
           272,
           61,
           64,
           364,
           1193,
           7,
           162,
           426,
           3683,
           313,
           21,
           163,
           285,
           403,
           418,
           400,
           1484,
           815,
           833,
           100,
           20,
           1694,
           649,
           156,
           1534,
           53,
           22,
           7,
           41,
           25,
           1452,
           4,
           1,
           3959,
           310,
           4,
           3,
           1818.2755378486056,
           1981.8026330105538,
           3400.7277008942465,
           930.9808485792137,
           2400.6889984315485,
           1457.1660319094185
          ]
         },
         "name": "",
         "parents": [
          "Miscellaneous Tech",
          "Miscellaneous Tech",
          "Miscellaneous Tech",
          "Language",
          "Developer Tools",
          "Web Framework",
          "Web Framework",
          "Language",
          "Platform",
          "Web Framework",
          "Web Framework",
          "Developer Tools",
          "Developer Tools",
          "Miscellaneous Tech",
          "Miscellaneous Tech",
          "Language",
          "Language",
          "Language",
          "Database",
          "Web Framework",
          "Developer Tools",
          "Developer Tools",
          "Language",
          "Language",
          "Language",
          "Developer Tools",
          "Miscellaneous Tech",
          "Developer Tools",
          "Miscellaneous Tech",
          "Developer Tools",
          "Database",
          "Developer Tools",
          "Developer Tools",
          "Developer Tools",
          "Database",
          "Language",
          "Database",
          "Platform",
          "Language",
          "Database",
          "Web Framework",
          "Platform",
          "Developer Tools",
          "Miscellaneous Tech",
          "Database",
          "Database",
          "Database",
          "Language",
          "Developer Tools",
          "Language",
          "Database",
          "Language",
          "Web Framework",
          "Platform",
          "Web Framework",
          "Developer Tools",
          "Web Framework",
          "Database",
          "Database",
          "Developer Tools",
          "Database",
          "Miscellaneous Tech",
          "Language",
          "Web Framework",
          "Language",
          "Web Framework",
          "Language",
          "Web Framework",
          "Web Framework",
          "Platform",
          "Database",
          "Database",
          "Web Framework",
          "Language",
          "Miscellaneous Tech",
          "Platform",
          "Language",
          "Language",
          "Developer Tools",
          "Miscellaneous Tech",
          "Web Framework",
          "Language",
          "Developer Tools",
          "Platform",
          "Developer Tools",
          "Developer Tools",
          "Language",
          "Database",
          "Language",
          "Miscellaneous Tech",
          "Language",
          "Platform",
          "Platform",
          "Developer Tools",
          "Miscellaneous Tech",
          "Platform",
          "Database",
          "Database",
          "Miscellaneous Tech",
          "Miscellaneous Tech",
          "Language",
          "Language",
          "Language",
          "Miscellaneous Tech",
          "Language",
          "Miscellaneous Tech",
          "Developer Tools",
          "Developer Tools",
          "Web Framework",
          "Platform",
          "Language",
          "Web Framework",
          "Language",
          "Language",
          "Miscellaneous Tech",
          "Developer Tools",
          "Developer Tools",
          "Developer Tools",
          "Platform",
          "Database",
          "Developer Tools",
          "Developer Tools",
          "Miscellaneous Tech",
          "Database",
          "Platform",
          "Database",
          "Database",
          "Database",
          "Database",
          "Web Framework",
          "Platform",
          "Web Framework",
          "Language",
          "Developer Tools",
          "Developer Tools",
          "Web Framework",
          "Developer Tools",
          "Miscellaneous Tech",
          "Web Framework",
          "Language",
          "Platform",
          "Language",
          "Miscellaneous Tech",
          "Platform",
          "Platform",
          "Miscellaneous Tech",
          "Database",
          "Platform",
          "Language",
          "Developer Tools",
          "Miscellaneous Tech",
          "Language",
          "Web Framework",
          "Developer Tools",
          "Web Framework",
          "Developer Tools",
          "Database",
          "Language",
          "Language",
          "Developer Tools",
          "Developer Tools",
          "Language",
          "Developer Tools",
          "Miscellaneous Tech",
          "Miscellaneous Tech",
          "Web Framework",
          "Language",
          "Miscellaneous Tech",
          "Language",
          "Database",
          "Web Framework",
          "Miscellaneous Tech",
          "Database",
          "Web Framework",
          "Platform",
          "Language",
          "Web Framework",
          "Language",
          "Language",
          "Developer Tools",
          "Language",
          "Database",
          "Language",
          "Platform",
          "Miscellaneous Tech",
          "Database",
          "Web Framework",
          "Language",
          "Database",
          "Web Framework",
          "Miscellaneous Tech",
          "Database",
          "Web Framework",
          "Language",
          "Miscellaneous Tech",
          "Web Framework",
          "Miscellaneous Tech",
          "Miscellaneous Tech",
          "Developer Tools",
          "Database",
          "Miscellaneous Tech",
          "Miscellaneous Tech",
          "Language",
          "Developer Tools",
          "Miscellaneous Tech",
          "Developer Tools",
          "Language",
          "Platform",
          "Platform",
          "Language",
          "Developer Tools",
          "Developer Tools",
          "Web Framework",
          "Platform",
          "Developer Tools",
          "Developer Tools",
          "Web Framework",
          "Miscellaneous Tech",
          "Developer Tools",
          "Language",
          "Developer Tools",
          "Developer Tools",
          "Developer Tools",
          "Developer Tools",
          "Web Framework",
          "Developer Tools",
          "Developer Tools",
          "Developer Tools",
          "Developer Tools",
          "Developer Tools",
          "Developer Tools",
          "",
          "",
          "",
          "",
          "",
          ""
         ],
         "type": "treemap",
         "values": [
          2102,
          1534,
          135,
          6,
          380,
          1122,
          1468,
          48,
          4818,
          1072,
          405,
          650,
          188,
          566,
          287,
          63,
          299,
          3677,
          369,
          398,
          29,
          18,
          1335,
          2819,
          1772,
          1030,
          236,
          1,
          59,
          902,
          150,
          90,
          98,
          455,
          41,
          173,
          238,
          747,
          54,
          65,
          25,
          45,
          342,
          54,
          290,
          42,
          50,
          41,
          90,
          219,
          34,
          217,
          81,
          768,
          579,
          4520,
          96,
          67,
          918,
          2,
          818,
          244,
          252,
          34,
          82,
          833,
          103,
          352,
          70,
          480,
          191,
          40,
          660,
          20,
          211,
          164,
          85,
          83,
          892,
          90,
          119,
          1249,
          149,
          1461,
          288,
          990,
          341,
          112,
          4848,
          112,
          81,
          556,
          39,
          2453,
          156,
          54,
          175,
          121,
          87,
          50,
          2242,
          6164,
          105,
          150,
          576,
          53,
          1673,
          626,
          223,
          289,
          127,
          55,
          434,
          257,
          67,
          1089,
          350,
          1802,
          139,
          686,
          956,
          67,
          31,
          254,
          2106,
          2554,
          1164,
          2390,
          87,
          180,
          384,
          799,
          13,
          257,
          158,
          2704,
          1544,
          1187,
          103,
          47,
          28,
          197,
          255,
          118,
          54,
          267,
          654,
          137,
          960,
          317,
          1226,
          300,
          192,
          2226,
          41,
          282,
          3513,
          1462,
          17,
          77,
          83,
          4781,
          57,
          304,
          28,
          18,
          387,
          428,
          11,
          10,
          3096,
          340,
          1368,
          78,
          73,
          811,
          608,
          1083,
          52,
          41,
          5125,
          1836,
          269,
          8,
          527,
          375,
          49,
          49,
          91,
          648,
          594,
          115,
          327,
          440,
          272,
          61,
          64,
          364,
          1193,
          7,
          162,
          426,
          3683,
          313,
          21,
          163,
          285,
          403,
          418,
          400,
          1484,
          815,
          833,
          100,
          20,
          1694,
          649,
          156,
          1534,
          53,
          22,
          7,
          41,
          25,
          1452,
          4,
          1,
          3959,
          310,
          4,
          3,
          18825,
          36764,
          48197,
          12845,
          13389,
          19430
         ]
        }
       ],
       "layout": {
        "coloraxis": {
         "colorbar": {
          "title": {
           "text": "freq"
          }
         },
         "colorscale": [
          [
           0,
           "#440154"
          ],
          [
           0.1111111111111111,
           "#482878"
          ],
          [
           0.2222222222222222,
           "#3e4989"
          ],
          [
           0.3333333333333333,
           "#31688e"
          ],
          [
           0.4444444444444444,
           "#26828e"
          ],
          [
           0.5555555555555556,
           "#1f9e89"
          ],
          [
           0.6666666666666666,
           "#35b779"
          ],
          [
           0.7777777777777778,
           "#6ece58"
          ],
          [
           0.8888888888888888,
           "#b5de2b"
          ],
          [
           1,
           "#fde725"
          ]
         ]
        },
        "height": 700,
        "legend": {
         "tracegroupgap": 0
        },
        "margin": {
         "t": 60
        },
        "template": {
         "data": {
          "bar": [
           {
            "error_x": {
             "color": "#2a3f5f"
            },
            "error_y": {
             "color": "#2a3f5f"
            },
            "marker": {
             "line": {
              "color": "#E5ECF6",
              "width": 0.5
             },
             "pattern": {
              "fillmode": "overlay",
              "size": 10,
              "solidity": 0.2
             }
            },
            "type": "bar"
           }
          ],
          "barpolar": [
           {
            "marker": {
             "line": {
              "color": "#E5ECF6",
              "width": 0.5
             },
             "pattern": {
              "fillmode": "overlay",
              "size": 10,
              "solidity": 0.2
             }
            },
            "type": "barpolar"
           }
          ],
          "carpet": [
           {
            "aaxis": {
             "endlinecolor": "#2a3f5f",
             "gridcolor": "white",
             "linecolor": "white",
             "minorgridcolor": "white",
             "startlinecolor": "#2a3f5f"
            },
            "baxis": {
             "endlinecolor": "#2a3f5f",
             "gridcolor": "white",
             "linecolor": "white",
             "minorgridcolor": "white",
             "startlinecolor": "#2a3f5f"
            },
            "type": "carpet"
           }
          ],
          "choropleth": [
           {
            "colorbar": {
             "outlinewidth": 0,
             "ticks": ""
            },
            "type": "choropleth"
           }
          ],
          "contour": [
           {
            "colorbar": {
             "outlinewidth": 0,
             "ticks": ""
            },
            "colorscale": [
             [
              0,
              "#0d0887"
             ],
             [
              0.1111111111111111,
              "#46039f"
             ],
             [
              0.2222222222222222,
              "#7201a8"
             ],
             [
              0.3333333333333333,
              "#9c179e"
             ],
             [
              0.4444444444444444,
              "#bd3786"
             ],
             [
              0.5555555555555556,
              "#d8576b"
             ],
             [
              0.6666666666666666,
              "#ed7953"
             ],
             [
              0.7777777777777778,
              "#fb9f3a"
             ],
             [
              0.8888888888888888,
              "#fdca26"
             ],
             [
              1,
              "#f0f921"
             ]
            ],
            "type": "contour"
           }
          ],
          "contourcarpet": [
           {
            "colorbar": {
             "outlinewidth": 0,
             "ticks": ""
            },
            "type": "contourcarpet"
           }
          ],
          "heatmap": [
           {
            "colorbar": {
             "outlinewidth": 0,
             "ticks": ""
            },
            "colorscale": [
             [
              0,
              "#0d0887"
             ],
             [
              0.1111111111111111,
              "#46039f"
             ],
             [
              0.2222222222222222,
              "#7201a8"
             ],
             [
              0.3333333333333333,
              "#9c179e"
             ],
             [
              0.4444444444444444,
              "#bd3786"
             ],
             [
              0.5555555555555556,
              "#d8576b"
             ],
             [
              0.6666666666666666,
              "#ed7953"
             ],
             [
              0.7777777777777778,
              "#fb9f3a"
             ],
             [
              0.8888888888888888,
              "#fdca26"
             ],
             [
              1,
              "#f0f921"
             ]
            ],
            "type": "heatmap"
           }
          ],
          "heatmapgl": [
           {
            "colorbar": {
             "outlinewidth": 0,
             "ticks": ""
            },
            "colorscale": [
             [
              0,
              "#0d0887"
             ],
             [
              0.1111111111111111,
              "#46039f"
             ],
             [
              0.2222222222222222,
              "#7201a8"
             ],
             [
              0.3333333333333333,
              "#9c179e"
             ],
             [
              0.4444444444444444,
              "#bd3786"
             ],
             [
              0.5555555555555556,
              "#d8576b"
             ],
             [
              0.6666666666666666,
              "#ed7953"
             ],
             [
              0.7777777777777778,
              "#fb9f3a"
             ],
             [
              0.8888888888888888,
              "#fdca26"
             ],
             [
              1,
              "#f0f921"
             ]
            ],
            "type": "heatmapgl"
           }
          ],
          "histogram": [
           {
            "marker": {
             "pattern": {
              "fillmode": "overlay",
              "size": 10,
              "solidity": 0.2
             }
            },
            "type": "histogram"
           }
          ],
          "histogram2d": [
           {
            "colorbar": {
             "outlinewidth": 0,
             "ticks": ""
            },
            "colorscale": [
             [
              0,
              "#0d0887"
             ],
             [
              0.1111111111111111,
              "#46039f"
             ],
             [
              0.2222222222222222,
              "#7201a8"
             ],
             [
              0.3333333333333333,
              "#9c179e"
             ],
             [
              0.4444444444444444,
              "#bd3786"
             ],
             [
              0.5555555555555556,
              "#d8576b"
             ],
             [
              0.6666666666666666,
              "#ed7953"
             ],
             [
              0.7777777777777778,
              "#fb9f3a"
             ],
             [
              0.8888888888888888,
              "#fdca26"
             ],
             [
              1,
              "#f0f921"
             ]
            ],
            "type": "histogram2d"
           }
          ],
          "histogram2dcontour": [
           {
            "colorbar": {
             "outlinewidth": 0,
             "ticks": ""
            },
            "colorscale": [
             [
              0,
              "#0d0887"
             ],
             [
              0.1111111111111111,
              "#46039f"
             ],
             [
              0.2222222222222222,
              "#7201a8"
             ],
             [
              0.3333333333333333,
              "#9c179e"
             ],
             [
              0.4444444444444444,
              "#bd3786"
             ],
             [
              0.5555555555555556,
              "#d8576b"
             ],
             [
              0.6666666666666666,
              "#ed7953"
             ],
             [
              0.7777777777777778,
              "#fb9f3a"
             ],
             [
              0.8888888888888888,
              "#fdca26"
             ],
             [
              1,
              "#f0f921"
             ]
            ],
            "type": "histogram2dcontour"
           }
          ],
          "mesh3d": [
           {
            "colorbar": {
             "outlinewidth": 0,
             "ticks": ""
            },
            "type": "mesh3d"
           }
          ],
          "parcoords": [
           {
            "line": {
             "colorbar": {
              "outlinewidth": 0,
              "ticks": ""
             }
            },
            "type": "parcoords"
           }
          ],
          "pie": [
           {
            "automargin": true,
            "type": "pie"
           }
          ],
          "scatter": [
           {
            "fillpattern": {
             "fillmode": "overlay",
             "size": 10,
             "solidity": 0.2
            },
            "type": "scatter"
           }
          ],
          "scatter3d": [
           {
            "line": {
             "colorbar": {
              "outlinewidth": 0,
              "ticks": ""
             }
            },
            "marker": {
             "colorbar": {
              "outlinewidth": 0,
              "ticks": ""
             }
            },
            "type": "scatter3d"
           }
          ],
          "scattercarpet": [
           {
            "marker": {
             "colorbar": {
              "outlinewidth": 0,
              "ticks": ""
             }
            },
            "type": "scattercarpet"
           }
          ],
          "scattergeo": [
           {
            "marker": {
             "colorbar": {
              "outlinewidth": 0,
              "ticks": ""
             }
            },
            "type": "scattergeo"
           }
          ],
          "scattergl": [
           {
            "marker": {
             "colorbar": {
              "outlinewidth": 0,
              "ticks": ""
             }
            },
            "type": "scattergl"
           }
          ],
          "scattermapbox": [
           {
            "marker": {
             "colorbar": {
              "outlinewidth": 0,
              "ticks": ""
             }
            },
            "type": "scattermapbox"
           }
          ],
          "scatterpolar": [
           {
            "marker": {
             "colorbar": {
              "outlinewidth": 0,
              "ticks": ""
             }
            },
            "type": "scatterpolar"
           }
          ],
          "scatterpolargl": [
           {
            "marker": {
             "colorbar": {
              "outlinewidth": 0,
              "ticks": ""
             }
            },
            "type": "scatterpolargl"
           }
          ],
          "scatterternary": [
           {
            "marker": {
             "colorbar": {
              "outlinewidth": 0,
              "ticks": ""
             }
            },
            "type": "scatterternary"
           }
          ],
          "surface": [
           {
            "colorbar": {
             "outlinewidth": 0,
             "ticks": ""
            },
            "colorscale": [
             [
              0,
              "#0d0887"
             ],
             [
              0.1111111111111111,
              "#46039f"
             ],
             [
              0.2222222222222222,
              "#7201a8"
             ],
             [
              0.3333333333333333,
              "#9c179e"
             ],
             [
              0.4444444444444444,
              "#bd3786"
             ],
             [
              0.5555555555555556,
              "#d8576b"
             ],
             [
              0.6666666666666666,
              "#ed7953"
             ],
             [
              0.7777777777777778,
              "#fb9f3a"
             ],
             [
              0.8888888888888888,
              "#fdca26"
             ],
             [
              1,
              "#f0f921"
             ]
            ],
            "type": "surface"
           }
          ],
          "table": [
           {
            "cells": {
             "fill": {
              "color": "#EBF0F8"
             },
             "line": {
              "color": "white"
             }
            },
            "header": {
             "fill": {
              "color": "#C8D4E3"
             },
             "line": {
              "color": "white"
             }
            },
            "type": "table"
           }
          ]
         },
         "layout": {
          "annotationdefaults": {
           "arrowcolor": "#2a3f5f",
           "arrowhead": 0,
           "arrowwidth": 1
          },
          "autotypenumbers": "strict",
          "coloraxis": {
           "colorbar": {
            "outlinewidth": 0,
            "ticks": ""
           }
          },
          "colorscale": {
           "diverging": [
            [
             0,
             "#8e0152"
            ],
            [
             0.1,
             "#c51b7d"
            ],
            [
             0.2,
             "#de77ae"
            ],
            [
             0.3,
             "#f1b6da"
            ],
            [
             0.4,
             "#fde0ef"
            ],
            [
             0.5,
             "#f7f7f7"
            ],
            [
             0.6,
             "#e6f5d0"
            ],
            [
             0.7,
             "#b8e186"
            ],
            [
             0.8,
             "#7fbc41"
            ],
            [
             0.9,
             "#4d9221"
            ],
            [
             1,
             "#276419"
            ]
           ],
           "sequential": [
            [
             0,
             "#0d0887"
            ],
            [
             0.1111111111111111,
             "#46039f"
            ],
            [
             0.2222222222222222,
             "#7201a8"
            ],
            [
             0.3333333333333333,
             "#9c179e"
            ],
            [
             0.4444444444444444,
             "#bd3786"
            ],
            [
             0.5555555555555556,
             "#d8576b"
            ],
            [
             0.6666666666666666,
             "#ed7953"
            ],
            [
             0.7777777777777778,
             "#fb9f3a"
            ],
            [
             0.8888888888888888,
             "#fdca26"
            ],
            [
             1,
             "#f0f921"
            ]
           ],
           "sequentialminus": [
            [
             0,
             "#0d0887"
            ],
            [
             0.1111111111111111,
             "#46039f"
            ],
            [
             0.2222222222222222,
             "#7201a8"
            ],
            [
             0.3333333333333333,
             "#9c179e"
            ],
            [
             0.4444444444444444,
             "#bd3786"
            ],
            [
             0.5555555555555556,
             "#d8576b"
            ],
            [
             0.6666666666666666,
             "#ed7953"
            ],
            [
             0.7777777777777778,
             "#fb9f3a"
            ],
            [
             0.8888888888888888,
             "#fdca26"
            ],
            [
             1,
             "#f0f921"
            ]
           ]
          },
          "colorway": [
           "#636efa",
           "#EF553B",
           "#00cc96",
           "#ab63fa",
           "#FFA15A",
           "#19d3f3",
           "#FF6692",
           "#B6E880",
           "#FF97FF",
           "#FECB52"
          ],
          "font": {
           "color": "#2a3f5f"
          },
          "geo": {
           "bgcolor": "white",
           "lakecolor": "white",
           "landcolor": "#E5ECF6",
           "showlakes": true,
           "showland": true,
           "subunitcolor": "white"
          },
          "hoverlabel": {
           "align": "left"
          },
          "hovermode": "closest",
          "mapbox": {
           "style": "light"
          },
          "paper_bgcolor": "white",
          "plot_bgcolor": "#E5ECF6",
          "polar": {
           "angularaxis": {
            "gridcolor": "white",
            "linecolor": "white",
            "ticks": ""
           },
           "bgcolor": "#E5ECF6",
           "radialaxis": {
            "gridcolor": "white",
            "linecolor": "white",
            "ticks": ""
           }
          },
          "scene": {
           "xaxis": {
            "backgroundcolor": "#E5ECF6",
            "gridcolor": "white",
            "gridwidth": 2,
            "linecolor": "white",
            "showbackground": true,
            "ticks": "",
            "zerolinecolor": "white"
           },
           "yaxis": {
            "backgroundcolor": "#E5ECF6",
            "gridcolor": "white",
            "gridwidth": 2,
            "linecolor": "white",
            "showbackground": true,
            "ticks": "",
            "zerolinecolor": "white"
           },
           "zaxis": {
            "backgroundcolor": "#E5ECF6",
            "gridcolor": "white",
            "gridwidth": 2,
            "linecolor": "white",
            "showbackground": true,
            "ticks": "",
            "zerolinecolor": "white"
           }
          },
          "shapedefaults": {
           "line": {
            "color": "#2a3f5f"
           }
          },
          "ternary": {
           "aaxis": {
            "gridcolor": "white",
            "linecolor": "white",
            "ticks": ""
           },
           "baxis": {
            "gridcolor": "white",
            "linecolor": "white",
            "ticks": ""
           },
           "bgcolor": "#E5ECF6",
           "caxis": {
            "gridcolor": "white",
            "linecolor": "white",
            "ticks": ""
           }
          },
          "title": {
           "x": 0.05
          },
          "xaxis": {
           "automargin": true,
           "gridcolor": "white",
           "linecolor": "white",
           "ticks": "",
           "title": {
            "standoff": 15
           },
           "zerolinecolor": "white",
           "zerolinewidth": 2
          },
          "yaxis": {
           "automargin": true,
           "gridcolor": "white",
           "linecolor": "white",
           "ticks": "",
           "title": {
            "standoff": 15
           },
           "zerolinecolor": "white",
           "zerolinewidth": 2
          }
         }
        },
        "title": {
         "text": "Skills of United States of America respondents"
        },
        "width": 1000
       }
      }
     },
     "metadata": {},
     "output_type": "display_data"
    },
    {
     "data": {
      "application/vnd.plotly.v1+json": {
       "config": {
        "plotlyServerURL": "https://plot.ly"
       },
       "data": [
        {
         "branchvalues": "total",
         "customdata": [
          [
           646
          ],
          [
           442
          ],
          [
           57
          ],
          [
           3
          ],
          [
           176
          ],
          [
           199
          ],
          [
           386
          ],
          [
           17
          ],
          [
           1055
          ],
          [
           568
          ],
          [
           107
          ],
          [
           352
          ],
          [
           95
          ],
          [
           225
          ],
          [
           95
          ],
          [
           19
          ],
          [
           118
          ],
          [
           1285
          ],
          [
           93
          ],
          [
           131
          ],
          [
           22
          ],
          [
           10
          ],
          [
           576
          ],
          [
           887
          ],
          [
           776
          ],
          [
           518
          ],
          [
           122
          ],
          [
           1
          ],
          [
           33
          ],
          [
           425
          ],
          [
           40
          ],
          [
           54
          ],
          [
           10
          ],
          [
           157
          ],
          [
           24
          ],
          [
           52
          ],
          [
           79
          ],
          [
           219
          ],
          [
           18
          ],
          [
           18
          ],
          [
           8
          ],
          [
           9
          ],
          [
           267
          ],
          [
           29
          ],
          [
           74
          ],
          [
           17
          ],
          [
           10
          ],
          [
           12
          ],
          [
           40
          ],
          [
           152
          ],
          [
           14
          ],
          [
           172
          ],
          [
           40
          ],
          [
           178
          ],
          [
           172
          ],
          [
           2033
          ],
          [
           24
          ],
          [
           18
          ],
          [
           201
          ],
          [
           1
          ],
          [
           374
          ],
          [
           131
          ],
          [
           60
          ],
          [
           20
          ],
          [
           30
          ],
          [
           278
          ],
          [
           21
          ],
          [
           187
          ],
          [
           41
          ],
          [
           209
          ],
          [
           57
          ],
          [
           76
          ],
          [
           215
          ],
          [
           5
          ],
          [
           177
          ],
          [
           40
          ],
          [
           31
          ],
          [
           35
          ],
          [
           372
          ],
          [
           53
          ],
          [
           32
          ],
          [
           441
          ],
          [
           63
          ],
          [
           433
          ],
          [
           156
          ],
          [
           543
          ],
          [
           147
          ],
          [
           184
          ],
          [
           1747
          ],
          [
           27
          ],
          [
           57
          ],
          [
           139
          ],
          [
           375
          ],
          [
           725
          ],
          [
           63
          ],
          [
           14
          ],
          [
           59
          ],
          [
           119
          ],
          [
           57
          ],
          [
           36
          ],
          [
           1285
          ],
          [
           2019
          ],
          [
           54
          ],
          [
           90
          ],
          [
           402
          ],
          [
           39
          ],
          [
           727
          ],
          [
           273
          ],
          [
           130
          ],
          [
           30
          ],
          [
           38
          ],
          [
           27
          ],
          [
           155
          ],
          [
           99
          ],
          [
           37
          ],
          [
           400
          ],
          [
           182
          ],
          [
           633
          ],
          [
           92
          ],
          [
           683
          ],
          [
           693
          ],
          [
           26
          ],
          [
           17
          ],
          [
           78
          ],
          [
           705
          ],
          [
           698
          ],
          [
           538
          ],
          [
           983
          ],
          [
           46
          ],
          [
           125
          ],
          [
           103
          ],
          [
           249
          ],
          [
           9
          ],
          [
           164
          ],
          [
           57
          ],
          [
           950
          ],
          [
           452
          ],
          [
           521
          ],
          [
           78
          ],
          [
           15
          ],
          [
           27
          ],
          [
           53
          ],
          [
           122
          ],
          [
           83
          ],
          [
           53
          ],
          [
           151
          ],
          [
           392
          ],
          [
           47
          ],
          [
           602
          ],
          [
           190
          ],
          [
           478
          ],
          [
           81
          ],
          [
           43
          ],
          [
           787
          ],
          [
           24
          ],
          [
           177
          ],
          [
           1509
          ],
          [
           434
          ],
          [
           22
          ],
          [
           25
          ],
          [
           34
          ],
          [
           1692
          ],
          [
           54
          ],
          [
           215
          ],
          [
           73
          ],
          [
           7
          ],
          [
           145
          ],
          [
           230
          ],
          [
           2
          ],
          [
           5
          ],
          [
           767
          ],
          [
           88
          ],
          [
           460
          ],
          [
           23
          ],
          [
           17
          ],
          [
           164
          ],
          [
           113
          ],
          [
           521
          ],
          [
           7
          ],
          [
           19
          ],
          [
           1698
          ],
          [
           939
          ],
          [
           98
          ],
          [
           17
          ],
          [
           242
          ],
          [
           31
          ],
          [
           23
          ],
          [
           16
          ],
          [
           53
          ],
          [
           502
          ],
          [
           460
          ],
          [
           38
          ],
          [
           160
          ],
          [
           136
          ],
          [
           90
          ],
          [
           131
          ],
          [
           44
          ],
          [
           157
          ],
          [
           391
          ],
          [
           2
          ],
          [
           55
          ],
          [
           197
          ],
          [
           1400
          ],
          [
           145
          ],
          [
           12
          ],
          [
           52
          ],
          [
           120
          ],
          [
           164
          ],
          [
           122
          ],
          [
           87
          ],
          [
           425
          ],
          [
           379
          ],
          [
           488
          ],
          [
           16
          ],
          [
           11
          ],
          [
           523
          ],
          [
           252
          ],
          [
           64
          ],
          [
           534
          ],
          [
           19
          ],
          [
           20
          ],
          [
           5
          ],
          [
           18
          ],
          [
           22
          ],
          [
           436
          ],
          [
           1
          ],
          [
           1
          ],
          [
           1441
          ],
          [
           157
          ],
          [
           1
          ],
          [
           3
          ],
          [
           759.796511627907
          ],
          [
           771.2009041350884
          ],
          [
           1180.2902295663746
          ],
          [
           316.58206278026904
          ],
          [
           520.3547142512659
          ],
          [
           451.00576701268744
          ]
         ],
         "domain": {
          "x": [
           0,
           1
          ],
          "y": [
           0,
           1
          ]
         },
         "hovertemplate": "labels=%{label}<br>freq_sum=%{value}<br>parent=%{parent}<br>id=%{id}<br>freq=%{color}<extra></extra>",
         "ids": [
          "Miscellaneous Tech/.NET (5+) ",
          "Miscellaneous Tech/.NET Framework (1.0 - 4.8)",
          "Miscellaneous Tech/.NET MAUI",
          "Language/APL",
          "Developer Tools/APT",
          "Web Framework/ASP.NET",
          "Web Framework/ASP.NET CORE",
          "Language/Ada",
          "Platform/Amazon Web Services (AWS)",
          "Web Framework/Angular",
          "Web Framework/AngularJS",
          "Developer Tools/Ansible",
          "Developer Tools/Ant",
          "Miscellaneous Tech/Apache Kafka",
          "Miscellaneous Tech/Apache Spark",
          "Language/Apex",
          "Language/Assembly",
          "Language/Bash/Shell (all shells)",
          "Database/BigQuery",
          "Web Framework/Blazor",
          "Developer Tools/Boost.Test",
          "Developer Tools/Bun",
          "Language/C",
          "Language/C#",
          "Language/C++",
          "Developer Tools/CMake",
          "Miscellaneous Tech/CUDA",
          "Developer Tools/CUTE",
          "Miscellaneous Tech/Capacitor",
          "Developer Tools/Cargo",
          "Database/Cassandra",
          "Developer Tools/Catch2",
          "Developer Tools/Chef",
          "Developer Tools/Chocolatey",
          "Database/Clickhouse",
          "Language/Clojure",
          "Database/Cloud Firestore",
          "Platform/Cloudflare",
          "Language/Cobol",
          "Database/Cockroachdb",
          "Web Framework/CodeIgniter",
          "Platform/Colocation",
          "Developer Tools/Composer",
          "Miscellaneous Tech/Cordova",
          "Database/Cosmos DB",
          "Database/Couch DB",
          "Database/Couchbase",
          "Language/Crystal",
          "Developer Tools/Dagger",
          "Language/Dart",
          "Database/Datomic",
          "Language/Delphi",
          "Web Framework/Deno",
          "Platform/Digital Ocean",
          "Web Framework/Django",
          "Developer Tools/Docker",
          "Web Framework/Drupal",
          "Database/DuckDB",
          "Database/Dynamodb",
          "Developer Tools/ELFspy",
          "Database/Elasticsearch",
          "Miscellaneous Tech/Electron",
          "Language/Elixir",
          "Web Framework/Elm",
          "Language/Erlang",
          "Web Framework/Express",
          "Language/F#",
          "Web Framework/FastAPI",
          "Web Framework/Fastify",
          "Platform/Firebase",
          "Database/Firebase Realtime Database",
          "Database/Firebird",
          "Web Framework/Flask",
          "Language/Flow",
          "Miscellaneous Tech/Flutter",
          "Platform/Fly.io",
          "Language/Fortran",
          "Language/GDScript",
          "Developer Tools/GNU GCC",
          "Miscellaneous Tech/GTK",
          "Web Framework/Gatsby",
          "Language/Go",
          "Developer Tools/Godot",
          "Platform/Google Cloud",
          "Developer Tools/Google Test",
          "Developer Tools/Gradle",
          "Language/Groovy",
          "Database/H2",
          "Language/HTML/CSS",
          "Miscellaneous Tech/Hadoop",
          "Language/Haskell",
          "Platform/Heroku",
          "Platform/Hetzner",
          "Developer Tools/Homebrew",
          "Miscellaneous Tech/Hugging Face Transformers",
          "Platform/IBM Cloud Or Watson",
          "Database/IBM DB2",
          "Database/InfluxDB",
          "Miscellaneous Tech/Ionic",
          "Miscellaneous Tech/JAX",
          "Language/Java",
          "Language/JavaScript",
          "Language/Julia",
          "Miscellaneous Tech/Keras",
          "Language/Kotlin",
          "Miscellaneous Tech/Ktor",
          "Developer Tools/Kubernetes",
          "Developer Tools/LLVM's Clang",
          "Web Framework/Laravel",
          "Platform/Linode, now Akamai",
          "Language/Lisp",
          "Web Framework/Lit",
          "Language/Lua",
          "Language/MATLAB",
          "Miscellaneous Tech/MFC",
          "Developer Tools/MSBuild",
          "Developer Tools/MSVC",
          "Developer Tools/Make",
          "Platform/Managed Hosting",
          "Database/MariaDB",
          "Developer Tools/Maven (build tool)",
          "Developer Tools/Meson",
          "Miscellaneous Tech/Micronaut",
          "Database/Microsoft Access",
          "Platform/Microsoft Azure",
          "Database/Microsoft SQL Server",
          "Database/MongoDB",
          "Database/MySQL",
          "Database/Neo4J",
          "Web Framework/NestJS",
          "Platform/Netlify",
          "Web Framework/Next.js",
          "Language/Nim",
          "Developer Tools/Ninja",
          "Developer Tools/Nix",
          "Web Framework/Node.js",
          "Developer Tools/NuGet",
          "Miscellaneous Tech/NumPy",
          "Web Framework/Nuxt.js",
          "Language/OCaml",
          "Platform/OVH",
          "Language/Objective-C",
          "Miscellaneous Tech/OpenGL",
          "Platform/OpenShift",
          "Platform/OpenStack",
          "Miscellaneous Tech/Opencv",
          "Database/Oracle",
          "Platform/Oracle Cloud Infrastructure (OCI)",
          "Language/PHP",
          "Developer Tools/Pacman",
          "Miscellaneous Tech/Pandas",
          "Language/Perl",
          "Web Framework/Phoenix",
          "Developer Tools/Pip",
          "Web Framework/Play Framework",
          "Developer Tools/Podman",
          "Database/PostgreSQL",
          "Language/PowerShell",
          "Language/Prolog",
          "Developer Tools/Pulumi",
          "Developer Tools/Puppet",
          "Language/Python",
          "Developer Tools/QMake",
          "Miscellaneous Tech/Qt",
          "Miscellaneous Tech/Quarkus",
          "Web Framework/Qwik",
          "Language/R",
          "Miscellaneous Tech/RabbitMQ",
          "Language/Raku",
          "Database/RavenDB",
          "Web Framework/React",
          "Miscellaneous Tech/React Native",
          "Database/Redis",
          "Web Framework/Remix",
          "Platform/Render",
          "Language/Ruby",
          "Web Framework/Ruby on Rails",
          "Language/Rust",
          "Language/SAS",
          "Developer Tools/SCons",
          "Language/SQL",
          "Database/SQLite",
          "Language/Scala",
          "Platform/Scaleway",
          "Miscellaneous Tech/Scikit-Learn",
          "Database/Snowflake",
          "Web Framework/Solid.js",
          "Language/Solidity",
          "Database/Solr",
          "Web Framework/Spring Boot",
          "Miscellaneous Tech/Spring Framework",
          "Database/Supabase",
          "Web Framework/Svelte",
          "Language/Swift",
          "Miscellaneous Tech/SwiftUI",
          "Web Framework/Symfony",
          "Miscellaneous Tech/Tauri",
          "Miscellaneous Tech/TensorFlow",
          "Developer Tools/Terraform",
          "Database/TiDB",
          "Miscellaneous Tech/Tidyverse",
          "Miscellaneous Tech/Torch/PyTorch",
          "Language/TypeScript",
          "Developer Tools/Unity 3D",
          "Miscellaneous Tech/Uno Platform",
          "Developer Tools/Unreal Engine",
          "Language/VBA",
          "Platform/VMware",
          "Platform/Vercel",
          "Language/Visual Basic (.Net)",
          "Developer Tools/Visual Studio Solution",
          "Developer Tools/Vite",
          "Web Framework/Vue.js",
          "Platform/Vultr",
          "Developer Tools/Wasmer",
          "Developer Tools/Webpack",
          "Web Framework/WordPress",
          "Miscellaneous Tech/Xamarin",
          "Developer Tools/Yarn",
          "Language/Zig",
          "Developer Tools/bandit",
          "Developer Tools/build2",
          "Developer Tools/cppunit",
          "Developer Tools/doctest",
          "Web Framework/jQuery",
          "Developer Tools/lest",
          "Developer Tools/liblittletest",
          "Developer Tools/npm",
          "Developer Tools/pnpm",
          "Developer Tools/snitch",
          "Developer Tools/tunit",
          "Database",
          "Developer Tools",
          "Language",
          "Miscellaneous Tech",
          "Platform",
          "Web Framework"
         ],
         "labels": [
          ".NET (5+) ",
          ".NET Framework (1.0 - 4.8)",
          ".NET MAUI",
          "APL",
          "APT",
          "ASP.NET",
          "ASP.NET CORE",
          "Ada",
          "Amazon Web Services (AWS)",
          "Angular",
          "AngularJS",
          "Ansible",
          "Ant",
          "Apache Kafka",
          "Apache Spark",
          "Apex",
          "Assembly",
          "Bash/Shell (all shells)",
          "BigQuery",
          "Blazor",
          "Boost.Test",
          "Bun",
          "C",
          "C#",
          "C++",
          "CMake",
          "CUDA",
          "CUTE",
          "Capacitor",
          "Cargo",
          "Cassandra",
          "Catch2",
          "Chef",
          "Chocolatey",
          "Clickhouse",
          "Clojure",
          "Cloud Firestore",
          "Cloudflare",
          "Cobol",
          "Cockroachdb",
          "CodeIgniter",
          "Colocation",
          "Composer",
          "Cordova",
          "Cosmos DB",
          "Couch DB",
          "Couchbase",
          "Crystal",
          "Dagger",
          "Dart",
          "Datomic",
          "Delphi",
          "Deno",
          "Digital Ocean",
          "Django",
          "Docker",
          "Drupal",
          "DuckDB",
          "Dynamodb",
          "ELFspy",
          "Elasticsearch",
          "Electron",
          "Elixir",
          "Elm",
          "Erlang",
          "Express",
          "F#",
          "FastAPI",
          "Fastify",
          "Firebase",
          "Firebase Realtime Database",
          "Firebird",
          "Flask",
          "Flow",
          "Flutter",
          "Fly.io",
          "Fortran",
          "GDScript",
          "GNU GCC",
          "GTK",
          "Gatsby",
          "Go",
          "Godot",
          "Google Cloud",
          "Google Test",
          "Gradle",
          "Groovy",
          "H2",
          "HTML/CSS",
          "Hadoop",
          "Haskell",
          "Heroku",
          "Hetzner",
          "Homebrew",
          "Hugging Face Transformers",
          "IBM Cloud Or Watson",
          "IBM DB2",
          "InfluxDB",
          "Ionic",
          "JAX",
          "Java",
          "JavaScript",
          "Julia",
          "Keras",
          "Kotlin",
          "Ktor",
          "Kubernetes",
          "LLVM's Clang",
          "Laravel",
          "Linode, now Akamai",
          "Lisp",
          "Lit",
          "Lua",
          "MATLAB",
          "MFC",
          "MSBuild",
          "MSVC",
          "Make",
          "Managed Hosting",
          "MariaDB",
          "Maven (build tool)",
          "Meson",
          "Micronaut",
          "Microsoft Access",
          "Microsoft Azure",
          "Microsoft SQL Server",
          "MongoDB",
          "MySQL",
          "Neo4J",
          "NestJS",
          "Netlify",
          "Next.js",
          "Nim",
          "Ninja",
          "Nix",
          "Node.js",
          "NuGet",
          "NumPy",
          "Nuxt.js",
          "OCaml",
          "OVH",
          "Objective-C",
          "OpenGL",
          "OpenShift",
          "OpenStack",
          "Opencv",
          "Oracle",
          "Oracle Cloud Infrastructure (OCI)",
          "PHP",
          "Pacman",
          "Pandas",
          "Perl",
          "Phoenix",
          "Pip",
          "Play Framework",
          "Podman",
          "PostgreSQL",
          "PowerShell",
          "Prolog",
          "Pulumi",
          "Puppet",
          "Python",
          "QMake",
          "Qt",
          "Quarkus",
          "Qwik",
          "R",
          "RabbitMQ",
          "Raku",
          "RavenDB",
          "React",
          "React Native",
          "Redis",
          "Remix",
          "Render",
          "Ruby",
          "Ruby on Rails",
          "Rust",
          "SAS",
          "SCons",
          "SQL",
          "SQLite",
          "Scala",
          "Scaleway",
          "Scikit-Learn",
          "Snowflake",
          "Solid.js",
          "Solidity",
          "Solr",
          "Spring Boot",
          "Spring Framework",
          "Supabase",
          "Svelte",
          "Swift",
          "SwiftUI",
          "Symfony",
          "Tauri",
          "TensorFlow",
          "Terraform",
          "TiDB",
          "Tidyverse",
          "Torch/PyTorch",
          "TypeScript",
          "Unity 3D",
          "Uno Platform",
          "Unreal Engine",
          "VBA",
          "VMware",
          "Vercel",
          "Visual Basic (.Net)",
          "Visual Studio Solution",
          "Vite",
          "Vue.js",
          "Vultr",
          "Wasmer",
          "Webpack",
          "WordPress",
          "Xamarin",
          "Yarn",
          "Zig",
          "bandit",
          "build2",
          "cppunit",
          "doctest",
          "jQuery",
          "lest",
          "liblittletest",
          "npm",
          "pnpm",
          "snitch",
          "tunit",
          "Database",
          "Developer Tools",
          "Language",
          "Miscellaneous Tech",
          "Platform",
          "Web Framework"
         ],
         "marker": {
          "coloraxis": "coloraxis",
          "colors": [
           646,
           442,
           57,
           3,
           176,
           199,
           386,
           17,
           1055,
           568,
           107,
           352,
           95,
           225,
           95,
           19,
           118,
           1285,
           93,
           131,
           22,
           10,
           576,
           887,
           776,
           518,
           122,
           1,
           33,
           425,
           40,
           54,
           10,
           157,
           24,
           52,
           79,
           219,
           18,
           18,
           8,
           9,
           267,
           29,
           74,
           17,
           10,
           12,
           40,
           152,
           14,
           172,
           40,
           178,
           172,
           2033,
           24,
           18,
           201,
           1,
           374,
           131,
           60,
           20,
           30,
           278,
           21,
           187,
           41,
           209,
           57,
           76,
           215,
           5,
           177,
           40,
           31,
           35,
           372,
           53,
           32,
           441,
           63,
           433,
           156,
           543,
           147,
           184,
           1747,
           27,
           57,
           139,
           375,
           725,
           63,
           14,
           59,
           119,
           57,
           36,
           1285,
           2019,
           54,
           90,
           402,
           39,
           727,
           273,
           130,
           30,
           38,
           27,
           155,
           99,
           37,
           400,
           182,
           633,
           92,
           683,
           693,
           26,
           17,
           78,
           705,
           698,
           538,
           983,
           46,
           125,
           103,
           249,
           9,
           164,
           57,
           950,
           452,
           521,
           78,
           15,
           27,
           53,
           122,
           83,
           53,
           151,
           392,
           47,
           602,
           190,
           478,
           81,
           43,
           787,
           24,
           177,
           1509,
           434,
           22,
           25,
           34,
           1692,
           54,
           215,
           73,
           7,
           145,
           230,
           2,
           5,
           767,
           88,
           460,
           23,
           17,
           164,
           113,
           521,
           7,
           19,
           1698,
           939,
           98,
           17,
           242,
           31,
           23,
           16,
           53,
           502,
           460,
           38,
           160,
           136,
           90,
           131,
           44,
           157,
           391,
           2,
           55,
           197,
           1400,
           145,
           12,
           52,
           120,
           164,
           122,
           87,
           425,
           379,
           488,
           16,
           11,
           523,
           252,
           64,
           534,
           19,
           20,
           5,
           18,
           22,
           436,
           1,
           1,
           1441,
           157,
           1,
           3,
           759.796511627907,
           771.2009041350884,
           1180.2902295663746,
           316.58206278026904,
           520.3547142512659,
           451.00576701268744
          ]
         },
         "name": "",
         "parents": [
          "Miscellaneous Tech",
          "Miscellaneous Tech",
          "Miscellaneous Tech",
          "Language",
          "Developer Tools",
          "Web Framework",
          "Web Framework",
          "Language",
          "Platform",
          "Web Framework",
          "Web Framework",
          "Developer Tools",
          "Developer Tools",
          "Miscellaneous Tech",
          "Miscellaneous Tech",
          "Language",
          "Language",
          "Language",
          "Database",
          "Web Framework",
          "Developer Tools",
          "Developer Tools",
          "Language",
          "Language",
          "Language",
          "Developer Tools",
          "Miscellaneous Tech",
          "Developer Tools",
          "Miscellaneous Tech",
          "Developer Tools",
          "Database",
          "Developer Tools",
          "Developer Tools",
          "Developer Tools",
          "Database",
          "Language",
          "Database",
          "Platform",
          "Language",
          "Database",
          "Web Framework",
          "Platform",
          "Developer Tools",
          "Miscellaneous Tech",
          "Database",
          "Database",
          "Database",
          "Language",
          "Developer Tools",
          "Language",
          "Database",
          "Language",
          "Web Framework",
          "Platform",
          "Web Framework",
          "Developer Tools",
          "Web Framework",
          "Database",
          "Database",
          "Developer Tools",
          "Database",
          "Miscellaneous Tech",
          "Language",
          "Web Framework",
          "Language",
          "Web Framework",
          "Language",
          "Web Framework",
          "Web Framework",
          "Platform",
          "Database",
          "Database",
          "Web Framework",
          "Language",
          "Miscellaneous Tech",
          "Platform",
          "Language",
          "Language",
          "Developer Tools",
          "Miscellaneous Tech",
          "Web Framework",
          "Language",
          "Developer Tools",
          "Platform",
          "Developer Tools",
          "Developer Tools",
          "Language",
          "Database",
          "Language",
          "Miscellaneous Tech",
          "Language",
          "Platform",
          "Platform",
          "Developer Tools",
          "Miscellaneous Tech",
          "Platform",
          "Database",
          "Database",
          "Miscellaneous Tech",
          "Miscellaneous Tech",
          "Language",
          "Language",
          "Language",
          "Miscellaneous Tech",
          "Language",
          "Miscellaneous Tech",
          "Developer Tools",
          "Developer Tools",
          "Web Framework",
          "Platform",
          "Language",
          "Web Framework",
          "Language",
          "Language",
          "Miscellaneous Tech",
          "Developer Tools",
          "Developer Tools",
          "Developer Tools",
          "Platform",
          "Database",
          "Developer Tools",
          "Developer Tools",
          "Miscellaneous Tech",
          "Database",
          "Platform",
          "Database",
          "Database",
          "Database",
          "Database",
          "Web Framework",
          "Platform",
          "Web Framework",
          "Language",
          "Developer Tools",
          "Developer Tools",
          "Web Framework",
          "Developer Tools",
          "Miscellaneous Tech",
          "Web Framework",
          "Language",
          "Platform",
          "Language",
          "Miscellaneous Tech",
          "Platform",
          "Platform",
          "Miscellaneous Tech",
          "Database",
          "Platform",
          "Language",
          "Developer Tools",
          "Miscellaneous Tech",
          "Language",
          "Web Framework",
          "Developer Tools",
          "Web Framework",
          "Developer Tools",
          "Database",
          "Language",
          "Language",
          "Developer Tools",
          "Developer Tools",
          "Language",
          "Developer Tools",
          "Miscellaneous Tech",
          "Miscellaneous Tech",
          "Web Framework",
          "Language",
          "Miscellaneous Tech",
          "Language",
          "Database",
          "Web Framework",
          "Miscellaneous Tech",
          "Database",
          "Web Framework",
          "Platform",
          "Language",
          "Web Framework",
          "Language",
          "Language",
          "Developer Tools",
          "Language",
          "Database",
          "Language",
          "Platform",
          "Miscellaneous Tech",
          "Database",
          "Web Framework",
          "Language",
          "Database",
          "Web Framework",
          "Miscellaneous Tech",
          "Database",
          "Web Framework",
          "Language",
          "Miscellaneous Tech",
          "Web Framework",
          "Miscellaneous Tech",
          "Miscellaneous Tech",
          "Developer Tools",
          "Database",
          "Miscellaneous Tech",
          "Miscellaneous Tech",
          "Language",
          "Developer Tools",
          "Miscellaneous Tech",
          "Developer Tools",
          "Language",
          "Platform",
          "Platform",
          "Language",
          "Developer Tools",
          "Developer Tools",
          "Web Framework",
          "Platform",
          "Developer Tools",
          "Developer Tools",
          "Web Framework",
          "Miscellaneous Tech",
          "Developer Tools",
          "Language",
          "Developer Tools",
          "Developer Tools",
          "Developer Tools",
          "Developer Tools",
          "Web Framework",
          "Developer Tools",
          "Developer Tools",
          "Developer Tools",
          "Developer Tools",
          "Developer Tools",
          "Developer Tools",
          "",
          "",
          "",
          "",
          "",
          ""
         ],
         "type": "treemap",
         "values": [
          646,
          442,
          57,
          3,
          176,
          199,
          386,
          17,
          1055,
          568,
          107,
          352,
          95,
          225,
          95,
          19,
          118,
          1285,
          93,
          131,
          22,
          10,
          576,
          887,
          776,
          518,
          122,
          1,
          33,
          425,
          40,
          54,
          10,
          157,
          24,
          52,
          79,
          219,
          18,
          18,
          8,
          9,
          267,
          29,
          74,
          17,
          10,
          12,
          40,
          152,
          14,
          172,
          40,
          178,
          172,
          2033,
          24,
          18,
          201,
          1,
          374,
          131,
          60,
          20,
          30,
          278,
          21,
          187,
          41,
          209,
          57,
          76,
          215,
          5,
          177,
          40,
          31,
          35,
          372,
          53,
          32,
          441,
          63,
          433,
          156,
          543,
          147,
          184,
          1747,
          27,
          57,
          139,
          375,
          725,
          63,
          14,
          59,
          119,
          57,
          36,
          1285,
          2019,
          54,
          90,
          402,
          39,
          727,
          273,
          130,
          30,
          38,
          27,
          155,
          99,
          37,
          400,
          182,
          633,
          92,
          683,
          693,
          26,
          17,
          78,
          705,
          698,
          538,
          983,
          46,
          125,
          103,
          249,
          9,
          164,
          57,
          950,
          452,
          521,
          78,
          15,
          27,
          53,
          122,
          83,
          53,
          151,
          392,
          47,
          602,
          190,
          478,
          81,
          43,
          787,
          24,
          177,
          1509,
          434,
          22,
          25,
          34,
          1692,
          54,
          215,
          73,
          7,
          145,
          230,
          2,
          5,
          767,
          88,
          460,
          23,
          17,
          164,
          113,
          521,
          7,
          19,
          1698,
          939,
          98,
          17,
          242,
          31,
          23,
          16,
          53,
          502,
          460,
          38,
          160,
          136,
          90,
          131,
          44,
          157,
          391,
          2,
          55,
          197,
          1400,
          145,
          12,
          52,
          120,
          164,
          122,
          87,
          425,
          379,
          488,
          16,
          11,
          523,
          252,
          64,
          534,
          19,
          20,
          5,
          18,
          22,
          436,
          1,
          1,
          1441,
          157,
          1,
          3,
          7912,
          15042,
          18034,
          5575,
          4147,
          6936
         ]
        }
       ],
       "layout": {
        "coloraxis": {
         "colorbar": {
          "title": {
           "text": "freq"
          }
         },
         "colorscale": [
          [
           0,
           "#440154"
          ],
          [
           0.1111111111111111,
           "#482878"
          ],
          [
           0.2222222222222222,
           "#3e4989"
          ],
          [
           0.3333333333333333,
           "#31688e"
          ],
          [
           0.4444444444444444,
           "#26828e"
          ],
          [
           0.5555555555555556,
           "#1f9e89"
          ],
          [
           0.6666666666666666,
           "#35b779"
          ],
          [
           0.7777777777777778,
           "#6ece58"
          ],
          [
           0.8888888888888888,
           "#b5de2b"
          ],
          [
           1,
           "#fde725"
          ]
         ]
        },
        "height": 700,
        "legend": {
         "tracegroupgap": 0
        },
        "margin": {
         "t": 60
        },
        "template": {
         "data": {
          "bar": [
           {
            "error_x": {
             "color": "#2a3f5f"
            },
            "error_y": {
             "color": "#2a3f5f"
            },
            "marker": {
             "line": {
              "color": "#E5ECF6",
              "width": 0.5
             },
             "pattern": {
              "fillmode": "overlay",
              "size": 10,
              "solidity": 0.2
             }
            },
            "type": "bar"
           }
          ],
          "barpolar": [
           {
            "marker": {
             "line": {
              "color": "#E5ECF6",
              "width": 0.5
             },
             "pattern": {
              "fillmode": "overlay",
              "size": 10,
              "solidity": 0.2
             }
            },
            "type": "barpolar"
           }
          ],
          "carpet": [
           {
            "aaxis": {
             "endlinecolor": "#2a3f5f",
             "gridcolor": "white",
             "linecolor": "white",
             "minorgridcolor": "white",
             "startlinecolor": "#2a3f5f"
            },
            "baxis": {
             "endlinecolor": "#2a3f5f",
             "gridcolor": "white",
             "linecolor": "white",
             "minorgridcolor": "white",
             "startlinecolor": "#2a3f5f"
            },
            "type": "carpet"
           }
          ],
          "choropleth": [
           {
            "colorbar": {
             "outlinewidth": 0,
             "ticks": ""
            },
            "type": "choropleth"
           }
          ],
          "contour": [
           {
            "colorbar": {
             "outlinewidth": 0,
             "ticks": ""
            },
            "colorscale": [
             [
              0,
              "#0d0887"
             ],
             [
              0.1111111111111111,
              "#46039f"
             ],
             [
              0.2222222222222222,
              "#7201a8"
             ],
             [
              0.3333333333333333,
              "#9c179e"
             ],
             [
              0.4444444444444444,
              "#bd3786"
             ],
             [
              0.5555555555555556,
              "#d8576b"
             ],
             [
              0.6666666666666666,
              "#ed7953"
             ],
             [
              0.7777777777777778,
              "#fb9f3a"
             ],
             [
              0.8888888888888888,
              "#fdca26"
             ],
             [
              1,
              "#f0f921"
             ]
            ],
            "type": "contour"
           }
          ],
          "contourcarpet": [
           {
            "colorbar": {
             "outlinewidth": 0,
             "ticks": ""
            },
            "type": "contourcarpet"
           }
          ],
          "heatmap": [
           {
            "colorbar": {
             "outlinewidth": 0,
             "ticks": ""
            },
            "colorscale": [
             [
              0,
              "#0d0887"
             ],
             [
              0.1111111111111111,
              "#46039f"
             ],
             [
              0.2222222222222222,
              "#7201a8"
             ],
             [
              0.3333333333333333,
              "#9c179e"
             ],
             [
              0.4444444444444444,
              "#bd3786"
             ],
             [
              0.5555555555555556,
              "#d8576b"
             ],
             [
              0.6666666666666666,
              "#ed7953"
             ],
             [
              0.7777777777777778,
              "#fb9f3a"
             ],
             [
              0.8888888888888888,
              "#fdca26"
             ],
             [
              1,
              "#f0f921"
             ]
            ],
            "type": "heatmap"
           }
          ],
          "heatmapgl": [
           {
            "colorbar": {
             "outlinewidth": 0,
             "ticks": ""
            },
            "colorscale": [
             [
              0,
              "#0d0887"
             ],
             [
              0.1111111111111111,
              "#46039f"
             ],
             [
              0.2222222222222222,
              "#7201a8"
             ],
             [
              0.3333333333333333,
              "#9c179e"
             ],
             [
              0.4444444444444444,
              "#bd3786"
             ],
             [
              0.5555555555555556,
              "#d8576b"
             ],
             [
              0.6666666666666666,
              "#ed7953"
             ],
             [
              0.7777777777777778,
              "#fb9f3a"
             ],
             [
              0.8888888888888888,
              "#fdca26"
             ],
             [
              1,
              "#f0f921"
             ]
            ],
            "type": "heatmapgl"
           }
          ],
          "histogram": [
           {
            "marker": {
             "pattern": {
              "fillmode": "overlay",
              "size": 10,
              "solidity": 0.2
             }
            },
            "type": "histogram"
           }
          ],
          "histogram2d": [
           {
            "colorbar": {
             "outlinewidth": 0,
             "ticks": ""
            },
            "colorscale": [
             [
              0,
              "#0d0887"
             ],
             [
              0.1111111111111111,
              "#46039f"
             ],
             [
              0.2222222222222222,
              "#7201a8"
             ],
             [
              0.3333333333333333,
              "#9c179e"
             ],
             [
              0.4444444444444444,
              "#bd3786"
             ],
             [
              0.5555555555555556,
              "#d8576b"
             ],
             [
              0.6666666666666666,
              "#ed7953"
             ],
             [
              0.7777777777777778,
              "#fb9f3a"
             ],
             [
              0.8888888888888888,
              "#fdca26"
             ],
             [
              1,
              "#f0f921"
             ]
            ],
            "type": "histogram2d"
           }
          ],
          "histogram2dcontour": [
           {
            "colorbar": {
             "outlinewidth": 0,
             "ticks": ""
            },
            "colorscale": [
             [
              0,
              "#0d0887"
             ],
             [
              0.1111111111111111,
              "#46039f"
             ],
             [
              0.2222222222222222,
              "#7201a8"
             ],
             [
              0.3333333333333333,
              "#9c179e"
             ],
             [
              0.4444444444444444,
              "#bd3786"
             ],
             [
              0.5555555555555556,
              "#d8576b"
             ],
             [
              0.6666666666666666,
              "#ed7953"
             ],
             [
              0.7777777777777778,
              "#fb9f3a"
             ],
             [
              0.8888888888888888,
              "#fdca26"
             ],
             [
              1,
              "#f0f921"
             ]
            ],
            "type": "histogram2dcontour"
           }
          ],
          "mesh3d": [
           {
            "colorbar": {
             "outlinewidth": 0,
             "ticks": ""
            },
            "type": "mesh3d"
           }
          ],
          "parcoords": [
           {
            "line": {
             "colorbar": {
              "outlinewidth": 0,
              "ticks": ""
             }
            },
            "type": "parcoords"
           }
          ],
          "pie": [
           {
            "automargin": true,
            "type": "pie"
           }
          ],
          "scatter": [
           {
            "fillpattern": {
             "fillmode": "overlay",
             "size": 10,
             "solidity": 0.2
            },
            "type": "scatter"
           }
          ],
          "scatter3d": [
           {
            "line": {
             "colorbar": {
              "outlinewidth": 0,
              "ticks": ""
             }
            },
            "marker": {
             "colorbar": {
              "outlinewidth": 0,
              "ticks": ""
             }
            },
            "type": "scatter3d"
           }
          ],
          "scattercarpet": [
           {
            "marker": {
             "colorbar": {
              "outlinewidth": 0,
              "ticks": ""
             }
            },
            "type": "scattercarpet"
           }
          ],
          "scattergeo": [
           {
            "marker": {
             "colorbar": {
              "outlinewidth": 0,
              "ticks": ""
             }
            },
            "type": "scattergeo"
           }
          ],
          "scattergl": [
           {
            "marker": {
             "colorbar": {
              "outlinewidth": 0,
              "ticks": ""
             }
            },
            "type": "scattergl"
           }
          ],
          "scattermapbox": [
           {
            "marker": {
             "colorbar": {
              "outlinewidth": 0,
              "ticks": ""
             }
            },
            "type": "scattermapbox"
           }
          ],
          "scatterpolar": [
           {
            "marker": {
             "colorbar": {
              "outlinewidth": 0,
              "ticks": ""
             }
            },
            "type": "scatterpolar"
           }
          ],
          "scatterpolargl": [
           {
            "marker": {
             "colorbar": {
              "outlinewidth": 0,
              "ticks": ""
             }
            },
            "type": "scatterpolargl"
           }
          ],
          "scatterternary": [
           {
            "marker": {
             "colorbar": {
              "outlinewidth": 0,
              "ticks": ""
             }
            },
            "type": "scatterternary"
           }
          ],
          "surface": [
           {
            "colorbar": {
             "outlinewidth": 0,
             "ticks": ""
            },
            "colorscale": [
             [
              0,
              "#0d0887"
             ],
             [
              0.1111111111111111,
              "#46039f"
             ],
             [
              0.2222222222222222,
              "#7201a8"
             ],
             [
              0.3333333333333333,
              "#9c179e"
             ],
             [
              0.4444444444444444,
              "#bd3786"
             ],
             [
              0.5555555555555556,
              "#d8576b"
             ],
             [
              0.6666666666666666,
              "#ed7953"
             ],
             [
              0.7777777777777778,
              "#fb9f3a"
             ],
             [
              0.8888888888888888,
              "#fdca26"
             ],
             [
              1,
              "#f0f921"
             ]
            ],
            "type": "surface"
           }
          ],
          "table": [
           {
            "cells": {
             "fill": {
              "color": "#EBF0F8"
             },
             "line": {
              "color": "white"
             }
            },
            "header": {
             "fill": {
              "color": "#C8D4E3"
             },
             "line": {
              "color": "white"
             }
            },
            "type": "table"
           }
          ]
         },
         "layout": {
          "annotationdefaults": {
           "arrowcolor": "#2a3f5f",
           "arrowhead": 0,
           "arrowwidth": 1
          },
          "autotypenumbers": "strict",
          "coloraxis": {
           "colorbar": {
            "outlinewidth": 0,
            "ticks": ""
           }
          },
          "colorscale": {
           "diverging": [
            [
             0,
             "#8e0152"
            ],
            [
             0.1,
             "#c51b7d"
            ],
            [
             0.2,
             "#de77ae"
            ],
            [
             0.3,
             "#f1b6da"
            ],
            [
             0.4,
             "#fde0ef"
            ],
            [
             0.5,
             "#f7f7f7"
            ],
            [
             0.6,
             "#e6f5d0"
            ],
            [
             0.7,
             "#b8e186"
            ],
            [
             0.8,
             "#7fbc41"
            ],
            [
             0.9,
             "#4d9221"
            ],
            [
             1,
             "#276419"
            ]
           ],
           "sequential": [
            [
             0,
             "#0d0887"
            ],
            [
             0.1111111111111111,
             "#46039f"
            ],
            [
             0.2222222222222222,
             "#7201a8"
            ],
            [
             0.3333333333333333,
             "#9c179e"
            ],
            [
             0.4444444444444444,
             "#bd3786"
            ],
            [
             0.5555555555555556,
             "#d8576b"
            ],
            [
             0.6666666666666666,
             "#ed7953"
            ],
            [
             0.7777777777777778,
             "#fb9f3a"
            ],
            [
             0.8888888888888888,
             "#fdca26"
            ],
            [
             1,
             "#f0f921"
            ]
           ],
           "sequentialminus": [
            [
             0,
             "#0d0887"
            ],
            [
             0.1111111111111111,
             "#46039f"
            ],
            [
             0.2222222222222222,
             "#7201a8"
            ],
            [
             0.3333333333333333,
             "#9c179e"
            ],
            [
             0.4444444444444444,
             "#bd3786"
            ],
            [
             0.5555555555555556,
             "#d8576b"
            ],
            [
             0.6666666666666666,
             "#ed7953"
            ],
            [
             0.7777777777777778,
             "#fb9f3a"
            ],
            [
             0.8888888888888888,
             "#fdca26"
            ],
            [
             1,
             "#f0f921"
            ]
           ]
          },
          "colorway": [
           "#636efa",
           "#EF553B",
           "#00cc96",
           "#ab63fa",
           "#FFA15A",
           "#19d3f3",
           "#FF6692",
           "#B6E880",
           "#FF97FF",
           "#FECB52"
          ],
          "font": {
           "color": "#2a3f5f"
          },
          "geo": {
           "bgcolor": "white",
           "lakecolor": "white",
           "landcolor": "#E5ECF6",
           "showlakes": true,
           "showland": true,
           "subunitcolor": "white"
          },
          "hoverlabel": {
           "align": "left"
          },
          "hovermode": "closest",
          "mapbox": {
           "style": "light"
          },
          "paper_bgcolor": "white",
          "plot_bgcolor": "#E5ECF6",
          "polar": {
           "angularaxis": {
            "gridcolor": "white",
            "linecolor": "white",
            "ticks": ""
           },
           "bgcolor": "#E5ECF6",
           "radialaxis": {
            "gridcolor": "white",
            "linecolor": "white",
            "ticks": ""
           }
          },
          "scene": {
           "xaxis": {
            "backgroundcolor": "#E5ECF6",
            "gridcolor": "white",
            "gridwidth": 2,
            "linecolor": "white",
            "showbackground": true,
            "ticks": "",
            "zerolinecolor": "white"
           },
           "yaxis": {
            "backgroundcolor": "#E5ECF6",
            "gridcolor": "white",
            "gridwidth": 2,
            "linecolor": "white",
            "showbackground": true,
            "ticks": "",
            "zerolinecolor": "white"
           },
           "zaxis": {
            "backgroundcolor": "#E5ECF6",
            "gridcolor": "white",
            "gridwidth": 2,
            "linecolor": "white",
            "showbackground": true,
            "ticks": "",
            "zerolinecolor": "white"
           }
          },
          "shapedefaults": {
           "line": {
            "color": "#2a3f5f"
           }
          },
          "ternary": {
           "aaxis": {
            "gridcolor": "white",
            "linecolor": "white",
            "ticks": ""
           },
           "baxis": {
            "gridcolor": "white",
            "linecolor": "white",
            "ticks": ""
           },
           "bgcolor": "#E5ECF6",
           "caxis": {
            "gridcolor": "white",
            "linecolor": "white",
            "ticks": ""
           }
          },
          "title": {
           "x": 0.05
          },
          "xaxis": {
           "automargin": true,
           "gridcolor": "white",
           "linecolor": "white",
           "ticks": "",
           "title": {
            "standoff": 15
           },
           "zerolinecolor": "white",
           "zerolinewidth": 2
          },
          "yaxis": {
           "automargin": true,
           "gridcolor": "white",
           "linecolor": "white",
           "ticks": "",
           "title": {
            "standoff": 15
           },
           "zerolinecolor": "white",
           "zerolinewidth": 2
          }
         }
        },
        "title": {
         "text": "Skills of Germany respondents"
        },
        "width": 1000
       }
      }
     },
     "metadata": {},
     "output_type": "display_data"
    },
    {
     "data": {
      "application/vnd.plotly.v1+json": {
       "config": {
        "plotlyServerURL": "https://plot.ly"
       },
       "data": [
        {
         "branchvalues": "total",
         "customdata": [
          [
           786
          ],
          [
           507
          ],
          [
           65
          ],
          [
           4
          ],
          [
           93
          ],
          [
           399
          ],
          [
           591
          ],
          [
           20
          ],
          [
           1463
          ],
          [
           283
          ],
          [
           112
          ],
          [
           211
          ],
          [
           47
          ],
          [
           144
          ],
          [
           73
          ],
          [
           14
          ],
          [
           87
          ],
          [
           1037
          ],
          [
           112
          ],
          [
           172
          ],
          [
           15
          ],
          [
           9
          ],
          [
           320
          ],
          [
           1032
          ],
          [
           441
          ],
          [
           267
          ],
          [
           54
          ],
          [
           2
          ],
          [
           21
          ],
          [
           261
          ],
          [
           27
          ],
          [
           25
          ],
          [
           19
          ],
          [
           159
          ],
          [
           18
          ],
          [
           46
          ],
          [
           103
          ],
          [
           319
          ],
          [
           7
          ],
          [
           10
          ],
          [
           15
          ],
          [
           13
          ],
          [
           173
          ],
          [
           24
          ],
          [
           132
          ],
          [
           22
          ],
          [
           24
          ],
          [
           10
          ],
          [
           31
          ],
          [
           87
          ],
          [
           2
          ],
          [
           103
          ],
          [
           24
          ],
          [
           257
          ],
          [
           149
          ],
          [
           1483
          ],
          [
           23
          ],
          [
           11
          ],
          [
           317
          ],
          [
           1
          ],
          [
           273
          ],
          [
           57
          ],
          [
           49
          ],
          [
           20
          ],
          [
           23
          ],
          [
           247
          ],
          [
           39
          ],
          [
           112
          ],
          [
           23
          ],
          [
           184
          ],
          [
           55
          ],
          [
           19
          ],
          [
           193
          ],
          [
           7
          ],
          [
           97
          ],
          [
           31
          ],
          [
           27
          ],
          [
           34
          ],
          [
           217
          ],
          [
           27
          ],
          [
           61
          ],
          [
           339
          ],
          [
           59
          ],
          [
           430
          ],
          [
           64
          ],
          [
           317
          ],
          [
           93
          ],
          [
           59
          ],
          [
           1528
          ],
          [
           34
          ],
          [
           43
          ],
          [
           151
          ],
          [
           42
          ],
          [
           629
          ],
          [
           38
          ],
          [
           15
          ],
          [
           16
          ],
          [
           54
          ],
          [
           23
          ],
          [
           15
          ],
          [
           576
          ],
          [
           1886
          ],
          [
           21
          ],
          [
           36
          ],
          [
           201
          ],
          [
           22
          ],
          [
           475
          ],
          [
           153
          ],
          [
           143
          ],
          [
           64
          ],
          [
           31
          ],
          [
           10
          ],
          [
           118
          ],
          [
           62
          ],
          [
           24
          ],
          [
           441
          ],
          [
           103
          ],
          [
           463
          ],
          [
           56
          ],
          [
           301
          ],
          [
           270
          ],
          [
           15
          ],
          [
           11
          ],
          [
           67
          ],
          [
           854
          ],
          [
           873
          ],
          [
           401
          ],
          [
           816
          ],
          [
           44
          ],
          [
           43
          ],
          [
           133
          ],
          [
           295
          ],
          [
           6
          ],
          [
           67
          ],
          [
           47
          ],
          [
           763
          ],
          [
           545
          ],
          [
           335
          ],
          [
           53
          ],
          [
           15
          ],
          [
           44
          ],
          [
           48
          ],
          [
           95
          ],
          [
           28
          ],
          [
           23
          ],
          [
           83
          ],
          [
           156
          ],
          [
           33
          ],
          [
           454
          ],
          [
           85
          ],
          [
           357
          ],
          [
           78
          ],
          [
           39
          ],
          [
           580
          ],
          [
           19
          ],
          [
           68
          ],
          [
           1014
          ],
          [
           444
          ],
          [
           11
          ],
          [
           21
          ],
          [
           36
          ],
          [
           1329
          ],
          [
           18
          ],
          [
           77
          ],
          [
           14
          ],
          [
           2
          ],
          [
           102
          ],
          [
           182
          ],
          [
           7
          ],
          [
           6
          ],
          [
           884
          ],
          [
           112
          ],
          [
           402
          ],
          [
           22
          ],
          [
           20
          ],
          [
           196
          ],
          [
           139
          ],
          [
           315
          ],
          [
           18
          ],
          [
           10
          ],
          [
           1536
          ],
          [
           585
          ],
          [
           111
          ],
          [
           12
          ],
          [
           148
          ],
          [
           70
          ],
          [
           16
          ],
          [
           16
          ],
          [
           37
          ],
          [
           165
          ],
          [
           161
          ],
          [
           44
          ],
          [
           94
          ],
          [
           104
          ],
          [
           63
          ],
          [
           63
          ],
          [
           21
          ],
          [
           96
          ],
          [
           471
          ],
          [
           2
          ],
          [
           50
          ],
          [
           122
          ],
          [
           1088
          ],
          [
           114
          ],
          [
           13
          ],
          [
           51
          ],
          [
           106
          ],
          [
           101
          ],
          [
           151
          ],
          [
           114
          ],
          [
           521
          ],
          [
           260
          ],
          [
           280
          ],
          [
           30
          ],
          [
           6
          ],
          [
           540
          ],
          [
           236
          ],
          [
           59
          ],
          [
           480
          ],
          [
           18
          ],
          [
           10
          ],
          [
           2
          ],
          [
           10
          ],
          [
           8
          ],
          [
           493
          ],
          [
           1
          ],
          [
           1
          ],
          [
           1202
          ],
          [
           91
          ],
          [
           2
          ],
          [
           1
          ],
          [
           572.8573781291173
          ],
          [
           617.7749333333334
          ],
          [
           1027.6021804041386
          ],
          [
           325.79139891250617
          ],
          [
           751.2070049393803
          ],
          [
           434.20038816108683
          ]
         ],
         "domain": {
          "x": [
           0,
           1
          ],
          "y": [
           0,
           1
          ]
         },
         "hovertemplate": "labels=%{label}<br>freq_sum=%{value}<br>parent=%{parent}<br>id=%{id}<br>freq=%{color}<extra></extra>",
         "ids": [
          "Miscellaneous Tech/.NET (5+) ",
          "Miscellaneous Tech/.NET Framework (1.0 - 4.8)",
          "Miscellaneous Tech/.NET MAUI",
          "Language/APL",
          "Developer Tools/APT",
          "Web Framework/ASP.NET",
          "Web Framework/ASP.NET CORE",
          "Language/Ada",
          "Platform/Amazon Web Services (AWS)",
          "Web Framework/Angular",
          "Web Framework/AngularJS",
          "Developer Tools/Ansible",
          "Developer Tools/Ant",
          "Miscellaneous Tech/Apache Kafka",
          "Miscellaneous Tech/Apache Spark",
          "Language/Apex",
          "Language/Assembly",
          "Language/Bash/Shell (all shells)",
          "Database/BigQuery",
          "Web Framework/Blazor",
          "Developer Tools/Boost.Test",
          "Developer Tools/Bun",
          "Language/C",
          "Language/C#",
          "Language/C++",
          "Developer Tools/CMake",
          "Miscellaneous Tech/CUDA",
          "Developer Tools/CUTE",
          "Miscellaneous Tech/Capacitor",
          "Developer Tools/Cargo",
          "Database/Cassandra",
          "Developer Tools/Catch2",
          "Developer Tools/Chef",
          "Developer Tools/Chocolatey",
          "Database/Clickhouse",
          "Language/Clojure",
          "Database/Cloud Firestore",
          "Platform/Cloudflare",
          "Language/Cobol",
          "Database/Cockroachdb",
          "Web Framework/CodeIgniter",
          "Platform/Colocation",
          "Developer Tools/Composer",
          "Miscellaneous Tech/Cordova",
          "Database/Cosmos DB",
          "Database/Couch DB",
          "Database/Couchbase",
          "Language/Crystal",
          "Developer Tools/Dagger",
          "Language/Dart",
          "Database/Datomic",
          "Language/Delphi",
          "Web Framework/Deno",
          "Platform/Digital Ocean",
          "Web Framework/Django",
          "Developer Tools/Docker",
          "Web Framework/Drupal",
          "Database/DuckDB",
          "Database/Dynamodb",
          "Developer Tools/ELFspy",
          "Database/Elasticsearch",
          "Miscellaneous Tech/Electron",
          "Language/Elixir",
          "Web Framework/Elm",
          "Language/Erlang",
          "Web Framework/Express",
          "Language/F#",
          "Web Framework/FastAPI",
          "Web Framework/Fastify",
          "Platform/Firebase",
          "Database/Firebase Realtime Database",
          "Database/Firebird",
          "Web Framework/Flask",
          "Language/Flow",
          "Miscellaneous Tech/Flutter",
          "Platform/Fly.io",
          "Language/Fortran",
          "Language/GDScript",
          "Developer Tools/GNU GCC",
          "Miscellaneous Tech/GTK",
          "Web Framework/Gatsby",
          "Language/Go",
          "Developer Tools/Godot",
          "Platform/Google Cloud",
          "Developer Tools/Google Test",
          "Developer Tools/Gradle",
          "Language/Groovy",
          "Database/H2",
          "Language/HTML/CSS",
          "Miscellaneous Tech/Hadoop",
          "Language/Haskell",
          "Platform/Heroku",
          "Platform/Hetzner",
          "Developer Tools/Homebrew",
          "Miscellaneous Tech/Hugging Face Transformers",
          "Platform/IBM Cloud Or Watson",
          "Database/IBM DB2",
          "Database/InfluxDB",
          "Miscellaneous Tech/Ionic",
          "Miscellaneous Tech/JAX",
          "Language/Java",
          "Language/JavaScript",
          "Language/Julia",
          "Miscellaneous Tech/Keras",
          "Language/Kotlin",
          "Miscellaneous Tech/Ktor",
          "Developer Tools/Kubernetes",
          "Developer Tools/LLVM's Clang",
          "Web Framework/Laravel",
          "Platform/Linode, now Akamai",
          "Language/Lisp",
          "Web Framework/Lit",
          "Language/Lua",
          "Language/MATLAB",
          "Miscellaneous Tech/MFC",
          "Developer Tools/MSBuild",
          "Developer Tools/MSVC",
          "Developer Tools/Make",
          "Platform/Managed Hosting",
          "Database/MariaDB",
          "Developer Tools/Maven (build tool)",
          "Developer Tools/Meson",
          "Miscellaneous Tech/Micronaut",
          "Database/Microsoft Access",
          "Platform/Microsoft Azure",
          "Database/Microsoft SQL Server",
          "Database/MongoDB",
          "Database/MySQL",
          "Database/Neo4J",
          "Web Framework/NestJS",
          "Platform/Netlify",
          "Web Framework/Next.js",
          "Language/Nim",
          "Developer Tools/Ninja",
          "Developer Tools/Nix",
          "Web Framework/Node.js",
          "Developer Tools/NuGet",
          "Miscellaneous Tech/NumPy",
          "Web Framework/Nuxt.js",
          "Language/OCaml",
          "Platform/OVH",
          "Language/Objective-C",
          "Miscellaneous Tech/OpenGL",
          "Platform/OpenShift",
          "Platform/OpenStack",
          "Miscellaneous Tech/Opencv",
          "Database/Oracle",
          "Platform/Oracle Cloud Infrastructure (OCI)",
          "Language/PHP",
          "Developer Tools/Pacman",
          "Miscellaneous Tech/Pandas",
          "Language/Perl",
          "Web Framework/Phoenix",
          "Developer Tools/Pip",
          "Web Framework/Play Framework",
          "Developer Tools/Podman",
          "Database/PostgreSQL",
          "Language/PowerShell",
          "Language/Prolog",
          "Developer Tools/Pulumi",
          "Developer Tools/Puppet",
          "Language/Python",
          "Developer Tools/QMake",
          "Miscellaneous Tech/Qt",
          "Miscellaneous Tech/Quarkus",
          "Web Framework/Qwik",
          "Language/R",
          "Miscellaneous Tech/RabbitMQ",
          "Language/Raku",
          "Database/RavenDB",
          "Web Framework/React",
          "Miscellaneous Tech/React Native",
          "Database/Redis",
          "Web Framework/Remix",
          "Platform/Render",
          "Language/Ruby",
          "Web Framework/Ruby on Rails",
          "Language/Rust",
          "Language/SAS",
          "Developer Tools/SCons",
          "Language/SQL",
          "Database/SQLite",
          "Language/Scala",
          "Platform/Scaleway",
          "Miscellaneous Tech/Scikit-Learn",
          "Database/Snowflake",
          "Web Framework/Solid.js",
          "Language/Solidity",
          "Database/Solr",
          "Web Framework/Spring Boot",
          "Miscellaneous Tech/Spring Framework",
          "Database/Supabase",
          "Web Framework/Svelte",
          "Language/Swift",
          "Miscellaneous Tech/SwiftUI",
          "Web Framework/Symfony",
          "Miscellaneous Tech/Tauri",
          "Miscellaneous Tech/TensorFlow",
          "Developer Tools/Terraform",
          "Database/TiDB",
          "Miscellaneous Tech/Tidyverse",
          "Miscellaneous Tech/Torch/PyTorch",
          "Language/TypeScript",
          "Developer Tools/Unity 3D",
          "Miscellaneous Tech/Uno Platform",
          "Developer Tools/Unreal Engine",
          "Language/VBA",
          "Platform/VMware",
          "Platform/Vercel",
          "Language/Visual Basic (.Net)",
          "Developer Tools/Visual Studio Solution",
          "Developer Tools/Vite",
          "Web Framework/Vue.js",
          "Platform/Vultr",
          "Developer Tools/Wasmer",
          "Developer Tools/Webpack",
          "Web Framework/WordPress",
          "Miscellaneous Tech/Xamarin",
          "Developer Tools/Yarn",
          "Language/Zig",
          "Developer Tools/bandit",
          "Developer Tools/build2",
          "Developer Tools/cppunit",
          "Developer Tools/doctest",
          "Web Framework/jQuery",
          "Developer Tools/lest",
          "Developer Tools/liblittletest",
          "Developer Tools/npm",
          "Developer Tools/pnpm",
          "Developer Tools/snitch",
          "Developer Tools/tunit",
          "Database",
          "Developer Tools",
          "Language",
          "Miscellaneous Tech",
          "Platform",
          "Web Framework"
         ],
         "labels": [
          ".NET (5+) ",
          ".NET Framework (1.0 - 4.8)",
          ".NET MAUI",
          "APL",
          "APT",
          "ASP.NET",
          "ASP.NET CORE",
          "Ada",
          "Amazon Web Services (AWS)",
          "Angular",
          "AngularJS",
          "Ansible",
          "Ant",
          "Apache Kafka",
          "Apache Spark",
          "Apex",
          "Assembly",
          "Bash/Shell (all shells)",
          "BigQuery",
          "Blazor",
          "Boost.Test",
          "Bun",
          "C",
          "C#",
          "C++",
          "CMake",
          "CUDA",
          "CUTE",
          "Capacitor",
          "Cargo",
          "Cassandra",
          "Catch2",
          "Chef",
          "Chocolatey",
          "Clickhouse",
          "Clojure",
          "Cloud Firestore",
          "Cloudflare",
          "Cobol",
          "Cockroachdb",
          "CodeIgniter",
          "Colocation",
          "Composer",
          "Cordova",
          "Cosmos DB",
          "Couch DB",
          "Couchbase",
          "Crystal",
          "Dagger",
          "Dart",
          "Datomic",
          "Delphi",
          "Deno",
          "Digital Ocean",
          "Django",
          "Docker",
          "Drupal",
          "DuckDB",
          "Dynamodb",
          "ELFspy",
          "Elasticsearch",
          "Electron",
          "Elixir",
          "Elm",
          "Erlang",
          "Express",
          "F#",
          "FastAPI",
          "Fastify",
          "Firebase",
          "Firebase Realtime Database",
          "Firebird",
          "Flask",
          "Flow",
          "Flutter",
          "Fly.io",
          "Fortran",
          "GDScript",
          "GNU GCC",
          "GTK",
          "Gatsby",
          "Go",
          "Godot",
          "Google Cloud",
          "Google Test",
          "Gradle",
          "Groovy",
          "H2",
          "HTML/CSS",
          "Hadoop",
          "Haskell",
          "Heroku",
          "Hetzner",
          "Homebrew",
          "Hugging Face Transformers",
          "IBM Cloud Or Watson",
          "IBM DB2",
          "InfluxDB",
          "Ionic",
          "JAX",
          "Java",
          "JavaScript",
          "Julia",
          "Keras",
          "Kotlin",
          "Ktor",
          "Kubernetes",
          "LLVM's Clang",
          "Laravel",
          "Linode, now Akamai",
          "Lisp",
          "Lit",
          "Lua",
          "MATLAB",
          "MFC",
          "MSBuild",
          "MSVC",
          "Make",
          "Managed Hosting",
          "MariaDB",
          "Maven (build tool)",
          "Meson",
          "Micronaut",
          "Microsoft Access",
          "Microsoft Azure",
          "Microsoft SQL Server",
          "MongoDB",
          "MySQL",
          "Neo4J",
          "NestJS",
          "Netlify",
          "Next.js",
          "Nim",
          "Ninja",
          "Nix",
          "Node.js",
          "NuGet",
          "NumPy",
          "Nuxt.js",
          "OCaml",
          "OVH",
          "Objective-C",
          "OpenGL",
          "OpenShift",
          "OpenStack",
          "Opencv",
          "Oracle",
          "Oracle Cloud Infrastructure (OCI)",
          "PHP",
          "Pacman",
          "Pandas",
          "Perl",
          "Phoenix",
          "Pip",
          "Play Framework",
          "Podman",
          "PostgreSQL",
          "PowerShell",
          "Prolog",
          "Pulumi",
          "Puppet",
          "Python",
          "QMake",
          "Qt",
          "Quarkus",
          "Qwik",
          "R",
          "RabbitMQ",
          "Raku",
          "RavenDB",
          "React",
          "React Native",
          "Redis",
          "Remix",
          "Render",
          "Ruby",
          "Ruby on Rails",
          "Rust",
          "SAS",
          "SCons",
          "SQL",
          "SQLite",
          "Scala",
          "Scaleway",
          "Scikit-Learn",
          "Snowflake",
          "Solid.js",
          "Solidity",
          "Solr",
          "Spring Boot",
          "Spring Framework",
          "Supabase",
          "Svelte",
          "Swift",
          "SwiftUI",
          "Symfony",
          "Tauri",
          "TensorFlow",
          "Terraform",
          "TiDB",
          "Tidyverse",
          "Torch/PyTorch",
          "TypeScript",
          "Unity 3D",
          "Uno Platform",
          "Unreal Engine",
          "VBA",
          "VMware",
          "Vercel",
          "Visual Basic (.Net)",
          "Visual Studio Solution",
          "Vite",
          "Vue.js",
          "Vultr",
          "Wasmer",
          "Webpack",
          "WordPress",
          "Xamarin",
          "Yarn",
          "Zig",
          "bandit",
          "build2",
          "cppunit",
          "doctest",
          "jQuery",
          "lest",
          "liblittletest",
          "npm",
          "pnpm",
          "snitch",
          "tunit",
          "Database",
          "Developer Tools",
          "Language",
          "Miscellaneous Tech",
          "Platform",
          "Web Framework"
         ],
         "marker": {
          "coloraxis": "coloraxis",
          "colors": [
           786,
           507,
           65,
           4,
           93,
           399,
           591,
           20,
           1463,
           283,
           112,
           211,
           47,
           144,
           73,
           14,
           87,
           1037,
           112,
           172,
           15,
           9,
           320,
           1032,
           441,
           267,
           54,
           2,
           21,
           261,
           27,
           25,
           19,
           159,
           18,
           46,
           103,
           319,
           7,
           10,
           15,
           13,
           173,
           24,
           132,
           22,
           24,
           10,
           31,
           87,
           2,
           103,
           24,
           257,
           149,
           1483,
           23,
           11,
           317,
           1,
           273,
           57,
           49,
           20,
           23,
           247,
           39,
           112,
           23,
           184,
           55,
           19,
           193,
           7,
           97,
           31,
           27,
           34,
           217,
           27,
           61,
           339,
           59,
           430,
           64,
           317,
           93,
           59,
           1528,
           34,
           43,
           151,
           42,
           629,
           38,
           15,
           16,
           54,
           23,
           15,
           576,
           1886,
           21,
           36,
           201,
           22,
           475,
           153,
           143,
           64,
           31,
           10,
           118,
           62,
           24,
           441,
           103,
           463,
           56,
           301,
           270,
           15,
           11,
           67,
           854,
           873,
           401,
           816,
           44,
           43,
           133,
           295,
           6,
           67,
           47,
           763,
           545,
           335,
           53,
           15,
           44,
           48,
           95,
           28,
           23,
           83,
           156,
           33,
           454,
           85,
           357,
           78,
           39,
           580,
           19,
           68,
           1014,
           444,
           11,
           21,
           36,
           1329,
           18,
           77,
           14,
           2,
           102,
           182,
           7,
           6,
           884,
           112,
           402,
           22,
           20,
           196,
           139,
           315,
           18,
           10,
           1536,
           585,
           111,
           12,
           148,
           70,
           16,
           16,
           37,
           165,
           161,
           44,
           94,
           104,
           63,
           63,
           21,
           96,
           471,
           2,
           50,
           122,
           1088,
           114,
           13,
           51,
           106,
           101,
           151,
           114,
           521,
           260,
           280,
           30,
           6,
           540,
           236,
           59,
           480,
           18,
           10,
           2,
           10,
           8,
           493,
           1,
           1,
           1202,
           91,
           2,
           1,
           572.8573781291173,
           617.7749333333334,
           1027.6021804041386,
           325.79139891250617,
           751.2070049393803,
           434.20038816108683
          ]
         },
         "name": "",
         "parents": [
          "Miscellaneous Tech",
          "Miscellaneous Tech",
          "Miscellaneous Tech",
          "Language",
          "Developer Tools",
          "Web Framework",
          "Web Framework",
          "Language",
          "Platform",
          "Web Framework",
          "Web Framework",
          "Developer Tools",
          "Developer Tools",
          "Miscellaneous Tech",
          "Miscellaneous Tech",
          "Language",
          "Language",
          "Language",
          "Database",
          "Web Framework",
          "Developer Tools",
          "Developer Tools",
          "Language",
          "Language",
          "Language",
          "Developer Tools",
          "Miscellaneous Tech",
          "Developer Tools",
          "Miscellaneous Tech",
          "Developer Tools",
          "Database",
          "Developer Tools",
          "Developer Tools",
          "Developer Tools",
          "Database",
          "Language",
          "Database",
          "Platform",
          "Language",
          "Database",
          "Web Framework",
          "Platform",
          "Developer Tools",
          "Miscellaneous Tech",
          "Database",
          "Database",
          "Database",
          "Language",
          "Developer Tools",
          "Language",
          "Database",
          "Language",
          "Web Framework",
          "Platform",
          "Web Framework",
          "Developer Tools",
          "Web Framework",
          "Database",
          "Database",
          "Developer Tools",
          "Database",
          "Miscellaneous Tech",
          "Language",
          "Web Framework",
          "Language",
          "Web Framework",
          "Language",
          "Web Framework",
          "Web Framework",
          "Platform",
          "Database",
          "Database",
          "Web Framework",
          "Language",
          "Miscellaneous Tech",
          "Platform",
          "Language",
          "Language",
          "Developer Tools",
          "Miscellaneous Tech",
          "Web Framework",
          "Language",
          "Developer Tools",
          "Platform",
          "Developer Tools",
          "Developer Tools",
          "Language",
          "Database",
          "Language",
          "Miscellaneous Tech",
          "Language",
          "Platform",
          "Platform",
          "Developer Tools",
          "Miscellaneous Tech",
          "Platform",
          "Database",
          "Database",
          "Miscellaneous Tech",
          "Miscellaneous Tech",
          "Language",
          "Language",
          "Language",
          "Miscellaneous Tech",
          "Language",
          "Miscellaneous Tech",
          "Developer Tools",
          "Developer Tools",
          "Web Framework",
          "Platform",
          "Language",
          "Web Framework",
          "Language",
          "Language",
          "Miscellaneous Tech",
          "Developer Tools",
          "Developer Tools",
          "Developer Tools",
          "Platform",
          "Database",
          "Developer Tools",
          "Developer Tools",
          "Miscellaneous Tech",
          "Database",
          "Platform",
          "Database",
          "Database",
          "Database",
          "Database",
          "Web Framework",
          "Platform",
          "Web Framework",
          "Language",
          "Developer Tools",
          "Developer Tools",
          "Web Framework",
          "Developer Tools",
          "Miscellaneous Tech",
          "Web Framework",
          "Language",
          "Platform",
          "Language",
          "Miscellaneous Tech",
          "Platform",
          "Platform",
          "Miscellaneous Tech",
          "Database",
          "Platform",
          "Language",
          "Developer Tools",
          "Miscellaneous Tech",
          "Language",
          "Web Framework",
          "Developer Tools",
          "Web Framework",
          "Developer Tools",
          "Database",
          "Language",
          "Language",
          "Developer Tools",
          "Developer Tools",
          "Language",
          "Developer Tools",
          "Miscellaneous Tech",
          "Miscellaneous Tech",
          "Web Framework",
          "Language",
          "Miscellaneous Tech",
          "Language",
          "Database",
          "Web Framework",
          "Miscellaneous Tech",
          "Database",
          "Web Framework",
          "Platform",
          "Language",
          "Web Framework",
          "Language",
          "Language",
          "Developer Tools",
          "Language",
          "Database",
          "Language",
          "Platform",
          "Miscellaneous Tech",
          "Database",
          "Web Framework",
          "Language",
          "Database",
          "Web Framework",
          "Miscellaneous Tech",
          "Database",
          "Web Framework",
          "Language",
          "Miscellaneous Tech",
          "Web Framework",
          "Miscellaneous Tech",
          "Miscellaneous Tech",
          "Developer Tools",
          "Database",
          "Miscellaneous Tech",
          "Miscellaneous Tech",
          "Language",
          "Developer Tools",
          "Miscellaneous Tech",
          "Developer Tools",
          "Language",
          "Platform",
          "Platform",
          "Language",
          "Developer Tools",
          "Developer Tools",
          "Web Framework",
          "Platform",
          "Developer Tools",
          "Developer Tools",
          "Web Framework",
          "Miscellaneous Tech",
          "Developer Tools",
          "Language",
          "Developer Tools",
          "Developer Tools",
          "Developer Tools",
          "Developer Tools",
          "Web Framework",
          "Developer Tools",
          "Developer Tools",
          "Developer Tools",
          "Developer Tools",
          "Developer Tools",
          "Developer Tools",
          "",
          "",
          "",
          "",
          "",
          ""
         ],
         "type": "treemap",
         "values": [
          786,
          507,
          65,
          4,
          93,
          399,
          591,
          20,
          1463,
          283,
          112,
          211,
          47,
          144,
          73,
          14,
          87,
          1037,
          112,
          172,
          15,
          9,
          320,
          1032,
          441,
          267,
          54,
          2,
          21,
          261,
          27,
          25,
          19,
          159,
          18,
          46,
          103,
          319,
          7,
          10,
          15,
          13,
          173,
          24,
          132,
          22,
          24,
          10,
          31,
          87,
          2,
          103,
          24,
          257,
          149,
          1483,
          23,
          11,
          317,
          1,
          273,
          57,
          49,
          20,
          23,
          247,
          39,
          112,
          23,
          184,
          55,
          19,
          193,
          7,
          97,
          31,
          27,
          34,
          217,
          27,
          61,
          339,
          59,
          430,
          64,
          317,
          93,
          59,
          1528,
          34,
          43,
          151,
          42,
          629,
          38,
          15,
          16,
          54,
          23,
          15,
          576,
          1886,
          21,
          36,
          201,
          22,
          475,
          153,
          143,
          64,
          31,
          10,
          118,
          62,
          24,
          441,
          103,
          463,
          56,
          301,
          270,
          15,
          11,
          67,
          854,
          873,
          401,
          816,
          44,
          43,
          133,
          295,
          6,
          67,
          47,
          763,
          545,
          335,
          53,
          15,
          44,
          48,
          95,
          28,
          23,
          83,
          156,
          33,
          454,
          85,
          357,
          78,
          39,
          580,
          19,
          68,
          1014,
          444,
          11,
          21,
          36,
          1329,
          18,
          77,
          14,
          2,
          102,
          182,
          7,
          6,
          884,
          112,
          402,
          22,
          20,
          196,
          139,
          315,
          18,
          10,
          1536,
          585,
          111,
          12,
          148,
          70,
          16,
          16,
          37,
          165,
          161,
          44,
          94,
          104,
          63,
          63,
          21,
          96,
          471,
          2,
          50,
          122,
          1088,
          114,
          13,
          51,
          106,
          101,
          151,
          114,
          521,
          260,
          280,
          30,
          6,
          540,
          236,
          59,
          480,
          18,
          10,
          2,
          10,
          8,
          493,
          1,
          1,
          1202,
          91,
          2,
          1,
          6072,
          11250,
          14401,
          4046,
          4454,
          6183
         ]
        }
       ],
       "layout": {
        "coloraxis": {
         "colorbar": {
          "title": {
           "text": "freq"
          }
         },
         "colorscale": [
          [
           0,
           "#440154"
          ],
          [
           0.1111111111111111,
           "#482878"
          ],
          [
           0.2222222222222222,
           "#3e4989"
          ],
          [
           0.3333333333333333,
           "#31688e"
          ],
          [
           0.4444444444444444,
           "#26828e"
          ],
          [
           0.5555555555555556,
           "#1f9e89"
          ],
          [
           0.6666666666666666,
           "#35b779"
          ],
          [
           0.7777777777777778,
           "#6ece58"
          ],
          [
           0.8888888888888888,
           "#b5de2b"
          ],
          [
           1,
           "#fde725"
          ]
         ]
        },
        "height": 700,
        "legend": {
         "tracegroupgap": 0
        },
        "margin": {
         "t": 60
        },
        "template": {
         "data": {
          "bar": [
           {
            "error_x": {
             "color": "#2a3f5f"
            },
            "error_y": {
             "color": "#2a3f5f"
            },
            "marker": {
             "line": {
              "color": "#E5ECF6",
              "width": 0.5
             },
             "pattern": {
              "fillmode": "overlay",
              "size": 10,
              "solidity": 0.2
             }
            },
            "type": "bar"
           }
          ],
          "barpolar": [
           {
            "marker": {
             "line": {
              "color": "#E5ECF6",
              "width": 0.5
             },
             "pattern": {
              "fillmode": "overlay",
              "size": 10,
              "solidity": 0.2
             }
            },
            "type": "barpolar"
           }
          ],
          "carpet": [
           {
            "aaxis": {
             "endlinecolor": "#2a3f5f",
             "gridcolor": "white",
             "linecolor": "white",
             "minorgridcolor": "white",
             "startlinecolor": "#2a3f5f"
            },
            "baxis": {
             "endlinecolor": "#2a3f5f",
             "gridcolor": "white",
             "linecolor": "white",
             "minorgridcolor": "white",
             "startlinecolor": "#2a3f5f"
            },
            "type": "carpet"
           }
          ],
          "choropleth": [
           {
            "colorbar": {
             "outlinewidth": 0,
             "ticks": ""
            },
            "type": "choropleth"
           }
          ],
          "contour": [
           {
            "colorbar": {
             "outlinewidth": 0,
             "ticks": ""
            },
            "colorscale": [
             [
              0,
              "#0d0887"
             ],
             [
              0.1111111111111111,
              "#46039f"
             ],
             [
              0.2222222222222222,
              "#7201a8"
             ],
             [
              0.3333333333333333,
              "#9c179e"
             ],
             [
              0.4444444444444444,
              "#bd3786"
             ],
             [
              0.5555555555555556,
              "#d8576b"
             ],
             [
              0.6666666666666666,
              "#ed7953"
             ],
             [
              0.7777777777777778,
              "#fb9f3a"
             ],
             [
              0.8888888888888888,
              "#fdca26"
             ],
             [
              1,
              "#f0f921"
             ]
            ],
            "type": "contour"
           }
          ],
          "contourcarpet": [
           {
            "colorbar": {
             "outlinewidth": 0,
             "ticks": ""
            },
            "type": "contourcarpet"
           }
          ],
          "heatmap": [
           {
            "colorbar": {
             "outlinewidth": 0,
             "ticks": ""
            },
            "colorscale": [
             [
              0,
              "#0d0887"
             ],
             [
              0.1111111111111111,
              "#46039f"
             ],
             [
              0.2222222222222222,
              "#7201a8"
             ],
             [
              0.3333333333333333,
              "#9c179e"
             ],
             [
              0.4444444444444444,
              "#bd3786"
             ],
             [
              0.5555555555555556,
              "#d8576b"
             ],
             [
              0.6666666666666666,
              "#ed7953"
             ],
             [
              0.7777777777777778,
              "#fb9f3a"
             ],
             [
              0.8888888888888888,
              "#fdca26"
             ],
             [
              1,
              "#f0f921"
             ]
            ],
            "type": "heatmap"
           }
          ],
          "heatmapgl": [
           {
            "colorbar": {
             "outlinewidth": 0,
             "ticks": ""
            },
            "colorscale": [
             [
              0,
              "#0d0887"
             ],
             [
              0.1111111111111111,
              "#46039f"
             ],
             [
              0.2222222222222222,
              "#7201a8"
             ],
             [
              0.3333333333333333,
              "#9c179e"
             ],
             [
              0.4444444444444444,
              "#bd3786"
             ],
             [
              0.5555555555555556,
              "#d8576b"
             ],
             [
              0.6666666666666666,
              "#ed7953"
             ],
             [
              0.7777777777777778,
              "#fb9f3a"
             ],
             [
              0.8888888888888888,
              "#fdca26"
             ],
             [
              1,
              "#f0f921"
             ]
            ],
            "type": "heatmapgl"
           }
          ],
          "histogram": [
           {
            "marker": {
             "pattern": {
              "fillmode": "overlay",
              "size": 10,
              "solidity": 0.2
             }
            },
            "type": "histogram"
           }
          ],
          "histogram2d": [
           {
            "colorbar": {
             "outlinewidth": 0,
             "ticks": ""
            },
            "colorscale": [
             [
              0,
              "#0d0887"
             ],
             [
              0.1111111111111111,
              "#46039f"
             ],
             [
              0.2222222222222222,
              "#7201a8"
             ],
             [
              0.3333333333333333,
              "#9c179e"
             ],
             [
              0.4444444444444444,
              "#bd3786"
             ],
             [
              0.5555555555555556,
              "#d8576b"
             ],
             [
              0.6666666666666666,
              "#ed7953"
             ],
             [
              0.7777777777777778,
              "#fb9f3a"
             ],
             [
              0.8888888888888888,
              "#fdca26"
             ],
             [
              1,
              "#f0f921"
             ]
            ],
            "type": "histogram2d"
           }
          ],
          "histogram2dcontour": [
           {
            "colorbar": {
             "outlinewidth": 0,
             "ticks": ""
            },
            "colorscale": [
             [
              0,
              "#0d0887"
             ],
             [
              0.1111111111111111,
              "#46039f"
             ],
             [
              0.2222222222222222,
              "#7201a8"
             ],
             [
              0.3333333333333333,
              "#9c179e"
             ],
             [
              0.4444444444444444,
              "#bd3786"
             ],
             [
              0.5555555555555556,
              "#d8576b"
             ],
             [
              0.6666666666666666,
              "#ed7953"
             ],
             [
              0.7777777777777778,
              "#fb9f3a"
             ],
             [
              0.8888888888888888,
              "#fdca26"
             ],
             [
              1,
              "#f0f921"
             ]
            ],
            "type": "histogram2dcontour"
           }
          ],
          "mesh3d": [
           {
            "colorbar": {
             "outlinewidth": 0,
             "ticks": ""
            },
            "type": "mesh3d"
           }
          ],
          "parcoords": [
           {
            "line": {
             "colorbar": {
              "outlinewidth": 0,
              "ticks": ""
             }
            },
            "type": "parcoords"
           }
          ],
          "pie": [
           {
            "automargin": true,
            "type": "pie"
           }
          ],
          "scatter": [
           {
            "fillpattern": {
             "fillmode": "overlay",
             "size": 10,
             "solidity": 0.2
            },
            "type": "scatter"
           }
          ],
          "scatter3d": [
           {
            "line": {
             "colorbar": {
              "outlinewidth": 0,
              "ticks": ""
             }
            },
            "marker": {
             "colorbar": {
              "outlinewidth": 0,
              "ticks": ""
             }
            },
            "type": "scatter3d"
           }
          ],
          "scattercarpet": [
           {
            "marker": {
             "colorbar": {
              "outlinewidth": 0,
              "ticks": ""
             }
            },
            "type": "scattercarpet"
           }
          ],
          "scattergeo": [
           {
            "marker": {
             "colorbar": {
              "outlinewidth": 0,
              "ticks": ""
             }
            },
            "type": "scattergeo"
           }
          ],
          "scattergl": [
           {
            "marker": {
             "colorbar": {
              "outlinewidth": 0,
              "ticks": ""
             }
            },
            "type": "scattergl"
           }
          ],
          "scattermapbox": [
           {
            "marker": {
             "colorbar": {
              "outlinewidth": 0,
              "ticks": ""
             }
            },
            "type": "scattermapbox"
           }
          ],
          "scatterpolar": [
           {
            "marker": {
             "colorbar": {
              "outlinewidth": 0,
              "ticks": ""
             }
            },
            "type": "scatterpolar"
           }
          ],
          "scatterpolargl": [
           {
            "marker": {
             "colorbar": {
              "outlinewidth": 0,
              "ticks": ""
             }
            },
            "type": "scatterpolargl"
           }
          ],
          "scatterternary": [
           {
            "marker": {
             "colorbar": {
              "outlinewidth": 0,
              "ticks": ""
             }
            },
            "type": "scatterternary"
           }
          ],
          "surface": [
           {
            "colorbar": {
             "outlinewidth": 0,
             "ticks": ""
            },
            "colorscale": [
             [
              0,
              "#0d0887"
             ],
             [
              0.1111111111111111,
              "#46039f"
             ],
             [
              0.2222222222222222,
              "#7201a8"
             ],
             [
              0.3333333333333333,
              "#9c179e"
             ],
             [
              0.4444444444444444,
              "#bd3786"
             ],
             [
              0.5555555555555556,
              "#d8576b"
             ],
             [
              0.6666666666666666,
              "#ed7953"
             ],
             [
              0.7777777777777778,
              "#fb9f3a"
             ],
             [
              0.8888888888888888,
              "#fdca26"
             ],
             [
              1,
              "#f0f921"
             ]
            ],
            "type": "surface"
           }
          ],
          "table": [
           {
            "cells": {
             "fill": {
              "color": "#EBF0F8"
             },
             "line": {
              "color": "white"
             }
            },
            "header": {
             "fill": {
              "color": "#C8D4E3"
             },
             "line": {
              "color": "white"
             }
            },
            "type": "table"
           }
          ]
         },
         "layout": {
          "annotationdefaults": {
           "arrowcolor": "#2a3f5f",
           "arrowhead": 0,
           "arrowwidth": 1
          },
          "autotypenumbers": "strict",
          "coloraxis": {
           "colorbar": {
            "outlinewidth": 0,
            "ticks": ""
           }
          },
          "colorscale": {
           "diverging": [
            [
             0,
             "#8e0152"
            ],
            [
             0.1,
             "#c51b7d"
            ],
            [
             0.2,
             "#de77ae"
            ],
            [
             0.3,
             "#f1b6da"
            ],
            [
             0.4,
             "#fde0ef"
            ],
            [
             0.5,
             "#f7f7f7"
            ],
            [
             0.6,
             "#e6f5d0"
            ],
            [
             0.7,
             "#b8e186"
            ],
            [
             0.8,
             "#7fbc41"
            ],
            [
             0.9,
             "#4d9221"
            ],
            [
             1,
             "#276419"
            ]
           ],
           "sequential": [
            [
             0,
             "#0d0887"
            ],
            [
             0.1111111111111111,
             "#46039f"
            ],
            [
             0.2222222222222222,
             "#7201a8"
            ],
            [
             0.3333333333333333,
             "#9c179e"
            ],
            [
             0.4444444444444444,
             "#bd3786"
            ],
            [
             0.5555555555555556,
             "#d8576b"
            ],
            [
             0.6666666666666666,
             "#ed7953"
            ],
            [
             0.7777777777777778,
             "#fb9f3a"
            ],
            [
             0.8888888888888888,
             "#fdca26"
            ],
            [
             1,
             "#f0f921"
            ]
           ],
           "sequentialminus": [
            [
             0,
             "#0d0887"
            ],
            [
             0.1111111111111111,
             "#46039f"
            ],
            [
             0.2222222222222222,
             "#7201a8"
            ],
            [
             0.3333333333333333,
             "#9c179e"
            ],
            [
             0.4444444444444444,
             "#bd3786"
            ],
            [
             0.5555555555555556,
             "#d8576b"
            ],
            [
             0.6666666666666666,
             "#ed7953"
            ],
            [
             0.7777777777777778,
             "#fb9f3a"
            ],
            [
             0.8888888888888888,
             "#fdca26"
            ],
            [
             1,
             "#f0f921"
            ]
           ]
          },
          "colorway": [
           "#636efa",
           "#EF553B",
           "#00cc96",
           "#ab63fa",
           "#FFA15A",
           "#19d3f3",
           "#FF6692",
           "#B6E880",
           "#FF97FF",
           "#FECB52"
          ],
          "font": {
           "color": "#2a3f5f"
          },
          "geo": {
           "bgcolor": "white",
           "lakecolor": "white",
           "landcolor": "#E5ECF6",
           "showlakes": true,
           "showland": true,
           "subunitcolor": "white"
          },
          "hoverlabel": {
           "align": "left"
          },
          "hovermode": "closest",
          "mapbox": {
           "style": "light"
          },
          "paper_bgcolor": "white",
          "plot_bgcolor": "#E5ECF6",
          "polar": {
           "angularaxis": {
            "gridcolor": "white",
            "linecolor": "white",
            "ticks": ""
           },
           "bgcolor": "#E5ECF6",
           "radialaxis": {
            "gridcolor": "white",
            "linecolor": "white",
            "ticks": ""
           }
          },
          "scene": {
           "xaxis": {
            "backgroundcolor": "#E5ECF6",
            "gridcolor": "white",
            "gridwidth": 2,
            "linecolor": "white",
            "showbackground": true,
            "ticks": "",
            "zerolinecolor": "white"
           },
           "yaxis": {
            "backgroundcolor": "#E5ECF6",
            "gridcolor": "white",
            "gridwidth": 2,
            "linecolor": "white",
            "showbackground": true,
            "ticks": "",
            "zerolinecolor": "white"
           },
           "zaxis": {
            "backgroundcolor": "#E5ECF6",
            "gridcolor": "white",
            "gridwidth": 2,
            "linecolor": "white",
            "showbackground": true,
            "ticks": "",
            "zerolinecolor": "white"
           }
          },
          "shapedefaults": {
           "line": {
            "color": "#2a3f5f"
           }
          },
          "ternary": {
           "aaxis": {
            "gridcolor": "white",
            "linecolor": "white",
            "ticks": ""
           },
           "baxis": {
            "gridcolor": "white",
            "linecolor": "white",
            "ticks": ""
           },
           "bgcolor": "#E5ECF6",
           "caxis": {
            "gridcolor": "white",
            "linecolor": "white",
            "ticks": ""
           }
          },
          "title": {
           "x": 0.05
          },
          "xaxis": {
           "automargin": true,
           "gridcolor": "white",
           "linecolor": "white",
           "ticks": "",
           "title": {
            "standoff": 15
           },
           "zerolinecolor": "white",
           "zerolinewidth": 2
          },
          "yaxis": {
           "automargin": true,
           "gridcolor": "white",
           "linecolor": "white",
           "ticks": "",
           "title": {
            "standoff": 15
           },
           "zerolinecolor": "white",
           "zerolinewidth": 2
          }
         }
        },
        "title": {
         "text": "Skills of United Kingdom of Great Britain and Northern Ireland respondents"
        },
        "width": 1000
       }
      }
     },
     "metadata": {},
     "output_type": "display_data"
    },
    {
     "data": {
      "application/vnd.plotly.v1+json": {
       "config": {
        "plotlyServerURL": "https://plot.ly"
       },
       "data": [
        {
         "branchvalues": "total",
         "customdata": [
          [
           274
          ],
          [
           215
          ],
          [
           20
          ],
          [
           1
          ],
          [
           89
          ],
          [
           224
          ],
          [
           250
          ],
          [
           19
          ],
          [
           1327
          ],
          [
           530
          ],
          [
           218
          ],
          [
           96
          ],
          [
           84
          ],
          [
           218
          ],
          [
           108
          ],
          [
           23
          ],
          [
           32
          ],
          [
           337
          ],
          [
           79
          ],
          [
           30
          ],
          [
           5
          ],
          [
           7
          ],
          [
           359
          ],
          [
           411
          ],
          [
           426
          ],
          [
           126
          ],
          [
           36
          ],
          [
           1
          ],
          [
           28
          ],
          [
           78
          ],
          [
           73
          ],
          [
           3
          ],
          [
           15
          ],
          [
           87
          ],
          [
           23
          ],
          [
           8
          ],
          [
           191
          ],
          [
           175
          ],
          [
           8
          ],
          [
           15
          ],
          [
           92
          ],
          [
           5
          ],
          [
           115
          ],
          [
           49
          ],
          [
           61
          ],
          [
           19
          ],
          [
           16
          ],
          [
           5
          ],
          [
           37
          ],
          [
           223
          ],
          [
           1
          ],
          [
           15
          ],
          [
           9
          ],
          [
           197
          ],
          [
           267
          ],
          [
           885
          ],
          [
           19
          ],
          [
           7
          ],
          [
           191
          ],
          [
           1
          ],
          [
           254
          ],
          [
           54
          ],
          [
           24
          ],
          [
           9
          ],
          [
           7
          ],
          [
           541
          ],
          [
           2
          ],
          [
           155
          ],
          [
           40
          ],
          [
           522
          ],
          [
           250
          ],
          [
           7
          ],
          [
           226
          ],
          [
           8
          ],
          [
           257
          ],
          [
           24
          ],
          [
           4
          ],
          [
           7
          ],
          [
           94
          ],
          [
           14
          ],
          [
           34
          ],
          [
           229
          ],
          [
           17
          ],
          [
           488
          ],
          [
           26
          ],
          [
           332
          ],
          [
           53
          ],
          [
           85
          ],
          [
           1356
          ],
          [
           66
          ],
          [
           13
          ],
          [
           291
          ],
          [
           15
          ],
          [
           314
          ],
          [
           36
          ],
          [
           25
          ],
          [
           29
          ],
          [
           26
          ],
          [
           59
          ],
          [
           16
          ],
          [
           933
          ],
          [
           1800
          ],
          [
           10
          ],
          [
           84
          ],
          [
           201
          ],
          [
           13
          ],
          [
           341
          ],
          [
           51
          ],
          [
           200
          ],
          [
           47
          ],
          [
           12
          ],
          [
           5
          ],
          [
           30
          ],
          [
           53
          ],
          [
           6
          ],
          [
           111
          ],
          [
           30
          ],
          [
           188
          ],
          [
           36
          ],
          [
           206
          ],
          [
           449
          ],
          [
           7
          ],
          [
           12
          ],
          [
           44
          ],
          [
           485
          ],
          [
           462
          ],
          [
           899
          ],
          [
           1281
          ],
          [
           33
          ],
          [
           103
          ],
          [
           250
          ],
          [
           388
          ],
          [
           3
          ],
          [
           17
          ],
          [
           16
          ],
          [
           948
          ],
          [
           178
          ],
          [
           304
          ],
          [
           47
          ],
          [
           2
          ],
          [
           13
          ],
          [
           61
          ],
          [
           34
          ],
          [
           31
          ],
          [
           22
          ],
          [
           158
          ],
          [
           256
          ],
          [
           36
          ],
          [
           418
          ],
          [
           59
          ],
          [
           344
          ],
          [
           28
          ],
          [
           20
          ],
          [
           495
          ],
          [
           9
          ],
          [
           30
          ],
          [
           881
          ],
          [
           125
          ],
          [
           6
          ],
          [
           3
          ],
          [
           11
          ],
          [
           1032
          ],
          [
           11
          ],
          [
           46
          ],
          [
           10
          ],
          [
           6
          ],
          [
           33
          ],
          [
           150
          ],
          [
           1
          ],
          [
           5
          ],
          [
           1029
          ],
          [
           209
          ],
          [
           397
          ],
          [
           17
          ],
          [
           57
          ],
          [
           66
          ],
          [
           57
          ],
          [
           85
          ],
          [
           8
          ],
          [
           3
          ],
          [
           1073
          ],
          [
           565
          ],
          [
           41
          ],
          [
           3
          ],
          [
           177
          ],
          [
           31
          ],
          [
           10
          ],
          [
           33
          ],
          [
           23
          ],
          [
           371
          ],
          [
           258
          ],
          [
           31
          ],
          [
           47
          ],
          [
           93
          ],
          [
           53
          ],
          [
           15
          ],
          [
           11
          ],
          [
           138
          ],
          [
           135
          ],
          [
           5
          ],
          [
           11
          ],
          [
           110
          ],
          [
           859
          ],
          [
           51
          ],
          [
           4
          ],
          [
           19
          ],
          [
           35
          ],
          [
           91
          ],
          [
           223
          ],
          [
           72
          ],
          [
           235
          ],
          [
           291
          ],
          [
           195
          ],
          [
           19
          ],
          [
           6
          ],
          [
           412
          ],
          [
           203
          ],
          [
           24
          ],
          [
           439
          ],
          [
           5
          ],
          [
           4
          ],
          [
           2
          ],
          [
           6
          ],
          [
           5
          ],
          [
           518
          ],
          [
           2
          ],
          [
           1
          ],
          [
           1149
          ],
          [
           92
          ],
          [
           1
          ],
          [
           1
          ],
          [
           660.0341296928327
          ],
          [
           492.05713892330994
          ],
          [
           923.8725673652694
          ],
          [
           196.69273433166944
          ],
          [
           637.3555454130534
          ],
          [
           518.9598946135832
          ]
         ],
         "domain": {
          "x": [
           0,
           1
          ],
          "y": [
           0,
           1
          ]
         },
         "hovertemplate": "labels=%{label}<br>freq_sum=%{value}<br>parent=%{parent}<br>id=%{id}<br>freq=%{color}<extra></extra>",
         "ids": [
          "Miscellaneous Tech/.NET (5+) ",
          "Miscellaneous Tech/.NET Framework (1.0 - 4.8)",
          "Miscellaneous Tech/.NET MAUI",
          "Language/APL",
          "Developer Tools/APT",
          "Web Framework/ASP.NET",
          "Web Framework/ASP.NET CORE",
          "Language/Ada",
          "Platform/Amazon Web Services (AWS)",
          "Web Framework/Angular",
          "Web Framework/AngularJS",
          "Developer Tools/Ansible",
          "Developer Tools/Ant",
          "Miscellaneous Tech/Apache Kafka",
          "Miscellaneous Tech/Apache Spark",
          "Language/Apex",
          "Language/Assembly",
          "Language/Bash/Shell (all shells)",
          "Database/BigQuery",
          "Web Framework/Blazor",
          "Developer Tools/Boost.Test",
          "Developer Tools/Bun",
          "Language/C",
          "Language/C#",
          "Language/C++",
          "Developer Tools/CMake",
          "Miscellaneous Tech/CUDA",
          "Developer Tools/CUTE",
          "Miscellaneous Tech/Capacitor",
          "Developer Tools/Cargo",
          "Database/Cassandra",
          "Developer Tools/Catch2",
          "Developer Tools/Chef",
          "Developer Tools/Chocolatey",
          "Database/Clickhouse",
          "Language/Clojure",
          "Database/Cloud Firestore",
          "Platform/Cloudflare",
          "Language/Cobol",
          "Database/Cockroachdb",
          "Web Framework/CodeIgniter",
          "Platform/Colocation",
          "Developer Tools/Composer",
          "Miscellaneous Tech/Cordova",
          "Database/Cosmos DB",
          "Database/Couch DB",
          "Database/Couchbase",
          "Language/Crystal",
          "Developer Tools/Dagger",
          "Language/Dart",
          "Database/Datomic",
          "Language/Delphi",
          "Web Framework/Deno",
          "Platform/Digital Ocean",
          "Web Framework/Django",
          "Developer Tools/Docker",
          "Web Framework/Drupal",
          "Database/DuckDB",
          "Database/Dynamodb",
          "Developer Tools/ELFspy",
          "Database/Elasticsearch",
          "Miscellaneous Tech/Electron",
          "Language/Elixir",
          "Web Framework/Elm",
          "Language/Erlang",
          "Web Framework/Express",
          "Language/F#",
          "Web Framework/FastAPI",
          "Web Framework/Fastify",
          "Platform/Firebase",
          "Database/Firebase Realtime Database",
          "Database/Firebird",
          "Web Framework/Flask",
          "Language/Flow",
          "Miscellaneous Tech/Flutter",
          "Platform/Fly.io",
          "Language/Fortran",
          "Language/GDScript",
          "Developer Tools/GNU GCC",
          "Miscellaneous Tech/GTK",
          "Web Framework/Gatsby",
          "Language/Go",
          "Developer Tools/Godot",
          "Platform/Google Cloud",
          "Developer Tools/Google Test",
          "Developer Tools/Gradle",
          "Language/Groovy",
          "Database/H2",
          "Language/HTML/CSS",
          "Miscellaneous Tech/Hadoop",
          "Language/Haskell",
          "Platform/Heroku",
          "Platform/Hetzner",
          "Developer Tools/Homebrew",
          "Miscellaneous Tech/Hugging Face Transformers",
          "Platform/IBM Cloud Or Watson",
          "Database/IBM DB2",
          "Database/InfluxDB",
          "Miscellaneous Tech/Ionic",
          "Miscellaneous Tech/JAX",
          "Language/Java",
          "Language/JavaScript",
          "Language/Julia",
          "Miscellaneous Tech/Keras",
          "Language/Kotlin",
          "Miscellaneous Tech/Ktor",
          "Developer Tools/Kubernetes",
          "Developer Tools/LLVM's Clang",
          "Web Framework/Laravel",
          "Platform/Linode, now Akamai",
          "Language/Lisp",
          "Web Framework/Lit",
          "Language/Lua",
          "Language/MATLAB",
          "Miscellaneous Tech/MFC",
          "Developer Tools/MSBuild",
          "Developer Tools/MSVC",
          "Developer Tools/Make",
          "Platform/Managed Hosting",
          "Database/MariaDB",
          "Developer Tools/Maven (build tool)",
          "Developer Tools/Meson",
          "Miscellaneous Tech/Micronaut",
          "Database/Microsoft Access",
          "Platform/Microsoft Azure",
          "Database/Microsoft SQL Server",
          "Database/MongoDB",
          "Database/MySQL",
          "Database/Neo4J",
          "Web Framework/NestJS",
          "Platform/Netlify",
          "Web Framework/Next.js",
          "Language/Nim",
          "Developer Tools/Ninja",
          "Developer Tools/Nix",
          "Web Framework/Node.js",
          "Developer Tools/NuGet",
          "Miscellaneous Tech/NumPy",
          "Web Framework/Nuxt.js",
          "Language/OCaml",
          "Platform/OVH",
          "Language/Objective-C",
          "Miscellaneous Tech/OpenGL",
          "Platform/OpenShift",
          "Platform/OpenStack",
          "Miscellaneous Tech/Opencv",
          "Database/Oracle",
          "Platform/Oracle Cloud Infrastructure (OCI)",
          "Language/PHP",
          "Developer Tools/Pacman",
          "Miscellaneous Tech/Pandas",
          "Language/Perl",
          "Web Framework/Phoenix",
          "Developer Tools/Pip",
          "Web Framework/Play Framework",
          "Developer Tools/Podman",
          "Database/PostgreSQL",
          "Language/PowerShell",
          "Language/Prolog",
          "Developer Tools/Pulumi",
          "Developer Tools/Puppet",
          "Language/Python",
          "Developer Tools/QMake",
          "Miscellaneous Tech/Qt",
          "Miscellaneous Tech/Quarkus",
          "Web Framework/Qwik",
          "Language/R",
          "Miscellaneous Tech/RabbitMQ",
          "Language/Raku",
          "Database/RavenDB",
          "Web Framework/React",
          "Miscellaneous Tech/React Native",
          "Database/Redis",
          "Web Framework/Remix",
          "Platform/Render",
          "Language/Ruby",
          "Web Framework/Ruby on Rails",
          "Language/Rust",
          "Language/SAS",
          "Developer Tools/SCons",
          "Language/SQL",
          "Database/SQLite",
          "Language/Scala",
          "Platform/Scaleway",
          "Miscellaneous Tech/Scikit-Learn",
          "Database/Snowflake",
          "Web Framework/Solid.js",
          "Language/Solidity",
          "Database/Solr",
          "Web Framework/Spring Boot",
          "Miscellaneous Tech/Spring Framework",
          "Database/Supabase",
          "Web Framework/Svelte",
          "Language/Swift",
          "Miscellaneous Tech/SwiftUI",
          "Web Framework/Symfony",
          "Miscellaneous Tech/Tauri",
          "Miscellaneous Tech/TensorFlow",
          "Developer Tools/Terraform",
          "Database/TiDB",
          "Miscellaneous Tech/Tidyverse",
          "Miscellaneous Tech/Torch/PyTorch",
          "Language/TypeScript",
          "Developer Tools/Unity 3D",
          "Miscellaneous Tech/Uno Platform",
          "Developer Tools/Unreal Engine",
          "Language/VBA",
          "Platform/VMware",
          "Platform/Vercel",
          "Language/Visual Basic (.Net)",
          "Developer Tools/Visual Studio Solution",
          "Developer Tools/Vite",
          "Web Framework/Vue.js",
          "Platform/Vultr",
          "Developer Tools/Wasmer",
          "Developer Tools/Webpack",
          "Web Framework/WordPress",
          "Miscellaneous Tech/Xamarin",
          "Developer Tools/Yarn",
          "Language/Zig",
          "Developer Tools/bandit",
          "Developer Tools/build2",
          "Developer Tools/cppunit",
          "Developer Tools/doctest",
          "Web Framework/jQuery",
          "Developer Tools/lest",
          "Developer Tools/liblittletest",
          "Developer Tools/npm",
          "Developer Tools/pnpm",
          "Developer Tools/snitch",
          "Developer Tools/tunit",
          "Database",
          "Developer Tools",
          "Language",
          "Miscellaneous Tech",
          "Platform",
          "Web Framework"
         ],
         "labels": [
          ".NET (5+) ",
          ".NET Framework (1.0 - 4.8)",
          ".NET MAUI",
          "APL",
          "APT",
          "ASP.NET",
          "ASP.NET CORE",
          "Ada",
          "Amazon Web Services (AWS)",
          "Angular",
          "AngularJS",
          "Ansible",
          "Ant",
          "Apache Kafka",
          "Apache Spark",
          "Apex",
          "Assembly",
          "Bash/Shell (all shells)",
          "BigQuery",
          "Blazor",
          "Boost.Test",
          "Bun",
          "C",
          "C#",
          "C++",
          "CMake",
          "CUDA",
          "CUTE",
          "Capacitor",
          "Cargo",
          "Cassandra",
          "Catch2",
          "Chef",
          "Chocolatey",
          "Clickhouse",
          "Clojure",
          "Cloud Firestore",
          "Cloudflare",
          "Cobol",
          "Cockroachdb",
          "CodeIgniter",
          "Colocation",
          "Composer",
          "Cordova",
          "Cosmos DB",
          "Couch DB",
          "Couchbase",
          "Crystal",
          "Dagger",
          "Dart",
          "Datomic",
          "Delphi",
          "Deno",
          "Digital Ocean",
          "Django",
          "Docker",
          "Drupal",
          "DuckDB",
          "Dynamodb",
          "ELFspy",
          "Elasticsearch",
          "Electron",
          "Elixir",
          "Elm",
          "Erlang",
          "Express",
          "F#",
          "FastAPI",
          "Fastify",
          "Firebase",
          "Firebase Realtime Database",
          "Firebird",
          "Flask",
          "Flow",
          "Flutter",
          "Fly.io",
          "Fortran",
          "GDScript",
          "GNU GCC",
          "GTK",
          "Gatsby",
          "Go",
          "Godot",
          "Google Cloud",
          "Google Test",
          "Gradle",
          "Groovy",
          "H2",
          "HTML/CSS",
          "Hadoop",
          "Haskell",
          "Heroku",
          "Hetzner",
          "Homebrew",
          "Hugging Face Transformers",
          "IBM Cloud Or Watson",
          "IBM DB2",
          "InfluxDB",
          "Ionic",
          "JAX",
          "Java",
          "JavaScript",
          "Julia",
          "Keras",
          "Kotlin",
          "Ktor",
          "Kubernetes",
          "LLVM's Clang",
          "Laravel",
          "Linode, now Akamai",
          "Lisp",
          "Lit",
          "Lua",
          "MATLAB",
          "MFC",
          "MSBuild",
          "MSVC",
          "Make",
          "Managed Hosting",
          "MariaDB",
          "Maven (build tool)",
          "Meson",
          "Micronaut",
          "Microsoft Access",
          "Microsoft Azure",
          "Microsoft SQL Server",
          "MongoDB",
          "MySQL",
          "Neo4J",
          "NestJS",
          "Netlify",
          "Next.js",
          "Nim",
          "Ninja",
          "Nix",
          "Node.js",
          "NuGet",
          "NumPy",
          "Nuxt.js",
          "OCaml",
          "OVH",
          "Objective-C",
          "OpenGL",
          "OpenShift",
          "OpenStack",
          "Opencv",
          "Oracle",
          "Oracle Cloud Infrastructure (OCI)",
          "PHP",
          "Pacman",
          "Pandas",
          "Perl",
          "Phoenix",
          "Pip",
          "Play Framework",
          "Podman",
          "PostgreSQL",
          "PowerShell",
          "Prolog",
          "Pulumi",
          "Puppet",
          "Python",
          "QMake",
          "Qt",
          "Quarkus",
          "Qwik",
          "R",
          "RabbitMQ",
          "Raku",
          "RavenDB",
          "React",
          "React Native",
          "Redis",
          "Remix",
          "Render",
          "Ruby",
          "Ruby on Rails",
          "Rust",
          "SAS",
          "SCons",
          "SQL",
          "SQLite",
          "Scala",
          "Scaleway",
          "Scikit-Learn",
          "Snowflake",
          "Solid.js",
          "Solidity",
          "Solr",
          "Spring Boot",
          "Spring Framework",
          "Supabase",
          "Svelte",
          "Swift",
          "SwiftUI",
          "Symfony",
          "Tauri",
          "TensorFlow",
          "Terraform",
          "TiDB",
          "Tidyverse",
          "Torch/PyTorch",
          "TypeScript",
          "Unity 3D",
          "Uno Platform",
          "Unreal Engine",
          "VBA",
          "VMware",
          "Vercel",
          "Visual Basic (.Net)",
          "Visual Studio Solution",
          "Vite",
          "Vue.js",
          "Vultr",
          "Wasmer",
          "Webpack",
          "WordPress",
          "Xamarin",
          "Yarn",
          "Zig",
          "bandit",
          "build2",
          "cppunit",
          "doctest",
          "jQuery",
          "lest",
          "liblittletest",
          "npm",
          "pnpm",
          "snitch",
          "tunit",
          "Database",
          "Developer Tools",
          "Language",
          "Miscellaneous Tech",
          "Platform",
          "Web Framework"
         ],
         "marker": {
          "coloraxis": "coloraxis",
          "colors": [
           274,
           215,
           20,
           1,
           89,
           224,
           250,
           19,
           1327,
           530,
           218,
           96,
           84,
           218,
           108,
           23,
           32,
           337,
           79,
           30,
           5,
           7,
           359,
           411,
           426,
           126,
           36,
           1,
           28,
           78,
           73,
           3,
           15,
           87,
           23,
           8,
           191,
           175,
           8,
           15,
           92,
           5,
           115,
           49,
           61,
           19,
           16,
           5,
           37,
           223,
           1,
           15,
           9,
           197,
           267,
           885,
           19,
           7,
           191,
           1,
           254,
           54,
           24,
           9,
           7,
           541,
           2,
           155,
           40,
           522,
           250,
           7,
           226,
           8,
           257,
           24,
           4,
           7,
           94,
           14,
           34,
           229,
           17,
           488,
           26,
           332,
           53,
           85,
           1356,
           66,
           13,
           291,
           15,
           314,
           36,
           25,
           29,
           26,
           59,
           16,
           933,
           1800,
           10,
           84,
           201,
           13,
           341,
           51,
           200,
           47,
           12,
           5,
           30,
           53,
           6,
           111,
           30,
           188,
           36,
           206,
           449,
           7,
           12,
           44,
           485,
           462,
           899,
           1281,
           33,
           103,
           250,
           388,
           3,
           17,
           16,
           948,
           178,
           304,
           47,
           2,
           13,
           61,
           34,
           31,
           22,
           158,
           256,
           36,
           418,
           59,
           344,
           28,
           20,
           495,
           9,
           30,
           881,
           125,
           6,
           3,
           11,
           1032,
           11,
           46,
           10,
           6,
           33,
           150,
           1,
           5,
           1029,
           209,
           397,
           17,
           57,
           66,
           57,
           85,
           8,
           3,
           1073,
           565,
           41,
           3,
           177,
           31,
           10,
           33,
           23,
           371,
           258,
           31,
           47,
           93,
           53,
           15,
           11,
           138,
           135,
           5,
           11,
           110,
           859,
           51,
           4,
           19,
           35,
           91,
           223,
           72,
           235,
           291,
           195,
           19,
           6,
           412,
           203,
           24,
           439,
           5,
           4,
           2,
           6,
           5,
           518,
           2,
           1,
           1149,
           92,
           1,
           1,
           660.0341296928327,
           492.05713892330994,
           923.8725673652694,
           196.69273433166944,
           637.3555454130534,
           518.9598946135832
          ]
         },
         "name": "",
         "parents": [
          "Miscellaneous Tech",
          "Miscellaneous Tech",
          "Miscellaneous Tech",
          "Language",
          "Developer Tools",
          "Web Framework",
          "Web Framework",
          "Language",
          "Platform",
          "Web Framework",
          "Web Framework",
          "Developer Tools",
          "Developer Tools",
          "Miscellaneous Tech",
          "Miscellaneous Tech",
          "Language",
          "Language",
          "Language",
          "Database",
          "Web Framework",
          "Developer Tools",
          "Developer Tools",
          "Language",
          "Language",
          "Language",
          "Developer Tools",
          "Miscellaneous Tech",
          "Developer Tools",
          "Miscellaneous Tech",
          "Developer Tools",
          "Database",
          "Developer Tools",
          "Developer Tools",
          "Developer Tools",
          "Database",
          "Language",
          "Database",
          "Platform",
          "Language",
          "Database",
          "Web Framework",
          "Platform",
          "Developer Tools",
          "Miscellaneous Tech",
          "Database",
          "Database",
          "Database",
          "Language",
          "Developer Tools",
          "Language",
          "Database",
          "Language",
          "Web Framework",
          "Platform",
          "Web Framework",
          "Developer Tools",
          "Web Framework",
          "Database",
          "Database",
          "Developer Tools",
          "Database",
          "Miscellaneous Tech",
          "Language",
          "Web Framework",
          "Language",
          "Web Framework",
          "Language",
          "Web Framework",
          "Web Framework",
          "Platform",
          "Database",
          "Database",
          "Web Framework",
          "Language",
          "Miscellaneous Tech",
          "Platform",
          "Language",
          "Language",
          "Developer Tools",
          "Miscellaneous Tech",
          "Web Framework",
          "Language",
          "Developer Tools",
          "Platform",
          "Developer Tools",
          "Developer Tools",
          "Language",
          "Database",
          "Language",
          "Miscellaneous Tech",
          "Language",
          "Platform",
          "Platform",
          "Developer Tools",
          "Miscellaneous Tech",
          "Platform",
          "Database",
          "Database",
          "Miscellaneous Tech",
          "Miscellaneous Tech",
          "Language",
          "Language",
          "Language",
          "Miscellaneous Tech",
          "Language",
          "Miscellaneous Tech",
          "Developer Tools",
          "Developer Tools",
          "Web Framework",
          "Platform",
          "Language",
          "Web Framework",
          "Language",
          "Language",
          "Miscellaneous Tech",
          "Developer Tools",
          "Developer Tools",
          "Developer Tools",
          "Platform",
          "Database",
          "Developer Tools",
          "Developer Tools",
          "Miscellaneous Tech",
          "Database",
          "Platform",
          "Database",
          "Database",
          "Database",
          "Database",
          "Web Framework",
          "Platform",
          "Web Framework",
          "Language",
          "Developer Tools",
          "Developer Tools",
          "Web Framework",
          "Developer Tools",
          "Miscellaneous Tech",
          "Web Framework",
          "Language",
          "Platform",
          "Language",
          "Miscellaneous Tech",
          "Platform",
          "Platform",
          "Miscellaneous Tech",
          "Database",
          "Platform",
          "Language",
          "Developer Tools",
          "Miscellaneous Tech",
          "Language",
          "Web Framework",
          "Developer Tools",
          "Web Framework",
          "Developer Tools",
          "Database",
          "Language",
          "Language",
          "Developer Tools",
          "Developer Tools",
          "Language",
          "Developer Tools",
          "Miscellaneous Tech",
          "Miscellaneous Tech",
          "Web Framework",
          "Language",
          "Miscellaneous Tech",
          "Language",
          "Database",
          "Web Framework",
          "Miscellaneous Tech",
          "Database",
          "Web Framework",
          "Platform",
          "Language",
          "Web Framework",
          "Language",
          "Language",
          "Developer Tools",
          "Language",
          "Database",
          "Language",
          "Platform",
          "Miscellaneous Tech",
          "Database",
          "Web Framework",
          "Language",
          "Database",
          "Web Framework",
          "Miscellaneous Tech",
          "Database",
          "Web Framework",
          "Language",
          "Miscellaneous Tech",
          "Web Framework",
          "Miscellaneous Tech",
          "Miscellaneous Tech",
          "Developer Tools",
          "Database",
          "Miscellaneous Tech",
          "Miscellaneous Tech",
          "Language",
          "Developer Tools",
          "Miscellaneous Tech",
          "Developer Tools",
          "Language",
          "Platform",
          "Platform",
          "Language",
          "Developer Tools",
          "Developer Tools",
          "Web Framework",
          "Platform",
          "Developer Tools",
          "Developer Tools",
          "Web Framework",
          "Miscellaneous Tech",
          "Developer Tools",
          "Language",
          "Developer Tools",
          "Developer Tools",
          "Developer Tools",
          "Developer Tools",
          "Web Framework",
          "Developer Tools",
          "Developer Tools",
          "Developer Tools",
          "Developer Tools",
          "Developer Tools",
          "Developer Tools",
          "",
          "",
          "",
          "",
          "",
          ""
         ],
         "type": "treemap",
         "values": [
          274,
          215,
          20,
          1,
          89,
          224,
          250,
          19,
          1327,
          530,
          218,
          96,
          84,
          218,
          108,
          23,
          32,
          337,
          79,
          30,
          5,
          7,
          359,
          411,
          426,
          126,
          36,
          1,
          28,
          78,
          73,
          3,
          15,
          87,
          23,
          8,
          191,
          175,
          8,
          15,
          92,
          5,
          115,
          49,
          61,
          19,
          16,
          5,
          37,
          223,
          1,
          15,
          9,
          197,
          267,
          885,
          19,
          7,
          191,
          1,
          254,
          54,
          24,
          9,
          7,
          541,
          2,
          155,
          40,
          522,
          250,
          7,
          226,
          8,
          257,
          24,
          4,
          7,
          94,
          14,
          34,
          229,
          17,
          488,
          26,
          332,
          53,
          85,
          1356,
          66,
          13,
          291,
          15,
          314,
          36,
          25,
          29,
          26,
          59,
          16,
          933,
          1800,
          10,
          84,
          201,
          13,
          341,
          51,
          200,
          47,
          12,
          5,
          30,
          53,
          6,
          111,
          30,
          188,
          36,
          206,
          449,
          7,
          12,
          44,
          485,
          462,
          899,
          1281,
          33,
          103,
          250,
          388,
          3,
          17,
          16,
          948,
          178,
          304,
          47,
          2,
          13,
          61,
          34,
          31,
          22,
          158,
          256,
          36,
          418,
          59,
          344,
          28,
          20,
          495,
          9,
          30,
          881,
          125,
          6,
          3,
          11,
          1032,
          11,
          46,
          10,
          6,
          33,
          150,
          1,
          5,
          1029,
          209,
          397,
          17,
          57,
          66,
          57,
          85,
          8,
          3,
          1073,
          565,
          41,
          3,
          177,
          31,
          10,
          33,
          23,
          371,
          258,
          31,
          47,
          93,
          53,
          15,
          11,
          138,
          135,
          5,
          11,
          110,
          859,
          51,
          4,
          19,
          35,
          91,
          223,
          72,
          235,
          291,
          195,
          19,
          6,
          412,
          203,
          24,
          439,
          5,
          4,
          2,
          6,
          5,
          518,
          2,
          1,
          1149,
          92,
          1,
          1,
          6446,
          7263,
          10688,
          3606,
          4382,
          6832
         ]
        }
       ],
       "layout": {
        "coloraxis": {
         "colorbar": {
          "title": {
           "text": "freq"
          }
         },
         "colorscale": [
          [
           0,
           "#440154"
          ],
          [
           0.1111111111111111,
           "#482878"
          ],
          [
           0.2222222222222222,
           "#3e4989"
          ],
          [
           0.3333333333333333,
           "#31688e"
          ],
          [
           0.4444444444444444,
           "#26828e"
          ],
          [
           0.5555555555555556,
           "#1f9e89"
          ],
          [
           0.6666666666666666,
           "#35b779"
          ],
          [
           0.7777777777777778,
           "#6ece58"
          ],
          [
           0.8888888888888888,
           "#b5de2b"
          ],
          [
           1,
           "#fde725"
          ]
         ]
        },
        "height": 700,
        "legend": {
         "tracegroupgap": 0
        },
        "margin": {
         "t": 60
        },
        "template": {
         "data": {
          "bar": [
           {
            "error_x": {
             "color": "#2a3f5f"
            },
            "error_y": {
             "color": "#2a3f5f"
            },
            "marker": {
             "line": {
              "color": "#E5ECF6",
              "width": 0.5
             },
             "pattern": {
              "fillmode": "overlay",
              "size": 10,
              "solidity": 0.2
             }
            },
            "type": "bar"
           }
          ],
          "barpolar": [
           {
            "marker": {
             "line": {
              "color": "#E5ECF6",
              "width": 0.5
             },
             "pattern": {
              "fillmode": "overlay",
              "size": 10,
              "solidity": 0.2
             }
            },
            "type": "barpolar"
           }
          ],
          "carpet": [
           {
            "aaxis": {
             "endlinecolor": "#2a3f5f",
             "gridcolor": "white",
             "linecolor": "white",
             "minorgridcolor": "white",
             "startlinecolor": "#2a3f5f"
            },
            "baxis": {
             "endlinecolor": "#2a3f5f",
             "gridcolor": "white",
             "linecolor": "white",
             "minorgridcolor": "white",
             "startlinecolor": "#2a3f5f"
            },
            "type": "carpet"
           }
          ],
          "choropleth": [
           {
            "colorbar": {
             "outlinewidth": 0,
             "ticks": ""
            },
            "type": "choropleth"
           }
          ],
          "contour": [
           {
            "colorbar": {
             "outlinewidth": 0,
             "ticks": ""
            },
            "colorscale": [
             [
              0,
              "#0d0887"
             ],
             [
              0.1111111111111111,
              "#46039f"
             ],
             [
              0.2222222222222222,
              "#7201a8"
             ],
             [
              0.3333333333333333,
              "#9c179e"
             ],
             [
              0.4444444444444444,
              "#bd3786"
             ],
             [
              0.5555555555555556,
              "#d8576b"
             ],
             [
              0.6666666666666666,
              "#ed7953"
             ],
             [
              0.7777777777777778,
              "#fb9f3a"
             ],
             [
              0.8888888888888888,
              "#fdca26"
             ],
             [
              1,
              "#f0f921"
             ]
            ],
            "type": "contour"
           }
          ],
          "contourcarpet": [
           {
            "colorbar": {
             "outlinewidth": 0,
             "ticks": ""
            },
            "type": "contourcarpet"
           }
          ],
          "heatmap": [
           {
            "colorbar": {
             "outlinewidth": 0,
             "ticks": ""
            },
            "colorscale": [
             [
              0,
              "#0d0887"
             ],
             [
              0.1111111111111111,
              "#46039f"
             ],
             [
              0.2222222222222222,
              "#7201a8"
             ],
             [
              0.3333333333333333,
              "#9c179e"
             ],
             [
              0.4444444444444444,
              "#bd3786"
             ],
             [
              0.5555555555555556,
              "#d8576b"
             ],
             [
              0.6666666666666666,
              "#ed7953"
             ],
             [
              0.7777777777777778,
              "#fb9f3a"
             ],
             [
              0.8888888888888888,
              "#fdca26"
             ],
             [
              1,
              "#f0f921"
             ]
            ],
            "type": "heatmap"
           }
          ],
          "heatmapgl": [
           {
            "colorbar": {
             "outlinewidth": 0,
             "ticks": ""
            },
            "colorscale": [
             [
              0,
              "#0d0887"
             ],
             [
              0.1111111111111111,
              "#46039f"
             ],
             [
              0.2222222222222222,
              "#7201a8"
             ],
             [
              0.3333333333333333,
              "#9c179e"
             ],
             [
              0.4444444444444444,
              "#bd3786"
             ],
             [
              0.5555555555555556,
              "#d8576b"
             ],
             [
              0.6666666666666666,
              "#ed7953"
             ],
             [
              0.7777777777777778,
              "#fb9f3a"
             ],
             [
              0.8888888888888888,
              "#fdca26"
             ],
             [
              1,
              "#f0f921"
             ]
            ],
            "type": "heatmapgl"
           }
          ],
          "histogram": [
           {
            "marker": {
             "pattern": {
              "fillmode": "overlay",
              "size": 10,
              "solidity": 0.2
             }
            },
            "type": "histogram"
           }
          ],
          "histogram2d": [
           {
            "colorbar": {
             "outlinewidth": 0,
             "ticks": ""
            },
            "colorscale": [
             [
              0,
              "#0d0887"
             ],
             [
              0.1111111111111111,
              "#46039f"
             ],
             [
              0.2222222222222222,
              "#7201a8"
             ],
             [
              0.3333333333333333,
              "#9c179e"
             ],
             [
              0.4444444444444444,
              "#bd3786"
             ],
             [
              0.5555555555555556,
              "#d8576b"
             ],
             [
              0.6666666666666666,
              "#ed7953"
             ],
             [
              0.7777777777777778,
              "#fb9f3a"
             ],
             [
              0.8888888888888888,
              "#fdca26"
             ],
             [
              1,
              "#f0f921"
             ]
            ],
            "type": "histogram2d"
           }
          ],
          "histogram2dcontour": [
           {
            "colorbar": {
             "outlinewidth": 0,
             "ticks": ""
            },
            "colorscale": [
             [
              0,
              "#0d0887"
             ],
             [
              0.1111111111111111,
              "#46039f"
             ],
             [
              0.2222222222222222,
              "#7201a8"
             ],
             [
              0.3333333333333333,
              "#9c179e"
             ],
             [
              0.4444444444444444,
              "#bd3786"
             ],
             [
              0.5555555555555556,
              "#d8576b"
             ],
             [
              0.6666666666666666,
              "#ed7953"
             ],
             [
              0.7777777777777778,
              "#fb9f3a"
             ],
             [
              0.8888888888888888,
              "#fdca26"
             ],
             [
              1,
              "#f0f921"
             ]
            ],
            "type": "histogram2dcontour"
           }
          ],
          "mesh3d": [
           {
            "colorbar": {
             "outlinewidth": 0,
             "ticks": ""
            },
            "type": "mesh3d"
           }
          ],
          "parcoords": [
           {
            "line": {
             "colorbar": {
              "outlinewidth": 0,
              "ticks": ""
             }
            },
            "type": "parcoords"
           }
          ],
          "pie": [
           {
            "automargin": true,
            "type": "pie"
           }
          ],
          "scatter": [
           {
            "fillpattern": {
             "fillmode": "overlay",
             "size": 10,
             "solidity": 0.2
            },
            "type": "scatter"
           }
          ],
          "scatter3d": [
           {
            "line": {
             "colorbar": {
              "outlinewidth": 0,
              "ticks": ""
             }
            },
            "marker": {
             "colorbar": {
              "outlinewidth": 0,
              "ticks": ""
             }
            },
            "type": "scatter3d"
           }
          ],
          "scattercarpet": [
           {
            "marker": {
             "colorbar": {
              "outlinewidth": 0,
              "ticks": ""
             }
            },
            "type": "scattercarpet"
           }
          ],
          "scattergeo": [
           {
            "marker": {
             "colorbar": {
              "outlinewidth": 0,
              "ticks": ""
             }
            },
            "type": "scattergeo"
           }
          ],
          "scattergl": [
           {
            "marker": {
             "colorbar": {
              "outlinewidth": 0,
              "ticks": ""
             }
            },
            "type": "scattergl"
           }
          ],
          "scattermapbox": [
           {
            "marker": {
             "colorbar": {
              "outlinewidth": 0,
              "ticks": ""
             }
            },
            "type": "scattermapbox"
           }
          ],
          "scatterpolar": [
           {
            "marker": {
             "colorbar": {
              "outlinewidth": 0,
              "ticks": ""
             }
            },
            "type": "scatterpolar"
           }
          ],
          "scatterpolargl": [
           {
            "marker": {
             "colorbar": {
              "outlinewidth": 0,
              "ticks": ""
             }
            },
            "type": "scatterpolargl"
           }
          ],
          "scatterternary": [
           {
            "marker": {
             "colorbar": {
              "outlinewidth": 0,
              "ticks": ""
             }
            },
            "type": "scatterternary"
           }
          ],
          "surface": [
           {
            "colorbar": {
             "outlinewidth": 0,
             "ticks": ""
            },
            "colorscale": [
             [
              0,
              "#0d0887"
             ],
             [
              0.1111111111111111,
              "#46039f"
             ],
             [
              0.2222222222222222,
              "#7201a8"
             ],
             [
              0.3333333333333333,
              "#9c179e"
             ],
             [
              0.4444444444444444,
              "#bd3786"
             ],
             [
              0.5555555555555556,
              "#d8576b"
             ],
             [
              0.6666666666666666,
              "#ed7953"
             ],
             [
              0.7777777777777778,
              "#fb9f3a"
             ],
             [
              0.8888888888888888,
              "#fdca26"
             ],
             [
              1,
              "#f0f921"
             ]
            ],
            "type": "surface"
           }
          ],
          "table": [
           {
            "cells": {
             "fill": {
              "color": "#EBF0F8"
             },
             "line": {
              "color": "white"
             }
            },
            "header": {
             "fill": {
              "color": "#C8D4E3"
             },
             "line": {
              "color": "white"
             }
            },
            "type": "table"
           }
          ]
         },
         "layout": {
          "annotationdefaults": {
           "arrowcolor": "#2a3f5f",
           "arrowhead": 0,
           "arrowwidth": 1
          },
          "autotypenumbers": "strict",
          "coloraxis": {
           "colorbar": {
            "outlinewidth": 0,
            "ticks": ""
           }
          },
          "colorscale": {
           "diverging": [
            [
             0,
             "#8e0152"
            ],
            [
             0.1,
             "#c51b7d"
            ],
            [
             0.2,
             "#de77ae"
            ],
            [
             0.3,
             "#f1b6da"
            ],
            [
             0.4,
             "#fde0ef"
            ],
            [
             0.5,
             "#f7f7f7"
            ],
            [
             0.6,
             "#e6f5d0"
            ],
            [
             0.7,
             "#b8e186"
            ],
            [
             0.8,
             "#7fbc41"
            ],
            [
             0.9,
             "#4d9221"
            ],
            [
             1,
             "#276419"
            ]
           ],
           "sequential": [
            [
             0,
             "#0d0887"
            ],
            [
             0.1111111111111111,
             "#46039f"
            ],
            [
             0.2222222222222222,
             "#7201a8"
            ],
            [
             0.3333333333333333,
             "#9c179e"
            ],
            [
             0.4444444444444444,
             "#bd3786"
            ],
            [
             0.5555555555555556,
             "#d8576b"
            ],
            [
             0.6666666666666666,
             "#ed7953"
            ],
            [
             0.7777777777777778,
             "#fb9f3a"
            ],
            [
             0.8888888888888888,
             "#fdca26"
            ],
            [
             1,
             "#f0f921"
            ]
           ],
           "sequentialminus": [
            [
             0,
             "#0d0887"
            ],
            [
             0.1111111111111111,
             "#46039f"
            ],
            [
             0.2222222222222222,
             "#7201a8"
            ],
            [
             0.3333333333333333,
             "#9c179e"
            ],
            [
             0.4444444444444444,
             "#bd3786"
            ],
            [
             0.5555555555555556,
             "#d8576b"
            ],
            [
             0.6666666666666666,
             "#ed7953"
            ],
            [
             0.7777777777777778,
             "#fb9f3a"
            ],
            [
             0.8888888888888888,
             "#fdca26"
            ],
            [
             1,
             "#f0f921"
            ]
           ]
          },
          "colorway": [
           "#636efa",
           "#EF553B",
           "#00cc96",
           "#ab63fa",
           "#FFA15A",
           "#19d3f3",
           "#FF6692",
           "#B6E880",
           "#FF97FF",
           "#FECB52"
          ],
          "font": {
           "color": "#2a3f5f"
          },
          "geo": {
           "bgcolor": "white",
           "lakecolor": "white",
           "landcolor": "#E5ECF6",
           "showlakes": true,
           "showland": true,
           "subunitcolor": "white"
          },
          "hoverlabel": {
           "align": "left"
          },
          "hovermode": "closest",
          "mapbox": {
           "style": "light"
          },
          "paper_bgcolor": "white",
          "plot_bgcolor": "#E5ECF6",
          "polar": {
           "angularaxis": {
            "gridcolor": "white",
            "linecolor": "white",
            "ticks": ""
           },
           "bgcolor": "#E5ECF6",
           "radialaxis": {
            "gridcolor": "white",
            "linecolor": "white",
            "ticks": ""
           }
          },
          "scene": {
           "xaxis": {
            "backgroundcolor": "#E5ECF6",
            "gridcolor": "white",
            "gridwidth": 2,
            "linecolor": "white",
            "showbackground": true,
            "ticks": "",
            "zerolinecolor": "white"
           },
           "yaxis": {
            "backgroundcolor": "#E5ECF6",
            "gridcolor": "white",
            "gridwidth": 2,
            "linecolor": "white",
            "showbackground": true,
            "ticks": "",
            "zerolinecolor": "white"
           },
           "zaxis": {
            "backgroundcolor": "#E5ECF6",
            "gridcolor": "white",
            "gridwidth": 2,
            "linecolor": "white",
            "showbackground": true,
            "ticks": "",
            "zerolinecolor": "white"
           }
          },
          "shapedefaults": {
           "line": {
            "color": "#2a3f5f"
           }
          },
          "ternary": {
           "aaxis": {
            "gridcolor": "white",
            "linecolor": "white",
            "ticks": ""
           },
           "baxis": {
            "gridcolor": "white",
            "linecolor": "white",
            "ticks": ""
           },
           "bgcolor": "#E5ECF6",
           "caxis": {
            "gridcolor": "white",
            "linecolor": "white",
            "ticks": ""
           }
          },
          "title": {
           "x": 0.05
          },
          "xaxis": {
           "automargin": true,
           "gridcolor": "white",
           "linecolor": "white",
           "ticks": "",
           "title": {
            "standoff": 15
           },
           "zerolinecolor": "white",
           "zerolinewidth": 2
          },
          "yaxis": {
           "automargin": true,
           "gridcolor": "white",
           "linecolor": "white",
           "ticks": "",
           "title": {
            "standoff": 15
           },
           "zerolinecolor": "white",
           "zerolinewidth": 2
          }
         }
        },
        "title": {
         "text": "Skills of India respondents"
        },
        "width": 1000
       }
      }
     },
     "metadata": {},
     "output_type": "display_data"
    },
    {
     "data": {
      "application/vnd.plotly.v1+json": {
       "config": {
        "plotlyServerURL": "https://plot.ly"
       },
       "data": [
        {
         "branchvalues": "total",
         "customdata": [
          [
           374
          ],
          [
           262
          ],
          [
           30
          ],
          [
           2
          ],
          [
           69
          ],
          [
           189
          ],
          [
           242
          ],
          [
           8
          ],
          [
           797
          ],
          [
           191
          ],
          [
           78
          ],
          [
           139
          ],
          [
           35
          ],
          [
           92
          ],
          [
           42
          ],
          [
           9
          ],
          [
           59
          ],
          [
           598
          ],
          [
           71
          ],
          [
           74
          ],
          [
           7
          ],
          [
           9
          ],
          [
           235
          ],
          [
           525
          ],
          [
           341
          ],
          [
           197
          ],
          [
           38
          ],
          [
           2
          ],
          [
           14
          ],
          [
           166
          ],
          [
           25
          ],
          [
           15
          ],
          [
           16
          ],
          [
           105
          ],
          [
           6
          ],
          [
           28
          ],
          [
           56
          ],
          [
           166
          ],
          [
           6
          ],
          [
           4
          ],
          [
           15
          ],
          [
           8
          ],
          [
           89
          ],
          [
           12
          ],
          [
           53
          ],
          [
           9
          ],
          [
           12
          ],
          [
           7
          ],
          [
           12
          ],
          [
           39
          ],
          [
           3
          ],
          [
           39
          ],
          [
           18
          ],
          [
           169
          ],
          [
           115
          ],
          [
           864
          ],
          [
           24
          ],
          [
           14
          ],
          [
           165
          ],
          [
           1
          ],
          [
           154
          ],
          [
           53
          ],
          [
           56
          ],
          [
           9
          ],
          [
           16
          ],
          [
           179
          ],
          [
           9
          ],
          [
           59
          ],
          [
           18
          ],
          [
           109
          ],
          [
           44
          ],
          [
           12
          ],
          [
           112
          ],
          [
           4
          ],
          [
           44
          ],
          [
           22
          ],
          [
           13
          ],
          [
           30
          ],
          [
           131
          ],
          [
           15
          ],
          [
           26
          ],
          [
           233
          ],
          [
           45
          ],
          [
           300
          ],
          [
           54
          ],
          [
           155
          ],
          [
           52
          ],
          [
           26
          ],
          [
           862
          ],
          [
           11
          ],
          [
           20
          ],
          [
           91
          ],
          [
           15
          ],
          [
           391
          ],
          [
           24
          ],
          [
           12
          ],
          [
           27
          ],
          [
           30
          ],
          [
           15
          ],
          [
           7
          ],
          [
           400
          ],
          [
           1142
          ],
          [
           15
          ],
          [
           25
          ],
          [
           102
          ],
          [
           5
          ],
          [
           328
          ],
          [
           94
          ],
          [
           65
          ],
          [
           35
          ],
          [
           26
          ],
          [
           10
          ],
          [
           65
          ],
          [
           38
          ],
          [
           19
          ],
          [
           222
          ],
          [
           81
          ],
          [
           301
          ],
          [
           27
          ],
          [
           153
          ],
          [
           172
          ],
          [
           9
          ],
          [
           5
          ],
          [
           41
          ],
          [
           412
          ],
          [
           435
          ],
          [
           243
          ],
          [
           500
          ],
          [
           12
          ],
          [
           40
          ],
          [
           89
          ],
          [
           170
          ],
          [
           3
          ],
          [
           44
          ],
          [
           28
          ],
          [
           512
          ],
          [
           267
          ],
          [
           192
          ],
          [
           23
          ],
          [
           9
          ],
          [
           26
          ],
          [
           41
          ],
          [
           67
          ],
          [
           40
          ],
          [
           23
          ],
          [
           40
          ],
          [
           107
          ],
          [
           28
          ],
          [
           236
          ],
          [
           60
          ],
          [
           189
          ],
          [
           43
          ],
          [
           47
          ],
          [
           355
          ],
          [
           12
          ],
          [
           56
          ],
          [
           688
          ],
          [
           227
          ],
          [
           5
          ],
          [
           11
          ],
          [
           11
          ],
          [
           812
          ],
          [
           10
          ],
          [
           65
          ],
          [
           7
          ],
          [
           4
          ],
          [
           55
          ],
          [
           92
          ],
          [
           3
          ],
          [
           2
          ],
          [
           584
          ],
          [
           71
          ],
          [
           297
          ],
          [
           15
          ],
          [
           11
          ],
          [
           154
          ],
          [
           108
          ],
          [
           199
          ],
          [
           9
          ],
          [
           7
          ],
          [
           844
          ],
          [
           339
          ],
          [
           46
          ],
          [
           3
          ],
          [
           81
          ],
          [
           50
          ],
          [
           11
          ],
          [
           17
          ],
          [
           19
          ],
          [
           101
          ],
          [
           93
          ],
          [
           17
          ],
          [
           66
          ],
          [
           71
          ],
          [
           50
          ],
          [
           28
          ],
          [
           15
          ],
          [
           60
          ],
          [
           243
          ],
          [
           1
          ],
          [
           17
          ],
          [
           74
          ],
          [
           693
          ],
          [
           83
          ],
          [
           16
          ],
          [
           51
          ],
          [
           52
          ],
          [
           64
          ],
          [
           83
          ],
          [
           66
          ],
          [
           296
          ],
          [
           178
          ],
          [
           191
          ],
          [
           23
          ],
          [
           6
          ],
          [
           304
          ],
          [
           146
          ],
          [
           40
          ],
          [
           320
          ],
          [
           7
          ],
          [
           7
          ],
          [
           3
          ],
          [
           4
          ],
          [
           9
          ],
          [
           256
          ],
          [
           1
          ],
          [
           1
          ],
          [
           746
          ],
          [
           59
          ],
          [
           1
          ],
          [
           2
          ],
          [
           354.6348547717842
          ],
          [
           363.71129220023283
          ],
          [
           599.9527476373819
          ],
          [
           156.92287234042553
          ],
          [
           390.6216216216216
          ],
          [
           266.8352059925094
          ]
         ],
         "domain": {
          "x": [
           0,
           1
          ],
          "y": [
           0,
           1
          ]
         },
         "hovertemplate": "labels=%{label}<br>freq_sum=%{value}<br>parent=%{parent}<br>id=%{id}<br>freq=%{color}<extra></extra>",
         "ids": [
          "Miscellaneous Tech/.NET (5+) ",
          "Miscellaneous Tech/.NET Framework (1.0 - 4.8)",
          "Miscellaneous Tech/.NET MAUI",
          "Language/APL",
          "Developer Tools/APT",
          "Web Framework/ASP.NET",
          "Web Framework/ASP.NET CORE",
          "Language/Ada",
          "Platform/Amazon Web Services (AWS)",
          "Web Framework/Angular",
          "Web Framework/AngularJS",
          "Developer Tools/Ansible",
          "Developer Tools/Ant",
          "Miscellaneous Tech/Apache Kafka",
          "Miscellaneous Tech/Apache Spark",
          "Language/Apex",
          "Language/Assembly",
          "Language/Bash/Shell (all shells)",
          "Database/BigQuery",
          "Web Framework/Blazor",
          "Developer Tools/Boost.Test",
          "Developer Tools/Bun",
          "Language/C",
          "Language/C#",
          "Language/C++",
          "Developer Tools/CMake",
          "Miscellaneous Tech/CUDA",
          "Developer Tools/CUTE",
          "Miscellaneous Tech/Capacitor",
          "Developer Tools/Cargo",
          "Database/Cassandra",
          "Developer Tools/Catch2",
          "Developer Tools/Chef",
          "Developer Tools/Chocolatey",
          "Database/Clickhouse",
          "Language/Clojure",
          "Database/Cloud Firestore",
          "Platform/Cloudflare",
          "Language/Cobol",
          "Database/Cockroachdb",
          "Web Framework/CodeIgniter",
          "Platform/Colocation",
          "Developer Tools/Composer",
          "Miscellaneous Tech/Cordova",
          "Database/Cosmos DB",
          "Database/Couch DB",
          "Database/Couchbase",
          "Language/Crystal",
          "Developer Tools/Dagger",
          "Language/Dart",
          "Database/Datomic",
          "Language/Delphi",
          "Web Framework/Deno",
          "Platform/Digital Ocean",
          "Web Framework/Django",
          "Developer Tools/Docker",
          "Web Framework/Drupal",
          "Database/DuckDB",
          "Database/Dynamodb",
          "Developer Tools/ELFspy",
          "Database/Elasticsearch",
          "Miscellaneous Tech/Electron",
          "Language/Elixir",
          "Web Framework/Elm",
          "Language/Erlang",
          "Web Framework/Express",
          "Language/F#",
          "Web Framework/FastAPI",
          "Web Framework/Fastify",
          "Platform/Firebase",
          "Database/Firebase Realtime Database",
          "Database/Firebird",
          "Web Framework/Flask",
          "Language/Flow",
          "Miscellaneous Tech/Flutter",
          "Platform/Fly.io",
          "Language/Fortran",
          "Language/GDScript",
          "Developer Tools/GNU GCC",
          "Miscellaneous Tech/GTK",
          "Web Framework/Gatsby",
          "Language/Go",
          "Developer Tools/Godot",
          "Platform/Google Cloud",
          "Developer Tools/Google Test",
          "Developer Tools/Gradle",
          "Language/Groovy",
          "Database/H2",
          "Language/HTML/CSS",
          "Miscellaneous Tech/Hadoop",
          "Language/Haskell",
          "Platform/Heroku",
          "Platform/Hetzner",
          "Developer Tools/Homebrew",
          "Miscellaneous Tech/Hugging Face Transformers",
          "Platform/IBM Cloud Or Watson",
          "Database/IBM DB2",
          "Database/InfluxDB",
          "Miscellaneous Tech/Ionic",
          "Miscellaneous Tech/JAX",
          "Language/Java",
          "Language/JavaScript",
          "Language/Julia",
          "Miscellaneous Tech/Keras",
          "Language/Kotlin",
          "Miscellaneous Tech/Ktor",
          "Developer Tools/Kubernetes",
          "Developer Tools/LLVM's Clang",
          "Web Framework/Laravel",
          "Platform/Linode, now Akamai",
          "Language/Lisp",
          "Web Framework/Lit",
          "Language/Lua",
          "Language/MATLAB",
          "Miscellaneous Tech/MFC",
          "Developer Tools/MSBuild",
          "Developer Tools/MSVC",
          "Developer Tools/Make",
          "Platform/Managed Hosting",
          "Database/MariaDB",
          "Developer Tools/Maven (build tool)",
          "Developer Tools/Meson",
          "Miscellaneous Tech/Micronaut",
          "Database/Microsoft Access",
          "Platform/Microsoft Azure",
          "Database/Microsoft SQL Server",
          "Database/MongoDB",
          "Database/MySQL",
          "Database/Neo4J",
          "Web Framework/NestJS",
          "Platform/Netlify",
          "Web Framework/Next.js",
          "Language/Nim",
          "Developer Tools/Ninja",
          "Developer Tools/Nix",
          "Web Framework/Node.js",
          "Developer Tools/NuGet",
          "Miscellaneous Tech/NumPy",
          "Web Framework/Nuxt.js",
          "Language/OCaml",
          "Platform/OVH",
          "Language/Objective-C",
          "Miscellaneous Tech/OpenGL",
          "Platform/OpenShift",
          "Platform/OpenStack",
          "Miscellaneous Tech/Opencv",
          "Database/Oracle",
          "Platform/Oracle Cloud Infrastructure (OCI)",
          "Language/PHP",
          "Developer Tools/Pacman",
          "Miscellaneous Tech/Pandas",
          "Language/Perl",
          "Web Framework/Phoenix",
          "Developer Tools/Pip",
          "Web Framework/Play Framework",
          "Developer Tools/Podman",
          "Database/PostgreSQL",
          "Language/PowerShell",
          "Language/Prolog",
          "Developer Tools/Pulumi",
          "Developer Tools/Puppet",
          "Language/Python",
          "Developer Tools/QMake",
          "Miscellaneous Tech/Qt",
          "Miscellaneous Tech/Quarkus",
          "Web Framework/Qwik",
          "Language/R",
          "Miscellaneous Tech/RabbitMQ",
          "Language/Raku",
          "Database/RavenDB",
          "Web Framework/React",
          "Miscellaneous Tech/React Native",
          "Database/Redis",
          "Web Framework/Remix",
          "Platform/Render",
          "Language/Ruby",
          "Web Framework/Ruby on Rails",
          "Language/Rust",
          "Language/SAS",
          "Developer Tools/SCons",
          "Language/SQL",
          "Database/SQLite",
          "Language/Scala",
          "Platform/Scaleway",
          "Miscellaneous Tech/Scikit-Learn",
          "Database/Snowflake",
          "Web Framework/Solid.js",
          "Language/Solidity",
          "Database/Solr",
          "Web Framework/Spring Boot",
          "Miscellaneous Tech/Spring Framework",
          "Database/Supabase",
          "Web Framework/Svelte",
          "Language/Swift",
          "Miscellaneous Tech/SwiftUI",
          "Web Framework/Symfony",
          "Miscellaneous Tech/Tauri",
          "Miscellaneous Tech/TensorFlow",
          "Developer Tools/Terraform",
          "Database/TiDB",
          "Miscellaneous Tech/Tidyverse",
          "Miscellaneous Tech/Torch/PyTorch",
          "Language/TypeScript",
          "Developer Tools/Unity 3D",
          "Miscellaneous Tech/Uno Platform",
          "Developer Tools/Unreal Engine",
          "Language/VBA",
          "Platform/VMware",
          "Platform/Vercel",
          "Language/Visual Basic (.Net)",
          "Developer Tools/Visual Studio Solution",
          "Developer Tools/Vite",
          "Web Framework/Vue.js",
          "Platform/Vultr",
          "Developer Tools/Wasmer",
          "Developer Tools/Webpack",
          "Web Framework/WordPress",
          "Miscellaneous Tech/Xamarin",
          "Developer Tools/Yarn",
          "Language/Zig",
          "Developer Tools/bandit",
          "Developer Tools/build2",
          "Developer Tools/cppunit",
          "Developer Tools/doctest",
          "Web Framework/jQuery",
          "Developer Tools/lest",
          "Developer Tools/liblittletest",
          "Developer Tools/npm",
          "Developer Tools/pnpm",
          "Developer Tools/snitch",
          "Developer Tools/tunit",
          "Database",
          "Developer Tools",
          "Language",
          "Miscellaneous Tech",
          "Platform",
          "Web Framework"
         ],
         "labels": [
          ".NET (5+) ",
          ".NET Framework (1.0 - 4.8)",
          ".NET MAUI",
          "APL",
          "APT",
          "ASP.NET",
          "ASP.NET CORE",
          "Ada",
          "Amazon Web Services (AWS)",
          "Angular",
          "AngularJS",
          "Ansible",
          "Ant",
          "Apache Kafka",
          "Apache Spark",
          "Apex",
          "Assembly",
          "Bash/Shell (all shells)",
          "BigQuery",
          "Blazor",
          "Boost.Test",
          "Bun",
          "C",
          "C#",
          "C++",
          "CMake",
          "CUDA",
          "CUTE",
          "Capacitor",
          "Cargo",
          "Cassandra",
          "Catch2",
          "Chef",
          "Chocolatey",
          "Clickhouse",
          "Clojure",
          "Cloud Firestore",
          "Cloudflare",
          "Cobol",
          "Cockroachdb",
          "CodeIgniter",
          "Colocation",
          "Composer",
          "Cordova",
          "Cosmos DB",
          "Couch DB",
          "Couchbase",
          "Crystal",
          "Dagger",
          "Dart",
          "Datomic",
          "Delphi",
          "Deno",
          "Digital Ocean",
          "Django",
          "Docker",
          "Drupal",
          "DuckDB",
          "Dynamodb",
          "ELFspy",
          "Elasticsearch",
          "Electron",
          "Elixir",
          "Elm",
          "Erlang",
          "Express",
          "F#",
          "FastAPI",
          "Fastify",
          "Firebase",
          "Firebase Realtime Database",
          "Firebird",
          "Flask",
          "Flow",
          "Flutter",
          "Fly.io",
          "Fortran",
          "GDScript",
          "GNU GCC",
          "GTK",
          "Gatsby",
          "Go",
          "Godot",
          "Google Cloud",
          "Google Test",
          "Gradle",
          "Groovy",
          "H2",
          "HTML/CSS",
          "Hadoop",
          "Haskell",
          "Heroku",
          "Hetzner",
          "Homebrew",
          "Hugging Face Transformers",
          "IBM Cloud Or Watson",
          "IBM DB2",
          "InfluxDB",
          "Ionic",
          "JAX",
          "Java",
          "JavaScript",
          "Julia",
          "Keras",
          "Kotlin",
          "Ktor",
          "Kubernetes",
          "LLVM's Clang",
          "Laravel",
          "Linode, now Akamai",
          "Lisp",
          "Lit",
          "Lua",
          "MATLAB",
          "MFC",
          "MSBuild",
          "MSVC",
          "Make",
          "Managed Hosting",
          "MariaDB",
          "Maven (build tool)",
          "Meson",
          "Micronaut",
          "Microsoft Access",
          "Microsoft Azure",
          "Microsoft SQL Server",
          "MongoDB",
          "MySQL",
          "Neo4J",
          "NestJS",
          "Netlify",
          "Next.js",
          "Nim",
          "Ninja",
          "Nix",
          "Node.js",
          "NuGet",
          "NumPy",
          "Nuxt.js",
          "OCaml",
          "OVH",
          "Objective-C",
          "OpenGL",
          "OpenShift",
          "OpenStack",
          "Opencv",
          "Oracle",
          "Oracle Cloud Infrastructure (OCI)",
          "PHP",
          "Pacman",
          "Pandas",
          "Perl",
          "Phoenix",
          "Pip",
          "Play Framework",
          "Podman",
          "PostgreSQL",
          "PowerShell",
          "Prolog",
          "Pulumi",
          "Puppet",
          "Python",
          "QMake",
          "Qt",
          "Quarkus",
          "Qwik",
          "R",
          "RabbitMQ",
          "Raku",
          "RavenDB",
          "React",
          "React Native",
          "Redis",
          "Remix",
          "Render",
          "Ruby",
          "Ruby on Rails",
          "Rust",
          "SAS",
          "SCons",
          "SQL",
          "SQLite",
          "Scala",
          "Scaleway",
          "Scikit-Learn",
          "Snowflake",
          "Solid.js",
          "Solidity",
          "Solr",
          "Spring Boot",
          "Spring Framework",
          "Supabase",
          "Svelte",
          "Swift",
          "SwiftUI",
          "Symfony",
          "Tauri",
          "TensorFlow",
          "Terraform",
          "TiDB",
          "Tidyverse",
          "Torch/PyTorch",
          "TypeScript",
          "Unity 3D",
          "Uno Platform",
          "Unreal Engine",
          "VBA",
          "VMware",
          "Vercel",
          "Visual Basic (.Net)",
          "Visual Studio Solution",
          "Vite",
          "Vue.js",
          "Vultr",
          "Wasmer",
          "Webpack",
          "WordPress",
          "Xamarin",
          "Yarn",
          "Zig",
          "bandit",
          "build2",
          "cppunit",
          "doctest",
          "jQuery",
          "lest",
          "liblittletest",
          "npm",
          "pnpm",
          "snitch",
          "tunit",
          "Database",
          "Developer Tools",
          "Language",
          "Miscellaneous Tech",
          "Platform",
          "Web Framework"
         ],
         "marker": {
          "coloraxis": "coloraxis",
          "colors": [
           374,
           262,
           30,
           2,
           69,
           189,
           242,
           8,
           797,
           191,
           78,
           139,
           35,
           92,
           42,
           9,
           59,
           598,
           71,
           74,
           7,
           9,
           235,
           525,
           341,
           197,
           38,
           2,
           14,
           166,
           25,
           15,
           16,
           105,
           6,
           28,
           56,
           166,
           6,
           4,
           15,
           8,
           89,
           12,
           53,
           9,
           12,
           7,
           12,
           39,
           3,
           39,
           18,
           169,
           115,
           864,
           24,
           14,
           165,
           1,
           154,
           53,
           56,
           9,
           16,
           179,
           9,
           59,
           18,
           109,
           44,
           12,
           112,
           4,
           44,
           22,
           13,
           30,
           131,
           15,
           26,
           233,
           45,
           300,
           54,
           155,
           52,
           26,
           862,
           11,
           20,
           91,
           15,
           391,
           24,
           12,
           27,
           30,
           15,
           7,
           400,
           1142,
           15,
           25,
           102,
           5,
           328,
           94,
           65,
           35,
           26,
           10,
           65,
           38,
           19,
           222,
           81,
           301,
           27,
           153,
           172,
           9,
           5,
           41,
           412,
           435,
           243,
           500,
           12,
           40,
           89,
           170,
           3,
           44,
           28,
           512,
           267,
           192,
           23,
           9,
           26,
           41,
           67,
           40,
           23,
           40,
           107,
           28,
           236,
           60,
           189,
           43,
           47,
           355,
           12,
           56,
           688,
           227,
           5,
           11,
           11,
           812,
           10,
           65,
           7,
           4,
           55,
           92,
           3,
           2,
           584,
           71,
           297,
           15,
           11,
           154,
           108,
           199,
           9,
           7,
           844,
           339,
           46,
           3,
           81,
           50,
           11,
           17,
           19,
           101,
           93,
           17,
           66,
           71,
           50,
           28,
           15,
           60,
           243,
           1,
           17,
           74,
           693,
           83,
           16,
           51,
           52,
           64,
           83,
           66,
           296,
           178,
           191,
           23,
           6,
           304,
           146,
           40,
           320,
           7,
           7,
           3,
           4,
           9,
           256,
           1,
           1,
           746,
           59,
           1,
           2,
           354.6348547717842,
           363.71129220023283,
           599.9527476373819,
           156.92287234042553,
           390.6216216216216,
           266.8352059925094
          ]
         },
         "name": "",
         "parents": [
          "Miscellaneous Tech",
          "Miscellaneous Tech",
          "Miscellaneous Tech",
          "Language",
          "Developer Tools",
          "Web Framework",
          "Web Framework",
          "Language",
          "Platform",
          "Web Framework",
          "Web Framework",
          "Developer Tools",
          "Developer Tools",
          "Miscellaneous Tech",
          "Miscellaneous Tech",
          "Language",
          "Language",
          "Language",
          "Database",
          "Web Framework",
          "Developer Tools",
          "Developer Tools",
          "Language",
          "Language",
          "Language",
          "Developer Tools",
          "Miscellaneous Tech",
          "Developer Tools",
          "Miscellaneous Tech",
          "Developer Tools",
          "Database",
          "Developer Tools",
          "Developer Tools",
          "Developer Tools",
          "Database",
          "Language",
          "Database",
          "Platform",
          "Language",
          "Database",
          "Web Framework",
          "Platform",
          "Developer Tools",
          "Miscellaneous Tech",
          "Database",
          "Database",
          "Database",
          "Language",
          "Developer Tools",
          "Language",
          "Database",
          "Language",
          "Web Framework",
          "Platform",
          "Web Framework",
          "Developer Tools",
          "Web Framework",
          "Database",
          "Database",
          "Developer Tools",
          "Database",
          "Miscellaneous Tech",
          "Language",
          "Web Framework",
          "Language",
          "Web Framework",
          "Language",
          "Web Framework",
          "Web Framework",
          "Platform",
          "Database",
          "Database",
          "Web Framework",
          "Language",
          "Miscellaneous Tech",
          "Platform",
          "Language",
          "Language",
          "Developer Tools",
          "Miscellaneous Tech",
          "Web Framework",
          "Language",
          "Developer Tools",
          "Platform",
          "Developer Tools",
          "Developer Tools",
          "Language",
          "Database",
          "Language",
          "Miscellaneous Tech",
          "Language",
          "Platform",
          "Platform",
          "Developer Tools",
          "Miscellaneous Tech",
          "Platform",
          "Database",
          "Database",
          "Miscellaneous Tech",
          "Miscellaneous Tech",
          "Language",
          "Language",
          "Language",
          "Miscellaneous Tech",
          "Language",
          "Miscellaneous Tech",
          "Developer Tools",
          "Developer Tools",
          "Web Framework",
          "Platform",
          "Language",
          "Web Framework",
          "Language",
          "Language",
          "Miscellaneous Tech",
          "Developer Tools",
          "Developer Tools",
          "Developer Tools",
          "Platform",
          "Database",
          "Developer Tools",
          "Developer Tools",
          "Miscellaneous Tech",
          "Database",
          "Platform",
          "Database",
          "Database",
          "Database",
          "Database",
          "Web Framework",
          "Platform",
          "Web Framework",
          "Language",
          "Developer Tools",
          "Developer Tools",
          "Web Framework",
          "Developer Tools",
          "Miscellaneous Tech",
          "Web Framework",
          "Language",
          "Platform",
          "Language",
          "Miscellaneous Tech",
          "Platform",
          "Platform",
          "Miscellaneous Tech",
          "Database",
          "Platform",
          "Language",
          "Developer Tools",
          "Miscellaneous Tech",
          "Language",
          "Web Framework",
          "Developer Tools",
          "Web Framework",
          "Developer Tools",
          "Database",
          "Language",
          "Language",
          "Developer Tools",
          "Developer Tools",
          "Language",
          "Developer Tools",
          "Miscellaneous Tech",
          "Miscellaneous Tech",
          "Web Framework",
          "Language",
          "Miscellaneous Tech",
          "Language",
          "Database",
          "Web Framework",
          "Miscellaneous Tech",
          "Database",
          "Web Framework",
          "Platform",
          "Language",
          "Web Framework",
          "Language",
          "Language",
          "Developer Tools",
          "Language",
          "Database",
          "Language",
          "Platform",
          "Miscellaneous Tech",
          "Database",
          "Web Framework",
          "Language",
          "Database",
          "Web Framework",
          "Miscellaneous Tech",
          "Database",
          "Web Framework",
          "Language",
          "Miscellaneous Tech",
          "Web Framework",
          "Miscellaneous Tech",
          "Miscellaneous Tech",
          "Developer Tools",
          "Database",
          "Miscellaneous Tech",
          "Miscellaneous Tech",
          "Language",
          "Developer Tools",
          "Miscellaneous Tech",
          "Developer Tools",
          "Language",
          "Platform",
          "Platform",
          "Language",
          "Developer Tools",
          "Developer Tools",
          "Web Framework",
          "Platform",
          "Developer Tools",
          "Developer Tools",
          "Web Framework",
          "Miscellaneous Tech",
          "Developer Tools",
          "Language",
          "Developer Tools",
          "Developer Tools",
          "Developer Tools",
          "Developer Tools",
          "Web Framework",
          "Developer Tools",
          "Developer Tools",
          "Developer Tools",
          "Developer Tools",
          "Developer Tools",
          "Developer Tools",
          "",
          "",
          "",
          "",
          "",
          ""
         ],
         "type": "treemap",
         "values": [
          374,
          262,
          30,
          2,
          69,
          189,
          242,
          8,
          797,
          191,
          78,
          139,
          35,
          92,
          42,
          9,
          59,
          598,
          71,
          74,
          7,
          9,
          235,
          525,
          341,
          197,
          38,
          2,
          14,
          166,
          25,
          15,
          16,
          105,
          6,
          28,
          56,
          166,
          6,
          4,
          15,
          8,
          89,
          12,
          53,
          9,
          12,
          7,
          12,
          39,
          3,
          39,
          18,
          169,
          115,
          864,
          24,
          14,
          165,
          1,
          154,
          53,
          56,
          9,
          16,
          179,
          9,
          59,
          18,
          109,
          44,
          12,
          112,
          4,
          44,
          22,
          13,
          30,
          131,
          15,
          26,
          233,
          45,
          300,
          54,
          155,
          52,
          26,
          862,
          11,
          20,
          91,
          15,
          391,
          24,
          12,
          27,
          30,
          15,
          7,
          400,
          1142,
          15,
          25,
          102,
          5,
          328,
          94,
          65,
          35,
          26,
          10,
          65,
          38,
          19,
          222,
          81,
          301,
          27,
          153,
          172,
          9,
          5,
          41,
          412,
          435,
          243,
          500,
          12,
          40,
          89,
          170,
          3,
          44,
          28,
          512,
          267,
          192,
          23,
          9,
          26,
          41,
          67,
          40,
          23,
          40,
          107,
          28,
          236,
          60,
          189,
          43,
          47,
          355,
          12,
          56,
          688,
          227,
          5,
          11,
          11,
          812,
          10,
          65,
          7,
          4,
          55,
          92,
          3,
          2,
          584,
          71,
          297,
          15,
          11,
          154,
          108,
          199,
          9,
          7,
          844,
          339,
          46,
          3,
          81,
          50,
          11,
          17,
          19,
          101,
          93,
          17,
          66,
          71,
          50,
          28,
          15,
          60,
          243,
          1,
          17,
          74,
          693,
          83,
          16,
          51,
          52,
          64,
          83,
          66,
          296,
          178,
          191,
          23,
          6,
          304,
          146,
          40,
          320,
          7,
          7,
          3,
          4,
          9,
          256,
          1,
          1,
          746,
          59,
          1,
          2,
          3615,
          6872,
          8571,
          2256,
          2553,
          3738
         ]
        }
       ],
       "layout": {
        "coloraxis": {
         "colorbar": {
          "title": {
           "text": "freq"
          }
         },
         "colorscale": [
          [
           0,
           "#440154"
          ],
          [
           0.1111111111111111,
           "#482878"
          ],
          [
           0.2222222222222222,
           "#3e4989"
          ],
          [
           0.3333333333333333,
           "#31688e"
          ],
          [
           0.4444444444444444,
           "#26828e"
          ],
          [
           0.5555555555555556,
           "#1f9e89"
          ],
          [
           0.6666666666666666,
           "#35b779"
          ],
          [
           0.7777777777777778,
           "#6ece58"
          ],
          [
           0.8888888888888888,
           "#b5de2b"
          ],
          [
           1,
           "#fde725"
          ]
         ]
        },
        "height": 700,
        "legend": {
         "tracegroupgap": 0
        },
        "margin": {
         "t": 60
        },
        "template": {
         "data": {
          "bar": [
           {
            "error_x": {
             "color": "#2a3f5f"
            },
            "error_y": {
             "color": "#2a3f5f"
            },
            "marker": {
             "line": {
              "color": "#E5ECF6",
              "width": 0.5
             },
             "pattern": {
              "fillmode": "overlay",
              "size": 10,
              "solidity": 0.2
             }
            },
            "type": "bar"
           }
          ],
          "barpolar": [
           {
            "marker": {
             "line": {
              "color": "#E5ECF6",
              "width": 0.5
             },
             "pattern": {
              "fillmode": "overlay",
              "size": 10,
              "solidity": 0.2
             }
            },
            "type": "barpolar"
           }
          ],
          "carpet": [
           {
            "aaxis": {
             "endlinecolor": "#2a3f5f",
             "gridcolor": "white",
             "linecolor": "white",
             "minorgridcolor": "white",
             "startlinecolor": "#2a3f5f"
            },
            "baxis": {
             "endlinecolor": "#2a3f5f",
             "gridcolor": "white",
             "linecolor": "white",
             "minorgridcolor": "white",
             "startlinecolor": "#2a3f5f"
            },
            "type": "carpet"
           }
          ],
          "choropleth": [
           {
            "colorbar": {
             "outlinewidth": 0,
             "ticks": ""
            },
            "type": "choropleth"
           }
          ],
          "contour": [
           {
            "colorbar": {
             "outlinewidth": 0,
             "ticks": ""
            },
            "colorscale": [
             [
              0,
              "#0d0887"
             ],
             [
              0.1111111111111111,
              "#46039f"
             ],
             [
              0.2222222222222222,
              "#7201a8"
             ],
             [
              0.3333333333333333,
              "#9c179e"
             ],
             [
              0.4444444444444444,
              "#bd3786"
             ],
             [
              0.5555555555555556,
              "#d8576b"
             ],
             [
              0.6666666666666666,
              "#ed7953"
             ],
             [
              0.7777777777777778,
              "#fb9f3a"
             ],
             [
              0.8888888888888888,
              "#fdca26"
             ],
             [
              1,
              "#f0f921"
             ]
            ],
            "type": "contour"
           }
          ],
          "contourcarpet": [
           {
            "colorbar": {
             "outlinewidth": 0,
             "ticks": ""
            },
            "type": "contourcarpet"
           }
          ],
          "heatmap": [
           {
            "colorbar": {
             "outlinewidth": 0,
             "ticks": ""
            },
            "colorscale": [
             [
              0,
              "#0d0887"
             ],
             [
              0.1111111111111111,
              "#46039f"
             ],
             [
              0.2222222222222222,
              "#7201a8"
             ],
             [
              0.3333333333333333,
              "#9c179e"
             ],
             [
              0.4444444444444444,
              "#bd3786"
             ],
             [
              0.5555555555555556,
              "#d8576b"
             ],
             [
              0.6666666666666666,
              "#ed7953"
             ],
             [
              0.7777777777777778,
              "#fb9f3a"
             ],
             [
              0.8888888888888888,
              "#fdca26"
             ],
             [
              1,
              "#f0f921"
             ]
            ],
            "type": "heatmap"
           }
          ],
          "heatmapgl": [
           {
            "colorbar": {
             "outlinewidth": 0,
             "ticks": ""
            },
            "colorscale": [
             [
              0,
              "#0d0887"
             ],
             [
              0.1111111111111111,
              "#46039f"
             ],
             [
              0.2222222222222222,
              "#7201a8"
             ],
             [
              0.3333333333333333,
              "#9c179e"
             ],
             [
              0.4444444444444444,
              "#bd3786"
             ],
             [
              0.5555555555555556,
              "#d8576b"
             ],
             [
              0.6666666666666666,
              "#ed7953"
             ],
             [
              0.7777777777777778,
              "#fb9f3a"
             ],
             [
              0.8888888888888888,
              "#fdca26"
             ],
             [
              1,
              "#f0f921"
             ]
            ],
            "type": "heatmapgl"
           }
          ],
          "histogram": [
           {
            "marker": {
             "pattern": {
              "fillmode": "overlay",
              "size": 10,
              "solidity": 0.2
             }
            },
            "type": "histogram"
           }
          ],
          "histogram2d": [
           {
            "colorbar": {
             "outlinewidth": 0,
             "ticks": ""
            },
            "colorscale": [
             [
              0,
              "#0d0887"
             ],
             [
              0.1111111111111111,
              "#46039f"
             ],
             [
              0.2222222222222222,
              "#7201a8"
             ],
             [
              0.3333333333333333,
              "#9c179e"
             ],
             [
              0.4444444444444444,
              "#bd3786"
             ],
             [
              0.5555555555555556,
              "#d8576b"
             ],
             [
              0.6666666666666666,
              "#ed7953"
             ],
             [
              0.7777777777777778,
              "#fb9f3a"
             ],
             [
              0.8888888888888888,
              "#fdca26"
             ],
             [
              1,
              "#f0f921"
             ]
            ],
            "type": "histogram2d"
           }
          ],
          "histogram2dcontour": [
           {
            "colorbar": {
             "outlinewidth": 0,
             "ticks": ""
            },
            "colorscale": [
             [
              0,
              "#0d0887"
             ],
             [
              0.1111111111111111,
              "#46039f"
             ],
             [
              0.2222222222222222,
              "#7201a8"
             ],
             [
              0.3333333333333333,
              "#9c179e"
             ],
             [
              0.4444444444444444,
              "#bd3786"
             ],
             [
              0.5555555555555556,
              "#d8576b"
             ],
             [
              0.6666666666666666,
              "#ed7953"
             ],
             [
              0.7777777777777778,
              "#fb9f3a"
             ],
             [
              0.8888888888888888,
              "#fdca26"
             ],
             [
              1,
              "#f0f921"
             ]
            ],
            "type": "histogram2dcontour"
           }
          ],
          "mesh3d": [
           {
            "colorbar": {
             "outlinewidth": 0,
             "ticks": ""
            },
            "type": "mesh3d"
           }
          ],
          "parcoords": [
           {
            "line": {
             "colorbar": {
              "outlinewidth": 0,
              "ticks": ""
             }
            },
            "type": "parcoords"
           }
          ],
          "pie": [
           {
            "automargin": true,
            "type": "pie"
           }
          ],
          "scatter": [
           {
            "fillpattern": {
             "fillmode": "overlay",
             "size": 10,
             "solidity": 0.2
            },
            "type": "scatter"
           }
          ],
          "scatter3d": [
           {
            "line": {
             "colorbar": {
              "outlinewidth": 0,
              "ticks": ""
             }
            },
            "marker": {
             "colorbar": {
              "outlinewidth": 0,
              "ticks": ""
             }
            },
            "type": "scatter3d"
           }
          ],
          "scattercarpet": [
           {
            "marker": {
             "colorbar": {
              "outlinewidth": 0,
              "ticks": ""
             }
            },
            "type": "scattercarpet"
           }
          ],
          "scattergeo": [
           {
            "marker": {
             "colorbar": {
              "outlinewidth": 0,
              "ticks": ""
             }
            },
            "type": "scattergeo"
           }
          ],
          "scattergl": [
           {
            "marker": {
             "colorbar": {
              "outlinewidth": 0,
              "ticks": ""
             }
            },
            "type": "scattergl"
           }
          ],
          "scattermapbox": [
           {
            "marker": {
             "colorbar": {
              "outlinewidth": 0,
              "ticks": ""
             }
            },
            "type": "scattermapbox"
           }
          ],
          "scatterpolar": [
           {
            "marker": {
             "colorbar": {
              "outlinewidth": 0,
              "ticks": ""
             }
            },
            "type": "scatterpolar"
           }
          ],
          "scatterpolargl": [
           {
            "marker": {
             "colorbar": {
              "outlinewidth": 0,
              "ticks": ""
             }
            },
            "type": "scatterpolargl"
           }
          ],
          "scatterternary": [
           {
            "marker": {
             "colorbar": {
              "outlinewidth": 0,
              "ticks": ""
             }
            },
            "type": "scatterternary"
           }
          ],
          "surface": [
           {
            "colorbar": {
             "outlinewidth": 0,
             "ticks": ""
            },
            "colorscale": [
             [
              0,
              "#0d0887"
             ],
             [
              0.1111111111111111,
              "#46039f"
             ],
             [
              0.2222222222222222,
              "#7201a8"
             ],
             [
              0.3333333333333333,
              "#9c179e"
             ],
             [
              0.4444444444444444,
              "#bd3786"
             ],
             [
              0.5555555555555556,
              "#d8576b"
             ],
             [
              0.6666666666666666,
              "#ed7953"
             ],
             [
              0.7777777777777778,
              "#fb9f3a"
             ],
             [
              0.8888888888888888,
              "#fdca26"
             ],
             [
              1,
              "#f0f921"
             ]
            ],
            "type": "surface"
           }
          ],
          "table": [
           {
            "cells": {
             "fill": {
              "color": "#EBF0F8"
             },
             "line": {
              "color": "white"
             }
            },
            "header": {
             "fill": {
              "color": "#C8D4E3"
             },
             "line": {
              "color": "white"
             }
            },
            "type": "table"
           }
          ]
         },
         "layout": {
          "annotationdefaults": {
           "arrowcolor": "#2a3f5f",
           "arrowhead": 0,
           "arrowwidth": 1
          },
          "autotypenumbers": "strict",
          "coloraxis": {
           "colorbar": {
            "outlinewidth": 0,
            "ticks": ""
           }
          },
          "colorscale": {
           "diverging": [
            [
             0,
             "#8e0152"
            ],
            [
             0.1,
             "#c51b7d"
            ],
            [
             0.2,
             "#de77ae"
            ],
            [
             0.3,
             "#f1b6da"
            ],
            [
             0.4,
             "#fde0ef"
            ],
            [
             0.5,
             "#f7f7f7"
            ],
            [
             0.6,
             "#e6f5d0"
            ],
            [
             0.7,
             "#b8e186"
            ],
            [
             0.8,
             "#7fbc41"
            ],
            [
             0.9,
             "#4d9221"
            ],
            [
             1,
             "#276419"
            ]
           ],
           "sequential": [
            [
             0,
             "#0d0887"
            ],
            [
             0.1111111111111111,
             "#46039f"
            ],
            [
             0.2222222222222222,
             "#7201a8"
            ],
            [
             0.3333333333333333,
             "#9c179e"
            ],
            [
             0.4444444444444444,
             "#bd3786"
            ],
            [
             0.5555555555555556,
             "#d8576b"
            ],
            [
             0.6666666666666666,
             "#ed7953"
            ],
            [
             0.7777777777777778,
             "#fb9f3a"
            ],
            [
             0.8888888888888888,
             "#fdca26"
            ],
            [
             1,
             "#f0f921"
            ]
           ],
           "sequentialminus": [
            [
             0,
             "#0d0887"
            ],
            [
             0.1111111111111111,
             "#46039f"
            ],
            [
             0.2222222222222222,
             "#7201a8"
            ],
            [
             0.3333333333333333,
             "#9c179e"
            ],
            [
             0.4444444444444444,
             "#bd3786"
            ],
            [
             0.5555555555555556,
             "#d8576b"
            ],
            [
             0.6666666666666666,
             "#ed7953"
            ],
            [
             0.7777777777777778,
             "#fb9f3a"
            ],
            [
             0.8888888888888888,
             "#fdca26"
            ],
            [
             1,
             "#f0f921"
            ]
           ]
          },
          "colorway": [
           "#636efa",
           "#EF553B",
           "#00cc96",
           "#ab63fa",
           "#FFA15A",
           "#19d3f3",
           "#FF6692",
           "#B6E880",
           "#FF97FF",
           "#FECB52"
          ],
          "font": {
           "color": "#2a3f5f"
          },
          "geo": {
           "bgcolor": "white",
           "lakecolor": "white",
           "landcolor": "#E5ECF6",
           "showlakes": true,
           "showland": true,
           "subunitcolor": "white"
          },
          "hoverlabel": {
           "align": "left"
          },
          "hovermode": "closest",
          "mapbox": {
           "style": "light"
          },
          "paper_bgcolor": "white",
          "plot_bgcolor": "#E5ECF6",
          "polar": {
           "angularaxis": {
            "gridcolor": "white",
            "linecolor": "white",
            "ticks": ""
           },
           "bgcolor": "#E5ECF6",
           "radialaxis": {
            "gridcolor": "white",
            "linecolor": "white",
            "ticks": ""
           }
          },
          "scene": {
           "xaxis": {
            "backgroundcolor": "#E5ECF6",
            "gridcolor": "white",
            "gridwidth": 2,
            "linecolor": "white",
            "showbackground": true,
            "ticks": "",
            "zerolinecolor": "white"
           },
           "yaxis": {
            "backgroundcolor": "#E5ECF6",
            "gridcolor": "white",
            "gridwidth": 2,
            "linecolor": "white",
            "showbackground": true,
            "ticks": "",
            "zerolinecolor": "white"
           },
           "zaxis": {
            "backgroundcolor": "#E5ECF6",
            "gridcolor": "white",
            "gridwidth": 2,
            "linecolor": "white",
            "showbackground": true,
            "ticks": "",
            "zerolinecolor": "white"
           }
          },
          "shapedefaults": {
           "line": {
            "color": "#2a3f5f"
           }
          },
          "ternary": {
           "aaxis": {
            "gridcolor": "white",
            "linecolor": "white",
            "ticks": ""
           },
           "baxis": {
            "gridcolor": "white",
            "linecolor": "white",
            "ticks": ""
           },
           "bgcolor": "#E5ECF6",
           "caxis": {
            "gridcolor": "white",
            "linecolor": "white",
            "ticks": ""
           }
          },
          "title": {
           "x": 0.05
          },
          "xaxis": {
           "automargin": true,
           "gridcolor": "white",
           "linecolor": "white",
           "ticks": "",
           "title": {
            "standoff": 15
           },
           "zerolinecolor": "white",
           "zerolinewidth": 2
          },
          "yaxis": {
           "automargin": true,
           "gridcolor": "white",
           "linecolor": "white",
           "ticks": "",
           "title": {
            "standoff": 15
           },
           "zerolinecolor": "white",
           "zerolinewidth": 2
          }
         }
        },
        "title": {
         "text": "Skills of Canada respondents"
        },
        "width": 1000
       }
      }
     },
     "metadata": {},
     "output_type": "display_data"
    }
   ],
   "source": [
    "for country in df.Country.value_counts()[:5].index:\n",
    "    skills_freq = encoded_df[encoded_df['Country'] == country].drop(['Country','DevType'], axis=1).sum().reset_index()\n",
    "    skills_freq.columns = ['group', 'skill', 'freq']\n",
    "    skills_freq.sort_values('freq', ascending=False)\n",
    "    skills_freq.freq = skills_freq.freq + 1\n",
    "\n",
    "    fig = px.treemap(skills_freq, \n",
    "                 path=['group', 'skill'], \n",
    "                 color_continuous_scale='viridis',\n",
    "                 values='freq',color='freq')\n",
    "\n",
    "    fig.update_layout(width=1000, height=700, title=f\"Skills of {country} respondents\")\n",
    "    fig.show()\n",
    "    pio.write_image(fig, REPORT_PATH+  f\"{country}-skills_distribution.png\", width=1000, height=800)"
   ]
  },
  {
   "cell_type": "code",
   "execution_count": 11,
   "metadata": {},
   "outputs": [
    {
     "data": {
      "text/plain": [
       "<Axes: title={'center': 'Number of skills per respondent'}, ylabel='Frequency'>"
      ]
     },
     "execution_count": 11,
     "metadata": {},
     "output_type": "execute_result"
    },
    {
     "data": {
      "image/png": "[encoded data removed]",
      "text/plain": [
       "<Figure size 1000x500 with 1 Axes>"
      ]
     },
     "metadata": {},
     "output_type": "display_data"
    }
   ],
   "source": [
    "encoded_df[SkILLS_COLS].sum(axis=1).plot(kind='hist', figsize=(10,5), title='Number of skills per respondent')"
   ]
  },
  {
   "cell_type": "code",
   "execution_count": 12,
   "metadata": {},
   "outputs": [],
   "source": [
    "encoded_df = encoded_df[(encoded_df[SkILLS_COLS].sum(axis=1) > 2) & (encoded_df[SkILLS_COLS].sum(axis=1) < 25)]"
   ]
  },
  {
   "cell_type": "code",
   "execution_count": 13,
   "metadata": {},
   "outputs": [
    {
     "data": {
      "text/plain": [
       "(48998, 254)"
      ]
     },
     "execution_count": 13,
     "metadata": {},
     "output_type": "execute_result"
    }
   ],
   "source": [
    "encoded_df.shape"
   ]
  },
  {
   "cell_type": "markdown",
   "metadata": {},
   "source": [
    "## HeatMap"
   ]
  },
  {
   "cell_type": "code",
   "execution_count": 14,
   "metadata": {},
   "outputs": [
    {
     "data": {
      "text/plain": [
       "['Database administrator',\n",
       " 'Blockchain',\n",
       " 'Hardware Engineer',\n",
       " 'Scientist',\n",
       " 'Engineer, site reliability',\n",
       " 'Security professional',\n",
       " 'Developer, QA or test',\n",
       " 'System administrator',\n",
       " 'Developer, game or graphics',\n",
       " 'Data or business analyst',\n",
       " 'Cloud infrastructure engineer',\n",
       " 'DevOps specialist',\n",
       " 'Engineer, data',\n",
       " 'Research & Development role',\n",
       " 'Academic researcher',\n",
       " 'Data scientist or machine learning specialist',\n",
       " 'Developer, embedded applications or devices',\n",
       " 'Developer, mobile',\n",
       " 'Developer, desktop or enterprise applications',\n",
       " 'Developer, front-end',\n",
       " 'Developer, back-end',\n",
       " 'Developer, full-stack']"
      ]
     },
     "execution_count": 14,
     "metadata": {},
     "output_type": "execute_result"
    }
   ],
   "source": [
    "sorted_roles = encoded_df['DevType'].sum().sort_values().index.tolist()\n",
    "\n",
    "sorted_skills = encoded_df.drop(['DevType', 'Country'], axis=1).sum().sort_values(ascending=False).droplevel(level=0).index.tolist()\n",
    "sorted_roles"
   ]
  },
  {
   "cell_type": "code",
   "execution_count": 15,
   "metadata": {},
   "outputs": [
    {
     "data": {
      "text/html": [
       "<div>\n",
       "<style scoped>\n",
       "    .dataframe tbody tr th:only-of-type {\n",
       "        vertical-align: middle;\n",
       "    }\n",
       "\n",
       "    .dataframe tbody tr th {\n",
       "        vertical-align: top;\n",
       "    }\n",
       "\n",
       "    .dataframe thead th {\n",
       "        text-align: right;\n",
       "    }\n",
       "</style>\n",
       "<table border=\"1\" class=\"dataframe\">\n",
       "  <thead>\n",
       "    <tr style=\"text-align: right;\">\n",
       "      <th></th>\n",
       "      <th>JavaScript</th>\n",
       "      <th>HTML/CSS</th>\n",
       "      <th>SQL</th>\n",
       "      <th>Docker</th>\n",
       "      <th>Python</th>\n",
       "      <th>npm</th>\n",
       "      <th>Amazon Web Services (AWS)</th>\n",
       "      <th>PostgreSQL</th>\n",
       "      <th>TypeScript</th>\n",
       "      <th>MySQL</th>\n",
       "      <th>...</th>\n",
       "      <th>Raku</th>\n",
       "      <th>TiDB</th>\n",
       "      <th>build2</th>\n",
       "      <th>APL</th>\n",
       "      <th>lest</th>\n",
       "      <th>tunit</th>\n",
       "      <th>snitch</th>\n",
       "      <th>CUTE</th>\n",
       "      <th>liblittletest</th>\n",
       "      <th>ELFspy</th>\n",
       "    </tr>\n",
       "  </thead>\n",
       "  <tbody>\n",
       "    <tr>\n",
       "      <th>Database administrator</th>\n",
       "      <td>23.222749</td>\n",
       "      <td>27.014218</td>\n",
       "      <td>85.781991</td>\n",
       "      <td>22.748815</td>\n",
       "      <td>40.758294</td>\n",
       "      <td>5.687204</td>\n",
       "      <td>27.962085</td>\n",
       "      <td>28.436019</td>\n",
       "      <td>4.739336</td>\n",
       "      <td>32.701422</td>\n",
       "      <td>...</td>\n",
       "      <td>0.000000</td>\n",
       "      <td>0.947867</td>\n",
       "      <td>0.000000</td>\n",
       "      <td>0.473934</td>\n",
       "      <td>0.000000</td>\n",
       "      <td>0.000000</td>\n",
       "      <td>0.000000</td>\n",
       "      <td>0.000000</td>\n",
       "      <td>0.000000</td>\n",
       "      <td>0.000000</td>\n",
       "    </tr>\n",
       "    <tr>\n",
       "      <th>Blockchain</th>\n",
       "      <td>56.542056</td>\n",
       "      <td>29.906542</td>\n",
       "      <td>24.299065</td>\n",
       "      <td>49.065421</td>\n",
       "      <td>33.177570</td>\n",
       "      <td>48.598131</td>\n",
       "      <td>48.598131</td>\n",
       "      <td>47.196262</td>\n",
       "      <td>47.663551</td>\n",
       "      <td>19.626168</td>\n",
       "      <td>...</td>\n",
       "      <td>0.000000</td>\n",
       "      <td>0.000000</td>\n",
       "      <td>0.467290</td>\n",
       "      <td>0.467290</td>\n",
       "      <td>0.467290</td>\n",
       "      <td>0.000000</td>\n",
       "      <td>0.000000</td>\n",
       "      <td>0.000000</td>\n",
       "      <td>0.000000</td>\n",
       "      <td>0.000000</td>\n",
       "    </tr>\n",
       "    <tr>\n",
       "      <th>Hardware Engineer</th>\n",
       "      <td>23.364486</td>\n",
       "      <td>25.233645</td>\n",
       "      <td>18.691589</td>\n",
       "      <td>27.102804</td>\n",
       "      <td>75.233645</td>\n",
       "      <td>12.149533</td>\n",
       "      <td>12.616822</td>\n",
       "      <td>11.214953</td>\n",
       "      <td>4.205607</td>\n",
       "      <td>18.224299</td>\n",
       "      <td>...</td>\n",
       "      <td>0.000000</td>\n",
       "      <td>0.000000</td>\n",
       "      <td>0.000000</td>\n",
       "      <td>0.000000</td>\n",
       "      <td>0.000000</td>\n",
       "      <td>0.467290</td>\n",
       "      <td>0.000000</td>\n",
       "      <td>0.000000</td>\n",
       "      <td>0.467290</td>\n",
       "      <td>0.000000</td>\n",
       "    </tr>\n",
       "    <tr>\n",
       "      <th>Scientist</th>\n",
       "      <td>21.755725</td>\n",
       "      <td>20.229008</td>\n",
       "      <td>25.190840</td>\n",
       "      <td>26.335878</td>\n",
       "      <td>81.679389</td>\n",
       "      <td>6.106870</td>\n",
       "      <td>19.083969</td>\n",
       "      <td>16.412214</td>\n",
       "      <td>3.816794</td>\n",
       "      <td>21.755725</td>\n",
       "      <td>...</td>\n",
       "      <td>0.381679</td>\n",
       "      <td>0.381679</td>\n",
       "      <td>0.000000</td>\n",
       "      <td>0.000000</td>\n",
       "      <td>0.000000</td>\n",
       "      <td>0.000000</td>\n",
       "      <td>0.000000</td>\n",
       "      <td>0.000000</td>\n",
       "      <td>0.000000</td>\n",
       "      <td>0.000000</td>\n",
       "    </tr>\n",
       "    <tr>\n",
       "      <th>Engineer, site reliability</th>\n",
       "      <td>36.296296</td>\n",
       "      <td>29.629630</td>\n",
       "      <td>32.222222</td>\n",
       "      <td>66.666667</td>\n",
       "      <td>68.888889</td>\n",
       "      <td>23.333333</td>\n",
       "      <td>60.000000</td>\n",
       "      <td>47.777778</td>\n",
       "      <td>19.259259</td>\n",
       "      <td>27.037037</td>\n",
       "      <td>...</td>\n",
       "      <td>0.370370</td>\n",
       "      <td>0.000000</td>\n",
       "      <td>0.000000</td>\n",
       "      <td>0.000000</td>\n",
       "      <td>0.370370</td>\n",
       "      <td>0.000000</td>\n",
       "      <td>0.000000</td>\n",
       "      <td>0.000000</td>\n",
       "      <td>0.000000</td>\n",
       "      <td>0.000000</td>\n",
       "    </tr>\n",
       "    <tr>\n",
       "      <th>Security professional</th>\n",
       "      <td>48.813559</td>\n",
       "      <td>35.932203</td>\n",
       "      <td>34.237288</td>\n",
       "      <td>52.203390</td>\n",
       "      <td>74.915254</td>\n",
       "      <td>26.101695</td>\n",
       "      <td>45.084746</td>\n",
       "      <td>32.881356</td>\n",
       "      <td>15.932203</td>\n",
       "      <td>22.033898</td>\n",
       "      <td>...</td>\n",
       "      <td>0.000000</td>\n",
       "      <td>0.338983</td>\n",
       "      <td>0.000000</td>\n",
       "      <td>0.000000</td>\n",
       "      <td>0.000000</td>\n",
       "      <td>0.000000</td>\n",
       "      <td>0.000000</td>\n",
       "      <td>0.000000</td>\n",
       "      <td>0.000000</td>\n",
       "      <td>0.000000</td>\n",
       "    </tr>\n",
       "    <tr>\n",
       "      <th>Developer, QA or test</th>\n",
       "      <td>48.931624</td>\n",
       "      <td>32.692308</td>\n",
       "      <td>33.547009</td>\n",
       "      <td>42.521368</td>\n",
       "      <td>57.478632</td>\n",
       "      <td>34.401709</td>\n",
       "      <td>33.547009</td>\n",
       "      <td>27.777778</td>\n",
       "      <td>21.794872</td>\n",
       "      <td>25.854701</td>\n",
       "      <td>...</td>\n",
       "      <td>0.000000</td>\n",
       "      <td>0.213675</td>\n",
       "      <td>0.000000</td>\n",
       "      <td>0.213675</td>\n",
       "      <td>0.000000</td>\n",
       "      <td>0.000000</td>\n",
       "      <td>0.000000</td>\n",
       "      <td>0.000000</td>\n",
       "      <td>0.000000</td>\n",
       "      <td>0.000000</td>\n",
       "    </tr>\n",
       "    <tr>\n",
       "      <th>System administrator</th>\n",
       "      <td>47.478992</td>\n",
       "      <td>46.218487</td>\n",
       "      <td>50.840336</td>\n",
       "      <td>34.873950</td>\n",
       "      <td>54.411765</td>\n",
       "      <td>18.907563</td>\n",
       "      <td>19.537815</td>\n",
       "      <td>33.613445</td>\n",
       "      <td>10.084034</td>\n",
       "      <td>36.974790</td>\n",
       "      <td>...</td>\n",
       "      <td>1.260504</td>\n",
       "      <td>0.000000</td>\n",
       "      <td>0.000000</td>\n",
       "      <td>0.210084</td>\n",
       "      <td>0.000000</td>\n",
       "      <td>0.000000</td>\n",
       "      <td>0.000000</td>\n",
       "      <td>0.000000</td>\n",
       "      <td>0.000000</td>\n",
       "      <td>0.000000</td>\n",
       "    </tr>\n",
       "    <tr>\n",
       "      <th>Developer, game or graphics</th>\n",
       "      <td>37.820513</td>\n",
       "      <td>27.884615</td>\n",
       "      <td>12.660256</td>\n",
       "      <td>17.948718</td>\n",
       "      <td>39.903846</td>\n",
       "      <td>20.512821</td>\n",
       "      <td>21.634615</td>\n",
       "      <td>11.378205</td>\n",
       "      <td>20.192308</td>\n",
       "      <td>16.506410</td>\n",
       "      <td>...</td>\n",
       "      <td>0.000000</td>\n",
       "      <td>0.000000</td>\n",
       "      <td>0.320513</td>\n",
       "      <td>0.160256</td>\n",
       "      <td>0.000000</td>\n",
       "      <td>0.000000</td>\n",
       "      <td>0.160256</td>\n",
       "      <td>0.000000</td>\n",
       "      <td>0.000000</td>\n",
       "      <td>0.000000</td>\n",
       "    </tr>\n",
       "    <tr>\n",
       "      <th>Data or business analyst</th>\n",
       "      <td>37.898089</td>\n",
       "      <td>38.057325</td>\n",
       "      <td>76.273885</td>\n",
       "      <td>16.719745</td>\n",
       "      <td>68.312102</td>\n",
       "      <td>12.261146</td>\n",
       "      <td>21.019108</td>\n",
       "      <td>29.458599</td>\n",
       "      <td>9.554140</td>\n",
       "      <td>31.687898</td>\n",
       "      <td>...</td>\n",
       "      <td>0.000000</td>\n",
       "      <td>0.000000</td>\n",
       "      <td>0.159236</td>\n",
       "      <td>0.159236</td>\n",
       "      <td>0.159236</td>\n",
       "      <td>0.000000</td>\n",
       "      <td>0.000000</td>\n",
       "      <td>0.000000</td>\n",
       "      <td>0.000000</td>\n",
       "      <td>0.000000</td>\n",
       "    </tr>\n",
       "    <tr>\n",
       "      <th>Cloud infrastructure engineer</th>\n",
       "      <td>40.112202</td>\n",
       "      <td>23.842917</td>\n",
       "      <td>34.081346</td>\n",
       "      <td>69.705470</td>\n",
       "      <td>65.357644</td>\n",
       "      <td>29.172511</td>\n",
       "      <td>68.022440</td>\n",
       "      <td>46.704067</td>\n",
       "      <td>24.684432</td>\n",
       "      <td>25.385694</td>\n",
       "      <td>...</td>\n",
       "      <td>0.000000</td>\n",
       "      <td>0.280505</td>\n",
       "      <td>0.000000</td>\n",
       "      <td>0.140252</td>\n",
       "      <td>0.000000</td>\n",
       "      <td>0.140252</td>\n",
       "      <td>0.280505</td>\n",
       "      <td>0.000000</td>\n",
       "      <td>0.000000</td>\n",
       "      <td>0.000000</td>\n",
       "    </tr>\n",
       "    <tr>\n",
       "      <th>DevOps specialist</th>\n",
       "      <td>40.174672</td>\n",
       "      <td>28.056769</td>\n",
       "      <td>38.427948</td>\n",
       "      <td>71.834061</td>\n",
       "      <td>67.139738</td>\n",
       "      <td>31.441048</td>\n",
       "      <td>53.602620</td>\n",
       "      <td>45.414847</td>\n",
       "      <td>21.615721</td>\n",
       "      <td>28.275109</td>\n",
       "      <td>...</td>\n",
       "      <td>0.109170</td>\n",
       "      <td>0.218341</td>\n",
       "      <td>0.109170</td>\n",
       "      <td>0.109170</td>\n",
       "      <td>0.109170</td>\n",
       "      <td>0.000000</td>\n",
       "      <td>0.000000</td>\n",
       "      <td>0.000000</td>\n",
       "      <td>0.000000</td>\n",
       "      <td>0.000000</td>\n",
       "    </tr>\n",
       "    <tr>\n",
       "      <th>Engineer, data</th>\n",
       "      <td>26.349206</td>\n",
       "      <td>21.375661</td>\n",
       "      <td>70.158730</td>\n",
       "      <td>56.084656</td>\n",
       "      <td>84.867725</td>\n",
       "      <td>14.920635</td>\n",
       "      <td>53.756614</td>\n",
       "      <td>50.582011</td>\n",
       "      <td>9.629630</td>\n",
       "      <td>24.973545</td>\n",
       "      <td>...</td>\n",
       "      <td>0.317460</td>\n",
       "      <td>0.211640</td>\n",
       "      <td>0.000000</td>\n",
       "      <td>0.000000</td>\n",
       "      <td>0.105820</td>\n",
       "      <td>0.000000</td>\n",
       "      <td>0.105820</td>\n",
       "      <td>0.105820</td>\n",
       "      <td>0.000000</td>\n",
       "      <td>0.000000</td>\n",
       "    </tr>\n",
       "    <tr>\n",
       "      <th>Research &amp; Development role</th>\n",
       "      <td>31.397638</td>\n",
       "      <td>24.704724</td>\n",
       "      <td>27.460630</td>\n",
       "      <td>43.110236</td>\n",
       "      <td>68.405512</td>\n",
       "      <td>17.618110</td>\n",
       "      <td>27.952756</td>\n",
       "      <td>25.393701</td>\n",
       "      <td>14.173228</td>\n",
       "      <td>16.929134</td>\n",
       "      <td>...</td>\n",
       "      <td>0.393701</td>\n",
       "      <td>0.000000</td>\n",
       "      <td>0.393701</td>\n",
       "      <td>0.196850</td>\n",
       "      <td>0.000000</td>\n",
       "      <td>0.000000</td>\n",
       "      <td>0.000000</td>\n",
       "      <td>0.000000</td>\n",
       "      <td>0.000000</td>\n",
       "      <td>0.000000</td>\n",
       "    </tr>\n",
       "    <tr>\n",
       "      <th>Academic researcher</th>\n",
       "      <td>28.516378</td>\n",
       "      <td>27.649326</td>\n",
       "      <td>19.267823</td>\n",
       "      <td>32.177264</td>\n",
       "      <td>79.865125</td>\n",
       "      <td>13.487476</td>\n",
       "      <td>14.932563</td>\n",
       "      <td>17.726397</td>\n",
       "      <td>9.055877</td>\n",
       "      <td>16.088632</td>\n",
       "      <td>...</td>\n",
       "      <td>0.096339</td>\n",
       "      <td>0.000000</td>\n",
       "      <td>0.289017</td>\n",
       "      <td>0.192678</td>\n",
       "      <td>0.000000</td>\n",
       "      <td>0.096339</td>\n",
       "      <td>0.096339</td>\n",
       "      <td>0.096339</td>\n",
       "      <td>0.096339</td>\n",
       "      <td>0.000000</td>\n",
       "    </tr>\n",
       "    <tr>\n",
       "      <th>Data scientist or machine learning specialist</th>\n",
       "      <td>21.130221</td>\n",
       "      <td>18.837019</td>\n",
       "      <td>51.023751</td>\n",
       "      <td>44.799345</td>\n",
       "      <td>93.038493</td>\n",
       "      <td>10.319410</td>\n",
       "      <td>46.109746</td>\n",
       "      <td>35.790336</td>\n",
       "      <td>7.207207</td>\n",
       "      <td>24.324324</td>\n",
       "      <td>...</td>\n",
       "      <td>0.000000</td>\n",
       "      <td>0.000000</td>\n",
       "      <td>0.000000</td>\n",
       "      <td>0.000000</td>\n",
       "      <td>0.000000</td>\n",
       "      <td>0.000000</td>\n",
       "      <td>0.000000</td>\n",
       "      <td>0.000000</td>\n",
       "      <td>0.000000</td>\n",
       "      <td>0.000000</td>\n",
       "    </tr>\n",
       "    <tr>\n",
       "      <th>Developer, embedded applications or devices</th>\n",
       "      <td>24.326059</td>\n",
       "      <td>16.431322</td>\n",
       "      <td>14.698331</td>\n",
       "      <td>39.024390</td>\n",
       "      <td>67.522465</td>\n",
       "      <td>10.077022</td>\n",
       "      <td>16.238768</td>\n",
       "      <td>14.505777</td>\n",
       "      <td>8.023107</td>\n",
       "      <td>11.360719</td>\n",
       "      <td>...</td>\n",
       "      <td>0.064185</td>\n",
       "      <td>0.000000</td>\n",
       "      <td>0.449294</td>\n",
       "      <td>0.000000</td>\n",
       "      <td>0.064185</td>\n",
       "      <td>0.000000</td>\n",
       "      <td>0.064185</td>\n",
       "      <td>0.000000</td>\n",
       "      <td>0.000000</td>\n",
       "      <td>0.000000</td>\n",
       "    </tr>\n",
       "    <tr>\n",
       "      <th>Developer, mobile</th>\n",
       "      <td>32.027972</td>\n",
       "      <td>20.419580</td>\n",
       "      <td>19.393939</td>\n",
       "      <td>17.482517</td>\n",
       "      <td>21.538462</td>\n",
       "      <td>21.678322</td>\n",
       "      <td>24.428904</td>\n",
       "      <td>15.011655</td>\n",
       "      <td>15.944056</td>\n",
       "      <td>20.233100</td>\n",
       "      <td>...</td>\n",
       "      <td>0.000000</td>\n",
       "      <td>0.093240</td>\n",
       "      <td>0.000000</td>\n",
       "      <td>0.046620</td>\n",
       "      <td>0.000000</td>\n",
       "      <td>0.046620</td>\n",
       "      <td>0.000000</td>\n",
       "      <td>0.093240</td>\n",
       "      <td>0.000000</td>\n",
       "      <td>0.000000</td>\n",
       "    </tr>\n",
       "    <tr>\n",
       "      <th>Developer, desktop or enterprise applications</th>\n",
       "      <td>35.432331</td>\n",
       "      <td>29.511278</td>\n",
       "      <td>46.146617</td>\n",
       "      <td>21.867168</td>\n",
       "      <td>32.581454</td>\n",
       "      <td>15.037594</td>\n",
       "      <td>17.105263</td>\n",
       "      <td>18.577694</td>\n",
       "      <td>13.909774</td>\n",
       "      <td>22.681704</td>\n",
       "      <td>...</td>\n",
       "      <td>0.031328</td>\n",
       "      <td>0.031328</td>\n",
       "      <td>0.156642</td>\n",
       "      <td>0.093985</td>\n",
       "      <td>0.000000</td>\n",
       "      <td>0.093985</td>\n",
       "      <td>0.062657</td>\n",
       "      <td>0.031328</td>\n",
       "      <td>0.000000</td>\n",
       "      <td>0.031328</td>\n",
       "    </tr>\n",
       "    <tr>\n",
       "      <th>Developer, front-end</th>\n",
       "      <td>91.576885</td>\n",
       "      <td>78.011753</td>\n",
       "      <td>18.952008</td>\n",
       "      <td>32.982370</td>\n",
       "      <td>15.401567</td>\n",
       "      <td>69.466210</td>\n",
       "      <td>30.950049</td>\n",
       "      <td>23.359452</td>\n",
       "      <td>70.127326</td>\n",
       "      <td>25.269344</td>\n",
       "      <td>...</td>\n",
       "      <td>0.073457</td>\n",
       "      <td>0.024486</td>\n",
       "      <td>0.048972</td>\n",
       "      <td>0.048972</td>\n",
       "      <td>0.073457</td>\n",
       "      <td>0.000000</td>\n",
       "      <td>0.000000</td>\n",
       "      <td>0.024486</td>\n",
       "      <td>0.000000</td>\n",
       "      <td>0.000000</td>\n",
       "    </tr>\n",
       "    <tr>\n",
       "      <th>Developer, back-end</th>\n",
       "      <td>42.828485</td>\n",
       "      <td>27.409501</td>\n",
       "      <td>48.627701</td>\n",
       "      <td>58.976931</td>\n",
       "      <td>39.190298</td>\n",
       "      <td>29.214917</td>\n",
       "      <td>48.645938</td>\n",
       "      <td>49.630710</td>\n",
       "      <td>23.579830</td>\n",
       "      <td>31.002097</td>\n",
       "      <td>...</td>\n",
       "      <td>0.127656</td>\n",
       "      <td>0.145892</td>\n",
       "      <td>0.036473</td>\n",
       "      <td>0.036473</td>\n",
       "      <td>0.027355</td>\n",
       "      <td>0.009118</td>\n",
       "      <td>0.009118</td>\n",
       "      <td>0.009118</td>\n",
       "      <td>0.000000</td>\n",
       "      <td>0.000000</td>\n",
       "    </tr>\n",
       "    <tr>\n",
       "      <th>Developer, full-stack</th>\n",
       "      <td>81.477681</td>\n",
       "      <td>66.894704</td>\n",
       "      <td>56.114247</td>\n",
       "      <td>46.063508</td>\n",
       "      <td>29.827262</td>\n",
       "      <td>56.336583</td>\n",
       "      <td>38.823328</td>\n",
       "      <td>40.693233</td>\n",
       "      <td>52.294624</td>\n",
       "      <td>35.237444</td>\n",
       "      <td>...</td>\n",
       "      <td>0.068411</td>\n",
       "      <td>0.051308</td>\n",
       "      <td>0.017103</td>\n",
       "      <td>0.039907</td>\n",
       "      <td>0.000000</td>\n",
       "      <td>0.017103</td>\n",
       "      <td>0.005701</td>\n",
       "      <td>0.011402</td>\n",
       "      <td>0.000000</td>\n",
       "      <td>0.005701</td>\n",
       "    </tr>\n",
       "  </tbody>\n",
       "</table>\n",
       "<p>22 rows × 231 columns</p>\n",
       "</div>"
      ],
      "text/plain": [
       "                                               JavaScript   HTML/CSS  \\\n",
       "Database administrator                          23.222749  27.014218   \n",
       "Blockchain                                      56.542056  29.906542   \n",
       "Hardware Engineer                               23.364486  25.233645   \n",
       "Scientist                                       21.755725  20.229008   \n",
       "Engineer, site reliability                      36.296296  29.629630   \n",
       "Security professional                           48.813559  35.932203   \n",
       "Developer, QA or test                           48.931624  32.692308   \n",
       "System administrator                            47.478992  46.218487   \n",
       "Developer, game or graphics                     37.820513  27.884615   \n",
       "Data or business analyst                        37.898089  38.057325   \n",
       "Cloud infrastructure engineer                   40.112202  23.842917   \n",
       "DevOps specialist                               40.174672  28.056769   \n",
       "Engineer, data                                  26.349206  21.375661   \n",
       "Research & Development role                     31.397638  24.704724   \n",
       "Academic researcher                             28.516378  27.649326   \n",
       "Data scientist or machine learning specialist   21.130221  18.837019   \n",
       "Developer, embedded applications or devices     24.326059  16.431322   \n",
       "Developer, mobile                               32.027972  20.419580   \n",
       "Developer, desktop or enterprise applications   35.432331  29.511278   \n",
       "Developer, front-end                            91.576885  78.011753   \n",
       "Developer, back-end                             42.828485  27.409501   \n",
       "Developer, full-stack                           81.477681  66.894704   \n",
       "\n",
       "                                                     SQL     Docker  \\\n",
       "Database administrator                         85.781991  22.748815   \n",
       "Blockchain                                     24.299065  49.065421   \n",
       "Hardware Engineer                              18.691589  27.102804   \n",
       "Scientist                                      25.190840  26.335878   \n",
       "Engineer, site reliability                     32.222222  66.666667   \n",
       "Security professional                          34.237288  52.203390   \n",
       "Developer, QA or test                          33.547009  42.521368   \n",
       "System administrator                           50.840336  34.873950   \n",
       "Developer, game or graphics                    12.660256  17.948718   \n",
       "Data or business analyst                       76.273885  16.719745   \n",
       "Cloud infrastructure engineer                  34.081346  69.705470   \n",
       "DevOps specialist                              38.427948  71.834061   \n",
       "Engineer, data                                 70.158730  56.084656   \n",
       "Research & Development role                    27.460630  43.110236   \n",
       "Academic researcher                            19.267823  32.177264   \n",
       "Data scientist or machine learning specialist  51.023751  44.799345   \n",
       "Developer, embedded applications or devices    14.698331  39.024390   \n",
       "Developer, mobile                              19.393939  17.482517   \n",
       "Developer, desktop or enterprise applications  46.146617  21.867168   \n",
       "Developer, front-end                           18.952008  32.982370   \n",
       "Developer, back-end                            48.627701  58.976931   \n",
       "Developer, full-stack                          56.114247  46.063508   \n",
       "\n",
       "                                                  Python        npm  \\\n",
       "Database administrator                         40.758294   5.687204   \n",
       "Blockchain                                     33.177570  48.598131   \n",
       "Hardware Engineer                              75.233645  12.149533   \n",
       "Scientist                                      81.679389   6.106870   \n",
       "Engineer, site reliability                     68.888889  23.333333   \n",
       "Security professional                          74.915254  26.101695   \n",
       "Developer, QA or test                          57.478632  34.401709   \n",
       "System administrator                           54.411765  18.907563   \n",
       "Developer, game or graphics                    39.903846  20.512821   \n",
       "Data or business analyst                       68.312102  12.261146   \n",
       "Cloud infrastructure engineer                  65.357644  29.172511   \n",
       "DevOps specialist                              67.139738  31.441048   \n",
       "Engineer, data                                 84.867725  14.920635   \n",
       "Research & Development role                    68.405512  17.618110   \n",
       "Academic researcher                            79.865125  13.487476   \n",
       "Data scientist or machine learning specialist  93.038493  10.319410   \n",
       "Developer, embedded applications or devices    67.522465  10.077022   \n",
       "Developer, mobile                              21.538462  21.678322   \n",
       "Developer, desktop or enterprise applications  32.581454  15.037594   \n",
       "Developer, front-end                           15.401567  69.466210   \n",
       "Developer, back-end                            39.190298  29.214917   \n",
       "Developer, full-stack                          29.827262  56.336583   \n",
       "\n",
       "                                               Amazon Web Services (AWS)  \\\n",
       "Database administrator                                         27.962085   \n",
       "Blockchain                                                     48.598131   \n",
       "Hardware Engineer                                              12.616822   \n",
       "Scientist                                                      19.083969   \n",
       "Engineer, site reliability                                     60.000000   \n",
       "Security professional                                          45.084746   \n",
       "Developer, QA or test                                          33.547009   \n",
       "System administrator                                           19.537815   \n",
       "Developer, game or graphics                                    21.634615   \n",
       "Data or business analyst                                       21.019108   \n",
       "Cloud infrastructure engineer                                  68.022440   \n",
       "DevOps specialist                                              53.602620   \n",
       "Engineer, data                                                 53.756614   \n",
       "Research & Development role                                    27.952756   \n",
       "Academic researcher                                            14.932563   \n",
       "Data scientist or machine learning specialist                  46.109746   \n",
       "Developer, embedded applications or devices                    16.238768   \n",
       "Developer, mobile                                              24.428904   \n",
       "Developer, desktop or enterprise applications                  17.105263   \n",
       "Developer, front-end                                           30.950049   \n",
       "Developer, back-end                                            48.645938   \n",
       "Developer, full-stack                                          38.823328   \n",
       "\n",
       "                                               PostgreSQL  TypeScript  \\\n",
       "Database administrator                          28.436019    4.739336   \n",
       "Blockchain                                      47.196262   47.663551   \n",
       "Hardware Engineer                               11.214953    4.205607   \n",
       "Scientist                                       16.412214    3.816794   \n",
       "Engineer, site reliability                      47.777778   19.259259   \n",
       "Security professional                           32.881356   15.932203   \n",
       "Developer, QA or test                           27.777778   21.794872   \n",
       "System administrator                            33.613445   10.084034   \n",
       "Developer, game or graphics                     11.378205   20.192308   \n",
       "Data or business analyst                        29.458599    9.554140   \n",
       "Cloud infrastructure engineer                   46.704067   24.684432   \n",
       "DevOps specialist                               45.414847   21.615721   \n",
       "Engineer, data                                  50.582011    9.629630   \n",
       "Research & Development role                     25.393701   14.173228   \n",
       "Academic researcher                             17.726397    9.055877   \n",
       "Data scientist or machine learning specialist   35.790336    7.207207   \n",
       "Developer, embedded applications or devices     14.505777    8.023107   \n",
       "Developer, mobile                               15.011655   15.944056   \n",
       "Developer, desktop or enterprise applications   18.577694   13.909774   \n",
       "Developer, front-end                            23.359452   70.127326   \n",
       "Developer, back-end                             49.630710   23.579830   \n",
       "Developer, full-stack                           40.693233   52.294624   \n",
       "\n",
       "                                                   MySQL  ...      Raku  \\\n",
       "Database administrator                         32.701422  ...  0.000000   \n",
       "Blockchain                                     19.626168  ...  0.000000   \n",
       "Hardware Engineer                              18.224299  ...  0.000000   \n",
       "Scientist                                      21.755725  ...  0.381679   \n",
       "Engineer, site reliability                     27.037037  ...  0.370370   \n",
       "Security professional                          22.033898  ...  0.000000   \n",
       "Developer, QA or test                          25.854701  ...  0.000000   \n",
       "System administrator                           36.974790  ...  1.260504   \n",
       "Developer, game or graphics                    16.506410  ...  0.000000   \n",
       "Data or business analyst                       31.687898  ...  0.000000   \n",
       "Cloud infrastructure engineer                  25.385694  ...  0.000000   \n",
       "DevOps specialist                              28.275109  ...  0.109170   \n",
       "Engineer, data                                 24.973545  ...  0.317460   \n",
       "Research & Development role                    16.929134  ...  0.393701   \n",
       "Academic researcher                            16.088632  ...  0.096339   \n",
       "Data scientist or machine learning specialist  24.324324  ...  0.000000   \n",
       "Developer, embedded applications or devices    11.360719  ...  0.064185   \n",
       "Developer, mobile                              20.233100  ...  0.000000   \n",
       "Developer, desktop or enterprise applications  22.681704  ...  0.031328   \n",
       "Developer, front-end                           25.269344  ...  0.073457   \n",
       "Developer, back-end                            31.002097  ...  0.127656   \n",
       "Developer, full-stack                          35.237444  ...  0.068411   \n",
       "\n",
       "                                                   TiDB    build2       APL  \\\n",
       "Database administrator                         0.947867  0.000000  0.473934   \n",
       "Blockchain                                     0.000000  0.467290  0.467290   \n",
       "Hardware Engineer                              0.000000  0.000000  0.000000   \n",
       "Scientist                                      0.381679  0.000000  0.000000   \n",
       "Engineer, site reliability                     0.000000  0.000000  0.000000   \n",
       "Security professional                          0.338983  0.000000  0.000000   \n",
       "Developer, QA or test                          0.213675  0.000000  0.213675   \n",
       "System administrator                           0.000000  0.000000  0.210084   \n",
       "Developer, game or graphics                    0.000000  0.320513  0.160256   \n",
       "Data or business analyst                       0.000000  0.159236  0.159236   \n",
       "Cloud infrastructure engineer                  0.280505  0.000000  0.140252   \n",
       "DevOps specialist                              0.218341  0.109170  0.109170   \n",
       "Engineer, data                                 0.211640  0.000000  0.000000   \n",
       "Research & Development role                    0.000000  0.393701  0.196850   \n",
       "Academic researcher                            0.000000  0.289017  0.192678   \n",
       "Data scientist or machine learning specialist  0.000000  0.000000  0.000000   \n",
       "Developer, embedded applications or devices    0.000000  0.449294  0.000000   \n",
       "Developer, mobile                              0.093240  0.000000  0.046620   \n",
       "Developer, desktop or enterprise applications  0.031328  0.156642  0.093985   \n",
       "Developer, front-end                           0.024486  0.048972  0.048972   \n",
       "Developer, back-end                            0.145892  0.036473  0.036473   \n",
       "Developer, full-stack                          0.051308  0.017103  0.039907   \n",
       "\n",
       "                                                   lest     tunit    snitch  \\\n",
       "Database administrator                         0.000000  0.000000  0.000000   \n",
       "Blockchain                                     0.467290  0.000000  0.000000   \n",
       "Hardware Engineer                              0.000000  0.467290  0.000000   \n",
       "Scientist                                      0.000000  0.000000  0.000000   \n",
       "Engineer, site reliability                     0.370370  0.000000  0.000000   \n",
       "Security professional                          0.000000  0.000000  0.000000   \n",
       "Developer, QA or test                          0.000000  0.000000  0.000000   \n",
       "System administrator                           0.000000  0.000000  0.000000   \n",
       "Developer, game or graphics                    0.000000  0.000000  0.160256   \n",
       "Data or business analyst                       0.159236  0.000000  0.000000   \n",
       "Cloud infrastructure engineer                  0.000000  0.140252  0.280505   \n",
       "DevOps specialist                              0.109170  0.000000  0.000000   \n",
       "Engineer, data                                 0.105820  0.000000  0.105820   \n",
       "Research & Development role                    0.000000  0.000000  0.000000   \n",
       "Academic researcher                            0.000000  0.096339  0.096339   \n",
       "Data scientist or machine learning specialist  0.000000  0.000000  0.000000   \n",
       "Developer, embedded applications or devices    0.064185  0.000000  0.064185   \n",
       "Developer, mobile                              0.000000  0.046620  0.000000   \n",
       "Developer, desktop or enterprise applications  0.000000  0.093985  0.062657   \n",
       "Developer, front-end                           0.073457  0.000000  0.000000   \n",
       "Developer, back-end                            0.027355  0.009118  0.009118   \n",
       "Developer, full-stack                          0.000000  0.017103  0.005701   \n",
       "\n",
       "                                                   CUTE  liblittletest  \\\n",
       "Database administrator                         0.000000       0.000000   \n",
       "Blockchain                                     0.000000       0.000000   \n",
       "Hardware Engineer                              0.000000       0.467290   \n",
       "Scientist                                      0.000000       0.000000   \n",
       "Engineer, site reliability                     0.000000       0.000000   \n",
       "Security professional                          0.000000       0.000000   \n",
       "Developer, QA or test                          0.000000       0.000000   \n",
       "System administrator                           0.000000       0.000000   \n",
       "Developer, game or graphics                    0.000000       0.000000   \n",
       "Data or business analyst                       0.000000       0.000000   \n",
       "Cloud infrastructure engineer                  0.000000       0.000000   \n",
       "DevOps specialist                              0.000000       0.000000   \n",
       "Engineer, data                                 0.105820       0.000000   \n",
       "Research & Development role                    0.000000       0.000000   \n",
       "Academic researcher                            0.096339       0.096339   \n",
       "Data scientist or machine learning specialist  0.000000       0.000000   \n",
       "Developer, embedded applications or devices    0.000000       0.000000   \n",
       "Developer, mobile                              0.093240       0.000000   \n",
       "Developer, desktop or enterprise applications  0.031328       0.000000   \n",
       "Developer, front-end                           0.024486       0.000000   \n",
       "Developer, back-end                            0.009118       0.000000   \n",
       "Developer, full-stack                          0.011402       0.000000   \n",
       "\n",
       "                                                 ELFspy  \n",
       "Database administrator                         0.000000  \n",
       "Blockchain                                     0.000000  \n",
       "Hardware Engineer                              0.000000  \n",
       "Scientist                                      0.000000  \n",
       "Engineer, site reliability                     0.000000  \n",
       "Security professional                          0.000000  \n",
       "Developer, QA or test                          0.000000  \n",
       "System administrator                           0.000000  \n",
       "Developer, game or graphics                    0.000000  \n",
       "Data or business analyst                       0.000000  \n",
       "Cloud infrastructure engineer                  0.000000  \n",
       "DevOps specialist                              0.000000  \n",
       "Engineer, data                                 0.000000  \n",
       "Research & Development role                    0.000000  \n",
       "Academic researcher                            0.000000  \n",
       "Data scientist or machine learning specialist  0.000000  \n",
       "Developer, embedded applications or devices    0.000000  \n",
       "Developer, mobile                              0.000000  \n",
       "Developer, desktop or enterprise applications  0.031328  \n",
       "Developer, front-end                           0.000000  \n",
       "Developer, back-end                            0.000000  \n",
       "Developer, full-stack                          0.005701  \n",
       "\n",
       "[22 rows x 231 columns]"
      ]
     },
     "execution_count": 15,
     "metadata": {},
     "output_type": "execute_result"
    }
   ],
   "source": [
    "skills = []\n",
    "for role in sorted_roles:\n",
    "    skills_role= encoded_df[encoded_df[('DevType', role)]==1].drop(['DevType', 'Country'], axis=1).mean().droplevel(level=0).sort_values(ascending=False) *100\n",
    "    skills.append(skills_role)\n",
    "\n",
    "skills = pd.concat(skills, axis=1)\n",
    "skills.columns = sorted_roles\n",
    "skills = skills.loc[sorted_skills]\n",
    "skills = skills.T\n",
    "skills"
   ]
  },
  {
   "cell_type": "code",
   "execution_count": 16,
   "metadata": {},
   "outputs": [
    {
     "data": {
      "application/vnd.plotly.v1+json": {
       "config": {
        "plotlyServerURL": "https://plot.ly"
       },
       "data": [
        {
         "colorscale": [
          [
           0,
           "#000004"
          ],
          [
           0.1111111111111111,
           "#180f3d"
          ],
          [
           0.2222222222222222,
           "#440f76"
          ],
          [
           0.3333333333333333,
           "#721f81"
          ],
          [
           0.4444444444444444,
           "#9e2f7f"
          ],
          [
           0.5555555555555556,
           "#cd4071"
          ],
          [
           0.6666666666666666,
           "#f1605d"
          ],
          [
           0.7777777777777778,
           "#fd9668"
          ],
          [
           0.8888888888888888,
           "#feca8d"
          ],
          [
           1,
           "#fcfdbf"
          ]
         ],
         "type": "heatmap",
         "x": [
          "JavaScript",
          "HTML/CSS",
          "SQL",
          "Docker",
          "Python",
          "npm",
          "Amazon Web Services (AWS)",
          "PostgreSQL",
          "TypeScript",
          "MySQL",
          "React",
          "Bash/Shell (all shells)",
          "Node.js",
          "C#",
          "Java",
          "Microsoft SQL Server",
          "SQLite",
          "Microsoft Azure",
          "Pip",
          ".NET (5+) ",
          "Homebrew",
          "MongoDB",
          "Yarn",
          "Webpack",
          "C++",
          "Kubernetes",
          "PHP",
          "jQuery",
          "Google Cloud",
          "Redis",
          "Make",
          "ASP.NET CORE",
          "NuGet",
          "Angular",
          "Visual Studio Solution",
          ".NET Framework (1.0 - 4.8)",
          "C",
          "Maven (build tool)",
          "MariaDB",
          "Pandas",
          "Gradle",
          "NumPy",
          "PowerShell",
          "Vue.js",
          "Go",
          "Express",
          "Vite",
          "Next.js",
          "ASP.NET",
          "MSBuild",
          "Elasticsearch",
          "Terraform",
          "CMake",
          "Spring Boot",
          "Rust",
          "Firebase",
          "Oracle",
          "Spring Framework",
          "Digital Ocean",
          "WordPress",
          "Cargo",
          "Cloudflare",
          "GNU GCC",
          "Kotlin",
          "Dynamodb",
          "Django",
          "Ansible",
          "RabbitMQ",
          "Heroku",
          "Flask",
          "Composer",
          "Apache Kafka",
          "Ruby",
          "Scikit-Learn",
          "Vercel",
          "Laravel",
          "LLVM's Clang",
          "Flutter",
          "Netlify",
          "FastAPI",
          "Chocolatey",
          "React Native",
          "AngularJS",
          "Dart",
          "Torch/PyTorch",
          "Ruby on Rails",
          "APT",
          "TensorFlow",
          "Swift",
          "pnpm",
          "VMware",
          "Blazor",
          "Opencv",
          "Cloud Firestore",
          "Qt",
          "Unity 3D",
          "Lua",
          "Firebase Realtime Database",
          "Delphi",
          "BigQuery",
          "MSVC",
          "Pacman",
          "NestJS",
          "R",
          "Svelte",
          "Visual Basic (.Net)",
          "Groovy",
          "VBA",
          "Assembly",
          "Scala",
          "H2",
          "OpenGL",
          "Cosmos DB",
          "Podman",
          "Hetzner",
          "Apache Spark",
          "Ninja",
          "Electron",
          "Google Test",
          "MATLAB",
          "SwiftUI",
          "Microsoft Access",
          "CUDA",
          "Symfony",
          "Elixir",
          "Keras",
          "Linode, now Akamai",
          "Ant",
          "Perl",
          "Nuxt.js",
          "Snowflake",
          "Managed Hosting",
          "Objective-C",
          "Xamarin",
          "OVH",
          "OpenShift",
          "InfluxDB",
          "Phoenix",
          "Godot",
          "Cassandra",
          "Unreal Engine",
          ".NET MAUI",
          "IBM DB2",
          "Oracle Cloud Infrastructure (OCI)",
          "Ionic",
          "Fly.io",
          "Firebird",
          "Nix",
          "Clojure",
          "Hugging Face Transformers",
          "Supabase",
          "Tidyverse",
          "Gatsby",
          "Hadoop",
          "Dagger",
          "Cordova",
          "Vultr",
          "Solr",
          "Haskell",
          "Neo4J",
          "CodeIgniter",
          "Fastify",
          "GTK",
          "Drupal",
          "Render",
          "Lisp",
          "GDScript",
          "Capacitor",
          "OpenStack",
          "Julia",
          "QMake",
          "Clickhouse",
          "Deno",
          "Catch2",
          "Erlang",
          "Solidity",
          "Ktor",
          "Tauri",
          "Quarkus",
          "F#",
          "Fortran",
          "Meson",
          "Puppet",
          "Remix",
          "Apex",
          "MFC",
          "JAX",
          "Ada",
          "Pulumi",
          "Couch DB",
          "Chef",
          "Play Framework",
          "Cockroachdb",
          "IBM Cloud Or Watson",
          "Solid.js",
          "Scaleway",
          "Couchbase",
          "Elm",
          "Cobol",
          "OCaml",
          "Zig",
          "DuckDB",
          "Lit",
          "SAS",
          "Colocation",
          "bandit",
          "Micronaut",
          "doctest",
          "Prolog",
          "cppunit",
          "Boost.Test",
          "SCons",
          "Crystal",
          "Uno Platform",
          "Datomic",
          "Bun",
          "Wasmer",
          "Qwik",
          "Flow",
          "Nim",
          "RavenDB",
          "Raku",
          "TiDB",
          "build2",
          "APL",
          "lest",
          "tunit",
          "snitch",
          "CUTE",
          "liblittletest",
          "ELFspy"
         ],
         "y": [
          "Database administrator",
          "Blockchain",
          "Hardware Engineer",
          "Scientist",
          "Engineer, site reliability",
          "Security professional",
          "Developer, QA or test",
          "System administrator",
          "Developer, game or graphics",
          "Data or business analyst",
          "Cloud infrastructure engineer",
          "DevOps specialist",
          "Engineer, data",
          "Research & Development role",
          "Academic researcher",
          "Data scientist or machine learning specialist",
          "Developer, embedded applications or devices",
          "Developer, mobile",
          "Developer, desktop or enterprise applications",
          "Developer, front-end",
          "Developer, back-end",
          "Developer, full-stack"
         ],
         "ygap": 1,
         "z": [
          [
           23.22274881516588,
           27.014218009478675,
           85.78199052132702,
           22.748815165876778,
           40.758293838862556,
           5.687203791469194,
           27.96208530805687,
           28.436018957345972,
           4.739336492890995,
           32.70142180094787,
           5.687203791469194,
           36.96682464454976,
           12.322274881516588,
           21.32701421800948,
           18.009478672985782,
           53.08056872037915,
           14.218009478672986,
           28.436018957345972,
           11.848341232227488,
           10.90047393364929,
           4.739336492890995,
           9.004739336492891,
           1.8957345971563981,
           0.47393364928909953,
           9.95260663507109,
           10.42654028436019,
           14.218009478672986,
           8.530805687203792,
           15.165876777251185,
           3.7914691943127963,
           7.5829383886255926,
           6.161137440758294,
           5.213270142180095,
           2.3696682464454977,
           17.061611374407583,
           14.218009478672986,
           12.796208530805686,
           4.739336492890995,
           8.530805687203792,
           13.270142180094787,
           1.8957345971563981,
           9.47867298578199,
           28.90995260663507,
           1.8957345971563981,
           3.7914691943127963,
           4.739336492890995,
           1.4218009478672986,
           0,
           7.109004739336493,
           2.3696682464454977,
           4.739336492890995,
           13.270142180094787,
           1.4218009478672986,
           3.7914691943127963,
           4.265402843601896,
           2.3696682464454977,
           44.07582938388626,
           2.3696682464454977,
           2.843601895734597,
           17.535545023696685,
           1.8957345971563981,
           2.3696682464454977,
           3.7914691943127963,
           0.47393364928909953,
           2.843601895734597,
           3.7914691943127963,
           20.85308056872038,
           1.8957345971563981,
           1.8957345971563981,
           4.265402843601896,
           1.4218009478672986,
           5.213270142180095,
           0.47393364928909953,
           2.3696682464454977,
           1.4218009478672986,
           0.9478672985781991,
           0.47393364928909953,
           0.47393364928909953,
           0.47393364928909953,
           1.8957345971563981,
           4.739336492890995,
           0.9478672985781991,
           0.47393364928909953,
           0.9478672985781991,
           1.8957345971563981,
           1.4218009478672986,
           4.739336492890995,
           3.3175355450236967,
           0.9478672985781991,
           0,
           14.691943127962084,
           0,
           1.8957345971563981,
           0.47393364928909953,
           0.9478672985781991,
           0.47393364928909953,
           1.4218009478672986,
           0.9478672985781991,
           7.109004739336493,
           4.265402843601896,
           0.9478672985781991,
           1.8957345971563981,
           0,
           5.213270142180095,
           0,
           6.161137440758294,
           1.4218009478672986,
           10.90047393364929,
           3.3175355450236967,
           0.47393364928909953,
           0.47393364928909953,
           2.843601895734597,
           0.9478672985781991,
           2.843601895734597,
           0,
           3.7914691943127963,
           0,
           0.47393364928909953,
           0.9478672985781991,
           1.8957345971563981,
           0.47393364928909953,
           9.47867298578199,
           0.47393364928909953,
           0,
           0,
           0.47393364928909953,
           0.47393364928909953,
           2.843601895734597,
           12.796208530805686,
           0,
           4.739336492890995,
           2.843601895734597,
           0,
           0.47393364928909953,
           0,
           0.9478672985781991,
           2.3696682464454977,
           0,
           0,
           2.843601895734597,
           0.47393364928909953,
           0,
           3.7914691943127963,
           30.33175355450237,
           0.47393364928909953,
           0,
           1.4218009478672986,
           0,
           0,
           0,
           0,
           2.3696682464454977,
           0,
           4.739336492890995,
           0,
           0,
           0.9478672985781991,
           0.47393364928909953,
           0.47393364928909953,
           1.4218009478672986,
           1.4218009478672986,
           0,
           0.47393364928909953,
           0.9478672985781991,
           0.47393364928909953,
           0.9478672985781991,
           0.47393364928909953,
           0.47393364928909953,
           1.8957345971563981,
           0.9478672985781991,
           0,
           0.47393364928909953,
           0.47393364928909953,
           0,
           0,
           0,
           0,
           0,
           0.47393364928909953,
           1.4218009478672986,
           0.9478672985781991,
           0,
           2.843601895734597,
           0,
           10.42654028436019,
           0.47393364928909953,
           0,
           0,
           0.47393364928909953,
           0.47393364928909953,
           0.47393364928909953,
           0,
           0,
           0,
           0,
           0,
           0.47393364928909953,
           0,
           1.8957345971563981,
           0,
           0.47393364928909953,
           0.9478672985781991,
           0,
           0.9478672985781991,
           0,
           0,
           0,
           0,
           0,
           0,
           0.47393364928909953,
           0,
           0.47393364928909953,
           0.47393364928909953,
           0,
           0,
           0,
           0,
           0,
           0,
           0,
           0,
           0.9478672985781991,
           0,
           0.47393364928909953,
           0,
           0,
           0,
           0,
           0,
           0
          ],
          [
           56.54205607476636,
           29.906542056074763,
           24.299065420560748,
           49.06542056074766,
           33.177570093457945,
           48.598130841121495,
           48.598130841121495,
           47.19626168224299,
           47.66355140186916,
           19.626168224299064,
           35.51401869158878,
           26.635514018691588,
           38.31775700934579,
           7.943925233644859,
           11.214953271028037,
           3.2710280373831773,
           23.364485981308412,
           7.943925233644859,
           17.75700934579439,
           7.009345794392523,
           18.22429906542056,
           17.75700934579439,
           33.177570093457945,
           14.485981308411214,
           15.42056074766355,
           15.42056074766355,
           5.14018691588785,
           3.7383177570093453,
           22.897196261682243,
           13.084112149532709,
           23.364485981308412,
           1.8691588785046727,
           2.803738317757009,
           7.476635514018691,
           2.336448598130841,
           2.803738317757009,
           12.616822429906541,
           2.336448598130841,
           4.672897196261682,
           6.5420560747663545,
           7.009345794392523,
           7.009345794392523,
           1.8691588785046727,
           7.009345794392523,
           22.429906542056074,
           16.822429906542055,
           9.345794392523365,
           20.5607476635514,
           1.8691588785046727,
           2.336448598130841,
           3.2710280373831773,
           5.14018691588785,
           11.682242990654206,
           1.8691588785046727,
           45.32710280373832,
           7.476635514018691,
           0.9345794392523363,
           1.8691588785046727,
           14.018691588785046,
           5.14018691588785,
           38.31775700934579,
           15.887850467289718,
           7.943925233644859,
           3.2710280373831773,
           5.14018691588785,
           6.074766355140187,
           6.074766355140187,
           4.205607476635514,
           6.5420560747663545,
           3.7383177570093453,
           1.8691588785046727,
           3.7383177570093453,
           4.205607476635514,
           2.803738317757009,
           11.682242990654206,
           2.336448598130841,
           6.074766355140187,
           3.7383177570093453,
           6.074766355140187,
           2.336448598130841,
           5.14018691588785,
           5.14018691588785,
           3.2710280373831773,
           1.4018691588785046,
           1.8691588785046727,
           2.336448598130841,
           6.074766355140187,
           3.7383177570093453,
           1.4018691588785046,
           7.009345794392523,
           2.803738317757009,
           0,
           4.672897196261682,
           3.7383177570093453,
           2.336448598130841,
           0.46728971962616817,
           3.2710280373831773,
           1.8691588785046727,
           0.46728971962616817,
           2.803738317757009,
           0.9345794392523363,
           5.14018691588785,
           3.2710280373831773,
           2.336448598130841,
           7.009345794392523,
           1.4018691588785046,
           0.46728971962616817,
           0.46728971962616817,
           4.672897196261682,
           1.8691588785046727,
           1.4018691588785046,
           2.803738317757009,
           0.9345794392523363,
           2.803738317757009,
           7.476635514018691,
           0.9345794392523363,
           1.8691588785046727,
           3.2710280373831773,
           0.46728971962616817,
           1.8691588785046727,
           1.4018691588785046,
           0.9345794392523363,
           3.2710280373831773,
           0,
           1.8691588785046727,
           0,
           1.4018691588785046,
           0.9345794392523363,
           0.46728971962616817,
           1.4018691588785046,
           0,
           0.9345794392523363,
           0.9345794392523363,
           0,
           2.803738317757009,
           1.4018691588785046,
           3.7383177570093453,
           0.46728971962616817,
           0.46728971962616817,
           0.9345794392523363,
           0.9345794392523363,
           0.46728971962616817,
           0.9345794392523363,
           0.46728971962616817,
           0,
           2.336448598130841,
           0,
           6.074766355140187,
           0.9345794392523363,
           1.4018691588785046,
           2.336448598130841,
           0,
           2.336448598130841,
           0,
           0,
           0,
           2.336448598130841,
           0,
           5.607476635514018,
           0.9345794392523363,
           0,
           1.8691588785046727,
           0.9345794392523363,
           0.9345794392523363,
           1.4018691588785046,
           0.46728971962616817,
           0,
           0.9345794392523363,
           0,
           0.9345794392523363,
           0.9345794392523363,
           0.46728971962616817,
           1.8691588785046727,
           0.46728971962616817,
           1.8691588785046727,
           39.25233644859813,
           0.46728971962616817,
           1.8691588785046727,
           0.9345794392523363,
           0.9345794392523363,
           0,
           0.9345794392523363,
           0,
           7.009345794392523,
           0.46728971962616817,
           0,
           0,
           2.336448598130841,
           0.9345794392523363,
           0.9345794392523363,
           0,
           0,
           2.336448598130841,
           0.9345794392523363,
           0.46728971962616817,
           0.46728971962616817,
           0,
           0.46728971962616817,
           0.9345794392523363,
           4.672897196261682,
           0.9345794392523363,
           0,
           0,
           0.46728971962616817,
           1.4018691588785046,
           0,
           0,
           0,
           0.46728971962616817,
           0,
           0.46728971962616817,
           0,
           0.46728971962616817,
           0,
           0.46728971962616817,
           0,
           2.803738317757009,
           0.46728971962616817,
           0,
           0.9345794392523363,
           0,
           0,
           0,
           0.46728971962616817,
           0.46728971962616817,
           0.46728971962616817,
           0,
           0,
           0,
           0,
           0
          ],
          [
           23.364485981308412,
           25.233644859813083,
           18.69158878504673,
           27.102803738317753,
           75.23364485981308,
           12.149532710280374,
           12.616822429906541,
           11.214953271028037,
           4.205607476635514,
           18.22429906542056,
           7.476635514018691,
           35.981308411214954,
           7.943925233644859,
           19.626168224299064,
           12.149532710280374,
           8.411214953271028,
           18.69158878504673,
           9.345794392523365,
           34.112149532710276,
           13.084112149532709,
           9.813084112149532,
           6.5420560747663545,
           1.4018691588785046,
           3.2710280373831773,
           47.66355140186916,
           2.336448598130841,
           3.2710280373831773,
           5.607476635514018,
           7.943925233644859,
           2.336448598130841,
           36.915887850467286,
           3.2710280373831773,
           6.074766355140187,
           2.803738317757009,
           17.75700934579439,
           9.345794392523365,
           62.616822429906534,
           3.2710280373831773,
           6.5420560747663545,
           19.158878504672895,
           4.205607476635514,
           31.308411214953267,
           9.345794392523365,
           1.8691588785046727,
           4.205607476635514,
           1.8691588785046727,
           1.8691588785046727,
           3.2710280373831773,
           2.336448598130841,
           5.607476635514018,
           0.9345794392523363,
           0.46728971962616817,
           35.51401869158878,
           0.46728971962616817,
           13.084112149532709,
           2.336448598130841,
           0.9345794392523363,
           1.4018691588785046,
           2.803738317757009,
           4.672897196261682,
           10.74766355140187,
           2.803738317757009,
           40.18691588785047,
           2.336448598130841,
           0.9345794392523363,
           4.205607476635514,
           4.205607476635514,
           0.9345794392523363,
           1.8691588785046727,
           5.607476635514018,
           0.9345794392523363,
           0.46728971962616817,
           1.8691588785046727,
           4.672897196261682,
           1.4018691588785046,
           0.9345794392523363,
           16.355140186915886,
           1.8691588785046727,
           0.9345794392523363,
           1.4018691588785046,
           7.476635514018691,
           0.9345794392523363,
           0.9345794392523363,
           1.8691588785046727,
           6.074766355140187,
           1.4018691588785046,
           7.476635514018691,
           7.476635514018691,
           1.8691588785046727,
           0.9345794392523363,
           3.7383177570093453,
           0.9345794392523363,
           10.2803738317757,
           1.4018691588785046,
           18.22429906542056,
           2.336448598130841,
           7.009345794392523,
           1.4018691588785046,
           5.607476635514018,
           0.9345794392523363,
           7.943925233644859,
           5.14018691588785,
           0,
           5.607476635514018,
           0.9345794392523363,
           4.205607476635514,
           0.9345794392523363,
           6.074766355140187,
           22.429906542056074,
           0.9345794392523363,
           0,
           6.5420560747663545,
           0.46728971962616817,
           2.336448598130841,
           0.9345794392523363,
           0.46728971962616817,
           10.2803738317757,
           3.2710280373831773,
           5.14018691588785,
           18.69158878504673,
           0.46728971962616817,
           5.607476635514018,
           5.14018691588785,
           0,
           0,
           2.803738317757009,
           0.46728971962616817,
           1.4018691588785046,
           7.943925233644859,
           0,
           0,
           0.46728971962616817,
           1.4018691588785046,
           1.8691588785046727,
           0.9345794392523363,
           0.46728971962616817,
           2.336448598130841,
           0,
           1.4018691588785046,
           0,
           0.9345794392523363,
           0.46728971962616817,
           0,
           0.46728971962616817,
           0.9345794392523363,
           0,
           1.8691588785046727,
           1.4018691588785046,
           0.46728971962616817,
           0.46728971962616817,
           0,
           1.4018691588785046,
           0,
           0,
           0.9345794392523363,
           0,
           0,
           0.9345794392523363,
           0.46728971962616817,
           0,
           0,
           0,
           3.2710280373831773,
           0.46728971962616817,
           0.46728971962616817,
           4.672897196261682,
           0.46728971962616817,
           0,
           1.4018691588785046,
           0.9345794392523363,
           3.7383177570093453,
           0.46728971962616817,
           0,
           2.336448598130841,
           0,
           0,
           0,
           0.9345794392523363,
           0,
           0,
           0,
           0.9345794392523363,
           0.9345794392523363,
           0,
           0,
           1.4018691588785046,
           0,
           2.336448598130841,
           0,
           0,
           0,
           0,
           0,
           0.46728971962616817,
           0,
           0.46728971962616817,
           0.9345794392523363,
           0,
           0.46728971962616817,
           0.46728971962616817,
           2.803738317757009,
           0,
           0,
           0,
           0.9345794392523363,
           0.9345794392523363,
           0,
           0.46728971962616817,
           0.9345794392523363,
           1.4018691588785046,
           0.9345794392523363,
           2.336448598130841,
           0,
           1.4018691588785046,
           0.46728971962616817,
           0,
           0.46728971962616817,
           0,
           0,
           0,
           0,
           0,
           0,
           0,
           0,
           0,
           0.46728971962616817,
           0,
           0,
           0.46728971962616817,
           0
          ],
          [
           21.755725190839694,
           20.229007633587788,
           25.190839694656486,
           26.33587786259542,
           81.67938931297711,
           6.106870229007633,
           19.083969465648856,
           16.412213740458014,
           3.816793893129771,
           21.755725190839694,
           3.435114503816794,
           41.603053435114504,
           4.961832061068702,
           10.305343511450381,
           9.923664122137405,
           8.015267175572518,
           22.900763358778626,
           6.488549618320611,
           35.49618320610687,
           6.488549618320611,
           12.595419847328243,
           3.816793893129771,
           1.5267175572519083,
           1.1450381679389312,
           33.969465648854964,
           2.6717557251908395,
           4.961832061068702,
           3.435114503816794,
           9.541984732824428,
           3.435114503816794,
           27.099236641221374,
           1.1450381679389312,
           1.9083969465648856,
           1.5267175572519083,
           7.633587786259542,
           3.0534351145038165,
           26.717557251908396,
           0.7633587786259541,
           4.961832061068702,
           47.70992366412214,
           2.2900763358778624,
           57.63358778625955,
           7.633587786259542,
           2.2900763358778624,
           4.198473282442748,
           2.2900763358778624,
           1.9083969465648856,
           0,
           1.1450381679389312,
           3.0534351145038165,
           0.38167938931297707,
           0.38167938931297707,
           24.045801526717558,
           0,
           9.923664122137405,
           0.7633587786259541,
           2.6717557251908395,
           0,
           2.2900763358778624,
           3.816793893129771,
           9.923664122137405,
           2.2900763358778624,
           23.66412213740458,
           0.7633587786259541,
           0.7633587786259541,
           3.816793893129771,
           2.2900763358778624,
           0.7633587786259541,
           1.5267175572519083,
           6.488549618320611,
           1.9083969465648856,
           0,
           1.9083969465648856,
           28.62595419847328,
           0.38167938931297707,
           0.7633587786259541,
           14.885496183206106,
           1.5267175572519083,
           1.9083969465648856,
           3.0534351145038165,
           1.9083969465648856,
           0,
           0.38167938931297707,
           1.9083969465648856,
           15.648854961832063,
           1.1450381679389312,
           3.816793893129771,
           15.648854961832063,
           1.1450381679389312,
           0.7633587786259541,
           3.816793893129771,
           0.38167938931297707,
           10.687022900763358,
           1.1450381679389312,
           14.122137404580155,
           1.9083969465648856,
           6.870229007633588,
           0,
           5.343511450381679,
           1.5267175572519083,
           6.106870229007633,
           3.816793893129771,
           0,
           26.717557251908396,
           1.1450381679389312,
           1.9083969465648856,
           1.1450381679389312,
           6.870229007633588,
           7.251908396946565,
           1.9083969465648856,
           0,
           8.778625954198473,
           0,
           3.435114503816794,
           1.9083969465648856,
           1.1450381679389312,
           2.6717557251908395,
           1.1450381679389312,
           3.0534351145038165,
           16.793893129770993,
           0.7633587786259541,
           5.343511450381679,
           16.412213740458014,
           0.38167938931297707,
           0,
           8.396946564885496,
           0.38167938931297707,
           0.38167938931297707,
           7.633587786259542,
           0.38167938931297707,
           0.7633587786259541,
           1.1450381679389312,
           1.5267175572519083,
           0.38167938931297707,
           0.7633587786259541,
           0,
           0.7633587786259541,
           0,
           0.7633587786259541,
           0.38167938931297707,
           1.1450381679389312,
           0,
           0.7633587786259541,
           1.1450381679389312,
           0,
           0.38167938931297707,
           1.1450381679389312,
           2.2900763358778624,
           0.38167938931297707,
           4.580152671755725,
           0,
           13.358778625954198,
           0.38167938931297707,
           0.7633587786259541,
           0,
           0,
           0.7633587786259541,
           0.38167938931297707,
           4.580152671755725,
           1.5267175572519083,
           0,
           0,
           2.6717557251908395,
           0.38167938931297707,
           0.38167938931297707,
           4.961832061068702,
           0,
           0,
           0.38167938931297707,
           8.396946564885496,
           2.6717557251908395,
           0,
           0.7633587786259541,
           1.5267175572519083,
           0.7633587786259541,
           0,
           0,
           0,
           0,
           0.7633587786259541,
           11.450381679389313,
           1.5267175572519083,
           0.38167938931297707,
           0,
           0,
           0.7633587786259541,
           2.6717557251908395,
           1.5267175572519083,
           0,
           0,
           0,
           0,
           0,
           0.38167938931297707,
           0.7633587786259541,
           0,
           0,
           0,
           0.7633587786259541,
           1.1450381679389312,
           0,
           0.7633587786259541,
           0.38167938931297707,
           0.7633587786259541,
           0,
           0,
           0,
           2.2900763358778624,
           0.38167938931297707,
           1.1450381679389312,
           1.1450381679389312,
           1.1450381679389312,
           0,
           0.38167938931297707,
           0,
           0,
           0,
           0,
           0,
           0.38167938931297707,
           0,
           0.38167938931297707,
           0.38167938931297707,
           0,
           0,
           0,
           0,
           0,
           0,
           0,
           0
          ],
          [
           36.2962962962963,
           29.629629629629626,
           32.22222222222222,
           66.66666666666666,
           68.88888888888889,
           23.333333333333332,
           60,
           47.77777777777778,
           19.25925925925926,
           27.037037037037038,
           12.222222222222221,
           67.03703703703704,
           14.444444444444443,
           12.222222222222221,
           17.037037037037038,
           10.37037037037037,
           20.37037037037037,
           18.14814814814815,
           30.37037037037037,
           7.037037037037037,
           26.666666666666668,
           10.37037037037037,
           8.88888888888889,
           5.555555555555555,
           10.37037037037037,
           50.74074074074074,
           10,
           6.296296296296296,
           23.333333333333332,
           24.074074074074073,
           35.18518518518518,
           6.296296296296296,
           5.555555555555555,
           4.814814814814815,
           4.444444444444445,
           4.444444444444445,
           8.88888888888889,
           6.296296296296296,
           9.62962962962963,
           10,
           6.666666666666667,
           9.25925925925926,
           12.222222222222221,
           4.444444444444445,
           44.074074074074076,
           4.444444444444445,
           1.8518518518518516,
           2.2222222222222223,
           4.814814814814815,
           4.074074074074074,
           20,
           50,
           6.666666666666667,
           4.814814814814815,
           14.814814814814813,
           1.1111111111111112,
           5.555555555555555,
           3.3333333333333335,
           10.74074074074074,
           4.814814814814815,
           12.962962962962962,
           19.62962962962963,
           7.777777777777778,
           2.9629629629629632,
           16.666666666666664,
           8.88888888888889,
           30.74074074074074,
           5.9259259259259265,
           4.074074074074074,
           13.333333333333334,
           4.444444444444445,
           10.37037037037037,
           12.222222222222221,
           1.8518518518518516,
           0.3703703703703704,
           1.8518518518518516,
           3.3333333333333335,
           0.7407407407407408,
           2.2222222222222223,
           5.9259259259259265,
           2.9629629629629632,
           0.7407407407407408,
           2.5925925925925926,
           1.1111111111111112,
           2.5925925925925926,
           2.9629629629629632,
           9.25925925925926,
           1.4814814814814816,
           2.9629629629629632,
           1.1111111111111112,
           8.518518518518519,
           0.7407407407407408,
           0.3703703703703704,
           0.7407407407407408,
           2.9629629629629632,
           1.1111111111111112,
           5.555555555555555,
           0.3703703703703704,
           0.7407407407407408,
           4.814814814814815,
           1.8518518518518516,
           2.5925925925925926,
           1.8518518518518516,
           1.8518518518518516,
           2.5925925925925926,
           0.7407407407407408,
           6.296296296296296,
           0.3703703703703704,
           2.2222222222222223,
           2.2222222222222223,
           0.7407407407407408,
           0.3703703703703704,
           1.4814814814814816,
           12.222222222222221,
           5.555555555555555,
           1.1111111111111112,
           2.2222222222222223,
           1.8518518518518516,
           0.7407407407407408,
           1.1111111111111112,
           1.4814814814814816,
           0.3703703703703704,
           1.1111111111111112,
           2.2222222222222223,
           1.8518518518518516,
           0.7407407407407408,
           3.3333333333333335,
           0.7407407407407408,
           4.444444444444445,
           0,
           2.2222222222222223,
           1.4814814814814816,
           0.7407407407407408,
           0.3703703703703704,
           4.444444444444445,
           4.814814814814815,
           5.185185185185185,
           1.8518518518518516,
           0.3703703703703704,
           1.4814814814814816,
           0.3703703703703704,
           0,
           1.1111111111111112,
           4.074074074074074,
           0.3703703703703704,
           1.1111111111111112,
           0,
           4.814814814814815,
           1.8518518518518516,
           0.7407407407407408,
           0,
           0.3703703703703704,
           0,
           2.2222222222222223,
           0.7407407407407408,
           0.3703703703703704,
           1.4814814814814816,
           1.4814814814814816,
           0.7407407407407408,
           0.3703703703703704,
           0,
           0.7407407407407408,
           1.1111111111111112,
           0,
           0,
           1.8518518518518516,
           0.3703703703703704,
           0,
           4.444444444444445,
           0.3703703703703704,
           0.3703703703703704,
           1.4814814814814816,
           1.1111111111111112,
           0,
           1.4814814814814816,
           1.1111111111111112,
           0.3703703703703704,
           0.7407407407407408,
           0,
           0,
           0.3703703703703704,
           0.3703703703703704,
           9.62962962962963,
           0,
           0.3703703703703704,
           0.7407407407407408,
           0,
           0.3703703703703704,
           4.814814814814815,
           0.7407407407407408,
           6.666666666666667,
           1.1111111111111112,
           2.2222222222222223,
           1.1111111111111112,
           0,
           2.5925925925925926,
           1.4814814814814816,
           0,
           0.7407407407407408,
           0,
           0.7407407407407408,
           0.3703703703703704,
           0,
           0,
           2.5925925925925926,
           0.3703703703703704,
           0,
           0,
           0.3703703703703704,
           0,
           0,
           0.7407407407407408,
           0,
           0,
           0.3703703703703704,
           0.7407407407407408,
           0,
           0,
           0,
           0,
           0.7407407407407408,
           0.3703703703703704,
           0,
           0,
           0,
           0.3703703703703704,
           0,
           0,
           0,
           0,
           0
          ],
          [
           48.8135593220339,
           35.932203389830505,
           34.23728813559322,
           52.20338983050847,
           74.91525423728814,
           26.101694915254235,
           45.08474576271186,
           32.88135593220339,
           15.932203389830507,
           22.033898305084744,
           13.559322033898304,
           52.88135593220339,
           17.966101694915253,
           16.271186440677965,
           23.050847457627118,
           13.898305084745763,
           29.830508474576273,
           25.423728813559322,
           32.20338983050847,
           10.508474576271185,
           17.966101694915253,
           13.220338983050848,
           6.440677966101695,
           2.711864406779661,
           25.76271186440678,
           20,
           14.237288135593221,
           8.813559322033898,
           17.966101694915253,
           10.508474576271185,
           28.135593220338983,
           5.762711864406779,
           5.762711864406779,
           4.067796610169491,
           11.186440677966102,
           4.067796610169491,
           31.186440677966104,
           7.796610169491526,
           16.610169491525422,
           9.491525423728813,
           5.423728813559322,
           11.525423728813559,
           20.677966101694913,
           4.406779661016949,
           30.508474576271187,
           5.423728813559322,
           2.3728813559322033,
           2.3728813559322033,
           3.050847457627119,
           6.440677966101695,
           16.610169491525422,
           13.898305084745763,
           12.203389830508476,
           3.728813559322034,
           23.389830508474578,
           1.694915254237288,
           3.728813559322034,
           3.050847457627119,
           6.779661016949152,
           8.135593220338983,
           21.35593220338983,
           9.830508474576272,
           15.932203389830507,
           4.067796610169491,
           8.813559322033898,
           9.491525423728813,
           17.966101694915253,
           4.067796610169491,
           3.389830508474576,
           11.186440677966102,
           2.0338983050847457,
           3.050847457627119,
           5.423728813559322,
           2.711864406779661,
           2.0338983050847457,
           2.0338983050847457,
           11.864406779661017,
           1.694915254237288,
           1.0169491525423728,
           4.745762711864407,
           5.762711864406779,
           2.3728813559322033,
           0.6779661016949152,
           1.0169491525423728,
           3.728813559322034,
           1.3559322033898304,
           14.576271186440678,
           3.728813559322034,
           2.0338983050847457,
           1.3559322033898304,
           12.88135593220339,
           1.0169491525423728,
           2.0338983050847457,
           0.6779661016949152,
           5.423728813559322,
           1.0169491525423728,
           5.423728813559322,
           1.0169491525423728,
           2.3728813559322033,
           4.406779661016949,
           4.406779661016949,
           8.135593220338983,
           0.6779661016949152,
           3.728813559322034,
           2.711864406779661,
           0.6779661016949152,
           2.0338983050847457,
           2.711864406779661,
           15.254237288135593,
           2.0338983050847457,
           0,
           1.694915254237288,
           1.3559322033898304,
           6.101694915254238,
           5.762711864406779,
           1.0169491525423728,
           4.406779661016949,
           0.6779661016949152,
           2.711864406779661,
           2.0338983050847457,
           1.0169491525423728,
           0.6779661016949152,
           2.3728813559322033,
           0.6779661016949152,
           1.694915254237288,
           1.694915254237288,
           2.711864406779661,
           1.0169491525423728,
           5.423728813559322,
           0,
           2.0338983050847457,
           1.0169491525423728,
           1.3559322033898304,
           0.6779661016949152,
           4.745762711864407,
           1.694915254237288,
           1.694915254237288,
           1.0169491525423728,
           1.3559322033898304,
           1.0169491525423728,
           2.0338983050847457,
           0.3389830508474576,
           1.0169491525423728,
           2.711864406779661,
           0,
           0.6779661016949152,
           0.6779661016949152,
           1.3559322033898304,
           2.0338983050847457,
           1.0169491525423728,
           0.6779661016949152,
           0.3389830508474576,
           0.3389830508474576,
           0,
           0,
           0.3389830508474576,
           3.050847457627119,
           1.694915254237288,
           1.0169491525423728,
           2.711864406779661,
           0.6779661016949152,
           0,
           2.0338983050847457,
           0.6779661016949152,
           1.0169491525423728,
           3.050847457627119,
           0.3389830508474576,
           0.3389830508474576,
           3.050847457627119,
           0.6779661016949152,
           0.6779661016949152,
           0.6779661016949152,
           0.6779661016949152,
           0,
           1.0169491525423728,
           0.3389830508474576,
           0,
           1.694915254237288,
           0,
           0.3389830508474576,
           0,
           2.0338983050847457,
           3.050847457627119,
           0,
           0,
           1.3559322033898304,
           0.3389830508474576,
           1.694915254237288,
           0.6779661016949152,
           1.3559322033898304,
           1.694915254237288,
           0.6779661016949152,
           0.3389830508474576,
           0.6779661016949152,
           0.6779661016949152,
           0.6779661016949152,
           0.3389830508474576,
           0,
           0.6779661016949152,
           1.0169491525423728,
           1.3559322033898304,
           0.3389830508474576,
           0,
           0,
           0.3389830508474576,
           1.3559322033898304,
           0,
           0.3389830508474576,
           0.3389830508474576,
           0.3389830508474576,
           0,
           0.6779661016949152,
           0.3389830508474576,
           0,
           0,
           0,
           0,
           0,
           0,
           0.6779661016949152,
           0,
           0,
           0.3389830508474576,
           0,
           0,
           0,
           0,
           0,
           0,
           0,
           0
          ],
          [
           48.93162393162393,
           32.69230769230769,
           33.547008547008545,
           42.52136752136752,
           57.47863247863248,
           34.401709401709404,
           33.547008547008545,
           27.77777777777778,
           21.794871794871796,
           25.85470085470086,
           17.307692307692307,
           31.196581196581196,
           21.794871794871796,
           22.435897435897438,
           39.95726495726496,
           16.88034188034188,
           20.299145299145298,
           20.94017094017094,
           31.62393162393162,
           14.957264957264957,
           16.666666666666664,
           13.247863247863249,
           7.6923076923076925,
           4.273504273504273,
           16.025641025641026,
           13.247863247863249,
           7.905982905982905,
           8.333333333333332,
           11.538461538461538,
           5.769230769230769,
           10.897435897435898,
           5.769230769230769,
           8.11965811965812,
           7.6923076923076925,
           12.82051282051282,
           8.11965811965812,
           11.965811965811966,
           21.367521367521366,
           9.82905982905983,
           11.752136752136751,
           14.102564102564102,
           9.82905982905983,
           14.102564102564102,
           5.3418803418803416,
           7.264957264957266,
           5.769230769230769,
           2.3504273504273505,
           3.632478632478633,
           4.914529914529915,
           4.487179487179487,
           6.837606837606838,
           4.914529914529915,
           8.974358974358974,
           7.6923076923076925,
           6.623931623931624,
           5.128205128205128,
           10.47008547008547,
           5.982905982905983,
           4.914529914529915,
           7.6923076923076925,
           7.051282051282051,
           3.205128205128205,
           5.3418803418803416,
           7.051282051282051,
           4.700854700854701,
           6.837606837606838,
           10.042735042735043,
           3.205128205128205,
           4.487179487179487,
           8.333333333333332,
           1.4957264957264957,
           4.700854700854701,
           3.632478632478633,
           2.3504273504273505,
           2.1367521367521367,
           2.564102564102564,
           2.1367521367521367,
           3.8461538461538463,
           1.282051282051282,
           2.9914529914529915,
           6.196581196581197,
           2.564102564102564,
           3.418803418803419,
           2.9914529914529915,
           2.9914529914529915,
           2.3504273504273505,
           5.128205128205128,
           3.418803418803419,
           2.3504273504273505,
           1.282051282051282,
           5.555555555555555,
           1.9230769230769231,
           3.418803418803419,
           1.0683760683760684,
           3.8461538461538463,
           2.9914529914529915,
           2.3504273504273505,
           2.9914529914529915,
           0.8547008547008548,
           1.9230769230769231,
           3.418803418803419,
           2.9914529914529915,
           1.7094017094017095,
           1.0683760683760684,
           1.4957264957264957,
           2.1367521367521367,
           10.897435897435898,
           2.564102564102564,
           2.3504273504273505,
           1.7094017094017095,
           2.3504273504273505,
           1.282051282051282,
           3.205128205128205,
           3.418803418803419,
           0.8547008547008548,
           1.9230769230769231,
           0.8547008547008548,
           1.4957264957264957,
           1.7094017094017095,
           2.7777777777777777,
           1.4957264957264957,
           1.7094017094017095,
           1.282051282051282,
           0,
           0.4273504273504274,
           1.282051282051282,
           0.8547008547008548,
           2.3504273504273505,
           3.205128205128205,
           0.2136752136752137,
           1.4957264957264957,
           1.4957264957264957,
           0.4273504273504274,
           0.641025641025641,
           1.282051282051282,
           3.632478632478633,
           3.418803418803419,
           0.2136752136752137,
           0.641025641025641,
           1.282051282051282,
           0.4273504273504274,
           0.641025641025641,
           0.8547008547008548,
           0.2136752136752137,
           0,
           0.2136752136752137,
           0.4273504273504274,
           1.4957264957264957,
           0.4273504273504274,
           0.4273504273504274,
           0.2136752136752137,
           0.4273504273504274,
           0.4273504273504274,
           0.641025641025641,
           0.2136752136752137,
           0,
           0.641025641025641,
           0,
           1.4957264957264957,
           0.641025641025641,
           0.4273504273504274,
           0.4273504273504274,
           1.0683760683760684,
           0,
           0.2136752136752137,
           0.2136752136752137,
           1.0683760683760684,
           0,
           1.282051282051282,
           0.4273504273504274,
           0.4273504273504274,
           0.4273504273504274,
           0.641025641025641,
           0.641025641025641,
           0,
           0.2136752136752137,
           0.2136752136752137,
           0.2136752136752137,
           0.641025641025641,
           0.4273504273504274,
           0.4273504273504274,
           0.4273504273504274,
           0.8547008547008548,
           0.2136752136752137,
           0.2136752136752137,
           0.4273504273504274,
           0.2136752136752137,
           0.8547008547008548,
           0.4273504273504274,
           0,
           0.4273504273504274,
           0.4273504273504274,
           0.2136752136752137,
           0.641025641025641,
           0,
           0.2136752136752137,
           1.0683760683760684,
           0.2136752136752137,
           0.4273504273504274,
           0.4273504273504274,
           0.2136752136752137,
           0.2136752136752137,
           0,
           0.2136752136752137,
           0.2136752136752137,
           0.2136752136752137,
           0,
           1.0683760683760684,
           0.8547008547008548,
           0.2136752136752137,
           0,
           0.2136752136752137,
           0,
           0,
           0,
           0.2136752136752137,
           0.2136752136752137,
           0,
           0.2136752136752137,
           0,
           0,
           0,
           0.2136752136752137,
           0,
           0.2136752136752137,
           0,
           0,
           0,
           0,
           0,
           0
          ],
          [
           47.47899159663865,
           46.21848739495798,
           50.84033613445378,
           34.87394957983193,
           54.41176470588235,
           18.907563025210084,
           19.537815126050422,
           33.61344537815126,
           10.084033613445378,
           36.97478991596639,
           7.352941176470589,
           52.73109243697479,
           15.966386554621847,
           19.327731092436977,
           17.016806722689076,
           31.932773109243694,
           30.88235294117647,
           20.3781512605042,
           21.428571428571427,
           11.974789915966387,
           8.61344537815126,
           12.184873949579831,
           5.042016806722689,
           2.100840336134454,
           17.857142857142858,
           12.394957983193278,
           28.781512605042014,
           15.966386554621847,
           11.554621848739496,
           7.142857142857142,
           21.218487394957982,
           6.932773109243698,
           6.092436974789916,
           3.361344537815126,
           12.605042016806722,
           11.344537815126051,
           19.95798319327731,
           5.2521008403361344,
           31.30252100840336,
           8.823529411764707,
           3.9915966386554618,
           8.61344537815126,
           33.193277310924366,
           4.621848739495799,
           9.873949579831933,
           3.571428571428571,
           3.7815126050420167,
           3.1512605042016806,
           6.722689075630252,
           3.9915966386554618,
           10.084033613445378,
           6.512605042016808,
           11.134453781512606,
           1.4705882352941175,
           9.243697478991598,
           2.941176470588235,
           11.974789915966387,
           1.4705882352941175,
           7.563025210084033,
           18.067226890756302,
           7.142857142857142,
           11.344537815126051,
           13.445378151260504,
           2.3109243697478994,
           1.2605042016806722,
           8.61344537815126,
           24.159663865546218,
           4.411764705882353,
           2.5210084033613445,
           8.403361344537815,
           6.512605042016808,
           1.4705882352941175,
           6.722689075630252,
           1.2605042016806722,
           1.2605042016806722,
           3.9915966386554618,
           4.831932773109244,
           2.5210084033613445,
           2.73109243697479,
           2.73109243697479,
           4.831932773109244,
           1.2605042016806722,
           1.680672268907563,
           2.5210084033613445,
           2.73109243697479,
           1.8907563025210083,
           9.663865546218489,
           1.8907563025210083,
           1.680672268907563,
           0.6302521008403361,
           18.69747899159664,
           1.8907563025210083,
           2.941176470588235,
           1.050420168067227,
           4.411764705882353,
           3.1512605042016806,
           5.6722689075630255,
           1.050420168067227,
           6.092436974789916,
           0.6302521008403361,
           1.680672268907563,
           6.302521008403361,
           0.21008403361344538,
           2.5210084033613445,
           1.8907563025210083,
           6.512605042016808,
           1.2605042016806722,
           8.403361344537815,
           2.941176470588235,
           0.21008403361344538,
           0.6302521008403361,
           3.9915966386554618,
           0.8403361344537815,
           6.512605042016808,
           6.722689075630252,
           1.4705882352941175,
           1.4705882352941175,
           1.2605042016806722,
           0.8403361344537815,
           1.8907563025210083,
           0.21008403361344538,
           6.092436974789916,
           2.100840336134454,
           0.8403361344537815,
           2.100840336134454,
           0.8403361344537815,
           4.201680672268908,
           1.4705882352941175,
           9.873949579831933,
           1.050420168067227,
           0.6302521008403361,
           4.201680672268908,
           0,
           0.8403361344537815,
           3.571428571428571,
           2.941176470588235,
           4.411764705882353,
           1.050420168067227,
           2.3109243697478994,
           1.050420168067227,
           1.4705882352941175,
           0.6302521008403361,
           1.8907563025210083,
           2.5210084033613445,
           0.21008403361344538,
           1.4705882352941175,
           2.941176470588235,
           2.5210084033613445,
           0.21008403361344538,
           0.6302521008403361,
           1.2605042016806722,
           0.6302521008403361,
           0.21008403361344538,
           1.2605042016806722,
           0.21008403361344538,
           0.21008403361344538,
           1.680672268907563,
           1.2605042016806722,
           0.21008403361344538,
           0.6302521008403361,
           1.050420168067227,
           0,
           2.5210084033613445,
           1.8907563025210083,
           0.21008403361344538,
           1.050420168067227,
           1.050420168067227,
           0,
           2.73109243697479,
           0.42016806722689076,
           1.2605042016806722,
           0.21008403361344538,
           0.8403361344537815,
           0.21008403361344538,
           0.8403361344537815,
           0.21008403361344538,
           0.21008403361344538,
           1.050420168067227,
           0,
           0.42016806722689076,
           1.680672268907563,
           1.2605042016806722,
           3.9915966386554618,
           0.6302521008403361,
           0.6302521008403361,
           0.8403361344537815,
           0,
           1.050420168067227,
           0,
           0.6302521008403361,
           1.4705882352941175,
           0.21008403361344538,
           0.21008403361344538,
           0.6302521008403361,
           0.21008403361344538,
           0.6302521008403361,
           0,
           0.21008403361344538,
           1.4705882352941175,
           0.21008403361344538,
           0.6302521008403361,
           0.21008403361344538,
           0,
           0.42016806722689076,
           1.2605042016806722,
           0.42016806722689076,
           0.21008403361344538,
           0.42016806722689076,
           0.21008403361344538,
           0,
           0.21008403361344538,
           0,
           0.6302521008403361,
           0.21008403361344538,
           0,
           0,
           0,
           0.42016806722689076,
           0.21008403361344538,
           0.21008403361344538,
           0.42016806722689076,
           1.2605042016806722,
           0,
           0,
           0.21008403361344538,
           0,
           0,
           0,
           0,
           0,
           0
          ],
          [
           37.82051282051282,
           27.884615384615387,
           12.660256410256409,
           17.94871794871795,
           39.90384615384615,
           20.51282051282051,
           21.634615384615387,
           11.378205128205128,
           20.192307692307693,
           16.506410256410255,
           11.378205128205128,
           17.467948717948715,
           18.91025641025641,
           55.12820512820513,
           14.102564102564102,
           3.8461538461538463,
           14.423076923076922,
           9.455128205128204,
           13.461538461538462,
           31.41025641025641,
           8.653846153846153,
           8.974358974358974,
           4.647435897435898,
           5.929487179487179,
           61.69871794871795,
           2.403846153846154,
           7.211538461538461,
           5.288461538461538,
           8.493589743589745,
           4.967948717948718,
           13.782051282051283,
           5.448717948717949,
           12.82051282051282,
           3.3653846153846154,
           37.17948717948718,
           21.634615384615387,
           25,
           4.647435897435898,
           5.769230769230769,
           2.8846153846153846,
           11.858974358974358,
           5.929487179487179,
           9.935897435897436,
           5.288461538461538,
           4.006410256410256,
           3.5256410256410255,
           3.5256410256410255,
           2.8846153846153846,
           3.5256410256410255,
           23.557692307692307,
           1.1217948717948718,
           0.9615384615384616,
           35.41666666666667,
           0.9615384615384616,
           15.865384615384615,
           8.974358974358974,
           1.1217948717948718,
           1.4423076923076923,
           6.41025641025641,
           4.647435897435898,
           13.62179487179487,
           6.570512820512821,
           14.583333333333334,
           4.006410256410256,
           1.9230769230769231,
           1.4423076923076923,
           0.9615384615384616,
           0.9615384615384616,
           2.7243589743589745,
           2.2435897435897436,
           1.282051282051282,
           0.641025641025641,
           1.4423076923076923,
           1.282051282051282,
           1.6025641025641024,
           0.9615384615384616,
           20.352564102564102,
           1.7628205128205128,
           1.6025641025641024,
           0.16025641025641024,
           5.929487179487179,
           1.7628205128205128,
           0.4807692307692308,
           1.7628205128205128,
           3.3653846153846154,
           0.641025641025641,
           2.2435897435897436,
           2.7243589743589745,
           2.2435897435897436,
           1.282051282051282,
           1.6025641025641024,
           1.4423076923076923,
           4.006410256410256,
           2.2435897435897436,
           10.416666666666668,
           42.628205128205124,
           13.942307692307693,
           2.7243589743589745,
           0.8012820512820512,
           1.1217948717948718,
           31.08974358974359,
           6.25,
           0.9615384615384616,
           0.641025641025641,
           2.564102564102564,
           1.1217948717948718,
           0.9615384615384616,
           0.8012820512820512,
           7.532051282051282,
           0.3205128205128205,
           0.641025641025641,
           25.48076923076923,
           0.8012820512820512,
           0.8012820512820512,
           3.0448717948717947,
           0.3205128205128205,
           11.378205128205128,
           4.326923076923077,
           7.211538461538461,
           1.7628205128205128,
           2.083333333333333,
           0.8012820512820512,
           4.967948717948718,
           0.16025641025641024,
           0.16025641025641024,
           0.4807692307692308,
           0.8012820512820512,
           0.641025641025641,
           0.4807692307692308,
           0.3205128205128205,
           0.16025641025641024,
           1.1217948717948718,
           4.807692307692308,
           1.9230769230769231,
           1.6025641025641024,
           0,
           0.9615384615384616,
           0.16025641025641024,
           7.211538461538461,
           0.16025641025641024,
           26.121794871794872,
           0.9615384615384616,
           0.16025641025641024,
           1.1217948717948718,
           0.16025641025641024,
           0.641025641025641,
           0,
           0.3205128205128205,
           0.641025641025641,
           0,
           0.641025641025641,
           0,
           0.16025641025641024,
           0,
           0,
           0.16025641025641024,
           1.9230769230769231,
           0.16025641025641024,
           0.4807692307692308,
           0.3205128205128205,
           0.641025641025641,
           0.16025641025641024,
           1.282051282051282,
           0.3205128205128205,
           0,
           1.1217948717948718,
           4.807692307692308,
           0.16025641025641024,
           0.3205128205128205,
           0.3205128205128205,
           1.4423076923076923,
           0.4807692307692308,
           0.4807692307692308,
           4.166666666666666,
           0.16025641025641024,
           0.16025641025641024,
           0.16025641025641024,
           0.9615384615384616,
           0.16025641025641024,
           0.9615384615384616,
           0.16025641025641024,
           1.282051282051282,
           0,
           0,
           0.16025641025641024,
           1.282051282051282,
           0.16025641025641024,
           0.641025641025641,
           0.16025641025641024,
           0.16025641025641024,
           0.3205128205128205,
           0,
           0,
           0.16025641025641024,
           0.4807692307692308,
           0.4807692307692308,
           0.16025641025641024,
           0,
           0,
           0,
           2.2435897435897436,
           0,
           0.3205128205128205,
           0.16025641025641024,
           0.16025641025641024,
           0.3205128205128205,
           0,
           1.1217948717948718,
           0,
           1.1217948717948718,
           0,
           1.7628205128205128,
           0.16025641025641024,
           0.3205128205128205,
           0,
           0.16025641025641024,
           0.3205128205128205,
           0,
           0,
           0.641025641025641,
           0,
           0,
           0,
           0.3205128205128205,
           0.16025641025641024,
           0,
           0,
           0.16025641025641024,
           0,
           0,
           0
          ],
          [
           37.898089171974526,
           38.05732484076433,
           76.27388535031847,
           16.719745222929934,
           68.31210191082803,
           12.261146496815286,
           21.019108280254777,
           29.458598726114648,
           9.554140127388536,
           31.687898089171973,
           8.598726114649681,
           19.745222929936308,
           12.738853503184714,
           14.808917197452228,
           12.101910828025478,
           44.10828025477707,
           19.745222929936308,
           20.541401273885352,
           25.318471337579616,
           9.713375796178344,
           7.802547770700636,
           7.006369426751593,
           2.7070063694267517,
           1.910828025477707,
           8.9171974522293,
           3.0254777070063694,
           9.554140127388536,
           9.235668789808917,
           17.8343949044586,
           1.910828025477707,
           5.573248407643312,
           4.45859872611465,
           3.821656050955414,
           3.0254777070063694,
           11.305732484076433,
           6.687898089171974,
           7.165605095541401,
           2.7070063694267517,
           8.75796178343949,
           45.382165605095544,
           1.910828025477707,
           35.828025477707,
           14.808917197452228,
           2.8662420382165608,
           2.8662420382165608,
           3.5031847133757963,
           2.7070063694267517,
           2.7070063694267517,
           3.821656050955414,
           2.388535031847134,
           2.388535031847134,
           1.2738853503184715,
           2.8662420382165608,
           1.7515923566878981,
           4.2993630573248405,
           3.5031847133757963,
           18.471337579617835,
           2.229299363057325,
           3.5031847133757963,
           7.961783439490445,
           4.777070063694268,
           3.343949044585987,
           4.45859872611465,
           1.5923566878980893,
           0.47770700636942676,
           8.439490445859873,
           1.1146496815286624,
           1.2738853503184715,
           3.1847133757961785,
           9.235668789808917,
           1.1146496815286624,
           2.0700636942675157,
           1.1146496815286624,
           18.789808917197455,
           2.547770700636943,
           1.4331210191082804,
           1.1146496815286624,
           1.4331210191082804,
           1.7515923566878981,
           4.140127388535031,
           2.388535031847134,
           0.7961783439490446,
           2.0700636942675157,
           0.9554140127388535,
           7.32484076433121,
           0.7961783439490446,
           1.2738853503184715,
           10.35031847133758,
           0.6369426751592357,
           0.47770700636942676,
           4.777070063694268,
           1.4331210191082804,
           4.45859872611465,
           1.5923566878980893,
           2.547770700636943,
           2.388535031847134,
           1.5923566878980893,
           0.9554140127388535,
           3.343949044585987,
           10.987261146496815,
           0.6369426751592357,
           2.0700636942675157,
           0.47770700636942676,
           27.547770700636942,
           2.229299363057325,
           5.254777070063694,
           1.2738853503184715,
           23.88535031847134,
           0.7961783439490446,
           1.2738853503184715,
           0.3184713375796179,
           1.2738853503184715,
           1.5923566878980893,
           0.47770700636942676,
           1.1146496815286624,
           6.687898089171974,
           0.3184713375796179,
           0.7961783439490446,
           0.15923566878980894,
           4.617834394904459,
           0.3184713375796179,
           13.21656050955414,
           2.0700636942675157,
           0.3184713375796179,
           0.47770700636942676,
           5.573248407643312,
           1.2738853503184715,
           0.7961783439490446,
           2.0700636942675157,
           0.15923566878980894,
           7.006369426751593,
           1.1146496815286624,
           0.47770700636942676,
           0.6369426751592357,
           0.9554140127388535,
           0.47770700636942676,
           0.47770700636942676,
           0.3184713375796179,
           1.2738853503184715,
           0.47770700636942676,
           1.1146496815286624,
           0.7961783439490446,
           4.936305732484077,
           2.0700636942675157,
           0.3184713375796179,
           0.47770700636942676,
           0.9554140127388535,
           0.47770700636942676,
           0,
           1.5923566878980893,
           0.47770700636942676,
           12.738853503184714,
           0.6369426751592357,
           4.617834394904459,
           0.15923566878980894,
           0.3184713375796179,
           0.15923566878980894,
           0.6369426751592357,
           0.7961783439490446,
           0.6369426751592357,
           0.3184713375796179,
           0,
           0.47770700636942676,
           0.7961783439490446,
           0.6369426751592357,
           1.1146496815286624,
           0.15923566878980894,
           0.15923566878980894,
           0.6369426751592357,
           1.5923566878980893,
           0,
           0.3184713375796179,
           0,
           0.15923566878980894,
           0.15923566878980894,
           0.3184713375796179,
           0,
           0.3184713375796179,
           0,
           0.6369426751592357,
           0.6369426751592357,
           0,
           0.15923566878980894,
           0.15923566878980894,
           0.6369426751592357,
           0.3184713375796179,
           0,
           0.6369426751592357,
           0.15923566878980894,
           0.47770700636942676,
           0,
           0,
           0,
           1.1146496815286624,
           0,
           0,
           0.15923566878980894,
           0,
           0.7961783439490446,
           0.15923566878980894,
           0.3184713375796179,
           1.7515923566878981,
           0.3184713375796179,
           3.821656050955414,
           0,
           0.6369426751592357,
           0.3184713375796179,
           0.15923566878980894,
           0.6369426751592357,
           0,
           0,
           0,
           0.9554140127388535,
           0,
           0,
           0.15923566878980894,
           0,
           0.15923566878980894,
           0,
           0,
           0,
           0,
           0,
           0.15923566878980894,
           0.15923566878980894,
           0.15923566878980894,
           0,
           0,
           0,
           0,
           0
          ],
          [
           40.11220196353436,
           23.842917251051894,
           34.081346423562415,
           69.7054698457223,
           65.35764375876579,
           29.172510518934082,
           68.02244039270687,
           46.70406732117812,
           24.684431977559605,
           25.385694249649372,
           15.568022440392706,
           55.96072931276297,
           19.35483870967742,
           12.342215988779802,
           20.75736325385694,
           12.201963534361852,
           15.147265077138849,
           28.050490883590463,
           34.081346423562415,
           8.415147265077138,
           28.611500701262273,
           12.342215988779802,
           8.274894810659186,
           5.189340813464235,
           7.433380084151472,
           47.26507713884993,
           7.152875175315568,
           4.768583450210379,
           26.788218793828893,
           23.14165497896213,
           27.629733520336607,
           5.610098176718092,
           5.049088359046284,
           5.610098176718092,
           5.329593267882188,
           4.3478260869565215,
           7.433380084151472,
           10.659186535764375,
           9.957924263674615,
           9.396914446002805,
           7.012622720897616,
           6.5918653576437585,
           16.690042075736326,
           5.46984572230014,
           38.569424964936886,
           4.768583450210379,
           4.207573632538569,
           3.225806451612903,
           3.0855539971949506,
           4.067321178120617,
           19.775596072931275,
           50.49088359046283,
           4.067321178120617,
           6.311360448807854,
           12.342215988779802,
           2.9453015427769986,
           5.750350631136045,
           4.488078541374474,
           8.695652173913043,
           4.628330995792426,
           12.0617110799439,
           15.287517531556801,
           6.5918653576437585,
           3.9270687237026647,
           23.422159887798035,
           7.012622720897616,
           28.611500701262273,
           6.311360448807854,
           3.3660589060308554,
           9.396914446002805,
           2.9453015427769986,
           10.098176718092567,
           8.134642356241233,
           2.244039270687237,
           1.402524544179523,
           1.262272089761571,
           2.9453015427769986,
           1.8232819074333801,
           1.1220196353436185,
           8.134642356241233,
           5.610098176718092,
           0.8415147265077139,
           1.8232819074333801,
           1.262272089761571,
           2.524544179523142,
           2.805049088359046,
           8.835904628330995,
           2.1037868162692845,
           0.8415147265077139,
           1.1220196353436185,
           7.012622720897616,
           1.402524544179523,
           1.402524544179523,
           3.225806451612903,
           0.5610098176718092,
           1.402524544179523,
           4.908835904628331,
           0.7012622720897616,
           0.1402524544179523,
           7.433380084151472,
           0.2805049088359046,
           4.3478260869565215,
           1.6830294530154277,
           1.8232819074333801,
           2.9453015427769986,
           0.9817671809256662,
           6.5918653576437585,
           0.8415147265077139,
           0.9817671809256662,
           2.9453015427769986,
           0.8415147265077139,
           0.8415147265077139,
           4.768583450210379,
           8.835904628330995,
           4.628330995792426,
           4.207573632538569,
           1.1220196353436185,
           0.7012622720897616,
           0.9817671809256662,
           0.5610098176718092,
           0.5610098176718092,
           0.42075736325385693,
           0.7012622720897616,
           0.2805049088359046,
           0.9817671809256662,
           0.9817671809256662,
           2.244039270687237,
           0.9817671809256662,
           3.225806451612903,
           0.1402524544179523,
           3.225806451612903,
           1.9635343618513323,
           0.42075736325385693,
           0.2805049088359046,
           2.524544179523142,
           3.7868162692847123,
           2.9453015427769986,
           0.42075736325385693,
           1.5427769985974753,
           2.805049088359046,
           1.1220196353436185,
           0.5610098176718092,
           1.1220196353436185,
           3.7868162692847123,
           0.2805049088359046,
           1.8232819074333801,
           0,
           1.9635343618513323,
           0.7012622720897616,
           1.1220196353436185,
           0.42075736325385693,
           0.42075736325385693,
           0.7012622720897616,
           1.9635343618513323,
           1.402524544179523,
           0.2805049088359046,
           1.5427769985974753,
           1.402524544179523,
           0.7012622720897616,
           1.402524544179523,
           0.42075736325385693,
           0.7012622720897616,
           0.5610098176718092,
           0.8415147265077139,
           0.2805049088359046,
           0.7012622720897616,
           0.8415147265077139,
           0,
           2.664796633941094,
           0.5610098176718092,
           0.1402524544179523,
           1.9635343618513323,
           0.42075736325385693,
           0.5610098176718092,
           0.7012622720897616,
           0.42075736325385693,
           0.1402524544179523,
           0.9817671809256662,
           0.8415147265077139,
           0.2805049088359046,
           0,
           0.42075736325385693,
           4.067321178120617,
           0.1402524544179523,
           0.2805049088359046,
           0,
           0.1402524544179523,
           0.42075736325385693,
           2.664796633941094,
           0.7012622720897616,
           2.664796633941094,
           0.2805049088359046,
           1.9635343618513323,
           0.9817671809256662,
           0.1402524544179523,
           1.262272089761571,
           0.2805049088359046,
           0.1402524544179523,
           0.1402524544179523,
           0.2805049088359046,
           0.2805049088359046,
           0.2805049088359046,
           0.5610098176718092,
           0.2805049088359046,
           1.402524544179523,
           0.5610098176718092,
           0.42075736325385693,
           0.1402524544179523,
           0.7012622720897616,
           0,
           0,
           0.5610098176718092,
           0.1402524544179523,
           0.1402524544179523,
           0,
           0,
           0.5610098176718092,
           0.1402524544179523,
           0,
           0.1402524544179523,
           0,
           0,
           0.2805049088359046,
           0,
           0.1402524544179523,
           0,
           0.1402524544179523,
           0.2805049088359046,
           0,
           0,
           0
          ],
          [
           40.174672489082965,
           28.056768558951966,
           38.427947598253276,
           71.83406113537117,
           67.13973799126637,
           31.4410480349345,
           53.60262008733624,
           45.414847161572055,
           21.61572052401747,
           28.27510917030568,
           13.209606986899564,
           63.75545851528385,
           19.213973799126638,
           18.12227074235808,
           23.362445414847162,
           18.231441048034934,
           17.03056768558952,
           29.148471615720524,
           33.18777292576419,
           13.318777292576419,
           19.978165938864628,
           15.065502183406112,
           9.716157205240176,
           5.240174672489083,
           10.58951965065502,
           47.92576419213974,
           10.043668122270741,
           5.786026200873363,
           20.305676855895197,
           19.65065502183406,
           21.61572052401747,
           9.497816593886462,
           11.026200873362445,
           7.532751091703056,
           7.20524017467249,
           6.550218340611353,
           8.842794759825328,
           15.174672489082969,
           17.03056768558952,
           8.951965065502183,
           11.135371179039302,
           6.6593886462882095,
           22.270742358078603,
           5.458515283842795,
           25.87336244541485,
           4.585152838427948,
           4.039301310043668,
           4.585152838427948,
           5.676855895196507,
           9.06113537117904,
           20.851528384279476,
           45.414847161572055,
           9.170305676855897,
           8.51528384279476,
           8.951965065502183,
           2.292576419213974,
           7.969432314410481,
           6.222707423580786,
           9.82532751091703,
           6.6593886462882095,
           6.6593886462882095,
           12.445414847161572,
           7.751091703056769,
           3.4934497816593884,
           13.755458515283841,
           7.751091703056769,
           38.864628820960704,
           7.641921397379912,
           2.4017467248908297,
           10.262008733624455,
           5.021834061135371,
           7.969432314410481,
           5.458515283842795,
           1.8558951965065504,
           1.4192139737991267,
           2.6200873362445414,
           3.056768558951965,
           3.056768558951965,
           1.7467248908296942,
           6.441048034934497,
           8.951965065502183,
           0.9825327510917031,
           2.1834061135371177,
           1.9650655021834063,
           2.1834061135371177,
           1.8558951965065504,
           11.572052401746726,
           2.5109170305676853,
           0.5458515283842794,
           1.8558951965065504,
           8.842794759825328,
           2.292576419213974,
           1.5283842794759825,
           1.0917030567685588,
           2.6200873362445414,
           1.8558951965065504,
           4.585152838427948,
           0.7641921397379913,
           0.7641921397379913,
           3.2751091703056767,
           1.5283842794759825,
           6.222707423580786,
           1.3100436681222707,
           1.2008733624454149,
           2.947598253275109,
           1.4192139737991267,
           13.537117903930133,
           1.4192139737991267,
           1.3100436681222707,
           0.6550218340611353,
           1.9650655021834063,
           0.8733624454148471,
           3.384279475982533,
           12.117903930131005,
           6.768558951965066,
           2.074235807860262,
           2.6200873362445414,
           0.6550218340611353,
           1.4192139737991267,
           0.8733624454148471,
           0.10917030567685589,
           0.9825327510917031,
           0.9825327510917031,
           1.6375545851528384,
           1.5283842794759825,
           1.0917030567685588,
           2.7292576419213974,
           2.4017467248908297,
           3.056768558951965,
           0.7641921397379913,
           2.1834061135371177,
           2.7292576419213974,
           0.43668122270742354,
           0.32751091703056767,
           2.074235807860262,
           5.786026200873363,
           5.458515283842795,
           0.7641921397379913,
           1.8558951965065504,
           2.7292576419213974,
           1.2008733624454149,
           0.7641921397379913,
           1.8558951965065504,
           2.1834061135371177,
           0.7641921397379913,
           0.6550218340611353,
           0.32751091703056767,
           2.7292576419213974,
           1.0917030567685588,
           0.43668122270742354,
           0.43668122270742354,
           0,
           0.21834061135371177,
           1.6375545851528384,
           0.9825327510917031,
           0.5458515283842794,
           1.2008733624454149,
           0.8733624454148471,
           0.7641921397379913,
           1.5283842794759825,
           0.10917030567685589,
           0.21834061135371177,
           0.8733624454148471,
           0.43668122270742354,
           0.10917030567685589,
           0.8733624454148471,
           1.2008733624454149,
           0.21834061135371177,
           4.148471615720524,
           0.21834061135371177,
           0.32751091703056767,
           1.2008733624454149,
           0.43668122270742354,
           0.43668122270742354,
           0.5458515283842794,
           0.21834061135371177,
           0.21834061135371177,
           0.43668122270742354,
           0.6550218340611353,
           0.5458515283842794,
           0.10917030567685589,
           0.9825327510917031,
           3.1659388646288207,
           0,
           0.32751091703056767,
           0.32751091703056767,
           0.32751091703056767,
           0.43668122270742354,
           2.4017467248908297,
           1.0917030567685588,
           3.711790393013101,
           0,
           1.0917030567685588,
           1.2008733624454149,
           0.10917030567685589,
           0.8733624454148471,
           0.43668122270742354,
           0.32751091703056767,
           0.32751091703056767,
           0.21834061135371177,
           0.21834061135371177,
           0.21834061135371177,
           0.32751091703056767,
           0.21834061135371177,
           1.3100436681222707,
           0.6550218340611353,
           0.10917030567685589,
           0.32751091703056767,
           0.32751091703056767,
           0.21834061135371177,
           0.21834061135371177,
           0.21834061135371177,
           0.43668122270742354,
           0,
           0.10917030567685589,
           0.32751091703056767,
           0.10917030567685589,
           0,
           0,
           0,
           0.10917030567685589,
           0.10917030567685589,
           0.21834061135371177,
           0.10917030567685589,
           0.10917030567685589,
           0.10917030567685589,
           0,
           0,
           0,
           0,
           0
          ],
          [
           26.34920634920635,
           21.375661375661377,
           70.15873015873015,
           56.08465608465608,
           84.86772486772487,
           14.920634920634921,
           53.75661375661376,
           50.58201058201058,
           9.62962962962963,
           24.97354497354497,
           8.465608465608465,
           40,
           8.677248677248677,
           12.16931216931217,
           21.164021164021165,
           29.20634920634921,
           18.412698412698415,
           28.465608465608465,
           44.86772486772487,
           7.089947089947089,
           21.26984126984127,
           12.380952380952381,
           5.714285714285714,
           2.6455026455026456,
           8.042328042328043,
           22.75132275132275,
           4.1269841269841265,
           4.867724867724868,
           25.71428571428571,
           9.206349206349207,
           14.708994708994707,
           3.1746031746031744,
           4.761904761904762,
           2.1164021164021163,
           6.455026455026455,
           4.444444444444445,
           7.4074074074074066,
           12.804232804232804,
           8.571428571428571,
           51.11111111111111,
           6.666666666666667,
           34.81481481481482,
           11.428571428571429,
           2.6455026455026456,
           7.830687830687831,
           2.328042328042328,
           1.9047619047619049,
           2.0105820105820107,
           2.751322751322751,
           2.9629629629629632,
           11.957671957671957,
           21.26984126984127,
           4.550264550264551,
           4.1269841269841265,
           7.6190476190476195,
           2.1164021164021163,
           10.793650793650794,
           4.1269841269841265,
           3.3862433862433865,
           2.751322751322751,
           6.878306878306878,
           2.2222222222222223,
           4.232804232804233,
           1.7989417989417988,
           9.62962962962963,
           8.465608465608465,
           5.714285714285714,
           4.338624338624339,
           3.492063492063492,
           15.661375661375661,
           2.328042328042328,
           17.989417989417987,
           2.5396825396825395,
           16.507936507936506,
           1.2698412698412698,
           0.8465608465608466,
           2.2222222222222223,
           1.2698412698412698,
           1.2698412698412698,
           13.968253968253968,
           2.857142857142857,
           1.0582010582010581,
           0.9523809523809524,
           1.0582010582010581,
           6.666666666666667,
           1.164021164021164,
           3.8095238095238098,
           6.878306878306878,
           0.9523809523809524,
           0.5291005291005291,
           2.328042328042328,
           0.8465608465608466,
           5.502645502645502,
           1.3756613756613756,
           3.1746031746031744,
           1.0582010582010581,
           2.6455026455026456,
           0.7407407407407408,
           1.5873015873015872,
           18.73015873015873,
           1.4814814814814816,
           3.068783068783069,
           0.4232804232804233,
           8.148148148148149,
           1.164021164021164,
           2.6455026455026456,
           2.328042328042328,
           4.232804232804233,
           0.8465608465608466,
           18.412698412698415,
           1.2698412698412698,
           0.8465608465608466,
           4.338624338624339,
           2.0105820105820107,
           1.4814814814814816,
           34.179894179894184,
           0.7407407407407408,
           0.10582010582010583,
           0.4232804232804233,
           3.8095238095238098,
           0.8465608465608466,
           2.9629629629629632,
           2.1164021164021163,
           0.5291005291005291,
           0.6349206349206349,
           3.1746031746031744,
           1.6931216931216932,
           0.6349206349206349,
           1.6931216931216932,
           0.6349206349206349,
           15.555555555555555,
           0.9523809523809524,
           0.6349206349206349,
           0,
           1.9047619047619049,
           1.3756613756613756,
           2.6455026455026456,
           0.5291005291005291,
           1.164021164021164,
           2.5396825396825395,
           0.5291005291005291,
           0.31746031746031744,
           2.2222222222222223,
           1.6931216931216932,
           0.10582010582010583,
           0.7407407407407408,
           0.6349206349206349,
           0.8465608465608466,
           1.6931216931216932,
           2.433862433862434,
           0.5291005291005291,
           3.28042328042328,
           0.4232804232804233,
           14.074074074074074,
           0.10582010582010583,
           0,
           0.31746031746031744,
           0.8465608465608466,
           0.4232804232804233,
           2.328042328042328,
           0.31746031746031744,
           0.10582010582010583,
           0.4232804232804233,
           0.5291005291005291,
           0.31746031746031744,
           0.6349206349206349,
           0.4232804232804233,
           0,
           0.5291005291005291,
           1.3756613756613756,
           0.6349206349206349,
           1.9047619047619049,
           0.4232804232804233,
           0.21164021164021166,
           0.21164021164021166,
           0.21164021164021166,
           0.21164021164021166,
           0.31746031746031744,
           0.4232804232804233,
           0.21164021164021166,
           1.7989417989417988,
           0.21164021164021166,
           0.31746031746031744,
           0,
           0.8465608465608466,
           0.10582010582010583,
           0.31746031746031744,
           0.4232804232804233,
           0.9523809523809524,
           0.21164021164021166,
           0.31746031746031744,
           1.164021164021164,
           0.7407407407407408,
           0.5291005291005291,
           0.4232804232804233,
           0.5291005291005291,
           0.4232804232804233,
           0.10582010582010583,
           0.5291005291005291,
           0.21164021164021166,
           0.21164021164021166,
           3.3862433862433865,
           0.10582010582010583,
           1.164021164021164,
           0,
           1.0582010582010581,
           0.31746031746031744,
           0.4232804232804233,
           0.21164021164021166,
           0.21164021164021166,
           0.10582010582010583,
           0.10582010582010583,
           0.4232804232804233,
           0.10582010582010583,
           0.21164021164021166,
           0,
           0.10582010582010583,
           0,
           0.10582010582010583,
           0.10582010582010583,
           0.10582010582010583,
           0.31746031746031744,
           0.21164021164021166,
           0,
           0,
           0.10582010582010583,
           0,
           0.10582010582010583,
           0.10582010582010583,
           0,
           0
          ],
          [
           31.39763779527559,
           24.70472440944882,
           27.460629921259844,
           43.110236220472444,
           68.40551181102363,
           17.61811023622047,
           27.95275590551181,
           25.393700787401574,
           14.173228346456693,
           16.92913385826772,
           10.433070866141732,
           36.90944881889764,
           13.090551181102361,
           20.177165354330707,
           20.078740157480315,
           13.287401574803152,
           20.275590551181104,
           14.665354330708661,
           33.75984251968504,
           13.385826771653544,
           13.484251968503939,
           10.039370078740157,
           4.52755905511811,
           3.8385826771653546,
           42.2244094488189,
           13.287401574803152,
           7.283464566929133,
           6.200787401574804,
           11.811023622047244,
           6.594488188976378,
           27.06692913385827,
           6.003937007874016,
           8.661417322834646,
           5.118110236220472,
           13.779527559055119,
           7.677165354330709,
           29.822834645669293,
           8.858267716535433,
           7.283464566929133,
           27.85433070866142,
           6.299212598425196,
           35.72834645669291,
           9.350393700787402,
           3.2480314960629917,
           8.46456692913386,
           2.952755905511811,
           2.559055118110236,
           2.1653543307086616,
           3.6417322834645667,
           8.661417322834646,
           4.724409448818897,
           4.133858267716536,
           28.1496062992126,
           5.31496062992126,
           13.287401574803152,
           2.65748031496063,
           5.216535433070866,
           4.822834645669291,
           4.625984251968504,
           3.8385826771653546,
           11.909448818897637,
           3.543307086614173,
           24.21259842519685,
           3.740157480314961,
           2.4606299212598426,
           5.118110236220472,
           5.31496062992126,
           5.019685039370079,
           1.8700787401574805,
           9.645669291338582,
           1.7716535433070866,
           5.019685039370079,
           1.4763779527559056,
           17.421259842519685,
           1.1811023622047243,
           0.8858267716535433,
           16.633858267716537,
           2.3622047244094486,
           1.279527559055118,
           5.216535433070866,
           4.822834645669291,
           0.984251968503937,
           2.3622047244094486,
           2.1653543307086616,
           15.255905511811024,
           0.6889763779527559,
           5.807086614173229,
           12.106299212598424,
           1.4763779527559056,
           1.0826771653543308,
           4.23228346456693,
           1.8700787401574805,
           13.582677165354331,
           0.984251968503937,
           10.137795275590552,
           3.937007874015748,
           5.31496062992126,
           1.8700787401574805,
           4.724409448818897,
           1.968503937007874,
           9.251968503937007,
           4.52755905511811,
           0.6889763779527559,
           6.594488188976378,
           1.673228346456693,
           1.8700787401574805,
           1.7716535433070866,
           3.0511811023622046,
           8.661417322834646,
           1.574803149606299,
           1.3779527559055118,
           7.480314960629922,
           1.1811023622047243,
           3.937007874015748,
           2.65748031496063,
           1.8700787401574805,
           7.480314960629922,
           1.8700787401574805,
           7.677165354330709,
           10.334645669291339,
           0.7874015748031495,
           1.673228346456693,
           9.251968503937007,
           0.4921259842519685,
           0.984251968503937,
           6.692913385826772,
           1.7716535433070866,
           2.3622047244094486,
           3.346456692913386,
           0.2952755905511811,
           1.279527559055118,
           2.1653543307086616,
           1.0826771653543308,
           0.7874015748031495,
           1.279527559055118,
           1.574803149606299,
           3.2480314960629917,
           0.6889763779527559,
           0.984251968503937,
           0.984251968503937,
           1.673228346456693,
           0.6889763779527559,
           1.4763779527559056,
           1.3779527559055118,
           0.5905511811023622,
           0.5905511811023622,
           1.279527559055118,
           1.8700787401574805,
           0.7874015748031495,
           4.035433070866142,
           0.19685039370078738,
           2.4606299212598426,
           0.2952755905511811,
           1.4763779527559056,
           0.4921259842519685,
           0.6889763779527559,
           0.8858267716535433,
           0.2952755905511811,
           1.0826771653543308,
           1.0826771653543308,
           0.2952755905511811,
           0.2952755905511811,
           2.3622047244094486,
           0.39370078740157477,
           0.09842519685039369,
           2.3622047244094486,
           0.8858267716535433,
           0.4921259842519685,
           0.8858267716535433,
           3.0511811023622046,
           1.7716535433070866,
           1.0826771653543308,
           0.39370078740157477,
           3.0511811023622046,
           0.7874015748031495,
           0.6889763779527559,
           0.09842519685039369,
           0.5905511811023622,
           0.5905511811023622,
           0.7874015748031495,
           3.149606299212598,
           1.8700787401574805,
           0.09842519685039369,
           0.19685039370078738,
           0.39370078740157477,
           1.0826771653543308,
           1.7716535433070866,
           1.574803149606299,
           0.5905511811023622,
           0.8858267716535433,
           0.39370078740157477,
           0.09842519685039369,
           0.39370078740157477,
           0.984251968503937,
           0.2952755905511811,
           0.2952755905511811,
           0.39370078740157477,
           0.19685039370078738,
           0.8858267716535433,
           2.1653543307086616,
           0.6889763779527559,
           0.7874015748031495,
           0.19685039370078738,
           0.4921259842519685,
           0.4921259842519685,
           0.6889763779527559,
           0.19685039370078738,
           1.1811023622047243,
           0.5905511811023622,
           0.4921259842519685,
           1.1811023622047243,
           0.39370078740157477,
           0.09842519685039369,
           0.39370078740157477,
           0.09842519685039369,
           0.09842519685039369,
           0.09842519685039369,
           0.09842519685039369,
           0,
           0.2952755905511811,
           0,
           0.39370078740157477,
           0,
           0.39370078740157477,
           0.19685039370078738,
           0,
           0,
           0,
           0,
           0,
           0
          ],
          [
           28.516377649325626,
           27.64932562620424,
           19.26782273603083,
           32.177263969171484,
           79.86512524084779,
           13.48747591522158,
           14.932562620423893,
           17.726396917148364,
           9.05587668593449,
           16.088631984585742,
           6.6473988439306355,
           40.55876685934489,
           8.959537572254336,
           8.574181117533719,
           14.836223506743737,
           3.0828516377649327,
           21.38728323699422,
           5.491329479768786,
           41.52215799614643,
           4.624277456647398,
           13.005780346820808,
           7.610789980732177,
           2.8901734104046244,
           2.8901734104046244,
           37.861271676300575,
           2.7938342967244703,
           7.418111753371869,
           6.069364161849711,
           9.344894026974952,
           3.5645472061657033,
           30.2504816955684,
           1.5414258188824663,
           1.9267822736030826,
           3.371868978805395,
           5.780346820809249,
           2.697495183044316,
           29.96146435452794,
           5.105973025048169,
           6.165703275529865,
           43.35260115606936,
           4.527938342967245,
           52.312138728323696,
           3.7572254335260116,
           3.371868978805395,
           4.046242774566474,
           2.601156069364162,
           2.312138728323699,
           1.7341040462427744,
           1.5414258188824663,
           1.9267822736030826,
           1.8304431599229287,
           0.5780346820809248,
           26.49325626204239,
           2.023121387283237,
           15.79961464354528,
           2.5048169556840074,
           1.9267822736030826,
           1.348747591522158,
           4.142581888246628,
           7.129094412331407,
           14.354527938342967,
           2.697495183044316,
           24.277456647398843,
           3.8535645472061653,
           0.5780346820809248,
           5.973025048169557,
           4.238921001926782,
           0.674373795761079,
           3.6608863198458574,
           9.05587668593449,
           1.2524084778420037,
           1.0597302504816954,
           1.348747591522158,
           31.213872832369944,
           0.7707129094412332,
           1.2524084778420037,
           14.16184971098266,
           1.7341040462427744,
           2.5048169556840074,
           3.5645472061657033,
           3.0828516377649327,
           1.1560693641618496,
           1.2524084778420037,
           1.9267822736030826,
           25.529865125240846,
           1.348747591522158,
           7.89980732177264,
           18.689788053949904,
           1.348747591522158,
           0.674373795761079,
           2.119460500963391,
           0.1926782273603083,
           12.8131021194605,
           0.674373795761079,
           8.188824662813103,
           3.94990366088632,
           5.202312138728324,
           1.2524084778420037,
           2.9865125240847785,
           1.8304431599229287,
           4.335260115606936,
           7.610789980732177,
           0.1926782273603083,
           24.277456647398843,
           2.2157996146435455,
           0.7707129094412332,
           0.7707129094412332,
           2.4084778420038537,
           7.418111753371869,
           2.023121387283237,
           0.674373795761079,
           5.780346820809249,
           0.1926782273603083,
           2.697495183044316,
           2.601156069364162,
           2.119460500963391,
           5.5876685934489405,
           1.5414258188824663,
           3.275529865125241,
           17.4373795761079,
           0.8670520231213872,
           2.119460500963391,
           16.666666666666664,
           0.48169556840077066,
           0.7707129094412332,
           9.826589595375722,
           0.8670520231213872,
           1.0597302504816954,
           1.8304431599229287,
           0.2890173410404624,
           0.5780346820809248,
           2.119460500963391,
           0.7707129094412332,
           0.1926782273603083,
           1.7341040462427744,
           0.5780346820809248,
           1.1560693641618496,
           0.3853564547206166,
           1.5414258188824663,
           0.1926782273603083,
           1.348747591522158,
           0.1926782273603083,
           0.48169556840077066,
           0.9633911368015413,
           0.1926782273603083,
           0.3853564547206166,
           0.9633911368015413,
           2.5048169556840074,
           0.8670520231213872,
           4.8169556840077075,
           0.1926782273603083,
           11.657032755298651,
           0.1926782273603083,
           0.9633911368015413,
           0.09633911368015415,
           0.5780346820809248,
           0.48169556840077066,
           0.3853564547206166,
           2.7938342967244703,
           1.8304431599229287,
           0.09633911368015415,
           0,
           2.601156069364162,
           0.8670520231213872,
           0.3853564547206166,
           2.8901734104046244,
           1.0597302504816954,
           0.09633911368015415,
           2.4084778420038537,
           11.946050096339114,
           1.5414258188824663,
           0.09633911368015415,
           0.3853564547206166,
           2.312138728323699,
           0.5780346820809248,
           0.3853564547206166,
           0.2890173410404624,
           0.7707129094412332,
           0.2890173410404624,
           0.3853564547206166,
           7.418111753371869,
           1.1560693641618496,
           0.09633911368015415,
           0.3853564547206166,
           0.1926782273603083,
           0.1926782273603083,
           2.697495183044316,
           1.7341040462427744,
           0.09633911368015415,
           0.5780346820809248,
           0,
           0.09633911368015415,
           0.1926782273603083,
           0.674373795761079,
           0.1926782273603083,
           0.48169556840077066,
           0.09633911368015415,
           0.48169556840077066,
           0.1926782273603083,
           2.5048169556840074,
           0.674373795761079,
           1.2524084778420037,
           0.09633911368015415,
           0.8670520231213872,
           0.09633911368015415,
           0.09633911368015415,
           0,
           0.674373795761079,
           1.8304431599229287,
           0.3853564547206166,
           0.5780346820809248,
           0.1926782273603083,
           0.2890173410404624,
           0.2890173410404624,
           0.09633911368015415,
           0,
           0.09633911368015415,
           0,
           0.09633911368015415,
           0.3853564547206166,
           0,
           0.09633911368015415,
           0,
           0.2890173410404624,
           0.1926782273603083,
           0,
           0.09633911368015415,
           0.09633911368015415,
           0.09633911368015415,
           0.09633911368015415,
           0
          ],
          [
           21.13022113022113,
           18.83701883701884,
           51.02375102375102,
           44.799344799344794,
           93.03849303849304,
           10.319410319410318,
           46.109746109746105,
           35.79033579033579,
           7.207207207207207,
           24.324324324324326,
           8.026208026208026,
           30.057330057330056,
           7.125307125307126,
           7.0434070434070435,
           11.056511056511056,
           18.181818181818183,
           22.358722358722357,
           22.686322686322686,
           50.778050778050776,
           3.357903357903358,
           14.823914823914825,
           12.776412776412776,
           2.375102375102375,
           1.2285012285012284,
           14.086814086814087,
           12.285012285012286,
           2.211302211302211,
           3.5217035217035217,
           25.552825552825553,
           7.4529074529074535,
           13.595413595413595,
           0.9009009009009009,
           2.0475020475020473,
           1.638001638001638,
           3.8493038493038494,
           1.71990171990172,
           8.435708435708436,
           3.5217035217035217,
           4.586404586404586,
           74.03767403767404,
           2.7846027846027845,
           72.64537264537265,
           6.388206388206388,
           2.457002457002457,
           3.43980343980344,
           1.1466011466011465,
           1.0647010647010646,
           2.0475020475020473,
           0.7371007371007371,
           0.6552006552006553,
           8.681408681408682,
           5.978705978705979,
           7.698607698607699,
           0.9009009009009009,
           8.271908271908272,
           2.375102375102375,
           6.552006552006552,
           0.4095004095004095,
           4.504504504504505,
           2.9484029484029484,
           7.616707616707617,
           1.3923013923013923,
           4.832104832104831,
           1.9656019656019657,
           4.504504504504505,
           7.534807534807535,
           2.538902538902539,
           2.538902538902539,
           4.832104832104831,
           20.96642096642097,
           1.0647010647010646,
           4.586404586404586,
           1.1466011466011465,
           64.2915642915643,
           0.819000819000819,
           0.6552006552006553,
           2.7027027027027026,
           2.1294021294021293,
           1.556101556101556,
           17.280917280917283,
           1.71990171990172,
           0.5733005733005733,
           0.16380016380016382,
           1.4742014742014742,
           45.94594594594595,
           0.7371007371007371,
           4.013104013104013,
           40.62244062244062,
           1.8018018018018018,
           0.16380016380016382,
           2.0475020475020473,
           0.2457002457002457,
           24.488124488124487,
           1.556101556101556,
           3.276003276003276,
           1.3923013923013923,
           2.457002457002457,
           1.556101556101556,
           0.4914004914004914,
           13.104013104013104,
           0.9828009828009828,
           2.9484029484029484,
           0,
           26.044226044226043,
           0.819000819000819,
           0.7371007371007371,
           0.819000819000819,
           3.7674037674037675,
           1.2285012285012284,
           3.8493038493038494,
           0.08190008190008191,
           2.1294021294021293,
           1.638001638001638,
           1.3923013923013923,
           0.819000819000819,
           15.88861588861589,
           1.3923013923013923,
           0.4095004095004095,
           1.1466011466011465,
           5.651105651105651,
           1.1466011466011465,
           1.8837018837018837,
           15.561015561015562,
           0.16380016380016382,
           0.4095004095004095,
           29.484029484029485,
           1.0647010647010646,
           0.4095004095004095,
           1.1466011466011465,
           0.2457002457002457,
           9.336609336609335,
           0.4914004914004914,
           0.2457002457002457,
           0.4914004914004914,
           0.819000819000819,
           0.6552006552006553,
           1.3923013923013923,
           0.32760032760032765,
           0.9009009009009009,
           1.0647010647010646,
           0.4095004095004095,
           0.16380016380016382,
           1.2285012285012284,
           0.9828009828009828,
           0,
           0.4914004914004914,
           0.16380016380016382,
           0.4095004095004095,
           0.819000819000819,
           19.574119574119575,
           0.16380016380016382,
           14.16871416871417,
           0.16380016380016382,
           5.159705159705159,
           0.08190008190008191,
           0.16380016380016382,
           0.7371007371007371,
           0.7371007371007371,
           1.1466011466011465,
           2.9484029484029484,
           0.08190008190008191,
           0.2457002457002457,
           0.6552006552006553,
           0.16380016380016382,
           0.4095004095004095,
           1.0647010647010646,
           0.4095004095004095,
           0.08190008190008191,
           0.4914004914004914,
           3.8493038493038494,
           0.32760032760032765,
           1.3104013104013106,
           0.2457002457002457,
           0.16380016380016382,
           0.16380016380016382,
           0.16380016380016382,
           0.08190008190008191,
           0.4095004095004095,
           0.08190008190008191,
           0.4914004914004914,
           0.7371007371007371,
           0.4095004095004095,
           0.16380016380016382,
           0.08190008190008191,
           0.16380016380016382,
           0.08190008190008191,
           2.620802620802621,
           0.5733005733005733,
           0.2457002457002457,
           0.2457002457002457,
           0.08190008190008191,
           0.16380016380016382,
           0.2457002457002457,
           0.9828009828009828,
           0.08190008190008191,
           0,
           0.16380016380016382,
           0.2457002457002457,
           0,
           0.32760032760032765,
           0.2457002457002457,
           3.276003276003276,
           0.2457002457002457,
           2.620802620802621,
           0.08190008190008191,
           0.6552006552006553,
           0,
           1.1466011466011465,
           0.4095004095004095,
           0,
           0.2457002457002457,
           0.08190008190008191,
           0,
           0.08190008190008191,
           0.08190008190008191,
           0.08190008190008191,
           0.16380016380016382,
           0,
           0,
           0.16380016380016382,
           0,
           0,
           0,
           0,
           0,
           0,
           0,
           0,
           0,
           0,
           0
          ],
          [
           24.326059050064185,
           16.43132220795892,
           14.698331193838253,
           39.02439024390244,
           67.52246469833119,
           10.077021822849808,
           16.238767650834404,
           14.505776636713735,
           8.023106546854942,
           11.360718870346599,
           5.969191270860077,
           49.55070603337612,
           8.34403080872914,
           16.046213093709884,
           14.441591784338895,
           5.969191270860077,
           21.822849807445444,
           8.729139922978177,
           29.845956354300384,
           9.948652118100128,
           6.867779204107831,
           5.263157894736842,
           2.8241335044929397,
           1.6046213093709885,
           69.06290115532734,
           3.7227214377406934,
           4.7496790757381255,
           4.10783055198973,
           5.327342747111682,
           3.080872913992298,
           52.31065468549422,
           2.503209242618742,
           4.813863928112965,
           3.0166880616174585,
           11.296534017971759,
           6.867779204107831,
           75.03209242618742,
           3.3376123234916557,
           7.381258023106548,
           11.360718870346599,
           6.225930680359435,
           17.58664955070603,
           8.34403080872914,
           2.8883183568677793,
           8.34403080872914,
           2.1822849807445444,
           1.2836970474967908,
           0.8344030808729139,
           1.797175866495507,
           8.600770218228499,
           1.4762516046213094,
           1.0269576379974326,
           56.09756097560976,
           0.8985879332477535,
           20.282413350449293,
           1.6046213093709885,
           1.9255455712451863,
           0.7702182284980745,
           3.530166880616174,
           3.209242618741977,
           17.458279845956355,
           3.1450577663671373,
           52.695763799743254,
           4.557124518613607,
           1.2195121951219512,
           2.952503209242619,
           6.93196405648267,
           1.3478818998716302,
           1.3478818998716302,
           4.7496790757381255,
           0.5776636713735559,
           0.7702182284980745,
           2.3106546854942236,
           3.594351732991014,
           0.8344030808729139,
           0.5134788189987163,
           24.77535301668806,
           2.053915275994865,
           0.4492939666238768,
           0.9627727856225932,
           4.557124518613607,
           0.4492939666238768,
           0.8985879332477535,
           2.1822849807445444,
           3.915275994865212,
           0.5776636713735559,
           9.178433889602054,
           4.813863928112965,
           2.3748395378690628,
           0.38510911424903727,
           5.006418485237484,
           1.0269576379974326,
           9.114249037227214,
           1.0269576379974326,
           18.421052631578945,
           1.6046213093709885,
           6.611039794608472,
           1.3478818998716302,
           3.465982028241335,
           0.4492939666238768,
           11.360718870346599,
           7.894736842105263,
           0.12836970474967907,
           1.4762516046213094,
           0.9627727856225932,
           2.7599486521181,
           1.989730423620026,
           1.989730423620026,
           17.58664955070603,
           0.6418485237483954,
           0.25673940949935814,
           6.8035943517329915,
           0.4492939666238768,
           4.557124518613607,
           1.6688061617458279,
           0.4492939666238768,
           19.319640564826702,
           1.4120667522464698,
           19.383825417201543,
           9.82028241335045,
           1.0911424903722722,
           1.2195121951219512,
           4.3003851091142495,
           0.19255455712451863,
           0.5776636713735559,
           1.540436456996149,
           1.6046213093709885,
           1.4762516046213094,
           2.952503209242619,
           0.25673940949935814,
           0.19255455712451863,
           0.5134788189987163,
           1.3478818998716302,
           0.7702182284980745,
           1.1553273427471118,
           0.25673940949935814,
           2.631578947368421,
           0.3209242618741977,
           1.3478818998716302,
           0.25673940949935814,
           1.3478818998716302,
           0.5776636713735559,
           0.25673940949935814,
           0.7060333761232349,
           0.19255455712451863,
           0.38510911424903727,
           1.1553273427471118,
           1.6046213093709885,
           0.3209242618741977,
           0.4492939666238768,
           0.12836970474967907,
           0.25673940949935814,
           0.19255455712451863,
           0.25673940949935814,
           0.8344030808729139,
           0.19255455712451863,
           1.540436456996149,
           0.06418485237483953,
           1.2195121951219512,
           0.4492939666238768,
           0.19255455712451863,
           0,
           4.043645699614891,
           0.06418485237483953,
           0.3209242618741977,
           1.4762516046213094,
           0.7060333761232349,
           0.19255455712451863,
           0.5134788189987163,
           0.9627727856225932,
           5.58408215661104,
           0.06418485237483953,
           0.3209242618741977,
           5.006418485237484,
           0.6418485237483954,
           0.19255455712451863,
           0.25673940949935814,
           0.7060333761232349,
           0.25673940949935814,
           0.19255455712451863,
           0.7060333761232349,
           5.7766367137355585,
           0.25673940949935814,
           0.19255455712451863,
           0.12836970474967907,
           1.4120667522464698,
           0.19255455712451863,
           2.631578947368421,
           0,
           0.38510911424903727,
           0.19255455712451863,
           0.06418485237483953,
           0.19255455712451863,
           0.06418485237483953,
           0.12836970474967907,
           0.3209242618741977,
           0.19255455712451863,
           0,
           0.19255455712451863,
           0.5776636713735559,
           1.2195121951219512,
           0.06418485237483953,
           0,
           0,
           0.12836970474967907,
           0.12836970474967907,
           0,
           0.9627727856225932,
           0.5776636713735559,
           3.6585365853658534,
           1.0911424903722722,
           2.8241335044929397,
           0.25673940949935814,
           0.25673940949935814,
           0,
           0,
           0.12836970474967907,
           0,
           0.06418485237483953,
           0.12836970474967907,
           0,
           0.06418485237483953,
           0,
           0.4492939666238768,
           0,
           0.06418485237483953,
           0,
           0.06418485237483953,
           0,
           0,
           0
          ],
          [
           32.02797202797203,
           20.41958041958042,
           19.393939393939394,
           17.482517482517483,
           21.53846153846154,
           21.678321678321677,
           24.42890442890443,
           15.011655011655012,
           15.944055944055943,
           20.23310023310023,
           16.68997668997669,
           16.317016317016318,
           15.291375291375292,
           13.006993006993007,
           42.004662004662,
           6.993006993006993,
           44.988344988344984,
           10.955710955710956,
           8.484848484848486,
           7.4125874125874125,
           31.23543123543124,
           11.794871794871794,
           9.976689976689977,
           4.0093240093240095,
           11.655011655011654,
           2.331002331002331,
           7.599067599067599,
           4.102564102564102,
           18.601398601398603,
           2.331002331002331,
           5.687645687645688,
           3.2167832167832167,
           5.268065268065268,
           4.2890442890442895,
           4.988344988344989,
           4.1491841491841495,
           8.997668997668997,
           11.328671328671328,
           3.4032634032634035,
           2.937062937062937,
           44.66200466200466,
           3.0303030303030303,
           2.5174825174825175,
           2.470862470862471,
           3.4032634032634035,
           4.848484848484849,
           1.6783216783216783,
           4.382284382284382,
           2.937062937062937,
           2.3776223776223775,
           1.5850815850815851,
           0.9324009324009324,
           6.0606060606060606,
           3.31002331002331,
           3.1235431235431235,
           46.43356643356643,
           2.051282051282051,
           2.4242424242424243,
           4.522144522144522,
           5.594405594405594,
           2.937062937062937,
           3.5897435897435894,
           1.4452214452214454,
           48.904428904428904,
           1.6783216783216783,
           2.564102564102564,
           0.8857808857808859,
           0.6060606060606061,
           6.526806526806526,
           1.5850815850815851,
           1.4452214452214454,
           0.4195804195804196,
           5.641025641025641,
           1.118881118881119,
           2.470862470862471,
           2.470862470862471,
           8.438228438228439,
           27.365967365967364,
           2.6573426573426575,
           1.2587412587412588,
           2.191142191142191,
           12.307692307692308,
           1.7715617715617717,
           26.340326340326342,
           1.5384615384615385,
           1.5384615384615385,
           1.8648018648018647,
           2.6107226107226107,
           40.60606060606061,
           0.6993006993006993,
           1.3986013986013985,
           0.6993006993006993,
           2.797202797202797,
           15.151515151515152,
           1.2121212121212122,
           5.081585081585081,
           0.9324009324009324,
           16.736596736596738,
           0.7925407925407926,
           2.4242424242424243,
           0.5594405594405595,
           1.118881118881119,
           1.3053613053613053,
           0.4662004662004662,
           0.9324009324009324,
           0.6993006993006993,
           6.340326340326341,
           0.5128205128205128,
           1.724941724941725,
           0.32634032634032634,
           0.4195804195804196,
           2.7505827505827507,
           0.32634032634032634,
           0.7925407925407926,
           0.8857808857808859,
           0.09324009324009325,
           1.0722610722610724,
           0.8391608391608392,
           0.9324009324009324,
           1.3986013986013985,
           26.107226107226104,
           0.745920745920746,
           0.2331002331002331,
           0.1864801864801865,
           0.4195804195804196,
           0.9324009324009324,
           1.0722610722610724,
           0.8391608391608392,
           0.6060606060606061,
           0.4662004662004662,
           0.5128205128205128,
           0.5128205128205128,
           19.673659673659674,
           5.407925407925409,
           0.6993006993006993,
           0.1864801864801865,
           0.32634032634032634,
           0.27972027972027974,
           1.5384615384615385,
           0.2331002331002331,
           1.2121212121212122,
           2.470862470862471,
           0.27972027972027974,
           0.32634032634032634,
           1.5384615384615385,
           0.6993006993006993,
           0.13986013986013987,
           0.32634032634032634,
           0.2331002331002331,
           0.372960372960373,
           1.2121212121212122,
           0.046620046620046623,
           0.5128205128205128,
           0.13986013986013987,
           13.37995337995338,
           2.1445221445221447,
           0.27972027972027974,
           0.13986013986013987,
           0.5128205128205128,
           0.09324009324009325,
           0.6060606060606061,
           0.13986013986013987,
           0.27972027972027974,
           0.32634032634032634,
           0.372960372960373,
           0.27972027972027974,
           1.0722610722610724,
           0.9790209790209791,
           0.046620046620046623,
           0.1864801864801865,
           0.27972027972027974,
           0.13986013986013987,
           0.2331002331002331,
           0.1864801864801865,
           0,
           0.5128205128205128,
           5.034965034965035,
           0.32634032634032634,
           0.09324009324009325,
           0.046620046620046623,
           0.13986013986013987,
           0.046620046620046623,
           0.046620046620046623,
           0.13986013986013987,
           0.13986013986013987,
           0,
           0.1864801864801865,
           0.09324009324009325,
           0.046620046620046623,
           0.5128205128205128,
           0.09324009324009325,
           0.13986013986013987,
           0.1864801864801865,
           0.2331002331002331,
           0.1864801864801865,
           0.1864801864801865,
           0.6060606060606061,
           0.09324009324009325,
           0.13986013986013987,
           0.1864801864801865,
           0.046620046620046623,
           0,
           0,
           0.09324009324009325,
           0.046620046620046623,
           0,
           0,
           0,
           0.13986013986013987,
           0,
           0,
           0,
           0.046620046620046623,
           0.6526806526806527,
           0,
           0.046620046620046623,
           0.046620046620046623,
           0.046620046620046623,
           0.27972027972027974,
           0.1864801864801865,
           0,
           0,
           0.09324009324009325,
           0,
           0.046620046620046623,
           0,
           0.046620046620046623,
           0,
           0.09324009324009325,
           0,
           0
          ],
          [
           35.43233082706767,
           29.51127819548872,
           46.14661654135339,
           21.8671679197995,
           32.581453634085214,
           15.037593984962406,
           17.105263157894736,
           18.577694235588975,
           13.909774436090224,
           22.681704260651628,
           9.586466165413533,
           19.9874686716792,
           10.996240601503759,
           44.83082706766917,
           20.457393483709275,
           39.56766917293233,
           28.50877192982456,
           21.67919799498747,
           11.74812030075188,
           31.57894736842105,
           5.263157894736842,
           6.641604010025063,
           3.101503759398496,
           3.3834586466165413,
           33.959899749373434,
           4.385964912280701,
           9.398496240601503,
           11.152882205513784,
           6.359649122807018,
           3.007518796992481,
           12.781954887218044,
           16.63533834586466,
           20.833333333333336,
           7.1115288220551385,
           29.91854636591479,
           31.76691729323308,
           19.423558897243108,
           8.709273182957393,
           9.523809523809524,
           5.607769423558897,
           6.704260651629072,
           6.516290726817042,
           15.100250626566417,
           4.291979949874687,
           4.417293233082707,
           2.913533834586466,
           1.6917293233082706,
           1.6917293233082706,
           13.157894736842104,
           25.031328320802004,
           2.6942355889724308,
           1.6917293233082706,
           17.293233082706767,
           4.6992481203007515,
           7.424812030075188,
           2.506265664160401,
           13.37719298245614,
           5.357142857142857,
           3.289473684210526,
           6.171679197994987,
           6.046365914786967,
           2.537593984962406,
           11.403508771929824,
           3.508771929824561,
           1.3471177944862154,
           2.788220551378446,
           2.944862155388471,
           3.101503759398496,
           1.8483709273182956,
           2.882205513784461,
           1.7230576441102756,
           1.9110275689223057,
           1.7857142857142856,
           1.8796992481203008,
           0.8771929824561403,
           1.2844611528822054,
           8.86591478696742,
           2.600250626566416,
           1.1904761904761905,
           0.9398496240601504,
           4.605263157894736,
           0.6892230576441103,
           2.224310776942356,
           2.1303258145363406,
           1.8796992481203008,
           0.8458646616541353,
           2.6942355889724308,
           2.0676691729323307,
           2.819548872180451,
           0.6578947368421052,
           5.889724310776942,
           6.140350877192982,
           3.7593984962406015,
           0.9711779448621554,
           9.429824561403509,
           3.5401002506265664,
           2.756892230576441,
           1.2218045112781954,
           22.399749373433583,
           0.6578947368421052,
           11.936090225563909,
           2.443609022556391,
           0.5325814536340852,
           1.3157894736842104,
           1.3784461152882206,
           8.17669172932331,
           2.1303258145363406,
           7.769423558897243,
           4.479949874686716,
           0.7205513784461153,
           1.7543859649122806,
           5.3884711779448615,
           1.1591478696741855,
           1.4097744360902256,
           1.6290726817042605,
           0.5639097744360901,
           5.3884711779448615,
           2.380952380952381,
           5.639097744360902,
           2.098997493734336,
           1.5037593984962405,
           7.142857142857142,
           2.3496240601503757,
           0.5012531328320802,
           0.2506265664160401,
           0.6265664160401002,
           1.2218045112781954,
           3.414786967418546,
           2.161654135338346,
           0.2506265664160401,
           0.4072681704260651,
           1.3471177944862154,
           2.0050125313283207,
           4.260651629072681,
           1.0025062656641603,
           0.9085213032581453,
           0.6578947368421052,
           0.21929824561403508,
           1.5977443609022555,
           0.4072681704260651,
           1.5664160401002505,
           3.289473684210526,
           2.2556390977443606,
           1.9423558897243107,
           0.37593984962406013,
           0.3132832080200501,
           8.583959899749374,
           0.5952380952380952,
           0.37593984962406013,
           0.34461152882205515,
           0.28195488721804507,
           0.15664160401002505,
           0.3132832080200501,
           0.34461152882205515,
           0.3132832080200501,
           0.4072681704260651,
           0.7518796992481203,
           0.37593984962406013,
           0.5325814536340852,
           0.37593984962406013,
           0.7205513784461153,
           0.12531328320802004,
           2.2556390977443606,
           0.5952380952380952,
           0.03132832080200501,
           0.8145363408521302,
           0.7205513784461153,
           0.09398496240601503,
           0.5325814536340852,
           0.3132832080200501,
           2.600250626566416,
           0.21929824561403508,
           0.2506265664160401,
           1.9423558897243107,
           0.12531328320802004,
           0.03132832080200501,
           0.4072681704260651,
           0.5952380952380952,
           0.18796992481203006,
           1.0025062656641603,
           1.1591478696741855,
           1.1904761904761905,
           0.3132832080200501,
           0.06265664160401002,
           1.0025062656641603,
           3.6027568922305764,
           0.28195488721804507,
           1.0964912280701753,
           0.06265664160401002,
           0.18796992481203006,
           0.2506265664160401,
           0.3132832080200501,
           0.12531328320802004,
           0.4072681704260651,
           0.09398496240601503,
           0.09398496240601503,
           0.2506265664160401,
           0.15664160401002505,
           1.2531328320802004,
           0.2506265664160401,
           0.5012531328320802,
           0.09398496240601503,
           0.18796992481203006,
           0.15664160401002505,
           0.21929824561403508,
           0.09398496240601503,
           0.12531328320802004,
           0.6265664160401002,
           0.28195488721804507,
           0.4072681704260651,
           1.0338345864661653,
           0.6578947368421052,
           0.7205513784461153,
           0.5952380952380952,
           0,
           0.06265664160401002,
           0.12531328320802004,
           0,
           0.18796992481203006,
           0.12531328320802004,
           0.09398496240601503,
           0.03132832080200501,
           0.03132832080200501,
           0.15664160401002505,
           0.09398496240601503,
           0,
           0.09398496240601503,
           0.06265664160401002,
           0.03132832080200501,
           0,
           0.03132832080200501
          ],
          [
           91.57688540646424,
           78.01175318315377,
           18.952007835455436,
           32.98237022526934,
           15.40156709108717,
           69.4662095984329,
           30.950048971596473,
           23.35945151811949,
           70.12732615083252,
           25.269343780607244,
           64.81390793339862,
           14.177277179236041,
           47.7228207639569,
           11.33692458374143,
           11.557296767874632,
           7.590597453476983,
           9.916748285994123,
           12.267384916748286,
           6.194906953966699,
           6.096963761018609,
           20.004897159647406,
           20.127326150832516,
           40.74436826640549,
           46.86581782566112,
           5.068560235063663,
           5.778648383937316,
           15.915768854064643,
           16.87071498530852,
           10.798237022526934,
           4.382957884427032,
           3.354554358472086,
           4.015670910871695,
           3.7463271302644463,
           23.23702252693438,
           4.260528893241919,
           3.5014691478942215,
           3.4524975514201763,
           4.603330068560235,
           6.8560235063663075,
           2.0078354554358473,
           5.435847208619001,
           1.7384916748285992,
           4.676787463271303,
           19.637610186092065,
           3.085210577864838,
           19.39275220372184,
           28.99118511263467,
           29.480901077375123,
           3.942213516160627,
           1.5670910871694417,
           2.9872673849167484,
           2.056807051909892,
           1.346718903036239,
           2.4485798237022527,
           3.574926542605289,
           16.552399608227226,
           2.0078354554358473,
           1.346718903036239,
           7.737512242899118,
           13.3692458374143,
           2.8648383937316355,
           9.280117531831538,
           0.832517140058766,
           3.207639569049951,
           2.840352595494613,
           3.4769833496571985,
           1.4691478942213516,
           1.1508325171400589,
           9.231145935357493,
           1.9833496571988247,
           4.333986287952987,
           0.4897159647404506,
           3.085210577864838,
           0.6121449559255632,
           17.70323212536729,
           3.819784524975514,
           0.7590597453476984,
           4.4564152791381,
           14.61802154750245,
           1.1753183153770812,
           2.9382957884427032,
           9.10871694417238,
           7.149853085210578,
           3.6483839373163565,
           0.4897159647404506,
           2.2526934378060726,
           1.346718903036239,
           0.9059745347698335,
           2.277179236043095,
           11.53281096963761,
           1.1753183153770812,
           0.8570029382957884,
           0.6611165523996082,
           5.705190989226249,
           0.5876591576885406,
           3.060724779627816,
           2.1302644466209597,
           6.68462291870715,
           0.8080313418217433,
           0.8080313418217433,
           0.3917727717923604,
           1.346718903036239,
           5.264446620959843,
           0.5631733594515181,
           5.950048971596474,
           1.028403525954946,
           0.8570029382957884,
           0.6856023506366308,
           0.6856023506366308,
           0.3917727717923604,
           0.5876591576885406,
           1.444662095984329,
           0.9059745347698335,
           0.6366307541625857,
           1.1753183153770812,
           0.2448579823702253,
           0.12242899118511265,
           4.578844270323213,
           0.416258570029383,
           0.7590597453476984,
           1.6405484818805094,
           0.7100881488736532,
           0.31831537708129287,
           1.0528893241919686,
           0.7345739471106758,
           0.22037218413320275,
           1.3222331047992164,
           0.7345739471106758,
           0.465230166503428,
           7.100881488736532,
           0.2448579823702253,
           1.346718903036239,
           0.881488736532811,
           0.5876591576885406,
           1.2242899118511263,
           0.6611165523996082,
           0.1958863858961802,
           0.465230166503428,
           1.2732615083251715,
           0.3917727717923604,
           1.0528893241919686,
           0.3428011753183154,
           0.3428011753183154,
           0.3917727717923604,
           3.550440744368266,
           1.1263467189030363,
           0.31831537708129287,
           0.6121449559255632,
           0.3917727717923604,
           0.1958863858961802,
           3.4524975514201763,
           0.024485798237022526,
           4.3095004897159646,
           0.0979431929480901,
           0.14691478942213515,
           2.105778648383937,
           0.7345739471106758,
           0.4407443682664055,
           0.4897159647404506,
           0.3917727717923604,
           0.5876591576885406,
           0.9549461312438785,
           0.31831537708129287,
           1.297747306562194,
           1.542605288932419,
           0.2938295788442703,
           0.832517140058766,
           2.1547502448579823,
           0.22037218413320275,
           0.07345739471106758,
           0.12242899118511265,
           0.1958863858961802,
           1.3712047012732616,
           0.024485798237022526,
           0.0979431929480901,
           0.7590597453476984,
           0.0979431929480901,
           1.0773751224289911,
           0.07345739471106758,
           0.1958863858961802,
           0.024485798237022526,
           0,
           0.22037218413320275,
           2.42409402546523,
           0.2448579823702253,
           0.04897159647404505,
           0.024485798237022526,
           0.14691478942213515,
           0.07345739471106758,
           0.416258570029383,
           0.07345739471106758,
           0.1714005876591577,
           0.14691478942213515,
           0.2448579823702253,
           1.2242899118511263,
           0.1958863858961802,
           0.14691478942213515,
           0.5386875612144956,
           0.07345739471106758,
           0.0979431929480901,
           0.2448579823702253,
           0.024485798237022526,
           1.5181194906953968,
           0.5876591576885406,
           0.024485798237022526,
           0,
           0.07345739471106758,
           0,
           0.22037218413320275,
           0.04897159647404505,
           0.04897159647404505,
           0,
           0.07345739471106758,
           0.14691478942213515,
           0.04897159647404505,
           0.5386875612144956,
           0.1958863858961802,
           0.514201762977473,
           0.4897159647404506,
           0,
           0.04897159647404505,
           0.07345739471106758,
           0.024485798237022526,
           0.04897159647404505,
           0.04897159647404505,
           0.07345739471106758,
           0,
           0,
           0.024485798237022526,
           0,
           0
          ],
          [
           42.82848545636911,
           27.40950123096562,
           48.62770128567521,
           58.97693079237713,
           39.19029816722896,
           29.21491747971186,
           48.64593781344032,
           49.63071031275645,
           23.579830400291783,
           31.00209720069299,
           17.215282210267166,
           29.059906993708395,
           17.31558311297529,
           21.692349776602533,
           34.32114525394365,
           19.32160116713778,
           16.44022978024984,
           18.94775234795295,
           19.33983769490289,
           17.56177623780432,
           19.668095194674933,
           18.282119084526304,
           10.923680131303,
           6.464849092732744,
           11.789915200145892,
           26.99917935625057,
           12.52849457463299,
           9.446521382328804,
           16.558767210723076,
           24.892860399379956,
           16.905261238260234,
           13.823288045956051,
           12.710859852284125,
           7.6775781891127926,
           9.902434576456642,
           10.139509437403118,
           8.498221938542901,
           20.46138415245737,
           11.188109783897145,
           8.087900063827847,
           14.124190754080423,
           7.331084161575636,
           7.814352147351144,
           6.975471870155922,
           17.65295887662989,
           6.537795203793198,
           3.711133400200602,
           4.121455274915656,
           8.179082702653414,
           8.443512355247561,
           15.747241725175526,
           13.640922768304915,
           6.574268259323425,
           17.415884015683414,
           10.449530409410048,
           3.7931977751436126,
           8.817361174432389,
           15.692532141880186,
           7.604632078052338,
           4.039390899972646,
           9.008844715966081,
           7.166955411689615,
           5.607732287772408,
           8.315856660891766,
           11.28841068660527,
           7.951126105589496,
           7.148718883924501,
           12.182000547095832,
           5.5439044405945115,
           6.6380961065013215,
           6.546913467675755,
           13.23060089358986,
           7.002826661803592,
           2.3433938178170877,
           2.0789641652229416,
           4.978572079875992,
           3.464940275371569,
           2.507522567703109,
           2.1701468040485095,
           6.355429926142063,
           3.8114343029087263,
           1.5409865961520928,
           2.5713504148810067,
           1.8965988875718063,
           1.9421902069845902,
           5.379775690708489,
           3.8296708306738396,
           1.878362359806693,
           1.2400838880277196,
           1.9239536792194767,
           2.8175435397100395,
           2.708124373119358,
           1.9330719431020333,
           1.6230509710951035,
           1.6959970821555574,
           2.0424911096927145,
           3.072854928421629,
           1.3677395823835143,
           0.9574177076684599,
           4.47706756633537,
           1.7233518738032276,
           3.173155831129753,
           2.699006109236801,
           1.0030090270812437,
           1.531868332269536,
           1.4224491656788547,
           3.619950761375034,
           1.030363818728914,
           1.2583204157928332,
           5.4618400656515,
           5.306829579648035,
           1.139782985319595,
           3.4922950670192394,
           2.972554025713504,
           2.525759095468223,
           2.7810704841798124,
           1.7233518738032276,
           1.0486003464940277,
           2.051609373575271,
           0.765934166134768,
           0.6018054162487462,
           0.8571168049603355,
           0.9847724993161302,
           3.3372845810157745,
           3.455822011489013,
           0.7568159022522112,
           1.9513084708671469,
           2.2704477067566335,
           1.8510075681590226,
           0.7932889577824382,
           2.1701468040485095,
           1.3495030546184006,
           0.419440138597611,
           0.7568159022522112,
           1.5592231239172063,
           2.3433938178170877,
           2.0060180541624875,
           2.644296525941461,
           1.1671377769672653,
           3.182274095012309,
           0.7021063189568706,
           0.802407221664995,
           1.4042126379137412,
           1.2036108324974923,
           0.419440138597611,
           1.5045135406218655,
           0.44679493024528133,
           1.7689431932160118,
           1.7233518738032276,
           0.48326798577550834,
           0.34649402753715697,
           0.13677395823835142,
           0.41032187471505427,
           1.1762560408498222,
           0.6565149995440868,
           0.2553113887115893,
           0.7932889577824382,
           1.4498039573265251,
           1.2036108324974923,
           1.0486003464940277,
           0.8662350688428923,
           0.8571168049603355,
           0.6018054162487462,
           0.7021063189568706,
           0.6838697911917572,
           0.802407221664995,
           0.7021063189568706,
           0.27354791647670285,
           0.8479985410777787,
           0.3100209720069299,
           0.39208534694994074,
           1.6139327072125467,
           0.44679493024528133,
           0.5106227774231786,
           1.486277012856752,
           0.5653323607185192,
           1.0394820826114708,
           0.44679493024528133,
           1.568341387799763,
           0.765934166134768,
           0.17324701376857848,
           0.39208534694994074,
           0.5470958329534057,
           0.14589222212090816,
           0.4012036108324975,
           0.24619312482903255,
           0.7112245828394274,
           0.3738488191848272,
           0.6929880550743139,
           0.6291602078964166,
           0.610923680131303,
           1.0212455548463573,
           0.8206437494301085,
           0.5379775690708489,
           0.15501048600346495,
           0.5197410413057354,
           0.7750524300173247,
           0.44679493024528133,
           0.3100209720069299,
           0.44679493024528133,
           0.36473055530227044,
           0.3282574997720434,
           0.06382784717789733,
           0.08206437494301085,
           0.33737576365460015,
           0.5835688884836326,
           0.765934166134768,
           0.21883833318136225,
           0.2826661803592596,
           0.2553113887115893,
           0.2644296525941461,
           0.1641287498860217,
           0.22795659706391905,
           0.10941916659068113,
           0.3282574997720434,
           0.09118263882556761,
           0.18236527765113522,
           0.027354791647670282,
           0.054709583295340564,
           0.12765569435579466,
           0.17324701376857848,
           0.12765569435579466,
           0.14589222212090816,
           0.03647305553022704,
           0.03647305553022704,
           0.027354791647670282,
           0.00911826388255676,
           0.00911826388255676,
           0.00911826388255676,
           0,
           0
          ],
          [
           81.4776808619805,
           66.89470383672538,
           56.11424662219942,
           46.06350835186135,
           29.827261843680517,
           56.33658286300667,
           38.82332820249701,
           40.69323299697851,
           52.29462402371586,
           35.23744370332364,
           41.514166809189895,
           23.202782053474717,
           38.458468730403055,
           32.09623168576478,
           23.282595062995266,
           28.92081409269711,
           18.573627501282708,
           22.64979191608232,
           13.995781312353914,
           24.075024228949317,
           17.621572316287555,
           19.103813921669232,
           22.752408642608746,
           25.511658400319252,
           8.545692947950515,
           12.735875947779487,
           20.86540106037284,
           23.41371643577903,
           13.283165155920415,
           16.076620489139728,
           8.118123254090417,
           20.477737871273018,
           18.049142010147655,
           20.175588620945213,
           14.565874237500712,
           16.772133857818826,
           6.1798073085913,
           11.16812040362579,
           13.750641354540791,
           5.267658628356422,
           8.585599452710792,
           4.737472207969899,
           11.99475514508865,
           16.088022347642667,
           7.707656347984722,
           15.574938715010548,
           15.335499686448891,
           13.83615529331281,
           15.004845789863747,
           11.293540847158088,
           8.67111339148281,
           7.319993158884898,
           3.374950116869049,
           9.26971096288695,
           6.476255629667636,
           8.796533835015108,
           8.044011173821334,
           7.679151701727381,
           9.588963000969159,
           9.526252779203011,
           5.501396727666609,
           9.18419702411493,
           2.622427455675275,
           4.942705661022747,
           6.69289094122342,
           6.715694658229292,
           4.691864773958155,
           6.214012884100108,
           7.958497235049313,
           4.851490792999258,
           8.842141269026852,
           3.802519810729149,
           6.618778860954336,
           1.8414001482241606,
           7.291488512627558,
           7.872983296277293,
           1.4252323128669973,
           4.800182429736047,
           5.911863633772304,
           3.2495296733367542,
           4.463827603899436,
           5.957471067784049,
           6.299526822872129,
           4.235790433840716,
           1.5278490393934212,
           5.837751553503221,
           3.192520380822074,
           1.6931759876859929,
           2.2518670543298556,
           5.290462345362294,
           2.9530813522604187,
           5.393079071888717,
           1.3967276666096575,
           3.813921669232085,
           1.3910267373581893,
           2.9017729889972066,
           2.645231172681147,
           3.272333390342626,
           2.24046519582692,
           1.8984094407388403,
           1.4879425346331452,
           2.2860726298386638,
           4.7089675617125595,
           1.07747562852745,
           4.25289322159512,
           3.711304942705661,
           2.046633601277008,
           2.120745681546092,
           1.1059802747847898,
           1.3397183740949776,
           2.599623738669403,
           1.4480360298728692,
           3.11840830055299,
           1.7615871387036086,
           2.628128384926743,
           0.8038310244569864,
           0.7411208026908386,
           3.238127814833818,
           0.6385040761644147,
           0.8893449632290064,
           1.2884100108317655,
           2.058035459779944,
           0.6214012884100107,
           2.7763525454649107,
           2.4628014366341713,
           0.5529901373923949,
           2.26896984208426,
           2.046633601277008,
           1.4081295251125934,
           2.576820021663531,
           1.0546719115215781,
           2.4571005073827035,
           0.7069152271820307,
           2.0694373182828802,
           1.7900917849609486,
           1.4480360298728692,
           1.1857932843053416,
           2.0808391767858163,
           1.3226155863405735,
           0.8893449632290064,
           1.060372840773046,
           1.7501852802006728,
           1.2599053645744256,
           0.9463542557436863,
           1.9611196625049885,
           1.6760731999315888,
           0.9577561142466221,
           0.8722421754746024,
           1.539250897896357,
           0.501681774129183,
           1.7729889972065447,
           0.17672880679550768,
           1.3226155863405735,
           0.30214925032780343,
           0.3078501795792714,
           1.505045322387549,
           1.094578416281854,
           1.07747562852745,
           0.7069152271820307,
           0.8152328829599225,
           1.3967276666096575,
           1.5221481101419532,
           0.4503734108659711,
           1.2028960720597457,
           1.2371016475685537,
           0.547289208140927,
           0.7696254489481785,
           1.2941109400832336,
           0.5244854911350549,
           0.18813066529844363,
           0.2964483210763354,
           0.3648594720939513,
           0.9805598312524942,
           0.1653269482925717,
           0.5700929251467989,
           0.5814947836497348,
           0.34205575508807934,
           0.7297189441879026,
           0.530186420386523,
           0.7012142979305627,
           0.2166353115557836,
           0.2052334530528476,
           0.3933641183512912,
           0.7582235904452426,
           0.7183170856849667,
           0.33635482583661136,
           0.3933641183512912,
           0.24513995781312356,
           0.47887805712331105,
           0.47317712787184313,
           0.33635482583661136,
           0.4275696938600992,
           0.40476597685422727,
           0.35345761359101535,
           0.6841115101761587,
           0.501681774129183,
           0.27934553332193146,
           0.5643919958953308,
           0.34205575508807934,
           0.2052334530528476,
           0.2052334530528476,
           0.12542044353229576,
           0.47887805712331105,
           0.22803717005871957,
           0.30214925032780343,
           0.1653269482925717,
           0.2679436748189955,
           0.09691579727495582,
           0.13682230203523174,
           0.045607434011743914,
           0.12542044353229576,
           0.05700929251467989,
           0.23373809931018755,
           0.19953252380137962,
           0.3306538965851434,
           0.2907473918248674,
           0.2052334530528476,
           0.28504646257339944,
           0.1653269482925717,
           0.13682230203523174,
           0.2052334530528476,
           0.06841115101761587,
           0.0513083632632119,
           0.017102787754403968,
           0.03990650476027592,
           0,
           0.017102787754403968,
           0.005700929251467989,
           0.011401858502935978,
           0,
           0.005700929251467989
          ]
         ]
        }
       ],
       "layout": {
        "height": 1000,
        "template": {
         "data": {
          "bar": [
           {
            "error_x": {
             "color": "#2a3f5f"
            },
            "error_y": {
             "color": "#2a3f5f"
            },
            "marker": {
             "line": {
              "color": "#E5ECF6",
              "width": 0.5
             },
             "pattern": {
              "fillmode": "overlay",
              "size": 10,
              "solidity": 0.2
             }
            },
            "type": "bar"
           }
          ],
          "barpolar": [
           {
            "marker": {
             "line": {
              "color": "#E5ECF6",
              "width": 0.5
             },
             "pattern": {
              "fillmode": "overlay",
              "size": 10,
              "solidity": 0.2
             }
            },
            "type": "barpolar"
           }
          ],
          "carpet": [
           {
            "aaxis": {
             "endlinecolor": "#2a3f5f",
             "gridcolor": "white",
             "linecolor": "white",
             "minorgridcolor": "white",
             "startlinecolor": "#2a3f5f"
            },
            "baxis": {
             "endlinecolor": "#2a3f5f",
             "gridcolor": "white",
             "linecolor": "white",
             "minorgridcolor": "white",
             "startlinecolor": "#2a3f5f"
            },
            "type": "carpet"
           }
          ],
          "choropleth": [
           {
            "colorbar": {
             "outlinewidth": 0,
             "ticks": ""
            },
            "type": "choropleth"
           }
          ],
          "contour": [
           {
            "colorbar": {
             "outlinewidth": 0,
             "ticks": ""
            },
            "colorscale": [
             [
              0,
              "#0d0887"
             ],
             [
              0.1111111111111111,
              "#46039f"
             ],
             [
              0.2222222222222222,
              "#7201a8"
             ],
             [
              0.3333333333333333,
              "#9c179e"
             ],
             [
              0.4444444444444444,
              "#bd3786"
             ],
             [
              0.5555555555555556,
              "#d8576b"
             ],
             [
              0.6666666666666666,
              "#ed7953"
             ],
             [
              0.7777777777777778,
              "#fb9f3a"
             ],
             [
              0.8888888888888888,
              "#fdca26"
             ],
             [
              1,
              "#f0f921"
             ]
            ],
            "type": "contour"
           }
          ],
          "contourcarpet": [
           {
            "colorbar": {
             "outlinewidth": 0,
             "ticks": ""
            },
            "type": "contourcarpet"
           }
          ],
          "heatmap": [
           {
            "colorbar": {
             "outlinewidth": 0,
             "ticks": ""
            },
            "colorscale": [
             [
              0,
              "#0d0887"
             ],
             [
              0.1111111111111111,
              "#46039f"
             ],
             [
              0.2222222222222222,
              "#7201a8"
             ],
             [
              0.3333333333333333,
              "#9c179e"
             ],
             [
              0.4444444444444444,
              "#bd3786"
             ],
             [
              0.5555555555555556,
              "#d8576b"
             ],
             [
              0.6666666666666666,
              "#ed7953"
             ],
             [
              0.7777777777777778,
              "#fb9f3a"
             ],
             [
              0.8888888888888888,
              "#fdca26"
             ],
             [
              1,
              "#f0f921"
             ]
            ],
            "type": "heatmap"
           }
          ],
          "heatmapgl": [
           {
            "colorbar": {
             "outlinewidth": 0,
             "ticks": ""
            },
            "colorscale": [
             [
              0,
              "#0d0887"
             ],
             [
              0.1111111111111111,
              "#46039f"
             ],
             [
              0.2222222222222222,
              "#7201a8"
             ],
             [
              0.3333333333333333,
              "#9c179e"
             ],
             [
              0.4444444444444444,
              "#bd3786"
             ],
             [
              0.5555555555555556,
              "#d8576b"
             ],
             [
              0.6666666666666666,
              "#ed7953"
             ],
             [
              0.7777777777777778,
              "#fb9f3a"
             ],
             [
              0.8888888888888888,
              "#fdca26"
             ],
             [
              1,
              "#f0f921"
             ]
            ],
            "type": "heatmapgl"
           }
          ],
          "histogram": [
           {
            "marker": {
             "pattern": {
              "fillmode": "overlay",
              "size": 10,
              "solidity": 0.2
             }
            },
            "type": "histogram"
           }
          ],
          "histogram2d": [
           {
            "colorbar": {
             "outlinewidth": 0,
             "ticks": ""
            },
            "colorscale": [
             [
              0,
              "#0d0887"
             ],
             [
              0.1111111111111111,
              "#46039f"
             ],
             [
              0.2222222222222222,
              "#7201a8"
             ],
             [
              0.3333333333333333,
              "#9c179e"
             ],
             [
              0.4444444444444444,
              "#bd3786"
             ],
             [
              0.5555555555555556,
              "#d8576b"
             ],
             [
              0.6666666666666666,
              "#ed7953"
             ],
             [
              0.7777777777777778,
              "#fb9f3a"
             ],
             [
              0.8888888888888888,
              "#fdca26"
             ],
             [
              1,
              "#f0f921"
             ]
            ],
            "type": "histogram2d"
           }
          ],
          "histogram2dcontour": [
           {
            "colorbar": {
             "outlinewidth": 0,
             "ticks": ""
            },
            "colorscale": [
             [
              0,
              "#0d0887"
             ],
             [
              0.1111111111111111,
              "#46039f"
             ],
             [
              0.2222222222222222,
              "#7201a8"
             ],
             [
              0.3333333333333333,
              "#9c179e"
             ],
             [
              0.4444444444444444,
              "#bd3786"
             ],
             [
              0.5555555555555556,
              "#d8576b"
             ],
             [
              0.6666666666666666,
              "#ed7953"
             ],
             [
              0.7777777777777778,
              "#fb9f3a"
             ],
             [
              0.8888888888888888,
              "#fdca26"
             ],
             [
              1,
              "#f0f921"
             ]
            ],
            "type": "histogram2dcontour"
           }
          ],
          "mesh3d": [
           {
            "colorbar": {
             "outlinewidth": 0,
             "ticks": ""
            },
            "type": "mesh3d"
           }
          ],
          "parcoords": [
           {
            "line": {
             "colorbar": {
              "outlinewidth": 0,
              "ticks": ""
             }
            },
            "type": "parcoords"
           }
          ],
          "pie": [
           {
            "automargin": true,
            "type": "pie"
           }
          ],
          "scatter": [
           {
            "fillpattern": {
             "fillmode": "overlay",
             "size": 10,
             "solidity": 0.2
            },
            "type": "scatter"
           }
          ],
          "scatter3d": [
           {
            "line": {
             "colorbar": {
              "outlinewidth": 0,
              "ticks": ""
             }
            },
            "marker": {
             "colorbar": {
              "outlinewidth": 0,
              "ticks": ""
             }
            },
            "type": "scatter3d"
           }
          ],
          "scattercarpet": [
           {
            "marker": {
             "colorbar": {
              "outlinewidth": 0,
              "ticks": ""
             }
            },
            "type": "scattercarpet"
           }
          ],
          "scattergeo": [
           {
            "marker": {
             "colorbar": {
              "outlinewidth": 0,
              "ticks": ""
             }
            },
            "type": "scattergeo"
           }
          ],
          "scattergl": [
           {
            "marker": {
             "colorbar": {
              "outlinewidth": 0,
              "ticks": ""
             }
            },
            "type": "scattergl"
           }
          ],
          "scattermapbox": [
           {
            "marker": {
             "colorbar": {
              "outlinewidth": 0,
              "ticks": ""
             }
            },
            "type": "scattermapbox"
           }
          ],
          "scatterpolar": [
           {
            "marker": {
             "colorbar": {
              "outlinewidth": 0,
              "ticks": ""
             }
            },
            "type": "scatterpolar"
           }
          ],
          "scatterpolargl": [
           {
            "marker": {
             "colorbar": {
              "outlinewidth": 0,
              "ticks": ""
             }
            },
            "type": "scatterpolargl"
           }
          ],
          "scatterternary": [
           {
            "marker": {
             "colorbar": {
              "outlinewidth": 0,
              "ticks": ""
             }
            },
            "type": "scatterternary"
           }
          ],
          "surface": [
           {
            "colorbar": {
             "outlinewidth": 0,
             "ticks": ""
            },
            "colorscale": [
             [
              0,
              "#0d0887"
             ],
             [
              0.1111111111111111,
              "#46039f"
             ],
             [
              0.2222222222222222,
              "#7201a8"
             ],
             [
              0.3333333333333333,
              "#9c179e"
             ],
             [
              0.4444444444444444,
              "#bd3786"
             ],
             [
              0.5555555555555556,
              "#d8576b"
             ],
             [
              0.6666666666666666,
              "#ed7953"
             ],
             [
              0.7777777777777778,
              "#fb9f3a"
             ],
             [
              0.8888888888888888,
              "#fdca26"
             ],
             [
              1,
              "#f0f921"
             ]
            ],
            "type": "surface"
           }
          ],
          "table": [
           {
            "cells": {
             "fill": {
              "color": "#EBF0F8"
             },
             "line": {
              "color": "white"
             }
            },
            "header": {
             "fill": {
              "color": "#C8D4E3"
             },
             "line": {
              "color": "white"
             }
            },
            "type": "table"
           }
          ]
         },
         "layout": {
          "annotationdefaults": {
           "arrowcolor": "#2a3f5f",
           "arrowhead": 0,
           "arrowwidth": 1
          },
          "autotypenumbers": "strict",
          "coloraxis": {
           "colorbar": {
            "outlinewidth": 0,
            "ticks": ""
           }
          },
          "colorscale": {
           "diverging": [
            [
             0,
             "#8e0152"
            ],
            [
             0.1,
             "#c51b7d"
            ],
            [
             0.2,
             "#de77ae"
            ],
            [
             0.3,
             "#f1b6da"
            ],
            [
             0.4,
             "#fde0ef"
            ],
            [
             0.5,
             "#f7f7f7"
            ],
            [
             0.6,
             "#e6f5d0"
            ],
            [
             0.7,
             "#b8e186"
            ],
            [
             0.8,
             "#7fbc41"
            ],
            [
             0.9,
             "#4d9221"
            ],
            [
             1,
             "#276419"
            ]
           ],
           "sequential": [
            [
             0,
             "#0d0887"
            ],
            [
             0.1111111111111111,
             "#46039f"
            ],
            [
             0.2222222222222222,
             "#7201a8"
            ],
            [
             0.3333333333333333,
             "#9c179e"
            ],
            [
             0.4444444444444444,
             "#bd3786"
            ],
            [
             0.5555555555555556,
             "#d8576b"
            ],
            [
             0.6666666666666666,
             "#ed7953"
            ],
            [
             0.7777777777777778,
             "#fb9f3a"
            ],
            [
             0.8888888888888888,
             "#fdca26"
            ],
            [
             1,
             "#f0f921"
            ]
           ],
           "sequentialminus": [
            [
             0,
             "#0d0887"
            ],
            [
             0.1111111111111111,
             "#46039f"
            ],
            [
             0.2222222222222222,
             "#7201a8"
            ],
            [
             0.3333333333333333,
             "#9c179e"
            ],
            [
             0.4444444444444444,
             "#bd3786"
            ],
            [
             0.5555555555555556,
             "#d8576b"
            ],
            [
             0.6666666666666666,
             "#ed7953"
            ],
            [
             0.7777777777777778,
             "#fb9f3a"
            ],
            [
             0.8888888888888888,
             "#fdca26"
            ],
            [
             1,
             "#f0f921"
            ]
           ]
          },
          "colorway": [
           "#636efa",
           "#EF553B",
           "#00cc96",
           "#ab63fa",
           "#FFA15A",
           "#19d3f3",
           "#FF6692",
           "#B6E880",
           "#FF97FF",
           "#FECB52"
          ],
          "font": {
           "color": "#2a3f5f"
          },
          "geo": {
           "bgcolor": "white",
           "lakecolor": "white",
           "landcolor": "#E5ECF6",
           "showlakes": true,
           "showland": true,
           "subunitcolor": "white"
          },
          "hoverlabel": {
           "align": "left"
          },
          "hovermode": "closest",
          "mapbox": {
           "style": "light"
          },
          "paper_bgcolor": "white",
          "plot_bgcolor": "#E5ECF6",
          "polar": {
           "angularaxis": {
            "gridcolor": "white",
            "linecolor": "white",
            "ticks": ""
           },
           "bgcolor": "#E5ECF6",
           "radialaxis": {
            "gridcolor": "white",
            "linecolor": "white",
            "ticks": ""
           }
          },
          "scene": {
           "xaxis": {
            "backgroundcolor": "#E5ECF6",
            "gridcolor": "white",
            "gridwidth": 2,
            "linecolor": "white",
            "showbackground": true,
            "ticks": "",
            "zerolinecolor": "white"
           },
           "yaxis": {
            "backgroundcolor": "#E5ECF6",
            "gridcolor": "white",
            "gridwidth": 2,
            "linecolor": "white",
            "showbackground": true,
            "ticks": "",
            "zerolinecolor": "white"
           },
           "zaxis": {
            "backgroundcolor": "#E5ECF6",
            "gridcolor": "white",
            "gridwidth": 2,
            "linecolor": "white",
            "showbackground": true,
            "ticks": "",
            "zerolinecolor": "white"
           }
          },
          "shapedefaults": {
           "line": {
            "color": "#2a3f5f"
           }
          },
          "ternary": {
           "aaxis": {
            "gridcolor": "white",
            "linecolor": "white",
            "ticks": ""
           },
           "baxis": {
            "gridcolor": "white",
            "linecolor": "white",
            "ticks": ""
           },
           "bgcolor": "#E5ECF6",
           "caxis": {
            "gridcolor": "white",
            "linecolor": "white",
            "ticks": ""
           }
          },
          "title": {
           "x": 0.05
          },
          "xaxis": {
           "automargin": true,
           "gridcolor": "white",
           "linecolor": "white",
           "ticks": "",
           "title": {
            "standoff": 15
           },
           "zerolinecolor": "white",
           "zerolinewidth": 2
          },
          "yaxis": {
           "automargin": true,
           "gridcolor": "white",
           "linecolor": "white",
           "ticks": "",
           "title": {
            "standoff": 15
           },
           "zerolinecolor": "white",
           "zerolinewidth": 2
          }
         }
        },
        "width": 1500
       }
      }
     },
     "metadata": {},
     "output_type": "display_data"
    }
   ],
   "source": [
    "fig = go.Figure(data=go.Heatmap(z=skills, x=skills.columns,y=skills.index, colorscale='magma', ygap=1))\n",
    "fig.update_layout(width=1500, height=1000)\n",
    "fig.show()\n"
   ]
  },
  {
   "cell_type": "markdown",
   "metadata": {},
   "source": [
    "## Stadardization of skills"
   ]
  },
  {
   "cell_type": "code",
   "execution_count": 17,
   "metadata": {},
   "outputs": [
    {
     "data": {
      "text/html": [
       "<div>\n",
       "<style scoped>\n",
       "    .dataframe tbody tr th:only-of-type {\n",
       "        vertical-align: middle;\n",
       "    }\n",
       "\n",
       "    .dataframe tbody tr th {\n",
       "        vertical-align: top;\n",
       "    }\n",
       "\n",
       "    .dataframe thead th {\n",
       "        text-align: right;\n",
       "    }\n",
       "</style>\n",
       "<table border=\"1\" class=\"dataframe\">\n",
       "  <thead>\n",
       "    <tr style=\"text-align: right;\">\n",
       "      <th></th>\n",
       "      <th>JavaScript</th>\n",
       "      <th>HTML/CSS</th>\n",
       "      <th>SQL</th>\n",
       "      <th>Docker</th>\n",
       "      <th>Python</th>\n",
       "      <th>npm</th>\n",
       "      <th>Amazon Web Services (AWS)</th>\n",
       "      <th>PostgreSQL</th>\n",
       "      <th>TypeScript</th>\n",
       "      <th>MySQL</th>\n",
       "      <th>...</th>\n",
       "      <th>Raku</th>\n",
       "      <th>TiDB</th>\n",
       "      <th>build2</th>\n",
       "      <th>APL</th>\n",
       "      <th>lest</th>\n",
       "      <th>tunit</th>\n",
       "      <th>snitch</th>\n",
       "      <th>CUTE</th>\n",
       "      <th>liblittletest</th>\n",
       "      <th>ELFspy</th>\n",
       "    </tr>\n",
       "  </thead>\n",
       "  <tbody>\n",
       "    <tr>\n",
       "      <th>Database administrator</th>\n",
       "      <td>-0.943071</td>\n",
       "      <td>-0.317174</td>\n",
       "      <td>2.386028</td>\n",
       "      <td>-1.057182</td>\n",
       "      <td>-0.761714</td>\n",
       "      <td>-1.143210</td>\n",
       "      <td>-0.380540</td>\n",
       "      <td>-0.151872</td>\n",
       "      <td>-0.893731</td>\n",
       "      <td>1.303612</td>\n",
       "      <td>...</td>\n",
       "      <td>-0.540757</td>\n",
       "      <td>3.786454</td>\n",
       "      <td>-0.700372</td>\n",
       "      <td>2.632620</td>\n",
       "      <td>-0.512489</td>\n",
       "      <td>-0.392022</td>\n",
       "      <td>-0.516155</td>\n",
       "      <td>-0.504425</td>\n",
       "      <td>-0.260248</td>\n",
       "      <td>-0.255916</td>\n",
       "    </tr>\n",
       "    <tr>\n",
       "      <th>Blockchain</th>\n",
       "      <td>0.942757</td>\n",
       "      <td>-0.118589</td>\n",
       "      <td>-0.690305</td>\n",
       "      <td>0.512954</td>\n",
       "      <td>-1.111855</td>\n",
       "      <td>1.543387</td>\n",
       "      <td>0.904060</td>\n",
       "      <td>1.274520</td>\n",
       "      <td>1.717417</td>\n",
       "      <td>-0.720435</td>\n",
       "      <td>...</td>\n",
       "      <td>-0.540757</td>\n",
       "      <td>-0.621196</td>\n",
       "      <td>2.241548</td>\n",
       "      <td>2.583521</td>\n",
       "      <td>3.313965</td>\n",
       "      <td>-0.392022</td>\n",
       "      <td>-0.516155</td>\n",
       "      <td>-0.504425</td>\n",
       "      <td>-0.260248</td>\n",
       "      <td>-0.255916</td>\n",
       "    </tr>\n",
       "    <tr>\n",
       "      <th>Hardware Engineer</th>\n",
       "      <td>-0.935049</td>\n",
       "      <td>-0.439427</td>\n",
       "      <td>-0.970878</td>\n",
       "      <td>-0.797408</td>\n",
       "      <td>0.830645</td>\n",
       "      <td>-0.738612</td>\n",
       "      <td>-1.335788</td>\n",
       "      <td>-1.461236</td>\n",
       "      <td>-0.926198</td>\n",
       "      <td>-0.937444</td>\n",
       "      <td>...</td>\n",
       "      <td>-0.540757</td>\n",
       "      <td>-0.621196</td>\n",
       "      <td>-0.700372</td>\n",
       "      <td>-0.869813</td>\n",
       "      <td>-0.512489</td>\n",
       "      <td>4.236554</td>\n",
       "      <td>-0.516155</td>\n",
       "      <td>-0.504425</td>\n",
       "      <td>4.486574</td>\n",
       "      <td>-0.255916</td>\n",
       "    </tr>\n",
       "    <tr>\n",
       "      <th>Scientist</th>\n",
       "      <td>-1.026102</td>\n",
       "      <td>-0.783043</td>\n",
       "      <td>-0.645684</td>\n",
       "      <td>-0.843166</td>\n",
       "      <td>1.128363</td>\n",
       "      <td>-1.116935</td>\n",
       "      <td>-0.933206</td>\n",
       "      <td>-1.066075</td>\n",
       "      <td>-0.949850</td>\n",
       "      <td>-0.390780</td>\n",
       "      <td>...</td>\n",
       "      <td>0.837612</td>\n",
       "      <td>1.153640</td>\n",
       "      <td>-0.700372</td>\n",
       "      <td>-0.869813</td>\n",
       "      <td>-0.512489</td>\n",
       "      <td>-0.392022</td>\n",
       "      <td>-0.516155</td>\n",
       "      <td>-0.504425</td>\n",
       "      <td>-0.260248</td>\n",
       "      <td>-0.255916</td>\n",
       "    </tr>\n",
       "    <tr>\n",
       "      <th>Engineer, site reliability</th>\n",
       "      <td>-0.203126</td>\n",
       "      <td>-0.137602</td>\n",
       "      <td>-0.293865</td>\n",
       "      <td>1.563103</td>\n",
       "      <td>0.537591</td>\n",
       "      <td>-0.038409</td>\n",
       "      <td>1.613830</td>\n",
       "      <td>1.318734</td>\n",
       "      <td>-0.010461</td>\n",
       "      <td>0.426766</td>\n",
       "      <td>...</td>\n",
       "      <td>0.796772</td>\n",
       "      <td>-0.621196</td>\n",
       "      <td>-0.700372</td>\n",
       "      <td>-0.869813</td>\n",
       "      <td>2.520330</td>\n",
       "      <td>-0.392022</td>\n",
       "      <td>-0.516155</td>\n",
       "      <td>-0.504425</td>\n",
       "      <td>-0.260248</td>\n",
       "      <td>-0.255916</td>\n",
       "    </tr>\n",
       "    <tr>\n",
       "      <th>Security professional</th>\n",
       "      <td>0.505335</td>\n",
       "      <td>0.295129</td>\n",
       "      <td>-0.193040</td>\n",
       "      <td>0.700176</td>\n",
       "      <td>0.815939</td>\n",
       "      <td>0.134914</td>\n",
       "      <td>0.685351</td>\n",
       "      <td>0.186119</td>\n",
       "      <td>-0.212851</td>\n",
       "      <td>-0.347719</td>\n",
       "      <td>...</td>\n",
       "      <td>-0.540757</td>\n",
       "      <td>0.955099</td>\n",
       "      <td>-0.700372</td>\n",
       "      <td>-0.869813</td>\n",
       "      <td>-0.512489</td>\n",
       "      <td>-0.392022</td>\n",
       "      <td>-0.516155</td>\n",
       "      <td>-0.504425</td>\n",
       "      <td>-0.260248</td>\n",
       "      <td>-0.255916</td>\n",
       "    </tr>\n",
       "    <tr>\n",
       "      <th>Developer, QA or test</th>\n",
       "      <td>0.512017</td>\n",
       "      <td>0.072680</td>\n",
       "      <td>-0.227578</td>\n",
       "      <td>0.122514</td>\n",
       "      <td>0.010570</td>\n",
       "      <td>0.654567</td>\n",
       "      <td>-0.032877</td>\n",
       "      <td>-0.201920</td>\n",
       "      <td>0.143784</td>\n",
       "      <td>0.243741</td>\n",
       "      <td>...</td>\n",
       "      <td>-0.540757</td>\n",
       "      <td>0.372409</td>\n",
       "      <td>-0.700372</td>\n",
       "      <td>0.709276</td>\n",
       "      <td>-0.512489</td>\n",
       "      <td>-0.392022</td>\n",
       "      <td>-0.516155</td>\n",
       "      <td>-0.504425</td>\n",
       "      <td>-0.260248</td>\n",
       "      <td>-0.255916</td>\n",
       "    </tr>\n",
       "    <tr>\n",
       "      <th>System administrator</th>\n",
       "      <td>0.429800</td>\n",
       "      <td>1.001379</td>\n",
       "      <td>0.637703</td>\n",
       "      <td>-0.333756</td>\n",
       "      <td>-0.131083</td>\n",
       "      <td>-0.315501</td>\n",
       "      <td>-0.904954</td>\n",
       "      <td>0.241782</td>\n",
       "      <td>-0.568604</td>\n",
       "      <td>1.965129</td>\n",
       "      <td>...</td>\n",
       "      <td>4.011337</td>\n",
       "      <td>-0.621196</td>\n",
       "      <td>-0.700372</td>\n",
       "      <td>0.682736</td>\n",
       "      <td>-0.512489</td>\n",
       "      <td>-0.392022</td>\n",
       "      <td>-0.516155</td>\n",
       "      <td>-0.504425</td>\n",
       "      <td>-0.260248</td>\n",
       "      <td>-0.255916</td>\n",
       "    </tr>\n",
       "    <tr>\n",
       "      <th>Developer, game or graphics</th>\n",
       "      <td>-0.116857</td>\n",
       "      <td>-0.257413</td>\n",
       "      <td>-1.272659</td>\n",
       "      <td>-1.343571</td>\n",
       "      <td>-0.801179</td>\n",
       "      <td>-0.214998</td>\n",
       "      <td>-0.774427</td>\n",
       "      <td>-1.448824</td>\n",
       "      <td>0.046298</td>\n",
       "      <td>-1.203373</td>\n",
       "      <td>...</td>\n",
       "      <td>-0.540757</td>\n",
       "      <td>-0.621196</td>\n",
       "      <td>1.317483</td>\n",
       "      <td>0.314504</td>\n",
       "      <td>-0.512489</td>\n",
       "      <td>-0.392022</td>\n",
       "      <td>1.803270</td>\n",
       "      <td>-0.504425</td>\n",
       "      <td>-0.260248</td>\n",
       "      <td>-0.255916</td>\n",
       "    </tr>\n",
       "    <tr>\n",
       "      <th>Data or business analyst</th>\n",
       "      <td>-0.112466</td>\n",
       "      <td>0.441039</td>\n",
       "      <td>1.910285</td>\n",
       "      <td>-1.416896</td>\n",
       "      <td>0.510950</td>\n",
       "      <td>-0.731624</td>\n",
       "      <td>-0.812743</td>\n",
       "      <td>-0.074123</td>\n",
       "      <td>-0.600839</td>\n",
       "      <td>1.146719</td>\n",
       "      <td>...</td>\n",
       "      <td>-0.540757</td>\n",
       "      <td>-0.621196</td>\n",
       "      <td>0.302130</td>\n",
       "      <td>0.306960</td>\n",
       "      <td>0.791430</td>\n",
       "      <td>-0.392022</td>\n",
       "      <td>-0.516155</td>\n",
       "      <td>-0.504425</td>\n",
       "      <td>-0.260248</td>\n",
       "      <td>-0.255916</td>\n",
       "    </tr>\n",
       "    <tr>\n",
       "      <th>Cloud infrastructure engineer</th>\n",
       "      <td>0.012849</td>\n",
       "      <td>-0.534914</td>\n",
       "      <td>-0.200843</td>\n",
       "      <td>1.744408</td>\n",
       "      <td>0.374489</td>\n",
       "      <td>0.327174</td>\n",
       "      <td>2.113230</td>\n",
       "      <td>1.237097</td>\n",
       "      <td>0.319561</td>\n",
       "      <td>0.171139</td>\n",
       "      <td>...</td>\n",
       "      <td>-0.540757</td>\n",
       "      <td>0.683172</td>\n",
       "      <td>-0.700372</td>\n",
       "      <td>0.166672</td>\n",
       "      <td>-0.512489</td>\n",
       "      <td>0.997200</td>\n",
       "      <td>3.543651</td>\n",
       "      <td>-0.504425</td>\n",
       "      <td>-0.260248</td>\n",
       "      <td>-0.255916</td>\n",
       "    </tr>\n",
       "    <tr>\n",
       "      <th>DevOps specialist</th>\n",
       "      <td>0.016385</td>\n",
       "      <td>-0.245594</td>\n",
       "      <td>0.016642</td>\n",
       "      <td>1.871407</td>\n",
       "      <td>0.456801</td>\n",
       "      <td>0.469204</td>\n",
       "      <td>1.215591</td>\n",
       "      <td>1.139074</td>\n",
       "      <td>0.132886</td>\n",
       "      <td>0.618420</td>\n",
       "      <td>...</td>\n",
       "      <td>-0.146507</td>\n",
       "      <td>0.394104</td>\n",
       "      <td>-0.013067</td>\n",
       "      <td>-0.063030</td>\n",
       "      <td>0.381464</td>\n",
       "      <td>-0.392022</td>\n",
       "      <td>-0.516155</td>\n",
       "      <td>-0.504425</td>\n",
       "      <td>-0.260248</td>\n",
       "      <td>-0.255916</td>\n",
       "    </tr>\n",
       "    <tr>\n",
       "      <th>Engineer, data</th>\n",
       "      <td>-0.766118</td>\n",
       "      <td>-0.704314</td>\n",
       "      <td>1.604310</td>\n",
       "      <td>0.931745</td>\n",
       "      <td>1.275627</td>\n",
       "      <td>-0.565117</td>\n",
       "      <td>1.225178</td>\n",
       "      <td>1.531948</td>\n",
       "      <td>-0.596246</td>\n",
       "      <td>0.107338</td>\n",
       "      <td>...</td>\n",
       "      <td>0.605696</td>\n",
       "      <td>0.362946</td>\n",
       "      <td>-0.700372</td>\n",
       "      <td>-0.869813</td>\n",
       "      <td>0.354031</td>\n",
       "      <td>-0.392022</td>\n",
       "      <td>1.015402</td>\n",
       "      <td>2.654619</td>\n",
       "      <td>-0.260248</td>\n",
       "      <td>-0.255916</td>\n",
       "    </tr>\n",
       "    <tr>\n",
       "      <th>Research &amp; Development role</th>\n",
       "      <td>-0.480383</td>\n",
       "      <td>-0.475743</td>\n",
       "      <td>-0.532114</td>\n",
       "      <td>0.157648</td>\n",
       "      <td>0.515265</td>\n",
       "      <td>-0.396232</td>\n",
       "      <td>-0.381121</td>\n",
       "      <td>-0.383188</td>\n",
       "      <td>-0.319852</td>\n",
       "      <td>-1.137936</td>\n",
       "      <td>...</td>\n",
       "      <td>0.881025</td>\n",
       "      <td>-0.621196</td>\n",
       "      <td>1.778253</td>\n",
       "      <td>0.584938</td>\n",
       "      <td>-0.512489</td>\n",
       "      <td>-0.392022</td>\n",
       "      <td>-0.516155</td>\n",
       "      <td>-0.504425</td>\n",
       "      <td>-0.260248</td>\n",
       "      <td>-0.255916</td>\n",
       "    </tr>\n",
       "    <tr>\n",
       "      <th>Academic researcher</th>\n",
       "      <td>-0.643459</td>\n",
       "      <td>-0.273568</td>\n",
       "      <td>-0.942046</td>\n",
       "      <td>-0.494649</td>\n",
       "      <td>1.044565</td>\n",
       "      <td>-0.654845</td>\n",
       "      <td>-1.191632</td>\n",
       "      <td>-0.966154</td>\n",
       "      <td>-0.631149</td>\n",
       "      <td>-1.268045</td>\n",
       "      <td>...</td>\n",
       "      <td>-0.192845</td>\n",
       "      <td>-0.621196</td>\n",
       "      <td>1.119197</td>\n",
       "      <td>0.554105</td>\n",
       "      <td>-0.512489</td>\n",
       "      <td>0.562231</td>\n",
       "      <td>0.878181</td>\n",
       "      <td>2.371584</td>\n",
       "      <td>0.718384</td>\n",
       "      <td>-0.255916</td>\n",
       "    </tr>\n",
       "    <tr>\n",
       "      <th>Data scientist or machine learning specialist</th>\n",
       "      <td>-1.061505</td>\n",
       "      <td>-0.878616</td>\n",
       "      <td>0.646880</td>\n",
       "      <td>0.258426</td>\n",
       "      <td>1.653021</td>\n",
       "      <td>-0.853194</td>\n",
       "      <td>0.749158</td>\n",
       "      <td>0.407296</td>\n",
       "      <td>-0.743606</td>\n",
       "      <td>0.006839</td>\n",
       "      <td>...</td>\n",
       "      <td>-0.540757</td>\n",
       "      <td>-0.621196</td>\n",
       "      <td>-0.700372</td>\n",
       "      <td>-0.869813</td>\n",
       "      <td>-0.512489</td>\n",
       "      <td>-0.392022</td>\n",
       "      <td>-0.516155</td>\n",
       "      <td>-0.504425</td>\n",
       "      <td>-0.260248</td>\n",
       "      <td>-0.255916</td>\n",
       "    </tr>\n",
       "    <tr>\n",
       "      <th>Developer, embedded applications or devices</th>\n",
       "      <td>-0.880625</td>\n",
       "      <td>-1.043790</td>\n",
       "      <td>-1.170683</td>\n",
       "      <td>-0.086127</td>\n",
       "      <td>0.474478</td>\n",
       "      <td>-0.868369</td>\n",
       "      <td>-1.110321</td>\n",
       "      <td>-1.211026</td>\n",
       "      <td>-0.693974</td>\n",
       "      <td>-1.999925</td>\n",
       "      <td>...</td>\n",
       "      <td>-0.308965</td>\n",
       "      <td>-0.621196</td>\n",
       "      <td>2.128252</td>\n",
       "      <td>-0.869813</td>\n",
       "      <td>0.013096</td>\n",
       "      <td>-0.392022</td>\n",
       "      <td>0.412806</td>\n",
       "      <td>-0.504425</td>\n",
       "      <td>-0.260248</td>\n",
       "      <td>-0.255916</td>\n",
       "    </tr>\n",
       "    <tr>\n",
       "      <th>Developer, mobile</th>\n",
       "      <td>-0.444707</td>\n",
       "      <td>-0.769958</td>\n",
       "      <td>-0.935735</td>\n",
       "      <td>-1.371386</td>\n",
       "      <td>-1.649446</td>\n",
       "      <td>-0.142027</td>\n",
       "      <td>-0.600482</td>\n",
       "      <td>-1.172563</td>\n",
       "      <td>-0.212130</td>\n",
       "      <td>-0.626482</td>\n",
       "      <td>...</td>\n",
       "      <td>-0.540757</td>\n",
       "      <td>-0.187623</td>\n",
       "      <td>-0.700372</td>\n",
       "      <td>-0.525284</td>\n",
       "      <td>-0.512489</td>\n",
       "      <td>0.069756</td>\n",
       "      <td>-0.516155</td>\n",
       "      <td>2.279069</td>\n",
       "      <td>-0.260248</td>\n",
       "      <td>-0.255916</td>\n",
       "    </tr>\n",
       "    <tr>\n",
       "      <th>Developer, desktop or enterprise applications</th>\n",
       "      <td>-0.252025</td>\n",
       "      <td>-0.145728</td>\n",
       "      <td>0.402850</td>\n",
       "      <td>-1.109784</td>\n",
       "      <td>-1.139388</td>\n",
       "      <td>-0.557794</td>\n",
       "      <td>-1.056381</td>\n",
       "      <td>-0.901427</td>\n",
       "      <td>-0.335878</td>\n",
       "      <td>-0.247438</td>\n",
       "      <td>...</td>\n",
       "      <td>-0.427620</td>\n",
       "      <td>-0.475517</td>\n",
       "      <td>0.285798</td>\n",
       "      <td>-0.175251</td>\n",
       "      <td>-0.512489</td>\n",
       "      <td>0.538913</td>\n",
       "      <td>0.390688</td>\n",
       "      <td>0.430818</td>\n",
       "      <td>-0.260248</td>\n",
       "      <td>4.507433</td>\n",
       "    </tr>\n",
       "    <tr>\n",
       "      <th>Developer, front-end</th>\n",
       "      <td>2.925681</td>\n",
       "      <td>3.184286</td>\n",
       "      <td>-0.957848</td>\n",
       "      <td>-0.446614</td>\n",
       "      <td>-1.932899</td>\n",
       "      <td>2.849910</td>\n",
       "      <td>-0.194539</td>\n",
       "      <td>-0.537857</td>\n",
       "      <td>3.083924</td>\n",
       "      <td>0.153128</td>\n",
       "      <td>...</td>\n",
       "      <td>-0.275479</td>\n",
       "      <td>-0.507335</td>\n",
       "      <td>-0.392061</td>\n",
       "      <td>-0.507906</td>\n",
       "      <td>0.089025</td>\n",
       "      <td>-0.392022</td>\n",
       "      <td>-0.516155</td>\n",
       "      <td>0.226549</td>\n",
       "      <td>-0.260248</td>\n",
       "      <td>-0.255916</td>\n",
       "    </tr>\n",
       "    <tr>\n",
       "      <th>Developer, back-end</th>\n",
       "      <td>0.166587</td>\n",
       "      <td>-0.290034</td>\n",
       "      <td>0.526992</td>\n",
       "      <td>1.104308</td>\n",
       "      <td>-0.834137</td>\n",
       "      <td>0.329829</td>\n",
       "      <td>0.907036</td>\n",
       "      <td>1.459618</td>\n",
       "      <td>0.252366</td>\n",
       "      <td>1.040557</td>\n",
       "      <td>...</td>\n",
       "      <td>-0.079751</td>\n",
       "      <td>0.057213</td>\n",
       "      <td>-0.470748</td>\n",
       "      <td>-0.600272</td>\n",
       "      <td>-0.288491</td>\n",
       "      <td>-0.301704</td>\n",
       "      <td>-0.384184</td>\n",
       "      <td>-0.232218</td>\n",
       "      <td>-0.260248</td>\n",
       "      <td>-0.255916</td>\n",
       "    </tr>\n",
       "    <tr>\n",
       "      <th>Developer, full-stack</th>\n",
       "      <td>2.354080</td>\n",
       "      <td>2.420996</td>\n",
       "      <td>0.901586</td>\n",
       "      <td>0.333850</td>\n",
       "      <td>-1.266600</td>\n",
       "      <td>2.027881</td>\n",
       "      <td>0.295576</td>\n",
       "      <td>0.780077</td>\n",
       "      <td>1.999133</td>\n",
       "      <td>1.696188</td>\n",
       "      <td>...</td>\n",
       "      <td>-0.293702</td>\n",
       "      <td>-0.382608</td>\n",
       "      <td>-0.592697</td>\n",
       "      <td>-0.574898</td>\n",
       "      <td>-0.512489</td>\n",
       "      <td>-0.222617</td>\n",
       "      <td>-0.433644</td>\n",
       "      <td>-0.164046</td>\n",
       "      <td>-0.260248</td>\n",
       "      <td>0.610888</td>\n",
       "    </tr>\n",
       "  </tbody>\n",
       "</table>\n",
       "<p>22 rows × 231 columns</p>\n",
       "</div>"
      ],
      "text/plain": [
       "                                               JavaScript  HTML/CSS       SQL  \\\n",
       "Database administrator                          -0.943071 -0.317174  2.386028   \n",
       "Blockchain                                       0.942757 -0.118589 -0.690305   \n",
       "Hardware Engineer                               -0.935049 -0.439427 -0.970878   \n",
       "Scientist                                       -1.026102 -0.783043 -0.645684   \n",
       "Engineer, site reliability                      -0.203126 -0.137602 -0.293865   \n",
       "Security professional                            0.505335  0.295129 -0.193040   \n",
       "Developer, QA or test                            0.512017  0.072680 -0.227578   \n",
       "System administrator                             0.429800  1.001379  0.637703   \n",
       "Developer, game or graphics                     -0.116857 -0.257413 -1.272659   \n",
       "Data or business analyst                        -0.112466  0.441039  1.910285   \n",
       "Cloud infrastructure engineer                    0.012849 -0.534914 -0.200843   \n",
       "DevOps specialist                                0.016385 -0.245594  0.016642   \n",
       "Engineer, data                                  -0.766118 -0.704314  1.604310   \n",
       "Research & Development role                     -0.480383 -0.475743 -0.532114   \n",
       "Academic researcher                             -0.643459 -0.273568 -0.942046   \n",
       "Data scientist or machine learning specialist   -1.061505 -0.878616  0.646880   \n",
       "Developer, embedded applications or devices     -0.880625 -1.043790 -1.170683   \n",
       "Developer, mobile                               -0.444707 -0.769958 -0.935735   \n",
       "Developer, desktop or enterprise applications   -0.252025 -0.145728  0.402850   \n",
       "Developer, front-end                             2.925681  3.184286 -0.957848   \n",
       "Developer, back-end                              0.166587 -0.290034  0.526992   \n",
       "Developer, full-stack                            2.354080  2.420996  0.901586   \n",
       "\n",
       "                                                 Docker    Python       npm  \\\n",
       "Database administrator                        -1.057182 -0.761714 -1.143210   \n",
       "Blockchain                                     0.512954 -1.111855  1.543387   \n",
       "Hardware Engineer                             -0.797408  0.830645 -0.738612   \n",
       "Scientist                                     -0.843166  1.128363 -1.116935   \n",
       "Engineer, site reliability                     1.563103  0.537591 -0.038409   \n",
       "Security professional                          0.700176  0.815939  0.134914   \n",
       "Developer, QA or test                          0.122514  0.010570  0.654567   \n",
       "System administrator                          -0.333756 -0.131083 -0.315501   \n",
       "Developer, game or graphics                   -1.343571 -0.801179 -0.214998   \n",
       "Data or business analyst                      -1.416896  0.510950 -0.731624   \n",
       "Cloud infrastructure engineer                  1.744408  0.374489  0.327174   \n",
       "DevOps specialist                              1.871407  0.456801  0.469204   \n",
       "Engineer, data                                 0.931745  1.275627 -0.565117   \n",
       "Research & Development role                    0.157648  0.515265 -0.396232   \n",
       "Academic researcher                           -0.494649  1.044565 -0.654845   \n",
       "Data scientist or machine learning specialist  0.258426  1.653021 -0.853194   \n",
       "Developer, embedded applications or devices   -0.086127  0.474478 -0.868369   \n",
       "Developer, mobile                             -1.371386 -1.649446 -0.142027   \n",
       "Developer, desktop or enterprise applications -1.109784 -1.139388 -0.557794   \n",
       "Developer, front-end                          -0.446614 -1.932899  2.849910   \n",
       "Developer, back-end                            1.104308 -0.834137  0.329829   \n",
       "Developer, full-stack                          0.333850 -1.266600  2.027881   \n",
       "\n",
       "                                               Amazon Web Services (AWS)  \\\n",
       "Database administrator                                         -0.380540   \n",
       "Blockchain                                                      0.904060   \n",
       "Hardware Engineer                                              -1.335788   \n",
       "Scientist                                                      -0.933206   \n",
       "Engineer, site reliability                                      1.613830   \n",
       "Security professional                                           0.685351   \n",
       "Developer, QA or test                                          -0.032877   \n",
       "System administrator                                           -0.904954   \n",
       "Developer, game or graphics                                    -0.774427   \n",
       "Data or business analyst                                       -0.812743   \n",
       "Cloud infrastructure engineer                                   2.113230   \n",
       "DevOps specialist                                               1.215591   \n",
       "Engineer, data                                                  1.225178   \n",
       "Research & Development role                                    -0.381121   \n",
       "Academic researcher                                            -1.191632   \n",
       "Data scientist or machine learning specialist                   0.749158   \n",
       "Developer, embedded applications or devices                    -1.110321   \n",
       "Developer, mobile                                              -0.600482   \n",
       "Developer, desktop or enterprise applications                  -1.056381   \n",
       "Developer, front-end                                           -0.194539   \n",
       "Developer, back-end                                             0.907036   \n",
       "Developer, full-stack                                           0.295576   \n",
       "\n",
       "                                               PostgreSQL  TypeScript  \\\n",
       "Database administrator                          -0.151872   -0.893731   \n",
       "Blockchain                                       1.274520    1.717417   \n",
       "Hardware Engineer                               -1.461236   -0.926198   \n",
       "Scientist                                       -1.066075   -0.949850   \n",
       "Engineer, site reliability                       1.318734   -0.010461   \n",
       "Security professional                            0.186119   -0.212851   \n",
       "Developer, QA or test                           -0.201920    0.143784   \n",
       "System administrator                             0.241782   -0.568604   \n",
       "Developer, game or graphics                     -1.448824    0.046298   \n",
       "Data or business analyst                        -0.074123   -0.600839   \n",
       "Cloud infrastructure engineer                    1.237097    0.319561   \n",
       "DevOps specialist                                1.139074    0.132886   \n",
       "Engineer, data                                   1.531948   -0.596246   \n",
       "Research & Development role                     -0.383188   -0.319852   \n",
       "Academic researcher                             -0.966154   -0.631149   \n",
       "Data scientist or machine learning specialist    0.407296   -0.743606   \n",
       "Developer, embedded applications or devices     -1.211026   -0.693974   \n",
       "Developer, mobile                               -1.172563   -0.212130   \n",
       "Developer, desktop or enterprise applications   -0.901427   -0.335878   \n",
       "Developer, front-end                            -0.537857    3.083924   \n",
       "Developer, back-end                              1.459618    0.252366   \n",
       "Developer, full-stack                            0.780077    1.999133   \n",
       "\n",
       "                                                  MySQL  ...      Raku  \\\n",
       "Database administrator                         1.303612  ... -0.540757   \n",
       "Blockchain                                    -0.720435  ... -0.540757   \n",
       "Hardware Engineer                             -0.937444  ... -0.540757   \n",
       "Scientist                                     -0.390780  ...  0.837612   \n",
       "Engineer, site reliability                     0.426766  ...  0.796772   \n",
       "Security professional                         -0.347719  ... -0.540757   \n",
       "Developer, QA or test                          0.243741  ... -0.540757   \n",
       "System administrator                           1.965129  ...  4.011337   \n",
       "Developer, game or graphics                   -1.203373  ... -0.540757   \n",
       "Data or business analyst                       1.146719  ... -0.540757   \n",
       "Cloud infrastructure engineer                  0.171139  ... -0.540757   \n",
       "DevOps specialist                              0.618420  ... -0.146507   \n",
       "Engineer, data                                 0.107338  ...  0.605696   \n",
       "Research & Development role                   -1.137936  ...  0.881025   \n",
       "Academic researcher                           -1.268045  ... -0.192845   \n",
       "Data scientist or machine learning specialist  0.006839  ... -0.540757   \n",
       "Developer, embedded applications or devices   -1.999925  ... -0.308965   \n",
       "Developer, mobile                             -0.626482  ... -0.540757   \n",
       "Developer, desktop or enterprise applications -0.247438  ... -0.427620   \n",
       "Developer, front-end                           0.153128  ... -0.275479   \n",
       "Developer, back-end                            1.040557  ... -0.079751   \n",
       "Developer, full-stack                          1.696188  ... -0.293702   \n",
       "\n",
       "                                                   TiDB    build2       APL  \\\n",
       "Database administrator                         3.786454 -0.700372  2.632620   \n",
       "Blockchain                                    -0.621196  2.241548  2.583521   \n",
       "Hardware Engineer                             -0.621196 -0.700372 -0.869813   \n",
       "Scientist                                      1.153640 -0.700372 -0.869813   \n",
       "Engineer, site reliability                    -0.621196 -0.700372 -0.869813   \n",
       "Security professional                          0.955099 -0.700372 -0.869813   \n",
       "Developer, QA or test                          0.372409 -0.700372  0.709276   \n",
       "System administrator                          -0.621196 -0.700372  0.682736   \n",
       "Developer, game or graphics                   -0.621196  1.317483  0.314504   \n",
       "Data or business analyst                      -0.621196  0.302130  0.306960   \n",
       "Cloud infrastructure engineer                  0.683172 -0.700372  0.166672   \n",
       "DevOps specialist                              0.394104 -0.013067 -0.063030   \n",
       "Engineer, data                                 0.362946 -0.700372 -0.869813   \n",
       "Research & Development role                   -0.621196  1.778253  0.584938   \n",
       "Academic researcher                           -0.621196  1.119197  0.554105   \n",
       "Data scientist or machine learning specialist -0.621196 -0.700372 -0.869813   \n",
       "Developer, embedded applications or devices   -0.621196  2.128252 -0.869813   \n",
       "Developer, mobile                             -0.187623 -0.700372 -0.525284   \n",
       "Developer, desktop or enterprise applications -0.475517  0.285798 -0.175251   \n",
       "Developer, front-end                          -0.507335 -0.392061 -0.507906   \n",
       "Developer, back-end                            0.057213 -0.470748 -0.600272   \n",
       "Developer, full-stack                         -0.382608 -0.592697 -0.574898   \n",
       "\n",
       "                                                   lest     tunit    snitch  \\\n",
       "Database administrator                        -0.512489 -0.392022 -0.516155   \n",
       "Blockchain                                     3.313965 -0.392022 -0.516155   \n",
       "Hardware Engineer                             -0.512489  4.236554 -0.516155   \n",
       "Scientist                                     -0.512489 -0.392022 -0.516155   \n",
       "Engineer, site reliability                     2.520330 -0.392022 -0.516155   \n",
       "Security professional                         -0.512489 -0.392022 -0.516155   \n",
       "Developer, QA or test                         -0.512489 -0.392022 -0.516155   \n",
       "System administrator                          -0.512489 -0.392022 -0.516155   \n",
       "Developer, game or graphics                   -0.512489 -0.392022  1.803270   \n",
       "Data or business analyst                       0.791430 -0.392022 -0.516155   \n",
       "Cloud infrastructure engineer                 -0.512489  0.997200  3.543651   \n",
       "DevOps specialist                              0.381464 -0.392022 -0.516155   \n",
       "Engineer, data                                 0.354031 -0.392022  1.015402   \n",
       "Research & Development role                   -0.512489 -0.392022 -0.516155   \n",
       "Academic researcher                           -0.512489  0.562231  0.878181   \n",
       "Data scientist or machine learning specialist -0.512489 -0.392022 -0.516155   \n",
       "Developer, embedded applications or devices    0.013096 -0.392022  0.412806   \n",
       "Developer, mobile                             -0.512489  0.069756 -0.516155   \n",
       "Developer, desktop or enterprise applications -0.512489  0.538913  0.390688   \n",
       "Developer, front-end                           0.089025 -0.392022 -0.516155   \n",
       "Developer, back-end                           -0.288491 -0.301704 -0.384184   \n",
       "Developer, full-stack                         -0.512489 -0.222617 -0.433644   \n",
       "\n",
       "                                                   CUTE  liblittletest  \\\n",
       "Database administrator                        -0.504425      -0.260248   \n",
       "Blockchain                                    -0.504425      -0.260248   \n",
       "Hardware Engineer                             -0.504425       4.486574   \n",
       "Scientist                                     -0.504425      -0.260248   \n",
       "Engineer, site reliability                    -0.504425      -0.260248   \n",
       "Security professional                         -0.504425      -0.260248   \n",
       "Developer, QA or test                         -0.504425      -0.260248   \n",
       "System administrator                          -0.504425      -0.260248   \n",
       "Developer, game or graphics                   -0.504425      -0.260248   \n",
       "Data or business analyst                      -0.504425      -0.260248   \n",
       "Cloud infrastructure engineer                 -0.504425      -0.260248   \n",
       "DevOps specialist                             -0.504425      -0.260248   \n",
       "Engineer, data                                 2.654619      -0.260248   \n",
       "Research & Development role                   -0.504425      -0.260248   \n",
       "Academic researcher                            2.371584       0.718384   \n",
       "Data scientist or machine learning specialist -0.504425      -0.260248   \n",
       "Developer, embedded applications or devices   -0.504425      -0.260248   \n",
       "Developer, mobile                              2.279069      -0.260248   \n",
       "Developer, desktop or enterprise applications  0.430818      -0.260248   \n",
       "Developer, front-end                           0.226549      -0.260248   \n",
       "Developer, back-end                           -0.232218      -0.260248   \n",
       "Developer, full-stack                         -0.164046      -0.260248   \n",
       "\n",
       "                                                 ELFspy  \n",
       "Database administrator                        -0.255916  \n",
       "Blockchain                                    -0.255916  \n",
       "Hardware Engineer                             -0.255916  \n",
       "Scientist                                     -0.255916  \n",
       "Engineer, site reliability                    -0.255916  \n",
       "Security professional                         -0.255916  \n",
       "Developer, QA or test                         -0.255916  \n",
       "System administrator                          -0.255916  \n",
       "Developer, game or graphics                   -0.255916  \n",
       "Data or business analyst                      -0.255916  \n",
       "Cloud infrastructure engineer                 -0.255916  \n",
       "DevOps specialist                             -0.255916  \n",
       "Engineer, data                                -0.255916  \n",
       "Research & Development role                   -0.255916  \n",
       "Academic researcher                           -0.255916  \n",
       "Data scientist or machine learning specialist -0.255916  \n",
       "Developer, embedded applications or devices   -0.255916  \n",
       "Developer, mobile                             -0.255916  \n",
       "Developer, desktop or enterprise applications  4.507433  \n",
       "Developer, front-end                          -0.255916  \n",
       "Developer, back-end                           -0.255916  \n",
       "Developer, full-stack                          0.610888  \n",
       "\n",
       "[22 rows x 231 columns]"
      ]
     },
     "execution_count": 17,
     "metadata": {},
     "output_type": "execute_result"
    }
   ],
   "source": [
    "std_skills = StandardScaler().fit_transform(skills)\n",
    "std_skills = pd.DataFrame(std_skills, columns=skills.columns, index=skills.index)\n",
    "std_skills"
   ]
  },
  {
   "cell_type": "code",
   "execution_count": 27,
   "metadata": {},
   "outputs": [
    {
     "data": {
      "application/vnd.plotly.v1+json": {
       "config": {
        "plotlyServerURL": "https://plot.ly"
       },
       "data": [
        {
         "colorscale": [
          [
           0,
           "#000004"
          ],
          [
           0.1111111111111111,
           "#180f3d"
          ],
          [
           0.2222222222222222,
           "#440f76"
          ],
          [
           0.3333333333333333,
           "#721f81"
          ],
          [
           0.4444444444444444,
           "#9e2f7f"
          ],
          [
           0.5555555555555556,
           "#cd4071"
          ],
          [
           0.6666666666666666,
           "#f1605d"
          ],
          [
           0.7777777777777778,
           "#fd9668"
          ],
          [
           0.8888888888888888,
           "#feca8d"
          ],
          [
           1,
           "#fcfdbf"
          ]
         ],
         "type": "heatmap",
         "x": [
          "JavaScript",
          "HTML/CSS",
          "SQL",
          "Docker",
          "Python",
          "npm",
          "Amazon Web Services (AWS)",
          "PostgreSQL",
          "TypeScript",
          "MySQL",
          "React",
          "Bash/Shell (all shells)",
          "Node.js",
          "C#",
          "Java",
          "Microsoft SQL Server",
          "SQLite",
          "Microsoft Azure",
          "Pip",
          ".NET (5+) ",
          "Homebrew",
          "MongoDB",
          "Yarn",
          "Webpack",
          "C++",
          "Kubernetes",
          "PHP",
          "jQuery",
          "Google Cloud",
          "Redis",
          "Make",
          "ASP.NET CORE",
          "NuGet",
          "Angular",
          "Visual Studio Solution",
          ".NET Framework (1.0 - 4.8)",
          "C",
          "Maven (build tool)",
          "MariaDB",
          "Pandas",
          "Gradle",
          "NumPy",
          "PowerShell",
          "Vue.js",
          "Go",
          "Express",
          "Vite",
          "Next.js",
          "ASP.NET",
          "MSBuild",
          "Elasticsearch",
          "Terraform",
          "CMake",
          "Spring Boot",
          "Rust",
          "Firebase",
          "Oracle",
          "Spring Framework",
          "Digital Ocean",
          "WordPress",
          "Cargo",
          "Cloudflare",
          "GNU GCC",
          "Kotlin",
          "Dynamodb",
          "Django",
          "Ansible",
          "RabbitMQ",
          "Heroku",
          "Flask",
          "Composer",
          "Apache Kafka",
          "Ruby",
          "Scikit-Learn",
          "Vercel",
          "Laravel",
          "LLVM's Clang",
          "Flutter",
          "Netlify",
          "FastAPI",
          "Chocolatey",
          "React Native",
          "AngularJS",
          "Dart",
          "Torch/PyTorch",
          "Ruby on Rails",
          "APT",
          "TensorFlow",
          "Swift",
          "pnpm",
          "VMware",
          "Blazor",
          "Opencv",
          "Cloud Firestore",
          "Qt",
          "Unity 3D",
          "Lua",
          "Firebase Realtime Database",
          "Delphi",
          "BigQuery",
          "MSVC",
          "Pacman",
          "NestJS",
          "R",
          "Svelte",
          "Visual Basic (.Net)",
          "Groovy",
          "VBA",
          "Assembly",
          "Scala",
          "H2",
          "OpenGL",
          "Cosmos DB",
          "Podman",
          "Hetzner",
          "Apache Spark",
          "Ninja",
          "Electron",
          "Google Test",
          "MATLAB",
          "SwiftUI",
          "Microsoft Access",
          "CUDA",
          "Symfony",
          "Elixir",
          "Keras",
          "Linode, now Akamai",
          "Ant",
          "Perl",
          "Nuxt.js",
          "Snowflake",
          "Managed Hosting",
          "Objective-C",
          "Xamarin",
          "OVH",
          "OpenShift",
          "InfluxDB",
          "Phoenix",
          "Godot",
          "Cassandra",
          "Unreal Engine",
          ".NET MAUI",
          "IBM DB2",
          "Oracle Cloud Infrastructure (OCI)",
          "Ionic",
          "Fly.io",
          "Firebird",
          "Nix",
          "Clojure",
          "Hugging Face Transformers",
          "Supabase",
          "Tidyverse",
          "Gatsby",
          "Hadoop",
          "Dagger",
          "Cordova",
          "Vultr",
          "Solr",
          "Haskell",
          "Neo4J",
          "CodeIgniter",
          "Fastify",
          "GTK",
          "Drupal",
          "Render",
          "Lisp",
          "GDScript",
          "Capacitor",
          "OpenStack",
          "Julia",
          "QMake",
          "Clickhouse",
          "Deno",
          "Catch2",
          "Erlang",
          "Solidity",
          "Ktor",
          "Tauri",
          "Quarkus",
          "F#",
          "Fortran",
          "Meson",
          "Puppet",
          "Remix",
          "Apex",
          "MFC",
          "JAX",
          "Ada",
          "Pulumi",
          "Couch DB",
          "Chef",
          "Play Framework",
          "Cockroachdb",
          "IBM Cloud Or Watson",
          "Solid.js",
          "Scaleway",
          "Couchbase",
          "Elm",
          "Cobol",
          "OCaml",
          "Zig",
          "DuckDB",
          "Lit",
          "SAS",
          "Colocation",
          "bandit",
          "Micronaut",
          "doctest",
          "Prolog",
          "cppunit",
          "Boost.Test",
          "SCons",
          "Crystal",
          "Uno Platform",
          "Datomic",
          "Bun",
          "Wasmer",
          "Qwik",
          "Flow",
          "Nim",
          "RavenDB",
          "Raku",
          "TiDB",
          "build2",
          "APL",
          "lest",
          "tunit",
          "snitch",
          "CUTE",
          "liblittletest",
          "ELFspy"
         ],
         "y": [
          "Database administrator",
          "Blockchain",
          "Hardware Engineer",
          "Scientist",
          "Engineer, site reliability",
          "Security professional",
          "Developer, QA or test",
          "System administrator",
          "Developer, game or graphics",
          "Data or business analyst",
          "Cloud infrastructure engineer",
          "DevOps specialist",
          "Engineer, data",
          "Research & Development role",
          "Academic researcher",
          "Data scientist or machine learning specialist",
          "Developer, embedded applications or devices",
          "Developer, mobile",
          "Developer, desktop or enterprise applications",
          "Developer, front-end",
          "Developer, back-end",
          "Developer, full-stack"
         ],
         "ygap": 1,
         "z": [
          [
           -0.9430708655488653,
           -0.3171743987291725,
           2.386028273952771,
           -1.057181653423486,
           -0.7617139573373138,
           -1.1432100654953274,
           -0.3805402359486853,
           -0.15187212108569959,
           -0.893730741880203,
           1.3036124621204157,
           -0.7000936082793703,
           0.034525465370529584,
           -0.4612331918607192,
           0.20780152645577082,
           -0.18523268772863527,
           2.551114686477295,
           -0.9986303235010539,
           1.3913452214333224,
           -1.2124482247179884,
           -0.1807701080986868,
           -1.501628905534639,
           -0.5653602893074717,
           -0.7040165046810305,
           -0.6245128386804695,
           -0.7255878183426986,
           -0.320626416824953,
           0.73841663888718,
           0.11208368539413786,
           -0.02140930303971343,
           -0.7142740900348655,
           -1.0532519018142017,
           0.00957365066667721,
           -0.38903125907671016,
           -0.6708712008574524,
           0.6796220674481033,
           0.8155923910414787,
           -0.38488661966770693,
           -0.5832652484910912,
           -0.1903167304231738,
           -0.31115670620972397,
           -0.7455810407445317,
           -0.5252026777249801,
           2.0905442382572166,
           -0.7760568432244838,
           -0.6902352008275378,
           -0.16322291788326077,
           -0.5052333237556861,
           -0.722512288380274,
           0.6998393524841483,
           -0.6558003832702715,
           -0.4239711745896243,
           0.11711474513873427,
           -0.9553625045882511,
           -0.0983503735758801,
           -0.8681791740124631,
           -0.3764455634016186,
           3.9635990132144068,
           -0.3505354451422098,
           -1.0623162273616278,
           2.525498269860675,
           -1.1180443898453214,
           -0.8546384772637521,
           -0.709434427194536,
           -0.5219297323827236,
           -0.46223785784947025,
           -0.8942846732489627,
           0.9588330696290943,
           -0.5992103752210557,
           -0.9170037971574437,
           -0.7493666370787353,
           -0.620370608653202,
           0.15336309009984636,
           -1.1834586202477484,
           -0.48530627554704214,
           -0.35271967472935006,
           -0.6732360768289386,
           -1.0408976401933572,
           -0.5570955130173859,
           -0.7018431680826349,
           -0.6209227179335454,
           0.18493250091794636,
           -0.47094754107156395,
           -0.924137643479918,
           -0.4050909350137824,
           -0.51085479988472,
           -0.33530104535231325,
           -0.3137949645999028,
           -0.40334738789283137,
           -0.3070004856499585,
           -0.6993199600819037,
           2.0152705546204865,
           -0.9970757402333724,
           -0.6592470545597275,
           -0.6059327123122308,
           -0.8875482449553956,
           -0.42768982124863936,
           -1.0693457161662276,
           -0.39791108442233997,
           0.807137456552225,
           0.03375712355120884,
           -0.5631825591314447,
           -1.0705011378266607,
           -0.8715049314750503,
           -0.1781457509253877,
           -1.3732604835097335,
           1.6865376401702925,
           -0.5103885928342636,
           1.292495085908861,
           -0.3339623150919344,
           -0.4991821452456825,
           -0.5097293905862766,
           -0.254639678459855,
           -0.5244539611346305,
           -0.2943250769189253,
           -1.2999353542037098,
           -0.004492529618620437,
           -0.8172455995905827,
           -0.9775331505006786,
           -0.5017727675183493,
           -0.5276689425280732,
           -0.30956901309317386,
           1.9400737107560164,
           -0.7273246059228431,
           -0.8108118864842053,
           -1.1071143500069567,
           -0.49095147164327063,
           -1.2056606684669793,
           1.6952290776318597,
           2.8754070869837864,
           -0.5281971554314303,
           0.6016767002793721,
           1.4499909403370241,
           -0.45650929440708327,
           -0.4587172493043153,
           -1.5035947475336504,
           -0.43604598489065,
           0.08833685994570327,
           -0.9425068112554709,
           -1.0759629101016264,
           1.7132399885224892,
           -0.32816513574961187,
           -0.9387835675836111,
           2.116924232317371,
           4.515825673071776,
           -0.112290796163774,
           -1.3324727152628633,
           0.17594777217936922,
           -1.1639440692941116,
           -1.3252696075810118,
           -0.5096691470149817,
           -0.790358646943432,
           -0.11553260466165767,
           -0.6492242036628719,
           0.9233556291048128,
           -0.3495777173696446,
           -0.7546333738481648,
           -0.156632048347151,
           -0.4149052924156679,
           -0.5801361417359359,
           0.44135677242847776,
           2.2763157192037218,
           -0.7423984892810828,
           -0.881059486722316,
           0.7126497311143456,
           -0.017335386246697174,
           -0.39470791679989303,
           -0.3869533510244091,
           0.21435472651457127,
           0.4140473022830242,
           -0.2725059581523609,
           -0.8482458582607331,
           -0.35470159356467923,
           -0.24613640968394196,
           -0.7749429217985505,
           -1.0545658705595216,
           -0.2596871786291565,
           -0.42623588619750064,
           -1.4890312235709042,
           0.30447319353673946,
           2.4960872366995694,
           -0.17524991643566468,
           -0.8069537505816362,
           0.6306560394574502,
           -0.38116983556432493,
           4.5457146414967395,
           -0.2629797842838332,
           -0.6574705506921432,
           -1.2437461194734978,
           -0.22145638555215238,
           -0.08649349043823146,
           -0.27153026335692043,
           -0.792425461828777,
           -0.7588450032569355,
           -1.7190966758471753,
           -0.9253431917628573,
           -0.891305853287038,
           0.21733902561362842,
           -0.9852583479645654,
           2.7357654559056908,
           -0.6567515472519408,
           -0.277683184570934,
           0.30550065586048825,
           -0.6587022144086105,
           0.36580399651570844,
           -0.7765203242408792,
           -1.0791241934499602,
           -0.6704651077267788,
           -0.9506681115025475,
           -1.1622486909515917,
           -0.5605926769923623,
           0.24964395391511476,
           -0.7106264987564671,
           0.7874475160837421,
           0.6754312817734244,
           -0.7396961690115549,
           -0.6706801870305396,
           -0.4621387326743541,
           -0.6009862195251289,
           -0.6832624788067709,
           -0.8513916926061232,
           -0.4948978734104044,
           -0.5407572598788897,
           3.7864536297688236,
           -0.7003715242284554,
           2.632620057842785,
           -0.512489219307684,
           -0.3920222557046658,
           -0.5161548977794922,
           -0.504425014122852,
           -0.2602478918842954,
           -0.2559160687967922
          ],
          [
           0.9427571730580179,
           -0.11858917037191216,
           -0.6903045385586568,
           0.5129541910173905,
           -1.111854842280442,
           1.5433868084552915,
           0.9040603043134485,
           1.2745199262309894,
           1.7174171940499734,
           -0.7204350075139462,
           1.4311475700163954,
           -0.6485979967796529,
           1.9626178093348727,
           -0.960705620420694,
           -0.961353176158032,
           -1.072846969926366,
           0.28298387444534717,
           -1.2806110815247016,
           -0.7210976265425577,
           -0.6942161169801866,
           0.3599158192599329,
           1.3978994258728947,
           2.411066030322481,
           0.7476228932899854,
           -0.4235653897302619,
           0.013130342765187505,
           -0.7629951748910553,
           -0.8626462122654466,
           1.166413920646386,
           0.5339012522030872,
           0.26711529812870066,
           -0.8684812757299477,
           -0.8756934441982963,
           0.28003721292505934,
           -1.100305018894942,
           -0.8041720577274518,
           -0.39495371088776227,
           -1.019726787743653,
           -0.8462194155220797,
           -0.6573300047679402,
           -0.15411671485621214,
           -0.650574962811637,
           -1.3356396692035772,
           0.41451947667473743,
           0.8593991618535044,
           2.312576935051328,
           0.778041840219584,
           2.2239852501189,
           -0.7767529088466562,
           -0.661077475023144,
           -0.6410642687791178,
           -0.3989746474986869,
           -0.2105031196739344,
           -0.5952882757366682,
           3.728928319280191,
           0.16066910775042845,
           -0.7665595157956187,
           -0.5006870681520914,
           2.6285710938102174,
           -0.4248162747442725,
           3.6123202349784456,
           1.7486283366319113,
           -0.38573938021230314,
           -0.23160269396482575,
           -0.07545776795829574,
           0.07191946564258436,
           -0.3906655529634164,
           0.22229542779952022,
           1.2839636237038448,
           -0.8626967246204941,
           -0.4140345939237127,
           -0.16517582929663976,
           0.10961488096420435,
           -0.4562520606209895,
           2.160645548375326,
           0.13558584346592234,
           -0.2415248542444976,
           0.05521697009851919,
           1.1762045384575783,
           -0.5138450340771116,
           0.4078272299044923,
           0.9160727913367104,
           0.6910477779723622,
           -0.31697699423146103,
           -0.5134314863719807,
           0.3357215294082132,
           0.0698386914660891,
           -0.35527472696708917,
           -0.25120392595879115,
           1.94614227799249,
           -0.6159462696149416,
           -0.9970757402333724,
           -0.16827669705447335,
           0.4578762652972997,
           -0.6295274917954764,
           -0.42847247604898164,
           -0.40099524362580136,
           -0.12899208593147488,
           -0.6257625568513345,
           -0.28855525965974077,
           -0.5651546192630003,
           0.4694613369539058,
           1.3606656754785926,
           -0.48677513402252953,
           2.918101056103054,
           -0.543071721622772,
           -0.7908484568892787,
           -0.726577377543661,
           -0.10275883504849721,
           -0.12429400708574342,
           0.2746961823582201,
           -0.26222806648023994,
           -0.53420193311725,
           -0.30632220079098277,
           2.1024941948692897,
           -0.3901006380328395,
           -0.411286671956179,
           1.2566237107999605,
           -0.6168156678466692,
           -0.5323336069684949,
           -0.13322098021715176,
           -0.6367327676522454,
           -0.18719676237412206,
           -0.8108118864842053,
           0.9819442637795052,
           -0.566517237889968,
           -0.23227397901258087,
           -0.5758186389089025,
           -0.9583456050212704,
           0.41118947516389415,
           -0.692537028322525,
           -0.6653610876298058,
           -0.223592754641833,
           -0.8177847309033448,
           0.8824224351385341,
           -0.147348953288863,
           0.997450356208679,
           -0.26041022204091036,
           -0.7306487074296546,
           -0.21816968428534028,
           -0.24024313718428866,
           -0.34392374150827243,
           -0.35767468873427527,
           -0.3828417582548745,
           -0.6939535385013538,
           2.5368504976475283,
           -0.6250911981116467,
           3.056710352722112,
           0.23253365035962012,
           -0.16513864488730315,
           1.9655059652965778,
           -0.6056490430373959,
           1.814063599468262,
           -0.6187828547385565,
           -0.3495777173696446,
           -0.7546333738481648,
           1.76413900895295,
           -1.338097915455753,
           3.2694697634491825,
           -0.16586270340617548,
           -1.1059115132384,
           2.9079038335957375,
           -0.4527072967220044,
           0.6829555648713166,
           2.1263116209486546,
           -0.7626860553529345,
           -0.8954985465102503,
           1.0892734340294947,
           -1.0559254675824845,
           -0.27713606736753177,
           -0.16541408292785653,
           -0.3656516907320843,
           2.9828258130581013,
           -0.4440944074982592,
           2.49989853771699,
           4.579992391916632,
           0.02832824399906545,
           2.546857794503485,
           1.4797027462711254,
           1.1426268711484087,
           -0.5248591509963756,
           -0.03279273319080852,
           -0.6409415411103835,
           4.306057122881476,
           -0.160334379510912,
           -0.8571956381571575,
           -0.6574705506921432,
           1.7721271817610669,
           0.18454979411607614,
           1.2305784968507785,
           -0.5741869858968294,
           -0.792425461828777,
           2.5394451749251807,
           0.9359307923373607,
           0.5812238950122733,
           -0.042116420723583715,
           -1.0666881737518041,
           1.4329099892396056,
           0.7509633501578816,
           3.6790557887438076,
           0.3939208933905955,
           -0.6868226233986925,
           -0.6587022144086105,
           -0.16630503852326625,
           1.3346756687924843,
           -1.0791241934499602,
           -0.6704651077267788,
           -0.9506681115025475,
           0.04406118742306772,
           -0.5605926769923623,
           0.2337983407311097,
           -0.7106264987564671,
           0.7616041448334864,
           -0.8334696274296773,
           2.173505636210602,
           -0.6706801870305396,
           4.432755440506693,
           2.261229887717988,
           -0.6832624788067709,
           2.920900763880006,
           -0.4948978734104044,
           -0.5407572598788897,
           -0.6211955382568565,
           2.2415475288724758,
           2.583520533144234,
           3.3139651413346476,
           -0.3920222557046658,
           -0.5161548977794922,
           -0.504425014122852,
           -0.2602478918842954,
           -0.2559160687967922
          ],
          [
           -0.9350487323171711,
           -0.43942747958616946,
           -0.9708777926930467,
           -0.7974082737911742,
           0.8306445457037844,
           -0.7386121258696097,
           -1.3357878366651827,
           -1.461236370871389,
           -0.9261983227572628,
           -0.9374441620326709,
           -0.5722317971668831,
           -0.030638509046797352,
           -0.8694759444049079,
           0.05929689484876662,
           -0.8545986630820197,
           -0.6988655993998044,
           -0.37178754387593765,
           -1.0978218953394179,
           0.6389564092616238,
           0.10736749278757299,
           -0.8012184991453528,
           -1.1177754723238098,
           -0.7531962147911744,
           -0.35060617999883764,
           1.3573761000099023,
           -0.8612975666177617,
           -1.0721416913167274,
           -0.4824835349897122,
           -1.1309743366806102,
           -0.9097105056331342,
           1.4008967879477598,
           -0.581686245591112,
           -0.21503163590364308,
           -0.5900481093130586,
           0.7636793851066556,
           0.12419119055803923,
           2.4110304678182906,
           -0.8499693964398917,
           -0.5284341880688785,
           -0.008169609150376853,
           -0.4784102776862739,
           0.5831332990455821,
           -0.3883180580989383,
           -0.7822443338432759,
           -0.6558029734248102,
           -0.7513161380817995,
           -0.43278458615842386,
           -0.2537513163463144,
           -0.6450703360906123,
           -0.14145984042362178,
           -0.9865140642088546,
           -0.695610065222729,
           1.5195706642809457,
           -0.9576865384875655,
           0.11912906385449891,
           -0.37993937088959806,
           -0.7665595157956187,
           -0.6408728754754763,
           -1.0754822939056414,
           -0.5360394959184093,
           0.03161311990906267,
           -0.7710473410377445,
           2.1276879205953394,
           -0.3286082444100774,
           -0.7837464764475345,
           -0.7190371718205251,
           -0.5613499284269379,
           -0.941045004665859,
           -0.9295927433206161,
           -0.4608034730018206,
           -0.8450930009328441,
           -0.8716052346248826,
           -0.6999949373020332,
           -0.33114105349043627,
           -0.35760210231578266,
           -0.6809759995111861,
           1.2257303740570464,
           -0.2953880066652691,
           -0.5473813559195806,
           -0.7409142933103531,
           1.7070202635001075,
           -0.4753438020300689,
           -0.6581371940245939,
           -0.2262841088408766,
           -0.10567084976299959,
           -0.34992381332530303,
           0.4725585990776525,
           0.07181291325739997,
           -0.19377429622788236,
           -0.3465916616719846,
           -0.40909576666647834,
           -0.3839848368705794,
           0.8230605798221642,
           -0.3035338238329952,
           2.322690822669054,
           -0.20828559221935944,
           0.9501132565517311,
           -0.26539090487756267,
           0.48319407239496803,
           -0.7007244284931369,
           0.47510710013256835,
           0.4694613369539058,
           -0.8715049314750503,
           -0.13585473461184558,
           -0.8010789448946953,
           0.7704161574046916,
           -0.6535467601013248,
           0.3586044262053914,
           2.9263089802918287,
           -0.37540955359922645,
           -0.9103667953837046,
           0.4493940989869647,
           -0.8770056145060284,
           -0.44695515284676685,
           -0.8746316605695849,
           -0.45317297204477774,
           1.4155285023986381,
           1.2566237107999605,
           0.501804238571556,
           2.420398983818411,
           -0.31083164817343184,
           0.7725626365575607,
           0.17374377599097732,
           -0.8108118864842053,
           -1.1071143500069567,
           -0.11947863943987996,
           -1.2126300242387293,
           -0.019912527319458417,
           1.366559925463564,
           -0.5281971554314303,
           -0.692537028322525,
           -1.183156073593844,
           -0.10713448475920787,
           0.5983505703563787,
           -0.7082556866429223,
           -0.7416423549276636,
           0.06627099838592229,
           -0.9425068112554709,
           -0.040020302085711,
           -1.163708990462723,
           -0.24024313718428866,
           -0.34392374150827243,
           -1.1671946458534959,
           -0.3828417582548745,
           0.4530636449867706,
           -1.3324727152628633,
           0.42798807124289745,
           -0.1899468949826756,
           -0.5463679786106959,
           -0.39482564630575556,
           -0.790358646943432,
           -0.3157016547272629,
           -0.6492242036628719,
           -0.6187828547385565,
           -0.008262477510061957,
           -0.7546333738481648,
           -1.4677803936811913,
           0.4824034253055361,
           -0.5851183754354853,
           -1.3306200615981008,
           -1.1059115132384,
           -0.7423984892810828,
           1.7199444362122693,
           -0.36128928134185684,
           -0.03268369417411036,
           2.45754659493382,
           -0.39408248927888356,
           -0.6858020206402059,
           0.03109878863815447,
           -0.27713606736753177,
           1.883081243070773,
           -0.3656516907320843,
           -1.342958498043938,
           0.8792996497029063,
           -1.0545658705595216,
           -0.2596871786291565,
           -0.42623588619750064,
           0.5289132854662905,
           -0.9046572116803696,
           -1.453556193681544,
           -0.5248591509963756,
           -0.03279273319080852,
           -0.22301772569011427,
           -0.38116983556432493,
           -0.38114299490620096,
           0.9004615370849653,
           -0.6574705506921432,
           1.7721271817610669,
           -0.6391742819415799,
           -1.44155793889904,
           -0.5741869858968294,
           -0.792425461828777,
           -0.7588450032569355,
           -0.3915829417549074,
           -0.9253431917628573,
           -0.042116420723583715,
           1.46536546238003,
           -0.9852583479645654,
           -0.21399804226789615,
           -0.22317081365236602,
           3.119083594349879,
           -0.6868226233986925,
           -0.6587022144086105,
           -0.6837013813491816,
           0.6309436711146964,
           1.4032155967642368,
           -0.6704651077267788,
           -0.11278164300181277,
           1.2503710657977272,
           1.177983822706811,
           1.348273134672787,
           2.299891209035959,
           -1.056046299767818,
           3.6297746507271604,
           2.173505636210602,
           -0.6706801870305396,
           0.3536769628558204,
           -0.6009862195251289,
           -0.6832624788067709,
           -0.8513916926061232,
           -0.4948978734104044,
           -0.5407572598788897,
           -0.6211955382568565,
           -0.7003715242284554,
           -0.8698127039871438,
           -0.512489219307684,
           4.2365539777272065,
           -0.5161548977794922,
           -0.504425014122852,
           4.486573880535649,
           -0.2559160687967922
          ],
          [
           -1.026102432276768,
           -0.7830428596072404,
           -0.64568411010217,
           -0.8431656117697092,
           1.128362645287118,
           -1.1169353001450435,
           -0.9332058321450817,
           -1.066074585912713,
           -0.9498504684793335,
           -0.39077987965725747,
           -0.8610140901718009,
           0.34108063319250803,
           -1.1475300111255722,
           -0.7545249593188976,
           -1.1088536865913008,
           -0.7276733246797825,
           0.21800655812338746,
           -1.4703769542056064,
           0.7540493134910728,
           -0.7629367317929246,
           -0.41712826659398616,
           -1.7290908737940014,
           -0.7407636621891338,
           -0.5587946430014263,
           0.6009833155080229,
           -0.8388885634874462,
           -0.7924938882904513,
           -0.9243138221288767,
           -0.8854519275006256,
           -0.7621391742645459,
           0.5795841635776491,
           -1.0166222200510255,
           -1.0565289009943246,
           -0.8278271515735519,
           -0.4600050327875228,
           -0.76873834596083,
           0.396375065485572,
           -1.3054634654725032,
           -0.7970961265455353,
           1.4608379697365268,
           -0.6999696202304764,
           1.919710952085259,
           -0.6052619385045808,
           -0.6842442438771928,
           -0.6563961236049936,
           -0.6650710563476132,
           -0.42643005815739415,
           -0.722512288380274,
           -0.9808106360945714,
           -0.5471809160760296,
           -1.0682617257227618,
           -0.7010446072268336,
           0.6870325389381919,
           -1.078485959404531,
           -0.23470234894638187,
           -0.5453858241028193,
           -0.5760893918221234,
           -1.0614302974456313,
           -1.245133594106368,
           -0.7398072293672096,
           -0.07540503814256466,
           -0.8699659063552011,
           0.8396919854984259,
           -0.49188857931983315,
           -0.8125826579636358,
           -0.883568228086706,
           -0.7362688399229514,
           -1.0019395965506337,
           -1.09180756105676,
           -0.2713614250059955,
           -0.39593672187371093,
           -0.9725237211003459,
           -0.6863984365372566,
           1.2721421771997643,
           -0.6075045409339842,
           -0.7807087436915963,
           1.0159770242790327,
           -0.35962097950748984,
           -0.22084495816457406,
           -0.33964304512336535,
           -1.3892245081682209,
           -0.7845474894449087,
           -0.9774099736574614,
           -0.2186686757164763,
           0.8225984875215681,
           -0.53834543422917,
           -0.5788170375876508,
           1.0054558366870805,
           -0.28276830260478686,
           -0.41121364000662625,
           -0.39172664046469885,
           -0.7466912873333005,
           0.8949514510460426,
           -0.38723081072976046,
           1.560443166262631,
           -0.25871006943225,
           0.8998334554955064,
           -0.6745873617158263,
           0.42624557096247223,
           -0.5701517528703435,
           0.20246853245383153,
           -0.15868030121037252,
           -0.8715049314750503,
           2.128863829960049,
           -0.6722289037561943,
           -0.30577492922849725,
           -0.5917085913189638,
           0.5125456108339148,
           0.3371801023743745,
           -0.11375098795731466,
           -0.9103667953837046,
           0.8751451464563706,
           -1.2198092958948068,
           -0.11630668541790028,
           -0.4314717049889889,
           -0.36169401431753917,
           -0.2369722469223224,
           -0.4414937621363004,
           0.0022678681481501464,
           2.0873087085218387,
           -0.25456567321018275,
           0.6929535831899838,
           2.350408091322493,
           -0.39138589031922627,
           -1.1071143500069567,
           0.7723235518702194,
           -1.3024336314350176,
           -1.2335701449880156,
           1.2700585985779822,
           -0.27243540104542596,
           -0.48407970257061633,
           -0.4321557122719564,
           -0.07601967982873552,
           -0.5286120644247371,
           -0.8539666596305366,
           -1.038789055747064,
           -0.9786401893999196,
           -0.9425068112554709,
           -0.5118618461947412,
           -0.7775536249627996,
           -0.2000735482185037,
           -0.9387835675836111,
           -0.5059836885118424,
           -0.27167069324801907,
           -0.6939535385013538,
           -0.7003848010927689,
           0.02002033903111796,
           0.4271658185123563,
           -0.6890675136892269,
           0.6159724935243039,
           -0.790358646943432,
           2.157335611470105,
           -0.24682451673916,
           -0.37039261039431925,
           -0.3495777173696446,
           -0.7546333738481648,
           -0.4118555812175177,
           -0.5946107266715625,
           2.499087123616577,
           0.572113332700159,
           -1.1059115132384,
           -0.7423984892810828,
           1.1626841444062266,
           -0.5526013142358733,
           -0.23045425739146283,
           2.678783952587109,
           -0.8954985465102503,
           -0.6858020206402059,
           -0.7599672095275014,
           2.3231002798169307,
           1.1038190261832537,
           -1.1358085248395664,
           0.42367860610842184,
           0.30599726232759217,
           0.3970665404541683,
           -0.2596871786291565,
           -0.42623588619750064,
           -1.4890312235709042,
           -0.9046572116803696,
           0.6669902791184937,
           3.6984737779526697,
           0.45770623202628086,
           -0.47026273099599875,
           -0.38116983556432493,
           -0.38114299490620096,
           0.0999001264785022,
           2.303869171912606,
           0.7269313964477138,
           -0.6391742819415799,
           -1.44155793889904,
           -0.5741869858968294,
           -0.792425461828777,
           -0.7588450032569355,
           -0.6347915647947121,
           1.5357664003736158,
           -0.891305853287038,
           -1.0666881737518041,
           -0.9852583479645654,
           0.3973897101850777,
           0.40568673889663565,
           -0.9686604570890462,
           0.11233849081385373,
           0.49296235638775115,
           0.16151096494658854,
           -0.7765203242408792,
           -1.0791241934499602,
           -0.6704651077267788,
           3.155615192142275,
           -0.17694214907305306,
           0.8594659907008554,
           1.8502121640052982,
           0.7647569885738666,
           -1.056046299767818,
           0.38171392921862196,
           -0.7396961690115549,
           -0.6706801870305396,
           -0.4621387326743541,
           -0.6009862195251289,
           -0.6832624788067709,
           0.6892010281725632,
           -0.4948978734104044,
           0.837612145835329,
           1.1536402908527206,
           -0.7003715242284554,
           -0.8698127039871438,
           -0.512489219307684,
           -0.3920222557046658,
           -0.5161548977794922,
           -0.504425014122852,
           -0.2602478918842954,
           -0.2559160687967922
          ],
          [
           -0.2031256376398935,
           -0.1376018109179422,
           -0.29386492206876874,
           1.5631028330270909,
           0.5375909343313492,
           -0.03840903405538793,
           1.613830364571612,
           1.3187341694164825,
           -0.010460856999025292,
           0.42676647353442354,
           -0.23314128946215776,
           2.022817981301047,
           -0.2633594692455566,
           -0.5871580326064559,
           -0.2963120984030226,
           -0.5563245517782327,
           -0.1365548491456984,
           0.04991366137459741,
           0.3277990732395457,
           -0.6905621745994789,
           1.5253506351407942,
           -0.2590296583097494,
           -0.0076298491941333545,
           -0.1268928502548181,
           -0.7025126397067407,
           2.3736230378296357,
           0.040785767815692646,
           -0.34238654836402493,
           1.2334210781517563,
           2.0100582026475324,
           1.2560971085328099,
           0.03722451080726415,
           -0.3198985896012071,
           -0.21558916692761662,
           -0.8454977232637471,
           -0.571344449427281,
           -0.6041641615950255,
           -0.30045843347882717,
           -0.003500071609146015,
           -0.47941197041349687,
           -0.19375259475766407,
           -0.5363427163433759,
           -0.023862382715625963,
           -0.1826535762504125,
           2.6589355249865156,
           -0.22364566437553857,
           -0.43558742510837295,
           -0.4040524534111713,
           0.053335012748849914,
           -0.38504778976498505,
           1.8323562664977977,
           2.4487253626521173,
           -0.5746101513297982,
           0.16619548130287157,
           0.3128917721435859,
           -0.5088116950906549,
           -0.2598994255818423,
           -0.06143820520548505,
           1.5459357363512922,
           -0.5022605917099676,
           0.3193284436560061,
           2.4692022539760647,
           -0.3986910184773344,
           -0.2635785976301124,
           1.8657779516048028,
           1.2627486253787101,
           1.8617360388014987,
           0.8341263219109423,
           0.11487792763833353,
           1.2003553003553629,
           0.7737707942792275,
           1.2671191343106762,
           2.887476124082139,
           -0.519965999437475,
           -0.610274762216776,
           -0.14668244793357205,
           -0.6327929151249095,
           -0.507049529674519,
           -0.1156143843988377,
           0.3582691208298196,
           -0.8028282043646066,
           -0.5394749371975911,
           0.2992844379554684,
           -0.37340812291893577,
           -0.44328994476599126,
           0.7953578517592002,
           0.9846592223368017,
           -0.6131091171766881,
           -0.05934642219108831,
           -0.27996520530566643,
           0.6489062502662173,
           -0.5111444316421215,
           -0.9289138792505602,
           -0.5189846786831971,
           -0.5131110397436071,
           -0.35263032717433396,
           0.4246821731493574,
           -0.5664786681807789,
           -0.566767557719713,
           0.15490823495545028,
           -0.4290216041322222,
           -0.7397411026037877,
           0.39221070314949885,
           -0.5387633413426308,
           0.2140134884260579,
           -0.852795406677396,
           0.9218630793397176,
           -0.7453336062504348,
           -0.5208056212592089,
           -0.029428133958427506,
           -0.28418537010772454,
           -0.7254413834463926,
           -0.13299466156593867,
           2.528213077311155,
           1.2282588246213664,
           -0.3662733118505518,
           -0.33460554118079155,
           0.12306803752868807,
           -0.5513556881377507,
           -0.6653888409977813,
           -0.11809118257643157,
           -0.8068921386790591,
           -0.6042836067071258,
           1.6311794689652286,
           0.9626011284666676,
           -0.4484107439784632,
           1.7937951811214592,
           -0.8064167296423014,
           0.27837497577830145,
           -0.5281971554314303,
           -0.08569459113363542,
           -0.059349178131153174,
           -0.27190137029684786,
           -0.5371801434315105,
           2.2786843420355907,
           2.0229225060291274,
           1.9585194218134012,
           1.7606167089651947,
           -0.8022694309468041,
           0.33514590969994323,
           -0.34793192980028437,
           -0.9387835675836111,
           -0.20476536350064456,
           0.20877901038316782,
           -0.23939487689680064,
           0.5076054348767451,
           -0.6250911981116467,
           2.181315361489117,
           1.7614886998198698,
           -0.327620931075912,
           -0.790358646943432,
           -0.5290456589653361,
           -0.6492242036628719,
           0.10430874546355663,
           -0.07905378651797533,
           -0.15566819977144744,
           0.5814959090260866,
           1.5477338395288096,
           -0.38005947781131766,
           -0.8690310344627821,
           -1.1059115132384,
           0.7042028016367685,
           -0.2885513880114146,
           -1.4055341275550304,
           -1.1121813517354928,
           0.29747284186081174,
           -0.4980798937416855,
           -0.6858020206402059,
           2.3903440262133193,
           -0.47373279111737177,
           -0.5776421547028893,
           1.305873882553044,
           1.2284799535556084,
           -0.7749429217985505,
           1.7626762900744548,
           -0.12269095798143179,
           -0.06595172374540743,
           0.11037664655487264,
           -0.9046572116803696,
           -1.453556193681544,
           -0.38825257971432,
           -0.5001566066526785,
           3.6652216237014286,
           -0.38116983556432493,
           -0.2061317219632682,
           0.0715417334522606,
           -0.6574705506921432,
           -0.7656743517222407,
           3.604530124711012,
           0.6763576064730388,
           3.68318424449789,
           2.2498166030494526,
           2.3781954328807218,
           1.437435980772218,
           -0.9253431917628573,
           3.8201229244168684,
           2.94708573833866,
           -0.9852583479645654,
           0.3506830688553371,
           -0.6567515472519408,
           0.11131142810592928,
           -0.29908149020667923,
           -0.6587022144086105,
           -0.6837013813491816,
           3.1278890554677368,
           -0.09538212843914866,
           -0.6704651077267788,
           -0.9506681115025475,
           -0.20613641698056515,
           -0.5605926769923623,
           -0.8806764532105675,
           0.24381911526957614,
           -1.056046299767818,
           -0.8334696274296773,
           1.5692860025348958,
           3.216591598310384,
           -0.4621387326743541,
           -0.6009862195251289,
           -0.6832624788067709,
           -0.8513916926061232,
           3.7557995989276813,
           0.7967715708512042,
           -0.6211955382568565,
           -0.7003715242284554,
           -0.8698127039871438,
           2.520330162831054,
           -0.3920222557046658,
           -0.5161548977794922,
           -0.504425014122852,
           -0.2602478918842954,
           -0.2559160687967922
          ],
          [
           0.5053346372582783,
           0.2951291103911507,
           -0.19303996329335668,
           0.7001758313192848,
           0.8159386181337346,
           0.1349144544664932,
           0.6853509414831334,
           0.18611888476437302,
           -0.21285093179958212,
           -0.34771871952698413,
           -0.13760034123559547,
           1.086820774787412,
           0.06500422143142023,
           -0.2336339969940425,
           0.39062940300122734,
           -0.29964480818131145,
           1.189009952271613,
           0.9985738558251339,
           0.4802285532670437,
           -0.23249559703834027,
           0.3242727130640643,
           0.3802591845684654,
           -0.25142561650071893,
           -0.4053625165625318,
           0.14768329543375341,
           0.3191801110492198,
           0.7416052012382973,
           0.16959210806629318,
           0.4088112040087862,
           0.18794506675847455,
           0.6662912007979007,
           -0.07193643496016457,
           -0.278058452481874,
           -0.3546826560432219,
           -0.0305483814879643,
           -0.6247933961943231,
           0.6471673892855646,
           -0.027940808380830198,
           1.1832970879417544,
           -0.5055739901238846,
           -0.3375166337222527,
           -0.4212853764651616,
           1.0475164346643213,
           -0.19142287792652474,
           1.5310663404644913,
           -0.022992403324306066,
           -0.35120772099143094,
           -0.38246195612513045,
           -0.4437522333347621,
           -0.009102031319820951,
           1.3311613090607557,
           0.15699051338139072,
           -0.17267033303909515,
           -0.1145475294433874,
           1.2729170253283164,
           -0.4474113073608495,
           -0.4601898493612666,
           -0.14618329776820926,
           0.23767787603317297,
           0.2881434243753639,
           1.4093778742681353,
           0.582134415153853,
           0.2369682531933927,
           -0.14890135180556877,
           0.543194403411401,
           1.5177613868357425,
           0.6952053000913767,
           0.1732830221702282,
           -0.20924897642452028,
           0.738745706829508,
           -0.33805141709498443,
           -0.3136457382130839,
           0.5317097624874156,
           -0.4624015847002879,
           -0.20278225445357118,
           -0.04064388761727286,
           0.5847953089977436,
           -0.32807152144833407,
           -0.5197614895073734,
           0.07153181896315997,
           0.7539851025845445,
           0.0005154321609050365,
           -0.8063188655252765,
           -0.39168333711251874,
           -0.3331260297320771,
           -0.3836250250867809,
           2.5120960294901145,
           -0.3563605430015581,
           -0.17352791828885009,
           -0.18756500510073287,
           1.6145332215005215,
           -0.32994970640470606,
           -0.6348213024998063,
           -0.5394418989059069,
           -0.05586114135765297,
           -0.36372260427874525,
           0.3770371511798201,
           -0.3777465421789164,
           -0.2146455075498547,
           0.06493219700076504,
           -0.04984305114659653,
           1.8912154120390472,
           -0.4088564957480967,
           -0.33740030056878073,
           0.2870357776918691,
           -0.8822039028179984,
           -0.330538700539155,
           -0.2921981075119076,
           1.702252137875087,
           -0.08002957176811247,
           -0.9103667953837046,
           -0.47330243759339385,
           -0.22509759667855475,
           0.6862127354128906,
           1.3225304719673863,
           -0.3789828028849725,
           0.13985417725595228,
           -0.8145638544301745,
           -0.07949891957730468,
           -0.5034179582451579,
           -0.20637249261270438,
           -0.7141245830698686,
           -0.36063174987667407,
           -0.06579757465217471,
           0.787201511646869,
           -0.29627356538059274,
           1.1418861047196642,
           -0.4778284090694072,
           0.5828894383870024,
           -0.5281971554314303,
           -0.1371219163191346,
           -0.5740887511208904,
           -0.11858292484936422,
           -0.30413565553117383,
           2.5351100430233355,
           0.03899728281821858,
           -0.35986192807533945,
           0.5419203422216406,
           -0.07396644404329467,
           -0.13483401662224884,
           -0.030419637544221254,
           -0.5072581344306535,
           -0.2863271670898693,
           -0.01466421527490024,
           -0.6939535385013538,
           -0.20971316602513623,
           -0.24312685295593067,
           -0.22186318657028198,
           2.0649327368186006,
           -0.2597385454715132,
           0.00930918630316065,
           -0.5355374711748326,
           -0.29183871900520236,
           -0.6187828547385565,
           -0.3495777173696446,
           -0.20642796028642357,
           2.752339450029559,
           1.9634892618570936,
           -0.1729328333113004,
           2.0491504421723676,
           0.5068567264119677,
           -0.7423984892810828,
           0.569543755926393,
           0.10950585271357402,
           1.2370982962455497,
           1.2155434936556144,
           -0.5317594405864792,
           -0.04196109301424668,
           1.3097341001926013,
           -0.36655210871949184,
           -0.35290348564637514,
           -0.01842844010057532,
           0.22605479445747995,
           -0.7749429217985505,
           0.8793037481807501,
           -0.21789172148239302,
           -0.42623588619750064,
           2.1706308521406186,
           -0.9046572116803696,
           -0.5118897938957645,
           -0.5248591509963756,
           0.8778305652316228,
           0.7233317953293432,
           -0.38116983556432493,
           -0.38114299490620096,
           0.8428659912295737,
           -0.28174609194035427,
           0.9440399363373388,
           -0.04162529117433107,
           2.435304415341375,
           0.5081955303052178,
           1.0638578319952274,
           -0.28031341130373355,
           0.20692325022567465,
           1.260455835829536,
           0.3407384759914653,
           -0.14828227861246093,
           -0.9852583479645654,
           0.22105234821559025,
           0.2868377102766254,
           1.008237231064468,
           -0.3319409082737991,
           -0.6587022144086105,
           -0.6837013813491816,
           -0.26601643440004336,
           2.5223721801489427,
           -0.6704651077267788,
           -0.34284538520031954,
           -0.28716288087641495,
           -0.1401911279125622,
           -0.8806764532105675,
           0.16293389374194525,
           0.26252046343448426,
           -0.8334696274296773,
           -0.7396961690115549,
           -0.6706801870305396,
           -0.4621387326743541,
           -0.6009862195251289,
           -0.6832624788067709,
           1.8851187673533063,
           -0.4948978734104044,
           -0.5407572598788897,
           0.95509933369809,
           -0.7003715242284554,
           -0.8698127039871438,
           -0.512489219307684,
           -0.3920222557046658,
           -0.5161548977794922,
           -0.504425014122852,
           -0.2602478918842954,
           -0.2559160687967922
          ],
          [
           0.5120169355845108,
           0.07267982165966473,
           -0.2275784915870187,
           0.12251431129583534,
           0.010570373881953563,
           0.6545674777454669,
           -0.03287694946366028,
           -0.20191998014172263,
           0.1437844670616022,
           0.24374099383064485,
           0.13023519889033067,
           -0.347012639945926,
           0.4220034951703138,
           0.3046205767263961,
           2.3218043167971896,
           -0.08268261866820072,
           -0.14653498329959844,
           0.4139644508026854,
           0.4320422055238937,
           0.3545356144056398,
           0.14489094548117606,
           0.386433272003921,
           -0.126786833688358,
           -0.2524382678209549,
           -0.3901437824348779,
           -0.13207380335945354,
           -0.30555081030819625,
           0.07192036937073358,
           -0.5787175440539284,
           -0.4486238070600267,
           -0.7759436233184538,
           -0.07060279444626381,
           0.19798282788983967,
           0.3201949970283573,
           0.16697264505330817,
           -0.04980607270425983,
           -0.43148821213619154,
           2.4370850479931967,
           0.030406073029379387,
           -0.38926107913226077,
           0.6663182817053117,
           -0.5074128929774494,
           0.21438495409423736,
           0.02629190022464376,
           -0.4014429393193556,
           0.04780020430989364,
           -0.35484410305022407,
           -0.2019529427577022,
           0.08143479821730493,
           -0.31942412187071084,
           -0.11373663233680144,
           -0.41329934929476236,
           -0.4070826446481944,
           0.9100583541516744,
           -0.6041275068938046,
           -0.08632217852799859,
           0.2789469365685913,
           0.7334273040110414,
           -0.3783340690453024,
           0.18263362551447493,
           -0.44845995484057005,
           -0.6937495981788311,
           -0.5885757342908586,
           0.16077232097718594,
           -0.14944804139971657,
           0.39472441811150316,
           -0.02832596530741507,
           -0.13352481436479915,
           0.3105664007687295,
           0.12529085227541123,
           -0.5862737437329169,
           0.042699001819485605,
           -0.08898171548229986,
           -0.48659415316226684,
           -0.17758750723918434,
           0.26818990343656374,
           -0.8035736713017325,
           0.07544418029643016,
           -0.43086855653277967,
           -0.3547024763238996,
           0.9952401485131086,
           0.06378057602657497,
           0.7763808445772983,
           -0.008466153330156604,
           -0.40461786919522497,
           0.3459769084661932,
           -0.2020832974340267,
           -0.3917779440802933,
           -0.13462668612040785,
           -0.2154490891862454,
           -0.006886455377799736,
           0.264476695532375,
           -0.3899860310567983,
           -0.4122137254439005,
           -0.348999959651788,
           -0.13112608592009015,
           -0.7337201467143923,
           0.19859823991340292,
           -0.5421815210806341,
           -0.4827503488216292,
           -0.19646926914103796,
           -0.550424081862,
           0.29500180817837995,
           -0.6228157040016409,
           -0.45752549970062306,
           -0.1987956963506162,
           2.2737958265444123,
           -0.3207935834067291,
           -0.4989358333886681,
           -0.16721974153249256,
           1.0765550348189243,
           -0.5518947812697752,
           1.1314723649128402,
           -0.12121558013636077,
           -0.9109824036152365,
           -0.2566783930075857,
           -0.6316148078945092,
           -0.16138425384097907,
           -0.3194731115252434,
           -0.3728495935772268,
           -0.11538401142667064,
           -0.40305472627044836,
           -0.5712745147369842,
           -0.8108118864842053,
           -0.6294877011284279,
           -0.3621021522739021,
           -0.8062431166022488,
           1.1085293658642423,
           -0.10699798688700006,
           -0.3850142929332826,
           -0.2840853879069262,
           -0.043564544655896306,
           -0.35000472280502437,
           -0.33212294489440114,
           -0.4125527024656003,
           1.2710820929302407,
           0.7852157447391052,
           -0.6306079435377017,
           -0.6022626577182805,
           0.13337698083189178,
           -0.33705632733694174,
           -0.1227579087366721,
           -0.4268644286589948,
           -0.42444214081265796,
           -0.6939535385013538,
           -0.9786115325437078,
           -0.38432307456263765,
           -0.12473625795612642,
           -0.6129407674115773,
           -0.4046413301270569,
           -0.5383265841146447,
           -0.5172605229542498,
           -0.19867412685085253,
           -0.4101987392956393,
           -0.27154196808550923,
           -0.7546333738481648,
           -0.5810743011636192,
           -1.338097915455753,
           0.18609875413934154,
           -0.531715976171588,
           -0.08931614850152282,
           0.09217917855613915,
           -0.3282904880838877,
           -1.4055341275550304,
           -0.6185649014830656,
           -0.9568786225829524,
           0.2509014133990713,
           -0.6858020206402059,
           -0.06180926744907967,
           -0.45387828480190895,
           -0.5360108156939903,
           -0.43147706116862106,
           0.14056368557118468,
           -0.32108662654045855,
           -1.0545658705595216,
           -0.23334175158151713,
           -0.21837963862898532,
           -1.0276635687269302,
           0.730769169735079,
           -0.2664126554900697,
           -0.3672361841324653,
           -0.4529570460482235,
           -0.2587377099140688,
           -0.23828285990799994,
           -0.2801749528237398,
           -0.32138561607480093,
           -0.4206356888721053,
           -0.14050357850905867,
           -0.26251412750495934,
           -1.44155793889904,
           -0.30127857369203964,
           0.3776676400474653,
           -0.4572064997821607,
           0.10197985681785901,
           -0.9253431917628573,
           -0.5030012836960567,
           1.8278603205442032,
           0.12048529340657291,
           -0.2964733749538599,
           -0.26022899601130395,
           -0.6571301055904956,
           -0.4631258157879156,
           -0.6587022144086105,
           -0.44711416475784416,
           -0.4547283423967626,
           -0.5115806944052612,
           -0.6704651077267788,
           0.9650124895568248,
           1.0441642489815466,
           -0.29559597404676174,
           -0.8806764532105675,
           -0.43530564855664694,
           -1.056046299767818,
           -0.8334696274296773,
           -0.7396961690115549,
           0.4506482125870346,
           -0.0890948035216674,
           -0.6009862195251289,
           1.0365974876825297,
           -0.8513916926061232,
           -0.4948978734104044,
           -0.5407572598788897,
           0.37240913530448816,
           -0.7003715242284554,
           0.7092755711113926,
           -0.512489219307684,
           -0.3920222557046658,
           -0.5161548977794922,
           -0.504425014122852,
           -0.2602478918842954,
           -0.2559160687967922
          ],
          [
           0.42979989650387657,
           1.0013791796079414,
           0.6377029017034873,
           -0.33375597308383476,
           -0.1310830924648769,
           -0.31550070958290904,
           -0.9049537923047289,
           0.24178162745579287,
           -0.5686043561303148,
           1.9651292632527935,
           -0.581070235551515,
           1.0768851022660157,
           -0.12145169891164717,
           0.03323968773600086,
           -0.29862295317564536,
           1.0124777233306033,
           1.3363955386269433,
           0.3406829186313221,
           -0.4157793736069251,
           -0.03901089748999124,
           -0.966823790589244,
           0.1479895237226414,
           -0.39070596501110044,
           -0.46519730879438004,
           -0.2889807843979306,
           -0.1890745504459656,
           3.1471237371693643,
           1.624384411761101,
           -0.5762347088938,
           -0.2641201543026501,
           0.08756977967430579,
           0.16743522669030053,
           -0.21146263453830588,
           -0.48622280195355205,
           0.14092727457696488,
           0.40782678082053325,
           0.01702990821935832,
           -0.49012652285691855,
           3.681218651649946,
           -0.539943702292433,
           -0.5031637779303052,
           -0.5691318753894207,
           2.6332597487489986,
           -0.14134942843981707,
           -0.1845264635617963,
           -0.40252473913137654,
           -0.12308265882329265,
           -0.27091483332955063,
           0.590975325829564,
           -0.39814970433443025,
           0.3662557229361652,
           -0.31185357313351647,
           -0.250270015844919,
           -0.6983230759305507,
           -0.31082875758093215,
           -0.3163383734025362,
           0.44392802954705807,
           -0.6202573155749787,
           0.496405908444366,
           2.65204796143437,
           -0.436566502884513,
           0.8736989371529825,
           0.04311357904132097,
           -0.3312575556617334,
           -0.7288557548746055,
           1.1461914532894333,
           1.2607774957702984,
           0.29561520295490146,
           -0.6208109307777081,
           0.1403477773185481,
           1.7276736677918254,
           -0.6549273077805056,
           0.9818163826594284,
           -0.5595474929787781,
           -0.39223041225653127,
           1.099677767317046,
           -0.4189069320739241,
           -0.17311820384428406,
           0.05501783940322327,
           -0.41796074603954536,
           0.23642109017801263,
           -0.36751226398203646,
           -0.22730501809279272,
           -0.09977134434644783,
           -0.4298614959558542,
           0.008743603356725404,
           1.1008919003091404,
           -0.5663511289898014,
           -0.2169391888924506,
           -0.461450666406307,
           2.9018159601493654,
           0.24327413358673214,
           -0.47442497373696446,
           -0.41806525740805633,
           -0.24390035902372542,
           -0.11230076365917753,
           0.4668648906794101,
           -0.3679765712277716,
           0.5878206145736681,
           -0.7678318036708431,
           -0.4544264810640321,
           1.0211571887616042,
           -0.7281422334294082,
           -0.46697530356358335,
           -0.21567472366460355,
           1.8511922483411556,
           -0.5577817110811552,
           0.8092436486305932,
           -0.39816328143617613,
           -0.5700768575140903,
           -0.37758638102073844,
           -0.03610862839848638,
           -0.6033388100359951,
           0.8098779943072371,
           1.7593920554669709,
           -0.3177529607838517,
           -0.4978514432899857,
           -0.3492661874683392,
           -0.5275140786788276,
           -0.528542750467718,
           -0.35971189502694584,
           0.9188214453137885,
           -0.4131637380732809,
           0.11263022271936207,
           1.2408822012026173,
           -0.432530879250866,
           2.704675013618696,
           0.06183837144369506,
           1.9667127974348333,
           0.1756849837401364,
           -0.5204283539097097,
           2.954852595749018,
           -0.45650929440708327,
           -0.18111886016893117,
           1.5357366637273464,
           0.8314872376456321,
           1.4447816163392195,
           0.5907775384495288,
           0.6317464031122848,
           -0.10097048457007629,
           -0.1379368410595652,
           -0.1364726256920828,
           0.4705526623519862,
           -0.04597032186324744,
           -0.4361156422130568,
           1.1029248363925004,
           1.0319600051374156,
           0.5876138744256136,
           -0.9750911441363738,
           -0.35477518177270606,
           0.6964187320969767,
           -0.4752945449315798,
           -0.4277353003561229,
           -0.20862585462391256,
           -0.2728534932835619,
           -0.41488422048532086,
           0.8570288572892498,
           1.1172841449827926,
           -0.7779950164568342,
           -0.5451429355905208,
           1.392862807648462,
           -0.7423984892810828,
           1.02250497236278,
           2.8197086745596174,
           -0.6268609762772243,
           -0.31618320888460294,
           0.231634187182108,
           -0.6858020206402059,
           1.0617926562311135,
           -0.45638095366520254,
           0.07271632611680218,
           -0.7895615447996479,
           0.601826885518744,
           -0.6262001023442179,
           0.5434496407244565,
           -0.2337845318680321,
           -0.22187302094106123,
           0.779036659485607,
           -0.9046572116803696,
           -0.286364647728582,
           0.09503621448522101,
           0.23718778968078275,
           1.144014586514422,
           0.04028670607744036,
           -0.08332969431003391,
           0.1964139850972243,
           -0.6574705506921432,
           0.11212969242607543,
           -0.6391742819415799,
           0.3604500356297242,
           0.36493902080788804,
           -0.2172116260324731,
           -0.46227605446240905,
           0.07137352853777451,
           -0.24802101409504637,
           0.2540294738258564,
           -1.0666881737518041,
           0.10190136666083942,
           1.8578308297050976,
           -0.4618223939109554,
           -0.04977681527399364,
           -0.46688542599986144,
           -0.6587022144086105,
           -0.21847945964856857,
           1.121781955209288,
           0.03688571223457381,
           0.43409810000185584,
           -0.19727439612793718,
           -0.6199160985730683,
           -0.5605926769923623,
           -0.37963106265695623,
           -0.7106264987564671,
           1.3954906444213364,
           -0.16460808994678985,
           -0.7396961690115549,
           -0.6706801870305396,
           -0.4621387326743541,
           1.972603053374145,
           1.007692278161701,
           -0.0034183883119721886,
           1.9162120373696019,
           4.011336659832773,
           -0.6211955382568565,
           -0.7003715242284554,
           0.6827362723702406,
           -0.512489219307684,
           -0.3920222557046658,
           -0.5161548977794922,
           -0.504425014122852,
           -0.2602478918842954,
           -0.2559160687967922
          ],
          [
           -0.1168570295959126,
           -0.257413438781927,
           -1.2726589076500952,
           -1.3435713524129653,
           -0.8011794593945033,
           -0.21499764324016174,
           -0.7744272948389948,
           -1.4488238901694175,
           0.046297956068228126,
           -1.2033731152730314,
           -0.2934495721929279,
           -1.2547726801791415,
           0.15303837832106224,
           3.1590583848420097,
           -0.6315091037052251,
           -1.0310029004968206,
           -0.9698960509963422,
           -1.0835659011177026,
           -1.078298631550469,
           2.525557100558359,
           -0.961246626361466,
           -0.5721750403431142,
           -0.42999880316026884,
           -0.09027543679802824,
           2.132608481111495,
           -0.8567933019746489,
           -0.42040732856356755,
           -0.5473670688516764,
           -1.0465250688081131,
           -0.556250937835163,
           -0.5346015422628051,
           -0.13617345304638218,
           1.147432093290092,
           -0.48547054654405397,
           3.111401777403929,
           1.8680603416987112,
           0.2999862959880359,
           -0.5999581102088712,
           -0.659826157112029,
           -0.8455125411043707,
           0.40681413794493093,
           -0.7054013716380088,
           -0.3135494854276186,
           0.01385466948208092,
           -0.6723646009718199,
           -0.41190650878640295,
           -0.16452055819887323,
           -0.30912692567999644,
           -0.30995507080760326,
           2.7100133054899653,
           -0.958833792139164,
           -0.6642351652711476,
           1.5125033694118497,
           -0.8299179202100054,
           0.4305094622809905,
           0.3181890607341193,
           -0.7460325566523422,
           -0.6287414113801835,
           0.11567162671665927,
           -0.5420997355336666,
           0.4048952230065281,
           -0.045659940701299195,
           0.13182022701922236,
           -0.1552730060343472,
           -0.6172683612043373,
           -1.8883600853777658,
           -0.8575857916112228,
           -0.9314570340686169,
           -0.5244835492273573,
           -1.1840825139758113,
           -0.6848276957627825,
           -0.8340842588840053,
           -0.8479044233314418,
           -0.558105252323427,
           -0.30844050773643994,
           -0.6652728871462416,
           1.7962583758543693,
           -0.31533428338820896,
           -0.3233955433052995,
           -1.0425816264904126,
           0.8467212867666009,
           -0.20132194443326362,
           -0.9201904289701565,
           -0.2469225539137339,
           -0.3683627983476316,
           -0.9081094449096399,
           -1.030756953480898,
           -0.4711154050247731,
           -0.14775696471273103,
           -0.2154490891862454,
           -0.8818022044942165,
           -0.050911413409061884,
           -0.2861039107858045,
           -0.029230958389901692,
           0.8719070676442053,
           4.538082635973345,
           3.45583491012617,
           0.12063523976793604,
           -0.5537062257552025,
           -0.6594414588583816,
           3.9101935555896454,
           0.9962283643767126,
           -0.21534489041999583,
           -0.6686624472701916,
           0.19657091730588427,
           -0.6742801796239127,
           -0.645625508363558,
           -0.6619418160489926,
           0.38496809304568985,
           -0.5404053453789187,
           -0.3684790235102604,
           4.054547256972864,
           -0.631988880692895,
           -0.9089704600813142,
           0.0857095322677262,
           -0.4729841538818608,
           1.6539643148633962,
           2.100011462547876,
           0.9976540240127116,
           -0.5509984942500004,
           -0.0037132014990309443,
           -0.67693382245182,
           0.14048403086919345,
           -0.634706740658525,
           -0.9280043566775084,
           -0.48986158078394326,
           -0.8622784247428461,
           -0.9250417090099635,
           -0.9541540686081366,
           -0.31342286168420874,
           -0.6487743525637109,
           -0.4579111733813928,
           0.7416671361160793,
           0.6392006271234864,
           -0.13979219119858774,
           -1.038789055747064,
           -0.8470010640940893,
           -0.708582660467144,
           4.253164929211015,
           -1.0015732440508962,
           4.567160658476638,
           0.2852549206867976,
           -1.0283827301295267,
           -0.2754832906697285,
           -0.4972695022301529,
           -0.270889167105397,
           -0.6250911981116467,
           -0.9412566811502577,
           -0.25677634732686033,
           -0.5096691470149817,
           -0.0342624584570704,
           -0.6056490430373959,
           -0.48026792485836467,
           -0.6187828547385565,
           -0.3495777173696446,
           -0.4954657504495852,
           1.192337883871525,
           -1.02592861503675,
           -0.5750101897565918,
           -0.9311680188848444,
           0.41898153386691556,
           -0.42943186384212456,
           -0.12959498772152261,
           -0.6892892650883023,
           -1.1121813517354928,
           -0.26153161511956136,
           4.263301273081698,
           -0.38142209491960016,
           -0.8073964175491333,
           -0.49110548414340177,
           0.20554741040202362,
           -0.343435628209753,
           -0.23031686033259585,
           2.175122997379047,
           -0.7498161176063272,
           -0.239928108343427,
           -0.27034370052111417,
           0.5871232232269791,
           -0.4958006163265074,
           1.217516767249273,
           -0.46575053842240915,
           0.25503636301860183,
           -0.6409415411103835,
           -0.38116983556432493,
           -0.3054169633443551,
           0.750234428089912,
           -0.47984440432711484,
           -0.4163142137501686,
           -0.4979267240278472,
           -0.9833550564868115,
           -0.36950567674323714,
           -0.792425461828777,
           -0.7588450032569355,
           -1.2638275426809167,
           0.6246825609769409,
           -0.01762057170733009,
           -0.6325058996074032,
           -0.9852583479645654,
           -1.178959434693674,
           -0.6567515472519408,
           2.302408233645735,
           -0.6868226233986925,
           0.30840072645243677,
           -0.5062609689056785,
           -0.5351763378577918,
           -0.2278089448829119,
           -0.6704651077267788,
           1.0607965196097935,
           -1.1622486909515917,
           0.8306400134720402,
           -0.8806764532105675,
           1.5607705153920493,
           -0.4326854101128834,
           0.18697297462754836,
           -0.7396961690115549,
           0.1703161126826409,
           0.09742716105467586,
           -0.6009862195251289,
           -0.6832624788067709,
           1.7360140307529526,
           -0.4948978734104044,
           -0.5407572598788897,
           -0.6211955382568565,
           1.317483210911286,
           0.3145035023367583,
           -0.512489219307684,
           -0.3920222557046658,
           1.8032695589562542,
           -0.504425014122852,
           -0.2602478918842954,
           -0.2559160687967922
          ],
          [
           -0.11246631229859669,
           0.44103867025435817,
           1.9102848724401673,
           -1.4168959358706805,
           0.510950113519969,
           -0.7316241330525932,
           -0.8127428120988269,
           -0.07412261265408175,
           -0.6008386156342845,
           1.1467191298260366,
           -0.4920540878857688,
           -1.1041955171941624,
           -0.42239088440737843,
           -0.3613079639954683,
           -0.8600383834935363,
           1.8983234958001474,
           -0.22415118585954585,
           0.3619690257560053,
           -0.09230467331953249,
           -0.33741126177489034,
           -1.0787649365419454,
           -1.0136233268570671,
           -0.623229092790206,
           -0.4838043452039842,
           -0.7827786413763672,
           -0.815248872117727,
           -0.03295650632533545,
           0.2554437000407341,
           0.3885760572480538,
           -0.9668792902829761,
           -1.221393126073678,
           -0.3387324939448372,
           -0.6701007795606517,
           -0.5487606210922051,
           -0.016128797806577742,
           -0.2529827770119988,
           -0.7008743027860975,
           -0.9524185227203464,
           -0.1516967647585151,
           1.3410702270347008,
           -0.7438352638242544,
           0.8126024312883782,
           0.3038829041552672,
           -0.5500984875644486,
           -0.7671603082076359,
           -0.41650775887198915,
           -0.2970968317693278,
           -0.33457952762969506,
           -0.22653782777681686,
           -0.6528033088671007,
           -0.7715430768618144,
           -0.6444073912079421,
           -0.8505029383418945,
           -0.6256804867317008,
           -0.8643771211717105,
           -0.25723032420350056,
           1.1562323874360516,
           -0.39264577715763543,
           -0.8444704716887552,
           0.24677362126261737,
           -0.7438266374944981,
           -0.667016145519764,
           -0.6574298970816606,
           -0.4058419629174434,
           -0.8606907912055657,
           1.0725803708407378,
           -0.8436042658773631,
           -0.8203709288687223,
           -0.3064131801200989,
           0.3193046061751904,
           -0.762038753722486,
           -0.5254612539431185,
           -0.9614421843472448,
           0.6137658045035355,
           -0.07690570813046789,
           -0.3905851105543587,
           -0.9494521379632365,
           -0.3771772249708343,
           -0.2734240148619488,
           -0.07561582676709795,
           -1.1222415083874135,
           -0.5211335200708015,
           -0.002450484703780252,
           -0.4036262477893443,
           0.015531887233300472,
           -0.794283135765655,
           -1.309327361564595,
           0.40011953478347045,
           -0.34521293768390937,
           -0.5190241260220565,
           -0.17918867899446012,
           -0.05693793778373893,
           -0.20616219808160602,
           -0.2414570777128182,
           -0.5902604441508563,
           -0.20214981122092252,
           -1.0077032007118907,
           -0.39570824781968483,
           -0.005144964398206866,
           1.5159974946514416,
           -0.609327091424171,
           -0.9877567355546422,
           -0.545514592606934,
           2.217930273810226,
           -0.008407068150931986,
           1.2619283414356695,
           -0.55384998663746,
           3.8053814504274355,
           -0.7640663827321671,
           -0.2842402150561147,
           -0.6411486666822482,
           -0.5534492392908634,
           -0.05165662364642151,
           -1.0063518315654751,
           -0.7926862036751117,
           0.38645236607592776,
           -0.7480774383535108,
           -0.7201427675887841,
           -0.6905590820595903,
           -0.04987632678595639,
           -0.33911360166965476,
           3.067380280418943,
           -0.41910680573450043,
           -0.46084497248667494,
           -0.5732068539675822,
           0.32210248142828035,
           -0.36652655845437804,
           -0.7404659904306167,
           -0.4599532371207595,
           -0.42149400312389346,
           1.2207560061265215,
           -0.4658286248857017,
           -0.3374548210557372,
           -0.3352163320664325,
           -0.6905251980243391,
           -0.735018065418951,
           -1.1683818868801323,
           -0.47763843516656646,
           -0.13459680345446742,
           -0.6803998865089971,
           -0.20587370208245032,
           0.07475148639825598,
           3.108566019376528,
           -0.11993877386630235,
           -0.3030909950834259,
           -0.5413563131327769,
           -0.08681341871226977,
           -0.8320405735892591,
           -1.3252696075810118,
           -0.11832345988481599,
           -0.22689843004595228,
           2.0291170333264454,
           0.0222962929868895,
           0.8838199131973634,
           -0.29142368764834625,
           -0.2395996254382486,
           -1.2475158229284187,
           -0.097374071752199,
           -0.33848722931692365,
           -0.5368045372252598,
           -0.348321336969517,
           -0.7423984892810828,
           -0.8775506610601075,
           0.37367285564257446,
           0.359235837551997,
           -0.26700268561665064,
           -0.7246338391097528,
           -0.38336082056113263,
           -0.5620333426754425,
           -0.04793583083607619,
           -0.8482458582607331,
           -0.6109245678363778,
           -1.342958498043938,
           -0.6622015490911264,
           -0.7517571988353283,
           -0.2204207459594265,
           -0.42623588619750064,
           -0.801387712529567,
           -0.9046572116803696,
           0.31581697789046237,
           -0.2899306526132227,
           -0.8069537505816362,
           -0.5697347763811338,
           -0.2746871849159808,
           -0.08016819430370513,
           -0.45789772361170705,
           -0.6574705506921432,
           -0.42158448066560367,
           -0.49882639000182005,
           -0.07570476075303395,
           -0.5741869858968294,
           -0.792425461828777,
           -0.7588450032569355,
           1.447488632544891,
           -0.9253431917628573,
           -0.891305853287038,
           -0.6352713917994056,
           -0.9852583479645654,
           0.46516268297445096,
           -0.5090026985412576,
           -0.504341334473372,
           1.146921270837421,
           0.302240835109373,
           3.5477438682589417,
           -0.7765203242408792,
           0.6126615234476138,
           1.003968289976502,
           -0.6651462894338257,
           0.4820208247947598,
           -0.5605926769923623,
           -0.8806764532105675,
           -0.7106264987564671,
           2.6602963290030024,
           -0.8334696274296773,
           -0.7396961690115549,
           0.16495944835325776,
           -0.4621387326743541,
           0.3743549380386087,
           -0.6832624788067709,
           -0.8513916926061232,
           -0.4948978734104044,
           -0.5407572598788897,
           -0.6211955382568565,
           0.3021295543760023,
           0.30696008700985467,
           0.7914299418029198,
           -0.3920222557046658,
           -0.5161548977794922,
           -0.504425014122852,
           -0.2602478918842954,
           -0.2559160687967922
          ],
          [
           0.012849497854046925,
           -0.5349140002246903,
           -0.20084259475198238,
           1.7444078958968672,
           0.3744886585675171,
           0.3271741926860595,
           2.1132298859663265,
           1.2370970563538672,
           0.3195609867433436,
           0.17113883536148822,
           0.005929064620044465,
           1.2904340704438124,
           0.19449178342686102,
           -0.5766811110252746,
           0.12865082832074584,
           -0.42306447137154574,
           -0.8684220221762895,
           1.341076362597933,
           0.6363948969521555,
           -0.5087164036398215,
           1.793827133924525,
           0.18328360020078313,
           -0.06877211272643347,
           -0.16275458477230742,
           -0.8647372891441161,
           2.1413400046069087,
           -0.4301098481227384,
           -0.6531035304009815,
           1.7642222167434396,
           1.884816919972747,
           0.6239683201213708,
           -0.10315821260116133,
           -0.422191669961173,
           -0.06750878956220004,
           -0.7385039745209653,
           -0.5850552662066527,
           -0.6858468551562364,
           0.4920187327096887,
           0.05231497233998729,
           -0.5104419115099221,
           -0.15373769012172162,
           -0.6717712127523816,
           0.5422294501442756,
           0.056085434738384864,
           2.2012687552423555,
           -0.1572302792309511,
           -0.05408291283122088,
           -0.2602318827799637,
           -0.43397190599221386,
           -0.3861205179048635,
           1.799177582078403,
           2.4798866428590327,
           -0.7633102944332161,
           0.5530686316619207,
           0.03606926839660752,
           -0.3159045275061243,
           -0.23854140769064275,
           0.2849826177725178,
           0.870487782974067,
           -0.5466470401538108,
           0.20227700765276,
           1.633019093957828,
           -0.49113606134257864,
           -0.16350833492155997,
           3.0035064712979476,
           0.46878445449591866,
           1.667302055404085,
           0.9712060287835441,
           -0.22050960976046613,
           0.3539745006514647,
           0.08231737263238403,
           1.2083346794802128,
           1.4710765529154226,
           -0.49371517425685646,
           -0.3574415612185819,
           -0.4901013284085426,
           -0.6881743324505333,
           -0.30399331815666636,
           -0.4845296963770755,
           0.8949079367759647,
           0.6691235567174115,
           -0.5061340710433277,
           -0.14495491575590586,
           -0.34407038075066787,
           -0.4498876751503847,
           0.6795058351967573,
           0.8630406413340262,
           -0.5420132568969412,
           -0.3200711537567253,
           -0.27584811795162206,
           0.3156062759215459,
           -0.077009447669293,
           -0.746440910660647,
           0.2908572780042028,
           -0.9594325909574437,
           -0.31830182975695115,
           0.19094377144145927,
           -0.46989348195100994,
           -0.6963183847225451,
           0.7323293857256413,
           -0.662226259838669,
           0.09337137687171919,
           0.27700521051191734,
           -0.5418283643848948,
           0.42995398671185286,
           -0.7398799802615293,
           1.0087088453315207,
           -0.6541558242546582,
           -0.7324078324647783,
           0.1648586769080429,
           -0.19899659275601347,
           -0.6357548482840287,
           2.278422942232475,
           1.509085500080598,
           0.8063021524191448,
           0.051671081540258845,
           -0.5735563695379533,
           -0.7959562239007166,
           -0.49365765570945924,
           -0.7619445720304655,
           -0.2930207607135804,
           -0.7916959649734919,
           -0.6834267241306279,
           -0.5025661333419206,
           -0.009845835472552664,
           -0.4099805804616763,
           0.6511464404233241,
           -0.5196822573739235,
           -0.10056795970126085,
           -0.43421457527836843,
           0.188363283725863,
           0.47480458973841344,
           -0.3516478508381557,
           -0.6052651274884915,
           0.6448246511697754,
           1.369224460851106,
           0.47069625477551613,
           -0.32833288380000397,
           0.06410670152505182,
           1.6742350701538256,
           -0.20446702241042555,
           -0.2246180540906378,
           -0.19531654866688591,
           0.16166011816074294,
           -0.3496875114796726,
           1.6870103642088645,
           -0.6250911981116467,
           0.20028946704860104,
           -0.15637094979947158,
           -0.2339158886500515,
           -0.2940711066746841,
           -0.5186241607114934,
           0.09010761943679517,
           0.020133986954755188,
           0.1626344939203322,
           -0.3009991606624322,
           0.6662836382404828,
           1.3939307445927456,
           -0.4096640893737963,
           0.41733277608122626,
           -0.1049999479574916,
           0.6271048366229137,
           -0.8000877982009765,
           0.4749853430448503,
           -0.46417995280664043,
           -0.583533327263115,
           0.007472305502477614,
           -0.6858020206402059,
           1.0103861854297258,
           -0.4073051265794523,
           -0.745773207544579,
           2.1003624078196435,
           -0.3692020016457929,
           -0.3777390953735163,
           0.27898143549092286,
           -0.2078092269112243,
           -0.28980289340358034,
           0.6308010867641013,
           1.242269987484932,
           -0.6743371531855975,
           -0.5248591509963756,
           -0.45841842578155806,
           1.1778769711604378,
           -0.28738147005638653,
           -0.24859588776849595,
           -0.8571956381571575,
           -0.5020165319939978,
           -0.7006351350716492,
           1.7095368633953272,
           0.5634813221474578,
           1.1275672927321958,
           -0.02439801206989719,
           2.0130140076360856,
           1.0699854751629476,
           -0.47316176599865256,
           1.4025775227539345,
           -0.3067169561750685,
           -0.2594686927588253,
           -0.8893356787622343,
           -0.3964814855680446,
           -0.5596949465664047,
           -0.39316173711021124,
           1.0340670285010487,
           -0.37311844343965594,
           1.335662670191752,
           0.4109759891751118,
           1.5417596617493645,
           -0.6991846553185962,
           0.6480620662165509,
           -0.5605926769923623,
           -0.8806764532105675,
           0.012235537111784352,
           -0.5104962364512974,
           -0.3869365392924341,
           -0.7396961690115549,
           -0.6706801870305396,
           0.5172977825764585,
           0.25808004548192176,
           -0.6832624788067709,
           -0.2852832874953015,
           -0.4948978734104044,
           -0.5407572598788897,
           0.6831718873440109,
           -0.7003715242284554,
           0.1666716056147004,
           -0.512489219307684,
           0.9971997835020954,
           3.5436511639402997,
           -0.504425014122852,
           -0.2602478918842954,
           -0.2559160687967922
          ],
          [
           0.016385245693825972,
           -0.24559350543860375,
           0.016642045002666497,
           1.871406702615826,
           0.45680059507596127,
           0.469204351854476,
           1.215591386134471,
           1.1390741570839145,
           0.13288641168417703,
           0.6184198708377496,
           -0.16258883267624094,
           1.8058345449994684,
           0.18135736442309422,
           -0.07201172589421881,
           0.42622240537362865,
           0.01561846001229475,
           -0.6045316200827173,
           1.484241652455465,
           0.5620874787289611,
           0.13833226105203142,
           0.6020300712418211,
           0.7941557594388603,
           0.0747505176590947,
           -0.1577766574872448,
           -0.6904079298834066,
           2.1854945633696308,
           0.0480081864308774,
           -0.44616886876522865,
           0.768258477577979,
           1.4159104864383176,
           0.12080439061854649,
           0.6921929894433231,
           0.785028175591663,
           0.29048583579036424,
           -0.5117822204368484,
           -0.2725204907118057,
           -0.6067509495326974,
           1.3122134467271211,
           1.2547711275527968,
           -0.5333354346200602,
           0.32311879026925006,
           -0.6683429311445654,
           1.2493279803117558,
           0.053447425863427434,
           1.1456944930910093,
           -0.19481481707467696,
           -0.0813342847247417,
           -0.06542813107502923,
           0.29625879754102,
           0.40716950864667867,
           1.9582568775308362,
           2.157659954955208,
           -0.3928578442264181,
           1.1228065449033209,
           -0.3434899787527427,
           -0.3845535361499238,
           0.004766520665200075,
           0.8053671673258207,
           1.2435947998225736,
           -0.0632193831977883,
           -0.4993576968359237,
           1.0857005655419694,
           -0.4007712693285819,
           -0.2085162201689034,
           1.3754859133816195,
           0.7812763190006023,
           2.6035781471712207,
           1.444419749865458,
           -0.6773053145898805,
           0.5399809232232823,
           1.0400816480612394,
           0.7485991999910161,
           0.5437637267419074,
           -0.5196953606342449,
           -0.35335337166257214,
           0.30079995725605047,
           -0.672265323211942,
           -0.07262370920181402,
           -0.2750561530763455,
           0.48342530423656777,
           2.527384074233409,
           -0.459478547326469,
           0.06299922768906294,
           -0.20767028520176092,
           -0.4829632000848467,
           -0.016831916473321704,
           1.6490634820127452,
           -0.4955002813311886,
           -0.3564079856623556,
           0.0011306674373572614,
           0.7206783231273663,
           0.5068710500026499,
           -0.7241903592331119,
           -0.40461184439876363,
           -0.5768228493975096,
           -0.2648947746886564,
           0.07395774442787308,
           -0.4515246643563943,
           -0.5617080949397278,
           -0.1846130347683494,
           -0.47702764390809177,
           0.9832740844561794,
           0.022477307866333906,
           -0.6086012115471993,
           0.43136011153267434,
           -0.5349460688049164,
           3.0494020580751116,
           -0.5423571040906287,
           -0.676409002789345,
           -0.4505249026654866,
           0.7507913524554127,
           -0.6296923506134144,
           1.262897715385932,
           2.4968180160589157,
           1.7802662872469295,
           -0.2362757535539423,
           -0.2481940023388639,
           -0.8328904054324295,
           -0.3889396039409477,
           -0.7071193304405969,
           -0.37888988447545613,
           -0.6222705659059875,
           -0.6291124979379419,
           0.9886904769747114,
           0.6010787741481308,
           -0.3924519903129687,
           1.1601312773621124,
           1.1695808992256405,
           -0.15313132604057844,
           -0.016115214881286172,
           -0.0962944590321314,
           1.3232882143587172,
           -0.3476792954774685,
           -0.5696518533354565,
           0.2616064651201165,
           2.6405099406433714,
           2.140076555109093,
           0.17297429206703108,
           0.29549240575059366,
           1.5975548130574726,
           -0.18941646201852913,
           0.034033047548329386,
           0.4403564480328169,
           -0.10134721900251248,
           0.24394588336830264,
           -0.24771048701462262,
           -0.4405723960031267,
           0.7323022489614135,
           0.49443507145444254,
           -0.4023481463522114,
           -0.2752887543501027,
           -0.6056490430373959,
           -0.4190304962960324,
           -0.08593697031014351,
           0.009250422351728927,
           0.1281209765924119,
           0.19334150016177132,
           0.36315661259191456,
           -0.36247344720693453,
           0.5741905525629302,
           -0.8462135707182808,
           -0.3159985454515852,
           -0.5096326696373128,
           -0.42968959877940094,
           -0.8599843007331611,
           -0.45175626524761475,
           0.39307503288127543,
           -0.271100986470647,
           2.160843546822987,
           -0.526707041592253,
           -0.6089565570796704,
           0.8433936449082645,
           -0.3323494995987016,
           -0.4657657075615971,
           -0.016553611592308906,
           -0.2327665239167215,
           -0.21384129261220555,
           -0.5461488547194638,
           0.7664771693293029,
           0.06277343479446544,
           -0.48459302190668674,
           0.006929502417672973,
           0.7747981960611182,
           -0.38116983556432493,
           -0.2263841181771884,
           -0.446563940011072,
           -0.2944616576841375,
           -0.6800807164479985,
           1.4776886820755846,
           1.6798241421624291,
           1.7961834589735932,
           -0.792425461828777,
           0.7822774817451885,
           1.6924397106737845,
           -0.5733722784769644,
           0.6958254879232609,
           0.11641112348010085,
           0.7095714254907599,
           -0.5026436989542096,
           -0.4541614228189517,
           -0.6503281328503526,
           -0.4582416060147546,
           0.32951651118739417,
           -0.44194850500694166,
           1.196387721650561,
           0.6606816420495097,
           -0.09647811331757572,
           -0.36341580497692333,
           -0.31677823034402464,
           -0.28981001983397575,
           -0.35993932241685805,
           -0.4292942762815418,
           0.642544072043008,
           -0.8334696274296773,
           -0.05910098744218639,
           1.0480371416409384,
           -0.2715442361203614,
           -0.6009862195251289,
           -0.6832624788067709,
           -0.8513916926061232,
           0.13156954882282856,
           -0.1465074953623774,
           0.39410356049141687,
           -0.013067291298761823,
           -0.06302961146955116,
           0.3814640920214198,
           -0.3920222557046658,
           -0.5161548977794922,
           -0.504425014122852,
           -0.2602478918842954,
           -0.2559160687967922
          ],
          [
           -0.7661175683728437,
           -0.7043143037649668,
           1.6043096355975683,
           0.9317450316783739,
           1.2756265042704713,
           -0.5651170501952542,
           1.2251775420883277,
           1.5319475819206751,
           -0.5962464697236555,
           0.10733818365553825,
           -0.501565858289166,
           0.23508407067833045,
           -0.8010999568298798,
           -0.5917777265380466,
           0.1751022752120026,
           0.8141130014779275,
           -0.41086596503289025,
           1.3952033861562345,
           1.5333641290734685,
           -0.6835805346934838,
           0.7803406438959208,
           0.19197272864209383,
           -0.3237606243828926,
           -0.41186102028589056,
           -0.8311020505448159,
           0.5030545210192398,
           -0.9305722151440189,
           -0.6329394517104789,
           1.5992254584106678,
           0.01304533295065361,
           -0.4570485842939532,
           -0.6014128878757937,
           -0.48019521882462635,
           -0.7180289133248029,
           -0.602465477418934,
           -0.571344449427281,
           -0.6873044335566865,
           0.8816458135840317,
           -0.18341022683397432,
           1.6358357713559957,
           -0.19375259475766407,
           0.7611598616184262,
           -0.12442132357693175,
           -0.601492127733292,
           -0.35440704739780365,
           -0.6572919062078728,
           -0.4270187460328142,
           -0.43438196150346675,
           -0.5281585069452993,
           -0.5615528275495847,
           0.643277859541345,
           0.6249354785056019,
           -0.7282508981982885,
           -0.01161615308390039,
           -0.49271820814864087,
           -0.4030823023946305,
           0.31442377780334047,
           0.1766551500897877,
           -0.8830936302932392,
           -0.9934082128313146,
           -0.4709253640909002,
           -0.8830329267119514,
           -0.6750311813404583,
           -0.3843992673381137,
           0.6806331414330975,
           1.0836325191172227,
           -0.4235832539456669,
           0.26960284674633617,
           -0.16082110347148573,
           1.7009144084560808,
           -0.20238263534991693,
           2.912571028082039,
           -0.4676497704091193,
           0.46103006943619373,
           -0.38994323376044476,
           -0.732245138153135,
           -0.7913750458605309,
           -0.40780420556413455,
           -0.4349627665604932,
           2.312266174887724,
           -0.8616699629232228,
           -0.43444384337731223,
           -0.6478576894760456,
           -0.38367705279913955,
           -0.048282315721735566,
           -0.5244187391744148,
           -0.5809055401983105,
           0.0034562935918402778,
           -0.30644576027137965,
           -0.4996272197122669,
           -0.7212320811686038,
           -0.44172567327194284,
           -0.021586754320875694,
           -0.31207450843064716,
           -0.47378488230224963,
           -0.35886313049966984,
           -0.6270735839332852,
           -0.45836997464573137,
           -0.38412842840084144,
           3.223387753511165,
           -0.48398851967559287,
           -0.5137197615141023,
           -0.5826556435608676,
           0.13671200948068574,
           -0.6606068634569292,
           0.03954239050316661,
           -0.24411164735163762,
           0.0021403857322678656,
           -0.755471916505012,
           4.320849762308485,
           0.16308707651797533,
           -0.6347942742737844,
           1.963004990354021,
           -0.5450261744391073,
           -0.625750239850356,
           4.097178896666237,
           -0.6563655801206523,
           -1.2715609110151664,
           -0.6273508182880683,
           -0.19175386898355015,
           -0.23875366810863455,
           -0.024994169973025702,
           -0.41015870869224563,
           -0.2293853732819592,
           -0.3974976145302854,
           -0.060346549697804834,
           0.0732443864044571,
           -0.9323044628487999,
           -0.5771656572651919,
           -0.1027395068655056,
           3.555360031999702,
           -0.645635564354985,
           -0.2982739308840243,
           -0.8177847309033448,
           0.11738200513888146,
           -0.16401432381100925,
           0.2715574529323855,
           -0.17018580547813775,
           -0.21578340418647124,
           1.4057565526732758,
           -0.3176356086524013,
           -0.5346565746308413,
           0.7576639188522066,
           -0.1817685631008154,
           -0.5640796351857671,
           -0.10575394850312429,
           -0.26737855741026184,
           -0.5757665869585988,
           1.4969094163283663,
           0.08848927678481867,
           -0.1662792532721494,
           0.0728380730294196,
           -0.20296507996334795,
           3.960797279874827,
           -0.31093144153369184,
           -0.7546333738481648,
           -1.0286497573867746,
           0.3109488016782827,
           -0.6181206211652337,
           1.5707966803953304,
           -0.3507263851481485,
           -0.535741162007104,
           -0.9281616653683618,
           -0.2231616561813841,
           -0.3788083399318869,
           -0.634331103154556,
           -0.44130580048903334,
           -0.6858020206402059,
           -0.6456552897496507,
           -0.12344257255170589,
           -0.3843537950187153,
           2.0034974275223614,
           -0.363362897434587,
           -0.6250983036815931,
           -0.6521027047546679,
           -0.23359266041054227,
           -0.22035922193916166,
           -0.8035707078027142,
           0.17524338303205378,
           -0.8656374890533854,
           0.13865848094503702,
           -0.6316410969079461,
           -0.4989801180946095,
           -0.38116983556432493,
           0.018882771820502475,
           -0.7245188707843835,
           -0.3056016131309441,
           -0.6973783849006328,
           0.2002397765171745,
           -0.8364392116498748,
           -0.3714550225446999,
           2.3946852728055585,
           0.28683514212228367,
           -0.21598588698079774,
           0.4393355662048804,
           0.0702102237953918,
           0.08010437255975686,
           -0.43765197319028737,
           -0.08635764644438049,
           -0.4603784742565778,
           -0.6600970613190532,
           2.8582391657854287,
           -0.33940473552115363,
           0.605135646176961,
           -0.7765203242408792,
           1.7315674208666438,
           0.9986526283964913,
           -0.19169370193997703,
           -0.615898820111005,
           -0.29811975217005315,
           -0.6282980342650448,
           -0.5742771253241753,
           0.5904180183048983,
           -0.4965615937345933,
           0.579722214729274,
           -0.6706801870305396,
           -0.2773931677606426,
           -0.6009862195251289,
           0.16847769507364463,
           -0.42426439859129156,
           0.11234462263789348,
           0.6056960236040477,
           0.36294623365152295,
           -0.7003715242284554,
           -0.8698127039871438,
           0.3540306041605268,
           -0.3920222557046658,
           1.0154015688904612,
           2.6546193364457977,
           -0.2602478918842954,
           -0.2559160687967922
          ],
          [
           -0.4803831292440448,
           -0.4757428393889643,
           -0.5321138767378072,
           0.1576481683515068,
           0.5152645597675006,
           -0.39623165785624576,
           -0.38112099428877055,
           -0.38318780855581325,
           -0.31985216789901166,
           -1.1379355593833034,
           -0.36098306730707147,
           0.03073168023690838,
           -0.38959815663464525,
           0.10740567489966478,
           0.051133524629815894,
           -0.3440919334797428,
           -0.14983550010639968,
           -0.4042064992045787,
           0.6096594072530186,
           0.14717964057737118,
           -0.2944285751782161,
           -0.33327777195111685,
           -0.44193628227333626,
           -0.2950281502892572,
           1.0569451109412735,
           -0.12943140652186652,
           -0.40851122643051574,
           -0.3618118190237432,
           -0.5368416943453067,
           -0.3377763369388626,
           0.5768811477432619,
           -0.02258648539263379,
           0.3074039672809928,
           -0.15911608751165998,
           0.28289505183876584,
           -0.1125988730513365,
           0.5706422502333048,
           0.16489910235838248,
           -0.4023835515889178,
           0.43922855502087055,
           -0.23625406082235642,
           0.8075415439813763,
           -0.38773530612360324,
           -0.46120837250352964,
           -0.3017051596584767,
           -0.5292894377772458,
           -0.32105724612600434,
           -0.4122020161170735,
           -0.2772404724275686,
           0.34367248434308645,
           -0.42617817555904525,
           -0.4628563693471321,
           0.9849492842306616,
           0.2954885564581227,
           0.14188855362538477,
           -0.34617552710910965,
           -0.29707078538099074,
           0.38540865490969817,
           -0.47363438043245276,
           -0.7346211132509723,
           0.1825017188124601,
           -0.6286247282110851,
           0.8824471781034552,
           -0.18290896293423672,
           -0.5267362036164654,
           -0.33290086061806223,
           -0.46004807960360766,
           0.5118219415036431,
           -0.9291570038782883,
           0.40745999875308875,
           -0.459007223001437,
           0.11155537475910907,
           -0.8360986350971841,
           0.5221628086268559,
           -0.41168043411301475,
           -0.7093734914257442,
           1.2655101104721658,
           -0.2029055915346635,
           -0.4317148007314212,
           0.1859126929497377,
           0.23136203439642647,
           -0.45890974777770527,
           0.1662466943766958,
           -0.16879767361298637,
           0.7844995163774727,
           -0.8729308414930934,
           -0.007058613727457414,
           0.6007332117932893,
           -0.24204683932846907,
           -0.29069672462080637,
           -0.29976631776556795,
           0.2297095024207207,
           1.4068697701087671,
           -0.43962838307124474,
           0.8200882750510778,
           -0.019739736971553047,
           0.3377259885086667,
           -0.12872358431937614,
           0.2926789750298194,
           -0.47273321502427007,
           0.6692346808386705,
           0.1786806985257344,
           -0.40134301229386954,
           -0.02996677382228881,
           -0.34885278789875446,
           -0.32372614077468154,
           -0.4075929331780213,
           -0.22653215334236704,
           0.5776202598186627,
           -0.20338551779865144,
           0.2544785725017306,
           0.6280000558709583,
           -0.35335274687277624,
           0.03474039159627333,
           -0.09058262693108463,
           -0.2638318118711444,
           0.8073892426943445,
           0.13762661937044304,
           1.1091179594183014,
           0.9535586739267312,
           -0.24999649812541463,
           -0.41396422245923853,
           0.9677419091071163,
           -0.2700165567832972,
           -0.007068721684360916,
           0.5006260830820927,
           0.1556228026615448,
           1.1225401901990053,
           -0.06305102942856204,
           -0.3303342233965884,
           -0.34312479824821357,
           0.6984375171337445,
           -0.18668373603730018,
           -0.2212237969081069,
           -0.4147004230267578,
           -0.03738127660766762,
           0.6717819850016387,
           0.06318284488961945,
           -0.3486278769145991,
           -0.1679146424215816,
           -0.09925956678265321,
           -0.06171661929536556,
           0.11162379034369822,
           -0.23346571784108372,
           0.030834878624016206,
           -0.3544784228658274,
           0.09579131353804377,
           0.1353579355452255,
           -0.012789697347565935,
           0.48209943096016655,
           -0.5581716284318722,
           -0.09671907996022677,
           -0.33791893405456724,
           -0.13838243137593217,
           -0.16984971212862418,
           0.35958333777092544,
           -0.24245032095021568,
           -0.762919834368771,
           -0.12364388278805444,
           0.01871006693723026,
           -0.4035001490205972,
           -0.16575132114945904,
           0.8748342345827173,
           -0.525737288619522,
           -0.8848068451231543,
           0.6882499156861542,
           0.05502047536732107,
           0.24890798747818968,
           -0.3690459670966083,
           0.4603865557186907,
           0.4461773693880074,
           0.648590281744108,
           -0.4318188892094532,
           1.3853415701976433,
           0.44278724631286714,
           -0.17473873472357915,
           -0.3304910792466491,
           -0.2139127444351965,
           0.601995438914965,
           0.7337791444035343,
           0.6368345260478762,
           0.7421302537053255,
           -0.5969279109430914,
           -0.24953380287306492,
           -0.1951073898093827,
           0.5002600673940096,
           1.3062074768393523,
           0.7889999796263346,
           -0.11867147010199802,
           1.0911855528598924,
           -0.32276742504674755,
           -0.5229355151368079,
           -0.20307012283884665,
           1.0770444569849644,
           0.026641128817491044,
           -0.3547117433404458,
           -0.000035657743511856765,
           0.033418864952152405,
           0.6502882442551925,
           1.3524001198610498,
           0.03584095187675275,
           0.13750891960794967,
           -0.06473347907662874,
           -0.13880562660141632,
           -0.035385247946358535,
           0.750868427485506,
           0.3645193152630441,
           1.1671394191174198,
           0.3622610372305567,
           0.04973437506738687,
           1.9362244039176089,
           -0.20334241256152297,
           -0.6731947297435275,
           0.4199874270658125,
           -0.12608870216358092,
           -0.15416277460827124,
           -0.2903035369622898,
           0.001882133772141854,
           -0.6832624788067709,
           0.3404448020120338,
           -0.4948978734104044,
           0.8810253554641232,
           -0.6211955382568565,
           1.778253189801463,
           0.5849379116548147,
           -0.512489219307684,
           -0.3920222557046658,
           -0.5161548977794922,
           -0.504425014122852,
           -0.2602478918842954,
           -0.2559160687967922
          ],
          [
           -0.6434585835870338,
           -0.2735682919904365,
           -0.9420456021590053,
           -0.4946491686519508,
           1.0445648379707695,
           -0.6548452562384945,
           -1.1916322572893339,
           -0.9661536808670247,
           -0.6311487694591381,
           -1.2680451347484158,
           -0.6314839614949435,
           0.27203066586975716,
           -0.7747789900779929,
           -0.9056765829880447,
           -0.5477051495764126,
           -1.086538002758745,
           0.005936083571832598,
           -1.6004041086080105,
           1.2551548521280382,
           -1.0089330255728641,
           -0.3604796538161789,
           -0.8780431261324572,
           -0.6049891001143957,
           -0.38790153147613143,
           0.8159472094790272,
           -0.8307298967879696,
           -0.38624147231063577,
           -0.38854160173226915,
           -0.9157325177740104,
           -0.7447539472274538,
           0.8432338838795588,
           -0.9355290541310627,
           -1.0528155474955692,
           -0.4842631693646477,
           -0.6840184336607438,
           -0.8192486973225094,
           0.5784221056284247,
           -0.5166692389475356,
           -0.5924198456196675,
           1.236645133634148,
           -0.4411279734174357,
           1.64953119190927,
           -1.0964135831623407,
           -0.4323759155993514,
           -0.6690528512937031,
           -0.601331488006099,
           -0.361044870144698,
           -0.4740031686066968,
           -0.869108316328737,
           -0.7261548281040091,
           -0.8540583623003426,
           -0.6885799772882286,
           0.8647061343990485,
           -0.5554873104634481,
           0.42314611320704115,
           -0.3622315787183448,
           -0.6577709038422027,
           -0.6568092196606009,
           -0.6332915916309559,
           0.04857889977146604,
           0.5000600257242859,
           -0.791507135282516,
           0.8875030498776536,
           -0.1711377699397026,
           -0.8437940740843871,
           0.028866430944447952,
           -0.5583078658584648,
           -1.0335870869621693,
           -0.08084955056942575,
           0.2806469863910113,
           -0.6984999203218389,
           -0.7436584829854707,
           -0.8803242147424514,
           1.4453629292621888,
           -0.5122081281639581,
           -0.4958466927861256,
           0.9126953647609739,
           -0.3207207362002249,
           -0.02085590491349114,
           -0.2154611520018309,
           -0.7361635530496425,
           -0.40206431541730336,
           -0.47460644446200223,
           -0.21510040043047696,
           1.7806258395640957,
           -0.3888959474498477,
           0.5941246598210278,
           1.352870107707253,
           -0.2577325351189522,
           -0.44479828810788685,
           -0.7673975049143944,
           -0.8706774229697523,
           1.2708177666965994,
           -0.5406125722018886,
           0.45793816863858505,
           -0.018220613499377303,
           0.2970123991682275,
           -0.309017502074192,
           -0.08225920273832789,
           -0.5031770667449532,
           -0.060457314939678104,
           1.6421202747883494,
           -0.7400200677568891,
           1.8670864716033875,
           -0.016672076446526015,
           -0.8387541247050623,
           -0.7016949466435359,
           -0.35091071587330824,
           0.36553179313184214,
           -0.08292526098381112,
           -0.34028833017580373,
           0.3043959409943697,
           -1.0784605717768905,
           -0.3382965521254384,
           -0.11621438030295145,
           -0.2301715598831081,
           0.39632911375195584,
           -0.12488228350336857,
           0.05543394450755914,
           2.2002557329638743,
           -0.2348594549435779,
           -0.27938541660405564,
           2.3995437625757567,
           -0.2814785001873628,
           -0.24572987341677763,
           1.0002712218031151,
           -0.7932869759917063,
           -0.42693434312675854,
           -0.5344647074834524,
           -0.3345278500871149,
           -0.534687839458363,
           0.6475834239861372,
           -0.2644316855062603,
           -0.6718054657445871,
           -0.02785001605432253,
           -0.6712203044444531,
           -0.7177856092605996,
           -0.38000711918643054,
           0.0631082170167084,
           -0.9687712144300064,
           -0.16119217767681987,
           -0.693504178797248,
           -0.7499565176658436,
           -0.3014662522893555,
           -0.4574779341984071,
           -0.6942953221508604,
           -0.08231912768324486,
           0.5763643051017874,
           0.11997561149107738,
           0.6741704075020899,
           -0.5630927405775892,
           1.8053649816583597,
           -0.4460860187418459,
           -0.30530383730989485,
           -0.31439396913749107,
           0.18016776488428404,
           -0.8014694571072932,
           -0.5874480369915606,
           1.1595401901413203,
           0.9506436274232715,
           -0.8767368356387573,
           -0.7423984892810828,
           1.09703388156753,
           0.5320531304474476,
           -0.22195977671377456,
           1.0925154136947335,
           0.24162418828997842,
           -0.502822180900651,
           0.8116338679282474,
           3.5597732881317583,
           0.27796608718231586,
           -0.9770285995033418,
           -0.45113013332733237,
           0.8620878772826597,
           0.04464711119072906,
           -0.21217403852011904,
           -0.14508928544008692,
           0.1750925719356843,
           -0.1672973402907454,
           -0.3830683788961684,
           2.2112204414447945,
           0.150678953011642,
           -0.5978607624495272,
           -0.1234777176176579,
           -0.2900966679416695,
           -0.6156165530564419,
           2.332398456330764,
           0.9946245850266066,
           -0.5542624552188735,
           0.2111507236745471,
           -0.5741869858968294,
           -0.5286472481110115,
           -0.48684727758026003,
           0.19671794233222523,
           -0.3041382658093351,
           -0.015937170394074513,
           -0.8056768644395631,
           1.5074585314270175,
           -0.7810755464872838,
           1.6673748513492481,
           0.014550941282101958,
           0.6243251391292133,
           -0.3680123131093362,
           0.2763230466688463,
           -0.6314349220221446,
           -0.8232375291407896,
           -0.6704651077267788,
           0.25853605980198124,
           3.5630460734716896,
           -0.08267954798064346,
           0.4979224248444552,
           -0.4623602985762825,
           0.06816524689310438,
           0.0866982680670117,
           -0.1390938700543857,
           -0.6706801870305396,
           -0.29394551606216013,
           -0.6009862195251289,
           0.09216571417684434,
           0.704042961898755,
           -0.4948978734104044,
           -0.19284513627857627,
           -0.6211955382568565,
           1.1191969074582477,
           0.5541050469687617,
           -0.512489219307684,
           0.5622314186252193,
           0.8781811918188758,
           2.3715835709324216,
           0.7183839571502598,
           -0.2559160687967922
          ],
          [
           -1.0615051219721567,
           -0.8786159726416237,
           0.6468801690720045,
           0.2584259808788386,
           1.653020549227219,
           -0.8531936889425604,
           0.7491575461671229,
           0.40729649937688645,
           -0.743606260034841,
           0.006838915737996523,
           -0.5329627175698971,
           -0.4223418223398716,
           -0.945804912328418,
           -1.0393318585346674,
           -0.9794516071217786,
           0.01200808011349465,
           0.14205518588282945,
           0.641644512535716,
           2.024852585631454,
           -1.1760348797089837,
           -0.10949351821531322,
           0.28068016825851083,
           -0.6562804888996194,
           -0.550621487265506,
           -0.49723488244524333,
           -0.1964223617385711,
           -1.2474133342288254,
           -0.9067027387474419,
           1.5744190680049042,
           -0.22247461236986293,
           -0.5502166318642764,
           -1.0665679331831974,
           -1.0284333217214312,
           -0.8071062494881042,
           -0.9174362737278331,
           -0.9579760076013555,
           -0.6295965052294893,
           -0.8044365990181211,
           -0.8609244649496849,
           2.815452647335822,
           -0.6427703648809258,
           2.6818868911746714,
           -0.7630570737938938,
           -0.6453796764867373,
           -0.7194733460217129,
           -0.8993666633191906,
           -0.5630649479646571,
           -0.42909106451439316,
           -1.0957676919853765,
           -0.9281513335460996,
           0.1588741027180468,
           -0.3457454746704005,
           -0.4996961311429385,
           -0.8455933821411917,
           -0.4196264802792313,
           -0.37587404021111975,
           -0.15064503017947897,
           -0.9385811460647779,
           -0.5137564798526357,
           -0.9464996389246833,
           -0.37502446401606987,
           -1.0428551068984468,
           -0.6283140978097457,
           -0.3671006188496551,
           -0.18251642159380618,
           0.6897531208272204,
           -0.7135469913146603,
           -0.37046783221998686,
           0.4739579031579568,
           2.841567529037615,
           -0.7850766789086407,
           0.017981718639172438,
           -0.9503705862597164,
           3.6593979904894143,
           -0.5003796755419965,
           -0.8437087719308664,
           -0.7227989893262081,
           -0.2465732269356671,
           -0.33897516930142063,
           3.11712445969801,
           -1.4940381494966564,
           -0.5948721725950191,
           -1.1032245869159731,
           -0.3029385377705106,
           3.76009590631674,
           -0.8376248617807157,
           -0.5224223356437917,
           3.8585866995557785,
           -0.20205244105395928,
           -0.637498620311451,
           -0.783324072164558,
           -0.8358945936490509,
           3.334827237395758,
           -0.25327202761358336,
           -0.4549431115379628,
           -0.3195061168728562,
           -0.6952016092971375,
           -0.22037147487324374,
           -0.6205608393587787,
           1.9827635384528766,
           -0.5579980275816548,
           -0.5708575616366928,
           -0.8715049314750503,
           2.056627929308889,
           -0.8718401343548678,
           -0.8545006659130673,
           -0.6875067211414246,
           -0.08792581504515713,
           -0.690318866473622,
           0.40775834248868803,
           -0.8411329768642474,
           -0.39059398125841505,
           -0.018171493811291777,
           -0.7311005195311399,
           -0.9272285956545584,
           1.6283173629356058,
           -0.5148544082036128,
           -1.0289986875174042,
           -0.45419893288415075,
           0.13148711061627638,
           -0.18173298493739695,
           -0.3504876732672888,
           2.1860390092308,
           -0.6308125236746647,
           -0.6494377085754427,
           4.134527482911941,
           -0.5859568929537098,
           -1.200473172160923,
           -0.7471095630162243,
           -0.36355445359080835,
           1.8570958158863227,
           -1.156439378986363,
           -0.3952757077857521,
           -0.44548380403653776,
           -0.8066145713231023,
           -0.6221509297824338,
           -0.5608705456350283,
           -0.4643129698405127,
           -0.4102220148601672,
           -0.08652211503869399,
           -0.34046330353860316,
           -0.7302659545121574,
           -0.10308364570906578,
           -0.29828245562150796,
           -0.6939535385013538,
           -0.5186789387883436,
           -0.5328066102157121,
           -0.8794294701913989,
           0.039881486601196545,
           4.300966141497781,
           -0.5971547068879489,
           2.324853880800372,
           -0.47653179092902664,
           1.06013990248748,
           -0.31966720904452145,
           -0.489734771062393,
           -0.4481773192383811,
           0.09772746632403534,
           -0.07570776218849802,
           2.343946149503698,
           -0.9110848831414063,
           -0.2625675942591911,
           -0.7125002148288051,
           -1.0394925270806337,
           -0.16618422348759815,
           -0.30524832970932514,
           -0.4560921736703138,
           -0.530246677765793,
           -0.6748882999637837,
           0.7384897019688542,
           -0.6088912310351219,
           1.0239105578664283,
           -0.7743357446189768,
           -0.6589698144107334,
           -0.743077179580335,
           -0.2394911755852659,
           -0.34656616968475273,
           -0.6048376835750817,
           -0.695708386536381,
           -0.0884869654908562,
           -0.25298857915739525,
           -0.4677431491859827,
           -0.5676936324290259,
           -0.3264023461235714,
           -0.30374243193389655,
           -0.754509687979212,
           2.2473934055870446,
           -0.5037333094408397,
           -0.4226178295136457,
           -0.739055239574149,
           -0.5218851280295723,
           -0.34393768813665465,
           -0.4119977805881527,
           1.0729223816048679,
           -0.6612929406818762,
           -0.891305853287038,
           -0.6229048173781657,
           0.2862109988700604,
           -1.178959434693674,
           -0.352783399863541,
           -0.6104388244076662,
           2.7428286775626036,
           0.0826641677747968,
           2.2181251179725785,
           -0.6531799085954685,
           0.6611566095175689,
           -0.6704651077267788,
           1.1052760814771423,
           -0.10512209810893343,
           -0.5605926769923623,
           -0.2946872495164177,
           -0.6050981139132928,
           -1.056046299767818,
           -0.5727177094592806,
           -0.2291104308317501,
           -0.24088355228768554,
           -0.17616893931897754,
           -0.6009862195251289,
           -0.6832624788067709,
           -0.19023642177235428,
           -0.4948978734104044,
           -0.5407572598788897,
           -0.6211955382568565,
           -0.7003715242284554,
           -0.8698127039871438,
           -0.512489219307684,
           -0.3920222557046658,
           -0.5161548977794922,
           -0.504425014122852,
           -0.2602478918842954,
           -0.2559160687967922
          ],
          [
           -0.8806249881468475,
           -1.0437896553769286,
           -1.1706826870846423,
           -0.08612693586187534,
           0.4744780982278575,
           -0.8683693148708364,
           -1.1103205696857223,
           -1.211026160546736,
           -0.6939738117497504,
           -1.999925439740522,
           -0.6799445132501433,
           0.8665926573206559,
           -0.8321696042499865,
           -0.25327691830287086,
           -0.5927828771619669,
           -0.8765383919559524,
           0.06696814336887705,
           -1.178227236973338,
           0.28419006770140615,
           -0.30636584662746397,
           -1.2078059690761724,
           -1.4046506800129077,
           -0.6115654328089106,
           -0.5137897682314195,
           2.539369117907069,
           -0.7686511839575748,
           -0.8275825889453275,
           -0.7874921014817969,
           -1.5329804173312982,
           -0.8097204296452595,
           2.6889038772628124,
           -0.7387669638528619,
           -0.4697008310320791,
           -0.550397237760487,
           -0.0172406767868832,
           -0.2274563959693185,
           3.1077714914968526,
           -0.8378749994984812,
           -0.38575718768151357,
           -0.40940030106443204,
           -0.24473019218955838,
           -0.11354578878852192,
           -0.5152457771734527,
           -0.5449585695685524,
           -0.31172675699727015,
           -0.6871572731838738,
           -0.5275989789813487,
           -0.6029365480356494,
           -0.7970377724291019,
           0.3340384168020553,
           -0.9064264736381094,
           -0.6600823572976287,
           3.0138381218718187,
           -0.8461913091688255,
           0.9250227414625117,
           -0.4569077854001399,
           -0.657906500242714,
           -0.8303666561064448,
           -0.8355588529276834,
           -0.8844151822661549,
           0.9031644459524734,
           -0.7053176756886691,
           3.1027860490718653,
           -0.09811110208124443,
           -0.7357594365769897,
           -1.2493030305048751,
           -0.3123895669116281,
           -0.7940540716072407,
           -1.1765222019784154,
           -0.6452410050347804,
           -1.009714151234791,
           -0.8061831092460522,
           -0.5470108997554475,
           -0.40333283488348337,
           -0.4966067865002725,
           -0.9262590178123971,
           2.427496136670466,
           -0.26073257250504867,
           -0.7101052430185562,
           -0.8475989516920814,
           0.08361269109706305,
           -0.635899503646632,
           -0.6789205312055483,
           -0.1655117260759406,
           -0.3150472998831439,
           -0.9545943530659007,
           0.9614402327507406,
           -0.23239793959184704,
           -0.1316264427450118,
           -0.5539723557307047,
           -0.12842698410354414,
           -0.32338406721854457,
           0.6169031486873565,
           -0.4257113092518487,
           2.3592508017955494,
           -0.29449483428358897,
           0.8061568951720968,
           -0.2811494333822455,
           0.021182733101083106,
           -0.8077349732897406,
           0.9821957397283887,
           1.7768941806404284,
           -0.7839046179067247,
           -0.5790582539115668,
           -0.7838180127285163,
           0.09315775165882363,
           -0.34351635618603443,
           -0.43194842825877705,
           2.1001251568657833,
           -0.45406448729536236,
           -0.6933334387411955,
           0.499180245351487,
           -0.8902072967161224,
           0.22136729710254363,
           -0.54050346993533,
           -0.4556019451132734,
           3.3787490032082763,
           -0.2282068075260229,
           3.9115127979939905,
           0.8632758100504909,
           -0.19227253734253882,
           -0.5508001210540865,
           0.01157536979356443,
           -0.5992144327064944,
           -0.46149065133033174,
           -0.3209042467004459,
           -0.01959083184541895,
           0.0685757369130078,
           -0.18555327408427816,
           -0.3561571563322438,
           -0.6399544037907533,
           -1.1319747977026617,
           -0.1205892271076498,
           -0.23424245657167422,
           -0.5203963962656513,
           -0.8755300211505256,
           0.26230875792755515,
           -0.47405793419540676,
           -0.07991539610429568,
           -0.9039587831174599,
           -0.1613574094920543,
           -0.20341769786531677,
           -0.9448104727809499,
           -0.3436806408484328,
           -0.45762971571593136,
           -0.6947049353685188,
           0.025817233459872063,
           -0.04907781286146658,
           -0.7903371666322068,
           -0.3992483741892944,
           -0.638945289557203,
           -0.5525478525381503,
           -0.4462164026859543,
           -0.5352421050361302,
           -0.04484761554379127,
           -0.44323299451431303,
           0.6630460571440913,
           -1.2130699029644452,
           -0.021032306330411876,
           -0.7706693162285551,
           -0.6478563488961101,
           -0.7423984892810828,
           2.4383976921864274,
           -1.2621012667786382,
           -0.3708061953871748,
           0.009875821381100831,
           -0.13790329700919926,
           -0.3200772318411212,
           -0.6577685299167305,
           -0.26731219208151347,
           3.2316520856248565,
           -1.0300231830558686,
           -0.6002452097128752,
           2.76968057030701,
           0.16599796668562214,
           -0.2359458566940566,
           -0.17648819977371333,
           0.03543648319211145,
           -0.24964690230730158,
           -0.9186558318006616,
           -0.2644473944445752,
           3.9781364916992827,
           -0.5261332015725946,
           -0.25240647624373425,
           -0.32048440223021657,
           0.9132472332677279,
           -0.44404555326253264,
           2.153079598759117,
           -0.6391742819415799,
           -0.3404593562601544,
           -0.45122055112933107,
           -0.6166861897883145,
           -0.4870218589189485,
           -1.5367552515238472,
           -0.5114723874369549,
           -0.3081013007562959,
           -0.5450006145744494,
           -0.9852583479645654,
           -0.7813309276735524,
           -0.12075893305888483,
           0.8093420368295108,
           -0.6196274334360201,
           -0.6587022144086105,
           -0.6837013813491816,
           -0.5831972850842084,
           -0.738160961674711,
           -0.6704651077267788,
           0.7756576676292619,
           0.3289918904024485,
           3.976667944173772,
           1.7216722633233366,
           2.9282739809063676,
           -0.05738854586620267,
           -0.016067594459576114,
           -0.7396961690115549,
           -0.6706801870305396,
           -0.23802504994847817,
           -0.6009862195251289,
           -0.16664215511165376,
           -0.3332462589167575,
           -0.4948978734104044,
           -0.30896471540063214,
           -0.6211955382568565,
           2.12825154479927,
           -0.8698127039871438,
           0.013095654362058682,
           -0.3920222557046658,
           0.41280586024560784,
           -0.504425014122852,
           -0.2602478918842954,
           -0.2559160687967922
          ],
          [
           -0.44470705829661566,
           -0.7699582468130534,
           -0.9357352840943959,
           -1.3713864163884681,
           -1.6494456985447945,
           -0.14202714357703208,
           -0.6004818938080254,
           -1.1725628580454255,
           -0.21212992216511642,
           -0.6264820153633377,
           0.08609703109197646,
           -1.330874247046942,
           -0.1843905864534529,
           -0.5186379568798541,
           2.555673012906095,
           -0.8020492706067514,
           3.3129424284113473,
           -0.887905487272713,
           -1.492148174286781,
           -0.6410071780639189,
           2.156050167013254,
           0.06050644580592871,
           0.10069468216425269,
           -0.27830823265276494,
           -0.6315554822957749,
           -0.8616615475990234,
           -0.35631257222245816,
           -0.7885632290014574,
           0.5064168482945355,
           -0.9104420409315208,
           -1.2118220484977464,
           -0.5927836756617522,
           -0.3779640818653548,
           -0.31348672343802403,
           -0.7797528941522499,
           -0.6132439384663397,
           -0.5980594563111274,
           0.6136242241084117,
           -1.062076327596352,
           -0.8428140110992782,
           4.200966930742808,
           -0.8525982854117993,
           -1.2534942987301678,
           -0.6421527193210993,
           -0.7225113526517545,
           -0.14085865457118388,
           -0.46369029564289743,
           -0.09450058585379176,
           -0.4758167915272496,
           -0.6545368334687445,
           -0.890335687597834,
           -0.6660848150203592,
           -0.618607274296684,
           -0.2228093153894367,
           -0.9960173268523923,
           4.257883372820322,
           -0.6441203098978037,
           -0.3341633212709795,
           -0.507930368452986,
           -0.31670419262395766,
           -0.9828003145390636,
           -0.6196822087528275,
           -0.8923307103051565,
           4.504958997717533,
           -0.6584888928794297,
           -1.4136593470285121,
           -0.8645036810712974,
           -1.0578826584892218,
           1.27673989663197,
           -1.3256702559723548,
           -0.6095683142127032,
           -0.8819088003769229,
           0.6070059385452059,
           -0.5690269474680407,
           -0.09574490329180989,
           0.2138793410753826,
           0.09579771349958931,
           4.487141745138956,
           0.030288372952408153,
           -0.775689235808311,
           -1.2320027090963321,
           3.287427224818213,
           -0.17482076862484497,
           4.5231479731751385,
           -0.5454947159173021,
           -0.24971410938732747,
           -1.1395726860931135,
           -0.48409789863386976,
           4.566967979283457,
           -0.4353903941388173,
           -0.9269452775444492,
           -0.5383293999549189,
           -0.4998778607649571,
           4.177249185533771,
           -0.8384456149402926,
           0.11509143844929659,
           -1.246225415502597,
           4.210715978308484,
           -0.5555920865201317,
           -0.37223809090773324,
           -0.6208292324968517,
           -1.4392306143055877,
           0.019282033351205444,
           -0.6874179331527807,
           -0.8024127013949635,
           -0.872209127206577,
           0.9348002348153608,
           -0.7177660722995448,
           -0.6056338893631248,
           -0.5388395316564862,
           -0.5556766174301775,
           -0.27234670333187144,
           -0.9804060722489372,
           -0.9116011813872528,
           -0.8968386599574738,
           -0.5036602436058489,
           -0.5843633336445996,
           -0.6858108419297839,
           -0.50547517832672,
           -0.6149275255919049,
           4.561869415955794,
           -0.693630195160203,
           -0.7738303063719439,
           -0.605889534977959,
           -0.6381718220171284,
           -0.4178517210782837,
           -0.5780265889023621,
           -0.6893323344222714,
           -0.915193949341817,
           -0.2157981827081989,
           -0.5524964658943197,
           -1.13270425444863,
           4.446573892800427,
           3.279434700153926,
           -0.9084809047692594,
           -0.9202074352802077,
           -1.2689258834525514,
           -0.5342028389703912,
           0.06091769561840394,
           -0.9278751775000658,
           -0.1872696206827224,
           2.206624426517318,
           -0.9249047565898408,
           -0.40596168453824105,
           1.1942132097021743,
           -0.1743815718183546,
           -0.5462943576774255,
           -0.9372078195476421,
           -0.9367266038522294,
           -0.4180085068218837,
           0.6393505094671429,
           -0.5960066590283254,
           -0.10856411148844873,
           -0.5732735931873747,
           4.536879019622394,
           2.713500641085555,
           -1.0808540987644324,
           -1.0656592532718958,
           -0.5509751704756677,
           -1.2144158309906081,
           0.33580554947935304,
           -0.46926397980708284,
           -1.061657516694072,
           -0.6762666312252709,
           -0.25059627493125636,
           -0.9063079311310694,
           0.25507014052601445,
           1.1736826164893126,
           -1.0197757875776334,
           -0.5378086978627291,
           -0.643873830398865,
           -0.9053000458199842,
           -0.803495885820257,
           -0.642911999541651,
           -1.0545658705595216,
           -0.19645815371482203,
           4.471613147416968,
           -0.7843969870819256,
           -0.6667770107472134,
           -1.324049625878838,
           -0.47327345275000493,
           -0.7683359282689003,
           -0.6200940594087664,
           -0.28764381513473036,
           -0.3150548219067718,
           -0.8571956381571575,
           -0.45077830764920107,
           -1.1233923877319227,
           -0.5980840832757668,
           0.024691284820091145,
           -0.5146433323248752,
           -0.4094859012147341,
           -0.4955968547698593,
           -1.0568870276053446,
           -0.32412108160923864,
           -0.5524218652803634,
           0.5753102448306582,
           -0.5027520317298868,
           -0.890145815142462,
           -0.4837235248923902,
           -0.9006901985802716,
           -0.6868226233986925,
           -0.6587022144086105,
           -0.5804633232002343,
           -0.7063111645657993,
           -1.0791241934499602,
           -0.6704651077267788,
           -0.9506681115025475,
           -0.8011993007807144,
           -0.5605926769923623,
           -0.8806764532105675,
           -0.7106264987564671,
           -0.8747049500500188,
           1.244522580395946,
           -0.7396961690115549,
           -0.4260267180230688,
           -0.38074732995013155,
           -0.31543179204259875,
           1.5681905682337682,
           -0.09869184581075555,
           -0.4948978734104044,
           -0.5407572598788897,
           -0.1876225897937243,
           -0.7003715242284554,
           -0.5252843530565541,
           -0.512489219307684,
           0.06975644543958633,
           -0.5161548977794922,
           2.2790686094551194,
           -0.2602478918842954,
           -0.2559160687967922
          ],
          [
           -0.2520249227770428,
           -0.14572774915883224,
           0.4028499962290443,
           -1.1097836483406693,
           -1.1393884593365258,
           -0.5577943965448489,
           -1.0563809427973767,
           -0.9014272408773003,
           -0.3358784862772251,
           -0.2474384459940191,
           -0.42147624453611127,
           -1.0881778253655618,
           -0.5848742730849038,
           2.259971494522238,
           0.09438608269863388,
           1.5679650899282314,
           1.0038067954920245,
           0.5103259072647771,
           -1.2207823558087447,
           2.5478163775865825,
           -1.4293174725517208,
           -1.09544544242127,
           -0.5839445715941675,
           -0.3395963647277717,
           0.6004549430795454,
           -0.7243257763008838,
           -0.05869897581602758,
           0.645380047028209,
           -1.374379095851905,
           -0.8195732562880155,
           -0.6182748619270444,
           2.152390435838953,
           2.765811522949614,
           0.21205498254718158,
           2.233724197687623,
           3.3059044391798764,
           -0.012961814168403548,
           0.13783567438594266,
           -0.021491087131628873,
           -0.7054008954765555,
           -0.1894042976119478,
           -0.675608275817319,
           0.34079609230247837,
           -0.21815111602392281,
           -0.6382030257381862,
           -0.5373259557535989,
           -0.4615189538896689,
           -0.4800757598793594,
           2.4044208224704025,
           2.9441070676471717,
           -0.7263444814353309,
           -0.6178826644130833,
           0.1968281250519898,
           0.13632024718525593,
           -0.514464065782303,
           -0.36207921381445485,
           0.5976924391221087,
           0.5456998507974608,
           -0.9150545430122463,
           -0.17930286108732768,
           -0.5789749407794075,
           -0.8223001424833611,
           -0.11605559660161792,
           -0.20692584341296344,
           -0.7142686993477477,
           -1.3188211758867707,
           -0.6764763257868884,
           -0.1703788266604641,
           -0.9394400178856999,
           -1.0467718918719038,
           -0.48142123085903743,
           -0.5598075799817064,
           -0.7289095736686845,
           -0.5181020509881615,
           -0.48612510841166057,
           -0.4771766255851952,
           0.15683878472219834,
           -0.15825444980762815,
           -0.46157513174063114,
           -0.8531684571794179,
           0.11038040379181198,
           -0.5565194568087768,
           0.08661967334966575,
           -0.17559610522659003,
           -0.5124095298892514,
           -0.7578312399703365,
           -0.9012983288520218,
           -0.5461395511463605,
           -0.07697192899321438,
           -0.4510178026486054,
           0.06707512796551043,
           3.0310390546677857,
           -0.3297727446659557,
           -0.4438889918919756,
           0.6885359223378749,
           -0.06649544819937563,
           -0.5868149903607438,
           -0.31795060014814164,
           4.106000495108752,
           -0.761736312037554,
           1.0675869891868115,
           -0.8104553818336016,
           -0.5080679162540803,
           -0.5962728526356377,
           -0.5293285650261494,
           2.6307791589971616,
           -0.30220582671661045,
           0.6865614166032358,
           -0.13567262759415874,
           -0.4329175311999019,
           0.5726944750067742,
           0.22979891321465998,
           -0.3694585599185073,
           -0.7258419280701734,
           -0.5585851814655296,
           -0.44013169997464013,
           0.3530658202376702,
           0.5456828704207654,
           0.621235837602675,
           -0.49199151765201404,
           -0.11385741115424905,
           1.2356168407979256,
           -0.36512280783699297,
           -0.2599867687136564,
           -0.8270024807398496,
           -0.46661512837835684,
           -0.42115836742551355,
           2.37473316013507,
           -0.4314726294214999,
           -0.3602533467869864,
           -0.5813206042136589,
           -0.20823506305378447,
           0.04318132724468171,
           2.410222929486927,
           -0.650449088232318,
           -0.4610658648682424,
           -1.0486937590071157,
           -0.6224000785977604,
           0.10472606482378086,
           -0.7516647627394337,
           -0.11964649237895464,
           3.2487165238677864,
           0.7866091604267281,
           -0.14088668260161485,
           -0.23255940830124353,
           -0.813653687967861,
           4.21108956926563,
           -0.7503817770269542,
           -0.6986344624695545,
           -0.42497566309595963,
           -0.4577900226843933,
           -0.5732509952625585,
           -0.31893373381947426,
           -0.5066492889177402,
           -0.23516440075004766,
           -0.0959968572412483,
           -0.42773414982599395,
           -0.6057909851495201,
           -0.5361565871596091,
           -0.8620898460848075,
           0.6081599945980263,
           -0.49767270698295,
           0.7757393973882014,
           -0.07536509725967826,
           -1.0398090150443475,
           -0.4967993995996562,
           -0.12232503971426424,
           -0.507293492773986,
           -0.6429561438428558,
           -0.49362461793342766,
           1.0515752560034515,
           -0.7743752737452655,
           -0.7629347871568223,
           0.6002757773669463,
           -0.8162653118592793,
           -0.2558245032349537,
           -0.03005875267405237,
           -0.20379275650554793,
           -0.42509609231794476,
           1.3313218808728915,
           -0.09732166756663406,
           0.1791799263328706,
           -0.5008480315553434,
           -0.339270647213974,
           0.09257172884910568,
           3.6599245668040625,
           -0.34495537588449926,
           0.17159792979009156,
           -0.5839496728324514,
           -0.9041169640395841,
           -0.4141354358819903,
           0.06534955646395686,
           -0.5819442267830075,
           -0.562096923890819,
           -0.6223306385956787,
           -0.7205102343316064,
           -0.38766627133048526,
           -0.17465680635790395,
           1.4087816427388633,
           -0.42420448712585307,
           -0.23785241447590502,
           -0.5884296666676365,
           -0.09152906112168055,
           -0.5102633842239531,
           -0.4462601323482332,
           -0.8294903987573672,
           -0.011602843467593289,
           0.17281374475783623,
           -0.43438126433831037,
           -0.055504976265221564,
           1.5849942845137825,
           0.13707190843771588,
           1.7467342416882037,
           1.0616380621051706,
           -0.7396961690115549,
           -0.34186960368403285,
           -0.24336109001337997,
           -0.6009862195251289,
           0.8296970405860723,
           -0.34558305495698055,
           0.04442934347459693,
           -0.4276204226930735,
           -0.4755166575467345,
           0.28579808317066635,
           -0.17525131982726141,
           -0.512489219307684,
           0.5389131897412183,
           0.3906877469592959,
           0.4308183791376034,
           -0.2602478918842954,
           4.507433315316443
          ],
          [
           2.92568145677,
           3.1842856745431676,
           -0.9578475787196165,
           -0.44661386271810793,
           -1.9328985356052149,
           2.8499098553677076,
           -0.19453852693343227,
           -0.5378572881842907,
           3.0839241690368913,
           0.1531277986290098,
           3.5247378739344946,
           -1.4723573619036583,
           2.8395576208692,
           -0.6644553306283277,
           -0.9222481929156926,
           -0.7585707545377374,
           -1.6013277023249908,
           -0.7168768186127584,
           -1.682574192360471,
           -0.8146076581594249,
           0.6057202085164227,
           1.9295954876489616,
           3.164576828537381,
           3.918432168389466,
           -0.9953581062441642,
           -0.631250962921485,
           1.0192148110849555,
           1.80831308754143,
           -0.692444039581571,
           -0.6348261222423978,
           -1.4070207289453038,
           -0.4293468678451486,
           -0.6853152443686003,
           3.2145938352493215,
           -0.8677288032292928,
           -0.7051592011434843,
           -0.9092527232388625,
           -0.6079695109916794,
           -0.47505498482869823,
           -0.8906245975558097,
           -0.3361149631437982,
           -0.9181859248714326,
           -0.9799011516153422,
           3.354694622237289,
           -0.7489548563741889,
           2.8392304456633393,
           3.9595742548773707,
           3.5023050129483217,
           -0.19256464900483378,
           -0.7832934039110406,
           -0.6830189941790074,
           -0.5947075377246293,
           -0.9608131046206628,
           -0.44550172639202695,
           -0.9454822028771732,
           1.1151937388101494,
           -0.6488839476264767,
           -0.6574178213936622,
           0.5540351530245317,
           1.5338453478913596,
           -0.9921805851059198,
           0.47614276239252235,
           -0.940092648533346,
           -0.23818215955574998,
           -0.4627850897733381,
           -1.0273630696758802,
           -0.8112328571478965,
           -0.864134643068001,
           2.5577883479401056,
           -1.2400374869446376,
           0.7228239031123683,
           -0.8667619380163638,
           -0.2786172121045027,
           -0.6029450228258509,
           3.63552788158995,
           0.9996005130998785,
           -1.0002033267361854,
           0.1899131524056652,
           4.040892998736381,
           -0.7959580167777647,
           -0.816544500678956,
           2.2290527979841523,
           2.930879832364959,
           0.11903282745285222,
           -0.6471773301786482,
           0.2742753503091763,
           -1.2884042094745765,
           -0.6788584514442257,
           -0.14362883598781845,
           3.653385244365867,
           -0.9763645308738212,
           -0.43487558521533615,
           -0.8775133033605595,
           1.098847833962813,
           -0.9544807146902442,
           -0.12296587046118677,
           -0.8132917588917783,
           1.2766104346770106,
           -0.5522501171332442,
           -0.728629613405584,
           -0.6457129215289581,
           -1.3310885911017387,
           2.720987359903749,
           -0.6770145474150991,
           2.2695632641713663,
           -0.7180319092307397,
           -0.6763407244554465,
           -0.684328624655292,
           -0.7829289161672384,
           -0.5212582500561269,
           -0.4135921093175501,
           -0.5209403608429805,
           -0.5551864875607353,
           -0.9585230117450846,
           -0.7650774280272,
           -0.48319565013469146,
           -0.7906554886350972,
           2.3012315090138333,
           -0.6290317422409524,
           -0.7271821459540656,
           -0.08786154665241126,
           -0.7044369200288281,
           -0.7573749904011639,
           0.34620409608059727,
           -0.2861204530610037,
           -0.5313802667581173,
           -0.31581068413958857,
           -0.8137529883355302,
           -0.9589860356583407,
           4.230073681554028,
           -0.6256714316685092,
           -0.20867706719825174,
           -0.23682405660695002,
           -0.37255512100680094,
           -0.46170836757150646,
           -0.6183890466054148,
           -1.3555787752141544,
           -0.2634165243440107,
           -0.13505780546555818,
           -0.7673418768056026,
           -0.21766170528895742,
           -0.5023976618731031,
           -0.8702649456173076,
           -0.3952288017629068,
           3.663532162237689,
           0.5328366729785615,
           -0.4457531393858667,
           -0.738635149724557,
           -0.672243364291501,
           -0.46152711145812686,
           3.2818969265007434,
           -0.6005846665194096,
           3.8942269137284615,
           -0.5869129996855742,
           -0.2959233628177709,
           2.650844427831897,
           -0.4516725305611527,
           -0.47955590215843585,
           -0.5683011001434054,
           -0.842357427605795,
           0.2920315740197541,
           1.1225270241083605,
           -1.0257681308838063,
           1.4945209766932106,
           2.451429671585408,
           -0.8955044441285008,
           -0.0021823779462382046,
           3.4067813488920913,
           -0.8850465321041177,
           -0.577191103776374,
           -0.7587955644793695,
           -0.8129611937935307,
           1.8304131464373825,
           -0.7576065892666547,
           -0.8683133281082058,
           -0.1660976939065434,
           -0.3309599568516973,
           0.8372378137814741,
           -0.7172479201763465,
           -0.9094002917485274,
           -0.5158278644522631,
           -0.8069537505816362,
           -0.5423958422245561,
           1.2398486159804474,
           -0.26544014550710243,
           -0.7957952732368483,
           -0.6303308064874964,
           -1.0541094241363194,
           -0.5744300536324448,
           -0.251397268813604,
           -0.5272766760614321,
           -0.32312759187939294,
           -0.5514500674691863,
           -1.023484680020179,
           3.021833063989812,
           -0.5353283046708202,
           -0.668652318120894,
           1.8023852689691362,
           -1.0272686379411398,
           -0.5658737049499731,
           -0.6116668123747424,
           -0.6611884152787504,
           3.92201259656497,
           -0.03302860545449469,
           -0.7396450432655985,
           -1.0791241934499602,
           -0.2842466305875795,
           -0.9506681115025475,
           -0.5933572057043844,
           -0.49985885868749397,
           -0.763880368047238,
           -0.7106264987564671,
           -0.7703137861943514,
           -0.36572512423400483,
           -0.43439490245056495,
           2.1562535060308075,
           -0.1201513500231154,
           2.5485728367801035,
           3.2584342122656715,
           -0.8513916926061232,
           -0.21387722758981606,
           -0.2754785250866821,
           -0.5073348655764673,
           -0.3920607125910414,
           -0.507906086579644,
           0.08902490888339759,
           -0.3920222557046658,
           -0.5161548977794922,
           0.2265487643510397,
           -0.2602478918842954,
           -0.2559160687967922
          ],
          [
           0.1665874952164275,
           -0.29003449063444836,
           0.5269924698844433,
           1.1043077206127025,
           -0.8341370412658892,
           0.3298292368925736,
           0.9070363038755089,
           1.4596176468248183,
           0.25236632436863804,
           1.040557245862433,
           0.12363214034779771,
           -0.4882930962028693,
           0.004349061878001884,
           0.2396997834069746,
           1.6780054172113714,
           0.09493455923337928,
           -0.6872504070222862,
           0.1541737487208242,
           -0.589473436252066,
           0.6982086763611912,
           0.5592260549121578,
           1.515689073016508,
           0.19499709264154305,
           -0.0378498935390403,
           -0.6241040853946856,
           0.7869441979002381,
           0.4589820477244081,
           0.29832838309508,
           0.19259137410988228,
           2.1200364840399484,
           -0.27329738558900607,
           1.577099906472149,
           1.1252850717889251,
           0.3174523891781365,
           -0.1857546276822966,
           0.23682487465619165,
           -0.6260882672313093,
           2.2724939139152007,
           0.26146508250413736,
           -0.5777932829762851,
           0.668819721953103,
           -0.6342397139088379,
           -0.5823583229065598,
           0.4066327816362184,
           0.4622348442145212,
           0.20527740397390407,
           -0.13448043271900742,
           -0.13187920337329412,
           1.0013880776986643,
           0.3090572922594171,
           1.2035752707482972,
           0.1406518892376172,
           -0.5813178370780094,
           3.4237074668378855,
           -0.17582841406209837,
           -0.2267288030188464,
           0.09773642613557362,
           3.646292117285722,
           0.5101477454833463,
           -0.6868252032601677,
           -0.19421857650354404,
           0.06920011804316102,
           -0.5678518645374554,
           0.2920300299873652,
           0.9599972758747661,
           0.8659232370468641,
           -0.29259635255405053,
           3.059097943111058,
           0.8111381340173767,
           -0.23920700245033732,
           1.74349782857517,
           1.8848304240115359,
           1.0788876986784421,
           -0.4870649383687441,
           -0.19174306480186729,
           1.6745719934664547,
           -0.614009456765689,
           -0.17564779143149784,
           -0.13307609497021292,
           0.462623176858287,
           -0.3310317972256115,
           -0.274715240012744,
           0.28701811762473733,
           -0.2209584757423504,
           -0.5063506303580013,
           2.5684295901696514,
           -0.5751178342310296,
           -0.5677670866721065,
           -0.27108723990866446,
           0.026817250933027035,
           -0.6128907593133411,
           0.7794735273845906,
           -0.6526462418838217,
           -0.23145431671755132,
           -0.7485336908330071,
           -0.24291377931566116,
           -0.4726192706423702,
           -0.2753531054771629,
           -0.5200211333558877,
           0.08043141852082666,
           -0.4480923722221762,
           -0.4641797709045539,
           0.9703142263473984,
           -0.6298283703491373,
           -0.43539822964414326,
           -0.5334304547073245,
           0.1354841634296328,
           -0.6176089758496113,
           -0.6852321799294152,
           0.8410365596564771,
           3.575734652955289,
           -0.5789768219036154,
           1.3421379398111346,
           -0.25551635087350155,
           -0.15052565459380451,
           -0.140870888170402,
           -0.44295420752572695,
           -0.5185227038077427,
           -0.2375538461967296,
           -0.7259755232239647,
           -0.2852678258547495,
           -0.6600946628364656,
           -0.628679995415431,
           2.856517157397638,
           2.7552725363285226,
           -0.44584765967546897,
           0.3440774025498876,
           1.0133824562449456,
           -0.5280700789972038,
           0.0033824405815708666,
           -0.09991529929061034,
           -0.20559200097732047,
           -0.35197613048581383,
           -0.24439649298560948,
           -0.17667591858155274,
           0.4513608714586787,
           -0.15321460752014382,
           2.9173376609480153,
           -0.21348031325739816,
           2.055883816191969,
           -0.2846145431418366,
           0.08268084790383123,
           0.049115179386817594,
           -0.26206302020136735,
           -0.1791711388361264,
           1.159107528155864,
           -0.37336809201034843,
           0.06509050985891054,
           1.5472985774589625,
           -0.39089874626326804,
           -0.3816654577989848,
           -0.5773602032916274,
           -0.21662711158385634,
           -0.23603946646708154,
           -0.10981364261098453,
           -0.34174227181296984,
           -0.37045431657273054,
           1.4860280360689864,
           -0.03295662051729316,
           -0.02375954435987298,
           0.9547171872358206,
           0.9314749840249744,
           -0.7621521774408276,
           0.1634516092828172,
           0.4676433408750837,
           -0.5060866632928621,
           -0.14211714858388372,
           -0.166244054971405,
           -0.3983783794300528,
           -0.4947613329343918,
           -0.5617765413731096,
           1.5241714662540062,
           -0.30894340079272986,
           -0.41341391702288793,
           1.7717956569662667,
           -0.1899836214836925,
           0.5849382289001038,
           -0.5243113310859937,
           3.0965975221702116,
           0.6741444889747538,
           -0.46095911354976804,
           -0.48216895610591826,
           -0.3962920567483767,
           -0.2836100950961421,
           -0.1915620773752407,
           -0.5485198180134238,
           0.13084164005087348,
           -0.7611843916530898,
           -0.028385170379542832,
           0.35732811062598174,
           -0.18404765093314804,
           2.0037631051423688,
           0.399631678274706,
           -0.1907672870764105,
           -0.4255810816426853,
           0.0532015505981646,
           1.0331593525196496,
           1.3268519086163542,
           -0.5387607393996136,
           -0.24218716569589613,
           -0.43689715080174185,
           -0.3431694990596419,
           -0.4661105464191397,
           -0.5928373933595114,
           -0.26843698717397635,
           0.47089521781901217,
           3.3566029416779566,
           -0.5582741202360413,
           -0.4325450588610025,
           -0.2439594322217642,
           -0.25001806247453673,
           -0.49914634537967456,
           -0.16934712236132757,
           -0.4851029727290069,
           1.3067437605436103,
           -0.19217039308413247,
           -0.14375711720347353,
           -0.4334342234596524,
           -0.24290807141168064,
           -0.3361282568610496,
           0.49926999533648986,
           -0.07975069653798021,
           0.057213488425677216,
           -0.4707478614716032,
           -0.6002719680534829,
           -0.28849143508844655,
           -0.3017044555811662,
           -0.38418436244593646,
           -0.23221776407385292,
           -0.2602478918842954,
           -0.2559160687967922
          ],
          [
           2.3540800441348124,
           2.420995756970624,
           0.9015859856184042,
           0.3338501656192011,
           -1.2665999477356362,
           2.02788114219824,
           0.2955756636678641,
           0.7800770484838156,
           1.9991326719758953,
           1.6961883065849634,
           1.8598813381685573,
           -0.8755759504618618,
           1.9757379447602312,
           1.1480857606890356,
           0.4171013129625685,
           0.793338501467625,
           -0.38831640677045154,
           0.636881279304806,
           -1.0338722838061454,
           1.5576512509117204,
           0.2767118211541631,
           1.700007012273406,
           1.372916003481129,
           1.827317016163313,
           -0.8032986915290083,
           -0.16629056788472962,
           1.8378512425650992,
           3.139074735165417,
           -0.3106650493355177,
           0.9358509600459755,
           -1.0084755236982021,
           2.9384702783946755,
           2.203477952832721,
           2.644560172036219,
           0.37794593674145177,
           1.1780404009713965,
           -0.756196962657806,
           0.5844616884667759,
           0.6971341352517925,
           -0.7229002666212342,
           0.028200198081970107,
           -0.7659221650580722,
           -0.0526834316459108,
           2.5282619775058572,
           -0.36463611380134636,
           2.0569686729285195,
           1.74806283997313,
           1.2603045907115995,
           2.924892932601444,
           0.7617972402460848,
           0.15735191823616812,
           -0.2606005921126214,
           -0.8135731467222036,
           1.3178340736580691,
           -0.6206607342192562,
           0.2994866711872533,
           0.012943609376788566,
           1.2422969956063217,
           1.1655287800496748,
           0.6191450047593712,
           -0.6497536288818658,
           0.4576708502351588,
           -0.8005643553450416,
           -0.05808934535328731,
           0.18604136977169128,
           0.34313584071705205,
           -0.5169467885641071,
           0.9365843879011386,
           1.954933306359854,
           -0.6233501735096981,
           2.8021314751327884,
           -0.15131039674399918,
           0.945810142210965,
           -0.5206655778318684,
           1.0851003075129884,
           3.360510900267881,
           -0.9051245680608382,
           0.25439481591410285,
           1.1215806819130858,
           -0.2919991056745304,
           0.03173451078974343,
           1.1864695739089661,
           2.439857938984049,
           0.23303831019616478,
           -0.5465236658133799,
           2.9044192387978933,
           -0.758154295710961,
           -0.5889238785265358,
           -0.1467396881260503,
           1.297402525461186,
           -0.5828921700901399,
           2.5408233202642414,
           -0.7474657318410158,
           0.482514334198181,
           -0.8052020890617665,
           -0.14169038867126624,
           -0.6271717000541008,
           0.2805853949150186,
           -0.24321329719855658,
           -0.48818978781711686,
           -0.4830296304357394,
           -0.8852292140138348,
           2.341924871089992,
           -0.6218394906380467,
           1.230506392684873,
           0.5388466194141306,
           -0.3267967440978841,
           -0.4065938199106278,
           -0.7112190231599259,
           -0.26655130060974314,
           1.2872119367290216,
           -0.5202981024005555,
           1.0678546534813764,
           -0.6199623059401917,
           -0.10393995508789632,
           -0.4077483784883776,
           -0.6562830352158447,
           1.2303449201163703,
           -0.5758295773241794,
           -0.7043140222006532,
           -0.1547831441424068,
           -0.2979105466481068,
           -0.6988481346780265,
           2.240111125583199,
           1.6454267070498079,
           -0.47834640739164097,
           0.6772981353499387,
           0.7471244499794023,
           -0.6657857145499,
           1.1985191094000036,
           -0.40452817537243624,
           1.0217159910895788,
           -0.28033138838089655,
           0.7500880025847383,
           0.019796265966531168,
           -0.11799171980616414,
           -0.6980417546391494,
           2.094866461850357,
           -0.09858650429477063,
           -0.26393462761494496,
           -0.2162333502525257,
           1.2892023427691401,
           -0.07588181157961121,
           -0.3042608115632453,
           1.712945069892175,
           1.4432223906429593,
           -0.08549388479093278,
           -0.5579235938118122,
           1.2404299603971456,
           -0.38637327988333886,
           1.300899700961723,
           -0.5690963764458025,
           0.7451924527404635,
           -0.5204661415248265,
           -0.23714858243385595,
           1.6793349066482952,
           0.0463077930291627,
           0.7607561187621112,
           -0.4054249801731254,
           -0.3146031675957833,
           2.216670566481409,
           2.2302224292032653,
           -0.9029680332571318,
           1.2825584433308734,
           1.74567807599585,
           -0.7014304659160525,
           -0.06966707205530547,
           1.7721426642963634,
           -0.6492338392741034,
           -0.5372335941535122,
           -0.6316518215494781,
           -0.5344706307664762,
           0.9263458307150254,
           -0.6578888268354579,
           0.029544760777308512,
           -0.1879908497114145,
           -0.09349525386616782,
           0.08657837655300099,
           0.4479889283102426,
           0.49435813937968454,
           -0.4449558717446858,
           -0.6369481500463493,
           -0.4650375715962254,
           0.12586265475847835,
           -0.04171630854176496,
           -0.4354754873750462,
           -0.22147081533539825,
           -0.9273209884323887,
           -0.2170984598330221,
           -0.0886565258727507,
           -0.35938888208864705,
           0.3782679956666936,
           -0.18744974680292398,
           -0.7149662258194566,
           1.2802689619561642,
           0.02038306946736438,
           -0.3098580492298723,
           1.9354026401209237,
           -0.4726083555792,
           -0.4663230670255498,
           -0.6694378721709926,
           -0.5555198281669179,
           0.7862458429476593,
           -0.4312122020213305,
           -0.32148763980661266,
           -0.6399986949587309,
           0.7383079430288803,
           -0.7768906203443653,
           -0.8090414886636805,
           -0.5040310410634912,
           -0.5815516980724672,
           -0.6371699353373258,
           -0.14685839708656573,
           -0.19820178554695086,
           1.3216835018405868,
           0.8551088923875241,
           -0.10383281406284595,
           1.1449639741640196,
           0.6474449760243554,
           -0.29912859311029166,
           0.6828223087663866,
           -0.2937021654392623,
           -0.38260806405125913,
           -0.5926973875149956,
           -0.5748983211570428,
           -0.512489219307684,
           -0.22261652388417313,
           -0.43364415945196777,
           -0.16404568440534747,
           -0.2602478918842954,
           0.6108880606194012
          ]
         ]
        }
       ],
       "layout": {
        "height": 1000,
        "template": {
         "data": {
          "bar": [
           {
            "error_x": {
             "color": "#2a3f5f"
            },
            "error_y": {
             "color": "#2a3f5f"
            },
            "marker": {
             "line": {
              "color": "#E5ECF6",
              "width": 0.5
             },
             "pattern": {
              "fillmode": "overlay",
              "size": 10,
              "solidity": 0.2
             }
            },
            "type": "bar"
           }
          ],
          "barpolar": [
           {
            "marker": {
             "line": {
              "color": "#E5ECF6",
              "width": 0.5
             },
             "pattern": {
              "fillmode": "overlay",
              "size": 10,
              "solidity": 0.2
             }
            },
            "type": "barpolar"
           }
          ],
          "carpet": [
           {
            "aaxis": {
             "endlinecolor": "#2a3f5f",
             "gridcolor": "white",
             "linecolor": "white",
             "minorgridcolor": "white",
             "startlinecolor": "#2a3f5f"
            },
            "baxis": {
             "endlinecolor": "#2a3f5f",
             "gridcolor": "white",
             "linecolor": "white",
             "minorgridcolor": "white",
             "startlinecolor": "#2a3f5f"
            },
            "type": "carpet"
           }
          ],
          "choropleth": [
           {
            "colorbar": {
             "outlinewidth": 0,
             "ticks": ""
            },
            "type": "choropleth"
           }
          ],
          "contour": [
           {
            "colorbar": {
             "outlinewidth": 0,
             "ticks": ""
            },
            "colorscale": [
             [
              0,
              "#0d0887"
             ],
             [
              0.1111111111111111,
              "#46039f"
             ],
             [
              0.2222222222222222,
              "#7201a8"
             ],
             [
              0.3333333333333333,
              "#9c179e"
             ],
             [
              0.4444444444444444,
              "#bd3786"
             ],
             [
              0.5555555555555556,
              "#d8576b"
             ],
             [
              0.6666666666666666,
              "#ed7953"
             ],
             [
              0.7777777777777778,
              "#fb9f3a"
             ],
             [
              0.8888888888888888,
              "#fdca26"
             ],
             [
              1,
              "#f0f921"
             ]
            ],
            "type": "contour"
           }
          ],
          "contourcarpet": [
           {
            "colorbar": {
             "outlinewidth": 0,
             "ticks": ""
            },
            "type": "contourcarpet"
           }
          ],
          "heatmap": [
           {
            "colorbar": {
             "outlinewidth": 0,
             "ticks": ""
            },
            "colorscale": [
             [
              0,
              "#0d0887"
             ],
             [
              0.1111111111111111,
              "#46039f"
             ],
             [
              0.2222222222222222,
              "#7201a8"
             ],
             [
              0.3333333333333333,
              "#9c179e"
             ],
             [
              0.4444444444444444,
              "#bd3786"
             ],
             [
              0.5555555555555556,
              "#d8576b"
             ],
             [
              0.6666666666666666,
              "#ed7953"
             ],
             [
              0.7777777777777778,
              "#fb9f3a"
             ],
             [
              0.8888888888888888,
              "#fdca26"
             ],
             [
              1,
              "#f0f921"
             ]
            ],
            "type": "heatmap"
           }
          ],
          "heatmapgl": [
           {
            "colorbar": {
             "outlinewidth": 0,
             "ticks": ""
            },
            "colorscale": [
             [
              0,
              "#0d0887"
             ],
             [
              0.1111111111111111,
              "#46039f"
             ],
             [
              0.2222222222222222,
              "#7201a8"
             ],
             [
              0.3333333333333333,
              "#9c179e"
             ],
             [
              0.4444444444444444,
              "#bd3786"
             ],
             [
              0.5555555555555556,
              "#d8576b"
             ],
             [
              0.6666666666666666,
              "#ed7953"
             ],
             [
              0.7777777777777778,
              "#fb9f3a"
             ],
             [
              0.8888888888888888,
              "#fdca26"
             ],
             [
              1,
              "#f0f921"
             ]
            ],
            "type": "heatmapgl"
           }
          ],
          "histogram": [
           {
            "marker": {
             "pattern": {
              "fillmode": "overlay",
              "size": 10,
              "solidity": 0.2
             }
            },
            "type": "histogram"
           }
          ],
          "histogram2d": [
           {
            "colorbar": {
             "outlinewidth": 0,
             "ticks": ""
            },
            "colorscale": [
             [
              0,
              "#0d0887"
             ],
             [
              0.1111111111111111,
              "#46039f"
             ],
             [
              0.2222222222222222,
              "#7201a8"
             ],
             [
              0.3333333333333333,
              "#9c179e"
             ],
             [
              0.4444444444444444,
              "#bd3786"
             ],
             [
              0.5555555555555556,
              "#d8576b"
             ],
             [
              0.6666666666666666,
              "#ed7953"
             ],
             [
              0.7777777777777778,
              "#fb9f3a"
             ],
             [
              0.8888888888888888,
              "#fdca26"
             ],
             [
              1,
              "#f0f921"
             ]
            ],
            "type": "histogram2d"
           }
          ],
          "histogram2dcontour": [
           {
            "colorbar": {
             "outlinewidth": 0,
             "ticks": ""
            },
            "colorscale": [
             [
              0,
              "#0d0887"
             ],
             [
              0.1111111111111111,
              "#46039f"
             ],
             [
              0.2222222222222222,
              "#7201a8"
             ],
             [
              0.3333333333333333,
              "#9c179e"
             ],
             [
              0.4444444444444444,
              "#bd3786"
             ],
             [
              0.5555555555555556,
              "#d8576b"
             ],
             [
              0.6666666666666666,
              "#ed7953"
             ],
             [
              0.7777777777777778,
              "#fb9f3a"
             ],
             [
              0.8888888888888888,
              "#fdca26"
             ],
             [
              1,
              "#f0f921"
             ]
            ],
            "type": "histogram2dcontour"
           }
          ],
          "mesh3d": [
           {
            "colorbar": {
             "outlinewidth": 0,
             "ticks": ""
            },
            "type": "mesh3d"
           }
          ],
          "parcoords": [
           {
            "line": {
             "colorbar": {
              "outlinewidth": 0,
              "ticks": ""
             }
            },
            "type": "parcoords"
           }
          ],
          "pie": [
           {
            "automargin": true,
            "type": "pie"
           }
          ],
          "scatter": [
           {
            "fillpattern": {
             "fillmode": "overlay",
             "size": 10,
             "solidity": 0.2
            },
            "type": "scatter"
           }
          ],
          "scatter3d": [
           {
            "line": {
             "colorbar": {
              "outlinewidth": 0,
              "ticks": ""
             }
            },
            "marker": {
             "colorbar": {
              "outlinewidth": 0,
              "ticks": ""
             }
            },
            "type": "scatter3d"
           }
          ],
          "scattercarpet": [
           {
            "marker": {
             "colorbar": {
              "outlinewidth": 0,
              "ticks": ""
             }
            },
            "type": "scattercarpet"
           }
          ],
          "scattergeo": [
           {
            "marker": {
             "colorbar": {
              "outlinewidth": 0,
              "ticks": ""
             }
            },
            "type": "scattergeo"
           }
          ],
          "scattergl": [
           {
            "marker": {
             "colorbar": {
              "outlinewidth": 0,
              "ticks": ""
             }
            },
            "type": "scattergl"
           }
          ],
          "scattermapbox": [
           {
            "marker": {
             "colorbar": {
              "outlinewidth": 0,
              "ticks": ""
             }
            },
            "type": "scattermapbox"
           }
          ],
          "scatterpolar": [
           {
            "marker": {
             "colorbar": {
              "outlinewidth": 0,
              "ticks": ""
             }
            },
            "type": "scatterpolar"
           }
          ],
          "scatterpolargl": [
           {
            "marker": {
             "colorbar": {
              "outlinewidth": 0,
              "ticks": ""
             }
            },
            "type": "scatterpolargl"
           }
          ],
          "scatterternary": [
           {
            "marker": {
             "colorbar": {
              "outlinewidth": 0,
              "ticks": ""
             }
            },
            "type": "scatterternary"
           }
          ],
          "surface": [
           {
            "colorbar": {
             "outlinewidth": 0,
             "ticks": ""
            },
            "colorscale": [
             [
              0,
              "#0d0887"
             ],
             [
              0.1111111111111111,
              "#46039f"
             ],
             [
              0.2222222222222222,
              "#7201a8"
             ],
             [
              0.3333333333333333,
              "#9c179e"
             ],
             [
              0.4444444444444444,
              "#bd3786"
             ],
             [
              0.5555555555555556,
              "#d8576b"
             ],
             [
              0.6666666666666666,
              "#ed7953"
             ],
             [
              0.7777777777777778,
              "#fb9f3a"
             ],
             [
              0.8888888888888888,
              "#fdca26"
             ],
             [
              1,
              "#f0f921"
             ]
            ],
            "type": "surface"
           }
          ],
          "table": [
           {
            "cells": {
             "fill": {
              "color": "#EBF0F8"
             },
             "line": {
              "color": "white"
             }
            },
            "header": {
             "fill": {
              "color": "#C8D4E3"
             },
             "line": {
              "color": "white"
             }
            },
            "type": "table"
           }
          ]
         },
         "layout": {
          "annotationdefaults": {
           "arrowcolor": "#2a3f5f",
           "arrowhead": 0,
           "arrowwidth": 1
          },
          "autotypenumbers": "strict",
          "coloraxis": {
           "colorbar": {
            "outlinewidth": 0,
            "ticks": ""
           }
          },
          "colorscale": {
           "diverging": [
            [
             0,
             "#8e0152"
            ],
            [
             0.1,
             "#c51b7d"
            ],
            [
             0.2,
             "#de77ae"
            ],
            [
             0.3,
             "#f1b6da"
            ],
            [
             0.4,
             "#fde0ef"
            ],
            [
             0.5,
             "#f7f7f7"
            ],
            [
             0.6,
             "#e6f5d0"
            ],
            [
             0.7,
             "#b8e186"
            ],
            [
             0.8,
             "#7fbc41"
            ],
            [
             0.9,
             "#4d9221"
            ],
            [
             1,
             "#276419"
            ]
           ],
           "sequential": [
            [
             0,
             "#0d0887"
            ],
            [
             0.1111111111111111,
             "#46039f"
            ],
            [
             0.2222222222222222,
             "#7201a8"
            ],
            [
             0.3333333333333333,
             "#9c179e"
            ],
            [
             0.4444444444444444,
             "#bd3786"
            ],
            [
             0.5555555555555556,
             "#d8576b"
            ],
            [
             0.6666666666666666,
             "#ed7953"
            ],
            [
             0.7777777777777778,
             "#fb9f3a"
            ],
            [
             0.8888888888888888,
             "#fdca26"
            ],
            [
             1,
             "#f0f921"
            ]
           ],
           "sequentialminus": [
            [
             0,
             "#0d0887"
            ],
            [
             0.1111111111111111,
             "#46039f"
            ],
            [
             0.2222222222222222,
             "#7201a8"
            ],
            [
             0.3333333333333333,
             "#9c179e"
            ],
            [
             0.4444444444444444,
             "#bd3786"
            ],
            [
             0.5555555555555556,
             "#d8576b"
            ],
            [
             0.6666666666666666,
             "#ed7953"
            ],
            [
             0.7777777777777778,
             "#fb9f3a"
            ],
            [
             0.8888888888888888,
             "#fdca26"
            ],
            [
             1,
             "#f0f921"
            ]
           ]
          },
          "colorway": [
           "#636efa",
           "#EF553B",
           "#00cc96",
           "#ab63fa",
           "#FFA15A",
           "#19d3f3",
           "#FF6692",
           "#B6E880",
           "#FF97FF",
           "#FECB52"
          ],
          "font": {
           "color": "#2a3f5f"
          },
          "geo": {
           "bgcolor": "white",
           "lakecolor": "white",
           "landcolor": "#E5ECF6",
           "showlakes": true,
           "showland": true,
           "subunitcolor": "white"
          },
          "hoverlabel": {
           "align": "left"
          },
          "hovermode": "closest",
          "mapbox": {
           "style": "light"
          },
          "paper_bgcolor": "white",
          "plot_bgcolor": "#E5ECF6",
          "polar": {
           "angularaxis": {
            "gridcolor": "white",
            "linecolor": "white",
            "ticks": ""
           },
           "bgcolor": "#E5ECF6",
           "radialaxis": {
            "gridcolor": "white",
            "linecolor": "white",
            "ticks": ""
           }
          },
          "scene": {
           "xaxis": {
            "backgroundcolor": "#E5ECF6",
            "gridcolor": "white",
            "gridwidth": 2,
            "linecolor": "white",
            "showbackground": true,
            "ticks": "",
            "zerolinecolor": "white"
           },
           "yaxis": {
            "backgroundcolor": "#E5ECF6",
            "gridcolor": "white",
            "gridwidth": 2,
            "linecolor": "white",
            "showbackground": true,
            "ticks": "",
            "zerolinecolor": "white"
           },
           "zaxis": {
            "backgroundcolor": "#E5ECF6",
            "gridcolor": "white",
            "gridwidth": 2,
            "linecolor": "white",
            "showbackground": true,
            "ticks": "",
            "zerolinecolor": "white"
           }
          },
          "shapedefaults": {
           "line": {
            "color": "#2a3f5f"
           }
          },
          "ternary": {
           "aaxis": {
            "gridcolor": "white",
            "linecolor": "white",
            "ticks": ""
           },
           "baxis": {
            "gridcolor": "white",
            "linecolor": "white",
            "ticks": ""
           },
           "bgcolor": "#E5ECF6",
           "caxis": {
            "gridcolor": "white",
            "linecolor": "white",
            "ticks": ""
           }
          },
          "title": {
           "x": 0.05
          },
          "xaxis": {
           "automargin": true,
           "gridcolor": "white",
           "linecolor": "white",
           "ticks": "",
           "title": {
            "standoff": 15
           },
           "zerolinecolor": "white",
           "zerolinewidth": 2
          },
          "yaxis": {
           "automargin": true,
           "gridcolor": "white",
           "linecolor": "white",
           "ticks": "",
           "title": {
            "standoff": 15
           },
           "zerolinecolor": "white",
           "zerolinewidth": 2
          }
         }
        },
        "width": 2500
       }
      }
     },
     "metadata": {},
     "output_type": "display_data"
    }
   ],
   "source": [
    "fig = go.Figure(data=go.Heatmap(z=std_skills, x=std_skills.columns,y=std_skills.index, colorscale='magma', ygap=1))\n",
    "fig.update_layout(width=2500, height=1000)\n",
    "fig.show()\n",
    "fig.write_html(\"heatmap.html\")\n",
    "pio.write_image(fig, REPORT_PATH+'heatmap.png', width=2500, height=1000)"
   ]
  },
  {
   "cell_type": "code",
   "execution_count": 28,
   "metadata": {},
   "outputs": [
    {
     "data": {
      "application/vnd.plotly.v1+json": {
       "config": {
        "plotlyServerURL": "https://plot.ly"
       },
       "data": [
        {
         "hoverinfo": "text",
         "marker": {
          "color": "rgb(0,116,217)"
         },
         "mode": "lines",
         "type": "scatter",
         "x": [
          0,
          93.75247613732127,
          93.75247613732127,
          0
         ],
         "xaxis": "x",
         "y": [
          -25,
          -25,
          -35,
          -35
         ],
         "yaxis": "y"
        },
        {
         "hoverinfo": "text",
         "marker": {
          "color": "rgb(0,116,217)"
         },
         "mode": "lines",
         "type": "scatter",
         "x": [
          0,
          129.18206242185647,
          129.18206242185647,
          93.75247613732127
         ],
         "xaxis": "x",
         "y": [
          -15,
          -15,
          -30,
          -30
         ],
         "yaxis": "y"
        },
        {
         "hoverinfo": "text",
         "marker": {
          "color": "rgb(0,116,217)"
         },
         "mode": "lines",
         "type": "scatter",
         "x": [
          0,
          181.827997808002,
          181.827997808002,
          129.18206242185647
         ],
         "xaxis": "x",
         "y": [
          -5,
          -5,
          -22.5,
          -22.5
         ],
         "yaxis": "y"
        },
        {
         "hoverinfo": "text",
         "marker": {
          "color": "rgb(0,116,217)"
         },
         "mode": "lines",
         "type": "scatter",
         "x": [
          0,
          97.33944542399553,
          97.33944542399553,
          0
         ],
         "xaxis": "x",
         "y": [
          -45,
          -45,
          -55,
          -55
         ],
         "yaxis": "y"
        },
        {
         "hoverinfo": "text",
         "marker": {
          "color": "rgb(0,116,217)"
         },
         "mode": "lines",
         "type": "scatter",
         "x": [
          0,
          56.79959094506792,
          56.79959094506792,
          0
         ],
         "xaxis": "x",
         "y": [
          -65,
          -65,
          -75,
          -75
         ],
         "yaxis": "y"
        },
        {
         "hoverinfo": "text",
         "marker": {
          "color": "rgb(0,116,217)"
         },
         "mode": "lines",
         "type": "scatter",
         "x": [
          0,
          32.95791458570927,
          32.95791458570927,
          0
         ],
         "xaxis": "x",
         "y": [
          -95,
          -95,
          -105,
          -105
         ],
         "yaxis": "y"
        },
        {
         "hoverinfo": "text",
         "marker": {
          "color": "rgb(0,116,217)"
         },
         "mode": "lines",
         "type": "scatter",
         "x": [
          0,
          65.02719661202003,
          65.02719661202003,
          32.95791458570927
         ],
         "xaxis": "x",
         "y": [
          -85,
          -85,
          -100,
          -100
         ],
         "yaxis": "y"
        },
        {
         "hoverinfo": "text",
         "marker": {
          "color": "rgb(0,116,217)"
         },
         "mode": "lines",
         "type": "scatter",
         "x": [
          56.79959094506792,
          115.68023225386457,
          115.68023225386457,
          65.02719661202003
         ],
         "xaxis": "x",
         "y": [
          -70,
          -70,
          -92.5,
          -92.5
         ],
         "yaxis": "y"
        },
        {
         "hoverinfo": "text",
         "marker": {
          "color": "rgb(0,116,217)"
         },
         "mode": "lines",
         "type": "scatter",
         "x": [
          97.33944542399553,
          145.88834202814596,
          145.88834202814596,
          115.68023225386457
         ],
         "xaxis": "x",
         "y": [
          -50,
          -50,
          -81.25,
          -81.25
         ],
         "yaxis": "y"
        },
        {
         "hoverinfo": "text",
         "marker": {
          "color": "rgb(0,116,217)"
         },
         "mode": "lines",
         "type": "scatter",
         "x": [
          0,
          109.41440063696625,
          109.41440063696625,
          0
         ],
         "xaxis": "x",
         "y": [
          -115,
          -115,
          -125,
          -125
         ],
         "yaxis": "y"
        },
        {
         "hoverinfo": "text",
         "marker": {
          "color": "rgb(0,116,217)"
         },
         "mode": "lines",
         "type": "scatter",
         "x": [
          0,
          90.08646350408696,
          90.08646350408696,
          0
         ],
         "xaxis": "x",
         "y": [
          -135,
          -135,
          -145,
          -145
         ],
         "yaxis": "y"
        },
        {
         "hoverinfo": "text",
         "marker": {
          "color": "rgb(0,116,217)"
         },
         "mode": "lines",
         "type": "scatter",
         "x": [
          0,
          32.48340938045544,
          32.48340938045544,
          0
         ],
         "xaxis": "x",
         "y": [
          -165,
          -165,
          -175,
          -175
         ],
         "yaxis": "y"
        },
        {
         "hoverinfo": "text",
         "marker": {
          "color": "rgb(0,116,217)"
         },
         "mode": "lines",
         "type": "scatter",
         "x": [
          0,
          46.062299455436346,
          46.062299455436346,
          32.48340938045544
         ],
         "xaxis": "x",
         "y": [
          -155,
          -155,
          -170,
          -170
         ],
         "yaxis": "y"
        },
        {
         "hoverinfo": "text",
         "marker": {
          "color": "rgb(0,116,217)"
         },
         "mode": "lines",
         "type": "scatter",
         "x": [
          0,
          61.64589168168784,
          61.64589168168784,
          0
         ],
         "xaxis": "x",
         "y": [
          -185,
          -185,
          -195,
          -195
         ],
         "yaxis": "y"
        },
        {
         "hoverinfo": "text",
         "marker": {
          "color": "rgb(0,116,217)"
         },
         "mode": "lines",
         "type": "scatter",
         "x": [
          0,
          74.74312077920665,
          74.74312077920665,
          0
         ],
         "xaxis": "x",
         "y": [
          -205,
          -205,
          -215,
          -215
         ],
         "yaxis": "y"
        },
        {
         "hoverinfo": "text",
         "marker": {
          "color": "rgb(0,116,217)"
         },
         "mode": "lines",
         "type": "scatter",
         "x": [
          61.64589168168784,
          95.49638007539423,
          95.49638007539423,
          74.74312077920665
         ],
         "xaxis": "x",
         "y": [
          -190,
          -190,
          -210,
          -210
         ],
         "yaxis": "y"
        },
        {
         "hoverinfo": "text",
         "marker": {
          "color": "rgb(0,116,217)"
         },
         "mode": "lines",
         "type": "scatter",
         "x": [
          46.062299455436346,
          120.73253374359798,
          120.73253374359798,
          95.49638007539423
         ],
         "xaxis": "x",
         "y": [
          -162.5,
          -162.5,
          -200,
          -200
         ],
         "yaxis": "y"
        },
        {
         "hoverinfo": "text",
         "marker": {
          "color": "rgb(0,116,217)"
         },
         "mode": "lines",
         "type": "scatter",
         "x": [
          90.08646350408696,
          159.62831071135412,
          159.62831071135412,
          120.73253374359798
         ],
         "xaxis": "x",
         "y": [
          -140,
          -140,
          -181.25,
          -181.25
         ],
         "yaxis": "y"
        },
        {
         "hoverinfo": "text",
         "marker": {
          "color": "rgb(0,116,217)"
         },
         "mode": "lines",
         "type": "scatter",
         "x": [
          109.41440063696625,
          178.435993430615,
          178.435993430615,
          159.62831071135412
         ],
         "xaxis": "x",
         "y": [
          -120,
          -120,
          -160.625,
          -160.625
         ],
         "yaxis": "y"
        },
        {
         "hoverinfo": "text",
         "marker": {
          "color": "rgb(0,116,217)"
         },
         "mode": "lines",
         "type": "scatter",
         "x": [
          145.88834202814596,
          209.635885960309,
          209.635885960309,
          178.435993430615
         ],
         "xaxis": "x",
         "y": [
          -65.625,
          -65.625,
          -140.3125,
          -140.3125
         ],
         "yaxis": "y"
        },
        {
         "hoverinfo": "text",
         "marker": {
          "color": "rgb(0,116,217)"
         },
         "mode": "lines",
         "type": "scatter",
         "x": [
          181.827997808002,
          248.6118506186567,
          248.6118506186567,
          209.635885960309
         ],
         "xaxis": "x",
         "y": [
          -13.75,
          -13.75,
          -102.96875,
          -102.96875
         ],
         "yaxis": "y"
        }
       ],
       "layout": {
        "autosize": false,
        "height": 700,
        "hovermode": "closest",
        "showlegend": false,
        "template": {
         "data": {
          "bar": [
           {
            "error_x": {
             "color": "#2a3f5f"
            },
            "error_y": {
             "color": "#2a3f5f"
            },
            "marker": {
             "line": {
              "color": "#E5ECF6",
              "width": 0.5
             },
             "pattern": {
              "fillmode": "overlay",
              "size": 10,
              "solidity": 0.2
             }
            },
            "type": "bar"
           }
          ],
          "barpolar": [
           {
            "marker": {
             "line": {
              "color": "#E5ECF6",
              "width": 0.5
             },
             "pattern": {
              "fillmode": "overlay",
              "size": 10,
              "solidity": 0.2
             }
            },
            "type": "barpolar"
           }
          ],
          "carpet": [
           {
            "aaxis": {
             "endlinecolor": "#2a3f5f",
             "gridcolor": "white",
             "linecolor": "white",
             "minorgridcolor": "white",
             "startlinecolor": "#2a3f5f"
            },
            "baxis": {
             "endlinecolor": "#2a3f5f",
             "gridcolor": "white",
             "linecolor": "white",
             "minorgridcolor": "white",
             "startlinecolor": "#2a3f5f"
            },
            "type": "carpet"
           }
          ],
          "choropleth": [
           {
            "colorbar": {
             "outlinewidth": 0,
             "ticks": ""
            },
            "type": "choropleth"
           }
          ],
          "contour": [
           {
            "colorbar": {
             "outlinewidth": 0,
             "ticks": ""
            },
            "colorscale": [
             [
              0,
              "#0d0887"
             ],
             [
              0.1111111111111111,
              "#46039f"
             ],
             [
              0.2222222222222222,
              "#7201a8"
             ],
             [
              0.3333333333333333,
              "#9c179e"
             ],
             [
              0.4444444444444444,
              "#bd3786"
             ],
             [
              0.5555555555555556,
              "#d8576b"
             ],
             [
              0.6666666666666666,
              "#ed7953"
             ],
             [
              0.7777777777777778,
              "#fb9f3a"
             ],
             [
              0.8888888888888888,
              "#fdca26"
             ],
             [
              1,
              "#f0f921"
             ]
            ],
            "type": "contour"
           }
          ],
          "contourcarpet": [
           {
            "colorbar": {
             "outlinewidth": 0,
             "ticks": ""
            },
            "type": "contourcarpet"
           }
          ],
          "heatmap": [
           {
            "colorbar": {
             "outlinewidth": 0,
             "ticks": ""
            },
            "colorscale": [
             [
              0,
              "#0d0887"
             ],
             [
              0.1111111111111111,
              "#46039f"
             ],
             [
              0.2222222222222222,
              "#7201a8"
             ],
             [
              0.3333333333333333,
              "#9c179e"
             ],
             [
              0.4444444444444444,
              "#bd3786"
             ],
             [
              0.5555555555555556,
              "#d8576b"
             ],
             [
              0.6666666666666666,
              "#ed7953"
             ],
             [
              0.7777777777777778,
              "#fb9f3a"
             ],
             [
              0.8888888888888888,
              "#fdca26"
             ],
             [
              1,
              "#f0f921"
             ]
            ],
            "type": "heatmap"
           }
          ],
          "heatmapgl": [
           {
            "colorbar": {
             "outlinewidth": 0,
             "ticks": ""
            },
            "colorscale": [
             [
              0,
              "#0d0887"
             ],
             [
              0.1111111111111111,
              "#46039f"
             ],
             [
              0.2222222222222222,
              "#7201a8"
             ],
             [
              0.3333333333333333,
              "#9c179e"
             ],
             [
              0.4444444444444444,
              "#bd3786"
             ],
             [
              0.5555555555555556,
              "#d8576b"
             ],
             [
              0.6666666666666666,
              "#ed7953"
             ],
             [
              0.7777777777777778,
              "#fb9f3a"
             ],
             [
              0.8888888888888888,
              "#fdca26"
             ],
             [
              1,
              "#f0f921"
             ]
            ],
            "type": "heatmapgl"
           }
          ],
          "histogram": [
           {
            "marker": {
             "pattern": {
              "fillmode": "overlay",
              "size": 10,
              "solidity": 0.2
             }
            },
            "type": "histogram"
           }
          ],
          "histogram2d": [
           {
            "colorbar": {
             "outlinewidth": 0,
             "ticks": ""
            },
            "colorscale": [
             [
              0,
              "#0d0887"
             ],
             [
              0.1111111111111111,
              "#46039f"
             ],
             [
              0.2222222222222222,
              "#7201a8"
             ],
             [
              0.3333333333333333,
              "#9c179e"
             ],
             [
              0.4444444444444444,
              "#bd3786"
             ],
             [
              0.5555555555555556,
              "#d8576b"
             ],
             [
              0.6666666666666666,
              "#ed7953"
             ],
             [
              0.7777777777777778,
              "#fb9f3a"
             ],
             [
              0.8888888888888888,
              "#fdca26"
             ],
             [
              1,
              "#f0f921"
             ]
            ],
            "type": "histogram2d"
           }
          ],
          "histogram2dcontour": [
           {
            "colorbar": {
             "outlinewidth": 0,
             "ticks": ""
            },
            "colorscale": [
             [
              0,
              "#0d0887"
             ],
             [
              0.1111111111111111,
              "#46039f"
             ],
             [
              0.2222222222222222,
              "#7201a8"
             ],
             [
              0.3333333333333333,
              "#9c179e"
             ],
             [
              0.4444444444444444,
              "#bd3786"
             ],
             [
              0.5555555555555556,
              "#d8576b"
             ],
             [
              0.6666666666666666,
              "#ed7953"
             ],
             [
              0.7777777777777778,
              "#fb9f3a"
             ],
             [
              0.8888888888888888,
              "#fdca26"
             ],
             [
              1,
              "#f0f921"
             ]
            ],
            "type": "histogram2dcontour"
           }
          ],
          "mesh3d": [
           {
            "colorbar": {
             "outlinewidth": 0,
             "ticks": ""
            },
            "type": "mesh3d"
           }
          ],
          "parcoords": [
           {
            "line": {
             "colorbar": {
              "outlinewidth": 0,
              "ticks": ""
             }
            },
            "type": "parcoords"
           }
          ],
          "pie": [
           {
            "automargin": true,
            "type": "pie"
           }
          ],
          "scatter": [
           {
            "fillpattern": {
             "fillmode": "overlay",
             "size": 10,
             "solidity": 0.2
            },
            "type": "scatter"
           }
          ],
          "scatter3d": [
           {
            "line": {
             "colorbar": {
              "outlinewidth": 0,
              "ticks": ""
             }
            },
            "marker": {
             "colorbar": {
              "outlinewidth": 0,
              "ticks": ""
             }
            },
            "type": "scatter3d"
           }
          ],
          "scattercarpet": [
           {
            "marker": {
             "colorbar": {
              "outlinewidth": 0,
              "ticks": ""
             }
            },
            "type": "scattercarpet"
           }
          ],
          "scattergeo": [
           {
            "marker": {
             "colorbar": {
              "outlinewidth": 0,
              "ticks": ""
             }
            },
            "type": "scattergeo"
           }
          ],
          "scattergl": [
           {
            "marker": {
             "colorbar": {
              "outlinewidth": 0,
              "ticks": ""
             }
            },
            "type": "scattergl"
           }
          ],
          "scattermapbox": [
           {
            "marker": {
             "colorbar": {
              "outlinewidth": 0,
              "ticks": ""
             }
            },
            "type": "scattermapbox"
           }
          ],
          "scatterpolar": [
           {
            "marker": {
             "colorbar": {
              "outlinewidth": 0,
              "ticks": ""
             }
            },
            "type": "scatterpolar"
           }
          ],
          "scatterpolargl": [
           {
            "marker": {
             "colorbar": {
              "outlinewidth": 0,
              "ticks": ""
             }
            },
            "type": "scatterpolargl"
           }
          ],
          "scatterternary": [
           {
            "marker": {
             "colorbar": {
              "outlinewidth": 0,
              "ticks": ""
             }
            },
            "type": "scatterternary"
           }
          ],
          "surface": [
           {
            "colorbar": {
             "outlinewidth": 0,
             "ticks": ""
            },
            "colorscale": [
             [
              0,
              "#0d0887"
             ],
             [
              0.1111111111111111,
              "#46039f"
             ],
             [
              0.2222222222222222,
              "#7201a8"
             ],
             [
              0.3333333333333333,
              "#9c179e"
             ],
             [
              0.4444444444444444,
              "#bd3786"
             ],
             [
              0.5555555555555556,
              "#d8576b"
             ],
             [
              0.6666666666666666,
              "#ed7953"
             ],
             [
              0.7777777777777778,
              "#fb9f3a"
             ],
             [
              0.8888888888888888,
              "#fdca26"
             ],
             [
              1,
              "#f0f921"
             ]
            ],
            "type": "surface"
           }
          ],
          "table": [
           {
            "cells": {
             "fill": {
              "color": "#EBF0F8"
             },
             "line": {
              "color": "white"
             }
            },
            "header": {
             "fill": {
              "color": "#C8D4E3"
             },
             "line": {
              "color": "white"
             }
            },
            "type": "table"
           }
          ]
         },
         "layout": {
          "annotationdefaults": {
           "arrowcolor": "#2a3f5f",
           "arrowhead": 0,
           "arrowwidth": 1
          },
          "autotypenumbers": "strict",
          "coloraxis": {
           "colorbar": {
            "outlinewidth": 0,
            "ticks": ""
           }
          },
          "colorscale": {
           "diverging": [
            [
             0,
             "#8e0152"
            ],
            [
             0.1,
             "#c51b7d"
            ],
            [
             0.2,
             "#de77ae"
            ],
            [
             0.3,
             "#f1b6da"
            ],
            [
             0.4,
             "#fde0ef"
            ],
            [
             0.5,
             "#f7f7f7"
            ],
            [
             0.6,
             "#e6f5d0"
            ],
            [
             0.7,
             "#b8e186"
            ],
            [
             0.8,
             "#7fbc41"
            ],
            [
             0.9,
             "#4d9221"
            ],
            [
             1,
             "#276419"
            ]
           ],
           "sequential": [
            [
             0,
             "#0d0887"
            ],
            [
             0.1111111111111111,
             "#46039f"
            ],
            [
             0.2222222222222222,
             "#7201a8"
            ],
            [
             0.3333333333333333,
             "#9c179e"
            ],
            [
             0.4444444444444444,
             "#bd3786"
            ],
            [
             0.5555555555555556,
             "#d8576b"
            ],
            [
             0.6666666666666666,
             "#ed7953"
            ],
            [
             0.7777777777777778,
             "#fb9f3a"
            ],
            [
             0.8888888888888888,
             "#fdca26"
            ],
            [
             1,
             "#f0f921"
            ]
           ],
           "sequentialminus": [
            [
             0,
             "#0d0887"
            ],
            [
             0.1111111111111111,
             "#46039f"
            ],
            [
             0.2222222222222222,
             "#7201a8"
            ],
            [
             0.3333333333333333,
             "#9c179e"
            ],
            [
             0.4444444444444444,
             "#bd3786"
            ],
            [
             0.5555555555555556,
             "#d8576b"
            ],
            [
             0.6666666666666666,
             "#ed7953"
            ],
            [
             0.7777777777777778,
             "#fb9f3a"
            ],
            [
             0.8888888888888888,
             "#fdca26"
            ],
            [
             1,
             "#f0f921"
            ]
           ]
          },
          "colorway": [
           "#636efa",
           "#EF553B",
           "#00cc96",
           "#ab63fa",
           "#FFA15A",
           "#19d3f3",
           "#FF6692",
           "#B6E880",
           "#FF97FF",
           "#FECB52"
          ],
          "font": {
           "color": "#2a3f5f"
          },
          "geo": {
           "bgcolor": "white",
           "lakecolor": "white",
           "landcolor": "#E5ECF6",
           "showlakes": true,
           "showland": true,
           "subunitcolor": "white"
          },
          "hoverlabel": {
           "align": "left"
          },
          "hovermode": "closest",
          "mapbox": {
           "style": "light"
          },
          "paper_bgcolor": "white",
          "plot_bgcolor": "#E5ECF6",
          "polar": {
           "angularaxis": {
            "gridcolor": "white",
            "linecolor": "white",
            "ticks": ""
           },
           "bgcolor": "#E5ECF6",
           "radialaxis": {
            "gridcolor": "white",
            "linecolor": "white",
            "ticks": ""
           }
          },
          "scene": {
           "xaxis": {
            "backgroundcolor": "#E5ECF6",
            "gridcolor": "white",
            "gridwidth": 2,
            "linecolor": "white",
            "showbackground": true,
            "ticks": "",
            "zerolinecolor": "white"
           },
           "yaxis": {
            "backgroundcolor": "#E5ECF6",
            "gridcolor": "white",
            "gridwidth": 2,
            "linecolor": "white",
            "showbackground": true,
            "ticks": "",
            "zerolinecolor": "white"
           },
           "zaxis": {
            "backgroundcolor": "#E5ECF6",
            "gridcolor": "white",
            "gridwidth": 2,
            "linecolor": "white",
            "showbackground": true,
            "ticks": "",
            "zerolinecolor": "white"
           }
          },
          "shapedefaults": {
           "line": {
            "color": "#2a3f5f"
           }
          },
          "ternary": {
           "aaxis": {
            "gridcolor": "white",
            "linecolor": "white",
            "ticks": ""
           },
           "baxis": {
            "gridcolor": "white",
            "linecolor": "white",
            "ticks": ""
           },
           "bgcolor": "#E5ECF6",
           "caxis": {
            "gridcolor": "white",
            "linecolor": "white",
            "ticks": ""
           }
          },
          "title": {
           "x": 0.05
          },
          "xaxis": {
           "automargin": true,
           "gridcolor": "white",
           "linecolor": "white",
           "ticks": "",
           "title": {
            "standoff": 15
           },
           "zerolinecolor": "white",
           "zerolinewidth": 2
          },
          "yaxis": {
           "automargin": true,
           "gridcolor": "white",
           "linecolor": "white",
           "ticks": "",
           "title": {
            "standoff": 15
           },
           "zerolinecolor": "white",
           "zerolinewidth": 2
          }
         }
        },
        "width": 1000,
        "xaxis": {
         "mirror": "allticks",
         "rangemode": "tozero",
         "showgrid": false,
         "showline": true,
         "showticklabels": true,
         "ticks": "outside",
         "type": "linear",
         "zeroline": false
        },
        "yaxis": {
         "mirror": "allticks",
         "rangemode": "tozero",
         "showgrid": false,
         "showline": true,
         "showticklabels": true,
         "tickmode": "array",
         "ticks": "outside",
         "ticktext": [
          "Developer, mobile",
          "Blockchain",
          "Developer, front-end",
          "Developer, full-stack",
          "Developer, game or graphics",
          "Developer, desktop or enterprise applications",
          "Hardware Engineer",
          "Developer, embedded applications or devices",
          "Research & Development role",
          "Scientist",
          "Academic researcher",
          "Engineer, data",
          "Data scientist or machine learning specialist",
          "Database administrator",
          "Data or business analyst",
          "DevOps specialist",
          "Engineer, site reliability",
          "Cloud infrastructure engineer",
          "Developer, QA or test",
          "Developer, back-end",
          "Security professional",
          "System administrator"
         ],
         "tickvals": [
          -5,
          -15,
          -25,
          -35,
          -45,
          -55,
          -65,
          -75,
          -85,
          -95,
          -105,
          -115,
          -125,
          -135,
          -145,
          -155,
          -165,
          -175,
          -185,
          -195,
          -205,
          -215
         ],
         "type": "linear",
         "zeroline": false
        }
       }
      }
     },
     "metadata": {},
     "output_type": "display_data"
    }
   ],
   "source": [
    "fig = ff.create_dendrogram(skills, labels=skills.index, orientation='left', color_threshold=0)\n",
    "fig.update_layout(height=700, width=1000, showlegend=False)\n",
    "fig.show()\n",
    "pio.write_image(fig, REPORT_PATH+'dendrogram.png', width=1000, height=700)"
   ]
  },
  {
   "cell_type": "code",
   "execution_count": 20,
   "metadata": {},
   "outputs": [],
   "source": [
    "encoded_df.drop('Country', axis=1).to_pickle('../data/processed/encoded_df.pkl')"
   ]
  }
 ],
 "metadata": {
  "kernelspec": {
   "display_name": "de",
   "language": "python",
   "name": "python3"
  },
  "language_info": {
   "codemirror_mode": {
    "name": "ipython",
    "version": 3
   },
   "file_extension": ".py",
   "mimetype": "text/x-python",
   "name": "python",
   "nbconvert_exporter": "python",
   "pygments_lexer": "ipython3",
   "version": "3.11.5"
  }
 },
 "nbformat": 4,
 "nbformat_minor": 2
}
